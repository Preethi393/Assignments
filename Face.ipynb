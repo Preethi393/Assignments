{
 "cells": [
  {
   "cell_type": "code",
   "execution_count": 1,
   "id": "85d4e856",
   "metadata": {
    "ExecuteTime": {
     "end_time": "2022-12-08T10:32:41.215434Z",
     "start_time": "2022-12-08T10:32:41.206853Z"
    }
   },
   "outputs": [],
   "source": [
    "import warnings\n",
    "warnings.filterwarnings('ignore')"
   ]
  },
  {
   "cell_type": "code",
   "execution_count": 2,
   "id": "48684a64",
   "metadata": {
    "ExecuteTime": {
     "end_time": "2022-12-08T10:32:43.097121Z",
     "start_time": "2022-12-08T10:32:41.219556Z"
    }
   },
   "outputs": [
    {
     "name": "stderr",
     "output_type": "stream",
     "text": [
      "2022-12-08 16:02:41.224822: I tensorflow/core/platform/cpu_feature_guard.cc:193] This TensorFlow binary is optimized with oneAPI Deep Neural Network Library (oneDNN) to use the following CPU instructions in performance-critical operations:  AVX2 FMA\n",
      "To enable them in other operations, rebuild TensorFlow with the appropriate compiler flags.\n",
      "2022-12-08 16:02:41.399430: W tensorflow/stream_executor/platform/default/dso_loader.cc:64] Could not load dynamic library 'libcudart.so.11.0'; dlerror: libcudart.so.11.0: cannot open shared object file: No such file or directory\n",
      "2022-12-08 16:02:41.399453: I tensorflow/stream_executor/cuda/cudart_stub.cc:29] Ignore above cudart dlerror if you do not have a GPU set up on your machine.\n",
      "2022-12-08 16:02:41.429841: E tensorflow/stream_executor/cuda/cuda_blas.cc:2981] Unable to register cuBLAS factory: Attempting to register factory for plugin cuBLAS when one has already been registered\n",
      "2022-12-08 16:02:42.188332: W tensorflow/stream_executor/platform/default/dso_loader.cc:64] Could not load dynamic library 'libnvinfer.so.7'; dlerror: libnvinfer.so.7: cannot open shared object file: No such file or directory\n",
      "2022-12-08 16:02:42.188415: W tensorflow/stream_executor/platform/default/dso_loader.cc:64] Could not load dynamic library 'libnvinfer_plugin.so.7'; dlerror: libnvinfer_plugin.so.7: cannot open shared object file: No such file or directory\n",
      "2022-12-08 16:02:42.188424: W tensorflow/compiler/tf2tensorrt/utils/py_utils.cc:38] TF-TRT Warning: Cannot dlopen some TensorRT libraries. If you would like to use Nvidia GPU with TensorRT, please make sure the missing libraries mentioned above are installed properly.\n"
     ]
    }
   ],
   "source": [
    "from keras.preprocessing.image import ImageDataGenerator"
   ]
  },
  {
   "cell_type": "code",
   "execution_count": 3,
   "id": "104900e2",
   "metadata": {
    "ExecuteTime": {
     "end_time": "2022-12-08T10:32:43.103622Z",
     "start_time": "2022-12-08T10:32:43.100004Z"
    }
   },
   "outputs": [],
   "source": [
    "train_data = ImageDataGenerator(horizontal_flip=True,\n",
    "                                vertical_flip=False,\n",
    "                                rescale=1./255,\n",
    "                                shear_range=0.2,\n",
    "                                zoom_range=0.2)"
   ]
  },
  {
   "cell_type": "code",
   "execution_count": 4,
   "id": "5805b2ff",
   "metadata": {
    "ExecuteTime": {
     "end_time": "2022-12-08T10:32:43.297281Z",
     "start_time": "2022-12-08T10:32:43.107792Z"
    }
   },
   "outputs": [
    {
     "name": "stdout",
     "output_type": "stream",
     "text": [
      "Found 10564 images belonging to 9 classes.\n"
     ]
    }
   ],
   "source": [
    "train = train_data.flow_from_directory(directory = r'/home/ubuntu//Desktop/Face_Recognition_DS_team/Train/',\n",
    "                                       target_size=(224, 224),\n",
    "                                       class_mode =\"categorical\")"
   ]
  },
  {
   "cell_type": "code",
   "execution_count": 5,
   "id": "614ecfeb",
   "metadata": {
    "ExecuteTime": {
     "end_time": "2022-12-08T10:32:43.313247Z",
     "start_time": "2022-12-08T10:32:43.301719Z"
    },
    "scrolled": true
   },
   "outputs": [
    {
     "data": {
      "text/plain": [
       "{'arun': 0,\n",
       " 'chaitanya': 1,\n",
       " 'laxmi': 2,\n",
       " 'navin': 3,\n",
       " 'papu': 4,\n",
       " 'priti': 5,\n",
       " 'rahul': 6,\n",
       " 'sangram': 7,\n",
       " 'sanket': 8}"
      ]
     },
     "execution_count": 5,
     "metadata": {},
     "output_type": "execute_result"
    }
   ],
   "source": [
    "train.class_indices"
   ]
  },
  {
   "cell_type": "markdown",
   "id": "fda66252",
   "metadata": {},
   "source": [
    "# InceptionV3"
   ]
  },
  {
   "cell_type": "code",
   "execution_count": 18,
   "id": "cd2afedc",
   "metadata": {
    "ExecuteTime": {
     "end_time": "2022-12-08T11:31:38.622862Z",
     "start_time": "2022-12-08T11:29:21.575514Z"
    }
   },
   "outputs": [
    {
     "name": "stdout",
     "output_type": "stream",
     "text": [
      "Downloading data from https://storage.googleapis.com/tensorflow/keras-applications/inception_v3/inception_v3_weights_tf_dim_ordering_tf_kernels_notop.h5\n",
      "87910968/87910968 [==============================] - 131s 1us/step\n"
     ]
    }
   ],
   "source": [
    "from tensorflow import keras\n",
    "\n",
    "base_model = keras.applications.InceptionV3(\n",
    "    weights='imagenet',\n",
    "    input_shape=(224, 224, 3),\n",
    "    include_top=False)"
   ]
  },
  {
   "cell_type": "code",
   "execution_count": 20,
   "id": "17f0eb9f",
   "metadata": {
    "ExecuteTime": {
     "end_time": "2022-12-08T11:32:44.680585Z",
     "start_time": "2022-12-08T11:32:44.671257Z"
    }
   },
   "outputs": [],
   "source": [
    "base_model.trainable = False"
   ]
  },
  {
   "cell_type": "code",
   "execution_count": 21,
   "id": "36c1b1f5",
   "metadata": {
    "ExecuteTime": {
     "end_time": "2022-12-08T11:32:46.093356Z",
     "start_time": "2022-12-08T11:32:45.550774Z"
    }
   },
   "outputs": [],
   "source": [
    "inputs = keras.Input(shape=(224, 224, 3))\n",
    "\n",
    "x = base_model(inputs, training=False)\n",
    "\n",
    "#pooling layer \n",
    "x = keras.layers.GlobalAveragePooling2D()(x)\n",
    "\n",
    "#final dense layer\n",
    "outputs = keras.layers.Dense(9, activation = 'softmax')(x)\n",
    "\n",
    "model = keras.Model(inputs,outputs)"
   ]
  },
  {
   "cell_type": "code",
   "execution_count": 22,
   "id": "bc5741a0",
   "metadata": {
    "ExecuteTime": {
     "end_time": "2022-12-08T11:32:46.590074Z",
     "start_time": "2022-12-08T11:32:46.558403Z"
    }
   },
   "outputs": [
    {
     "name": "stdout",
     "output_type": "stream",
     "text": [
      "Model: \"model_2\"\n",
      "_________________________________________________________________\n",
      " Layer (type)                Output Shape              Param #   \n",
      "=================================================================\n",
      " input_6 (InputLayer)        [(None, 224, 224, 3)]     0         \n",
      "                                                                 \n",
      " inception_v3 (Functional)   (None, 5, 5, 2048)        21802784  \n",
      "                                                                 \n",
      " global_average_pooling2d_2   (None, 2048)             0         \n",
      " (GlobalAveragePooling2D)                                        \n",
      "                                                                 \n",
      " dense_2 (Dense)             (None, 9)                 18441     \n",
      "                                                                 \n",
      "=================================================================\n",
      "Total params: 21,821,225\n",
      "Trainable params: 18,441\n",
      "Non-trainable params: 21,802,784\n",
      "_________________________________________________________________\n"
     ]
    }
   ],
   "source": [
    "model.summary()"
   ]
  },
  {
   "cell_type": "code",
   "execution_count": 23,
   "id": "8d05558e",
   "metadata": {
    "ExecuteTime": {
     "end_time": "2022-12-08T11:32:47.354798Z",
     "start_time": "2022-12-08T11:32:47.341902Z"
    }
   },
   "outputs": [],
   "source": [
    "model.compile(optimizer='adam',loss=['categorical_crossentropy'],metrics=['accuracy'])"
   ]
  },
  {
   "cell_type": "code",
   "execution_count": 24,
   "id": "d4a08a81",
   "metadata": {
    "ExecuteTime": {
     "end_time": "2022-12-08T11:52:50.705884Z",
     "start_time": "2022-12-08T11:33:17.880388Z"
    }
   },
   "outputs": [
    {
     "name": "stdout",
     "output_type": "stream",
     "text": [
      "Epoch 1/20\n",
      "20/20 [==============================] - 46s 2s/step - loss: 1.9385 - accuracy: 0.3313\n",
      "Epoch 2/20\n",
      "20/20 [==============================] - 46s 2s/step - loss: 1.2599 - accuracy: 0.6422\n",
      "Epoch 3/20\n",
      "20/20 [==============================] - 47s 2s/step - loss: 0.9837 - accuracy: 0.7563\n",
      "Epoch 4/20\n",
      "20/20 [==============================] - 44s 2s/step - loss: 0.7459 - accuracy: 0.8406\n",
      "Epoch 5/20\n",
      "20/20 [==============================] - 44s 2s/step - loss: 0.7253 - accuracy: 0.8172\n",
      "Epoch 6/20\n",
      "20/20 [==============================] - 45s 2s/step - loss: 0.5931 - accuracy: 0.8775\n",
      "Epoch 7/20\n",
      "20/20 [==============================] - 41s 2s/step - loss: 0.5484 - accuracy: 0.8703\n",
      "Epoch 8/20\n",
      "20/20 [==============================] - 45s 2s/step - loss: 0.4592 - accuracy: 0.9141\n",
      "Epoch 9/20\n",
      "20/20 [==============================] - 45s 2s/step - loss: 0.4079 - accuracy: 0.9219\n",
      "Epoch 10/20\n",
      "20/20 [==============================] - 45s 2s/step - loss: 0.4565 - accuracy: 0.9047\n",
      "Epoch 11/20\n",
      "20/20 [==============================] - 44s 2s/step - loss: 0.4271 - accuracy: 0.9172\n",
      "Epoch 12/20\n",
      "20/20 [==============================] - 45s 2s/step - loss: 0.3637 - accuracy: 0.9297\n",
      "Epoch 13/20\n",
      "20/20 [==============================] - 43s 2s/step - loss: 0.3479 - accuracy: 0.9232\n",
      "Epoch 14/20\n",
      "20/20 [==============================] - 45s 2s/step - loss: 0.3163 - accuracy: 0.9328\n",
      "Epoch 15/20\n",
      "20/20 [==============================] - 58s 3s/step - loss: 0.2760 - accuracy: 0.9563\n",
      "Epoch 16/20\n",
      "20/20 [==============================] - 83s 4s/step - loss: 0.2849 - accuracy: 0.9531\n",
      "Epoch 17/20\n",
      "20/20 [==============================] - 72s 4s/step - loss: 0.3010 - accuracy: 0.9391\n",
      "Epoch 18/20\n",
      "20/20 [==============================] - 79s 4s/step - loss: 0.2435 - accuracy: 0.9500\n",
      "Epoch 19/20\n",
      "20/20 [==============================] - 76s 4s/step - loss: 0.2296 - accuracy: 0.9656\n",
      "Epoch 20/20\n",
      "20/20 [==============================] - 45s 2s/step - loss: 0.2281 - accuracy: 0.9594\n",
      "CPU times: user 55min 19s, sys: 1min 13s, total: 56min 32s\n",
      "Wall time: 19min 32s\n"
     ]
    },
    {
     "data": {
      "text/plain": [
       "<keras.callbacks.History at 0x7f7c1e10a410>"
      ]
     },
     "execution_count": 24,
     "metadata": {},
     "output_type": "execute_result"
    }
   ],
   "source": [
    "%%time\n",
    "model.fit(x = train,epochs=20,steps_per_epoch = 20)"
   ]
  },
  {
   "cell_type": "code",
   "execution_count": null,
   "id": "010a7b1f",
   "metadata": {},
   "outputs": [],
   "source": []
  },
  {
   "cell_type": "code",
   "execution_count": null,
   "id": "d7c5a743",
   "metadata": {},
   "outputs": [],
   "source": []
  },
  {
   "cell_type": "code",
   "execution_count": null,
   "id": "2ca732dd",
   "metadata": {},
   "outputs": [],
   "source": []
  }
 ],
 "metadata": {
  "kernelspec": {
   "display_name": "Python 3 (ipykernel)",
   "language": "python",
   "name": "python3"
  },
  "language_info": {
   "codemirror_mode": {
    "name": "ipython",
    "version": 3
   },
   "file_extension": ".py",
   "mimetype": "text/x-python",
   "name": "python",
   "nbconvert_exporter": "python",
   "pygments_lexer": "ipython3",
   "version": "3.10.6"
  },
  "varInspector": {
   "cols": {
    "lenName": 16,
    "lenType": 16,
    "lenVar": 40
   },
   "kernels_config": {
    "python": {
     "delete_cmd_postfix": "",
     "delete_cmd_prefix": "del ",
     "library": "var_list.py",
     "varRefreshCmd": "print(var_dic_list())"
    },
    "r": {
     "delete_cmd_postfix": ") ",
     "delete_cmd_prefix": "rm(",
     "library": "var_list.r",
     "varRefreshCmd": "cat(var_dic_list()) "
    }
   },
   "types_to_exclude": [
    "module",
    "function",
    "builtin_function_or_method",
    "instance",
    "_Feature"
   ],
   "window_display": false
  }
 },
 "nbformat": 4,
 "nbformat_minor": 5
}
