{
 "cells": [
  {
   "cell_type": "code",
   "execution_count": 1,
   "id": "990e8bb8",
   "metadata": {
    "ExecuteTime": {
     "end_time": "2023-04-26T06:42:55.177585Z",
     "start_time": "2023-04-26T06:42:55.030448Z"
    }
   },
   "outputs": [],
   "source": [
    "import numpy as np"
   ]
  },
  {
   "cell_type": "code",
   "execution_count": 2,
   "id": "79a0d313",
   "metadata": {
    "ExecuteTime": {
     "end_time": "2023-04-26T06:42:55.195520Z",
     "start_time": "2023-04-26T06:42:55.181398Z"
    }
   },
   "outputs": [
    {
     "data": {
      "text/plain": [
       "[5, 3, 2, 0, 1, 2, 3, 8]"
      ]
     },
     "execution_count": 2,
     "metadata": {},
     "output_type": "execute_result"
    }
   ],
   "source": [
    "lst = ([52,54,55,57,58,59,60,65])\n",
    "k = 57\n",
    "lst1 =[]\n",
    "for i in lst:\n",
    "    f = k-i\n",
    "    lst1.append(f)\n",
    "    #print(f)\n",
    "res =  [abs(ele) for ele in lst1]\n",
    "res"
   ]
  },
  {
   "cell_type": "code",
   "execution_count": 3,
   "id": "33a7bf16",
   "metadata": {
    "ExecuteTime": {
     "end_time": "2023-04-26T06:42:55.204603Z",
     "start_time": "2023-04-26T06:42:55.198771Z"
    }
   },
   "outputs": [
    {
     "name": "stdout",
     "output_type": "stream",
     "text": [
      "The closest value to 58 is (57, 59)\n"
     ]
    }
   ],
   "source": [
    "lst = [52,54,55,57,58,59,60,65,70,80]\n",
    "k = 58\n",
    "arr = np.asarray(lst)\n",
    "i = (np.abs(arr-k)).argmin()\n",
    "value = arr[i-1], arr[i+1]\n",
    "print(f\"The closest value to {k} is\", value)"
   ]
  },
  {
   "cell_type": "code",
   "execution_count": 4,
   "id": "bf54126c",
   "metadata": {
    "ExecuteTime": {
     "end_time": "2023-04-26T06:43:02.141733Z",
     "start_time": "2023-04-26T06:42:55.208333Z"
    }
   },
   "outputs": [
    {
     "name": "stdout",
     "output_type": "stream",
     "text": [
      "Preethi\n",
      "G\n",
      "Hello Preethi G! You just delved into python.\n"
     ]
    }
   ],
   "source": [
    "def print_name(first, last):\n",
    "    print(\"Hello \"+ first, last+ \"! You just delved into python.\")\n",
    "    \n",
    "if __name__ == '__main__':\n",
    "    first_name = input()\n",
    "    last_name = input()\n",
    "    print_name(first_name, last_name)"
   ]
  },
  {
   "cell_type": "code",
   "execution_count": null,
   "id": "9034b8df",
   "metadata": {},
   "outputs": [],
   "source": []
  },
  {
   "cell_type": "code",
   "execution_count": 5,
   "id": "3885b33e",
   "metadata": {
    "ExecuteTime": {
     "end_time": "2023-04-26T06:43:16.661742Z",
     "start_time": "2023-04-26T06:43:02.157646Z"
    }
   },
   "outputs": [
    {
     "name": "stdout",
     "output_type": "stream",
     "text": [
      "Preethi\n",
      "3 i\n",
      "Preithi\n"
     ]
    }
   ],
   "source": [
    "def mutate_string(string, position, character):\n",
    "    n = list(string)\n",
    "    n[position] = character\n",
    "    string = \"\".join(n)\n",
    "    return string\n",
    "\n",
    "if __name__ == '__main__':\n",
    "    s = input()\n",
    "    i, c = input().split()\n",
    "    s_new = mutate_string(s, int(i), c)\n",
    "    print(s_new)"
   ]
  },
  {
   "cell_type": "code",
   "execution_count": 6,
   "id": "680cc324",
   "metadata": {
    "ExecuteTime": {
     "end_time": "2023-04-26T06:43:33.812323Z",
     "start_time": "2023-04-26T06:43:16.687437Z"
    }
   },
   "outputs": [
    {
     "name": "stdout",
     "output_type": "stream",
     "text": [
      "5\n",
      "5 8 7 9 1 2 3\n",
      "[1, 2, 3, 5, 7, 8, 9]\n",
      "8\n"
     ]
    }
   ],
   "source": [
    "if __name__ == '__main__':\n",
    "    n = int(input())\n",
    "    arr = map(int, input().split())\n",
    "    arr2 = list(set(arr))\n",
    "    arr2.sort()\n",
    "    print(arr2)\n",
    "    print(arr2[-2])  "
   ]
  },
  {
   "cell_type": "code",
   "execution_count": 15,
   "id": "f875b274",
   "metadata": {
    "ExecuteTime": {
     "end_time": "2023-04-26T06:59:54.098779Z",
     "start_time": "2023-04-26T06:59:54.091540Z"
    }
   },
   "outputs": [
    {
     "data": {
      "text/plain": [
       "['Crita', 15.6]"
      ]
     },
     "execution_count": 15,
     "metadata": {},
     "output_type": "execute_result"
    }
   ],
   "source": [
    "names = [['Berry', 20.0],['Harry',37.5],['Jenny',40.8],['Arita', 25.6],['Crita', 15.6]]\n",
    "# names.sort()\n",
    "# names.sort(key = lambda x: x[1])\n",
    "names = min(names, key = lambda x: x[1])\n",
    "names"
   ]
  },
  {
   "cell_type": "code",
   "execution_count": 30,
   "id": "d2abfcf7",
   "metadata": {
    "ExecuteTime": {
     "end_time": "2023-04-26T07:24:50.956228Z",
     "start_time": "2023-04-26T07:24:50.947692Z"
    }
   },
   "outputs": [
    {
     "name": "stdout",
     "output_type": "stream",
     "text": [
      "[['Berry', 20.0]]\n"
     ]
    }
   ],
   "source": [
    "name = [['Berry', 20.0],['Harry',37.5],['Jenny',40.8],['Arita', 25.6],['Crita', 15.6]]\n",
    "#ordering by value\n",
    "name.sort(key = lambda x: x[1])\n",
    "\n",
    "values_set = set()\n",
    "for value in name:\n",
    "    values_set.add(value[1])\n",
    "values_list = list(values_set)\n",
    "values_list.sort()\n",
    "values_list\n",
    "#getting second lowest values\n",
    "lowest_values = [lowest for lowest in name if lowest[1] == values_list[1]]\n",
    "print(lowest_values)"
   ]
  },
  {
   "cell_type": "code",
   "execution_count": 29,
   "id": "df0eb3b1",
   "metadata": {
    "ExecuteTime": {
     "end_time": "2023-04-26T07:24:23.484072Z",
     "start_time": "2023-04-26T07:24:23.476041Z"
    }
   },
   "outputs": [
    {
     "data": {
      "text/plain": [
       "[15.6, 20.0, 25.6, 37.5, 40.8]"
      ]
     },
     "execution_count": 29,
     "metadata": {},
     "output_type": "execute_result"
    }
   ],
   "source": [
    "values_list"
   ]
  },
  {
   "cell_type": "code",
   "execution_count": 33,
   "id": "aa6935d6",
   "metadata": {
    "ExecuteTime": {
     "end_time": "2023-04-26T10:23:23.208548Z",
     "start_time": "2023-04-26T10:22:57.470035Z"
    }
   },
   "outputs": [
    {
     "name": "stdout",
     "output_type": "stream",
     "text": [
      "3\n",
      "preethi 67 68 69\n",
      "arjun 70 50 45\n",
      "benny 45 55 65\n",
      "arjun\n",
      "55.00\n"
     ]
    }
   ],
   "source": [
    "n = int(input())\n",
    "x = [input().split() for i in range(n)]\n",
    "c = input()\n",
    "d = {}\n",
    "\n",
    "for i in range(n):\n",
    "    d[x[i][0]] = list(map(float,x[i][1:]))\n",
    "    \n",
    "print(f'{sum(d[c])/len(d[c]):.2f}')"
   ]
  },
  {
   "cell_type": "code",
   "execution_count": 34,
   "id": "b20c0ea5",
   "metadata": {
    "ExecuteTime": {
     "end_time": "2023-04-26T11:21:25.544406Z",
     "start_time": "2023-04-26T11:21:18.271452Z"
    }
   },
   "outputs": [
    {
     "name": "stdout",
     "output_type": "stream",
     "text": [
      "2\n",
      "3\n",
      "4\n",
      "5\n",
      "[[0, 0, 0], [0, 0, 1], [0, 0, 2], [0, 0, 3], [0, 0, 4], [0, 1, 0], [0, 1, 1], [0, 1, 2], [0, 1, 3], [0, 2, 0], [0, 2, 1], [0, 2, 2], [0, 2, 4], [0, 3, 0], [0, 3, 1], [0, 3, 3], [0, 3, 4], [1, 0, 0], [1, 0, 1], [1, 0, 2], [1, 0, 3], [1, 1, 0], [1, 1, 1], [1, 1, 2], [1, 1, 4], [1, 2, 0], [1, 2, 1], [1, 2, 3], [1, 2, 4], [1, 3, 0], [1, 3, 2], [1, 3, 3], [1, 3, 4], [2, 0, 0], [2, 0, 1], [2, 0, 2], [2, 0, 4], [2, 1, 0], [2, 1, 1], [2, 1, 3], [2, 1, 4], [2, 2, 0], [2, 2, 2], [2, 2, 3], [2, 2, 4], [2, 3, 1], [2, 3, 2], [2, 3, 3], [2, 3, 4]]\n"
     ]
    }
   ],
   "source": [
    "x = int(input())\n",
    "y = int(input())\n",
    "z = int(input())\n",
    "n = int(input())\n",
    "l = []\n",
    "for i in range(x+1):\n",
    "    for j in range(y+1):\n",
    "        for k in range(z+1):\n",
    "            if i+j+k == n:\n",
    "                continue\n",
    "            l.append([i,j,k])                \n",
    "print(l)"
   ]
  },
  {
   "cell_type": "code",
   "execution_count": 44,
   "id": "3f3e0524",
   "metadata": {
    "ExecuteTime": {
     "end_time": "2023-04-26T11:31:47.952743Z",
     "start_time": "2023-04-26T11:31:47.938808Z"
    }
   },
   "outputs": [
    {
     "name": "stdout",
     "output_type": "stream",
     "text": [
      "[[0, 0, 0], [0, 0, 1], [0, 0, 2], [0, 0, 3], [0, 1, 0], [0, 1, 1], [0, 1, 2], [0, 2, 0], [0, 2, 1], [0, 2, 3], [1, 0, 0], [1, 0, 1], [1, 0, 2], [1, 1, 0], [1, 1, 1], [1, 1, 3], [1, 2, 0], [1, 2, 2], [1, 2, 3]]\n"
     ]
    }
   ],
   "source": [
    "x = 1\n",
    "y = 2\n",
    "z = 3\n",
    "n = 4\n",
    "l = []\n",
    "for i in range(x+1):\n",
    "    for j in range(y+1):\n",
    "        for k in range(z+1):\n",
    "            if i+j+k == n:\n",
    "                continue\n",
    "            l.append([i,j,k])             \n",
    "print(l)"
   ]
  },
  {
   "cell_type": "code",
   "execution_count": null,
   "id": "231e3a7f",
   "metadata": {},
   "outputs": [],
   "source": []
  }
 ],
 "metadata": {
  "kernelspec": {
   "display_name": "Python 3 (ipykernel)",
   "language": "python",
   "name": "python3"
  },
  "language_info": {
   "codemirror_mode": {
    "name": "ipython",
    "version": 3
   },
   "file_extension": ".py",
   "mimetype": "text/x-python",
   "name": "python",
   "nbconvert_exporter": "python",
   "pygments_lexer": "ipython3",
   "version": "3.10.6"
  },
  "varInspector": {
   "cols": {
    "lenName": 16,
    "lenType": 16,
    "lenVar": 40
   },
   "kernels_config": {
    "python": {
     "delete_cmd_postfix": "",
     "delete_cmd_prefix": "del ",
     "library": "var_list.py",
     "varRefreshCmd": "print(var_dic_list())"
    },
    "r": {
     "delete_cmd_postfix": ") ",
     "delete_cmd_prefix": "rm(",
     "library": "var_list.r",
     "varRefreshCmd": "cat(var_dic_list()) "
    }
   },
   "types_to_exclude": [
    "module",
    "function",
    "builtin_function_or_method",
    "instance",
    "_Feature"
   ],
   "window_display": false
  }
 },
 "nbformat": 4,
 "nbformat_minor": 5
}
