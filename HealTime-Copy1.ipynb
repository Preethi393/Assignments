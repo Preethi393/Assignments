{
 "cells": [
  {
   "cell_type": "code",
   "execution_count": 1,
   "id": "e4bcea54",
   "metadata": {
    "ExecuteTime": {
     "end_time": "2023-04-10T07:25:22.210410Z",
     "start_time": "2023-04-10T07:25:21.631336Z"
    }
   },
   "outputs": [],
   "source": [
    "# Importing the libraries\n",
    "import pandas as pd\n",
    "import numpy as np\n",
    "import matplotlib.pyplot as plt"
   ]
  },
  {
   "cell_type": "code",
   "execution_count": 2,
   "id": "e7242cfc",
   "metadata": {
    "ExecuteTime": {
     "end_time": "2023-04-10T07:25:22.308535Z",
     "start_time": "2023-04-10T07:25:22.213963Z"
    }
   },
   "outputs": [
    {
     "data": {
      "text/html": [
       "<div>\n",
       "<style scoped>\n",
       "    .dataframe tbody tr th:only-of-type {\n",
       "        vertical-align: middle;\n",
       "    }\n",
       "\n",
       "    .dataframe tbody tr th {\n",
       "        vertical-align: top;\n",
       "    }\n",
       "\n",
       "    .dataframe thead th {\n",
       "        text-align: right;\n",
       "    }\n",
       "</style>\n",
       "<table border=\"1\" class=\"dataframe\">\n",
       "  <thead>\n",
       "    <tr style=\"text-align: right;\">\n",
       "      <th></th>\n",
       "      <th>subject</th>\n",
       "      <th>currentState</th>\n",
       "      <th>repeatCount</th>\n",
       "      <th>priority</th>\n",
       "      <th>healTime</th>\n",
       "      <th>alertClass</th>\n",
       "      <th>alertSubClass</th>\n",
       "      <th>alertCategory</th>\n",
       "      <th>alertSubCategory</th>\n",
       "      <th>alert_autoheal</th>\n",
       "    </tr>\n",
       "  </thead>\n",
       "  <tbody>\n",
       "    <tr>\n",
       "      <th>0</th>\n",
       "      <td>FORTINET-FORTIGATE-MIB::fgTrapWcApDown (1.3.6....</td>\n",
       "      <td>Ok</td>\n",
       "      <td>2</td>\n",
       "      <td>P3</td>\n",
       "      <td>60</td>\n",
       "      <td>Network</td>\n",
       "      <td>Wireless</td>\n",
       "      <td>Device Status</td>\n",
       "      <td>AP Down</td>\n",
       "      <td>True</td>\n",
       "    </tr>\n",
       "    <tr>\n",
       "      <th>1</th>\n",
       "      <td>Critical - Packet Loss=100% - 100 (&gt;= 100)</td>\n",
       "      <td>Ok</td>\n",
       "      <td>2</td>\n",
       "      <td>P0</td>\n",
       "      <td>60</td>\n",
       "      <td>Network</td>\n",
       "      <td>Firewall</td>\n",
       "      <td>Device Status</td>\n",
       "      <td>Device Down</td>\n",
       "      <td>True</td>\n",
       "    </tr>\n",
       "    <tr>\n",
       "      <th>2</th>\n",
       "      <td>Critical - Packet Loss=100% - 100 (&gt;= 100)</td>\n",
       "      <td>Ok</td>\n",
       "      <td>2</td>\n",
       "      <td>P0</td>\n",
       "      <td>180</td>\n",
       "      <td>Compute</td>\n",
       "      <td>Virtualization</td>\n",
       "      <td>Device Status</td>\n",
       "      <td>Device Down</td>\n",
       "      <td>True</td>\n",
       "    </tr>\n",
       "    <tr>\n",
       "      <th>3</th>\n",
       "      <td>SNMP request timeout on WC008_01.mpdnet.miami-...</td>\n",
       "      <td>Ok</td>\n",
       "      <td>2</td>\n",
       "      <td>P1</td>\n",
       "      <td>240</td>\n",
       "      <td>Network</td>\n",
       "      <td>Switch</td>\n",
       "      <td>Connectivity</td>\n",
       "      <td>Monitoring Failure</td>\n",
       "      <td>True</td>\n",
       "    </tr>\n",
       "    <tr>\n",
       "      <th>4</th>\n",
       "      <td>Critical - Packet Loss=100% - 100 (&gt;= 100)</td>\n",
       "      <td>Ok</td>\n",
       "      <td>2</td>\n",
       "      <td>P0</td>\n",
       "      <td>59</td>\n",
       "      <td>Compute</td>\n",
       "      <td>Operating System</td>\n",
       "      <td>Device Status</td>\n",
       "      <td>Device Down</td>\n",
       "      <td>True</td>\n",
       "    </tr>\n",
       "  </tbody>\n",
       "</table>\n",
       "</div>"
      ],
      "text/plain": [
       "                                             subject currentState  \\\n",
       "0  FORTINET-FORTIGATE-MIB::fgTrapWcApDown (1.3.6....           Ok   \n",
       "1         Critical - Packet Loss=100% - 100 (>= 100)           Ok   \n",
       "2         Critical - Packet Loss=100% - 100 (>= 100)           Ok   \n",
       "3  SNMP request timeout on WC008_01.mpdnet.miami-...           Ok   \n",
       "4         Critical - Packet Loss=100% - 100 (>= 100)           Ok   \n",
       "\n",
       "   repeatCount priority  healTime alertClass     alertSubClass  alertCategory  \\\n",
       "0            2       P3        60    Network          Wireless  Device Status   \n",
       "1            2       P0        60    Network          Firewall  Device Status   \n",
       "2            2       P0       180    Compute    Virtualization  Device Status   \n",
       "3            2       P1       240    Network            Switch   Connectivity   \n",
       "4            2       P0        59    Compute  Operating System  Device Status   \n",
       "\n",
       "     alertSubCategory  alert_autoheal  \n",
       "0             AP Down            True  \n",
       "1         Device Down            True  \n",
       "2         Device Down            True  \n",
       "3  Monitoring Failure            True  \n",
       "4         Device Down            True  "
      ]
     },
     "execution_count": 2,
     "metadata": {},
     "output_type": "execute_result"
    }
   ],
   "source": [
    "# Importin dataset\n",
    "df = pd.read_json(\"alert_data.json\")\n",
    "df.head()"
   ]
  },
  {
   "cell_type": "code",
   "execution_count": 3,
   "id": "a1bf3b7b",
   "metadata": {
    "ExecuteTime": {
     "end_time": "2023-04-10T07:25:22.322221Z",
     "start_time": "2023-04-10T07:25:22.310805Z"
    }
   },
   "outputs": [
    {
     "data": {
      "text/html": [
       "<div>\n",
       "<style scoped>\n",
       "    .dataframe tbody tr th:only-of-type {\n",
       "        vertical-align: middle;\n",
       "    }\n",
       "\n",
       "    .dataframe tbody tr th {\n",
       "        vertical-align: top;\n",
       "    }\n",
       "\n",
       "    .dataframe thead th {\n",
       "        text-align: right;\n",
       "    }\n",
       "</style>\n",
       "<table border=\"1\" class=\"dataframe\">\n",
       "  <thead>\n",
       "    <tr style=\"text-align: right;\">\n",
       "      <th></th>\n",
       "      <th>subject</th>\n",
       "      <th>currentState</th>\n",
       "      <th>repeatCount</th>\n",
       "      <th>priority</th>\n",
       "      <th>healTime</th>\n",
       "      <th>alertClass</th>\n",
       "      <th>alertSubClass</th>\n",
       "      <th>alertCategory</th>\n",
       "      <th>alertSubCategory</th>\n",
       "      <th>alert_autoheal</th>\n",
       "    </tr>\n",
       "  </thead>\n",
       "  <tbody>\n",
       "    <tr>\n",
       "      <th>9995</th>\n",
       "      <td>SNMP request timeout on WC008_01.mpdnet.miami-...</td>\n",
       "      <td>Ok</td>\n",
       "      <td>2</td>\n",
       "      <td>P1</td>\n",
       "      <td>240</td>\n",
       "      <td>Network</td>\n",
       "      <td>Switch</td>\n",
       "      <td>Connectivity</td>\n",
       "      <td>Monitoring Failure</td>\n",
       "      <td>True</td>\n",
       "    </tr>\n",
       "    <tr>\n",
       "      <th>9996</th>\n",
       "      <td>Multiple alerts on resource WC008_01.mpdnet.mi...</td>\n",
       "      <td>Ok</td>\n",
       "      <td>2</td>\n",
       "      <td>P1</td>\n",
       "      <td>240</td>\n",
       "      <td>Network</td>\n",
       "      <td>Switch</td>\n",
       "      <td>Connectivity</td>\n",
       "      <td>Monitoring Failure</td>\n",
       "      <td>True</td>\n",
       "    </tr>\n",
       "    <tr>\n",
       "      <th>9997</th>\n",
       "      <td>OpsRamp agent is offline</td>\n",
       "      <td>Ok</td>\n",
       "      <td>2</td>\n",
       "      <td>P0</td>\n",
       "      <td>1140</td>\n",
       "      <td>Compute</td>\n",
       "      <td>Operating System</td>\n",
       "      <td>Connectivity</td>\n",
       "      <td>Opsramp Cloud Connectivity</td>\n",
       "      <td>False</td>\n",
       "    </tr>\n",
       "    <tr>\n",
       "      <th>9998</th>\n",
       "      <td>[Cleared] cca02ris001.cc.nwncloud.com: cca02ri...</td>\n",
       "      <td>Ok</td>\n",
       "      <td>2</td>\n",
       "      <td>P0</td>\n",
       "      <td>58</td>\n",
       "      <td>Others</td>\n",
       "      <td>Others</td>\n",
       "      <td>Others</td>\n",
       "      <td>Others</td>\n",
       "      <td>True</td>\n",
       "    </tr>\n",
       "    <tr>\n",
       "      <th>9999</th>\n",
       "      <td>[Cleared] PSCPVLFIN1A12.NWNCC.LOCAL: PSCPVLFIN...</td>\n",
       "      <td>Ok</td>\n",
       "      <td>2</td>\n",
       "      <td>P0</td>\n",
       "      <td>58</td>\n",
       "      <td>Others</td>\n",
       "      <td>Others</td>\n",
       "      <td>Others</td>\n",
       "      <td>Others</td>\n",
       "      <td>True</td>\n",
       "    </tr>\n",
       "  </tbody>\n",
       "</table>\n",
       "</div>"
      ],
      "text/plain": [
       "                                                subject currentState  \\\n",
       "9995  SNMP request timeout on WC008_01.mpdnet.miami-...           Ok   \n",
       "9996  Multiple alerts on resource WC008_01.mpdnet.mi...           Ok   \n",
       "9997                           OpsRamp agent is offline           Ok   \n",
       "9998  [Cleared] cca02ris001.cc.nwncloud.com: cca02ri...           Ok   \n",
       "9999  [Cleared] PSCPVLFIN1A12.NWNCC.LOCAL: PSCPVLFIN...           Ok   \n",
       "\n",
       "      repeatCount priority  healTime alertClass     alertSubClass  \\\n",
       "9995            2       P1       240    Network            Switch   \n",
       "9996            2       P1       240    Network            Switch   \n",
       "9997            2       P0      1140    Compute  Operating System   \n",
       "9998            2       P0        58     Others            Others   \n",
       "9999            2       P0        58     Others            Others   \n",
       "\n",
       "     alertCategory            alertSubCategory  alert_autoheal  \n",
       "9995  Connectivity          Monitoring Failure            True  \n",
       "9996  Connectivity          Monitoring Failure            True  \n",
       "9997  Connectivity  Opsramp Cloud Connectivity           False  \n",
       "9998        Others                      Others            True  \n",
       "9999        Others                      Others            True  "
      ]
     },
     "execution_count": 3,
     "metadata": {},
     "output_type": "execute_result"
    }
   ],
   "source": [
    "df.tail()"
   ]
  },
  {
   "cell_type": "code",
   "execution_count": 4,
   "id": "56e3069a",
   "metadata": {
    "ExecuteTime": {
     "end_time": "2023-04-10T07:25:22.332605Z",
     "start_time": "2023-04-10T07:25:22.327083Z"
    }
   },
   "outputs": [
    {
     "data": {
      "text/plain": [
       "(10000, 10)"
      ]
     },
     "execution_count": 4,
     "metadata": {},
     "output_type": "execute_result"
    }
   ],
   "source": [
    "df.shape"
   ]
  },
  {
   "cell_type": "code",
   "execution_count": 5,
   "id": "48ac39e9",
   "metadata": {
    "ExecuteTime": {
     "end_time": "2023-04-10T07:25:22.342592Z",
     "start_time": "2023-04-10T07:25:22.334429Z"
    }
   },
   "outputs": [
    {
     "data": {
      "text/plain": [
       "subject             object\n",
       "currentState        object\n",
       "repeatCount          int64\n",
       "priority            object\n",
       "healTime             int64\n",
       "alertClass          object\n",
       "alertSubClass       object\n",
       "alertCategory       object\n",
       "alertSubCategory    object\n",
       "alert_autoheal        bool\n",
       "dtype: object"
      ]
     },
     "execution_count": 5,
     "metadata": {},
     "output_type": "execute_result"
    }
   ],
   "source": [
    "df.dtypes"
   ]
  },
  {
   "cell_type": "code",
   "execution_count": 6,
   "id": "adfc82a7",
   "metadata": {
    "ExecuteTime": {
     "end_time": "2023-04-10T07:25:22.379632Z",
     "start_time": "2023-04-10T07:25:22.345109Z"
    }
   },
   "outputs": [
    {
     "name": "stdout",
     "output_type": "stream",
     "text": [
      "<class 'pandas.core.frame.DataFrame'>\n",
      "RangeIndex: 10000 entries, 0 to 9999\n",
      "Data columns (total 10 columns):\n",
      " #   Column            Non-Null Count  Dtype \n",
      "---  ------            --------------  ----- \n",
      " 0   subject           10000 non-null  object\n",
      " 1   currentState      10000 non-null  object\n",
      " 2   repeatCount       10000 non-null  int64 \n",
      " 3   priority          10000 non-null  object\n",
      " 4   healTime          10000 non-null  int64 \n",
      " 5   alertClass        10000 non-null  object\n",
      " 6   alertSubClass     10000 non-null  object\n",
      " 7   alertCategory     10000 non-null  object\n",
      " 8   alertSubCategory  10000 non-null  object\n",
      " 9   alert_autoheal    10000 non-null  bool  \n",
      "dtypes: bool(1), int64(2), object(7)\n",
      "memory usage: 713.0+ KB\n"
     ]
    }
   ],
   "source": [
    "df.info()"
   ]
  },
  {
   "cell_type": "code",
   "execution_count": 7,
   "id": "b17995db",
   "metadata": {
    "ExecuteTime": {
     "end_time": "2023-04-10T07:25:22.419863Z",
     "start_time": "2023-04-10T07:25:22.383081Z"
    }
   },
   "outputs": [
    {
     "data": {
      "text/plain": [
       "subject             0\n",
       "currentState        0\n",
       "repeatCount         0\n",
       "priority            0\n",
       "healTime            0\n",
       "alertClass          0\n",
       "alertSubClass       0\n",
       "alertCategory       0\n",
       "alertSubCategory    0\n",
       "alert_autoheal      0\n",
       "dtype: int64"
      ]
     },
     "execution_count": 7,
     "metadata": {},
     "output_type": "execute_result"
    }
   ],
   "source": [
    "# Checking for null values\n",
    "df.isnull().sum()"
   ]
  },
  {
   "cell_type": "code",
   "execution_count": 8,
   "id": "8832ffca",
   "metadata": {
    "ExecuteTime": {
     "end_time": "2023-04-10T07:25:22.464395Z",
     "start_time": "2023-04-10T07:25:22.422090Z"
    }
   },
   "outputs": [
    {
     "data": {
      "text/html": [
       "<div>\n",
       "<style scoped>\n",
       "    .dataframe tbody tr th:only-of-type {\n",
       "        vertical-align: middle;\n",
       "    }\n",
       "\n",
       "    .dataframe tbody tr th {\n",
       "        vertical-align: top;\n",
       "    }\n",
       "\n",
       "    .dataframe thead th {\n",
       "        text-align: right;\n",
       "    }\n",
       "</style>\n",
       "<table border=\"1\" class=\"dataframe\">\n",
       "  <thead>\n",
       "    <tr style=\"text-align: right;\">\n",
       "      <th></th>\n",
       "      <th>subject</th>\n",
       "      <th>currentState</th>\n",
       "      <th>repeatCount</th>\n",
       "      <th>priority</th>\n",
       "      <th>healTime</th>\n",
       "      <th>alertClass</th>\n",
       "      <th>alertSubClass</th>\n",
       "      <th>alertCategory</th>\n",
       "      <th>alertSubCategory</th>\n",
       "      <th>alert_autoheal</th>\n",
       "    </tr>\n",
       "  </thead>\n",
       "  <tbody>\n",
       "    <tr>\n",
       "      <th>17</th>\n",
       "      <td>Critical. No process running with name 'httpd'</td>\n",
       "      <td>Ok</td>\n",
       "      <td>2</td>\n",
       "      <td>P2</td>\n",
       "      <td>600</td>\n",
       "      <td>Others</td>\n",
       "      <td>Others</td>\n",
       "      <td>Others</td>\n",
       "      <td>Others</td>\n",
       "      <td>True</td>\n",
       "    </tr>\n",
       "    <tr>\n",
       "      <th>18</th>\n",
       "      <td>Critical. No process running with name 'httpd'</td>\n",
       "      <td>Ok</td>\n",
       "      <td>2</td>\n",
       "      <td>P2</td>\n",
       "      <td>600</td>\n",
       "      <td>Others</td>\n",
       "      <td>Others</td>\n",
       "      <td>Others</td>\n",
       "      <td>Others</td>\n",
       "      <td>True</td>\n",
       "    </tr>\n",
       "    <tr>\n",
       "      <th>20</th>\n",
       "      <td>Critical. No process running with name 'httpd'</td>\n",
       "      <td>Ok</td>\n",
       "      <td>2</td>\n",
       "      <td>P2</td>\n",
       "      <td>600</td>\n",
       "      <td>Others</td>\n",
       "      <td>Others</td>\n",
       "      <td>Others</td>\n",
       "      <td>Others</td>\n",
       "      <td>True</td>\n",
       "    </tr>\n",
       "    <tr>\n",
       "      <th>22</th>\n",
       "      <td>FORTINET-FORTIGATE-MIB::fgTrapWcApDown (1.3.6....</td>\n",
       "      <td>Ok</td>\n",
       "      <td>2</td>\n",
       "      <td>P3</td>\n",
       "      <td>60</td>\n",
       "      <td>Network</td>\n",
       "      <td>Wireless</td>\n",
       "      <td>Device Status</td>\n",
       "      <td>AP Down</td>\n",
       "      <td>True</td>\n",
       "    </tr>\n",
       "    <tr>\n",
       "      <th>29</th>\n",
       "      <td>CPU Usage is 100.0%.</td>\n",
       "      <td>Ok</td>\n",
       "      <td>2</td>\n",
       "      <td>P2</td>\n",
       "      <td>600</td>\n",
       "      <td>Compute</td>\n",
       "      <td>Operating System</td>\n",
       "      <td>Device Health</td>\n",
       "      <td>CPU</td>\n",
       "      <td>True</td>\n",
       "    </tr>\n",
       "    <tr>\n",
       "      <th>...</th>\n",
       "      <td>...</td>\n",
       "      <td>...</td>\n",
       "      <td>...</td>\n",
       "      <td>...</td>\n",
       "      <td>...</td>\n",
       "      <td>...</td>\n",
       "      <td>...</td>\n",
       "      <td>...</td>\n",
       "      <td>...</td>\n",
       "      <td>...</td>\n",
       "    </tr>\n",
       "    <tr>\n",
       "      <th>9993</th>\n",
       "      <td>Attenuated Alert: FORTINET-FORTIGATE-MIB::fgTr...</td>\n",
       "      <td>Ok</td>\n",
       "      <td>3</td>\n",
       "      <td>P1</td>\n",
       "      <td>480</td>\n",
       "      <td>Network</td>\n",
       "      <td>Wireless</td>\n",
       "      <td>Device Status</td>\n",
       "      <td>AP Down</td>\n",
       "      <td>True</td>\n",
       "    </tr>\n",
       "    <tr>\n",
       "      <th>9994</th>\n",
       "      <td>[Cleared] hcs-west-emc-storage-monitor: We are...</td>\n",
       "      <td>Ok</td>\n",
       "      <td>2</td>\n",
       "      <td>P2</td>\n",
       "      <td>18</td>\n",
       "      <td>Others</td>\n",
       "      <td>Others</td>\n",
       "      <td>Others</td>\n",
       "      <td>Others</td>\n",
       "      <td>True</td>\n",
       "    </tr>\n",
       "    <tr>\n",
       "      <th>9995</th>\n",
       "      <td>SNMP request timeout on WC008_01.mpdnet.miami-...</td>\n",
       "      <td>Ok</td>\n",
       "      <td>2</td>\n",
       "      <td>P1</td>\n",
       "      <td>240</td>\n",
       "      <td>Network</td>\n",
       "      <td>Switch</td>\n",
       "      <td>Connectivity</td>\n",
       "      <td>Monitoring Failure</td>\n",
       "      <td>True</td>\n",
       "    </tr>\n",
       "    <tr>\n",
       "      <th>9996</th>\n",
       "      <td>Multiple alerts on resource WC008_01.mpdnet.mi...</td>\n",
       "      <td>Ok</td>\n",
       "      <td>2</td>\n",
       "      <td>P1</td>\n",
       "      <td>240</td>\n",
       "      <td>Network</td>\n",
       "      <td>Switch</td>\n",
       "      <td>Connectivity</td>\n",
       "      <td>Monitoring Failure</td>\n",
       "      <td>True</td>\n",
       "    </tr>\n",
       "    <tr>\n",
       "      <th>9997</th>\n",
       "      <td>OpsRamp agent is offline</td>\n",
       "      <td>Ok</td>\n",
       "      <td>2</td>\n",
       "      <td>P0</td>\n",
       "      <td>1140</td>\n",
       "      <td>Compute</td>\n",
       "      <td>Operating System</td>\n",
       "      <td>Connectivity</td>\n",
       "      <td>Opsramp Cloud Connectivity</td>\n",
       "      <td>False</td>\n",
       "    </tr>\n",
       "  </tbody>\n",
       "</table>\n",
       "<p>4762 rows × 10 columns</p>\n",
       "</div>"
      ],
      "text/plain": [
       "                                                subject currentState  \\\n",
       "17       Critical. No process running with name 'httpd'           Ok   \n",
       "18       Critical. No process running with name 'httpd'           Ok   \n",
       "20       Critical. No process running with name 'httpd'           Ok   \n",
       "22    FORTINET-FORTIGATE-MIB::fgTrapWcApDown (1.3.6....           Ok   \n",
       "29                                 CPU Usage is 100.0%.           Ok   \n",
       "...                                                 ...          ...   \n",
       "9993  Attenuated Alert: FORTINET-FORTIGATE-MIB::fgTr...           Ok   \n",
       "9994  [Cleared] hcs-west-emc-storage-monitor: We are...           Ok   \n",
       "9995  SNMP request timeout on WC008_01.mpdnet.miami-...           Ok   \n",
       "9996  Multiple alerts on resource WC008_01.mpdnet.mi...           Ok   \n",
       "9997                           OpsRamp agent is offline           Ok   \n",
       "\n",
       "      repeatCount priority  healTime alertClass     alertSubClass  \\\n",
       "17              2       P2       600     Others            Others   \n",
       "18              2       P2       600     Others            Others   \n",
       "20              2       P2       600     Others            Others   \n",
       "22              2       P3        60    Network          Wireless   \n",
       "29              2       P2       600    Compute  Operating System   \n",
       "...           ...      ...       ...        ...               ...   \n",
       "9993            3       P1       480    Network          Wireless   \n",
       "9994            2       P2        18     Others            Others   \n",
       "9995            2       P1       240    Network            Switch   \n",
       "9996            2       P1       240    Network            Switch   \n",
       "9997            2       P0      1140    Compute  Operating System   \n",
       "\n",
       "      alertCategory            alertSubCategory  alert_autoheal  \n",
       "17           Others                      Others            True  \n",
       "18           Others                      Others            True  \n",
       "20           Others                      Others            True  \n",
       "22    Device Status                     AP Down            True  \n",
       "29    Device Health                         CPU            True  \n",
       "...             ...                         ...             ...  \n",
       "9993  Device Status                     AP Down            True  \n",
       "9994         Others                      Others            True  \n",
       "9995   Connectivity          Monitoring Failure            True  \n",
       "9996   Connectivity          Monitoring Failure            True  \n",
       "9997   Connectivity  Opsramp Cloud Connectivity           False  \n",
       "\n",
       "[4762 rows x 10 columns]"
      ]
     },
     "execution_count": 8,
     "metadata": {},
     "output_type": "execute_result"
    }
   ],
   "source": [
    "# Count of duplicated rows\n",
    "df[df.duplicated()]"
   ]
  },
  {
   "cell_type": "code",
   "execution_count": 9,
   "id": "e73f898c",
   "metadata": {
    "ExecuteTime": {
     "end_time": "2023-04-10T07:25:22.497832Z",
     "start_time": "2023-04-10T07:25:22.466639Z"
    }
   },
   "outputs": [],
   "source": [
    "df.drop_duplicates(keep = 'first', inplace= True)"
   ]
  },
  {
   "cell_type": "code",
   "execution_count": 10,
   "id": "f9c1c099",
   "metadata": {
    "ExecuteTime": {
     "end_time": "2023-04-10T07:25:22.506766Z",
     "start_time": "2023-04-10T07:25:22.502847Z"
    }
   },
   "outputs": [
    {
     "data": {
      "text/plain": [
       "(5238, 10)"
      ]
     },
     "execution_count": 10,
     "metadata": {},
     "output_type": "execute_result"
    }
   ],
   "source": [
    "df.shape"
   ]
  },
  {
   "cell_type": "code",
   "execution_count": 11,
   "id": "cb07f1a3",
   "metadata": {
    "ExecuteTime": {
     "end_time": "2023-04-10T07:25:22.515333Z",
     "start_time": "2023-04-10T07:25:22.509127Z"
    }
   },
   "outputs": [],
   "source": [
    "df = df.drop(columns=['currentState','alert_autoheal'])"
   ]
  },
  {
   "cell_type": "code",
   "execution_count": 12,
   "id": "e7f32873",
   "metadata": {
    "ExecuteTime": {
     "end_time": "2023-04-10T07:25:22.534477Z",
     "start_time": "2023-04-10T07:25:22.517451Z"
    },
    "scrolled": false
   },
   "outputs": [
    {
     "data": {
      "text/html": [
       "<div>\n",
       "<style scoped>\n",
       "    .dataframe tbody tr th:only-of-type {\n",
       "        vertical-align: middle;\n",
       "    }\n",
       "\n",
       "    .dataframe tbody tr th {\n",
       "        vertical-align: top;\n",
       "    }\n",
       "\n",
       "    .dataframe thead th {\n",
       "        text-align: right;\n",
       "    }\n",
       "</style>\n",
       "<table border=\"1\" class=\"dataframe\">\n",
       "  <thead>\n",
       "    <tr style=\"text-align: right;\">\n",
       "      <th></th>\n",
       "      <th>subject</th>\n",
       "      <th>repeatCount</th>\n",
       "      <th>priority</th>\n",
       "      <th>healTime</th>\n",
       "      <th>alertClass</th>\n",
       "      <th>alertSubClass</th>\n",
       "      <th>alertCategory</th>\n",
       "      <th>alertSubCategory</th>\n",
       "    </tr>\n",
       "  </thead>\n",
       "  <tbody>\n",
       "    <tr>\n",
       "      <th>0</th>\n",
       "      <td>FORTINET-FORTIGATE-MIB::fgTrapWcApDown (1.3.6....</td>\n",
       "      <td>2</td>\n",
       "      <td>P3</td>\n",
       "      <td>60</td>\n",
       "      <td>Network</td>\n",
       "      <td>Wireless</td>\n",
       "      <td>Device Status</td>\n",
       "      <td>AP Down</td>\n",
       "    </tr>\n",
       "    <tr>\n",
       "      <th>1</th>\n",
       "      <td>Critical - Packet Loss=100% - 100 (&gt;= 100)</td>\n",
       "      <td>2</td>\n",
       "      <td>P0</td>\n",
       "      <td>60</td>\n",
       "      <td>Network</td>\n",
       "      <td>Firewall</td>\n",
       "      <td>Device Status</td>\n",
       "      <td>Device Down</td>\n",
       "    </tr>\n",
       "    <tr>\n",
       "      <th>2</th>\n",
       "      <td>Critical - Packet Loss=100% - 100 (&gt;= 100)</td>\n",
       "      <td>2</td>\n",
       "      <td>P0</td>\n",
       "      <td>180</td>\n",
       "      <td>Compute</td>\n",
       "      <td>Virtualization</td>\n",
       "      <td>Device Status</td>\n",
       "      <td>Device Down</td>\n",
       "    </tr>\n",
       "    <tr>\n",
       "      <th>3</th>\n",
       "      <td>SNMP request timeout on WC008_01.mpdnet.miami-...</td>\n",
       "      <td>2</td>\n",
       "      <td>P1</td>\n",
       "      <td>240</td>\n",
       "      <td>Network</td>\n",
       "      <td>Switch</td>\n",
       "      <td>Connectivity</td>\n",
       "      <td>Monitoring Failure</td>\n",
       "    </tr>\n",
       "    <tr>\n",
       "      <th>4</th>\n",
       "      <td>Critical - Packet Loss=100% - 100 (&gt;= 100)</td>\n",
       "      <td>2</td>\n",
       "      <td>P0</td>\n",
       "      <td>59</td>\n",
       "      <td>Compute</td>\n",
       "      <td>Operating System</td>\n",
       "      <td>Device Status</td>\n",
       "      <td>Device Down</td>\n",
       "    </tr>\n",
       "  </tbody>\n",
       "</table>\n",
       "</div>"
      ],
      "text/plain": [
       "                                             subject  repeatCount priority  \\\n",
       "0  FORTINET-FORTIGATE-MIB::fgTrapWcApDown (1.3.6....            2       P3   \n",
       "1         Critical - Packet Loss=100% - 100 (>= 100)            2       P0   \n",
       "2         Critical - Packet Loss=100% - 100 (>= 100)            2       P0   \n",
       "3  SNMP request timeout on WC008_01.mpdnet.miami-...            2       P1   \n",
       "4         Critical - Packet Loss=100% - 100 (>= 100)            2       P0   \n",
       "\n",
       "   healTime alertClass     alertSubClass  alertCategory    alertSubCategory  \n",
       "0        60    Network          Wireless  Device Status             AP Down  \n",
       "1        60    Network          Firewall  Device Status         Device Down  \n",
       "2       180    Compute    Virtualization  Device Status         Device Down  \n",
       "3       240    Network            Switch   Connectivity  Monitoring Failure  \n",
       "4        59    Compute  Operating System  Device Status         Device Down  "
      ]
     },
     "execution_count": 12,
     "metadata": {},
     "output_type": "execute_result"
    }
   ],
   "source": [
    "df.head()"
   ]
  },
  {
   "cell_type": "code",
   "execution_count": 13,
   "id": "6c524b4e",
   "metadata": {
    "ExecuteTime": {
     "end_time": "2023-04-10T07:25:22.546477Z",
     "start_time": "2023-04-10T07:25:22.537961Z"
    }
   },
   "outputs": [
    {
     "data": {
      "text/plain": [
       "P1    2323\n",
       "P2    1627\n",
       "P0     962\n",
       "P3     326\n",
       "Name: priority, dtype: int64"
      ]
     },
     "execution_count": 13,
     "metadata": {},
     "output_type": "execute_result"
    }
   ],
   "source": [
    "# Check for value counts\n",
    "df['priority'].value_counts()"
   ]
  },
  {
   "cell_type": "code",
   "execution_count": 14,
   "id": "1e9ed7a5",
   "metadata": {
    "ExecuteTime": {
     "end_time": "2023-04-10T07:25:22.558888Z",
     "start_time": "2023-04-10T07:25:22.549370Z"
    }
   },
   "outputs": [
    {
     "data": {
      "text/plain": [
       "Network          1671\n",
       "Others           1575\n",
       "Compute           962\n",
       "Application       657\n",
       "Environment       109\n",
       "Data              105\n",
       "Cloud              54\n",
       "Communication      53\n",
       "Tools              52\n",
       "Name: alertClass, dtype: int64"
      ]
     },
     "execution_count": 14,
     "metadata": {},
     "output_type": "execute_result"
    }
   ],
   "source": [
    "df['alertClass'].value_counts()"
   ]
  },
  {
   "cell_type": "code",
   "execution_count": 15,
   "id": "8e8ef47a",
   "metadata": {
    "ExecuteTime": {
     "end_time": "2023-04-10T07:25:22.574784Z",
     "start_time": "2023-04-10T07:25:22.561622Z"
    }
   },
   "outputs": [
    {
     "data": {
      "text/plain": [
       "Others                     1575\n",
       "Operating System            765\n",
       "Switch                      749\n",
       "Web Service                 366\n",
       "Wireless                    342\n",
       "Firewall                    316\n",
       "Third Party Application     243\n",
       "Router                      218\n",
       "Virtualization              189\n",
       "Power                       109\n",
       "Infra Application            77\n",
       "Monitoring                   75\n",
       "Backup                       52\n",
       "Voice                        51\n",
       "Database                     35\n",
       "Generic Device               30\n",
       "Storage                      18\n",
       "SDWAN                        14\n",
       "Hardware                      8\n",
       "Cloud Instance                4\n",
       "Collaboration                 2\n",
       "Name: alertSubClass, dtype: int64"
      ]
     },
     "execution_count": 15,
     "metadata": {},
     "output_type": "execute_result"
    }
   ],
   "source": [
    "df['alertSubClass'].value_counts()"
   ]
  },
  {
   "cell_type": "code",
   "execution_count": 16,
   "id": "010364ed",
   "metadata": {
    "ExecuteTime": {
     "end_time": "2023-04-10T07:25:22.589420Z",
     "start_time": "2023-04-10T07:25:22.578519Z"
    }
   },
   "outputs": [
    {
     "data": {
      "text/plain": [
       "Others                1575\n",
       "Device Status         1138\n",
       "Device Health          814\n",
       "Application Health     638\n",
       "Connectivity           511\n",
       "Network Interface      303\n",
       "Application Status     226\n",
       "Device Management       30\n",
       "VOIP Link                2\n",
       "Resource Status          1\n",
       "Name: alertCategory, dtype: int64"
      ]
     },
     "execution_count": 16,
     "metadata": {},
     "output_type": "execute_result"
    }
   ],
   "source": [
    "df['alertCategory'].value_counts()"
   ]
  },
  {
   "cell_type": "code",
   "execution_count": 17,
   "id": "51ed6b42",
   "metadata": {
    "ExecuteTime": {
     "end_time": "2023-04-10T07:25:22.604646Z",
     "start_time": "2023-04-10T07:25:22.593571Z"
    },
    "scrolled": true
   },
   "outputs": [
    {
     "data": {
      "text/plain": [
       "Others                             1575\n",
       "Device Down                         652\n",
       "Monitoring Failure                  310\n",
       "CPU                                 252\n",
       "Third Party Application Service     243\n",
       "                                   ... \n",
       "Management Connectivity               1\n",
       "Resource Down                         1\n",
       "High Availability                     1\n",
       "Exchange - Mailflow                   1\n",
       "Opsramp Gateway Status                1\n",
       "Name: alertSubCategory, Length: 69, dtype: int64"
      ]
     },
     "execution_count": 17,
     "metadata": {},
     "output_type": "execute_result"
    }
   ],
   "source": [
    "df['alertSubCategory'].value_counts()"
   ]
  },
  {
   "cell_type": "code",
   "execution_count": 19,
   "id": "a90c3774",
   "metadata": {
    "ExecuteTime": {
     "end_time": "2023-04-10T07:25:42.208141Z",
     "start_time": "2023-04-10T07:25:41.736723Z"
    }
   },
   "outputs": [],
   "source": [
    "from scipy import stats"
   ]
  },
  {
   "cell_type": "code",
   "execution_count": 22,
   "id": "83e47e7f",
   "metadata": {
    "ExecuteTime": {
     "end_time": "2023-04-10T07:31:53.889278Z",
     "start_time": "2023-04-10T07:31:53.875576Z"
    }
   },
   "outputs": [
    {
     "name": "stdout",
     "output_type": "stream",
     "text": [
      "HealTime at 95% confidence interval is: [-12046.5082  17522.5575]\n"
     ]
    }
   ],
   "source": [
    "df_ci = stats.norm.interval(0.95,\n",
    "loc = df.healTime.mean(),\n",
    "scale = df.healTime.std())\n",
    "print( 'HealTime at 95% confidence interval is:', np.round(df_ci, 4))"
   ]
  },
  {
   "cell_type": "code",
   "execution_count": null,
   "id": "a95f81eb",
   "metadata": {},
   "outputs": [],
   "source": [
    "df[['col1', 'col2', 'col3']].apply(lambda s: s.map(df['target'].groupby(s).mean()))\n"
   ]
  },
  {
   "cell_type": "code",
   "execution_count": 18,
   "id": "a4757221",
   "metadata": {
    "ExecuteTime": {
     "end_time": "2023-04-10T06:17:21.029448Z",
     "start_time": "2023-04-10T06:17:20.984645Z"
    }
   },
   "outputs": [
    {
     "data": {
      "text/html": [
       "<div>\n",
       "<style scoped>\n",
       "    .dataframe tbody tr th:only-of-type {\n",
       "        vertical-align: middle;\n",
       "    }\n",
       "\n",
       "    .dataframe tbody tr th {\n",
       "        vertical-align: top;\n",
       "    }\n",
       "\n",
       "    .dataframe thead th {\n",
       "        text-align: right;\n",
       "    }\n",
       "</style>\n",
       "<table border=\"1\" class=\"dataframe\">\n",
       "  <thead>\n",
       "    <tr style=\"text-align: right;\">\n",
       "      <th></th>\n",
       "      <th>priority</th>\n",
       "      <th>alertClass</th>\n",
       "      <th>alertSubClass</th>\n",
       "      <th>alertCategory</th>\n",
       "      <th>alertSubCategory</th>\n",
       "    </tr>\n",
       "  </thead>\n",
       "  <tbody>\n",
       "    <tr>\n",
       "      <th>0</th>\n",
       "      <td>2256.760736</td>\n",
       "      <td>2247.046679</td>\n",
       "      <td>1928.438596</td>\n",
       "      <td>1851.433216</td>\n",
       "      <td>2196.622407</td>\n",
       "    </tr>\n",
       "    <tr>\n",
       "      <th>1</th>\n",
       "      <td>2403.077963</td>\n",
       "      <td>2247.046679</td>\n",
       "      <td>2745.392405</td>\n",
       "      <td>1851.433216</td>\n",
       "      <td>1823.964724</td>\n",
       "    </tr>\n",
       "    <tr>\n",
       "      <th>2</th>\n",
       "      <td>2403.077963</td>\n",
       "      <td>3633.429314</td>\n",
       "      <td>2567.925926</td>\n",
       "      <td>1851.433216</td>\n",
       "      <td>1823.964724</td>\n",
       "    </tr>\n",
       "    <tr>\n",
       "      <th>3</th>\n",
       "      <td>2378.498924</td>\n",
       "      <td>2247.046679</td>\n",
       "      <td>1936.898531</td>\n",
       "      <td>3008.651663</td>\n",
       "      <td>2159.516129</td>\n",
       "    </tr>\n",
       "    <tr>\n",
       "      <th>4</th>\n",
       "      <td>2403.077963</td>\n",
       "      <td>3633.429314</td>\n",
       "      <td>3901.020915</td>\n",
       "      <td>1851.433216</td>\n",
       "      <td>1823.964724</td>\n",
       "    </tr>\n",
       "    <tr>\n",
       "      <th>...</th>\n",
       "      <td>...</td>\n",
       "      <td>...</td>\n",
       "      <td>...</td>\n",
       "      <td>...</td>\n",
       "      <td>...</td>\n",
       "    </tr>\n",
       "    <tr>\n",
       "      <th>9989</th>\n",
       "      <td>2403.077963</td>\n",
       "      <td>2247.046679</td>\n",
       "      <td>2745.392405</td>\n",
       "      <td>1851.433216</td>\n",
       "      <td>1823.964724</td>\n",
       "    </tr>\n",
       "    <tr>\n",
       "      <th>9991</th>\n",
       "      <td>2403.077963</td>\n",
       "      <td>2247.046679</td>\n",
       "      <td>1928.438596</td>\n",
       "      <td>1851.433216</td>\n",
       "      <td>2196.622407</td>\n",
       "    </tr>\n",
       "    <tr>\n",
       "      <th>9992</th>\n",
       "      <td>2403.077963</td>\n",
       "      <td>2247.046679</td>\n",
       "      <td>1928.438596</td>\n",
       "      <td>1851.433216</td>\n",
       "      <td>2196.622407</td>\n",
       "    </tr>\n",
       "    <tr>\n",
       "      <th>9998</th>\n",
       "      <td>2403.077963</td>\n",
       "      <td>3401.620317</td>\n",
       "      <td>3401.620317</td>\n",
       "      <td>3401.620317</td>\n",
       "      <td>3401.620317</td>\n",
       "    </tr>\n",
       "    <tr>\n",
       "      <th>9999</th>\n",
       "      <td>2403.077963</td>\n",
       "      <td>3401.620317</td>\n",
       "      <td>3401.620317</td>\n",
       "      <td>3401.620317</td>\n",
       "      <td>3401.620317</td>\n",
       "    </tr>\n",
       "  </tbody>\n",
       "</table>\n",
       "<p>5238 rows × 5 columns</p>\n",
       "</div>"
      ],
      "text/plain": [
       "         priority   alertClass  alertSubClass  alertCategory  alertSubCategory\n",
       "0     2256.760736  2247.046679    1928.438596    1851.433216       2196.622407\n",
       "1     2403.077963  2247.046679    2745.392405    1851.433216       1823.964724\n",
       "2     2403.077963  3633.429314    2567.925926    1851.433216       1823.964724\n",
       "3     2378.498924  2247.046679    1936.898531    3008.651663       2159.516129\n",
       "4     2403.077963  3633.429314    3901.020915    1851.433216       1823.964724\n",
       "...           ...          ...            ...            ...               ...\n",
       "9989  2403.077963  2247.046679    2745.392405    1851.433216       1823.964724\n",
       "9991  2403.077963  2247.046679    1928.438596    1851.433216       2196.622407\n",
       "9992  2403.077963  2247.046679    1928.438596    1851.433216       2196.622407\n",
       "9998  2403.077963  3401.620317    3401.620317    3401.620317       3401.620317\n",
       "9999  2403.077963  3401.620317    3401.620317    3401.620317       3401.620317\n",
       "\n",
       "[5238 rows x 5 columns]"
      ]
     },
     "execution_count": 18,
     "metadata": {},
     "output_type": "execute_result"
    }
   ],
   "source": [
    "df[['priority', 'alertClass', 'alertSubClass', 'alertCategory','alertSubCategory']].apply(lambda s: s.map(df['healTime'].groupby(s).mean())).assign(target=df['target'])"
   ]
  },
  {
   "cell_type": "code",
   "execution_count": null,
   "id": "66d68157",
   "metadata": {},
   "outputs": [],
   "source": []
  },
  {
   "cell_type": "code",
   "execution_count": null,
   "id": "2b3fb789",
   "metadata": {},
   "outputs": [],
   "source": []
  },
  {
   "cell_type": "code",
   "execution_count": null,
   "id": "371bee5b",
   "metadata": {},
   "outputs": [],
   "source": []
  },
  {
   "cell_type": "code",
   "execution_count": null,
   "id": "71197503",
   "metadata": {},
   "outputs": [],
   "source": []
  },
  {
   "cell_type": "code",
   "execution_count": null,
   "id": "0af1f57a",
   "metadata": {},
   "outputs": [],
   "source": []
  },
  {
   "cell_type": "code",
   "execution_count": null,
   "id": "4940394c",
   "metadata": {},
   "outputs": [],
   "source": []
  },
  {
   "cell_type": "code",
   "execution_count": 93,
   "id": "6c40c96b",
   "metadata": {
    "ExecuteTime": {
     "end_time": "2023-04-10T05:52:58.274923Z",
     "start_time": "2023-04-10T05:52:58.270443Z"
    }
   },
   "outputs": [],
   "source": [
    "# from sklearn.preprocessing import LabelEncoder"
   ]
  },
  {
   "cell_type": "code",
   "execution_count": 94,
   "id": "9089cb18",
   "metadata": {
    "ExecuteTime": {
     "end_time": "2023-04-10T05:52:58.319085Z",
     "start_time": "2023-04-10T05:52:58.278536Z"
    },
    "scrolled": true
   },
   "outputs": [
    {
     "data": {
      "text/html": [
       "<div>\n",
       "<style scoped>\n",
       "    .dataframe tbody tr th:only-of-type {\n",
       "        vertical-align: middle;\n",
       "    }\n",
       "\n",
       "    .dataframe tbody tr th {\n",
       "        vertical-align: top;\n",
       "    }\n",
       "\n",
       "    .dataframe thead th {\n",
       "        text-align: right;\n",
       "    }\n",
       "</style>\n",
       "<table border=\"1\" class=\"dataframe\">\n",
       "  <thead>\n",
       "    <tr style=\"text-align: right;\">\n",
       "      <th></th>\n",
       "      <th>subject</th>\n",
       "      <th>repeatCount</th>\n",
       "      <th>priority</th>\n",
       "      <th>healTime</th>\n",
       "      <th>alertClass</th>\n",
       "      <th>alertSubClass</th>\n",
       "      <th>alertCategory</th>\n",
       "      <th>alertSubCategory</th>\n",
       "    </tr>\n",
       "  </thead>\n",
       "  <tbody>\n",
       "    <tr>\n",
       "      <th>0</th>\n",
       "      <td>FORTINET-FORTIGATE-MIB::fgTrapWcApDown (1.3.6....</td>\n",
       "      <td>2</td>\n",
       "      <td>3</td>\n",
       "      <td>60</td>\n",
       "      <td>6</td>\n",
       "      <td>20</td>\n",
       "      <td>5</td>\n",
       "      <td>2</td>\n",
       "    </tr>\n",
       "    <tr>\n",
       "      <th>1</th>\n",
       "      <td>Critical - Packet Loss=100% - 100 (&gt;= 100)</td>\n",
       "      <td>2</td>\n",
       "      <td>0</td>\n",
       "      <td>60</td>\n",
       "      <td>6</td>\n",
       "      <td>4</td>\n",
       "      <td>5</td>\n",
       "      <td>18</td>\n",
       "    </tr>\n",
       "    <tr>\n",
       "      <th>2</th>\n",
       "      <td>Critical - Packet Loss=100% - 100 (&gt;= 100)</td>\n",
       "      <td>2</td>\n",
       "      <td>0</td>\n",
       "      <td>180</td>\n",
       "      <td>3</td>\n",
       "      <td>17</td>\n",
       "      <td>5</td>\n",
       "      <td>18</td>\n",
       "    </tr>\n",
       "    <tr>\n",
       "      <th>3</th>\n",
       "      <td>SNMP request timeout on WC008_01.mpdnet.miami-...</td>\n",
       "      <td>2</td>\n",
       "      <td>1</td>\n",
       "      <td>240</td>\n",
       "      <td>6</td>\n",
       "      <td>15</td>\n",
       "      <td>2</td>\n",
       "      <td>38</td>\n",
       "    </tr>\n",
       "    <tr>\n",
       "      <th>4</th>\n",
       "      <td>Critical - Packet Loss=100% - 100 (&gt;= 100)</td>\n",
       "      <td>2</td>\n",
       "      <td>0</td>\n",
       "      <td>59</td>\n",
       "      <td>3</td>\n",
       "      <td>9</td>\n",
       "      <td>5</td>\n",
       "      <td>18</td>\n",
       "    </tr>\n",
       "  </tbody>\n",
       "</table>\n",
       "</div>"
      ],
      "text/plain": [
       "                                             subject  repeatCount  priority  \\\n",
       "0  FORTINET-FORTIGATE-MIB::fgTrapWcApDown (1.3.6....            2         3   \n",
       "1         Critical - Packet Loss=100% - 100 (>= 100)            2         0   \n",
       "2         Critical - Packet Loss=100% - 100 (>= 100)            2         0   \n",
       "3  SNMP request timeout on WC008_01.mpdnet.miami-...            2         1   \n",
       "4         Critical - Packet Loss=100% - 100 (>= 100)            2         0   \n",
       "\n",
       "   healTime  alertClass  alertSubClass  alertCategory  alertSubCategory  \n",
       "0        60           6             20              5                 2  \n",
       "1        60           6              4              5                18  \n",
       "2       180           3             17              5                18  \n",
       "3       240           6             15              2                38  \n",
       "4        59           3              9              5                18  "
      ]
     },
     "execution_count": 94,
     "metadata": {},
     "output_type": "execute_result"
    }
   ],
   "source": [
    "# cols = ['priority', 'alertClass', 'alertSubClass', 'alertCategory','alertSubCategory']\n",
    "\n",
    "# df[cols] = df[cols].apply(LabelEncoder().fit_transform)\n",
    "\n",
    "# df.head()"
   ]
  },
  {
   "cell_type": "code",
   "execution_count": 95,
   "id": "1d9ce35a",
   "metadata": {
    "ExecuteTime": {
     "end_time": "2023-04-10T05:52:58.336320Z",
     "start_time": "2023-04-10T05:52:58.322444Z"
    }
   },
   "outputs": [
    {
     "data": {
      "text/html": [
       "<div>\n",
       "<style scoped>\n",
       "    .dataframe tbody tr th:only-of-type {\n",
       "        vertical-align: middle;\n",
       "    }\n",
       "\n",
       "    .dataframe tbody tr th {\n",
       "        vertical-align: top;\n",
       "    }\n",
       "\n",
       "    .dataframe thead th {\n",
       "        text-align: right;\n",
       "    }\n",
       "</style>\n",
       "<table border=\"1\" class=\"dataframe\">\n",
       "  <thead>\n",
       "    <tr style=\"text-align: right;\">\n",
       "      <th></th>\n",
       "      <th>subject</th>\n",
       "      <th>repeatCount</th>\n",
       "      <th>priority</th>\n",
       "      <th>healTime</th>\n",
       "      <th>alertClass</th>\n",
       "      <th>alertSubClass</th>\n",
       "      <th>alertCategory</th>\n",
       "      <th>alertSubCategory</th>\n",
       "    </tr>\n",
       "  </thead>\n",
       "  <tbody>\n",
       "    <tr>\n",
       "      <th>0</th>\n",
       "      <td>FORTINET-FORTIGATE-MIB::fgTrapWcApDown (1.3.6....</td>\n",
       "      <td>2</td>\n",
       "      <td>3</td>\n",
       "      <td>60</td>\n",
       "      <td>6</td>\n",
       "      <td>20</td>\n",
       "      <td>5</td>\n",
       "      <td>2</td>\n",
       "    </tr>\n",
       "    <tr>\n",
       "      <th>1</th>\n",
       "      <td>Critical - Packet Loss=100% - 100 (&gt;= 100)</td>\n",
       "      <td>2</td>\n",
       "      <td>0</td>\n",
       "      <td>60</td>\n",
       "      <td>6</td>\n",
       "      <td>4</td>\n",
       "      <td>5</td>\n",
       "      <td>18</td>\n",
       "    </tr>\n",
       "    <tr>\n",
       "      <th>2</th>\n",
       "      <td>Critical - Packet Loss=100% - 100 (&gt;= 100)</td>\n",
       "      <td>2</td>\n",
       "      <td>0</td>\n",
       "      <td>180</td>\n",
       "      <td>3</td>\n",
       "      <td>17</td>\n",
       "      <td>5</td>\n",
       "      <td>18</td>\n",
       "    </tr>\n",
       "    <tr>\n",
       "      <th>3</th>\n",
       "      <td>SNMP request timeout on WC008_01.mpdnet.miami-...</td>\n",
       "      <td>2</td>\n",
       "      <td>1</td>\n",
       "      <td>240</td>\n",
       "      <td>6</td>\n",
       "      <td>15</td>\n",
       "      <td>2</td>\n",
       "      <td>38</td>\n",
       "    </tr>\n",
       "    <tr>\n",
       "      <th>4</th>\n",
       "      <td>Critical - Packet Loss=100% - 100 (&gt;= 100)</td>\n",
       "      <td>2</td>\n",
       "      <td>0</td>\n",
       "      <td>59</td>\n",
       "      <td>3</td>\n",
       "      <td>9</td>\n",
       "      <td>5</td>\n",
       "      <td>18</td>\n",
       "    </tr>\n",
       "  </tbody>\n",
       "</table>\n",
       "</div>"
      ],
      "text/plain": [
       "                                             subject  repeatCount  priority  \\\n",
       "0  FORTINET-FORTIGATE-MIB::fgTrapWcApDown (1.3.6....            2         3   \n",
       "1         Critical - Packet Loss=100% - 100 (>= 100)            2         0   \n",
       "2         Critical - Packet Loss=100% - 100 (>= 100)            2         0   \n",
       "3  SNMP request timeout on WC008_01.mpdnet.miami-...            2         1   \n",
       "4         Critical - Packet Loss=100% - 100 (>= 100)            2         0   \n",
       "\n",
       "   healTime  alertClass  alertSubClass  alertCategory  alertSubCategory  \n",
       "0        60           6             20              5                 2  \n",
       "1        60           6              4              5                18  \n",
       "2       180           3             17              5                18  \n",
       "3       240           6             15              2                38  \n",
       "4        59           3              9              5                18  "
      ]
     },
     "execution_count": 95,
     "metadata": {},
     "output_type": "execute_result"
    }
   ],
   "source": [
    "df.head()"
   ]
  },
  {
   "cell_type": "code",
   "execution_count": 96,
   "id": "10a84020",
   "metadata": {
    "ExecuteTime": {
     "end_time": "2023-04-10T05:52:58.487077Z",
     "start_time": "2023-04-10T05:52:58.338496Z"
    }
   },
   "outputs": [],
   "source": [
    "from sklearn.feature_extraction.text import TfidfVectorizer\n",
    "\n",
    "doc = df['subject'].values\n",
    "tf = TfidfVectorizer(stop_words = 'english')\n",
    "tfidf_matrix = tf.fit_transform(doc).toarray()"
   ]
  },
  {
   "cell_type": "code",
   "execution_count": 97,
   "id": "52b5d886",
   "metadata": {
    "ExecuteTime": {
     "end_time": "2023-04-10T05:52:58.494166Z",
     "start_time": "2023-04-10T05:52:58.489560Z"
    }
   },
   "outputs": [
    {
     "data": {
      "text/plain": [
       "array([[0., 0., 0., ..., 0., 0., 0.],\n",
       "       [0., 0., 0., ..., 0., 0., 0.],\n",
       "       [0., 0., 0., ..., 0., 0., 0.],\n",
       "       ...,\n",
       "       [0., 0., 0., ..., 0., 0., 0.],\n",
       "       [0., 0., 0., ..., 0., 0., 0.],\n",
       "       [0., 0., 0., ..., 0., 0., 0.]])"
      ]
     },
     "execution_count": 97,
     "metadata": {},
     "output_type": "execute_result"
    }
   ],
   "source": [
    "tfidf_matrix"
   ]
  },
  {
   "cell_type": "code",
   "execution_count": 98,
   "id": "18ee2940",
   "metadata": {
    "ExecuteTime": {
     "end_time": "2023-04-10T05:52:58.502580Z",
     "start_time": "2023-04-10T05:52:58.496083Z"
    }
   },
   "outputs": [],
   "source": [
    "# assigning the independent features to X and the target variable to y\n",
    "X = df.drop(columns='healTime')\n",
    "y = df['healTime']"
   ]
  },
  {
   "cell_type": "code",
   "execution_count": 99,
   "id": "e13f4c4b",
   "metadata": {
    "ExecuteTime": {
     "end_time": "2023-04-10T05:52:58.518232Z",
     "start_time": "2023-04-10T05:52:58.505940Z"
    }
   },
   "outputs": [
    {
     "data": {
      "text/html": [
       "<div>\n",
       "<style scoped>\n",
       "    .dataframe tbody tr th:only-of-type {\n",
       "        vertical-align: middle;\n",
       "    }\n",
       "\n",
       "    .dataframe tbody tr th {\n",
       "        vertical-align: top;\n",
       "    }\n",
       "\n",
       "    .dataframe thead th {\n",
       "        text-align: right;\n",
       "    }\n",
       "</style>\n",
       "<table border=\"1\" class=\"dataframe\">\n",
       "  <thead>\n",
       "    <tr style=\"text-align: right;\">\n",
       "      <th></th>\n",
       "      <th>subject</th>\n",
       "      <th>repeatCount</th>\n",
       "      <th>priority</th>\n",
       "      <th>alertClass</th>\n",
       "      <th>alertSubClass</th>\n",
       "      <th>alertCategory</th>\n",
       "      <th>alertSubCategory</th>\n",
       "    </tr>\n",
       "  </thead>\n",
       "  <tbody>\n",
       "    <tr>\n",
       "      <th>0</th>\n",
       "      <td>FORTINET-FORTIGATE-MIB::fgTrapWcApDown (1.3.6....</td>\n",
       "      <td>2</td>\n",
       "      <td>3</td>\n",
       "      <td>6</td>\n",
       "      <td>20</td>\n",
       "      <td>5</td>\n",
       "      <td>2</td>\n",
       "    </tr>\n",
       "    <tr>\n",
       "      <th>1</th>\n",
       "      <td>Critical - Packet Loss=100% - 100 (&gt;= 100)</td>\n",
       "      <td>2</td>\n",
       "      <td>0</td>\n",
       "      <td>6</td>\n",
       "      <td>4</td>\n",
       "      <td>5</td>\n",
       "      <td>18</td>\n",
       "    </tr>\n",
       "    <tr>\n",
       "      <th>2</th>\n",
       "      <td>Critical - Packet Loss=100% - 100 (&gt;= 100)</td>\n",
       "      <td>2</td>\n",
       "      <td>0</td>\n",
       "      <td>3</td>\n",
       "      <td>17</td>\n",
       "      <td>5</td>\n",
       "      <td>18</td>\n",
       "    </tr>\n",
       "    <tr>\n",
       "      <th>3</th>\n",
       "      <td>SNMP request timeout on WC008_01.mpdnet.miami-...</td>\n",
       "      <td>2</td>\n",
       "      <td>1</td>\n",
       "      <td>6</td>\n",
       "      <td>15</td>\n",
       "      <td>2</td>\n",
       "      <td>38</td>\n",
       "    </tr>\n",
       "    <tr>\n",
       "      <th>4</th>\n",
       "      <td>Critical - Packet Loss=100% - 100 (&gt;= 100)</td>\n",
       "      <td>2</td>\n",
       "      <td>0</td>\n",
       "      <td>3</td>\n",
       "      <td>9</td>\n",
       "      <td>5</td>\n",
       "      <td>18</td>\n",
       "    </tr>\n",
       "  </tbody>\n",
       "</table>\n",
       "</div>"
      ],
      "text/plain": [
       "                                             subject  repeatCount  priority  \\\n",
       "0  FORTINET-FORTIGATE-MIB::fgTrapWcApDown (1.3.6....            2         3   \n",
       "1         Critical - Packet Loss=100% - 100 (>= 100)            2         0   \n",
       "2         Critical - Packet Loss=100% - 100 (>= 100)            2         0   \n",
       "3  SNMP request timeout on WC008_01.mpdnet.miami-...            2         1   \n",
       "4         Critical - Packet Loss=100% - 100 (>= 100)            2         0   \n",
       "\n",
       "   alertClass  alertSubClass  alertCategory  alertSubCategory  \n",
       "0           6             20              5                 2  \n",
       "1           6              4              5                18  \n",
       "2           3             17              5                18  \n",
       "3           6             15              2                38  \n",
       "4           3              9              5                18  "
      ]
     },
     "execution_count": 99,
     "metadata": {},
     "output_type": "execute_result"
    }
   ],
   "source": [
    "X.head()"
   ]
  },
  {
   "cell_type": "code",
   "execution_count": 100,
   "id": "ed998a93",
   "metadata": {
    "ExecuteTime": {
     "end_time": "2023-04-10T05:52:58.526816Z",
     "start_time": "2023-04-10T05:52:58.520518Z"
    }
   },
   "outputs": [
    {
     "data": {
      "text/plain": [
       "0     60\n",
       "1     60\n",
       "2    180\n",
       "3    240\n",
       "4     59\n",
       "Name: healTime, dtype: int64"
      ]
     },
     "execution_count": 100,
     "metadata": {},
     "output_type": "execute_result"
    }
   ],
   "source": [
    "y.head()"
   ]
  },
  {
   "cell_type": "code",
   "execution_count": 101,
   "id": "7d4f1969",
   "metadata": {
    "ExecuteTime": {
     "end_time": "2023-04-10T05:53:08.228658Z",
     "start_time": "2023-04-10T05:53:08.224814Z"
    }
   },
   "outputs": [],
   "source": [
    "from sklearn.model_selection import train_test_split"
   ]
  },
  {
   "cell_type": "code",
   "execution_count": 102,
   "id": "dd5f0c2f",
   "metadata": {
    "ExecuteTime": {
     "end_time": "2023-04-10T05:53:15.009906Z",
     "start_time": "2023-04-10T05:53:15.003011Z"
    }
   },
   "outputs": [
    {
     "name": "stdout",
     "output_type": "stream",
     "text": [
      "Shape of training data: (3666, 7)\n",
      "Shape of testing data: (1572, 7)\n"
     ]
    }
   ],
   "source": [
    "#spliting the data into training 77% and test 33%\n",
    "X_train,X_test,y_train,y_test= train_test_split(X,y,test_size=0.3,random_state=42)\n",
    "\n",
    "print('Shape of training data:',(X_train.shape))\n",
    "print('Shape of testing data:',(X_test.shape))"
   ]
  },
  {
   "cell_type": "code",
   "execution_count": 103,
   "id": "28a63594",
   "metadata": {
    "ExecuteTime": {
     "end_time": "2023-04-10T05:53:15.732953Z",
     "start_time": "2023-04-10T05:53:15.723534Z"
    }
   },
   "outputs": [
    {
     "data": {
      "text/html": [
       "<div>\n",
       "<style scoped>\n",
       "    .dataframe tbody tr th:only-of-type {\n",
       "        vertical-align: middle;\n",
       "    }\n",
       "\n",
       "    .dataframe tbody tr th {\n",
       "        vertical-align: top;\n",
       "    }\n",
       "\n",
       "    .dataframe thead th {\n",
       "        text-align: right;\n",
       "    }\n",
       "</style>\n",
       "<table border=\"1\" class=\"dataframe\">\n",
       "  <thead>\n",
       "    <tr style=\"text-align: right;\">\n",
       "      <th></th>\n",
       "      <th>subject</th>\n",
       "      <th>repeatCount</th>\n",
       "      <th>priority</th>\n",
       "      <th>alertClass</th>\n",
       "      <th>alertSubClass</th>\n",
       "      <th>alertCategory</th>\n",
       "      <th>alertSubCategory</th>\n",
       "    </tr>\n",
       "  </thead>\n",
       "  <tbody>\n",
       "    <tr>\n",
       "      <th>9497</th>\n",
       "      <td>aws_applicationelb_HTTPCode_ELB_5XX_Count is 6.0</td>\n",
       "      <td>2</td>\n",
       "      <td>2</td>\n",
       "      <td>1</td>\n",
       "      <td>19</td>\n",
       "      <td>0</td>\n",
       "      <td>32</td>\n",
       "    </tr>\n",
       "    <tr>\n",
       "      <th>8339</th>\n",
       "      <td>OK: Web Service is running</td>\n",
       "      <td>2</td>\n",
       "      <td>2</td>\n",
       "      <td>8</td>\n",
       "      <td>8</td>\n",
       "      <td>5</td>\n",
       "      <td>41</td>\n",
       "    </tr>\n",
       "    <tr>\n",
       "      <th>7045</th>\n",
       "      <td>Ok - Fortinet FG VPN 'VIP' tunnel status is Up(2)</td>\n",
       "      <td>2</td>\n",
       "      <td>1</td>\n",
       "      <td>6</td>\n",
       "      <td>4</td>\n",
       "      <td>2</td>\n",
       "      <td>48</td>\n",
       "    </tr>\n",
       "    <tr>\n",
       "      <th>5302</th>\n",
       "      <td>Problem with availability for https://www.ifbb...</td>\n",
       "      <td>2</td>\n",
       "      <td>1</td>\n",
       "      <td>0</td>\n",
       "      <td>19</td>\n",
       "      <td>1</td>\n",
       "      <td>67</td>\n",
       "    </tr>\n",
       "    <tr>\n",
       "      <th>7095</th>\n",
       "      <td>Alerts for availability.down.locations.count o...</td>\n",
       "      <td>2</td>\n",
       "      <td>1</td>\n",
       "      <td>0</td>\n",
       "      <td>19</td>\n",
       "      <td>1</td>\n",
       "      <td>67</td>\n",
       "    </tr>\n",
       "    <tr>\n",
       "      <th>...</th>\n",
       "      <td>...</td>\n",
       "      <td>...</td>\n",
       "      <td>...</td>\n",
       "      <td>...</td>\n",
       "      <td>...</td>\n",
       "      <td>...</td>\n",
       "      <td>...</td>\n",
       "    </tr>\n",
       "    <tr>\n",
       "      <th>5744</th>\n",
       "      <td>Problem with availability for https://medpro.a...</td>\n",
       "      <td>2</td>\n",
       "      <td>1</td>\n",
       "      <td>0</td>\n",
       "      <td>19</td>\n",
       "      <td>1</td>\n",
       "      <td>67</td>\n",
       "    </tr>\n",
       "    <tr>\n",
       "      <th>7058</th>\n",
       "      <td>[Cleared] UCS-Mgr: Fan module 1-3 in chassis 1...</td>\n",
       "      <td>2</td>\n",
       "      <td>2</td>\n",
       "      <td>7</td>\n",
       "      <td>10</td>\n",
       "      <td>7</td>\n",
       "      <td>42</td>\n",
       "    </tr>\n",
       "    <tr>\n",
       "      <th>9924</th>\n",
       "      <td>Multiple alerts on resource</td>\n",
       "      <td>4</td>\n",
       "      <td>0</td>\n",
       "      <td>6</td>\n",
       "      <td>20</td>\n",
       "      <td>5</td>\n",
       "      <td>2</td>\n",
       "    </tr>\n",
       "    <tr>\n",
       "      <th>9981</th>\n",
       "      <td>Multiple alerts on resource DL-KOBLENZ-FW</td>\n",
       "      <td>2</td>\n",
       "      <td>1</td>\n",
       "      <td>6</td>\n",
       "      <td>4</td>\n",
       "      <td>2</td>\n",
       "      <td>38</td>\n",
       "    </tr>\n",
       "    <tr>\n",
       "      <th>1383</th>\n",
       "      <td>Ok - Unspecified 0 Dr_Stat_1I1_B027: In Failed...</td>\n",
       "      <td>2</td>\n",
       "      <td>2</td>\n",
       "      <td>3</td>\n",
       "      <td>17</td>\n",
       "      <td>3</td>\n",
       "      <td>22</td>\n",
       "    </tr>\n",
       "  </tbody>\n",
       "</table>\n",
       "<p>3666 rows × 7 columns</p>\n",
       "</div>"
      ],
      "text/plain": [
       "                                                subject  repeatCount  \\\n",
       "9497  aws_applicationelb_HTTPCode_ELB_5XX_Count is 6.0             2   \n",
       "8339                         OK: Web Service is running            2   \n",
       "7045  Ok - Fortinet FG VPN 'VIP' tunnel status is Up(2)            2   \n",
       "5302  Problem with availability for https://www.ifbb...            2   \n",
       "7095  Alerts for availability.down.locations.count o...            2   \n",
       "...                                                 ...          ...   \n",
       "5744  Problem with availability for https://medpro.a...            2   \n",
       "7058  [Cleared] UCS-Mgr: Fan module 1-3 in chassis 1...            2   \n",
       "9924                       Multiple alerts on resource             4   \n",
       "9981          Multiple alerts on resource DL-KOBLENZ-FW            2   \n",
       "1383  Ok - Unspecified 0 Dr_Stat_1I1_B027: In Failed...            2   \n",
       "\n",
       "      priority  alertClass  alertSubClass  alertCategory  alertSubCategory  \n",
       "9497         2           1             19              0                32  \n",
       "8339         2           8              8              5                41  \n",
       "7045         1           6              4              2                48  \n",
       "5302         1           0             19              1                67  \n",
       "7095         1           0             19              1                67  \n",
       "...        ...         ...            ...            ...               ...  \n",
       "5744         1           0             19              1                67  \n",
       "7058         2           7             10              7                42  \n",
       "9924         0           6             20              5                 2  \n",
       "9981         1           6              4              2                38  \n",
       "1383         2           3             17              3                22  \n",
       "\n",
       "[3666 rows x 7 columns]"
      ]
     },
     "execution_count": 103,
     "metadata": {},
     "output_type": "execute_result"
    }
   ],
   "source": [
    "X_train"
   ]
  },
  {
   "cell_type": "code",
   "execution_count": 104,
   "id": "8611a12d",
   "metadata": {
    "ExecuteTime": {
     "end_time": "2023-04-10T05:53:19.437569Z",
     "start_time": "2023-04-10T05:53:19.434653Z"
    }
   },
   "outputs": [],
   "source": [
    "from sklearn.linear_model import LinearRegression\n",
    "from sklearn.metrics import r2_score,mean_absolute_error, mean_squared_error"
   ]
  },
  {
   "cell_type": "code",
   "execution_count": 73,
   "id": "d17cbd05",
   "metadata": {
    "ExecuteTime": {
     "end_time": "2023-04-10T05:51:24.336748Z",
     "start_time": "2023-04-10T05:51:24.299774Z"
    }
   },
   "outputs": [
    {
     "ename": "ValueError",
     "evalue": "could not convert string to float: 'FORTINET-FORTIGATE-MIB::fgTrapWcApDown (1.3.6.1.4.1.12356.101.1.1000.0.802)'",
     "output_type": "error",
     "traceback": [
      "\u001b[0;31m---------------------------------------------------------------------------\u001b[0m",
      "\u001b[0;31mValueError\u001b[0m                                Traceback (most recent call last)",
      "\u001b[0;32m/tmp/ipykernel_11336/157119026.py\u001b[0m in \u001b[0;36m<module>\u001b[0;34m\u001b[0m\n\u001b[1;32m      1\u001b[0m \u001b[0mclf\u001b[0m \u001b[0;34m=\u001b[0m \u001b[0mLinearRegression\u001b[0m\u001b[0;34m(\u001b[0m\u001b[0;34m)\u001b[0m\u001b[0;34m\u001b[0m\u001b[0;34m\u001b[0m\u001b[0m\n\u001b[0;32m----> 2\u001b[0;31m \u001b[0mclf\u001b[0m\u001b[0;34m.\u001b[0m\u001b[0mfit\u001b[0m\u001b[0;34m(\u001b[0m\u001b[0mX\u001b[0m\u001b[0;34m,\u001b[0m\u001b[0my\u001b[0m\u001b[0;34m)\u001b[0m\u001b[0;34m\u001b[0m\u001b[0;34m\u001b[0m\u001b[0m\n\u001b[0m\u001b[1;32m      3\u001b[0m \u001b[0my_pred\u001b[0m \u001b[0;34m=\u001b[0m \u001b[0mclf\u001b[0m\u001b[0;34m.\u001b[0m\u001b[0mpredict\u001b[0m\u001b[0;34m(\u001b[0m\u001b[0mX_test\u001b[0m\u001b[0;34m)\u001b[0m\u001b[0;34m\u001b[0m\u001b[0;34m\u001b[0m\u001b[0m\n\u001b[1;32m      4\u001b[0m \u001b[0;34m\u001b[0m\u001b[0m\n\u001b[1;32m      5\u001b[0m \u001b[0mprint\u001b[0m\u001b[0;34m(\u001b[0m\u001b[0;34m'R2 score: '\u001b[0m\u001b[0;34m,\u001b[0m\u001b[0mr2_score\u001b[0m\u001b[0;34m(\u001b[0m\u001b[0my_test\u001b[0m\u001b[0;34m,\u001b[0m\u001b[0my_pred\u001b[0m\u001b[0;34m)\u001b[0m\u001b[0;34m)\u001b[0m\u001b[0;34m\u001b[0m\u001b[0;34m\u001b[0m\u001b[0m\n",
      "\u001b[0;32m~/.local/lib/python3.10/site-packages/sklearn/linear_model/_base.py\u001b[0m in \u001b[0;36mfit\u001b[0;34m(self, X, y, sample_weight)\u001b[0m\n\u001b[1;32m    682\u001b[0m         \u001b[0maccept_sparse\u001b[0m \u001b[0;34m=\u001b[0m \u001b[0;32mFalse\u001b[0m \u001b[0;32mif\u001b[0m \u001b[0mself\u001b[0m\u001b[0;34m.\u001b[0m\u001b[0mpositive\u001b[0m \u001b[0;32melse\u001b[0m \u001b[0;34m[\u001b[0m\u001b[0;34m\"csr\"\u001b[0m\u001b[0;34m,\u001b[0m \u001b[0;34m\"csc\"\u001b[0m\u001b[0;34m,\u001b[0m \u001b[0;34m\"coo\"\u001b[0m\u001b[0;34m]\u001b[0m\u001b[0;34m\u001b[0m\u001b[0;34m\u001b[0m\u001b[0m\n\u001b[1;32m    683\u001b[0m \u001b[0;34m\u001b[0m\u001b[0m\n\u001b[0;32m--> 684\u001b[0;31m         X, y = self._validate_data(\n\u001b[0m\u001b[1;32m    685\u001b[0m             \u001b[0mX\u001b[0m\u001b[0;34m,\u001b[0m \u001b[0my\u001b[0m\u001b[0;34m,\u001b[0m \u001b[0maccept_sparse\u001b[0m\u001b[0;34m=\u001b[0m\u001b[0maccept_sparse\u001b[0m\u001b[0;34m,\u001b[0m \u001b[0my_numeric\u001b[0m\u001b[0;34m=\u001b[0m\u001b[0;32mTrue\u001b[0m\u001b[0;34m,\u001b[0m \u001b[0mmulti_output\u001b[0m\u001b[0;34m=\u001b[0m\u001b[0;32mTrue\u001b[0m\u001b[0;34m\u001b[0m\u001b[0;34m\u001b[0m\u001b[0m\n\u001b[1;32m    686\u001b[0m         )\n",
      "\u001b[0;32m~/.local/lib/python3.10/site-packages/sklearn/base.py\u001b[0m in \u001b[0;36m_validate_data\u001b[0;34m(self, X, y, reset, validate_separately, **check_params)\u001b[0m\n\u001b[1;32m    594\u001b[0m                 \u001b[0my\u001b[0m \u001b[0;34m=\u001b[0m \u001b[0mcheck_array\u001b[0m\u001b[0;34m(\u001b[0m\u001b[0my\u001b[0m\u001b[0;34m,\u001b[0m \u001b[0minput_name\u001b[0m\u001b[0;34m=\u001b[0m\u001b[0;34m\"y\"\u001b[0m\u001b[0;34m,\u001b[0m \u001b[0;34m**\u001b[0m\u001b[0mcheck_y_params\u001b[0m\u001b[0;34m)\u001b[0m\u001b[0;34m\u001b[0m\u001b[0;34m\u001b[0m\u001b[0m\n\u001b[1;32m    595\u001b[0m             \u001b[0;32melse\u001b[0m\u001b[0;34m:\u001b[0m\u001b[0;34m\u001b[0m\u001b[0;34m\u001b[0m\u001b[0m\n\u001b[0;32m--> 596\u001b[0;31m                 \u001b[0mX\u001b[0m\u001b[0;34m,\u001b[0m \u001b[0my\u001b[0m \u001b[0;34m=\u001b[0m \u001b[0mcheck_X_y\u001b[0m\u001b[0;34m(\u001b[0m\u001b[0mX\u001b[0m\u001b[0;34m,\u001b[0m \u001b[0my\u001b[0m\u001b[0;34m,\u001b[0m \u001b[0;34m**\u001b[0m\u001b[0mcheck_params\u001b[0m\u001b[0;34m)\u001b[0m\u001b[0;34m\u001b[0m\u001b[0;34m\u001b[0m\u001b[0m\n\u001b[0m\u001b[1;32m    597\u001b[0m             \u001b[0mout\u001b[0m \u001b[0;34m=\u001b[0m \u001b[0mX\u001b[0m\u001b[0;34m,\u001b[0m \u001b[0my\u001b[0m\u001b[0;34m\u001b[0m\u001b[0;34m\u001b[0m\u001b[0m\n\u001b[1;32m    598\u001b[0m \u001b[0;34m\u001b[0m\u001b[0m\n",
      "\u001b[0;32m~/.local/lib/python3.10/site-packages/sklearn/utils/validation.py\u001b[0m in \u001b[0;36mcheck_X_y\u001b[0;34m(X, y, accept_sparse, accept_large_sparse, dtype, order, copy, force_all_finite, ensure_2d, allow_nd, multi_output, ensure_min_samples, ensure_min_features, y_numeric, estimator)\u001b[0m\n\u001b[1;32m   1072\u001b[0m         )\n\u001b[1;32m   1073\u001b[0m \u001b[0;34m\u001b[0m\u001b[0m\n\u001b[0;32m-> 1074\u001b[0;31m     X = check_array(\n\u001b[0m\u001b[1;32m   1075\u001b[0m         \u001b[0mX\u001b[0m\u001b[0;34m,\u001b[0m\u001b[0;34m\u001b[0m\u001b[0;34m\u001b[0m\u001b[0m\n\u001b[1;32m   1076\u001b[0m         \u001b[0maccept_sparse\u001b[0m\u001b[0;34m=\u001b[0m\u001b[0maccept_sparse\u001b[0m\u001b[0;34m,\u001b[0m\u001b[0;34m\u001b[0m\u001b[0;34m\u001b[0m\u001b[0m\n",
      "\u001b[0;32m~/.local/lib/python3.10/site-packages/sklearn/utils/validation.py\u001b[0m in \u001b[0;36mcheck_array\u001b[0;34m(array, accept_sparse, accept_large_sparse, dtype, order, copy, force_all_finite, ensure_2d, allow_nd, ensure_min_samples, ensure_min_features, estimator, input_name)\u001b[0m\n\u001b[1;32m    854\u001b[0m                     \u001b[0marray\u001b[0m \u001b[0;34m=\u001b[0m \u001b[0marray\u001b[0m\u001b[0;34m.\u001b[0m\u001b[0mastype\u001b[0m\u001b[0;34m(\u001b[0m\u001b[0mdtype\u001b[0m\u001b[0;34m,\u001b[0m \u001b[0mcasting\u001b[0m\u001b[0;34m=\u001b[0m\u001b[0;34m\"unsafe\"\u001b[0m\u001b[0;34m,\u001b[0m \u001b[0mcopy\u001b[0m\u001b[0;34m=\u001b[0m\u001b[0;32mFalse\u001b[0m\u001b[0;34m)\u001b[0m\u001b[0;34m\u001b[0m\u001b[0;34m\u001b[0m\u001b[0m\n\u001b[1;32m    855\u001b[0m                 \u001b[0;32melse\u001b[0m\u001b[0;34m:\u001b[0m\u001b[0;34m\u001b[0m\u001b[0;34m\u001b[0m\u001b[0m\n\u001b[0;32m--> 856\u001b[0;31m                     \u001b[0marray\u001b[0m \u001b[0;34m=\u001b[0m \u001b[0mnp\u001b[0m\u001b[0;34m.\u001b[0m\u001b[0masarray\u001b[0m\u001b[0;34m(\u001b[0m\u001b[0marray\u001b[0m\u001b[0;34m,\u001b[0m \u001b[0morder\u001b[0m\u001b[0;34m=\u001b[0m\u001b[0morder\u001b[0m\u001b[0;34m,\u001b[0m \u001b[0mdtype\u001b[0m\u001b[0;34m=\u001b[0m\u001b[0mdtype\u001b[0m\u001b[0;34m)\u001b[0m\u001b[0;34m\u001b[0m\u001b[0;34m\u001b[0m\u001b[0m\n\u001b[0m\u001b[1;32m    857\u001b[0m             \u001b[0;32mexcept\u001b[0m \u001b[0mComplexWarning\u001b[0m \u001b[0;32mas\u001b[0m \u001b[0mcomplex_warning\u001b[0m\u001b[0;34m:\u001b[0m\u001b[0;34m\u001b[0m\u001b[0;34m\u001b[0m\u001b[0m\n\u001b[1;32m    858\u001b[0m                 raise ValueError(\n",
      "\u001b[0;32m~/.local/lib/python3.10/site-packages/pandas/core/generic.py\u001b[0m in \u001b[0;36m__array__\u001b[0;34m(self, dtype)\u001b[0m\n\u001b[1;32m   2067\u001b[0m \u001b[0;34m\u001b[0m\u001b[0m\n\u001b[1;32m   2068\u001b[0m     \u001b[0;32mdef\u001b[0m \u001b[0m__array__\u001b[0m\u001b[0;34m(\u001b[0m\u001b[0mself\u001b[0m\u001b[0;34m,\u001b[0m \u001b[0mdtype\u001b[0m\u001b[0;34m:\u001b[0m \u001b[0mnpt\u001b[0m\u001b[0;34m.\u001b[0m\u001b[0mDTypeLike\u001b[0m \u001b[0;34m|\u001b[0m \u001b[0;32mNone\u001b[0m \u001b[0;34m=\u001b[0m \u001b[0;32mNone\u001b[0m\u001b[0;34m)\u001b[0m \u001b[0;34m->\u001b[0m \u001b[0mnp\u001b[0m\u001b[0;34m.\u001b[0m\u001b[0mndarray\u001b[0m\u001b[0;34m:\u001b[0m\u001b[0;34m\u001b[0m\u001b[0;34m\u001b[0m\u001b[0m\n\u001b[0;32m-> 2069\u001b[0;31m         \u001b[0;32mreturn\u001b[0m \u001b[0mnp\u001b[0m\u001b[0;34m.\u001b[0m\u001b[0masarray\u001b[0m\u001b[0;34m(\u001b[0m\u001b[0mself\u001b[0m\u001b[0;34m.\u001b[0m\u001b[0m_values\u001b[0m\u001b[0;34m,\u001b[0m \u001b[0mdtype\u001b[0m\u001b[0;34m=\u001b[0m\u001b[0mdtype\u001b[0m\u001b[0;34m)\u001b[0m\u001b[0;34m\u001b[0m\u001b[0;34m\u001b[0m\u001b[0m\n\u001b[0m\u001b[1;32m   2070\u001b[0m \u001b[0;34m\u001b[0m\u001b[0m\n\u001b[1;32m   2071\u001b[0m     def __array_wrap__(\n",
      "\u001b[0;31mValueError\u001b[0m: could not convert string to float: 'FORTINET-FORTIGATE-MIB::fgTrapWcApDown (1.3.6.1.4.1.12356.101.1.1000.0.802)'"
     ]
    }
   ],
   "source": [
    "clf = LinearRegression()\n",
    "clf.fit(X,y)\n",
    "y_pred = clf.predict(X_test)\n",
    "\n",
    "print('R2 score: ',r2_score(y_test,y_pred))\n",
    "print('MAE: ',mean_absolute_error(y_test,y_pred))"
   ]
  },
  {
   "cell_type": "markdown",
   "id": "04a29036",
   "metadata": {},
   "source": [
    "# Variation Inflation Factor"
   ]
  },
  {
   "cell_type": "code",
   "execution_count": 32,
   "id": "15792938",
   "metadata": {
    "ExecuteTime": {
     "end_time": "2023-04-10T05:43:13.064280Z",
     "start_time": "2023-04-10T05:43:12.969160Z"
    }
   },
   "outputs": [],
   "source": [
    "from statsmodels.stats.outliers_influence import variance_inflation_factor"
   ]
  },
  {
   "cell_type": "code",
   "execution_count": 33,
   "id": "25d79d20",
   "metadata": {
    "ExecuteTime": {
     "end_time": "2023-04-10T05:43:13.070355Z",
     "start_time": "2023-04-10T05:43:13.066475Z"
    }
   },
   "outputs": [],
   "source": [
    "def calc_vif(dataset):\n",
    "    vif = pd.DataFrame()\n",
    "    vif[\"features\"] = dataset.columns\n",
    "    vif[\"VIF_Value\"] = [variance_inflation_factor(dataset.values,i) for i in range(dataset.shape[1])]\n",
    "    return vif"
   ]
  },
  {
   "cell_type": "code",
   "execution_count": 34,
   "id": "02b57ca9",
   "metadata": {
    "ExecuteTime": {
     "end_time": "2023-04-10T05:43:13.087814Z",
     "start_time": "2023-04-10T05:43:13.072905Z"
    }
   },
   "outputs": [
    {
     "data": {
      "text/html": [
       "<div>\n",
       "<style scoped>\n",
       "    .dataframe tbody tr th:only-of-type {\n",
       "        vertical-align: middle;\n",
       "    }\n",
       "\n",
       "    .dataframe tbody tr th {\n",
       "        vertical-align: top;\n",
       "    }\n",
       "\n",
       "    .dataframe thead th {\n",
       "        text-align: right;\n",
       "    }\n",
       "</style>\n",
       "<table border=\"1\" class=\"dataframe\">\n",
       "  <thead>\n",
       "    <tr style=\"text-align: right;\">\n",
       "      <th></th>\n",
       "      <th>repeatCount</th>\n",
       "      <th>priority</th>\n",
       "      <th>alertClass</th>\n",
       "      <th>alertSubClass</th>\n",
       "      <th>alertCategory</th>\n",
       "      <th>alertSubCategory</th>\n",
       "      <th>subject</th>\n",
       "    </tr>\n",
       "  </thead>\n",
       "  <tbody>\n",
       "    <tr>\n",
       "      <th>0</th>\n",
       "      <td>2</td>\n",
       "      <td>3</td>\n",
       "      <td>6</td>\n",
       "      <td>20</td>\n",
       "      <td>5</td>\n",
       "      <td>2</td>\n",
       "      <td>fortinet fortigate mib fgtrapwcapdown</td>\n",
       "    </tr>\n",
       "    <tr>\n",
       "      <th>1</th>\n",
       "      <td>2</td>\n",
       "      <td>0</td>\n",
       "      <td>6</td>\n",
       "      <td>4</td>\n",
       "      <td>5</td>\n",
       "      <td>18</td>\n",
       "      <td>critical packet loss</td>\n",
       "    </tr>\n",
       "    <tr>\n",
       "      <th>2</th>\n",
       "      <td>2</td>\n",
       "      <td>0</td>\n",
       "      <td>3</td>\n",
       "      <td>17</td>\n",
       "      <td>5</td>\n",
       "      <td>18</td>\n",
       "      <td>critical packet loss</td>\n",
       "    </tr>\n",
       "    <tr>\n",
       "      <th>3</th>\n",
       "      <td>2</td>\n",
       "      <td>1</td>\n",
       "      <td>6</td>\n",
       "      <td>15</td>\n",
       "      <td>2</td>\n",
       "      <td>38</td>\n",
       "      <td>snmp request timeout wc mpdnet miami police net</td>\n",
       "    </tr>\n",
       "    <tr>\n",
       "      <th>4</th>\n",
       "      <td>2</td>\n",
       "      <td>0</td>\n",
       "      <td>3</td>\n",
       "      <td>9</td>\n",
       "      <td>5</td>\n",
       "      <td>18</td>\n",
       "      <td>critical packet loss</td>\n",
       "    </tr>\n",
       "    <tr>\n",
       "      <th>...</th>\n",
       "      <td>...</td>\n",
       "      <td>...</td>\n",
       "      <td>...</td>\n",
       "      <td>...</td>\n",
       "      <td>...</td>\n",
       "      <td>...</td>\n",
       "      <td>...</td>\n",
       "    </tr>\n",
       "    <tr>\n",
       "      <th>9989</th>\n",
       "      <td>2</td>\n",
       "      <td>0</td>\n",
       "      <td>6</td>\n",
       "      <td>4</td>\n",
       "      <td>5</td>\n",
       "      <td>18</td>\n",
       "      <td>ok rta m packet loss ok</td>\n",
       "    </tr>\n",
       "    <tr>\n",
       "      <th>9991</th>\n",
       "      <td>2</td>\n",
       "      <td>0</td>\n",
       "      <td>6</td>\n",
       "      <td>20</td>\n",
       "      <td>5</td>\n",
       "      <td>2</td>\n",
       "      <td>ok rta m packet loss ok</td>\n",
       "    </tr>\n",
       "    <tr>\n",
       "      <th>9992</th>\n",
       "      <td>2</td>\n",
       "      <td>0</td>\n",
       "      <td>6</td>\n",
       "      <td>20</td>\n",
       "      <td>5</td>\n",
       "      <td>2</td>\n",
       "      <td>ok rta m packet loss ok</td>\n",
       "    </tr>\n",
       "    <tr>\n",
       "      <th>9998</th>\n",
       "      <td>2</td>\n",
       "      <td>0</td>\n",
       "      <td>7</td>\n",
       "      <td>10</td>\n",
       "      <td>7</td>\n",
       "      <td>42</td>\n",
       "      <td>cleared cca ri cc nwncloud com cca ri cc nwncl...</td>\n",
       "    </tr>\n",
       "    <tr>\n",
       "      <th>9999</th>\n",
       "      <td>2</td>\n",
       "      <td>0</td>\n",
       "      <td>7</td>\n",
       "      <td>10</td>\n",
       "      <td>7</td>\n",
       "      <td>42</td>\n",
       "      <td>cleared pscpvlfin nwncc local pscpvlfin nwncc ...</td>\n",
       "    </tr>\n",
       "  </tbody>\n",
       "</table>\n",
       "<p>5238 rows × 7 columns</p>\n",
       "</div>"
      ],
      "text/plain": [
       "      repeatCount  priority  alertClass  alertSubClass  alertCategory  \\\n",
       "0               2         3           6             20              5   \n",
       "1               2         0           6              4              5   \n",
       "2               2         0           3             17              5   \n",
       "3               2         1           6             15              2   \n",
       "4               2         0           3              9              5   \n",
       "...           ...       ...         ...            ...            ...   \n",
       "9989            2         0           6              4              5   \n",
       "9991            2         0           6             20              5   \n",
       "9992            2         0           6             20              5   \n",
       "9998            2         0           7             10              7   \n",
       "9999            2         0           7             10              7   \n",
       "\n",
       "      alertSubCategory                                            subject  \n",
       "0                    2              fortinet fortigate mib fgtrapwcapdown  \n",
       "1                   18                               critical packet loss  \n",
       "2                   18                               critical packet loss  \n",
       "3                   38    snmp request timeout wc mpdnet miami police net  \n",
       "4                   18                               critical packet loss  \n",
       "...                ...                                                ...  \n",
       "9989                18                            ok rta m packet loss ok  \n",
       "9991                 2                            ok rta m packet loss ok  \n",
       "9992                 2                            ok rta m packet loss ok  \n",
       "9998                42  cleared cca ri cc nwncloud com cca ri cc nwncl...  \n",
       "9999                42  cleared pscpvlfin nwncc local pscpvlfin nwncc ...  \n",
       "\n",
       "[5238 rows x 7 columns]"
      ]
     },
     "execution_count": 34,
     "metadata": {},
     "output_type": "execute_result"
    }
   ],
   "source": [
    "df1 = df.drop(columns=['healTime'])\n",
    "df1"
   ]
  },
  {
   "cell_type": "code",
   "execution_count": 35,
   "id": "b02bcc70",
   "metadata": {
    "ExecuteTime": {
     "end_time": "2023-04-10T05:43:13.258467Z",
     "start_time": "2023-04-10T05:43:13.092011Z"
    }
   },
   "outputs": [
    {
     "ename": "TypeError",
     "evalue": "ufunc 'isfinite' not supported for the input types, and the inputs could not be safely coerced to any supported types according to the casting rule ''safe''",
     "output_type": "error",
     "traceback": [
      "\u001b[0;31m---------------------------------------------------------------------------\u001b[0m",
      "\u001b[0;31mTypeError\u001b[0m                                 Traceback (most recent call last)",
      "\u001b[0;32m/tmp/ipykernel_11336/3639650661.py\u001b[0m in \u001b[0;36m<module>\u001b[0;34m\u001b[0m\n\u001b[1;32m      1\u001b[0m \u001b[0mfeatures\u001b[0m \u001b[0;34m=\u001b[0m \u001b[0mdf1\u001b[0m\u001b[0;34m.\u001b[0m\u001b[0miloc\u001b[0m\u001b[0;34m[\u001b[0m\u001b[0;34m:\u001b[0m\u001b[0;34m,\u001b[0m\u001b[0;34m:\u001b[0m\u001b[0;34m]\u001b[0m\u001b[0;34m\u001b[0m\u001b[0;34m\u001b[0m\u001b[0m\n\u001b[0;32m----> 2\u001b[0;31m \u001b[0mcalc_vif\u001b[0m\u001b[0;34m(\u001b[0m\u001b[0mfeatures\u001b[0m\u001b[0;34m)\u001b[0m\u001b[0;34m\u001b[0m\u001b[0;34m\u001b[0m\u001b[0m\n\u001b[0m",
      "\u001b[0;32m/tmp/ipykernel_11336/2956722582.py\u001b[0m in \u001b[0;36mcalc_vif\u001b[0;34m(dataset)\u001b[0m\n\u001b[1;32m      2\u001b[0m     \u001b[0mvif\u001b[0m \u001b[0;34m=\u001b[0m \u001b[0mpd\u001b[0m\u001b[0;34m.\u001b[0m\u001b[0mDataFrame\u001b[0m\u001b[0;34m(\u001b[0m\u001b[0;34m)\u001b[0m\u001b[0;34m\u001b[0m\u001b[0;34m\u001b[0m\u001b[0m\n\u001b[1;32m      3\u001b[0m     \u001b[0mvif\u001b[0m\u001b[0;34m[\u001b[0m\u001b[0;34m\"features\"\u001b[0m\u001b[0;34m]\u001b[0m \u001b[0;34m=\u001b[0m \u001b[0mdataset\u001b[0m\u001b[0;34m.\u001b[0m\u001b[0mcolumns\u001b[0m\u001b[0;34m\u001b[0m\u001b[0;34m\u001b[0m\u001b[0m\n\u001b[0;32m----> 4\u001b[0;31m     \u001b[0mvif\u001b[0m\u001b[0;34m[\u001b[0m\u001b[0;34m\"VIF_Value\"\u001b[0m\u001b[0;34m]\u001b[0m \u001b[0;34m=\u001b[0m \u001b[0;34m[\u001b[0m\u001b[0mvariance_inflation_factor\u001b[0m\u001b[0;34m(\u001b[0m\u001b[0mdataset\u001b[0m\u001b[0;34m.\u001b[0m\u001b[0mvalues\u001b[0m\u001b[0;34m,\u001b[0m\u001b[0mi\u001b[0m\u001b[0;34m)\u001b[0m \u001b[0;32mfor\u001b[0m \u001b[0mi\u001b[0m \u001b[0;32min\u001b[0m \u001b[0mrange\u001b[0m\u001b[0;34m(\u001b[0m\u001b[0mdataset\u001b[0m\u001b[0;34m.\u001b[0m\u001b[0mshape\u001b[0m\u001b[0;34m[\u001b[0m\u001b[0;36m1\u001b[0m\u001b[0;34m]\u001b[0m\u001b[0;34m)\u001b[0m\u001b[0;34m]\u001b[0m\u001b[0;34m\u001b[0m\u001b[0;34m\u001b[0m\u001b[0m\n\u001b[0m\u001b[1;32m      5\u001b[0m     \u001b[0;32mreturn\u001b[0m \u001b[0mvif\u001b[0m\u001b[0;34m\u001b[0m\u001b[0;34m\u001b[0m\u001b[0m\n",
      "\u001b[0;32m/tmp/ipykernel_11336/2956722582.py\u001b[0m in \u001b[0;36m<listcomp>\u001b[0;34m(.0)\u001b[0m\n\u001b[1;32m      2\u001b[0m     \u001b[0mvif\u001b[0m \u001b[0;34m=\u001b[0m \u001b[0mpd\u001b[0m\u001b[0;34m.\u001b[0m\u001b[0mDataFrame\u001b[0m\u001b[0;34m(\u001b[0m\u001b[0;34m)\u001b[0m\u001b[0;34m\u001b[0m\u001b[0;34m\u001b[0m\u001b[0m\n\u001b[1;32m      3\u001b[0m     \u001b[0mvif\u001b[0m\u001b[0;34m[\u001b[0m\u001b[0;34m\"features\"\u001b[0m\u001b[0;34m]\u001b[0m \u001b[0;34m=\u001b[0m \u001b[0mdataset\u001b[0m\u001b[0;34m.\u001b[0m\u001b[0mcolumns\u001b[0m\u001b[0;34m\u001b[0m\u001b[0;34m\u001b[0m\u001b[0m\n\u001b[0;32m----> 4\u001b[0;31m     \u001b[0mvif\u001b[0m\u001b[0;34m[\u001b[0m\u001b[0;34m\"VIF_Value\"\u001b[0m\u001b[0;34m]\u001b[0m \u001b[0;34m=\u001b[0m \u001b[0;34m[\u001b[0m\u001b[0mvariance_inflation_factor\u001b[0m\u001b[0;34m(\u001b[0m\u001b[0mdataset\u001b[0m\u001b[0;34m.\u001b[0m\u001b[0mvalues\u001b[0m\u001b[0;34m,\u001b[0m\u001b[0mi\u001b[0m\u001b[0;34m)\u001b[0m \u001b[0;32mfor\u001b[0m \u001b[0mi\u001b[0m \u001b[0;32min\u001b[0m \u001b[0mrange\u001b[0m\u001b[0;34m(\u001b[0m\u001b[0mdataset\u001b[0m\u001b[0;34m.\u001b[0m\u001b[0mshape\u001b[0m\u001b[0;34m[\u001b[0m\u001b[0;36m1\u001b[0m\u001b[0;34m]\u001b[0m\u001b[0;34m)\u001b[0m\u001b[0;34m]\u001b[0m\u001b[0;34m\u001b[0m\u001b[0;34m\u001b[0m\u001b[0m\n\u001b[0m\u001b[1;32m      5\u001b[0m     \u001b[0;32mreturn\u001b[0m \u001b[0mvif\u001b[0m\u001b[0;34m\u001b[0m\u001b[0;34m\u001b[0m\u001b[0m\n",
      "\u001b[0;32m~/.local/lib/python3.10/site-packages/statsmodels/stats/outliers_influence.py\u001b[0m in \u001b[0;36mvariance_inflation_factor\u001b[0;34m(exog, exog_idx)\u001b[0m\n\u001b[1;32m    192\u001b[0m     \u001b[0mmask\u001b[0m \u001b[0;34m=\u001b[0m \u001b[0mnp\u001b[0m\u001b[0;34m.\u001b[0m\u001b[0marange\u001b[0m\u001b[0;34m(\u001b[0m\u001b[0mk_vars\u001b[0m\u001b[0;34m)\u001b[0m \u001b[0;34m!=\u001b[0m \u001b[0mexog_idx\u001b[0m\u001b[0;34m\u001b[0m\u001b[0;34m\u001b[0m\u001b[0m\n\u001b[1;32m    193\u001b[0m     \u001b[0mx_noti\u001b[0m \u001b[0;34m=\u001b[0m \u001b[0mexog\u001b[0m\u001b[0;34m[\u001b[0m\u001b[0;34m:\u001b[0m\u001b[0;34m,\u001b[0m \u001b[0mmask\u001b[0m\u001b[0;34m]\u001b[0m\u001b[0;34m\u001b[0m\u001b[0;34m\u001b[0m\u001b[0m\n\u001b[0;32m--> 194\u001b[0;31m     \u001b[0mr_squared_i\u001b[0m \u001b[0;34m=\u001b[0m \u001b[0mOLS\u001b[0m\u001b[0;34m(\u001b[0m\u001b[0mx_i\u001b[0m\u001b[0;34m,\u001b[0m \u001b[0mx_noti\u001b[0m\u001b[0;34m)\u001b[0m\u001b[0;34m.\u001b[0m\u001b[0mfit\u001b[0m\u001b[0;34m(\u001b[0m\u001b[0;34m)\u001b[0m\u001b[0;34m.\u001b[0m\u001b[0mrsquared\u001b[0m\u001b[0;34m\u001b[0m\u001b[0;34m\u001b[0m\u001b[0m\n\u001b[0m\u001b[1;32m    195\u001b[0m     \u001b[0mvif\u001b[0m \u001b[0;34m=\u001b[0m \u001b[0;36m1.\u001b[0m \u001b[0;34m/\u001b[0m \u001b[0;34m(\u001b[0m\u001b[0;36m1.\u001b[0m \u001b[0;34m-\u001b[0m \u001b[0mr_squared_i\u001b[0m\u001b[0;34m)\u001b[0m\u001b[0;34m\u001b[0m\u001b[0;34m\u001b[0m\u001b[0m\n\u001b[1;32m    196\u001b[0m     \u001b[0;32mreturn\u001b[0m \u001b[0mvif\u001b[0m\u001b[0;34m\u001b[0m\u001b[0;34m\u001b[0m\u001b[0m\n",
      "\u001b[0;32m~/.local/lib/python3.10/site-packages/statsmodels/regression/linear_model.py\u001b[0m in \u001b[0;36m__init__\u001b[0;34m(self, endog, exog, missing, hasconst, **kwargs)\u001b[0m\n\u001b[1;32m    888\u001b[0m                    \"An exception will be raised in the next version.\")\n\u001b[1;32m    889\u001b[0m             \u001b[0mwarnings\u001b[0m\u001b[0;34m.\u001b[0m\u001b[0mwarn\u001b[0m\u001b[0;34m(\u001b[0m\u001b[0mmsg\u001b[0m\u001b[0;34m,\u001b[0m \u001b[0mValueWarning\u001b[0m\u001b[0;34m)\u001b[0m\u001b[0;34m\u001b[0m\u001b[0;34m\u001b[0m\u001b[0m\n\u001b[0;32m--> 890\u001b[0;31m         super(OLS, self).__init__(endog, exog, missing=missing,\n\u001b[0m\u001b[1;32m    891\u001b[0m                                   hasconst=hasconst, **kwargs)\n\u001b[1;32m    892\u001b[0m         \u001b[0;32mif\u001b[0m \u001b[0;34m\"weights\"\u001b[0m \u001b[0;32min\u001b[0m \u001b[0mself\u001b[0m\u001b[0;34m.\u001b[0m\u001b[0m_init_keys\u001b[0m\u001b[0;34m:\u001b[0m\u001b[0;34m\u001b[0m\u001b[0;34m\u001b[0m\u001b[0m\n",
      "\u001b[0;32m~/.local/lib/python3.10/site-packages/statsmodels/regression/linear_model.py\u001b[0m in \u001b[0;36m__init__\u001b[0;34m(self, endog, exog, weights, missing, hasconst, **kwargs)\u001b[0m\n\u001b[1;32m    715\u001b[0m         \u001b[0;32melse\u001b[0m\u001b[0;34m:\u001b[0m\u001b[0;34m\u001b[0m\u001b[0;34m\u001b[0m\u001b[0m\n\u001b[1;32m    716\u001b[0m             \u001b[0mweights\u001b[0m \u001b[0;34m=\u001b[0m \u001b[0mweights\u001b[0m\u001b[0;34m.\u001b[0m\u001b[0msqueeze\u001b[0m\u001b[0;34m(\u001b[0m\u001b[0;34m)\u001b[0m\u001b[0;34m\u001b[0m\u001b[0;34m\u001b[0m\u001b[0m\n\u001b[0;32m--> 717\u001b[0;31m         super(WLS, self).__init__(endog, exog, missing=missing,\n\u001b[0m\u001b[1;32m    718\u001b[0m                                   weights=weights, hasconst=hasconst, **kwargs)\n\u001b[1;32m    719\u001b[0m         \u001b[0mnobs\u001b[0m \u001b[0;34m=\u001b[0m \u001b[0mself\u001b[0m\u001b[0;34m.\u001b[0m\u001b[0mexog\u001b[0m\u001b[0;34m.\u001b[0m\u001b[0mshape\u001b[0m\u001b[0;34m[\u001b[0m\u001b[0;36m0\u001b[0m\u001b[0;34m]\u001b[0m\u001b[0;34m\u001b[0m\u001b[0;34m\u001b[0m\u001b[0m\n",
      "\u001b[0;32m~/.local/lib/python3.10/site-packages/statsmodels/regression/linear_model.py\u001b[0m in \u001b[0;36m__init__\u001b[0;34m(self, endog, exog, **kwargs)\u001b[0m\n\u001b[1;32m    189\u001b[0m     \"\"\"\n\u001b[1;32m    190\u001b[0m     \u001b[0;32mdef\u001b[0m \u001b[0m__init__\u001b[0m\u001b[0;34m(\u001b[0m\u001b[0mself\u001b[0m\u001b[0;34m,\u001b[0m \u001b[0mendog\u001b[0m\u001b[0;34m,\u001b[0m \u001b[0mexog\u001b[0m\u001b[0;34m,\u001b[0m \u001b[0;34m**\u001b[0m\u001b[0mkwargs\u001b[0m\u001b[0;34m)\u001b[0m\u001b[0;34m:\u001b[0m\u001b[0;34m\u001b[0m\u001b[0;34m\u001b[0m\u001b[0m\n\u001b[0;32m--> 191\u001b[0;31m         \u001b[0msuper\u001b[0m\u001b[0;34m(\u001b[0m\u001b[0mRegressionModel\u001b[0m\u001b[0;34m,\u001b[0m \u001b[0mself\u001b[0m\u001b[0;34m)\u001b[0m\u001b[0;34m.\u001b[0m\u001b[0m__init__\u001b[0m\u001b[0;34m(\u001b[0m\u001b[0mendog\u001b[0m\u001b[0;34m,\u001b[0m \u001b[0mexog\u001b[0m\u001b[0;34m,\u001b[0m \u001b[0;34m**\u001b[0m\u001b[0mkwargs\u001b[0m\u001b[0;34m)\u001b[0m\u001b[0;34m\u001b[0m\u001b[0;34m\u001b[0m\u001b[0m\n\u001b[0m\u001b[1;32m    192\u001b[0m         \u001b[0mself\u001b[0m\u001b[0;34m.\u001b[0m\u001b[0m_data_attr\u001b[0m\u001b[0;34m.\u001b[0m\u001b[0mextend\u001b[0m\u001b[0;34m(\u001b[0m\u001b[0;34m[\u001b[0m\u001b[0;34m'pinv_wexog'\u001b[0m\u001b[0;34m,\u001b[0m \u001b[0;34m'wendog'\u001b[0m\u001b[0;34m,\u001b[0m \u001b[0;34m'wexog'\u001b[0m\u001b[0;34m,\u001b[0m \u001b[0;34m'weights'\u001b[0m\u001b[0;34m]\u001b[0m\u001b[0;34m)\u001b[0m\u001b[0;34m\u001b[0m\u001b[0;34m\u001b[0m\u001b[0m\n\u001b[1;32m    193\u001b[0m \u001b[0;34m\u001b[0m\u001b[0m\n",
      "\u001b[0;32m~/.local/lib/python3.10/site-packages/statsmodels/base/model.py\u001b[0m in \u001b[0;36m__init__\u001b[0;34m(self, endog, exog, **kwargs)\u001b[0m\n\u001b[1;32m    265\u001b[0m \u001b[0;34m\u001b[0m\u001b[0m\n\u001b[1;32m    266\u001b[0m     \u001b[0;32mdef\u001b[0m \u001b[0m__init__\u001b[0m\u001b[0;34m(\u001b[0m\u001b[0mself\u001b[0m\u001b[0;34m,\u001b[0m \u001b[0mendog\u001b[0m\u001b[0;34m,\u001b[0m \u001b[0mexog\u001b[0m\u001b[0;34m=\u001b[0m\u001b[0;32mNone\u001b[0m\u001b[0;34m,\u001b[0m \u001b[0;34m**\u001b[0m\u001b[0mkwargs\u001b[0m\u001b[0;34m)\u001b[0m\u001b[0;34m:\u001b[0m\u001b[0;34m\u001b[0m\u001b[0;34m\u001b[0m\u001b[0m\n\u001b[0;32m--> 267\u001b[0;31m         \u001b[0msuper\u001b[0m\u001b[0;34m(\u001b[0m\u001b[0;34m)\u001b[0m\u001b[0;34m.\u001b[0m\u001b[0m__init__\u001b[0m\u001b[0;34m(\u001b[0m\u001b[0mendog\u001b[0m\u001b[0;34m,\u001b[0m \u001b[0mexog\u001b[0m\u001b[0;34m,\u001b[0m \u001b[0;34m**\u001b[0m\u001b[0mkwargs\u001b[0m\u001b[0;34m)\u001b[0m\u001b[0;34m\u001b[0m\u001b[0;34m\u001b[0m\u001b[0m\n\u001b[0m\u001b[1;32m    268\u001b[0m         \u001b[0mself\u001b[0m\u001b[0;34m.\u001b[0m\u001b[0minitialize\u001b[0m\u001b[0;34m(\u001b[0m\u001b[0;34m)\u001b[0m\u001b[0;34m\u001b[0m\u001b[0;34m\u001b[0m\u001b[0m\n\u001b[1;32m    269\u001b[0m \u001b[0;34m\u001b[0m\u001b[0m\n",
      "\u001b[0;32m~/.local/lib/python3.10/site-packages/statsmodels/base/model.py\u001b[0m in \u001b[0;36m__init__\u001b[0;34m(self, endog, exog, **kwargs)\u001b[0m\n\u001b[1;32m     90\u001b[0m         \u001b[0mmissing\u001b[0m \u001b[0;34m=\u001b[0m \u001b[0mkwargs\u001b[0m\u001b[0;34m.\u001b[0m\u001b[0mpop\u001b[0m\u001b[0;34m(\u001b[0m\u001b[0;34m'missing'\u001b[0m\u001b[0;34m,\u001b[0m \u001b[0;34m'none'\u001b[0m\u001b[0;34m)\u001b[0m\u001b[0;34m\u001b[0m\u001b[0;34m\u001b[0m\u001b[0m\n\u001b[1;32m     91\u001b[0m         \u001b[0mhasconst\u001b[0m \u001b[0;34m=\u001b[0m \u001b[0mkwargs\u001b[0m\u001b[0;34m.\u001b[0m\u001b[0mpop\u001b[0m\u001b[0;34m(\u001b[0m\u001b[0;34m'hasconst'\u001b[0m\u001b[0;34m,\u001b[0m \u001b[0;32mNone\u001b[0m\u001b[0;34m)\u001b[0m\u001b[0;34m\u001b[0m\u001b[0;34m\u001b[0m\u001b[0m\n\u001b[0;32m---> 92\u001b[0;31m         self.data = self._handle_data(endog, exog, missing, hasconst,\n\u001b[0m\u001b[1;32m     93\u001b[0m                                       **kwargs)\n\u001b[1;32m     94\u001b[0m         \u001b[0mself\u001b[0m\u001b[0;34m.\u001b[0m\u001b[0mk_constant\u001b[0m \u001b[0;34m=\u001b[0m \u001b[0mself\u001b[0m\u001b[0;34m.\u001b[0m\u001b[0mdata\u001b[0m\u001b[0;34m.\u001b[0m\u001b[0mk_constant\u001b[0m\u001b[0;34m\u001b[0m\u001b[0;34m\u001b[0m\u001b[0m\n",
      "\u001b[0;32m~/.local/lib/python3.10/site-packages/statsmodels/base/model.py\u001b[0m in \u001b[0;36m_handle_data\u001b[0;34m(self, endog, exog, missing, hasconst, **kwargs)\u001b[0m\n\u001b[1;32m    130\u001b[0m \u001b[0;34m\u001b[0m\u001b[0m\n\u001b[1;32m    131\u001b[0m     \u001b[0;32mdef\u001b[0m \u001b[0m_handle_data\u001b[0m\u001b[0;34m(\u001b[0m\u001b[0mself\u001b[0m\u001b[0;34m,\u001b[0m \u001b[0mendog\u001b[0m\u001b[0;34m,\u001b[0m \u001b[0mexog\u001b[0m\u001b[0;34m,\u001b[0m \u001b[0mmissing\u001b[0m\u001b[0;34m,\u001b[0m \u001b[0mhasconst\u001b[0m\u001b[0;34m,\u001b[0m \u001b[0;34m**\u001b[0m\u001b[0mkwargs\u001b[0m\u001b[0;34m)\u001b[0m\u001b[0;34m:\u001b[0m\u001b[0;34m\u001b[0m\u001b[0;34m\u001b[0m\u001b[0m\n\u001b[0;32m--> 132\u001b[0;31m         \u001b[0mdata\u001b[0m \u001b[0;34m=\u001b[0m \u001b[0mhandle_data\u001b[0m\u001b[0;34m(\u001b[0m\u001b[0mendog\u001b[0m\u001b[0;34m,\u001b[0m \u001b[0mexog\u001b[0m\u001b[0;34m,\u001b[0m \u001b[0mmissing\u001b[0m\u001b[0;34m,\u001b[0m \u001b[0mhasconst\u001b[0m\u001b[0;34m,\u001b[0m \u001b[0;34m**\u001b[0m\u001b[0mkwargs\u001b[0m\u001b[0;34m)\u001b[0m\u001b[0;34m\u001b[0m\u001b[0;34m\u001b[0m\u001b[0m\n\u001b[0m\u001b[1;32m    133\u001b[0m         \u001b[0;31m# kwargs arrays could have changed, easier to just attach here\u001b[0m\u001b[0;34m\u001b[0m\u001b[0;34m\u001b[0m\u001b[0m\n\u001b[1;32m    134\u001b[0m         \u001b[0;32mfor\u001b[0m \u001b[0mkey\u001b[0m \u001b[0;32min\u001b[0m \u001b[0mkwargs\u001b[0m\u001b[0;34m:\u001b[0m\u001b[0;34m\u001b[0m\u001b[0;34m\u001b[0m\u001b[0m\n",
      "\u001b[0;32m~/.local/lib/python3.10/site-packages/statsmodels/base/data.py\u001b[0m in \u001b[0;36mhandle_data\u001b[0;34m(endog, exog, missing, hasconst, **kwargs)\u001b[0m\n\u001b[1;32m    671\u001b[0m \u001b[0;34m\u001b[0m\u001b[0m\n\u001b[1;32m    672\u001b[0m     \u001b[0mklass\u001b[0m \u001b[0;34m=\u001b[0m \u001b[0mhandle_data_class_factory\u001b[0m\u001b[0;34m(\u001b[0m\u001b[0mendog\u001b[0m\u001b[0;34m,\u001b[0m \u001b[0mexog\u001b[0m\u001b[0;34m)\u001b[0m\u001b[0;34m\u001b[0m\u001b[0;34m\u001b[0m\u001b[0m\n\u001b[0;32m--> 673\u001b[0;31m     return klass(endog, exog=exog, missing=missing, hasconst=hasconst,\n\u001b[0m\u001b[1;32m    674\u001b[0m                  **kwargs)\n",
      "\u001b[0;32m~/.local/lib/python3.10/site-packages/statsmodels/base/data.py\u001b[0m in \u001b[0;36m__init__\u001b[0;34m(self, endog, exog, missing, hasconst, **kwargs)\u001b[0m\n\u001b[1;32m     84\u001b[0m         \u001b[0mself\u001b[0m\u001b[0;34m.\u001b[0m\u001b[0mconst_idx\u001b[0m \u001b[0;34m=\u001b[0m \u001b[0;32mNone\u001b[0m\u001b[0;34m\u001b[0m\u001b[0;34m\u001b[0m\u001b[0m\n\u001b[1;32m     85\u001b[0m         \u001b[0mself\u001b[0m\u001b[0;34m.\u001b[0m\u001b[0mk_constant\u001b[0m \u001b[0;34m=\u001b[0m \u001b[0;36m0\u001b[0m\u001b[0;34m\u001b[0m\u001b[0;34m\u001b[0m\u001b[0m\n\u001b[0;32m---> 86\u001b[0;31m         \u001b[0mself\u001b[0m\u001b[0;34m.\u001b[0m\u001b[0m_handle_constant\u001b[0m\u001b[0;34m(\u001b[0m\u001b[0mhasconst\u001b[0m\u001b[0;34m)\u001b[0m\u001b[0;34m\u001b[0m\u001b[0;34m\u001b[0m\u001b[0m\n\u001b[0m\u001b[1;32m     87\u001b[0m         \u001b[0mself\u001b[0m\u001b[0;34m.\u001b[0m\u001b[0m_check_integrity\u001b[0m\u001b[0;34m(\u001b[0m\u001b[0;34m)\u001b[0m\u001b[0;34m\u001b[0m\u001b[0;34m\u001b[0m\u001b[0m\n\u001b[1;32m     88\u001b[0m         \u001b[0mself\u001b[0m\u001b[0;34m.\u001b[0m\u001b[0m_cache\u001b[0m \u001b[0;34m=\u001b[0m \u001b[0;34m{\u001b[0m\u001b[0;34m}\u001b[0m\u001b[0;34m\u001b[0m\u001b[0;34m\u001b[0m\u001b[0m\n",
      "\u001b[0;32m~/.local/lib/python3.10/site-packages/statsmodels/base/data.py\u001b[0m in \u001b[0;36m_handle_constant\u001b[0;34m(self, hasconst)\u001b[0m\n\u001b[1;32m    129\u001b[0m             \u001b[0mcheck_implicit\u001b[0m \u001b[0;34m=\u001b[0m \u001b[0;32mFalse\u001b[0m\u001b[0;34m\u001b[0m\u001b[0;34m\u001b[0m\u001b[0m\n\u001b[1;32m    130\u001b[0m             \u001b[0mexog_max\u001b[0m \u001b[0;34m=\u001b[0m \u001b[0mnp\u001b[0m\u001b[0;34m.\u001b[0m\u001b[0mmax\u001b[0m\u001b[0;34m(\u001b[0m\u001b[0mself\u001b[0m\u001b[0;34m.\u001b[0m\u001b[0mexog\u001b[0m\u001b[0;34m,\u001b[0m \u001b[0maxis\u001b[0m\u001b[0;34m=\u001b[0m\u001b[0;36m0\u001b[0m\u001b[0;34m)\u001b[0m\u001b[0;34m\u001b[0m\u001b[0;34m\u001b[0m\u001b[0m\n\u001b[0;32m--> 131\u001b[0;31m             \u001b[0;32mif\u001b[0m \u001b[0;32mnot\u001b[0m \u001b[0mnp\u001b[0m\u001b[0;34m.\u001b[0m\u001b[0misfinite\u001b[0m\u001b[0;34m(\u001b[0m\u001b[0mexog_max\u001b[0m\u001b[0;34m)\u001b[0m\u001b[0;34m.\u001b[0m\u001b[0mall\u001b[0m\u001b[0;34m(\u001b[0m\u001b[0;34m)\u001b[0m\u001b[0;34m:\u001b[0m\u001b[0;34m\u001b[0m\u001b[0;34m\u001b[0m\u001b[0m\n\u001b[0m\u001b[1;32m    132\u001b[0m                 \u001b[0;32mraise\u001b[0m \u001b[0mMissingDataError\u001b[0m\u001b[0;34m(\u001b[0m\u001b[0;34m'exog contains inf or nans'\u001b[0m\u001b[0;34m)\u001b[0m\u001b[0;34m\u001b[0m\u001b[0;34m\u001b[0m\u001b[0m\n\u001b[1;32m    133\u001b[0m             \u001b[0mexog_min\u001b[0m \u001b[0;34m=\u001b[0m \u001b[0mnp\u001b[0m\u001b[0;34m.\u001b[0m\u001b[0mmin\u001b[0m\u001b[0;34m(\u001b[0m\u001b[0mself\u001b[0m\u001b[0;34m.\u001b[0m\u001b[0mexog\u001b[0m\u001b[0;34m,\u001b[0m \u001b[0maxis\u001b[0m\u001b[0;34m=\u001b[0m\u001b[0;36m0\u001b[0m\u001b[0;34m)\u001b[0m\u001b[0;34m\u001b[0m\u001b[0;34m\u001b[0m\u001b[0m\n",
      "\u001b[0;31mTypeError\u001b[0m: ufunc 'isfinite' not supported for the input types, and the inputs could not be safely coerced to any supported types according to the casting rule ''safe''"
     ]
    }
   ],
   "source": [
    "features = df1.iloc[:,:]\n",
    "calc_vif(features)"
   ]
  },
  {
   "cell_type": "code",
   "execution_count": null,
   "id": "a19f77b7",
   "metadata": {
    "ExecuteTime": {
     "end_time": "2023-04-10T05:43:13.272476Z",
     "start_time": "2023-04-10T05:43:13.272461Z"
    }
   },
   "outputs": [],
   "source": [
    "df.corr()"
   ]
  },
  {
   "cell_type": "code",
   "execution_count": null,
   "id": "89491f04",
   "metadata": {
    "ExecuteTime": {
     "end_time": "2023-04-10T05:43:13.274460Z",
     "start_time": "2023-04-10T05:43:13.274438Z"
    }
   },
   "outputs": [],
   "source": [
    "import seaborn as sns\n",
    "sns.heatmap(df.corr(), annot=True)"
   ]
  },
  {
   "cell_type": "code",
   "execution_count": null,
   "id": "59486b91",
   "metadata": {
    "ExecuteTime": {
     "end_time": "2023-04-10T05:43:13.275987Z",
     "start_time": "2023-04-10T05:43:13.275966Z"
    }
   },
   "outputs": [],
   "source": [
    "df = df.drop(columns = ['alertClass'])\n",
    "df.head()"
   ]
  },
  {
   "cell_type": "code",
   "execution_count": null,
   "id": "99fb09a9",
   "metadata": {
    "ExecuteTime": {
     "end_time": "2023-04-10T05:43:13.277761Z",
     "start_time": "2023-04-10T05:43:13.277740Z"
    }
   },
   "outputs": [],
   "source": [
    "df2 = df.drop(columns=['healTime'])\n",
    "df2"
   ]
  },
  {
   "cell_type": "code",
   "execution_count": null,
   "id": "68f0aa45",
   "metadata": {
    "ExecuteTime": {
     "end_time": "2023-04-10T05:43:13.279681Z",
     "start_time": "2023-04-10T05:43:13.279656Z"
    }
   },
   "outputs": [],
   "source": [
    "features = df2.iloc[:,:]\n",
    "calc_vif(features)"
   ]
  },
  {
   "cell_type": "code",
   "execution_count": null,
   "id": "e548d1d7",
   "metadata": {
    "ExecuteTime": {
     "end_time": "2023-04-10T05:43:13.281826Z",
     "start_time": "2023-04-10T05:43:13.281804Z"
    }
   },
   "outputs": [],
   "source": [
    "df.head()"
   ]
  },
  {
   "cell_type": "code",
   "execution_count": null,
   "id": "c4b129b3",
   "metadata": {
    "ExecuteTime": {
     "end_time": "2023-04-10T05:43:13.283917Z",
     "start_time": "2023-04-10T05:43:13.283892Z"
    }
   },
   "outputs": [],
   "source": [
    "# assigning the independent features to X and the target variable to y\n",
    "X = df.drop(columns='healTime')\n",
    "y = df['healTime']"
   ]
  },
  {
   "cell_type": "code",
   "execution_count": null,
   "id": "ac0a3ba1",
   "metadata": {
    "ExecuteTime": {
     "end_time": "2023-04-10T05:43:13.285838Z",
     "start_time": "2023-04-10T05:43:13.285815Z"
    }
   },
   "outputs": [],
   "source": [
    "X.head()"
   ]
  },
  {
   "cell_type": "code",
   "execution_count": null,
   "id": "c945cb65",
   "metadata": {
    "ExecuteTime": {
     "end_time": "2023-04-10T05:43:13.287658Z",
     "start_time": "2023-04-10T05:43:13.287622Z"
    }
   },
   "outputs": [],
   "source": [
    "y.head()"
   ]
  },
  {
   "cell_type": "markdown",
   "id": "1c09bb20",
   "metadata": {},
   "source": [
    "# Ordinary Least Square Method"
   ]
  },
  {
   "cell_type": "code",
   "execution_count": null,
   "id": "d9d0c7e4",
   "metadata": {
    "ExecuteTime": {
     "end_time": "2023-04-10T05:43:13.289963Z",
     "start_time": "2023-04-10T05:43:13.289942Z"
    }
   },
   "outputs": [],
   "source": [
    "import statsmodels.formula.api as smf"
   ]
  },
  {
   "cell_type": "code",
   "execution_count": null,
   "id": "d903525e",
   "metadata": {
    "ExecuteTime": {
     "end_time": "2023-04-10T05:43:13.292584Z",
     "start_time": "2023-04-10T05:43:13.292559Z"
    }
   },
   "outputs": [],
   "source": [
    "import statsmodels.formula.api as smf\n",
    "model = smf.ols(\"y~X\", data = df).fit()\n",
    "model.params"
   ]
  },
  {
   "cell_type": "code",
   "execution_count": null,
   "id": "8c207ae3",
   "metadata": {
    "ExecuteTime": {
     "end_time": "2023-04-10T05:43:13.298958Z",
     "start_time": "2023-04-10T05:43:13.298918Z"
    }
   },
   "outputs": [],
   "source": [
    "model.summary()"
   ]
  },
  {
   "cell_type": "code",
   "execution_count": null,
   "id": "9148be03",
   "metadata": {
    "ExecuteTime": {
     "end_time": "2023-04-10T05:43:13.305618Z",
     "start_time": "2023-04-10T05:43:13.305572Z"
    }
   },
   "outputs": [],
   "source": [
    "import statsmodels.formula.api as smf\n",
    "model1 = smf.ols(\"np.log(y)~X\", data = df).fit()\n",
    "model1.params"
   ]
  },
  {
   "cell_type": "code",
   "execution_count": null,
   "id": "c22e0bfa",
   "metadata": {
    "ExecuteTime": {
     "end_time": "2023-04-10T05:43:13.309350Z",
     "start_time": "2023-04-10T05:43:13.309318Z"
    }
   },
   "outputs": [],
   "source": [
    "model1.summary()"
   ]
  },
  {
   "cell_type": "code",
   "execution_count": null,
   "id": "6b79caeb",
   "metadata": {
    "ExecuteTime": {
     "end_time": "2023-04-10T05:43:13.312844Z",
     "start_time": "2023-04-10T05:43:13.312816Z"
    },
    "scrolled": true
   },
   "outputs": [],
   "source": [
    "df.head()"
   ]
  },
  {
   "cell_type": "code",
   "execution_count": null,
   "id": "616ae499",
   "metadata": {
    "ExecuteTime": {
     "end_time": "2023-04-10T05:43:13.317152Z",
     "start_time": "2023-04-10T05:43:13.317107Z"
    },
    "scrolled": true
   },
   "outputs": [],
   "source": [
    "df.healTime.unique()"
   ]
  },
  {
   "cell_type": "code",
   "execution_count": null,
   "id": "99470c3e",
   "metadata": {
    "ExecuteTime": {
     "end_time": "2023-04-10T05:43:13.320716Z",
     "start_time": "2023-04-10T05:43:13.320685Z"
    }
   },
   "outputs": [],
   "source": [
    "df.healTime.mean()"
   ]
  },
  {
   "cell_type": "code",
   "execution_count": null,
   "id": "2a0792a8",
   "metadata": {
    "ExecuteTime": {
     "end_time": "2023-04-10T05:43:13.515518Z",
     "start_time": "2023-04-10T05:43:13.515493Z"
    }
   },
   "outputs": [],
   "source": [
    "df.healTime.std()"
   ]
  },
  {
   "cell_type": "code",
   "execution_count": null,
   "id": "56c5811b",
   "metadata": {
    "ExecuteTime": {
     "end_time": "2023-04-10T05:43:13.517584Z",
     "start_time": "2023-04-10T05:43:13.517548Z"
    }
   },
   "outputs": [],
   "source": [
    "from scipy import stats"
   ]
  },
  {
   "cell_type": "code",
   "execution_count": null,
   "id": "115b6378",
   "metadata": {
    "ExecuteTime": {
     "end_time": "2023-04-10T05:43:13.519326Z",
     "start_time": "2023-04-10T05:43:13.519301Z"
    }
   },
   "outputs": [],
   "source": [
    "healTime_ci = stats.norm.interval(0.95,\n",
    "loc = df.healTime.mean(),\n",
    "scale = df.healTime.std())\n",
    "print( 'Gain at 95% confidence interval is:', np.round(healTime_ci, 2))"
   ]
  },
  {
   "cell_type": "code",
   "execution_count": null,
   "id": "5f87e63b",
   "metadata": {
    "ExecuteTime": {
     "end_time": "2023-04-10T05:43:13.520904Z",
     "start_time": "2023-04-10T05:43:13.520880Z"
    }
   },
   "outputs": [],
   "source": [
    "healTime_ci = stats.norm.interval(0.95,\n",
    "loc = y.mean(),\n",
    "scale = y.std())\n",
    "print( 'Gain at 95% confidence interval is:', np.round(healTime_ci, 2))"
   ]
  },
  {
   "cell_type": "markdown",
   "id": "fee63df0",
   "metadata": {},
   "source": [
    "# Split the dataset into Training and Testing datasets"
   ]
  },
  {
   "cell_type": "code",
   "execution_count": null,
   "id": "4216f06e",
   "metadata": {
    "ExecuteTime": {
     "end_time": "2023-04-10T05:43:13.522535Z",
     "start_time": "2023-04-10T05:43:13.522508Z"
    }
   },
   "outputs": [],
   "source": [
    "from sklearn.model_selection import train_test_split"
   ]
  },
  {
   "cell_type": "code",
   "execution_count": null,
   "id": "c8f031e5",
   "metadata": {
    "ExecuteTime": {
     "end_time": "2023-04-10T05:43:13.526943Z",
     "start_time": "2023-04-10T05:43:13.526918Z"
    }
   },
   "outputs": [],
   "source": [
    "#spliting the data into training 77% and test 33%\n",
    "X_train,X_test,y_train,y_test= train_test_split(X,y,test_size=0.3,random_state=42)\n",
    "\n",
    "print('Shape of training data:',(X_train.shape))\n",
    "print('Shape of testing data:',(X_test.shape))"
   ]
  },
  {
   "cell_type": "code",
   "execution_count": null,
   "id": "5e4d6902",
   "metadata": {
    "ExecuteTime": {
     "end_time": "2023-04-10T05:43:13.528749Z",
     "start_time": "2023-04-10T05:43:13.528731Z"
    }
   },
   "outputs": [],
   "source": [
    "X_train"
   ]
  },
  {
   "cell_type": "markdown",
   "id": "99b4df61",
   "metadata": {},
   "source": [
    "# Model Building"
   ]
  },
  {
   "cell_type": "code",
   "execution_count": null,
   "id": "67726c80",
   "metadata": {
    "ExecuteTime": {
     "end_time": "2023-04-10T05:43:13.529995Z",
     "start_time": "2023-04-10T05:43:13.529981Z"
    }
   },
   "outputs": [],
   "source": [
    "from sklearn.linear_model import LinearRegression\n",
    "from sklearn.metrics import r2_score,mean_absolute_error, mean_squared_error"
   ]
  },
  {
   "cell_type": "code",
   "execution_count": null,
   "id": "e805b614",
   "metadata": {
    "ExecuteTime": {
     "end_time": "2023-04-10T05:43:13.531763Z",
     "start_time": "2023-04-10T05:43:13.531747Z"
    }
   },
   "outputs": [],
   "source": [
    "from sklearn.linear_model import LinearRegression,Ridge,Lasso\n",
    "from sklearn.neighbors import KNeighborsRegressor\n",
    "from sklearn.tree import DecisionTreeRegressor\n",
    "from sklearn.ensemble import RandomForestRegressor,AdaBoostRegressor\n",
    "from sklearn.svm import SVR"
   ]
  },
  {
   "cell_type": "markdown",
   "id": "b9f0f32a",
   "metadata": {},
   "source": [
    "## Linear Regression"
   ]
  },
  {
   "cell_type": "code",
   "execution_count": null,
   "id": "e913a107",
   "metadata": {
    "ExecuteTime": {
     "end_time": "2023-04-10T05:43:13.533601Z",
     "start_time": "2023-04-10T05:43:13.533584Z"
    }
   },
   "outputs": [],
   "source": [
    "clf = LinearRegression()\n",
    "clf.fit(X,y)\n",
    "y_pred = clf.predict(X_test)\n",
    "\n",
    "print('R2 score: ',r2_score(y_test,y_pred))\n",
    "print('MAE: ',mean_absolute_error(y_test,y_pred))"
   ]
  },
  {
   "cell_type": "markdown",
   "id": "0c5bd227",
   "metadata": {},
   "source": [
    "## Lasso Regression"
   ]
  },
  {
   "cell_type": "code",
   "execution_count": null,
   "id": "c62346da",
   "metadata": {
    "ExecuteTime": {
     "end_time": "2023-04-10T05:43:13.534987Z",
     "start_time": "2023-04-10T05:43:13.534972Z"
    }
   },
   "outputs": [],
   "source": [
    "clf1 = Lasso(alpha=0.001)\n",
    "clf1.fit(X,y)\n",
    "y_pred = clf1.predict(X_test)\n",
    "\n",
    "print('R2 score: ',r2_score(y_test,y_pred))\n",
    "print('MAE: ',mean_absolute_error(y_test,y_pred))"
   ]
  },
  {
   "cell_type": "markdown",
   "id": "deaa53f8",
   "metadata": {},
   "source": [
    "## Ridge Regression"
   ]
  },
  {
   "cell_type": "code",
   "execution_count": null,
   "id": "f53141b7",
   "metadata": {
    "ExecuteTime": {
     "end_time": "2023-04-10T05:43:13.536507Z",
     "start_time": "2023-04-10T05:43:13.536492Z"
    }
   },
   "outputs": [],
   "source": [
    "clf2 = Ridge(alpha=10)\n",
    "clf2.fit(X,y)\n",
    "y_pred = clf2.predict(X_test)\n",
    "\n",
    "print('R2 score: ',r2_score(y_test,y_pred))\n",
    "print('MAE: ',mean_absolute_error(y_test,y_pred))"
   ]
  },
  {
   "cell_type": "markdown",
   "id": "a81ccb08",
   "metadata": {},
   "source": [
    "## KNN"
   ]
  },
  {
   "cell_type": "code",
   "execution_count": null,
   "id": "754c613c",
   "metadata": {
    "ExecuteTime": {
     "end_time": "2023-04-10T05:43:13.538383Z",
     "start_time": "2023-04-10T05:43:13.538358Z"
    }
   },
   "outputs": [],
   "source": [
    "clf3 = KNeighborsRegressor(n_neighbors=3)\n",
    "clf3.fit(X,y)\n",
    "y_pred = clf3.predict(X_test)\n",
    "\n",
    "print('R2 score: ',r2_score(y_test,y_pred))\n",
    "print('MAE: ',mean_absolute_error(y_test,y_pred))"
   ]
  },
  {
   "cell_type": "markdown",
   "id": "247becd3",
   "metadata": {},
   "source": [
    "## AdaBoost Regressor"
   ]
  },
  {
   "cell_type": "code",
   "execution_count": null,
   "id": "e84276ab",
   "metadata": {
    "ExecuteTime": {
     "end_time": "2023-04-10T05:43:13.540531Z",
     "start_time": "2023-04-10T05:43:13.540503Z"
    }
   },
   "outputs": [],
   "source": [
    "clf4 = AdaBoostRegressor(n_estimators=15,learning_rate=1.0)\n",
    "clf4.fit(X,y)\n",
    "y_pred = clf4.predict(X_test)\n",
    "\n",
    "print('R2 score: ',r2_score(y_test,y_pred))\n",
    "print('MAE: ',mean_absolute_error(y_test,y_pred))"
   ]
  },
  {
   "cell_type": "markdown",
   "id": "e057c3de",
   "metadata": {},
   "source": [
    "## Random Forest"
   ]
  },
  {
   "cell_type": "code",
   "execution_count": null,
   "id": "3c18b424",
   "metadata": {
    "ExecuteTime": {
     "end_time": "2023-04-10T05:43:13.542760Z",
     "start_time": "2023-04-10T05:43:13.542742Z"
    }
   },
   "outputs": [],
   "source": [
    "clf5 = RandomForestRegressor(n_estimators=100,\n",
    "                              random_state=3,\n",
    "                              max_samples=0.5,\n",
    "                              max_features=0.75,\n",
    "                              max_depth=15)\n",
    "clf5.fit(X,y)\n",
    "y_pred = clf5.predict(X_test)\n",
    "\n",
    "print('R2 score: ',r2_score(y_test,y_pred))\n",
    "print('MAE: ',mean_absolute_error(y_test,y_pred))"
   ]
  },
  {
   "cell_type": "markdown",
   "id": "c0daafec",
   "metadata": {},
   "source": [
    "## Decision Tree"
   ]
  },
  {
   "cell_type": "code",
   "execution_count": null,
   "id": "7133bc40",
   "metadata": {
    "ExecuteTime": {
     "end_time": "2023-04-10T05:43:13.544575Z",
     "start_time": "2023-04-10T05:43:13.544556Z"
    }
   },
   "outputs": [],
   "source": [
    "clf6 = DecisionTreeRegressor(max_depth=8)\n",
    "clf6.fit(X,y)\n",
    "y_pred = clf6.predict(X_test)\n",
    "\n",
    "print('R2 score: ',r2_score(y_test,y_pred))\n",
    "print('MAE: ',mean_absolute_error(y_test,y_pred))"
   ]
  },
  {
   "cell_type": "markdown",
   "id": "2ed94b69",
   "metadata": {},
   "source": [
    "## Support Vector Regressor"
   ]
  },
  {
   "cell_type": "code",
   "execution_count": null,
   "id": "77636790",
   "metadata": {
    "ExecuteTime": {
     "end_time": "2023-04-10T05:43:13.546295Z",
     "start_time": "2023-04-10T05:43:13.546267Z"
    }
   },
   "outputs": [],
   "source": [
    "from sklearn.svm import SVR\n",
    "clf7 = SVR(kernel='rbf',C=10000,epsilon=0.1)\n",
    "clf7.fit(X,y)\n",
    "y_pred = clf7.predict(X_test)\n",
    "\n",
    "print('R2 score: ',r2_score(y_test,y_pred))\n",
    "print('MAE: ',mean_absolute_error(y_test,y_pred))"
   ]
  },
  {
   "cell_type": "code",
   "execution_count": null,
   "id": "38c26013",
   "metadata": {},
   "outputs": [],
   "source": []
  }
 ],
 "metadata": {
  "kernelspec": {
   "display_name": "Python 3 (ipykernel)",
   "language": "python",
   "name": "python3"
  },
  "language_info": {
   "codemirror_mode": {
    "name": "ipython",
    "version": 3
   },
   "file_extension": ".py",
   "mimetype": "text/x-python",
   "name": "python",
   "nbconvert_exporter": "python",
   "pygments_lexer": "ipython3",
   "version": "3.10.6"
  },
  "varInspector": {
   "cols": {
    "lenName": 16,
    "lenType": 16,
    "lenVar": 40
   },
   "kernels_config": {
    "python": {
     "delete_cmd_postfix": "",
     "delete_cmd_prefix": "del ",
     "library": "var_list.py",
     "varRefreshCmd": "print(var_dic_list())"
    },
    "r": {
     "delete_cmd_postfix": ") ",
     "delete_cmd_prefix": "rm(",
     "library": "var_list.r",
     "varRefreshCmd": "cat(var_dic_list()) "
    }
   },
   "types_to_exclude": [
    "module",
    "function",
    "builtin_function_or_method",
    "instance",
    "_Feature"
   ],
   "window_display": false
  }
 },
 "nbformat": 4,
 "nbformat_minor": 5
}
