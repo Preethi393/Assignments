{
 "cells": [
  {
   "cell_type": "markdown",
   "id": "05bf171c",
   "metadata": {},
   "source": [
    "The main objective or goal of this project is to build a model to identify emails as abusive or non abusive on the given day based on the above inappropriate content.\n",
    "\n",
    "The dataset contains more than 50000 emails"
   ]
  },
  {
   "cell_type": "code",
   "execution_count": 1,
   "id": "025c1d1a",
   "metadata": {
    "ExecuteTime": {
     "end_time": "2021-10-09T11:47:23.711303Z",
     "start_time": "2021-10-09T11:47:05.023986Z"
    }
   },
   "outputs": [],
   "source": [
    "import pandas as pd\n",
    "import numpy as np\n",
    "import string \n",
    "import spacy \n",
    "from matplotlib.pyplot import imread\n",
    "from matplotlib import pyplot as plt\n",
    "from wordcloud import WordCloud\n",
    "%matplotlib inline"
   ]
  },
  {
   "cell_type": "markdown",
   "id": "0d35212b",
   "metadata": {},
   "source": [
    "# EDA"
   ]
  },
  {
   "cell_type": "code",
   "execution_count": 2,
   "id": "9479c3ac",
   "metadata": {
    "ExecuteTime": {
     "end_time": "2021-10-09T11:47:25.568123Z",
     "start_time": "2021-10-09T11:47:23.721924Z"
    }
   },
   "outputs": [
    {
     "data": {
      "text/html": [
       "<div>\n",
       "<style scoped>\n",
       "    .dataframe tbody tr th:only-of-type {\n",
       "        vertical-align: middle;\n",
       "    }\n",
       "\n",
       "    .dataframe tbody tr th {\n",
       "        vertical-align: top;\n",
       "    }\n",
       "\n",
       "    .dataframe thead th {\n",
       "        text-align: right;\n",
       "    }\n",
       "</style>\n",
       "<table border=\"1\" class=\"dataframe\">\n",
       "  <thead>\n",
       "    <tr style=\"text-align: right;\">\n",
       "      <th></th>\n",
       "      <th>Unnamed: 0</th>\n",
       "      <th>filename</th>\n",
       "      <th>Message-ID</th>\n",
       "      <th>content</th>\n",
       "      <th>Class</th>\n",
       "    </tr>\n",
       "  </thead>\n",
       "  <tbody>\n",
       "    <tr>\n",
       "      <th>0</th>\n",
       "      <td>0</td>\n",
       "      <td>arnold-j/_sent_mail/34.</td>\n",
       "      <td>&lt;15267340.1075857594923.JavaMail.evans@thyme&gt;</td>\n",
       "      <td>eat shit\\n\\n\\n\\n\\nJohn J Lavorato@excelr\\n11/1...</td>\n",
       "      <td>Abusive</td>\n",
       "    </tr>\n",
       "    <tr>\n",
       "      <th>1</th>\n",
       "      <td>1</td>\n",
       "      <td>arnold-j/_sent_mail/517.</td>\n",
       "      <td>&lt;15539583.1075857652152.JavaMail.evans@thyme&gt;</td>\n",
       "      <td>fuck you</td>\n",
       "      <td>Abusive</td>\n",
       "    </tr>\n",
       "    <tr>\n",
       "      <th>2</th>\n",
       "      <td>2</td>\n",
       "      <td>arnold-j/_sent_mail/743.</td>\n",
       "      <td>&lt;4339799.1075857657711.JavaMail.evans@thyme&gt;</td>\n",
       "      <td>Gentlemen:\\nThe following champagne is availab...</td>\n",
       "      <td>Abusive</td>\n",
       "    </tr>\n",
       "    <tr>\n",
       "      <th>3</th>\n",
       "      <td>3</td>\n",
       "      <td>arnold-j/_sent_mail/766.</td>\n",
       "      <td>&lt;25574783.1075857658215.JavaMail.evans@thyme&gt;</td>\n",
       "      <td>sorry i've taken so long...just been trying to...</td>\n",
       "      <td>Abusive</td>\n",
       "    </tr>\n",
       "    <tr>\n",
       "      <th>4</th>\n",
       "      <td>4</td>\n",
       "      <td>arnold-j/_sent_mail/797.</td>\n",
       "      <td>&lt;19506151.1075857658895.JavaMail.evans@thyme&gt;</td>\n",
       "      <td>asshole\\n\\n\\n\\n\\nJohn J Lavorato@excelr\\n12/23...</td>\n",
       "      <td>Abusive</td>\n",
       "    </tr>\n",
       "  </tbody>\n",
       "</table>\n",
       "</div>"
      ],
      "text/plain": [
       "   Unnamed: 0                  filename  \\\n",
       "0           0   arnold-j/_sent_mail/34.   \n",
       "1           1  arnold-j/_sent_mail/517.   \n",
       "2           2  arnold-j/_sent_mail/743.   \n",
       "3           3  arnold-j/_sent_mail/766.   \n",
       "4           4  arnold-j/_sent_mail/797.   \n",
       "\n",
       "                                      Message-ID  \\\n",
       "0  <15267340.1075857594923.JavaMail.evans@thyme>   \n",
       "1  <15539583.1075857652152.JavaMail.evans@thyme>   \n",
       "2   <4339799.1075857657711.JavaMail.evans@thyme>   \n",
       "3  <25574783.1075857658215.JavaMail.evans@thyme>   \n",
       "4  <19506151.1075857658895.JavaMail.evans@thyme>   \n",
       "\n",
       "                                             content    Class  \n",
       "0  eat shit\\n\\n\\n\\n\\nJohn J Lavorato@excelr\\n11/1...  Abusive  \n",
       "1                                           fuck you  Abusive  \n",
       "2  Gentlemen:\\nThe following champagne is availab...  Abusive  \n",
       "3  sorry i've taken so long...just been trying to...  Abusive  \n",
       "4  asshole\\n\\n\\n\\n\\nJohn J Lavorato@excelr\\n12/23...  Abusive  "
      ]
     },
     "execution_count": 2,
     "metadata": {},
     "output_type": "execute_result"
    }
   ],
   "source": [
    "email=pd.read_csv(\"emails1\")\n",
    "email.head()"
   ]
  },
  {
   "cell_type": "code",
   "execution_count": 3,
   "id": "7237a3dd",
   "metadata": {
    "ExecuteTime": {
     "end_time": "2021-10-09T11:47:25.608154Z",
     "start_time": "2021-10-09T11:47:25.575050Z"
    }
   },
   "outputs": [
    {
     "data": {
      "text/html": [
       "<div>\n",
       "<style scoped>\n",
       "    .dataframe tbody tr th:only-of-type {\n",
       "        vertical-align: middle;\n",
       "    }\n",
       "\n",
       "    .dataframe tbody tr th {\n",
       "        vertical-align: top;\n",
       "    }\n",
       "\n",
       "    .dataframe thead th {\n",
       "        text-align: right;\n",
       "    }\n",
       "</style>\n",
       "<table border=\"1\" class=\"dataframe\">\n",
       "  <thead>\n",
       "    <tr style=\"text-align: right;\">\n",
       "      <th></th>\n",
       "      <th>Unnamed: 0</th>\n",
       "      <th>filename</th>\n",
       "      <th>Message-ID</th>\n",
       "      <th>content</th>\n",
       "      <th>Class</th>\n",
       "    </tr>\n",
       "  </thead>\n",
       "  <tbody>\n",
       "    <tr>\n",
       "      <th>48071</th>\n",
       "      <td>48071</td>\n",
       "      <td>campbell-l/notes_inbox/133.</td>\n",
       "      <td>&lt;6503484.1075857876489.JavaMail.evans@thyme&gt;</td>\n",
       "      <td>Dear Market Participants,\\n\\nPlease note the c...</td>\n",
       "      <td>Non Abusive</td>\n",
       "    </tr>\n",
       "    <tr>\n",
       "      <th>48072</th>\n",
       "      <td>48072</td>\n",
       "      <td>campbell-l/notes_inbox/134.</td>\n",
       "      <td>&lt;17277180.1075857876513.JavaMail.evans@thyme&gt;</td>\n",
       "      <td>According to my fancy ciphering we made $310,0...</td>\n",
       "      <td>Non Abusive</td>\n",
       "    </tr>\n",
       "    <tr>\n",
       "      <th>48073</th>\n",
       "      <td>48073</td>\n",
       "      <td>campbell-l/notes_inbox/135.</td>\n",
       "      <td>&lt;31066400.1075857876537.JavaMail.evans@thyme&gt;</td>\n",
       "      <td>BUSINESS HIGHLIGHTS\\n\\nWeather Group\\n\\nLet=01...</td>\n",
       "      <td>Non Abusive</td>\n",
       "    </tr>\n",
       "    <tr>\n",
       "      <th>48074</th>\n",
       "      <td>48074</td>\n",
       "      <td>campbell-l/notes_inbox/136.</td>\n",
       "      <td>&lt;26024436.1075857876659.JavaMail.evans@thyme&gt;</td>\n",
       "      <td>Welcome to: DIAMONDS NEWSLETTER         Issue:...</td>\n",
       "      <td>Non Abusive</td>\n",
       "    </tr>\n",
       "    <tr>\n",
       "      <th>48075</th>\n",
       "      <td>48075</td>\n",
       "      <td>campbell-l/notes_inbox/137.</td>\n",
       "      <td>&lt;10677824.1075857876692.JavaMail.evans@thyme&gt;</td>\n",
       "      <td>---------------------- Forwarded by Tamara Jae...</td>\n",
       "      <td>Non Abusive</td>\n",
       "    </tr>\n",
       "  </tbody>\n",
       "</table>\n",
       "</div>"
      ],
      "text/plain": [
       "       Unnamed: 0                     filename  \\\n",
       "48071       48071  campbell-l/notes_inbox/133.   \n",
       "48072       48072  campbell-l/notes_inbox/134.   \n",
       "48073       48073  campbell-l/notes_inbox/135.   \n",
       "48074       48074  campbell-l/notes_inbox/136.   \n",
       "48075       48075  campbell-l/notes_inbox/137.   \n",
       "\n",
       "                                          Message-ID  \\\n",
       "48071   <6503484.1075857876489.JavaMail.evans@thyme>   \n",
       "48072  <17277180.1075857876513.JavaMail.evans@thyme>   \n",
       "48073  <31066400.1075857876537.JavaMail.evans@thyme>   \n",
       "48074  <26024436.1075857876659.JavaMail.evans@thyme>   \n",
       "48075  <10677824.1075857876692.JavaMail.evans@thyme>   \n",
       "\n",
       "                                                 content        Class  \n",
       "48071  Dear Market Participants,\\n\\nPlease note the c...  Non Abusive  \n",
       "48072  According to my fancy ciphering we made $310,0...  Non Abusive  \n",
       "48073  BUSINESS HIGHLIGHTS\\n\\nWeather Group\\n\\nLet=01...  Non Abusive  \n",
       "48074  Welcome to: DIAMONDS NEWSLETTER         Issue:...  Non Abusive  \n",
       "48075  ---------------------- Forwarded by Tamara Jae...  Non Abusive  "
      ]
     },
     "execution_count": 3,
     "metadata": {},
     "output_type": "execute_result"
    }
   ],
   "source": [
    "email.tail()"
   ]
  },
  {
   "cell_type": "code",
   "execution_count": 4,
   "id": "c958f85a",
   "metadata": {
    "ExecuteTime": {
     "end_time": "2021-10-09T11:47:25.633284Z",
     "start_time": "2021-10-09T11:47:25.613265Z"
    }
   },
   "outputs": [
    {
     "data": {
      "text/plain": [
       "pandas.core.frame.DataFrame"
      ]
     },
     "execution_count": 4,
     "metadata": {},
     "output_type": "execute_result"
    }
   ],
   "source": [
    "# Data Structure\n",
    "type(email)"
   ]
  },
  {
   "cell_type": "code",
   "execution_count": 5,
   "id": "e5e331c0",
   "metadata": {
    "ExecuteTime": {
     "end_time": "2021-10-09T11:47:25.657551Z",
     "start_time": "2021-10-09T11:47:25.639702Z"
    }
   },
   "outputs": [
    {
     "data": {
      "text/plain": [
       "(48076, 5)"
      ]
     },
     "execution_count": 5,
     "metadata": {},
     "output_type": "execute_result"
    }
   ],
   "source": [
    "email.shape"
   ]
  },
  {
   "cell_type": "code",
   "execution_count": 6,
   "id": "48583708",
   "metadata": {
    "ExecuteTime": {
     "end_time": "2021-10-09T11:47:25.679684Z",
     "start_time": "2021-10-09T11:47:25.661496Z"
    }
   },
   "outputs": [
    {
     "data": {
      "text/plain": [
       "Unnamed: 0     int64\n",
       "filename      object\n",
       "Message-ID    object\n",
       "content       object\n",
       "Class         object\n",
       "dtype: object"
      ]
     },
     "execution_count": 6,
     "metadata": {},
     "output_type": "execute_result"
    }
   ],
   "source": [
    "# Datatypes\n",
    "email.dtypes"
   ]
  },
  {
   "cell_type": "markdown",
   "id": "d6e04c05",
   "metadata": {},
   "source": [
    "# Datatype Conversion"
   ]
  },
  {
   "cell_type": "code",
   "execution_count": 7,
   "id": "f1aec0cf",
   "metadata": {
    "ExecuteTime": {
     "end_time": "2021-10-09T11:47:25.769020Z",
     "start_time": "2021-10-09T11:47:25.685703Z"
    },
    "scrolled": false
   },
   "outputs": [
    {
     "name": "stdout",
     "output_type": "stream",
     "text": [
      "<class 'pandas.core.frame.DataFrame'>\n",
      "RangeIndex: 48076 entries, 0 to 48075\n",
      "Data columns (total 5 columns):\n",
      " #   Column      Non-Null Count  Dtype \n",
      "---  ------      --------------  ----- \n",
      " 0   Unnamed: 0  48076 non-null  int64 \n",
      " 1   filename    48076 non-null  object\n",
      " 2   Message-ID  48076 non-null  object\n",
      " 3   content     48076 non-null  object\n",
      " 4   Class       48076 non-null  object\n",
      "dtypes: int64(1), object(4)\n",
      "memory usage: 1.8+ MB\n"
     ]
    }
   ],
   "source": [
    "email.info()"
   ]
  },
  {
   "cell_type": "code",
   "execution_count": 8,
   "id": "0ff07a7d",
   "metadata": {
    "ExecuteTime": {
     "end_time": "2021-10-09T11:47:25.810223Z",
     "start_time": "2021-10-09T11:47:25.775496Z"
    }
   },
   "outputs": [
    {
     "data": {
      "text/html": [
       "<div>\n",
       "<style scoped>\n",
       "    .dataframe tbody tr th:only-of-type {\n",
       "        vertical-align: middle;\n",
       "    }\n",
       "\n",
       "    .dataframe tbody tr th {\n",
       "        vertical-align: top;\n",
       "    }\n",
       "\n",
       "    .dataframe thead th {\n",
       "        text-align: right;\n",
       "    }\n",
       "</style>\n",
       "<table border=\"1\" class=\"dataframe\">\n",
       "  <thead>\n",
       "    <tr style=\"text-align: right;\">\n",
       "      <th></th>\n",
       "      <th>content</th>\n",
       "      <th>Class</th>\n",
       "    </tr>\n",
       "  </thead>\n",
       "  <tbody>\n",
       "    <tr>\n",
       "      <th>0</th>\n",
       "      <td>eat shit\\n\\n\\n\\n\\nJohn J Lavorato@excelr\\n11/1...</td>\n",
       "      <td>Abusive</td>\n",
       "    </tr>\n",
       "    <tr>\n",
       "      <th>1</th>\n",
       "      <td>fuck you</td>\n",
       "      <td>Abusive</td>\n",
       "    </tr>\n",
       "    <tr>\n",
       "      <th>2</th>\n",
       "      <td>Gentlemen:\\nThe following champagne is availab...</td>\n",
       "      <td>Abusive</td>\n",
       "    </tr>\n",
       "    <tr>\n",
       "      <th>3</th>\n",
       "      <td>sorry i've taken so long...just been trying to...</td>\n",
       "      <td>Abusive</td>\n",
       "    </tr>\n",
       "    <tr>\n",
       "      <th>4</th>\n",
       "      <td>asshole\\n\\n\\n\\n\\nJohn J Lavorato@excelr\\n12/23...</td>\n",
       "      <td>Abusive</td>\n",
       "    </tr>\n",
       "    <tr>\n",
       "      <th>...</th>\n",
       "      <td>...</td>\n",
       "      <td>...</td>\n",
       "    </tr>\n",
       "    <tr>\n",
       "      <th>48071</th>\n",
       "      <td>Dear Market Participants,\\n\\nPlease note the c...</td>\n",
       "      <td>Non Abusive</td>\n",
       "    </tr>\n",
       "    <tr>\n",
       "      <th>48072</th>\n",
       "      <td>According to my fancy ciphering we made $310,0...</td>\n",
       "      <td>Non Abusive</td>\n",
       "    </tr>\n",
       "    <tr>\n",
       "      <th>48073</th>\n",
       "      <td>BUSINESS HIGHLIGHTS\\n\\nWeather Group\\n\\nLet=01...</td>\n",
       "      <td>Non Abusive</td>\n",
       "    </tr>\n",
       "    <tr>\n",
       "      <th>48074</th>\n",
       "      <td>Welcome to: DIAMONDS NEWSLETTER         Issue:...</td>\n",
       "      <td>Non Abusive</td>\n",
       "    </tr>\n",
       "    <tr>\n",
       "      <th>48075</th>\n",
       "      <td>---------------------- Forwarded by Tamara Jae...</td>\n",
       "      <td>Non Abusive</td>\n",
       "    </tr>\n",
       "  </tbody>\n",
       "</table>\n",
       "<p>48076 rows × 2 columns</p>\n",
       "</div>"
      ],
      "text/plain": [
       "                                                 content        Class\n",
       "0      eat shit\\n\\n\\n\\n\\nJohn J Lavorato@excelr\\n11/1...      Abusive\n",
       "1                                               fuck you      Abusive\n",
       "2      Gentlemen:\\nThe following champagne is availab...      Abusive\n",
       "3      sorry i've taken so long...just been trying to...      Abusive\n",
       "4      asshole\\n\\n\\n\\n\\nJohn J Lavorato@excelr\\n12/23...      Abusive\n",
       "...                                                  ...          ...\n",
       "48071  Dear Market Participants,\\n\\nPlease note the c...  Non Abusive\n",
       "48072  According to my fancy ciphering we made $310,0...  Non Abusive\n",
       "48073  BUSINESS HIGHLIGHTS\\n\\nWeather Group\\n\\nLet=01...  Non Abusive\n",
       "48074  Welcome to: DIAMONDS NEWSLETTER         Issue:...  Non Abusive\n",
       "48075  ---------------------- Forwarded by Tamara Jae...  Non Abusive\n",
       "\n",
       "[48076 rows x 2 columns]"
      ]
     },
     "execution_count": 8,
     "metadata": {},
     "output_type": "execute_result"
    }
   ],
   "source": [
    "emails=email.drop(columns=['Unnamed: 0','filename','Message-ID'])\n",
    "emails"
   ]
  },
  {
   "cell_type": "code",
   "execution_count": 9,
   "id": "b9841550",
   "metadata": {
    "ExecuteTime": {
     "end_time": "2021-10-09T11:47:25.860318Z",
     "start_time": "2021-10-09T11:47:25.820124Z"
    }
   },
   "outputs": [
    {
     "data": {
      "text/plain": [
       "content    0\n",
       "Class      0\n",
       "dtype: int64"
      ]
     },
     "execution_count": 9,
     "metadata": {},
     "output_type": "execute_result"
    }
   ],
   "source": [
    "# Checking for null values\n",
    "emails.isnull().sum()"
   ]
  },
  {
   "cell_type": "code",
   "execution_count": 10,
   "id": "7722db99",
   "metadata": {
    "ExecuteTime": {
     "end_time": "2021-10-09T11:47:26.220106Z",
     "start_time": "2021-10-09T11:47:25.865264Z"
    }
   },
   "outputs": [
    {
     "data": {
      "text/plain": [
       "(23420, 2)"
      ]
     },
     "execution_count": 10,
     "metadata": {},
     "output_type": "execute_result"
    }
   ],
   "source": [
    "# Count of duplicated rows\n",
    "emails[emails.duplicated()].shape"
   ]
  },
  {
   "cell_type": "code",
   "execution_count": 11,
   "id": "87f3c880",
   "metadata": {
    "ExecuteTime": {
     "end_time": "2021-10-09T11:47:26.576228Z",
     "start_time": "2021-10-09T11:47:26.222101Z"
    }
   },
   "outputs": [
    {
     "data": {
      "text/plain": [
       "23420"
      ]
     },
     "execution_count": 11,
     "metadata": {},
     "output_type": "execute_result"
    }
   ],
   "source": [
    "emails.duplicated().sum()"
   ]
  },
  {
   "cell_type": "code",
   "execution_count": 12,
   "id": "b2d02295",
   "metadata": {
    "ExecuteTime": {
     "end_time": "2021-10-09T11:47:26.882986Z",
     "start_time": "2021-10-09T11:47:26.579438Z"
    }
   },
   "outputs": [],
   "source": [
    "emails.drop_duplicates(keep='first',inplace= True)"
   ]
  },
  {
   "cell_type": "code",
   "execution_count": 13,
   "id": "d2cccb30",
   "metadata": {
    "ExecuteTime": {
     "end_time": "2021-10-09T11:47:26.919770Z",
     "start_time": "2021-10-09T11:47:26.887446Z"
    }
   },
   "outputs": [
    {
     "data": {
      "text/html": [
       "<div>\n",
       "<style scoped>\n",
       "    .dataframe tbody tr th:only-of-type {\n",
       "        vertical-align: middle;\n",
       "    }\n",
       "\n",
       "    .dataframe tbody tr th {\n",
       "        vertical-align: top;\n",
       "    }\n",
       "\n",
       "    .dataframe thead th {\n",
       "        text-align: right;\n",
       "    }\n",
       "</style>\n",
       "<table border=\"1\" class=\"dataframe\">\n",
       "  <thead>\n",
       "    <tr style=\"text-align: right;\">\n",
       "      <th></th>\n",
       "      <th>content</th>\n",
       "      <th>Class</th>\n",
       "    </tr>\n",
       "  </thead>\n",
       "  <tbody>\n",
       "    <tr>\n",
       "      <th>0</th>\n",
       "      <td>eat shit\\n\\n\\n\\n\\nJohn J Lavorato@excelr\\n11/1...</td>\n",
       "      <td>Abusive</td>\n",
       "    </tr>\n",
       "    <tr>\n",
       "      <th>1</th>\n",
       "      <td>fuck you</td>\n",
       "      <td>Abusive</td>\n",
       "    </tr>\n",
       "    <tr>\n",
       "      <th>2</th>\n",
       "      <td>Gentlemen:\\nThe following champagne is availab...</td>\n",
       "      <td>Abusive</td>\n",
       "    </tr>\n",
       "    <tr>\n",
       "      <th>3</th>\n",
       "      <td>sorry i've taken so long...just been trying to...</td>\n",
       "      <td>Abusive</td>\n",
       "    </tr>\n",
       "    <tr>\n",
       "      <th>4</th>\n",
       "      <td>asshole\\n\\n\\n\\n\\nJohn J Lavorato@excelr\\n12/23...</td>\n",
       "      <td>Abusive</td>\n",
       "    </tr>\n",
       "    <tr>\n",
       "      <th>...</th>\n",
       "      <td>...</td>\n",
       "      <td>...</td>\n",
       "    </tr>\n",
       "    <tr>\n",
       "      <th>47974</th>\n",
       "      <td>Do you need new leads for your business ?\\n D...</td>\n",
       "      <td>Non Abusive</td>\n",
       "    </tr>\n",
       "    <tr>\n",
       "      <th>47975</th>\n",
       "      <td>[IMAGE]\\n  [IMAGE]     [IMAGE] GARTH BROOKS  \"...</td>\n",
       "      <td>Non Abusive</td>\n",
       "    </tr>\n",
       "    <tr>\n",
       "      <th>47977</th>\n",
       "      <td>\\n[IMAGE][IMAGE][IMAGE] \\nDear SmartReminders ...</td>\n",
       "      <td>Non Abusive</td>\n",
       "    </tr>\n",
       "    <tr>\n",
       "      <th>47980</th>\n",
       "      <td>\\n[IMAGE]\\n  [IMAGE]   [IMAGE]    [IMAGE] KID ...</td>\n",
       "      <td>Non Abusive</td>\n",
       "    </tr>\n",
       "    <tr>\n",
       "      <th>47981</th>\n",
       "      <td>\\nYou received this e-mail because you registe...</td>\n",
       "      <td>Non Abusive</td>\n",
       "    </tr>\n",
       "  </tbody>\n",
       "</table>\n",
       "<p>24656 rows × 2 columns</p>\n",
       "</div>"
      ],
      "text/plain": [
       "                                                 content        Class\n",
       "0      eat shit\\n\\n\\n\\n\\nJohn J Lavorato@excelr\\n11/1...      Abusive\n",
       "1                                               fuck you      Abusive\n",
       "2      Gentlemen:\\nThe following champagne is availab...      Abusive\n",
       "3      sorry i've taken so long...just been trying to...      Abusive\n",
       "4      asshole\\n\\n\\n\\n\\nJohn J Lavorato@excelr\\n12/23...      Abusive\n",
       "...                                                  ...          ...\n",
       "47974   Do you need new leads for your business ?\\n D...  Non Abusive\n",
       "47975  [IMAGE]\\n  [IMAGE]     [IMAGE] GARTH BROOKS  \"...  Non Abusive\n",
       "47977  \\n[IMAGE][IMAGE][IMAGE] \\nDear SmartReminders ...  Non Abusive\n",
       "47980  \\n[IMAGE]\\n  [IMAGE]   [IMAGE]    [IMAGE] KID ...  Non Abusive\n",
       "47981  \\nYou received this e-mail because you registe...  Non Abusive\n",
       "\n",
       "[24656 rows x 2 columns]"
      ]
     },
     "execution_count": 13,
     "metadata": {},
     "output_type": "execute_result"
    }
   ],
   "source": [
    "emails"
   ]
  },
  {
   "cell_type": "code",
   "execution_count": 14,
   "id": "5b6b970e",
   "metadata": {
    "ExecuteTime": {
     "end_time": "2021-10-09T11:47:26.949051Z",
     "start_time": "2021-10-09T11:47:26.923756Z"
    }
   },
   "outputs": [
    {
     "data": {
      "text/plain": [
       "Non Abusive    23014\n",
       "Abusive         1642\n",
       "Name: Class, dtype: int64"
      ]
     },
     "execution_count": 14,
     "metadata": {},
     "output_type": "execute_result"
    }
   ],
   "source": [
    "emails.Class.value_counts()"
   ]
  },
  {
   "cell_type": "markdown",
   "id": "012c3ff5",
   "metadata": {},
   "source": [
    "# Data Preprocessing"
   ]
  },
  {
   "cell_type": "code",
   "execution_count": 15,
   "id": "57bf9537",
   "metadata": {
    "ExecuteTime": {
     "end_time": "2021-10-09T11:47:29.921842Z",
     "start_time": "2021-10-09T11:47:26.950048Z"
    }
   },
   "outputs": [],
   "source": [
    "from sklearn.preprocessing import LabelEncoder\n",
    "encoder = LabelEncoder()"
   ]
  },
  {
   "cell_type": "code",
   "execution_count": 16,
   "id": "a613d20f",
   "metadata": {
    "ExecuteTime": {
     "end_time": "2021-10-09T11:47:29.969814Z",
     "start_time": "2021-10-09T11:47:29.925684Z"
    },
    "scrolled": false
   },
   "outputs": [
    {
     "data": {
      "text/html": [
       "<div>\n",
       "<style scoped>\n",
       "    .dataframe tbody tr th:only-of-type {\n",
       "        vertical-align: middle;\n",
       "    }\n",
       "\n",
       "    .dataframe tbody tr th {\n",
       "        vertical-align: top;\n",
       "    }\n",
       "\n",
       "    .dataframe thead th {\n",
       "        text-align: right;\n",
       "    }\n",
       "</style>\n",
       "<table border=\"1\" class=\"dataframe\">\n",
       "  <thead>\n",
       "    <tr style=\"text-align: right;\">\n",
       "      <th></th>\n",
       "      <th>content</th>\n",
       "      <th>Class</th>\n",
       "    </tr>\n",
       "  </thead>\n",
       "  <tbody>\n",
       "    <tr>\n",
       "      <th>0</th>\n",
       "      <td>eat shit\\n\\n\\n\\n\\nJohn J Lavorato@excelr\\n11/1...</td>\n",
       "      <td>0</td>\n",
       "    </tr>\n",
       "    <tr>\n",
       "      <th>1</th>\n",
       "      <td>fuck you</td>\n",
       "      <td>0</td>\n",
       "    </tr>\n",
       "    <tr>\n",
       "      <th>2</th>\n",
       "      <td>Gentlemen:\\nThe following champagne is availab...</td>\n",
       "      <td>0</td>\n",
       "    </tr>\n",
       "    <tr>\n",
       "      <th>3</th>\n",
       "      <td>sorry i've taken so long...just been trying to...</td>\n",
       "      <td>0</td>\n",
       "    </tr>\n",
       "    <tr>\n",
       "      <th>4</th>\n",
       "      <td>asshole\\n\\n\\n\\n\\nJohn J Lavorato@excelr\\n12/23...</td>\n",
       "      <td>0</td>\n",
       "    </tr>\n",
       "  </tbody>\n",
       "</table>\n",
       "</div>"
      ],
      "text/plain": [
       "                                             content  Class\n",
       "0  eat shit\\n\\n\\n\\n\\nJohn J Lavorato@excelr\\n11/1...      0\n",
       "1                                           fuck you      0\n",
       "2  Gentlemen:\\nThe following champagne is availab...      0\n",
       "3  sorry i've taken so long...just been trying to...      0\n",
       "4  asshole\\n\\n\\n\\n\\nJohn J Lavorato@excelr\\n12/23...      0"
      ]
     },
     "execution_count": 16,
     "metadata": {},
     "output_type": "execute_result"
    }
   ],
   "source": [
    "emails['Class'] = encoder.fit_transform(emails['Class'])\n",
    "emails.head()"
   ]
  },
  {
   "cell_type": "code",
   "execution_count": 17,
   "id": "5f7e119d",
   "metadata": {
    "ExecuteTime": {
     "end_time": "2021-10-09T11:47:30.189493Z",
     "start_time": "2021-10-09T11:47:29.974921Z"
    }
   },
   "outputs": [
    {
     "data": {
      "image/png": "[encoded data removed]",
      "text/plain": [
       "<Figure size 432x288 with 1 Axes>"
      ]
     },
     "metadata": {},
     "output_type": "display_data"
    }
   ],
   "source": [
    "plt.pie(emails['Class'].value_counts(),labels=['Abusive','Non Abusive'],autopct='%0.2f')\n",
    "plt.show()"
   ]
  },
  {
   "cell_type": "markdown",
   "id": "f3a5a0a9",
   "metadata": {},
   "source": [
    "Data is imbalanced"
   ]
  },
  {
   "cell_type": "code",
   "execution_count": 18,
   "id": "b0b223c5",
   "metadata": {
    "ExecuteTime": {
     "end_time": "2021-10-09T11:47:32.498187Z",
     "start_time": "2021-10-09T11:47:30.190489Z"
    }
   },
   "outputs": [
    {
     "name": "stderr",
     "output_type": "stream",
     "text": [
      "[nltk_data] Downloading package punkt to\n",
      "[nltk_data]     C:\\Users\\Lenovo\\AppData\\Roaming\\nltk_data...\n",
      "[nltk_data]   Package punkt is already up-to-date!\n"
     ]
    },
    {
     "data": {
      "text/plain": [
       "True"
      ]
     },
     "execution_count": 18,
     "metadata": {},
     "output_type": "execute_result"
    }
   ],
   "source": [
    "import nltk\n",
    "nltk.download(\"punkt\")"
   ]
  },
  {
   "cell_type": "code",
   "execution_count": 19,
   "id": "361be455",
   "metadata": {
    "ExecuteTime": {
     "end_time": "2021-10-09T11:47:32.602402Z",
     "start_time": "2021-10-09T11:47:32.509275Z"
    }
   },
   "outputs": [
    {
     "data": {
      "text/html": [
       "<div>\n",
       "<style scoped>\n",
       "    .dataframe tbody tr th:only-of-type {\n",
       "        vertical-align: middle;\n",
       "    }\n",
       "\n",
       "    .dataframe tbody tr th {\n",
       "        vertical-align: top;\n",
       "    }\n",
       "\n",
       "    .dataframe thead th {\n",
       "        text-align: right;\n",
       "    }\n",
       "</style>\n",
       "<table border=\"1\" class=\"dataframe\">\n",
       "  <thead>\n",
       "    <tr style=\"text-align: right;\">\n",
       "      <th></th>\n",
       "      <th>content</th>\n",
       "      <th>Class</th>\n",
       "      <th>Char_length</th>\n",
       "    </tr>\n",
       "  </thead>\n",
       "  <tbody>\n",
       "    <tr>\n",
       "      <th>0</th>\n",
       "      <td>eat shit\\n\\n\\n\\n\\nJohn J Lavorato@excelr\\n11/1...</td>\n",
       "      <td>0</td>\n",
       "      <td>220</td>\n",
       "    </tr>\n",
       "    <tr>\n",
       "      <th>1</th>\n",
       "      <td>fuck you</td>\n",
       "      <td>0</td>\n",
       "      <td>8</td>\n",
       "    </tr>\n",
       "    <tr>\n",
       "      <th>2</th>\n",
       "      <td>Gentlemen:\\nThe following champagne is availab...</td>\n",
       "      <td>0</td>\n",
       "      <td>612</td>\n",
       "    </tr>\n",
       "    <tr>\n",
       "      <th>3</th>\n",
       "      <td>sorry i've taken so long...just been trying to...</td>\n",
       "      <td>0</td>\n",
       "      <td>505</td>\n",
       "    </tr>\n",
       "    <tr>\n",
       "      <th>4</th>\n",
       "      <td>asshole\\n\\n\\n\\n\\nJohn J Lavorato@excelr\\n12/23...</td>\n",
       "      <td>0</td>\n",
       "      <td>203</td>\n",
       "    </tr>\n",
       "  </tbody>\n",
       "</table>\n",
       "</div>"
      ],
      "text/plain": [
       "                                             content  Class  Char_length\n",
       "0  eat shit\\n\\n\\n\\n\\nJohn J Lavorato@excelr\\n11/1...      0          220\n",
       "1                                           fuck you      0            8\n",
       "2  Gentlemen:\\nThe following champagne is availab...      0          612\n",
       "3  sorry i've taken so long...just been trying to...      0          505\n",
       "4  asshole\\n\\n\\n\\n\\nJohn J Lavorato@excelr\\n12/23...      0          203"
      ]
     },
     "execution_count": 19,
     "metadata": {},
     "output_type": "execute_result"
    }
   ],
   "source": [
    "# To check number of characters in the content of the email\n",
    "emails['Char_length']= emails['content'].apply(len)\n",
    "emails.head()"
   ]
  },
  {
   "cell_type": "code",
   "execution_count": 20,
   "id": "8bc09403",
   "metadata": {
    "ExecuteTime": {
     "end_time": "2021-10-09T11:50:15.963092Z",
     "start_time": "2021-10-09T11:47:32.605766Z"
    }
   },
   "outputs": [
    {
     "data": {
      "text/html": [
       "<div>\n",
       "<style scoped>\n",
       "    .dataframe tbody tr th:only-of-type {\n",
       "        vertical-align: middle;\n",
       "    }\n",
       "\n",
       "    .dataframe tbody tr th {\n",
       "        vertical-align: top;\n",
       "    }\n",
       "\n",
       "    .dataframe thead th {\n",
       "        text-align: right;\n",
       "    }\n",
       "</style>\n",
       "<table border=\"1\" class=\"dataframe\">\n",
       "  <thead>\n",
       "    <tr style=\"text-align: right;\">\n",
       "      <th></th>\n",
       "      <th>content</th>\n",
       "      <th>Class</th>\n",
       "      <th>Char_length</th>\n",
       "      <th>Word_count</th>\n",
       "    </tr>\n",
       "  </thead>\n",
       "  <tbody>\n",
       "    <tr>\n",
       "      <th>0</th>\n",
       "      <td>eat shit\\n\\n\\n\\n\\nJohn J Lavorato@excelr\\n11/1...</td>\n",
       "      <td>0</td>\n",
       "      <td>220</td>\n",
       "      <td>44</td>\n",
       "    </tr>\n",
       "    <tr>\n",
       "      <th>1</th>\n",
       "      <td>fuck you</td>\n",
       "      <td>0</td>\n",
       "      <td>8</td>\n",
       "      <td>2</td>\n",
       "    </tr>\n",
       "    <tr>\n",
       "      <th>2</th>\n",
       "      <td>Gentlemen:\\nThe following champagne is availab...</td>\n",
       "      <td>0</td>\n",
       "      <td>612</td>\n",
       "      <td>99</td>\n",
       "    </tr>\n",
       "    <tr>\n",
       "      <th>3</th>\n",
       "      <td>sorry i've taken so long...just been trying to...</td>\n",
       "      <td>0</td>\n",
       "      <td>505</td>\n",
       "      <td>163</td>\n",
       "    </tr>\n",
       "    <tr>\n",
       "      <th>4</th>\n",
       "      <td>asshole\\n\\n\\n\\n\\nJohn J Lavorato@excelr\\n12/23...</td>\n",
       "      <td>0</td>\n",
       "      <td>203</td>\n",
       "      <td>42</td>\n",
       "    </tr>\n",
       "  </tbody>\n",
       "</table>\n",
       "</div>"
      ],
      "text/plain": [
       "                                             content  Class  Char_length  \\\n",
       "0  eat shit\\n\\n\\n\\n\\nJohn J Lavorato@excelr\\n11/1...      0          220   \n",
       "1                                           fuck you      0            8   \n",
       "2  Gentlemen:\\nThe following champagne is availab...      0          612   \n",
       "3  sorry i've taken so long...just been trying to...      0          505   \n",
       "4  asshole\\n\\n\\n\\n\\nJohn J Lavorato@excelr\\n12/23...      0          203   \n",
       "\n",
       "   Word_count  \n",
       "0          44  \n",
       "1           2  \n",
       "2          99  \n",
       "3         163  \n",
       "4          42  "
      ]
     },
     "execution_count": 20,
     "metadata": {},
     "output_type": "execute_result"
    }
   ],
   "source": [
    "# Word Count\n",
    "emails['Word_count'] = emails['content'].apply(lambda x:len(nltk.word_tokenize(x)))\n",
    "emails.head()"
   ]
  },
  {
   "cell_type": "code",
   "execution_count": 21,
   "id": "390c4a5b",
   "metadata": {
    "ExecuteTime": {
     "end_time": "2021-10-09T11:50:49.431236Z",
     "start_time": "2021-10-09T11:50:15.982630Z"
    }
   },
   "outputs": [
    {
     "data": {
      "text/html": [
       "<div>\n",
       "<style scoped>\n",
       "    .dataframe tbody tr th:only-of-type {\n",
       "        vertical-align: middle;\n",
       "    }\n",
       "\n",
       "    .dataframe tbody tr th {\n",
       "        vertical-align: top;\n",
       "    }\n",
       "\n",
       "    .dataframe thead th {\n",
       "        text-align: right;\n",
       "    }\n",
       "</style>\n",
       "<table border=\"1\" class=\"dataframe\">\n",
       "  <thead>\n",
       "    <tr style=\"text-align: right;\">\n",
       "      <th></th>\n",
       "      <th>content</th>\n",
       "      <th>Class</th>\n",
       "      <th>Char_length</th>\n",
       "      <th>Word_count</th>\n",
       "      <th>Num_sent</th>\n",
       "    </tr>\n",
       "  </thead>\n",
       "  <tbody>\n",
       "    <tr>\n",
       "      <th>0</th>\n",
       "      <td>eat shit\\n\\n\\n\\n\\nJohn J Lavorato@excelr\\n11/1...</td>\n",
       "      <td>0</td>\n",
       "      <td>220</td>\n",
       "      <td>44</td>\n",
       "      <td>1</td>\n",
       "    </tr>\n",
       "    <tr>\n",
       "      <th>1</th>\n",
       "      <td>fuck you</td>\n",
       "      <td>0</td>\n",
       "      <td>8</td>\n",
       "      <td>2</td>\n",
       "      <td>1</td>\n",
       "    </tr>\n",
       "    <tr>\n",
       "      <th>2</th>\n",
       "      <td>Gentlemen:\\nThe following champagne is availab...</td>\n",
       "      <td>0</td>\n",
       "      <td>612</td>\n",
       "      <td>99</td>\n",
       "      <td>6</td>\n",
       "    </tr>\n",
       "    <tr>\n",
       "      <th>3</th>\n",
       "      <td>sorry i've taken so long...just been trying to...</td>\n",
       "      <td>0</td>\n",
       "      <td>505</td>\n",
       "      <td>163</td>\n",
       "      <td>8</td>\n",
       "    </tr>\n",
       "    <tr>\n",
       "      <th>4</th>\n",
       "      <td>asshole\\n\\n\\n\\n\\nJohn J Lavorato@excelr\\n12/23...</td>\n",
       "      <td>0</td>\n",
       "      <td>203</td>\n",
       "      <td>42</td>\n",
       "      <td>2</td>\n",
       "    </tr>\n",
       "    <tr>\n",
       "      <th>...</th>\n",
       "      <td>...</td>\n",
       "      <td>...</td>\n",
       "      <td>...</td>\n",
       "      <td>...</td>\n",
       "      <td>...</td>\n",
       "    </tr>\n",
       "    <tr>\n",
       "      <th>47974</th>\n",
       "      <td>Do you need new leads for your business ?\\n D...</td>\n",
       "      <td>1</td>\n",
       "      <td>1523</td>\n",
       "      <td>255</td>\n",
       "      <td>12</td>\n",
       "    </tr>\n",
       "    <tr>\n",
       "      <th>47975</th>\n",
       "      <td>[IMAGE]\\n  [IMAGE]     [IMAGE] GARTH BROOKS  \"...</td>\n",
       "      <td>1</td>\n",
       "      <td>1126</td>\n",
       "      <td>244</td>\n",
       "      <td>12</td>\n",
       "    </tr>\n",
       "    <tr>\n",
       "      <th>47977</th>\n",
       "      <td>\\n[IMAGE][IMAGE][IMAGE] \\nDear SmartReminders ...</td>\n",
       "      <td>1</td>\n",
       "      <td>892</td>\n",
       "      <td>164</td>\n",
       "      <td>9</td>\n",
       "    </tr>\n",
       "    <tr>\n",
       "      <th>47980</th>\n",
       "      <td>\\n[IMAGE]\\n  [IMAGE]   [IMAGE]    [IMAGE] KID ...</td>\n",
       "      <td>1</td>\n",
       "      <td>932</td>\n",
       "      <td>189</td>\n",
       "      <td>10</td>\n",
       "    </tr>\n",
       "    <tr>\n",
       "      <th>47981</th>\n",
       "      <td>\\nYou received this e-mail because you registe...</td>\n",
       "      <td>1</td>\n",
       "      <td>4289</td>\n",
       "      <td>897</td>\n",
       "      <td>49</td>\n",
       "    </tr>\n",
       "  </tbody>\n",
       "</table>\n",
       "<p>24656 rows × 5 columns</p>\n",
       "</div>"
      ],
      "text/plain": [
       "                                                 content  Class  Char_length  \\\n",
       "0      eat shit\\n\\n\\n\\n\\nJohn J Lavorato@excelr\\n11/1...      0          220   \n",
       "1                                               fuck you      0            8   \n",
       "2      Gentlemen:\\nThe following champagne is availab...      0          612   \n",
       "3      sorry i've taken so long...just been trying to...      0          505   \n",
       "4      asshole\\n\\n\\n\\n\\nJohn J Lavorato@excelr\\n12/23...      0          203   \n",
       "...                                                  ...    ...          ...   \n",
       "47974   Do you need new leads for your business ?\\n D...      1         1523   \n",
       "47975  [IMAGE]\\n  [IMAGE]     [IMAGE] GARTH BROOKS  \"...      1         1126   \n",
       "47977  \\n[IMAGE][IMAGE][IMAGE] \\nDear SmartReminders ...      1          892   \n",
       "47980  \\n[IMAGE]\\n  [IMAGE]   [IMAGE]    [IMAGE] KID ...      1          932   \n",
       "47981  \\nYou received this e-mail because you registe...      1         4289   \n",
       "\n",
       "       Word_count  Num_sent  \n",
       "0              44         1  \n",
       "1               2         1  \n",
       "2              99         6  \n",
       "3             163         8  \n",
       "4              42         2  \n",
       "...           ...       ...  \n",
       "47974         255        12  \n",
       "47975         244        12  \n",
       "47977         164         9  \n",
       "47980         189        10  \n",
       "47981         897        49  \n",
       "\n",
       "[24656 rows x 5 columns]"
      ]
     },
     "execution_count": 21,
     "metadata": {},
     "output_type": "execute_result"
    }
   ],
   "source": [
    "# Number of sentences in content of the email\n",
    "emails['Num_sent'] = emails['content'].apply(lambda x:len(nltk.sent_tokenize(x)))\n",
    "emails"
   ]
  },
  {
   "cell_type": "code",
   "execution_count": 22,
   "id": "cf934e55",
   "metadata": {
    "ExecuteTime": {
     "end_time": "2021-10-09T11:50:49.892694Z",
     "start_time": "2021-10-09T11:50:49.434228Z"
    }
   },
   "outputs": [
    {
     "data": {
      "text/html": [
       "<div>\n",
       "<style scoped>\n",
       "    .dataframe tbody tr th:only-of-type {\n",
       "        vertical-align: middle;\n",
       "    }\n",
       "\n",
       "    .dataframe tbody tr th {\n",
       "        vertical-align: top;\n",
       "    }\n",
       "\n",
       "    .dataframe thead th {\n",
       "        text-align: right;\n",
       "    }\n",
       "</style>\n",
       "<table border=\"1\" class=\"dataframe\">\n",
       "  <thead>\n",
       "    <tr style=\"text-align: right;\">\n",
       "      <th></th>\n",
       "      <th>Char_length</th>\n",
       "      <th>Word_count</th>\n",
       "      <th>Num_sent</th>\n",
       "    </tr>\n",
       "  </thead>\n",
       "  <tbody>\n",
       "    <tr>\n",
       "      <th>count</th>\n",
       "      <td>24656.000000</td>\n",
       "      <td>24656.000000</td>\n",
       "      <td>24656.000000</td>\n",
       "    </tr>\n",
       "    <tr>\n",
       "      <th>mean</th>\n",
       "      <td>1798.708306</td>\n",
       "      <td>340.351882</td>\n",
       "      <td>12.570409</td>\n",
       "    </tr>\n",
       "    <tr>\n",
       "      <th>std</th>\n",
       "      <td>5394.644531</td>\n",
       "      <td>818.222258</td>\n",
       "      <td>26.921471</td>\n",
       "    </tr>\n",
       "    <tr>\n",
       "      <th>min</th>\n",
       "      <td>1.000000</td>\n",
       "      <td>1.000000</td>\n",
       "      <td>1.000000</td>\n",
       "    </tr>\n",
       "    <tr>\n",
       "      <th>25%</th>\n",
       "      <td>264.000000</td>\n",
       "      <td>51.000000</td>\n",
       "      <td>3.000000</td>\n",
       "    </tr>\n",
       "    <tr>\n",
       "      <th>50%</th>\n",
       "      <td>729.000000</td>\n",
       "      <td>142.000000</td>\n",
       "      <td>6.000000</td>\n",
       "    </tr>\n",
       "    <tr>\n",
       "      <th>75%</th>\n",
       "      <td>1748.000000</td>\n",
       "      <td>344.000000</td>\n",
       "      <td>13.000000</td>\n",
       "    </tr>\n",
       "    <tr>\n",
       "      <th>max</th>\n",
       "      <td>272036.000000</td>\n",
       "      <td>32296.000000</td>\n",
       "      <td>1088.000000</td>\n",
       "    </tr>\n",
       "  </tbody>\n",
       "</table>\n",
       "</div>"
      ],
      "text/plain": [
       "         Char_length    Word_count      Num_sent\n",
       "count   24656.000000  24656.000000  24656.000000\n",
       "mean     1798.708306    340.351882     12.570409\n",
       "std      5394.644531    818.222258     26.921471\n",
       "min         1.000000      1.000000      1.000000\n",
       "25%       264.000000     51.000000      3.000000\n",
       "50%       729.000000    142.000000      6.000000\n",
       "75%      1748.000000    344.000000     13.000000\n",
       "max    272036.000000  32296.000000   1088.000000"
      ]
     },
     "execution_count": 22,
     "metadata": {},
     "output_type": "execute_result"
    }
   ],
   "source": [
    "# Describe for Non Abusive emails\n",
    "emails[['Char_length','Word_count','Num_sent']].describe()"
   ]
  },
  {
   "cell_type": "code",
   "execution_count": 23,
   "id": "00a059c1",
   "metadata": {
    "ExecuteTime": {
     "end_time": "2021-10-09T11:50:50.187657Z",
     "start_time": "2021-10-09T11:50:49.896527Z"
    }
   },
   "outputs": [
    {
     "data": {
      "text/html": [
       "<div>\n",
       "<style scoped>\n",
       "    .dataframe tbody tr th:only-of-type {\n",
       "        vertical-align: middle;\n",
       "    }\n",
       "\n",
       "    .dataframe tbody tr th {\n",
       "        vertical-align: top;\n",
       "    }\n",
       "\n",
       "    .dataframe thead th {\n",
       "        text-align: right;\n",
       "    }\n",
       "</style>\n",
       "<table border=\"1\" class=\"dataframe\">\n",
       "  <thead>\n",
       "    <tr style=\"text-align: right;\">\n",
       "      <th></th>\n",
       "      <th>Char_length</th>\n",
       "      <th>Word_count</th>\n",
       "      <th>Num_sent</th>\n",
       "    </tr>\n",
       "  </thead>\n",
       "  <tbody>\n",
       "    <tr>\n",
       "      <th>count</th>\n",
       "      <td>23014.000000</td>\n",
       "      <td>23014.000000</td>\n",
       "      <td>23014.000000</td>\n",
       "    </tr>\n",
       "    <tr>\n",
       "      <th>mean</th>\n",
       "      <td>1806.440297</td>\n",
       "      <td>340.184496</td>\n",
       "      <td>12.257539</td>\n",
       "    </tr>\n",
       "    <tr>\n",
       "      <th>std</th>\n",
       "      <td>5532.160062</td>\n",
       "      <td>832.095511</td>\n",
       "      <td>26.480239</td>\n",
       "    </tr>\n",
       "    <tr>\n",
       "      <th>min</th>\n",
       "      <td>1.000000</td>\n",
       "      <td>1.000000</td>\n",
       "      <td>1.000000</td>\n",
       "    </tr>\n",
       "    <tr>\n",
       "      <th>25%</th>\n",
       "      <td>271.000000</td>\n",
       "      <td>51.000000</td>\n",
       "      <td>3.000000</td>\n",
       "    </tr>\n",
       "    <tr>\n",
       "      <th>50%</th>\n",
       "      <td>737.500000</td>\n",
       "      <td>143.000000</td>\n",
       "      <td>6.000000</td>\n",
       "    </tr>\n",
       "    <tr>\n",
       "      <th>75%</th>\n",
       "      <td>1728.000000</td>\n",
       "      <td>339.000000</td>\n",
       "      <td>13.000000</td>\n",
       "    </tr>\n",
       "    <tr>\n",
       "      <th>max</th>\n",
       "      <td>272036.000000</td>\n",
       "      <td>32296.000000</td>\n",
       "      <td>1088.000000</td>\n",
       "    </tr>\n",
       "  </tbody>\n",
       "</table>\n",
       "</div>"
      ],
      "text/plain": [
       "         Char_length    Word_count      Num_sent\n",
       "count   23014.000000  23014.000000  23014.000000\n",
       "mean     1806.440297    340.184496     12.257539\n",
       "std      5532.160062    832.095511     26.480239\n",
       "min         1.000000      1.000000      1.000000\n",
       "25%       271.000000     51.000000      3.000000\n",
       "50%       737.500000    143.000000      6.000000\n",
       "75%      1728.000000    339.000000     13.000000\n",
       "max    272036.000000  32296.000000   1088.000000"
      ]
     },
     "execution_count": 23,
     "metadata": {},
     "output_type": "execute_result"
    }
   ],
   "source": [
    "# Non Abusive\n",
    "emails[emails['Class']==1][['Char_length','Word_count','Num_sent']].describe()"
   ]
  },
  {
   "cell_type": "code",
   "execution_count": 24,
   "id": "4df0bae8",
   "metadata": {
    "ExecuteTime": {
     "end_time": "2021-10-09T11:50:50.236175Z",
     "start_time": "2021-10-09T11:50:50.190650Z"
    }
   },
   "outputs": [
    {
     "data": {
      "text/html": [
       "<div>\n",
       "<style scoped>\n",
       "    .dataframe tbody tr th:only-of-type {\n",
       "        vertical-align: middle;\n",
       "    }\n",
       "\n",
       "    .dataframe tbody tr th {\n",
       "        vertical-align: top;\n",
       "    }\n",
       "\n",
       "    .dataframe thead th {\n",
       "        text-align: right;\n",
       "    }\n",
       "</style>\n",
       "<table border=\"1\" class=\"dataframe\">\n",
       "  <thead>\n",
       "    <tr style=\"text-align: right;\">\n",
       "      <th></th>\n",
       "      <th>Char_length</th>\n",
       "      <th>Word_count</th>\n",
       "      <th>Num_sent</th>\n",
       "    </tr>\n",
       "  </thead>\n",
       "  <tbody>\n",
       "    <tr>\n",
       "      <th>count</th>\n",
       "      <td>1642.000000</td>\n",
       "      <td>1642.000000</td>\n",
       "      <td>1642.000000</td>\n",
       "    </tr>\n",
       "    <tr>\n",
       "      <th>mean</th>\n",
       "      <td>1690.338002</td>\n",
       "      <td>342.697929</td>\n",
       "      <td>16.955542</td>\n",
       "    </tr>\n",
       "    <tr>\n",
       "      <th>std</th>\n",
       "      <td>2834.633786</td>\n",
       "      <td>590.602864</td>\n",
       "      <td>32.171859</td>\n",
       "    </tr>\n",
       "    <tr>\n",
       "      <th>min</th>\n",
       "      <td>5.000000</td>\n",
       "      <td>1.000000</td>\n",
       "      <td>1.000000</td>\n",
       "    </tr>\n",
       "    <tr>\n",
       "      <th>25%</th>\n",
       "      <td>183.000000</td>\n",
       "      <td>40.250000</td>\n",
       "      <td>3.000000</td>\n",
       "    </tr>\n",
       "    <tr>\n",
       "      <th>50%</th>\n",
       "      <td>597.500000</td>\n",
       "      <td>123.000000</td>\n",
       "      <td>6.000000</td>\n",
       "    </tr>\n",
       "    <tr>\n",
       "      <th>75%</th>\n",
       "      <td>2121.000000</td>\n",
       "      <td>434.750000</td>\n",
       "      <td>19.000000</td>\n",
       "    </tr>\n",
       "    <tr>\n",
       "      <th>max</th>\n",
       "      <td>35528.000000</td>\n",
       "      <td>7112.000000</td>\n",
       "      <td>339.000000</td>\n",
       "    </tr>\n",
       "  </tbody>\n",
       "</table>\n",
       "</div>"
      ],
      "text/plain": [
       "        Char_length   Word_count     Num_sent\n",
       "count   1642.000000  1642.000000  1642.000000\n",
       "mean    1690.338002   342.697929    16.955542\n",
       "std     2834.633786   590.602864    32.171859\n",
       "min        5.000000     1.000000     1.000000\n",
       "25%      183.000000    40.250000     3.000000\n",
       "50%      597.500000   123.000000     6.000000\n",
       "75%     2121.000000   434.750000    19.000000\n",
       "max    35528.000000  7112.000000   339.000000"
      ]
     },
     "execution_count": 24,
     "metadata": {},
     "output_type": "execute_result"
    }
   ],
   "source": [
    "# Abusive\n",
    "emails[emails['Class']==0][['Char_length','Word_count','Num_sent']].describe()"
   ]
  },
  {
   "cell_type": "code",
   "execution_count": 25,
   "id": "3695147a",
   "metadata": {
    "ExecuteTime": {
     "end_time": "2021-10-09T11:50:51.579495Z",
     "start_time": "2021-10-09T11:50:50.238704Z"
    },
    "scrolled": true
   },
   "outputs": [
    {
     "data": {
      "text/plain": [
       "<AxesSubplot:xlabel='Char_length', ylabel='Count'>"
      ]
     },
     "execution_count": 25,
     "metadata": {},
     "output_type": "execute_result"
    },
    {
     "data": {
      "image/png": "[encoded data removed]",
      "text/plain": [
       "<Figure size 1080x360 with 1 Axes>"
      ]
     },
     "metadata": {
      "needs_background": "light"
     },
     "output_type": "display_data"
    }
   ],
   "source": [
    "import seaborn as sns\n",
    "plt.figure(figsize=(15,5))\n",
    "sns.histplot(emails[emails['Class']==0]['Char_length'])"
   ]
  },
  {
   "cell_type": "code",
   "execution_count": 26,
   "id": "39846044",
   "metadata": {
    "ExecuteTime": {
     "end_time": "2021-10-09T11:51:01.476708Z",
     "start_time": "2021-10-09T11:50:51.579495Z"
    }
   },
   "outputs": [
    {
     "data": {
      "text/plain": [
       "<AxesSubplot:xlabel='Char_length', ylabel='Count'>"
      ]
     },
     "execution_count": 26,
     "metadata": {},
     "output_type": "execute_result"
    },
    {
     "data": {
      "image/png": "[encoded data removed]",
      "text/plain": [
       "<Figure size 432x288 with 1 Axes>"
      ]
     },
     "metadata": {
      "needs_background": "light"
     },
     "output_type": "display_data"
    }
   ],
   "source": [
    "sns.histplot(emails[emails['Class']==1]['Char_length'],color='red')"
   ]
  },
  {
   "cell_type": "code",
   "execution_count": 27,
   "id": "74f748a4",
   "metadata": {
    "ExecuteTime": {
     "end_time": "2021-10-09T11:51:22.950484Z",
     "start_time": "2021-10-09T11:51:01.486741Z"
    },
    "scrolled": true
   },
   "outputs": [
    {
     "data": {
      "text/plain": [
       "<seaborn.axisgrid.PairGrid at 0x182ac051730>"
      ]
     },
     "execution_count": 27,
     "metadata": {},
     "output_type": "execute_result"
    },
    {
     "data": {
      "image/png": "[encoded data removed]",
      "text/plain": [
       "<Figure size 582.375x540 with 12 Axes>"
      ]
     },
     "metadata": {
      "needs_background": "light"
     },
     "output_type": "display_data"
    }
   ],
   "source": [
    "sns.pairplot(emails,hue='Class')"
   ]
  },
  {
   "cell_type": "code",
   "execution_count": 28,
   "id": "22dae877",
   "metadata": {
    "ExecuteTime": {
     "end_time": "2021-10-09T11:51:22.996042Z",
     "start_time": "2021-10-09T11:51:22.962868Z"
    }
   },
   "outputs": [
    {
     "data": {
      "text/html": [
       "<div>\n",
       "<style scoped>\n",
       "    .dataframe tbody tr th:only-of-type {\n",
       "        vertical-align: middle;\n",
       "    }\n",
       "\n",
       "    .dataframe tbody tr th {\n",
       "        vertical-align: top;\n",
       "    }\n",
       "\n",
       "    .dataframe thead th {\n",
       "        text-align: right;\n",
       "    }\n",
       "</style>\n",
       "<table border=\"1\" class=\"dataframe\">\n",
       "  <thead>\n",
       "    <tr style=\"text-align: right;\">\n",
       "      <th></th>\n",
       "      <th>Class</th>\n",
       "      <th>Char_length</th>\n",
       "      <th>Word_count</th>\n",
       "      <th>Num_sent</th>\n",
       "    </tr>\n",
       "  </thead>\n",
       "  <tbody>\n",
       "    <tr>\n",
       "      <th>Class</th>\n",
       "      <td>1.000000</td>\n",
       "      <td>0.005366</td>\n",
       "      <td>-0.000766</td>\n",
       "      <td>-0.043509</td>\n",
       "    </tr>\n",
       "    <tr>\n",
       "      <th>Char_length</th>\n",
       "      <td>0.005366</td>\n",
       "      <td>1.000000</td>\n",
       "      <td>0.834617</td>\n",
       "      <td>0.691452</td>\n",
       "    </tr>\n",
       "    <tr>\n",
       "      <th>Word_count</th>\n",
       "      <td>-0.000766</td>\n",
       "      <td>0.834617</td>\n",
       "      <td>1.000000</td>\n",
       "      <td>0.837706</td>\n",
       "    </tr>\n",
       "    <tr>\n",
       "      <th>Num_sent</th>\n",
       "      <td>-0.043509</td>\n",
       "      <td>0.691452</td>\n",
       "      <td>0.837706</td>\n",
       "      <td>1.000000</td>\n",
       "    </tr>\n",
       "  </tbody>\n",
       "</table>\n",
       "</div>"
      ],
      "text/plain": [
       "                Class  Char_length  Word_count  Num_sent\n",
       "Class        1.000000     0.005366   -0.000766 -0.043509\n",
       "Char_length  0.005366     1.000000    0.834617  0.691452\n",
       "Word_count  -0.000766     0.834617    1.000000  0.837706\n",
       "Num_sent    -0.043509     0.691452    0.837706  1.000000"
      ]
     },
     "execution_count": 28,
     "metadata": {},
     "output_type": "execute_result"
    }
   ],
   "source": [
    "emails.corr()"
   ]
  },
  {
   "cell_type": "code",
   "execution_count": 29,
   "id": "2f4018bd",
   "metadata": {
    "ExecuteTime": {
     "end_time": "2021-10-09T11:51:23.631172Z",
     "start_time": "2021-10-09T11:51:23.001181Z"
    },
    "scrolled": false
   },
   "outputs": [
    {
     "data": {
      "text/plain": [
       "<AxesSubplot:>"
      ]
     },
     "execution_count": 29,
     "metadata": {},
     "output_type": "execute_result"
    },
    {
     "data": {
      "image/png": "[encoded data removed]",
      "text/plain": [
       "<Figure size 432x288 with 2 Axes>"
      ]
     },
     "metadata": {
      "needs_background": "light"
     },
     "output_type": "display_data"
    }
   ],
   "source": [
    "sns.heatmap(emails.corr(),annot=True)"
   ]
  },
  {
   "cell_type": "markdown",
   "id": "dc9c74af",
   "metadata": {},
   "source": [
    "# TEXT PROCESSING (Clean, Tokenize and Normalise)"
   ]
  },
  {
   "cell_type": "code",
   "execution_count": 30,
   "id": "8d26fa13",
   "metadata": {
    "ExecuteTime": {
     "end_time": "2021-10-09T11:51:23.801733Z",
     "start_time": "2021-10-09T11:51:23.634124Z"
    }
   },
   "outputs": [
    {
     "name": "stderr",
     "output_type": "stream",
     "text": [
      "[nltk_data] Downloading package stopwords to\n",
      "[nltk_data]     C:\\Users\\Lenovo\\AppData\\Roaming\\nltk_data...\n",
      "[nltk_data]   Package stopwords is already up-to-date!\n",
      "[nltk_data] Downloading package punkt to\n",
      "[nltk_data]     C:\\Users\\Lenovo\\AppData\\Roaming\\nltk_data...\n",
      "[nltk_data]   Package punkt is already up-to-date!\n",
      "[nltk_data] Downloading package wordnet to\n",
      "[nltk_data]     C:\\Users\\Lenovo\\AppData\\Roaming\\nltk_data...\n",
      "[nltk_data]   Package wordnet is already up-to-date!\n"
     ]
    }
   ],
   "source": [
    "import nltk\n",
    "nltk.download('stopwords')\n",
    "nltk.download(['punkt', 'wordnet'])\n",
    "from nltk.corpus import stopwords\n",
    "from nltk.stem.wordnet import WordNetLemmatizer\n",
    "from nltk.tokenize import word_tokenize\n",
    "import re"
   ]
  },
  {
   "cell_type": "code",
   "execution_count": 31,
   "id": "bf0ca17e",
   "metadata": {
    "ExecuteTime": {
     "end_time": "2021-10-09T11:51:23.831105Z",
     "start_time": "2021-10-09T11:51:23.803728Z"
    }
   },
   "outputs": [],
   "source": [
    "STOPWORDS=set(stopwords.words('english'))\n",
    "lemmatizer= WordNetLemmatizer()\n",
    "\n",
    "def tokenize(text):\n",
    "\n",
    "   #1. Normalize the data by converting to lower case and removing punctuations\n",
    "    text = re.sub(r\"[^a-zA-Z]\", \" \", text.lower())\n",
    "    \n",
    "   #2. Tokenizing: split text into words\n",
    "    tokens = word_tokenize(text)\n",
    "    \n",
    "   #3. Remove stop words\n",
    "    words = [w for w in tokens if w not in STOPWORDS]\n",
    "    \n",
    "    #4. Lemmatize \n",
    "    lemmed_words = [lemmatizer.lemmatize(w) for w in words]\n",
    "    \n",
    "    clean_tokens = []\n",
    "    \n",
    "    for i in lemmed_words:\n",
    "        clean_tokens.append(i)\n",
    "        \n",
    "        ## back to string from list\n",
    "    text = \" \".join(clean_tokens)\n",
    "    return text"
   ]
  },
  {
   "cell_type": "code",
   "execution_count": 32,
   "id": "11d4dc6b",
   "metadata": {
    "ExecuteTime": {
     "end_time": "2021-10-09T11:53:37.930386Z",
     "start_time": "2021-10-09T11:51:23.833099Z"
    }
   },
   "outputs": [],
   "source": [
    "emails['cleantext']=emails['content'].apply(lambda x: tokenize(x))"
   ]
  },
  {
   "cell_type": "code",
   "execution_count": 33,
   "id": "4388739c",
   "metadata": {
    "ExecuteTime": {
     "end_time": "2021-10-09T11:53:37.960236Z",
     "start_time": "2021-10-09T11:53:37.934375Z"
    }
   },
   "outputs": [
    {
     "data": {
      "text/html": [
       "<div>\n",
       "<style scoped>\n",
       "    .dataframe tbody tr th:only-of-type {\n",
       "        vertical-align: middle;\n",
       "    }\n",
       "\n",
       "    .dataframe tbody tr th {\n",
       "        vertical-align: top;\n",
       "    }\n",
       "\n",
       "    .dataframe thead th {\n",
       "        text-align: right;\n",
       "    }\n",
       "</style>\n",
       "<table border=\"1\" class=\"dataframe\">\n",
       "  <thead>\n",
       "    <tr style=\"text-align: right;\">\n",
       "      <th></th>\n",
       "      <th>content</th>\n",
       "      <th>Class</th>\n",
       "      <th>Char_length</th>\n",
       "      <th>Word_count</th>\n",
       "      <th>Num_sent</th>\n",
       "      <th>cleantext</th>\n",
       "    </tr>\n",
       "  </thead>\n",
       "  <tbody>\n",
       "    <tr>\n",
       "      <th>0</th>\n",
       "      <td>eat shit\\n\\n\\n\\n\\nJohn J Lavorato@excelr\\n11/1...</td>\n",
       "      <td>0</td>\n",
       "      <td>220</td>\n",
       "      <td>44</td>\n",
       "      <td>1</td>\n",
       "      <td>eat shit john j lavorato excelr pm john arnold...</td>\n",
       "    </tr>\n",
       "    <tr>\n",
       "      <th>1</th>\n",
       "      <td>fuck you</td>\n",
       "      <td>0</td>\n",
       "      <td>8</td>\n",
       "      <td>2</td>\n",
       "      <td>1</td>\n",
       "      <td>fuck</td>\n",
       "    </tr>\n",
       "    <tr>\n",
       "      <th>2</th>\n",
       "      <td>Gentlemen:\\nThe following champagne is availab...</td>\n",
       "      <td>0</td>\n",
       "      <td>612</td>\n",
       "      <td>99</td>\n",
       "      <td>6</td>\n",
       "      <td>gentleman following champagne available approx...</td>\n",
       "    </tr>\n",
       "    <tr>\n",
       "      <th>3</th>\n",
       "      <td>sorry i've taken so long...just been trying to...</td>\n",
       "      <td>0</td>\n",
       "      <td>505</td>\n",
       "      <td>163</td>\n",
       "      <td>8</td>\n",
       "      <td>sorry taken long trying fend chick life sooooo...</td>\n",
       "    </tr>\n",
       "    <tr>\n",
       "      <th>4</th>\n",
       "      <td>asshole\\n\\n\\n\\n\\nJohn J Lavorato@excelr\\n12/23...</td>\n",
       "      <td>0</td>\n",
       "      <td>203</td>\n",
       "      <td>42</td>\n",
       "      <td>2</td>\n",
       "      <td>asshole john j lavorato excelr john arnold hou...</td>\n",
       "    </tr>\n",
       "  </tbody>\n",
       "</table>\n",
       "</div>"
      ],
      "text/plain": [
       "                                             content  Class  Char_length  \\\n",
       "0  eat shit\\n\\n\\n\\n\\nJohn J Lavorato@excelr\\n11/1...      0          220   \n",
       "1                                           fuck you      0            8   \n",
       "2  Gentlemen:\\nThe following champagne is availab...      0          612   \n",
       "3  sorry i've taken so long...just been trying to...      0          505   \n",
       "4  asshole\\n\\n\\n\\n\\nJohn J Lavorato@excelr\\n12/23...      0          203   \n",
       "\n",
       "   Word_count  Num_sent                                          cleantext  \n",
       "0          44         1  eat shit john j lavorato excelr pm john arnold...  \n",
       "1           2         1                                               fuck  \n",
       "2          99         6  gentleman following champagne available approx...  \n",
       "3         163         8  sorry taken long trying fend chick life sooooo...  \n",
       "4          42         2  asshole john j lavorato excelr john arnold hou...  "
      ]
     },
     "execution_count": 33,
     "metadata": {},
     "output_type": "execute_result"
    }
   ],
   "source": [
    "emails.head()"
   ]
  },
  {
   "cell_type": "code",
   "execution_count": 34,
   "id": "7dd50f3a",
   "metadata": {
    "ExecuteTime": {
     "end_time": "2021-10-09T11:53:37.971763Z",
     "start_time": "2021-10-09T11:53:37.964196Z"
    }
   },
   "outputs": [],
   "source": [
    "# assigning the independent features to X and the target variable to y\n",
    "X = pd.DataFrame(emails['cleantext'])\n",
    "y = emails['Class']"
   ]
  },
  {
   "cell_type": "markdown",
   "id": "b6b3d122",
   "metadata": {},
   "source": [
    "# Data Balancing"
   ]
  },
  {
   "cell_type": "code",
   "execution_count": 35,
   "id": "d9f1ff00",
   "metadata": {
    "ExecuteTime": {
     "end_time": "2021-10-09T11:53:39.530898Z",
     "start_time": "2021-10-09T11:53:37.975752Z"
    }
   },
   "outputs": [],
   "source": [
    "from imblearn.over_sampling import SMOTEN\n",
    "oversample= SMOTEN(sampling_strategy=0.33)\n",
    "X1,y1=oversample.fit_resample(X,y)"
   ]
  },
  {
   "cell_type": "code",
   "execution_count": 36,
   "id": "00ff53e2",
   "metadata": {
    "ExecuteTime": {
     "end_time": "2021-10-09T11:53:39.544639Z",
     "start_time": "2021-10-09T11:53:39.533603Z"
    }
   },
   "outputs": [
    {
     "data": {
      "text/plain": [
       "(30608,)"
      ]
     },
     "execution_count": 36,
     "metadata": {},
     "output_type": "execute_result"
    }
   ],
   "source": [
    "y1.shape"
   ]
  },
  {
   "cell_type": "code",
   "execution_count": 37,
   "id": "ca2ab698",
   "metadata": {
    "ExecuteTime": {
     "end_time": "2021-10-09T11:53:39.561484Z",
     "start_time": "2021-10-09T11:53:39.547631Z"
    }
   },
   "outputs": [
    {
     "name": "stdout",
     "output_type": "stream",
     "text": [
      "Counter({1: 23014, 0: 1642})\n"
     ]
    }
   ],
   "source": [
    "from collections import Counter\n",
    "print(Counter(y))"
   ]
  },
  {
   "cell_type": "code",
   "execution_count": 38,
   "id": "7494c522",
   "metadata": {
    "ExecuteTime": {
     "end_time": "2021-10-09T11:53:39.575450Z",
     "start_time": "2021-10-09T11:53:39.564474Z"
    }
   },
   "outputs": [
    {
     "name": "stdout",
     "output_type": "stream",
     "text": [
      "Counter({1: 23014, 0: 7594})\n"
     ]
    }
   ],
   "source": [
    "print(Counter(y1))"
   ]
  },
  {
   "cell_type": "markdown",
   "id": "eac9b42a",
   "metadata": {},
   "source": [
    "# Split the dataset into Training and Testing datasets"
   ]
  },
  {
   "cell_type": "code",
   "execution_count": 39,
   "id": "43e03712",
   "metadata": {
    "ExecuteTime": {
     "end_time": "2021-10-09T11:53:39.582315Z",
     "start_time": "2021-10-09T11:53:39.577440Z"
    }
   },
   "outputs": [],
   "source": [
    "from sklearn.model_selection import train_test_split"
   ]
  },
  {
   "cell_type": "code",
   "execution_count": 40,
   "id": "5d62923d",
   "metadata": {
    "ExecuteTime": {
     "end_time": "2021-10-09T11:53:39.604609Z",
     "start_time": "2021-10-09T11:53:39.584645Z"
    }
   },
   "outputs": [
    {
     "name": "stdout",
     "output_type": "stream",
     "text": [
      "Shape of training data: (21425, 1)\n",
      "Shape of testing data: (9183, 1)\n"
     ]
    }
   ],
   "source": [
    "#spliting the data into training 77% and test 33%\n",
    "X_train,X_test,y_train,y_test= train_test_split(X1,y1,test_size=0.3,random_state=42)\n",
    "\n",
    "print('Shape of training data:',(X_train.shape))\n",
    "print('Shape of testing data:',(X_test.shape))"
   ]
  },
  {
   "cell_type": "code",
   "execution_count": 41,
   "id": "7b3d2a29",
   "metadata": {
    "ExecuteTime": {
     "end_time": "2021-10-09T11:53:39.621616Z",
     "start_time": "2021-10-09T11:53:39.608093Z"
    }
   },
   "outputs": [
    {
     "data": {
      "text/html": [
       "<div>\n",
       "<style scoped>\n",
       "    .dataframe tbody tr th:only-of-type {\n",
       "        vertical-align: middle;\n",
       "    }\n",
       "\n",
       "    .dataframe tbody tr th {\n",
       "        vertical-align: top;\n",
       "    }\n",
       "\n",
       "    .dataframe thead th {\n",
       "        text-align: right;\n",
       "    }\n",
       "</style>\n",
       "<table border=\"1\" class=\"dataframe\">\n",
       "  <thead>\n",
       "    <tr style=\"text-align: right;\">\n",
       "      <th></th>\n",
       "      <th>cleantext</th>\n",
       "    </tr>\n",
       "  </thead>\n",
       "  <tbody>\n",
       "    <tr>\n",
       "      <th>5324</th>\n",
       "      <td>call today tomorrow morning list interviewer m...</td>\n",
       "    </tr>\n",
       "    <tr>\n",
       "      <th>20196</th>\n",
       "      <td>original message customernotices wgphou mailto...</td>\n",
       "    </tr>\n",
       "    <tr>\n",
       "      <th>13227</th>\n",
       "      <td>attached updated file summarizing action plan ...</td>\n",
       "    </tr>\n",
       "    <tr>\n",
       "      <th>14731</th>\n",
       "      <td>sally attached brief document material request...</td>\n",
       "    </tr>\n",
       "    <tr>\n",
       "      <th>18760</th>\n",
       "      <td>calendar entry appointment description john bu...</td>\n",
       "    </tr>\n",
       "  </tbody>\n",
       "</table>\n",
       "</div>"
      ],
      "text/plain": [
       "                                               cleantext\n",
       "5324   call today tomorrow morning list interviewer m...\n",
       "20196  original message customernotices wgphou mailto...\n",
       "13227  attached updated file summarizing action plan ...\n",
       "14731  sally attached brief document material request...\n",
       "18760  calendar entry appointment description john bu..."
      ]
     },
     "execution_count": 41,
     "metadata": {},
     "output_type": "execute_result"
    }
   ],
   "source": [
    "X_train.head()"
   ]
  },
  {
   "cell_type": "code",
   "execution_count": 42,
   "id": "ebcae35d",
   "metadata": {
    "ExecuteTime": {
     "end_time": "2021-10-09T11:53:39.635565Z",
     "start_time": "2021-10-09T11:53:39.626589Z"
    }
   },
   "outputs": [
    {
     "data": {
      "text/plain": [
       "5324     call today tomorrow morning list interviewer m...\n",
       "20196    original message customernotices wgphou mailto...\n",
       "13227    attached updated file summarizing action plan ...\n",
       "14731    sally attached brief document material request...\n",
       "18760    calendar entry appointment description john bu...\n",
       "Name: cleantext, dtype: object"
      ]
     },
     "execution_count": 42,
     "metadata": {},
     "output_type": "execute_result"
    }
   ],
   "source": [
    "x_train = X_train.iloc[:,0]\n",
    "x_train.head()"
   ]
  },
  {
   "cell_type": "markdown",
   "id": "57536da7",
   "metadata": {},
   "source": [
    "# CountVectorizer - Feature Extraction"
   ]
  },
  {
   "cell_type": "code",
   "execution_count": 43,
   "id": "9b82b0ef",
   "metadata": {
    "ExecuteTime": {
     "end_time": "2021-10-09T11:53:39.643795Z",
     "start_time": "2021-10-09T11:53:39.638557Z"
    }
   },
   "outputs": [],
   "source": [
    "from sklearn.feature_extraction.text import CountVectorizer, TfidfVectorizer\n",
    "cv = CountVectorizer()\n",
    "tfidf= TfidfVectorizer(max_features=10000)"
   ]
  },
  {
   "cell_type": "code",
   "execution_count": 44,
   "id": "63661c42",
   "metadata": {
    "ExecuteTime": {
     "end_time": "2021-10-09T11:53:50.856521Z",
     "start_time": "2021-10-09T11:53:39.646760Z"
    }
   },
   "outputs": [],
   "source": [
    "x= tfidf.fit_transform(x_train).toarray()"
   ]
  },
  {
   "cell_type": "code",
   "execution_count": 45,
   "id": "462531e6",
   "metadata": {
    "ExecuteTime": {
     "end_time": "2021-10-09T11:53:50.922028Z",
     "start_time": "2021-10-09T11:53:50.874344Z"
    }
   },
   "outputs": [
    {
     "data": {
      "text/plain": [
       "array([[0., 0., 0., ..., 0., 0., 0.],\n",
       "       [0., 0., 0., ..., 0., 0., 0.],\n",
       "       [0., 0., 0., ..., 0., 0., 0.],\n",
       "       ...,\n",
       "       [0., 0., 0., ..., 0., 0., 0.],\n",
       "       [0., 0., 0., ..., 0., 0., 0.],\n",
       "       [0., 0., 0., ..., 0., 0., 0.]])"
      ]
     },
     "execution_count": 45,
     "metadata": {},
     "output_type": "execute_result"
    }
   ],
   "source": [
    "x"
   ]
  },
  {
   "cell_type": "code",
   "execution_count": 46,
   "id": "8b372b2e",
   "metadata": {
    "ExecuteTime": {
     "end_time": "2021-10-09T11:53:50.935989Z",
     "start_time": "2021-10-09T11:53:50.926015Z"
    }
   },
   "outputs": [
    {
     "data": {
      "text/plain": [
       "(21425, 10000)"
      ]
     },
     "execution_count": 46,
     "metadata": {},
     "output_type": "execute_result"
    }
   ],
   "source": [
    "x.shape"
   ]
  },
  {
   "cell_type": "code",
   "execution_count": 47,
   "id": "f4234275",
   "metadata": {
    "ExecuteTime": {
     "end_time": "2021-10-09T11:53:50.968902Z",
     "start_time": "2021-10-09T11:53:50.938981Z"
    }
   },
   "outputs": [],
   "source": [
    "x_test = X_test.iloc[:,0]"
   ]
  },
  {
   "cell_type": "code",
   "execution_count": 48,
   "id": "fae9cfb4",
   "metadata": {
    "ExecuteTime": {
     "end_time": "2021-10-09T11:53:51.006814Z",
     "start_time": "2021-10-09T11:53:50.976880Z"
    }
   },
   "outputs": [
    {
     "data": {
      "text/plain": [
       "7228     forwarded eric bass hou ect k bass daphneco bi...\n",
       "17497    office tomorrow returning monday october th ne...\n",
       "17859    calendar entry appointment description prc rev...\n",
       "14007    f japanese electricity newest item added daily...\n",
       "6352     recently several question regarding excelr fit...\n",
       "Name: cleantext, dtype: object"
      ]
     },
     "execution_count": 48,
     "metadata": {},
     "output_type": "execute_result"
    }
   ],
   "source": [
    "x_test.head()"
   ]
  },
  {
   "cell_type": "code",
   "execution_count": 49,
   "id": "9d603807",
   "metadata": {
    "ExecuteTime": {
     "end_time": "2021-10-09T11:53:53.817874Z",
     "start_time": "2021-10-09T11:53:51.008795Z"
    }
   },
   "outputs": [],
   "source": [
    "test_x = tfidf.transform(x_test)"
   ]
  },
  {
   "cell_type": "code",
   "execution_count": 50,
   "id": "59c989fa",
   "metadata": {
    "ExecuteTime": {
     "end_time": "2021-10-09T11:53:54.480654Z",
     "start_time": "2021-10-09T11:53:53.823856Z"
    }
   },
   "outputs": [
    {
     "name": "stdout",
     "output_type": "stream",
     "text": [
      "(9183, 10000)\n"
     ]
    }
   ],
   "source": [
    "print(test_x.toarray().shape)"
   ]
  },
  {
   "cell_type": "markdown",
   "id": "81e9f254",
   "metadata": {},
   "source": [
    "# Model Building"
   ]
  },
  {
   "cell_type": "markdown",
   "id": "f23dd691",
   "metadata": {},
   "source": [
    "\n",
    "# Logistic Regression"
   ]
  },
  {
   "cell_type": "code",
   "execution_count": 53,
   "id": "a400f4ff",
   "metadata": {
    "ExecuteTime": {
     "end_time": "2021-10-09T11:58:17.884369Z",
     "start_time": "2021-10-09T11:58:17.865975Z"
    }
   },
   "outputs": [],
   "source": [
    "from sklearn.linear_model import LogisticRegression\n",
    "from sklearn.metrics import accuracy_score\n",
    "from sklearn.naive_bayes import MultinomialNB\n",
    "from sklearn.metrics import classification_report\n",
    "from sklearn.metrics import confusion_matrix"
   ]
  },
  {
   "cell_type": "code",
   "execution_count": 54,
   "id": "be789bd5",
   "metadata": {
    "ExecuteTime": {
     "end_time": "2021-10-09T11:58:43.068178Z",
     "start_time": "2021-10-09T11:58:19.741503Z"
    }
   },
   "outputs": [
    {
     "name": "stdout",
     "output_type": "stream",
     "text": [
      "Accuracy: 0.97\n",
      "Other Metrics:\n",
      "              precision    recall  f1-score   support\n",
      "\n",
      "           0       1.00      0.88      0.94      2294\n",
      "           1       0.96      1.00      0.98      6889\n",
      "\n",
      "    accuracy                           0.97      9183\n",
      "   macro avg       0.98      0.94      0.96      9183\n",
      "weighted avg       0.97      0.97      0.97      9183\n",
      "\n"
     ]
    }
   ],
   "source": [
    "clf6= LogisticRegression(max_iter=5000)\n",
    "clf6.fit(x,y_train)\n",
    "y_pred = clf6.predict(test_x)\n",
    "accuracy = accuracy_score(y_test, y_pred)\n",
    "\n",
    "print(\"Accuracy :\",  round(accuracy,2))\n",
    "\n",
    "print(\"Other Metrics:\")\n",
    "print(classification_report(y_test, y_pred))"
   ]
  },
  {
   "cell_type": "code",
   "execution_count": 55,
   "id": "9b0fc0c8",
   "metadata": {
    "ExecuteTime": {
     "end_time": "2021-10-09T11:59:42.909767Z",
     "start_time": "2021-10-09T11:59:42.862412Z"
    }
   },
   "outputs": [
    {
     "name": "stdout",
     "output_type": "stream",
     "text": [
      "[[2028  266]\n",
      " [   5 6884]]\n"
     ]
    }
   ],
   "source": [
    "print(confusion_matrix(y_test, y_pred))"
   ]
  },
  {
   "cell_type": "markdown",
   "id": "ae596a72",
   "metadata": {
    "ExecuteTime": {
     "end_time": "2021-10-06T08:23:25.812986Z",
     "start_time": "2021-10-06T08:23:25.722804Z"
    }
   },
   "source": [
    "Logistic Regression gives the best accuracy"
   ]
  },
  {
   "cell_type": "markdown",
   "id": "78a499dd",
   "metadata": {},
   "source": [
    "# Deployment"
   ]
  },
  {
   "cell_type": "code",
   "execution_count": 2,
   "id": "adb38bb6",
   "metadata": {
    "ExecuteTime": {
     "end_time": "2021-12-13T05:46:35.357895Z",
     "start_time": "2021-12-13T05:46:35.340905Z"
    }
   },
   "outputs": [
    {
     "ename": "NameError",
     "evalue": "name 'cv' is not defined",
     "output_type": "error",
     "traceback": [
      "\u001b[1;31m---------------------------------------------------------------------------\u001b[0m",
      "\u001b[1;31mNameError\u001b[0m                                 Traceback (most recent call last)",
      "\u001b[1;32m<ipython-input-2-a05913e94e98>\u001b[0m in \u001b[0;36m<module>\u001b[1;34m\u001b[0m\n\u001b[0;32m      1\u001b[0m \u001b[1;32mimport\u001b[0m \u001b[0mpickle\u001b[0m\u001b[1;33m\u001b[0m\u001b[1;33m\u001b[0m\u001b[0m\n\u001b[1;32m----> 2\u001b[1;33m \u001b[0mpickle\u001b[0m\u001b[1;33m.\u001b[0m\u001b[0mdump\u001b[0m\u001b[1;33m(\u001b[0m\u001b[0mcv\u001b[0m\u001b[1;33m,\u001b[0m\u001b[0mopen\u001b[0m\u001b[1;33m(\u001b[0m\u001b[1;34m'vectorizer.pkl'\u001b[0m\u001b[1;33m,\u001b[0m\u001b[1;34m'wb'\u001b[0m\u001b[1;33m)\u001b[0m\u001b[1;33m)\u001b[0m\u001b[1;33m\u001b[0m\u001b[1;33m\u001b[0m\u001b[0m\n\u001b[0m\u001b[0;32m      3\u001b[0m \u001b[0mpickle\u001b[0m\u001b[1;33m.\u001b[0m\u001b[0mdump\u001b[0m\u001b[1;33m(\u001b[0m\u001b[0mLogisticRegression\u001b[0m\u001b[1;33m,\u001b[0m\u001b[0mopen\u001b[0m\u001b[1;33m(\u001b[0m\u001b[1;34m'model.pkl'\u001b[0m\u001b[1;33m,\u001b[0m\u001b[1;34m'wb'\u001b[0m\u001b[1;33m)\u001b[0m\u001b[1;33m)\u001b[0m\u001b[1;33m\u001b[0m\u001b[1;33m\u001b[0m\u001b[0m\n",
      "\u001b[1;31mNameError\u001b[0m: name 'cv' is not defined"
     ]
    }
   ],
   "source": [
    "import pickle\n",
    "pickle.dump(tfidf,open('vectorizer.pkl','wb'))\n",
    "pickle.dump(LogisticRegression,open('model.pkl','wb'))"
   ]
  }
 ],
 "metadata": {
  "kernelspec": {
   "display_name": "Python 3 (ipykernel)",
   "language": "python",
   "name": "python3"
  },
  "language_info": {
   "codemirror_mode": {
    "name": "ipython",
    "version": 3
   },
   "file_extension": ".py",
   "mimetype": "text/x-python",
   "name": "python",
   "nbconvert_exporter": "python",
   "pygments_lexer": "ipython3",
   "version": "3.10.6"
  },
  "varInspector": {
   "cols": {
    "lenName": 16,
    "lenType": 16,
    "lenVar": 40
   },
   "kernels_config": {
    "python": {
     "delete_cmd_postfix": "",
     "delete_cmd_prefix": "del ",
     "library": "var_list.py",
     "varRefreshCmd": "print(var_dic_list())"
    },
    "r": {
     "delete_cmd_postfix": ") ",
     "delete_cmd_prefix": "rm(",
     "library": "var_list.r",
     "varRefreshCmd": "cat(var_dic_list()) "
    }
   },
   "types_to_exclude": [
    "module",
    "function",
    "builtin_function_or_method",
    "instance",
    "_Feature"
   ],
   "window_display": false
  }
 },
 "nbformat": 4,
 "nbformat_minor": 5
}
