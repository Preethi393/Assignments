{
 "cells": [
  {
   "cell_type": "code",
   "execution_count": 1,
   "id": "d67f7248",
   "metadata": {
    "ExecuteTime": {
     "end_time": "2023-02-11T04:59:53.788331Z",
     "start_time": "2023-02-11T04:59:52.583465Z"
    }
   },
   "outputs": [],
   "source": [
    "# Importing Libraries\n",
    "import albumentations as A\n",
    "import glob\n",
    "import cv2"
   ]
  },
  {
   "cell_type": "code",
   "execution_count": 2,
   "id": "267c37e5",
   "metadata": {
    "ExecuteTime": {
     "end_time": "2023-02-11T04:59:53.803186Z",
     "start_time": "2023-02-11T04:59:53.791299Z"
    }
   },
   "outputs": [],
   "source": [
    "# Augmentation pipeline\n",
    "\n",
    "tranform = A.Compose([\n",
    "    A.RandomBrightnessContrast(p = 0.2),\n",
    "    A.HueSaturationValue(p = 0.2)\n",
    "])"
   ]
  },
  {
   "cell_type": "code",
   "execution_count": null,
   "id": "55ba9fcc",
   "metadata": {},
   "outputs": [],
   "source": [
    "# Create a sequential model\n",
    "model = Sequential()\n",
    "\n",
    "# Add ResNet model to the sequential model\n",
    "model.add(res_net)\n",
    "\n",
    "# Convert the model into 1d array\n",
    "model.add(Flatten())\n",
    "\n",
    "# 1st fully connnected layer with dropout\n",
    "model.add(Dense(units = 128,activation = 'relu'))\n",
    "model.add(Dropout(0.20))\n",
    "\n",
    "# 2nd fully connnected layer with batchnormalization\n",
    "model.add(Dense(units = 64,activation = 'relu'))\n",
    "model.add(BatchNormalization())\n",
    "\n",
    "# 3rd fully connnected layer with dropout\n",
    "model.add(Dense(units = 32,activation = 'relu'))\n",
    "model.add(Dropout(0.20))\n",
    "\n",
    "# Final output layer with softmax activation function\n",
    "model.add(Dense(units = 36,activation = 'softmax'))"
   ]
  },
  {
   "cell_type": "code",
   "execution_count": 3,
   "id": "e1aa8906",
   "metadata": {
    "ExecuteTime": {
     "end_time": "2023-02-11T04:59:56.529912Z",
     "start_time": "2023-02-11T04:59:53.807313Z"
    }
   },
   "outputs": [],
   "source": [
    "count = 0\n",
    "for i in glob.glob('/home/ubuntu/Desktop/sep_data_final/sep_data/train/*/*'):\n",
    "    sub_folder = i.split('/')[-2]\n",
    "    image_name = i.split('/')[-1]\n",
    "    \n",
    "    # Read images and convert into numpy array\n",
    "    img = cv2.imread(i)\n",
    "    \n",
    "    # Convert BGR to RGB for albumentations library\n",
    "    img = cv2.cvtColor(img, cv2.COLOR_BGR2RGB)\n",
    "    \n",
    "    # Pass images to pipeline to recieve augmented images\n",
    "    transformed = tranform(image=img)\n",
    "    \n",
    "    # Get augmented images which is in the form of dictionary\n",
    "    transformed_img = transformed[\"image\"]\n",
    "    \n",
    "    #save the augmented images to the respective folders\n",
    "    if sub_folder in i:\n",
    "        cv2.imwrite(f\"/home/ubuntu//Desktop/sep_data_final/sep_data/train/{sub_folder}/{image_name}%d.jpg\" %count,transformed_img)\n",
    "        count = count + 1"
   ]
  }
 ],
 "metadata": {
  "kernelspec": {
   "display_name": "Python 3 (ipykernel)",
   "language": "python",
   "name": "python3"
  },
  "language_info": {
   "codemirror_mode": {
    "name": "ipython",
    "version": 3
   },
   "file_extension": ".py",
   "mimetype": "text/x-python",
   "name": "python",
   "nbconvert_exporter": "python",
   "pygments_lexer": "ipython3",
   "version": "3.10.6"
  },
  "varInspector": {
   "cols": {
    "lenName": 16,
    "lenType": 16,
    "lenVar": 40
   },
   "kernels_config": {
    "python": {
     "delete_cmd_postfix": "",
     "delete_cmd_prefix": "del ",
     "library": "var_list.py",
     "varRefreshCmd": "print(var_dic_list())"
    },
    "r": {
     "delete_cmd_postfix": ") ",
     "delete_cmd_prefix": "rm(",
     "library": "var_list.r",
     "varRefreshCmd": "cat(var_dic_list()) "
    }
   },
   "types_to_exclude": [
    "module",
    "function",
    "builtin_function_or_method",
    "instance",
    "_Feature"
   ],
   "window_display": false
  }
 },
 "nbformat": 4,
 "nbformat_minor": 5
}
