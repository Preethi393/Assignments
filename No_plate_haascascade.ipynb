{
 "cells": [
  {
   "cell_type": "code",
   "execution_count": 1,
   "id": "078226e1",
   "metadata": {
    "ExecuteTime": {
     "end_time": "2023-02-28T05:28:24.683307Z",
     "start_time": "2023-02-28T05:28:24.535039Z"
    }
   },
   "outputs": [],
   "source": [
    "# Import required libraries\n",
    "import cv2\n",
    "import numpy as np"
   ]
  },
  {
   "cell_type": "code",
   "execution_count": 2,
   "id": "edf35e27",
   "metadata": {
    "ExecuteTime": {
     "end_time": "2023-02-28T05:28:28.506934Z",
     "start_time": "2023-02-28T05:28:24.686399Z"
    }
   },
   "outputs": [
    {
     "name": "stdout",
     "output_type": "stream",
     "text": [
      "Number of detected license plates:  1\n"
     ]
    }
   ],
   "source": [
    "# Read input image\n",
    "img = cv2.imread(\"/home/ubuntu/Desktop/165_668759_1674647236669.jpg\")\n",
    "    \n",
    "# Convert input image to grayscale\n",
    "gray = cv2.cvtColor(img, cv2.COLOR_BGR2GRAY)\n",
    "\n",
    "# Read haarcascade for number plate detection\n",
    "cascade = cv2.CascadeClassifier('haarcascade_russian_plate_number.xml')\n",
    "\n",
    "# Detect license number plates\n",
    "plates = cascade.detectMultiScale(gray, 1.2, 5)\n",
    "print(\"Number of detected license plates: \", len(plates))\n",
    "\n",
    "# Loop over all plates\n",
    "for (x,y,w,h) in plates:\n",
    "    \n",
    "    # draw bounding rectangle around the license number plate\n",
    "    cv2.rectangle(img, (x,y), (x+w, y+h), (0,255,0),2)\n",
    "    gray_plates = gray[y:y+h, x:x+w]\n",
    "    color_plates = img[y:y+h, x:x+w]\n",
    "    \n",
    "    # Save number plates detected\n",
    "    cv2.imwrite('Numberplate.jpg', gray_plates)\n",
    "    cv2.imshow('Number Plate',gray_plates)\n",
    "    cv2.imshow('Number Plate Image', img)\n",
    "    cv2.waitKey(0)\n",
    "cv2.destroyAllWindows()"
   ]
  },
  {
   "cell_type": "code",
   "execution_count": null,
   "id": "5c7d3989",
   "metadata": {},
   "outputs": [],
   "source": []
  },
  {
   "cell_type": "code",
   "execution_count": null,
   "id": "ecc73ccf",
   "metadata": {},
   "outputs": [],
   "source": []
  }
 ],
 "metadata": {
  "kernelspec": {
   "display_name": "Python 3 (ipykernel)",
   "language": "python",
   "name": "python3"
  },
  "language_info": {
   "codemirror_mode": {
    "name": "ipython",
    "version": 3
   },
   "file_extension": ".py",
   "mimetype": "text/x-python",
   "name": "python",
   "nbconvert_exporter": "python",
   "pygments_lexer": "ipython3",
   "version": "3.10.6"
  },
  "varInspector": {
   "cols": {
    "lenName": 16,
    "lenType": 16,
    "lenVar": 40
   },
   "kernels_config": {
    "python": {
     "delete_cmd_postfix": "",
     "delete_cmd_prefix": "del ",
     "library": "var_list.py",
     "varRefreshCmd": "print(var_dic_list())"
    },
    "r": {
     "delete_cmd_postfix": ") ",
     "delete_cmd_prefix": "rm(",
     "library": "var_list.r",
     "varRefreshCmd": "cat(var_dic_list()) "
    }
   },
   "types_to_exclude": [
    "module",
    "function",
    "builtin_function_or_method",
    "instance",
    "_Feature"
   ],
   "window_display": false
  }
 },
 "nbformat": 4,
 "nbformat_minor": 5
}
