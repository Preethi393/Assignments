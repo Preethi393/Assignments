{
 "cells": [
  {
   "cell_type": "code",
   "execution_count": 1,
   "id": "c2f22afd",
   "metadata": {
    "ExecuteTime": {
     "end_time": "2023-04-14T06:03:09.540055Z",
     "start_time": "2023-04-14T06:03:08.492401Z"
    }
   },
   "outputs": [],
   "source": [
    "# Importing the basic libraries\n",
    "import pandas as pd\n",
    "import numpy as np\n",
    "import matplotlib.pyplot as plt"
   ]
  },
  {
   "cell_type": "code",
   "execution_count": 2,
   "id": "58c3fffc",
   "metadata": {
    "ExecuteTime": {
     "end_time": "2023-04-14T06:03:09.644814Z",
     "start_time": "2023-04-14T06:03:09.542531Z"
    },
    "scrolled": true
   },
   "outputs": [
    {
     "data": {
      "text/html": [
       "<div>\n",
       "<style scoped>\n",
       "    .dataframe tbody tr th:only-of-type {\n",
       "        vertical-align: middle;\n",
       "    }\n",
       "\n",
       "    .dataframe tbody tr th {\n",
       "        vertical-align: top;\n",
       "    }\n",
       "\n",
       "    .dataframe thead th {\n",
       "        text-align: right;\n",
       "    }\n",
       "</style>\n",
       "<table border=\"1\" class=\"dataframe\">\n",
       "  <thead>\n",
       "    <tr style=\"text-align: right;\">\n",
       "      <th></th>\n",
       "      <th>subject</th>\n",
       "      <th>currentState</th>\n",
       "      <th>repeatCount</th>\n",
       "      <th>priority</th>\n",
       "      <th>healTime</th>\n",
       "      <th>alertClass</th>\n",
       "      <th>alertSubClass</th>\n",
       "      <th>alertCategory</th>\n",
       "      <th>alertSubCategory</th>\n",
       "      <th>alert_autoheal</th>\n",
       "    </tr>\n",
       "  </thead>\n",
       "  <tbody>\n",
       "    <tr>\n",
       "      <th>0</th>\n",
       "      <td>FORTINET-FORTIGATE-MIB::fgTrapWcApDown (1.3.6....</td>\n",
       "      <td>Ok</td>\n",
       "      <td>2</td>\n",
       "      <td>P3</td>\n",
       "      <td>60</td>\n",
       "      <td>Network</td>\n",
       "      <td>Wireless</td>\n",
       "      <td>Device Status</td>\n",
       "      <td>AP Down</td>\n",
       "      <td>True</td>\n",
       "    </tr>\n",
       "    <tr>\n",
       "      <th>1</th>\n",
       "      <td>Critical - Packet Loss=100% - 100 (&gt;= 100)</td>\n",
       "      <td>Ok</td>\n",
       "      <td>2</td>\n",
       "      <td>P0</td>\n",
       "      <td>60</td>\n",
       "      <td>Network</td>\n",
       "      <td>Firewall</td>\n",
       "      <td>Device Status</td>\n",
       "      <td>Device Down</td>\n",
       "      <td>True</td>\n",
       "    </tr>\n",
       "    <tr>\n",
       "      <th>2</th>\n",
       "      <td>Critical - Packet Loss=100% - 100 (&gt;= 100)</td>\n",
       "      <td>Ok</td>\n",
       "      <td>2</td>\n",
       "      <td>P0</td>\n",
       "      <td>180</td>\n",
       "      <td>Compute</td>\n",
       "      <td>Virtualization</td>\n",
       "      <td>Device Status</td>\n",
       "      <td>Device Down</td>\n",
       "      <td>True</td>\n",
       "    </tr>\n",
       "    <tr>\n",
       "      <th>3</th>\n",
       "      <td>SNMP request timeout on WC008_01.mpdnet.miami-...</td>\n",
       "      <td>Ok</td>\n",
       "      <td>2</td>\n",
       "      <td>P1</td>\n",
       "      <td>240</td>\n",
       "      <td>Network</td>\n",
       "      <td>Switch</td>\n",
       "      <td>Connectivity</td>\n",
       "      <td>Monitoring Failure</td>\n",
       "      <td>True</td>\n",
       "    </tr>\n",
       "    <tr>\n",
       "      <th>4</th>\n",
       "      <td>Critical - Packet Loss=100% - 100 (&gt;= 100)</td>\n",
       "      <td>Ok</td>\n",
       "      <td>2</td>\n",
       "      <td>P0</td>\n",
       "      <td>59</td>\n",
       "      <td>Compute</td>\n",
       "      <td>Operating System</td>\n",
       "      <td>Device Status</td>\n",
       "      <td>Device Down</td>\n",
       "      <td>True</td>\n",
       "    </tr>\n",
       "  </tbody>\n",
       "</table>\n",
       "</div>"
      ],
      "text/plain": [
       "                                             subject currentState  \\\n",
       "0  FORTINET-FORTIGATE-MIB::fgTrapWcApDown (1.3.6....           Ok   \n",
       "1         Critical - Packet Loss=100% - 100 (>= 100)           Ok   \n",
       "2         Critical - Packet Loss=100% - 100 (>= 100)           Ok   \n",
       "3  SNMP request timeout on WC008_01.mpdnet.miami-...           Ok   \n",
       "4         Critical - Packet Loss=100% - 100 (>= 100)           Ok   \n",
       "\n",
       "   repeatCount priority  healTime alertClass     alertSubClass  alertCategory  \\\n",
       "0            2       P3        60    Network          Wireless  Device Status   \n",
       "1            2       P0        60    Network          Firewall  Device Status   \n",
       "2            2       P0       180    Compute    Virtualization  Device Status   \n",
       "3            2       P1       240    Network            Switch   Connectivity   \n",
       "4            2       P0        59    Compute  Operating System  Device Status   \n",
       "\n",
       "     alertSubCategory  alert_autoheal  \n",
       "0             AP Down            True  \n",
       "1         Device Down            True  \n",
       "2         Device Down            True  \n",
       "3  Monitoring Failure            True  \n",
       "4         Device Down            True  "
      ]
     },
     "execution_count": 2,
     "metadata": {},
     "output_type": "execute_result"
    }
   ],
   "source": [
    "# Import the dataset\n",
    "df = pd.read_json('alert_data.json')\n",
    "df.head()"
   ]
  },
  {
   "cell_type": "code",
   "execution_count": 3,
   "id": "a7f7a548",
   "metadata": {
    "ExecuteTime": {
     "end_time": "2023-04-14T06:03:09.660300Z",
     "start_time": "2023-04-14T06:03:09.646959Z"
    }
   },
   "outputs": [
    {
     "data": {
      "text/html": [
       "<div>\n",
       "<style scoped>\n",
       "    .dataframe tbody tr th:only-of-type {\n",
       "        vertical-align: middle;\n",
       "    }\n",
       "\n",
       "    .dataframe tbody tr th {\n",
       "        vertical-align: top;\n",
       "    }\n",
       "\n",
       "    .dataframe thead th {\n",
       "        text-align: right;\n",
       "    }\n",
       "</style>\n",
       "<table border=\"1\" class=\"dataframe\">\n",
       "  <thead>\n",
       "    <tr style=\"text-align: right;\">\n",
       "      <th></th>\n",
       "      <th>subject</th>\n",
       "      <th>currentState</th>\n",
       "      <th>repeatCount</th>\n",
       "      <th>priority</th>\n",
       "      <th>healTime</th>\n",
       "      <th>alertClass</th>\n",
       "      <th>alertSubClass</th>\n",
       "      <th>alertCategory</th>\n",
       "      <th>alertSubCategory</th>\n",
       "      <th>alert_autoheal</th>\n",
       "    </tr>\n",
       "  </thead>\n",
       "  <tbody>\n",
       "    <tr>\n",
       "      <th>9995</th>\n",
       "      <td>SNMP request timeout on WC008_01.mpdnet.miami-...</td>\n",
       "      <td>Ok</td>\n",
       "      <td>2</td>\n",
       "      <td>P1</td>\n",
       "      <td>240</td>\n",
       "      <td>Network</td>\n",
       "      <td>Switch</td>\n",
       "      <td>Connectivity</td>\n",
       "      <td>Monitoring Failure</td>\n",
       "      <td>True</td>\n",
       "    </tr>\n",
       "    <tr>\n",
       "      <th>9996</th>\n",
       "      <td>Multiple alerts on resource WC008_01.mpdnet.mi...</td>\n",
       "      <td>Ok</td>\n",
       "      <td>2</td>\n",
       "      <td>P1</td>\n",
       "      <td>240</td>\n",
       "      <td>Network</td>\n",
       "      <td>Switch</td>\n",
       "      <td>Connectivity</td>\n",
       "      <td>Monitoring Failure</td>\n",
       "      <td>True</td>\n",
       "    </tr>\n",
       "    <tr>\n",
       "      <th>9997</th>\n",
       "      <td>OpsRamp agent is offline</td>\n",
       "      <td>Ok</td>\n",
       "      <td>2</td>\n",
       "      <td>P0</td>\n",
       "      <td>1140</td>\n",
       "      <td>Compute</td>\n",
       "      <td>Operating System</td>\n",
       "      <td>Connectivity</td>\n",
       "      <td>Opsramp Cloud Connectivity</td>\n",
       "      <td>False</td>\n",
       "    </tr>\n",
       "    <tr>\n",
       "      <th>9998</th>\n",
       "      <td>[Cleared] cca02ris001.cc.nwncloud.com: cca02ri...</td>\n",
       "      <td>Ok</td>\n",
       "      <td>2</td>\n",
       "      <td>P0</td>\n",
       "      <td>58</td>\n",
       "      <td>Others</td>\n",
       "      <td>Others</td>\n",
       "      <td>Others</td>\n",
       "      <td>Others</td>\n",
       "      <td>True</td>\n",
       "    </tr>\n",
       "    <tr>\n",
       "      <th>9999</th>\n",
       "      <td>[Cleared] PSCPVLFIN1A12.NWNCC.LOCAL: PSCPVLFIN...</td>\n",
       "      <td>Ok</td>\n",
       "      <td>2</td>\n",
       "      <td>P0</td>\n",
       "      <td>58</td>\n",
       "      <td>Others</td>\n",
       "      <td>Others</td>\n",
       "      <td>Others</td>\n",
       "      <td>Others</td>\n",
       "      <td>True</td>\n",
       "    </tr>\n",
       "  </tbody>\n",
       "</table>\n",
       "</div>"
      ],
      "text/plain": [
       "                                                subject currentState  \\\n",
       "9995  SNMP request timeout on WC008_01.mpdnet.miami-...           Ok   \n",
       "9996  Multiple alerts on resource WC008_01.mpdnet.mi...           Ok   \n",
       "9997                           OpsRamp agent is offline           Ok   \n",
       "9998  [Cleared] cca02ris001.cc.nwncloud.com: cca02ri...           Ok   \n",
       "9999  [Cleared] PSCPVLFIN1A12.NWNCC.LOCAL: PSCPVLFIN...           Ok   \n",
       "\n",
       "      repeatCount priority  healTime alertClass     alertSubClass  \\\n",
       "9995            2       P1       240    Network            Switch   \n",
       "9996            2       P1       240    Network            Switch   \n",
       "9997            2       P0      1140    Compute  Operating System   \n",
       "9998            2       P0        58     Others            Others   \n",
       "9999            2       P0        58     Others            Others   \n",
       "\n",
       "     alertCategory            alertSubCategory  alert_autoheal  \n",
       "9995  Connectivity          Monitoring Failure            True  \n",
       "9996  Connectivity          Monitoring Failure            True  \n",
       "9997  Connectivity  Opsramp Cloud Connectivity           False  \n",
       "9998        Others                      Others            True  \n",
       "9999        Others                      Others            True  "
      ]
     },
     "execution_count": 3,
     "metadata": {},
     "output_type": "execute_result"
    }
   ],
   "source": [
    "df.tail()"
   ]
  },
  {
   "cell_type": "code",
   "execution_count": 4,
   "id": "6713925a",
   "metadata": {
    "ExecuteTime": {
     "end_time": "2023-04-14T06:03:09.671842Z",
     "start_time": "2023-04-14T06:03:09.663791Z"
    }
   },
   "outputs": [
    {
     "data": {
      "text/plain": [
       "pandas.core.frame.DataFrame"
      ]
     },
     "execution_count": 4,
     "metadata": {},
     "output_type": "execute_result"
    }
   ],
   "source": [
    "type(df)"
   ]
  },
  {
   "cell_type": "code",
   "execution_count": 5,
   "id": "346feac4",
   "metadata": {
    "ExecuteTime": {
     "end_time": "2023-04-14T06:03:09.680269Z",
     "start_time": "2023-04-14T06:03:09.674965Z"
    }
   },
   "outputs": [
    {
     "data": {
      "text/plain": [
       "(10000, 10)"
      ]
     },
     "execution_count": 5,
     "metadata": {},
     "output_type": "execute_result"
    }
   ],
   "source": [
    "df.shape"
   ]
  },
  {
   "cell_type": "code",
   "execution_count": 6,
   "id": "9e6eaf51",
   "metadata": {
    "ExecuteTime": {
     "end_time": "2023-04-14T06:03:09.691277Z",
     "start_time": "2023-04-14T06:03:09.684729Z"
    }
   },
   "outputs": [
    {
     "data": {
      "text/plain": [
       "subject             object\n",
       "currentState        object\n",
       "repeatCount          int64\n",
       "priority            object\n",
       "healTime             int64\n",
       "alertClass          object\n",
       "alertSubClass       object\n",
       "alertCategory       object\n",
       "alertSubCategory    object\n",
       "alert_autoheal        bool\n",
       "dtype: object"
      ]
     },
     "execution_count": 6,
     "metadata": {},
     "output_type": "execute_result"
    }
   ],
   "source": [
    "df.dtypes"
   ]
  },
  {
   "cell_type": "code",
   "execution_count": 7,
   "id": "0d571770",
   "metadata": {
    "ExecuteTime": {
     "end_time": "2023-04-14T06:03:09.727129Z",
     "start_time": "2023-04-14T06:03:09.694203Z"
    }
   },
   "outputs": [
    {
     "name": "stdout",
     "output_type": "stream",
     "text": [
      "<class 'pandas.core.frame.DataFrame'>\n",
      "RangeIndex: 10000 entries, 0 to 9999\n",
      "Data columns (total 10 columns):\n",
      " #   Column            Non-Null Count  Dtype \n",
      "---  ------            --------------  ----- \n",
      " 0   subject           10000 non-null  object\n",
      " 1   currentState      10000 non-null  object\n",
      " 2   repeatCount       10000 non-null  int64 \n",
      " 3   priority          10000 non-null  object\n",
      " 4   healTime          10000 non-null  int64 \n",
      " 5   alertClass        10000 non-null  object\n",
      " 6   alertSubClass     10000 non-null  object\n",
      " 7   alertCategory     10000 non-null  object\n",
      " 8   alertSubCategory  10000 non-null  object\n",
      " 9   alert_autoheal    10000 non-null  bool  \n",
      "dtypes: bool(1), int64(2), object(7)\n",
      "memory usage: 713.0+ KB\n"
     ]
    }
   ],
   "source": [
    "df.info()"
   ]
  },
  {
   "cell_type": "code",
   "execution_count": 8,
   "id": "17b9d78b",
   "metadata": {
    "ExecuteTime": {
     "end_time": "2023-04-14T06:03:09.755253Z",
     "start_time": "2023-04-14T06:03:09.729289Z"
    }
   },
   "outputs": [
    {
     "data": {
      "text/plain": [
       "subject             0\n",
       "currentState        0\n",
       "repeatCount         0\n",
       "priority            0\n",
       "healTime            0\n",
       "alertClass          0\n",
       "alertSubClass       0\n",
       "alertCategory       0\n",
       "alertSubCategory    0\n",
       "alert_autoheal      0\n",
       "dtype: int64"
      ]
     },
     "execution_count": 8,
     "metadata": {},
     "output_type": "execute_result"
    }
   ],
   "source": [
    "# Checking for null values\n",
    "df.isnull().sum()"
   ]
  },
  {
   "cell_type": "code",
   "execution_count": 9,
   "id": "77f58bfc",
   "metadata": {
    "ExecuteTime": {
     "end_time": "2023-04-14T06:03:09.802872Z",
     "start_time": "2023-04-14T06:03:09.758347Z"
    }
   },
   "outputs": [
    {
     "data": {
      "text/html": [
       "<div>\n",
       "<style scoped>\n",
       "    .dataframe tbody tr th:only-of-type {\n",
       "        vertical-align: middle;\n",
       "    }\n",
       "\n",
       "    .dataframe tbody tr th {\n",
       "        vertical-align: top;\n",
       "    }\n",
       "\n",
       "    .dataframe thead th {\n",
       "        text-align: right;\n",
       "    }\n",
       "</style>\n",
       "<table border=\"1\" class=\"dataframe\">\n",
       "  <thead>\n",
       "    <tr style=\"text-align: right;\">\n",
       "      <th></th>\n",
       "      <th>subject</th>\n",
       "      <th>currentState</th>\n",
       "      <th>repeatCount</th>\n",
       "      <th>priority</th>\n",
       "      <th>healTime</th>\n",
       "      <th>alertClass</th>\n",
       "      <th>alertSubClass</th>\n",
       "      <th>alertCategory</th>\n",
       "      <th>alertSubCategory</th>\n",
       "      <th>alert_autoheal</th>\n",
       "    </tr>\n",
       "  </thead>\n",
       "  <tbody>\n",
       "    <tr>\n",
       "      <th>17</th>\n",
       "      <td>Critical. No process running with name 'httpd'</td>\n",
       "      <td>Ok</td>\n",
       "      <td>2</td>\n",
       "      <td>P2</td>\n",
       "      <td>600</td>\n",
       "      <td>Others</td>\n",
       "      <td>Others</td>\n",
       "      <td>Others</td>\n",
       "      <td>Others</td>\n",
       "      <td>True</td>\n",
       "    </tr>\n",
       "    <tr>\n",
       "      <th>18</th>\n",
       "      <td>Critical. No process running with name 'httpd'</td>\n",
       "      <td>Ok</td>\n",
       "      <td>2</td>\n",
       "      <td>P2</td>\n",
       "      <td>600</td>\n",
       "      <td>Others</td>\n",
       "      <td>Others</td>\n",
       "      <td>Others</td>\n",
       "      <td>Others</td>\n",
       "      <td>True</td>\n",
       "    </tr>\n",
       "    <tr>\n",
       "      <th>20</th>\n",
       "      <td>Critical. No process running with name 'httpd'</td>\n",
       "      <td>Ok</td>\n",
       "      <td>2</td>\n",
       "      <td>P2</td>\n",
       "      <td>600</td>\n",
       "      <td>Others</td>\n",
       "      <td>Others</td>\n",
       "      <td>Others</td>\n",
       "      <td>Others</td>\n",
       "      <td>True</td>\n",
       "    </tr>\n",
       "    <tr>\n",
       "      <th>22</th>\n",
       "      <td>FORTINET-FORTIGATE-MIB::fgTrapWcApDown (1.3.6....</td>\n",
       "      <td>Ok</td>\n",
       "      <td>2</td>\n",
       "      <td>P3</td>\n",
       "      <td>60</td>\n",
       "      <td>Network</td>\n",
       "      <td>Wireless</td>\n",
       "      <td>Device Status</td>\n",
       "      <td>AP Down</td>\n",
       "      <td>True</td>\n",
       "    </tr>\n",
       "    <tr>\n",
       "      <th>29</th>\n",
       "      <td>CPU Usage is 100.0%.</td>\n",
       "      <td>Ok</td>\n",
       "      <td>2</td>\n",
       "      <td>P2</td>\n",
       "      <td>600</td>\n",
       "      <td>Compute</td>\n",
       "      <td>Operating System</td>\n",
       "      <td>Device Health</td>\n",
       "      <td>CPU</td>\n",
       "      <td>True</td>\n",
       "    </tr>\n",
       "    <tr>\n",
       "      <th>...</th>\n",
       "      <td>...</td>\n",
       "      <td>...</td>\n",
       "      <td>...</td>\n",
       "      <td>...</td>\n",
       "      <td>...</td>\n",
       "      <td>...</td>\n",
       "      <td>...</td>\n",
       "      <td>...</td>\n",
       "      <td>...</td>\n",
       "      <td>...</td>\n",
       "    </tr>\n",
       "    <tr>\n",
       "      <th>9993</th>\n",
       "      <td>Attenuated Alert: FORTINET-FORTIGATE-MIB::fgTr...</td>\n",
       "      <td>Ok</td>\n",
       "      <td>3</td>\n",
       "      <td>P1</td>\n",
       "      <td>480</td>\n",
       "      <td>Network</td>\n",
       "      <td>Wireless</td>\n",
       "      <td>Device Status</td>\n",
       "      <td>AP Down</td>\n",
       "      <td>True</td>\n",
       "    </tr>\n",
       "    <tr>\n",
       "      <th>9994</th>\n",
       "      <td>[Cleared] hcs-west-emc-storage-monitor: We are...</td>\n",
       "      <td>Ok</td>\n",
       "      <td>2</td>\n",
       "      <td>P2</td>\n",
       "      <td>18</td>\n",
       "      <td>Others</td>\n",
       "      <td>Others</td>\n",
       "      <td>Others</td>\n",
       "      <td>Others</td>\n",
       "      <td>True</td>\n",
       "    </tr>\n",
       "    <tr>\n",
       "      <th>9995</th>\n",
       "      <td>SNMP request timeout on WC008_01.mpdnet.miami-...</td>\n",
       "      <td>Ok</td>\n",
       "      <td>2</td>\n",
       "      <td>P1</td>\n",
       "      <td>240</td>\n",
       "      <td>Network</td>\n",
       "      <td>Switch</td>\n",
       "      <td>Connectivity</td>\n",
       "      <td>Monitoring Failure</td>\n",
       "      <td>True</td>\n",
       "    </tr>\n",
       "    <tr>\n",
       "      <th>9996</th>\n",
       "      <td>Multiple alerts on resource WC008_01.mpdnet.mi...</td>\n",
       "      <td>Ok</td>\n",
       "      <td>2</td>\n",
       "      <td>P1</td>\n",
       "      <td>240</td>\n",
       "      <td>Network</td>\n",
       "      <td>Switch</td>\n",
       "      <td>Connectivity</td>\n",
       "      <td>Monitoring Failure</td>\n",
       "      <td>True</td>\n",
       "    </tr>\n",
       "    <tr>\n",
       "      <th>9997</th>\n",
       "      <td>OpsRamp agent is offline</td>\n",
       "      <td>Ok</td>\n",
       "      <td>2</td>\n",
       "      <td>P0</td>\n",
       "      <td>1140</td>\n",
       "      <td>Compute</td>\n",
       "      <td>Operating System</td>\n",
       "      <td>Connectivity</td>\n",
       "      <td>Opsramp Cloud Connectivity</td>\n",
       "      <td>False</td>\n",
       "    </tr>\n",
       "  </tbody>\n",
       "</table>\n",
       "<p>4762 rows × 10 columns</p>\n",
       "</div>"
      ],
      "text/plain": [
       "                                                subject currentState  \\\n",
       "17       Critical. No process running with name 'httpd'           Ok   \n",
       "18       Critical. No process running with name 'httpd'           Ok   \n",
       "20       Critical. No process running with name 'httpd'           Ok   \n",
       "22    FORTINET-FORTIGATE-MIB::fgTrapWcApDown (1.3.6....           Ok   \n",
       "29                                 CPU Usage is 100.0%.           Ok   \n",
       "...                                                 ...          ...   \n",
       "9993  Attenuated Alert: FORTINET-FORTIGATE-MIB::fgTr...           Ok   \n",
       "9994  [Cleared] hcs-west-emc-storage-monitor: We are...           Ok   \n",
       "9995  SNMP request timeout on WC008_01.mpdnet.miami-...           Ok   \n",
       "9996  Multiple alerts on resource WC008_01.mpdnet.mi...           Ok   \n",
       "9997                           OpsRamp agent is offline           Ok   \n",
       "\n",
       "      repeatCount priority  healTime alertClass     alertSubClass  \\\n",
       "17              2       P2       600     Others            Others   \n",
       "18              2       P2       600     Others            Others   \n",
       "20              2       P2       600     Others            Others   \n",
       "22              2       P3        60    Network          Wireless   \n",
       "29              2       P2       600    Compute  Operating System   \n",
       "...           ...      ...       ...        ...               ...   \n",
       "9993            3       P1       480    Network          Wireless   \n",
       "9994            2       P2        18     Others            Others   \n",
       "9995            2       P1       240    Network            Switch   \n",
       "9996            2       P1       240    Network            Switch   \n",
       "9997            2       P0      1140    Compute  Operating System   \n",
       "\n",
       "      alertCategory            alertSubCategory  alert_autoheal  \n",
       "17           Others                      Others            True  \n",
       "18           Others                      Others            True  \n",
       "20           Others                      Others            True  \n",
       "22    Device Status                     AP Down            True  \n",
       "29    Device Health                         CPU            True  \n",
       "...             ...                         ...             ...  \n",
       "9993  Device Status                     AP Down            True  \n",
       "9994         Others                      Others            True  \n",
       "9995   Connectivity          Monitoring Failure            True  \n",
       "9996   Connectivity          Monitoring Failure            True  \n",
       "9997   Connectivity  Opsramp Cloud Connectivity           False  \n",
       "\n",
       "[4762 rows x 10 columns]"
      ]
     },
     "execution_count": 9,
     "metadata": {},
     "output_type": "execute_result"
    }
   ],
   "source": [
    "# Count of duplicated rows\n",
    "df[df.duplicated()]"
   ]
  },
  {
   "cell_type": "code",
   "execution_count": 10,
   "id": "9a0e2970",
   "metadata": {
    "ExecuteTime": {
     "end_time": "2023-04-14T06:03:09.832261Z",
     "start_time": "2023-04-14T06:03:09.807461Z"
    }
   },
   "outputs": [],
   "source": [
    "df.drop_duplicates(keep = 'first', inplace= True)"
   ]
  },
  {
   "cell_type": "code",
   "execution_count": 11,
   "id": "b625377e",
   "metadata": {
    "ExecuteTime": {
     "end_time": "2023-04-14T06:03:09.838125Z",
     "start_time": "2023-04-14T06:03:09.834637Z"
    }
   },
   "outputs": [
    {
     "data": {
      "text/plain": [
       "(5238, 10)"
      ]
     },
     "execution_count": 11,
     "metadata": {},
     "output_type": "execute_result"
    }
   ],
   "source": [
    "df.shape"
   ]
  },
  {
   "cell_type": "code",
   "execution_count": 12,
   "id": "16db65cb",
   "metadata": {
    "ExecuteTime": {
     "end_time": "2023-04-14T06:03:09.853889Z",
     "start_time": "2023-04-14T06:03:09.839941Z"
    }
   },
   "outputs": [],
   "source": [
    "df = df.drop(columns=['currentState'])"
   ]
  },
  {
   "cell_type": "code",
   "execution_count": 13,
   "id": "be06e988",
   "metadata": {
    "ExecuteTime": {
     "end_time": "2023-04-14T06:03:09.872899Z",
     "start_time": "2023-04-14T06:03:09.857174Z"
    }
   },
   "outputs": [
    {
     "data": {
      "text/html": [
       "<div>\n",
       "<style scoped>\n",
       "    .dataframe tbody tr th:only-of-type {\n",
       "        vertical-align: middle;\n",
       "    }\n",
       "\n",
       "    .dataframe tbody tr th {\n",
       "        vertical-align: top;\n",
       "    }\n",
       "\n",
       "    .dataframe thead th {\n",
       "        text-align: right;\n",
       "    }\n",
       "</style>\n",
       "<table border=\"1\" class=\"dataframe\">\n",
       "  <thead>\n",
       "    <tr style=\"text-align: right;\">\n",
       "      <th></th>\n",
       "      <th>subject</th>\n",
       "      <th>repeatCount</th>\n",
       "      <th>priority</th>\n",
       "      <th>healTime</th>\n",
       "      <th>alertClass</th>\n",
       "      <th>alertSubClass</th>\n",
       "      <th>alertCategory</th>\n",
       "      <th>alertSubCategory</th>\n",
       "      <th>alert_autoheal</th>\n",
       "    </tr>\n",
       "  </thead>\n",
       "  <tbody>\n",
       "    <tr>\n",
       "      <th>0</th>\n",
       "      <td>FORTINET-FORTIGATE-MIB::fgTrapWcApDown (1.3.6....</td>\n",
       "      <td>2</td>\n",
       "      <td>P3</td>\n",
       "      <td>60</td>\n",
       "      <td>Network</td>\n",
       "      <td>Wireless</td>\n",
       "      <td>Device Status</td>\n",
       "      <td>AP Down</td>\n",
       "      <td>True</td>\n",
       "    </tr>\n",
       "    <tr>\n",
       "      <th>1</th>\n",
       "      <td>Critical - Packet Loss=100% - 100 (&gt;= 100)</td>\n",
       "      <td>2</td>\n",
       "      <td>P0</td>\n",
       "      <td>60</td>\n",
       "      <td>Network</td>\n",
       "      <td>Firewall</td>\n",
       "      <td>Device Status</td>\n",
       "      <td>Device Down</td>\n",
       "      <td>True</td>\n",
       "    </tr>\n",
       "    <tr>\n",
       "      <th>2</th>\n",
       "      <td>Critical - Packet Loss=100% - 100 (&gt;= 100)</td>\n",
       "      <td>2</td>\n",
       "      <td>P0</td>\n",
       "      <td>180</td>\n",
       "      <td>Compute</td>\n",
       "      <td>Virtualization</td>\n",
       "      <td>Device Status</td>\n",
       "      <td>Device Down</td>\n",
       "      <td>True</td>\n",
       "    </tr>\n",
       "    <tr>\n",
       "      <th>3</th>\n",
       "      <td>SNMP request timeout on WC008_01.mpdnet.miami-...</td>\n",
       "      <td>2</td>\n",
       "      <td>P1</td>\n",
       "      <td>240</td>\n",
       "      <td>Network</td>\n",
       "      <td>Switch</td>\n",
       "      <td>Connectivity</td>\n",
       "      <td>Monitoring Failure</td>\n",
       "      <td>True</td>\n",
       "    </tr>\n",
       "    <tr>\n",
       "      <th>4</th>\n",
       "      <td>Critical - Packet Loss=100% - 100 (&gt;= 100)</td>\n",
       "      <td>2</td>\n",
       "      <td>P0</td>\n",
       "      <td>59</td>\n",
       "      <td>Compute</td>\n",
       "      <td>Operating System</td>\n",
       "      <td>Device Status</td>\n",
       "      <td>Device Down</td>\n",
       "      <td>True</td>\n",
       "    </tr>\n",
       "  </tbody>\n",
       "</table>\n",
       "</div>"
      ],
      "text/plain": [
       "                                             subject  repeatCount priority  \\\n",
       "0  FORTINET-FORTIGATE-MIB::fgTrapWcApDown (1.3.6....            2       P3   \n",
       "1         Critical - Packet Loss=100% - 100 (>= 100)            2       P0   \n",
       "2         Critical - Packet Loss=100% - 100 (>= 100)            2       P0   \n",
       "3  SNMP request timeout on WC008_01.mpdnet.miami-...            2       P1   \n",
       "4         Critical - Packet Loss=100% - 100 (>= 100)            2       P0   \n",
       "\n",
       "   healTime alertClass     alertSubClass  alertCategory    alertSubCategory  \\\n",
       "0        60    Network          Wireless  Device Status             AP Down   \n",
       "1        60    Network          Firewall  Device Status         Device Down   \n",
       "2       180    Compute    Virtualization  Device Status         Device Down   \n",
       "3       240    Network            Switch   Connectivity  Monitoring Failure   \n",
       "4        59    Compute  Operating System  Device Status         Device Down   \n",
       "\n",
       "   alert_autoheal  \n",
       "0            True  \n",
       "1            True  \n",
       "2            True  \n",
       "3            True  \n",
       "4            True  "
      ]
     },
     "execution_count": 13,
     "metadata": {},
     "output_type": "execute_result"
    }
   ],
   "source": [
    "df.head()"
   ]
  },
  {
   "cell_type": "code",
   "execution_count": 14,
   "id": "ac174451",
   "metadata": {
    "ExecuteTime": {
     "end_time": "2023-04-14T06:03:09.884072Z",
     "start_time": "2023-04-14T06:03:09.875119Z"
    }
   },
   "outputs": [
    {
     "data": {
      "text/plain": [
       "P1    2323\n",
       "P2    1627\n",
       "P0     962\n",
       "P3     326\n",
       "Name: priority, dtype: int64"
      ]
     },
     "execution_count": 14,
     "metadata": {},
     "output_type": "execute_result"
    }
   ],
   "source": [
    "# Check for value counts\n",
    "df['priority'].value_counts()"
   ]
  },
  {
   "cell_type": "code",
   "execution_count": 15,
   "id": "92f0577f",
   "metadata": {
    "ExecuteTime": {
     "end_time": "2023-04-14T06:03:09.896668Z",
     "start_time": "2023-04-14T06:03:09.886768Z"
    }
   },
   "outputs": [
    {
     "data": {
      "text/plain": [
       "Network          1671\n",
       "Others           1575\n",
       "Compute           962\n",
       "Application       657\n",
       "Environment       109\n",
       "Data              105\n",
       "Cloud              54\n",
       "Communication      53\n",
       "Tools              52\n",
       "Name: alertClass, dtype: int64"
      ]
     },
     "execution_count": 15,
     "metadata": {},
     "output_type": "execute_result"
    }
   ],
   "source": [
    "df['alertClass'].value_counts()"
   ]
  },
  {
   "cell_type": "code",
   "execution_count": 16,
   "id": "8fa056cd",
   "metadata": {
    "ExecuteTime": {
     "end_time": "2023-04-14T06:03:09.909517Z",
     "start_time": "2023-04-14T06:03:09.900598Z"
    }
   },
   "outputs": [
    {
     "data": {
      "text/plain": [
       "Others                     1575\n",
       "Operating System            765\n",
       "Switch                      749\n",
       "Web Service                 366\n",
       "Wireless                    342\n",
       "Firewall                    316\n",
       "Third Party Application     243\n",
       "Router                      218\n",
       "Virtualization              189\n",
       "Power                       109\n",
       "Infra Application            77\n",
       "Monitoring                   75\n",
       "Backup                       52\n",
       "Voice                        51\n",
       "Database                     35\n",
       "Generic Device               30\n",
       "Storage                      18\n",
       "SDWAN                        14\n",
       "Hardware                      8\n",
       "Cloud Instance                4\n",
       "Collaboration                 2\n",
       "Name: alertSubClass, dtype: int64"
      ]
     },
     "execution_count": 16,
     "metadata": {},
     "output_type": "execute_result"
    }
   ],
   "source": [
    "df['alertSubClass'].value_counts()"
   ]
  },
  {
   "cell_type": "code",
   "execution_count": 17,
   "id": "b334e45b",
   "metadata": {
    "ExecuteTime": {
     "end_time": "2023-04-14T06:03:09.927732Z",
     "start_time": "2023-04-14T06:03:09.914761Z"
    }
   },
   "outputs": [
    {
     "data": {
      "text/plain": [
       "Others                1575\n",
       "Device Status         1138\n",
       "Device Health          814\n",
       "Application Health     638\n",
       "Connectivity           511\n",
       "Network Interface      303\n",
       "Application Status     226\n",
       "Device Management       30\n",
       "VOIP Link                2\n",
       "Resource Status          1\n",
       "Name: alertCategory, dtype: int64"
      ]
     },
     "execution_count": 17,
     "metadata": {},
     "output_type": "execute_result"
    }
   ],
   "source": [
    "df['alertCategory'].value_counts()"
   ]
  },
  {
   "cell_type": "code",
   "execution_count": 18,
   "id": "a55f6a89",
   "metadata": {
    "ExecuteTime": {
     "end_time": "2023-04-14T06:03:09.939987Z",
     "start_time": "2023-04-14T06:03:09.930811Z"
    }
   },
   "outputs": [
    {
     "data": {
      "text/plain": [
       "Others                             1575\n",
       "Device Down                         652\n",
       "Monitoring Failure                  310\n",
       "CPU                                 252\n",
       "Third Party Application Service     243\n",
       "                                   ... \n",
       "Management Connectivity               1\n",
       "Resource Down                         1\n",
       "High Availability                     1\n",
       "Exchange - Mailflow                   1\n",
       "Opsramp Gateway Status                1\n",
       "Name: alertSubCategory, Length: 69, dtype: int64"
      ]
     },
     "execution_count": 18,
     "metadata": {},
     "output_type": "execute_result"
    }
   ],
   "source": [
    "df['alertSubCategory'].value_counts()"
   ]
  },
  {
   "cell_type": "code",
   "execution_count": 19,
   "id": "52ab6bd5",
   "metadata": {
    "ExecuteTime": {
     "end_time": "2023-04-14T06:03:10.363535Z",
     "start_time": "2023-04-14T06:03:09.942459Z"
    }
   },
   "outputs": [],
   "source": [
    "from sklearn.preprocessing import LabelEncoder"
   ]
  },
  {
   "cell_type": "code",
   "execution_count": 20,
   "id": "e99c9e33",
   "metadata": {
    "ExecuteTime": {
     "end_time": "2023-04-14T06:03:10.408728Z",
     "start_time": "2023-04-14T06:03:10.366305Z"
    }
   },
   "outputs": [
    {
     "data": {
      "text/html": [
       "<div>\n",
       "<style scoped>\n",
       "    .dataframe tbody tr th:only-of-type {\n",
       "        vertical-align: middle;\n",
       "    }\n",
       "\n",
       "    .dataframe tbody tr th {\n",
       "        vertical-align: top;\n",
       "    }\n",
       "\n",
       "    .dataframe thead th {\n",
       "        text-align: right;\n",
       "    }\n",
       "</style>\n",
       "<table border=\"1\" class=\"dataframe\">\n",
       "  <thead>\n",
       "    <tr style=\"text-align: right;\">\n",
       "      <th></th>\n",
       "      <th>subject</th>\n",
       "      <th>repeatCount</th>\n",
       "      <th>priority</th>\n",
       "      <th>healTime</th>\n",
       "      <th>alertClass</th>\n",
       "      <th>alertSubClass</th>\n",
       "      <th>alertCategory</th>\n",
       "      <th>alertSubCategory</th>\n",
       "      <th>alert_autoheal</th>\n",
       "    </tr>\n",
       "  </thead>\n",
       "  <tbody>\n",
       "    <tr>\n",
       "      <th>0</th>\n",
       "      <td>836</td>\n",
       "      <td>2</td>\n",
       "      <td>3</td>\n",
       "      <td>60</td>\n",
       "      <td>6</td>\n",
       "      <td>20</td>\n",
       "      <td>5</td>\n",
       "      <td>2</td>\n",
       "      <td>1</td>\n",
       "    </tr>\n",
       "    <tr>\n",
       "      <th>1</th>\n",
       "      <td>376</td>\n",
       "      <td>2</td>\n",
       "      <td>0</td>\n",
       "      <td>60</td>\n",
       "      <td>6</td>\n",
       "      <td>4</td>\n",
       "      <td>5</td>\n",
       "      <td>18</td>\n",
       "      <td>1</td>\n",
       "    </tr>\n",
       "    <tr>\n",
       "      <th>2</th>\n",
       "      <td>376</td>\n",
       "      <td>2</td>\n",
       "      <td>0</td>\n",
       "      <td>180</td>\n",
       "      <td>3</td>\n",
       "      <td>17</td>\n",
       "      <td>5</td>\n",
       "      <td>18</td>\n",
       "      <td>1</td>\n",
       "    </tr>\n",
       "    <tr>\n",
       "      <th>3</th>\n",
       "      <td>1987</td>\n",
       "      <td>2</td>\n",
       "      <td>1</td>\n",
       "      <td>240</td>\n",
       "      <td>6</td>\n",
       "      <td>15</td>\n",
       "      <td>2</td>\n",
       "      <td>38</td>\n",
       "      <td>1</td>\n",
       "    </tr>\n",
       "    <tr>\n",
       "      <th>4</th>\n",
       "      <td>376</td>\n",
       "      <td>2</td>\n",
       "      <td>0</td>\n",
       "      <td>59</td>\n",
       "      <td>3</td>\n",
       "      <td>9</td>\n",
       "      <td>5</td>\n",
       "      <td>18</td>\n",
       "      <td>1</td>\n",
       "    </tr>\n",
       "  </tbody>\n",
       "</table>\n",
       "</div>"
      ],
      "text/plain": [
       "   subject  repeatCount  priority  healTime  alertClass  alertSubClass  \\\n",
       "0      836            2         3        60           6             20   \n",
       "1      376            2         0        60           6              4   \n",
       "2      376            2         0       180           3             17   \n",
       "3     1987            2         1       240           6             15   \n",
       "4      376            2         0        59           3              9   \n",
       "\n",
       "   alertCategory  alertSubCategory  alert_autoheal  \n",
       "0              5                 2               1  \n",
       "1              5                18               1  \n",
       "2              5                18               1  \n",
       "3              2                38               1  \n",
       "4              5                18               1  "
      ]
     },
     "execution_count": 20,
     "metadata": {},
     "output_type": "execute_result"
    }
   ],
   "source": [
    "cols = ['subject', 'priority', 'alertClass', 'alertSubClass', 'alertCategory','alertSubCategory', \"alert_autoheal\"]\n",
    "\n",
    "df[cols] = df[cols].apply(LabelEncoder().fit_transform)\n",
    "\n",
    "df.head()"
   ]
  },
  {
   "cell_type": "code",
   "execution_count": 21,
   "id": "f7910d00",
   "metadata": {
    "ExecuteTime": {
     "end_time": "2023-04-14T06:03:10.417499Z",
     "start_time": "2023-04-14T06:03:10.411414Z"
    }
   },
   "outputs": [],
   "source": [
    "# assigning the independent features to X and the target variable to y\n",
    "X = df.drop(columns = ['alert_autoheal'])\n",
    "y = df['alert_autoheal']"
   ]
  },
  {
   "cell_type": "code",
   "execution_count": 22,
   "id": "3a71e43c",
   "metadata": {
    "ExecuteTime": {
     "end_time": "2023-04-14T06:03:10.430041Z",
     "start_time": "2023-04-14T06:03:10.420249Z"
    }
   },
   "outputs": [
    {
     "data": {
      "text/html": [
       "<div>\n",
       "<style scoped>\n",
       "    .dataframe tbody tr th:only-of-type {\n",
       "        vertical-align: middle;\n",
       "    }\n",
       "\n",
       "    .dataframe tbody tr th {\n",
       "        vertical-align: top;\n",
       "    }\n",
       "\n",
       "    .dataframe thead th {\n",
       "        text-align: right;\n",
       "    }\n",
       "</style>\n",
       "<table border=\"1\" class=\"dataframe\">\n",
       "  <thead>\n",
       "    <tr style=\"text-align: right;\">\n",
       "      <th></th>\n",
       "      <th>subject</th>\n",
       "      <th>repeatCount</th>\n",
       "      <th>priority</th>\n",
       "      <th>healTime</th>\n",
       "      <th>alertClass</th>\n",
       "      <th>alertSubClass</th>\n",
       "      <th>alertCategory</th>\n",
       "      <th>alertSubCategory</th>\n",
       "    </tr>\n",
       "  </thead>\n",
       "  <tbody>\n",
       "    <tr>\n",
       "      <th>0</th>\n",
       "      <td>836</td>\n",
       "      <td>2</td>\n",
       "      <td>3</td>\n",
       "      <td>60</td>\n",
       "      <td>6</td>\n",
       "      <td>20</td>\n",
       "      <td>5</td>\n",
       "      <td>2</td>\n",
       "    </tr>\n",
       "    <tr>\n",
       "      <th>1</th>\n",
       "      <td>376</td>\n",
       "      <td>2</td>\n",
       "      <td>0</td>\n",
       "      <td>60</td>\n",
       "      <td>6</td>\n",
       "      <td>4</td>\n",
       "      <td>5</td>\n",
       "      <td>18</td>\n",
       "    </tr>\n",
       "    <tr>\n",
       "      <th>2</th>\n",
       "      <td>376</td>\n",
       "      <td>2</td>\n",
       "      <td>0</td>\n",
       "      <td>180</td>\n",
       "      <td>3</td>\n",
       "      <td>17</td>\n",
       "      <td>5</td>\n",
       "      <td>18</td>\n",
       "    </tr>\n",
       "    <tr>\n",
       "      <th>3</th>\n",
       "      <td>1987</td>\n",
       "      <td>2</td>\n",
       "      <td>1</td>\n",
       "      <td>240</td>\n",
       "      <td>6</td>\n",
       "      <td>15</td>\n",
       "      <td>2</td>\n",
       "      <td>38</td>\n",
       "    </tr>\n",
       "    <tr>\n",
       "      <th>4</th>\n",
       "      <td>376</td>\n",
       "      <td>2</td>\n",
       "      <td>0</td>\n",
       "      <td>59</td>\n",
       "      <td>3</td>\n",
       "      <td>9</td>\n",
       "      <td>5</td>\n",
       "      <td>18</td>\n",
       "    </tr>\n",
       "  </tbody>\n",
       "</table>\n",
       "</div>"
      ],
      "text/plain": [
       "   subject  repeatCount  priority  healTime  alertClass  alertSubClass  \\\n",
       "0      836            2         3        60           6             20   \n",
       "1      376            2         0        60           6              4   \n",
       "2      376            2         0       180           3             17   \n",
       "3     1987            2         1       240           6             15   \n",
       "4      376            2         0        59           3              9   \n",
       "\n",
       "   alertCategory  alertSubCategory  \n",
       "0              5                 2  \n",
       "1              5                18  \n",
       "2              5                18  \n",
       "3              2                38  \n",
       "4              5                18  "
      ]
     },
     "execution_count": 22,
     "metadata": {},
     "output_type": "execute_result"
    }
   ],
   "source": [
    "X.head()"
   ]
  },
  {
   "cell_type": "code",
   "execution_count": 23,
   "id": "51f9e0dc",
   "metadata": {
    "ExecuteTime": {
     "end_time": "2023-04-14T06:03:10.439866Z",
     "start_time": "2023-04-14T06:03:10.432576Z"
    }
   },
   "outputs": [
    {
     "data": {
      "text/plain": [
       "0    1\n",
       "1    1\n",
       "2    1\n",
       "3    1\n",
       "4    1\n",
       "Name: alert_autoheal, dtype: int64"
      ]
     },
     "execution_count": 23,
     "metadata": {},
     "output_type": "execute_result"
    }
   ],
   "source": [
    "y.head()"
   ]
  },
  {
   "cell_type": "markdown",
   "id": "7db2d68a",
   "metadata": {},
   "source": [
    "# Split the dataset into Training and Testing datasets"
   ]
  },
  {
   "cell_type": "code",
   "execution_count": 24,
   "id": "e47f608d",
   "metadata": {
    "ExecuteTime": {
     "end_time": "2023-04-14T06:03:10.459974Z",
     "start_time": "2023-04-14T06:03:10.442527Z"
    }
   },
   "outputs": [],
   "source": [
    "from sklearn.model_selection import train_test_split"
   ]
  },
  {
   "cell_type": "code",
   "execution_count": 25,
   "id": "b54f52c3",
   "metadata": {
    "ExecuteTime": {
     "end_time": "2023-04-14T06:03:10.502350Z",
     "start_time": "2023-04-14T06:03:10.462616Z"
    }
   },
   "outputs": [],
   "source": [
    "from sklearn.neighbors import KNeighborsClassifier\n",
    "from sklearn.metrics import classification_report, confusion_matrix, accuracy_score, r2_score"
   ]
  },
  {
   "cell_type": "code",
   "execution_count": 26,
   "id": "f03e674c",
   "metadata": {
    "ExecuteTime": {
     "end_time": "2023-04-14T06:03:10.511033Z",
     "start_time": "2023-04-14T06:03:10.504418Z"
    }
   },
   "outputs": [
    {
     "name": "stdout",
     "output_type": "stream",
     "text": [
      "Shape of training data: (3666, 8)\n",
      "Shape of testing data: (1572, 8)\n"
     ]
    }
   ],
   "source": [
    "#spliting the data into training 77% and test 33%\n",
    "X_train,X_test,y_train,y_test= train_test_split(X,y,test_size=0.3,random_state=42)\n",
    "\n",
    "print('Shape of training data:',(X_train.shape))\n",
    "print('Shape of testing data:',(X_test.shape))"
   ]
  },
  {
   "cell_type": "code",
   "execution_count": 27,
   "id": "4f5cb61d",
   "metadata": {
    "ExecuteTime": {
     "end_time": "2023-04-14T06:03:10.525627Z",
     "start_time": "2023-04-14T06:03:10.513309Z"
    }
   },
   "outputs": [
    {
     "data": {
      "text/html": [
       "<div>\n",
       "<style scoped>\n",
       "    .dataframe tbody tr th:only-of-type {\n",
       "        vertical-align: middle;\n",
       "    }\n",
       "\n",
       "    .dataframe tbody tr th {\n",
       "        vertical-align: top;\n",
       "    }\n",
       "\n",
       "    .dataframe thead th {\n",
       "        text-align: right;\n",
       "    }\n",
       "</style>\n",
       "<table border=\"1\" class=\"dataframe\">\n",
       "  <thead>\n",
       "    <tr style=\"text-align: right;\">\n",
       "      <th></th>\n",
       "      <th>subject</th>\n",
       "      <th>repeatCount</th>\n",
       "      <th>priority</th>\n",
       "      <th>healTime</th>\n",
       "      <th>alertClass</th>\n",
       "      <th>alertSubClass</th>\n",
       "      <th>alertCategory</th>\n",
       "      <th>alertSubCategory</th>\n",
       "    </tr>\n",
       "  </thead>\n",
       "  <tbody>\n",
       "    <tr>\n",
       "      <th>9497</th>\n",
       "      <td>3394</td>\n",
       "      <td>2</td>\n",
       "      <td>2</td>\n",
       "      <td>300</td>\n",
       "      <td>1</td>\n",
       "      <td>19</td>\n",
       "      <td>0</td>\n",
       "      <td>32</td>\n",
       "    </tr>\n",
       "    <tr>\n",
       "      <th>8339</th>\n",
       "      <td>1200</td>\n",
       "      <td>2</td>\n",
       "      <td>2</td>\n",
       "      <td>240</td>\n",
       "      <td>8</td>\n",
       "      <td>8</td>\n",
       "      <td>5</td>\n",
       "      <td>41</td>\n",
       "    </tr>\n",
       "    <tr>\n",
       "      <th>7045</th>\n",
       "      <td>1219</td>\n",
       "      <td>2</td>\n",
       "      <td>1</td>\n",
       "      <td>900</td>\n",
       "      <td>6</td>\n",
       "      <td>4</td>\n",
       "      <td>2</td>\n",
       "      <td>48</td>\n",
       "    </tr>\n",
       "    <tr>\n",
       "      <th>5302</th>\n",
       "      <td>1778</td>\n",
       "      <td>2</td>\n",
       "      <td>1</td>\n",
       "      <td>120</td>\n",
       "      <td>0</td>\n",
       "      <td>19</td>\n",
       "      <td>1</td>\n",
       "      <td>67</td>\n",
       "    </tr>\n",
       "    <tr>\n",
       "      <th>7095</th>\n",
       "      <td>124</td>\n",
       "      <td>2</td>\n",
       "      <td>1</td>\n",
       "      <td>360</td>\n",
       "      <td>0</td>\n",
       "      <td>19</td>\n",
       "      <td>1</td>\n",
       "      <td>67</td>\n",
       "    </tr>\n",
       "  </tbody>\n",
       "</table>\n",
       "</div>"
      ],
      "text/plain": [
       "      subject  repeatCount  priority  healTime  alertClass  alertSubClass  \\\n",
       "9497     3394            2         2       300           1             19   \n",
       "8339     1200            2         2       240           8              8   \n",
       "7045     1219            2         1       900           6              4   \n",
       "5302     1778            2         1       120           0             19   \n",
       "7095      124            2         1       360           0             19   \n",
       "\n",
       "      alertCategory  alertSubCategory  \n",
       "9497              0                32  \n",
       "8339              5                41  \n",
       "7045              2                48  \n",
       "5302              1                67  \n",
       "7095              1                67  "
      ]
     },
     "execution_count": 27,
     "metadata": {},
     "output_type": "execute_result"
    }
   ],
   "source": [
    "X_train.head()"
   ]
  },
  {
   "cell_type": "code",
   "execution_count": 28,
   "id": "ff50b146",
   "metadata": {
    "ExecuteTime": {
     "end_time": "2023-04-14T06:03:10.630073Z",
     "start_time": "2023-04-14T06:03:10.536964Z"
    },
    "scrolled": true
   },
   "outputs": [
    {
     "name": "stdout",
     "output_type": "stream",
     "text": [
      "Accuracy : 0.96\n",
      "Other Metrics:\n",
      "              precision    recall  f1-score   support\n",
      "\n",
      "           0       0.95      0.87      0.91       345\n",
      "           1       0.96      0.99      0.98      1227\n",
      "\n",
      "    accuracy                           0.96      1572\n",
      "   macro avg       0.96      0.93      0.94      1572\n",
      "weighted avg       0.96      0.96      0.96      1572\n",
      "\n"
     ]
    }
   ],
   "source": [
    "clf= KNeighborsClassifier()\n",
    "clf.fit(X_train,y_train)\n",
    "y_pred = clf.predict(X_test)\n",
    "accuracy = accuracy_score(y_test, y_pred)\n",
    "\n",
    "print(\"Accuracy :\",  round(accuracy,2))\n",
    "\n",
    "print(\"Other Metrics:\")\n",
    "print(classification_report(y_test, y_pred))"
   ]
  },
  {
   "cell_type": "code",
   "execution_count": 29,
   "id": "26db7e11",
   "metadata": {
    "ExecuteTime": {
     "end_time": "2023-04-14T06:03:10.650488Z",
     "start_time": "2023-04-14T06:03:10.632138Z"
    }
   },
   "outputs": [
    {
     "data": {
      "text/html": [
       "<div>\n",
       "<style scoped>\n",
       "    .dataframe tbody tr th:only-of-type {\n",
       "        vertical-align: middle;\n",
       "    }\n",
       "\n",
       "    .dataframe tbody tr th {\n",
       "        vertical-align: top;\n",
       "    }\n",
       "\n",
       "    .dataframe thead th {\n",
       "        text-align: right;\n",
       "    }\n",
       "</style>\n",
       "<table border=\"1\" class=\"dataframe\">\n",
       "  <thead>\n",
       "    <tr style=\"text-align: right;\">\n",
       "      <th>col_0</th>\n",
       "      <th>0</th>\n",
       "      <th>1</th>\n",
       "    </tr>\n",
       "    <tr>\n",
       "      <th>alert_autoheal</th>\n",
       "      <th></th>\n",
       "      <th></th>\n",
       "    </tr>\n",
       "  </thead>\n",
       "  <tbody>\n",
       "    <tr>\n",
       "      <th>0</th>\n",
       "      <td>301</td>\n",
       "      <td>44</td>\n",
       "    </tr>\n",
       "    <tr>\n",
       "      <th>1</th>\n",
       "      <td>16</td>\n",
       "      <td>1211</td>\n",
       "    </tr>\n",
       "  </tbody>\n",
       "</table>\n",
       "</div>"
      ],
      "text/plain": [
       "col_0             0     1\n",
       "alert_autoheal           \n",
       "0               301    44\n",
       "1                16  1211"
      ]
     },
     "execution_count": 29,
     "metadata": {},
     "output_type": "execute_result"
    }
   ],
   "source": [
    "pd.crosstab(y_test, y_pred)"
   ]
  },
  {
   "cell_type": "markdown",
   "id": "2971bd0e",
   "metadata": {},
   "source": [
    "# Data Balancing"
   ]
  },
  {
   "cell_type": "code",
   "execution_count": 30,
   "id": "327c7d77",
   "metadata": {
    "ExecuteTime": {
     "end_time": "2023-04-14T06:03:10.659965Z",
     "start_time": "2023-04-14T06:03:10.653025Z"
    }
   },
   "outputs": [
    {
     "data": {
      "text/plain": [
       "1    4113\n",
       "0    1125\n",
       "Name: alert_autoheal, dtype: int64"
      ]
     },
     "execution_count": 30,
     "metadata": {},
     "output_type": "execute_result"
    }
   ],
   "source": [
    "df['alert_autoheal'].value_counts()"
   ]
  },
  {
   "cell_type": "code",
   "execution_count": 31,
   "id": "4cdc2f69",
   "metadata": {
    "ExecuteTime": {
     "end_time": "2023-04-14T06:03:10.879863Z",
     "start_time": "2023-04-14T06:03:10.662552Z"
    },
    "scrolled": true
   },
   "outputs": [
    {
     "data": {
      "image/png": "[encoded data removed]",
      "text/plain": [
       "<Figure size 432x288 with 1 Axes>"
      ]
     },
     "metadata": {},
     "output_type": "display_data"
    }
   ],
   "source": [
    "plt.pie(df['alert_autoheal'].value_counts(),labels=['True','False'],autopct='%0.2f')\n",
    "plt.show()"
   ]
  },
  {
   "cell_type": "markdown",
   "id": "bccd2193",
   "metadata": {},
   "source": [
    "Since the target variable is highly imbalanced, we will balance it using smote technique"
   ]
  },
  {
   "cell_type": "code",
   "execution_count": 32,
   "id": "e1025cc6",
   "metadata": {
    "ExecuteTime": {
     "end_time": "2023-04-14T06:03:10.960678Z",
     "start_time": "2023-04-14T06:03:10.883289Z"
    }
   },
   "outputs": [],
   "source": [
    "from imblearn.over_sampling import SMOTEN\n",
    "smote = SMOTEN()"
   ]
  },
  {
   "cell_type": "code",
   "execution_count": 33,
   "id": "644a2010",
   "metadata": {
    "ExecuteTime": {
     "end_time": "2023-04-14T06:03:12.036877Z",
     "start_time": "2023-04-14T06:03:10.964973Z"
    }
   },
   "outputs": [
    {
     "name": "stderr",
     "output_type": "stream",
     "text": [
      "/home/ubuntu/.local/lib/python3.10/site-packages/imblearn/over_sampling/_smote/base.py:731: FutureWarning: Unlike other reduction functions (e.g. `skew`, `kurtosis`), the default behavior of `mode` typically preserves the axis it acts along. In SciPy 1.11.0, this behavior will change: the default value of `keepdims` will become False, the `axis` over which the statistic is taken will be eliminated, and the value None will no longer be accepted. Set `keepdims` to True or False to avoid this warning.\n",
      "  stats.mode(X_class[nn_indices[samples_indices]], axis=1).mode, axis=1\n"
     ]
    }
   ],
   "source": [
    "X1, y1 = smote.fit_resample(X.astype('float'), y)"
   ]
  },
  {
   "cell_type": "code",
   "execution_count": 34,
   "id": "e80bce40",
   "metadata": {
    "ExecuteTime": {
     "end_time": "2023-04-14T06:03:12.048237Z",
     "start_time": "2023-04-14T06:03:12.039443Z"
    }
   },
   "outputs": [
    {
     "name": "stdout",
     "output_type": "stream",
     "text": [
      "Shape of training data: (5758, 8)\n",
      "Shape of testing data: (2468, 8)\n"
     ]
    }
   ],
   "source": [
    "#spliting the data into training 77% and test 33%\n",
    "X_train,X_test,y_train,y_test= train_test_split(X1,y1,test_size=0.3,random_state=42)\n",
    "print('Shape of training data:',(X_train.shape))\n",
    "print('Shape of testing data:',(X_test.shape))"
   ]
  },
  {
   "cell_type": "code",
   "execution_count": 35,
   "id": "1fc3babf",
   "metadata": {
    "ExecuteTime": {
     "end_time": "2023-04-14T06:03:12.058772Z",
     "start_time": "2023-04-14T06:03:12.050921Z"
    }
   },
   "outputs": [
    {
     "data": {
      "text/plain": [
       "(5758, 2468)"
      ]
     },
     "execution_count": 35,
     "metadata": {},
     "output_type": "execute_result"
    }
   ],
   "source": [
    "len(X_train), len(X_test)"
   ]
  },
  {
   "cell_type": "code",
   "execution_count": 36,
   "id": "d0dc44c7",
   "metadata": {
    "ExecuteTime": {
     "end_time": "2023-04-14T06:03:12.070538Z",
     "start_time": "2023-04-14T06:03:12.061477Z"
    }
   },
   "outputs": [
    {
     "name": "stdout",
     "output_type": "stream",
     "text": [
      "Before Smote:  Counter({1: 4113, 0: 1125})\n",
      "After Smote:  Counter({1: 4113, 0: 4113})\n"
     ]
    }
   ],
   "source": [
    "from collections import Counter\n",
    "print(\"Before Smote: \", Counter(y))\n",
    "print(\"After Smote: \", Counter(y1))"
   ]
  },
  {
   "cell_type": "code",
   "execution_count": 37,
   "id": "678edc66",
   "metadata": {
    "ExecuteTime": {
     "end_time": "2023-04-14T06:03:12.204005Z",
     "start_time": "2023-04-14T06:03:12.073183Z"
    }
   },
   "outputs": [
    {
     "name": "stdout",
     "output_type": "stream",
     "text": [
      "Accuracy : 0.98\n",
      "Other Metrics:\n",
      "              precision    recall  f1-score   support\n",
      "\n",
      "           0       0.98      0.98      0.98      1240\n",
      "           1       0.98      0.98      0.98      1228\n",
      "\n",
      "    accuracy                           0.98      2468\n",
      "   macro avg       0.98      0.98      0.98      2468\n",
      "weighted avg       0.98      0.98      0.98      2468\n",
      "\n"
     ]
    },
    {
     "data": {
      "text/html": [
       "<div>\n",
       "<style scoped>\n",
       "    .dataframe tbody tr th:only-of-type {\n",
       "        vertical-align: middle;\n",
       "    }\n",
       "\n",
       "    .dataframe tbody tr th {\n",
       "        vertical-align: top;\n",
       "    }\n",
       "\n",
       "    .dataframe thead th {\n",
       "        text-align: right;\n",
       "    }\n",
       "</style>\n",
       "<table border=\"1\" class=\"dataframe\">\n",
       "  <thead>\n",
       "    <tr style=\"text-align: right;\">\n",
       "      <th>col_0</th>\n",
       "      <th>0</th>\n",
       "      <th>1</th>\n",
       "    </tr>\n",
       "    <tr>\n",
       "      <th>alert_autoheal</th>\n",
       "      <th></th>\n",
       "      <th></th>\n",
       "    </tr>\n",
       "  </thead>\n",
       "  <tbody>\n",
       "    <tr>\n",
       "      <th>0</th>\n",
       "      <td>1221</td>\n",
       "      <td>19</td>\n",
       "    </tr>\n",
       "    <tr>\n",
       "      <th>1</th>\n",
       "      <td>27</td>\n",
       "      <td>1201</td>\n",
       "    </tr>\n",
       "  </tbody>\n",
       "</table>\n",
       "</div>"
      ],
      "text/plain": [
       "col_0              0     1\n",
       "alert_autoheal            \n",
       "0               1221    19\n",
       "1                 27  1201"
      ]
     },
     "execution_count": 37,
     "metadata": {},
     "output_type": "execute_result"
    }
   ],
   "source": [
    "clf= KNeighborsClassifier()\n",
    "clf.fit(X1,y1)\n",
    "y_pred = clf.predict(X_test)\n",
    "accuracy = accuracy_score(y_test, y_pred)\n",
    "\n",
    "print(\"Accuracy :\",  round(accuracy,2))\n",
    "\n",
    "print(\"Other Metrics:\")\n",
    "print(classification_report(y_test, y_pred))\n",
    "\n",
    "pd.crosstab(y_test, y_pred)"
   ]
  },
  {
   "cell_type": "markdown",
   "id": "8a6a5f0f",
   "metadata": {},
   "source": [
    "## Model Building"
   ]
  },
  {
   "cell_type": "markdown",
   "id": "1c2be343",
   "metadata": {},
   "source": [
    "## KNeighbors Classifier"
   ]
  },
  {
   "cell_type": "code",
   "execution_count": 38,
   "id": "575505a7",
   "metadata": {
    "ExecuteTime": {
     "end_time": "2023-04-14T06:03:12.333956Z",
     "start_time": "2023-04-14T06:03:12.207435Z"
    }
   },
   "outputs": [
    {
     "name": "stdout",
     "output_type": "stream",
     "text": [
      "Accuracy : 0.97\n",
      "Other Metrics:\n",
      "              precision    recall  f1-score   support\n",
      "\n",
      "           0       0.97      0.98      0.97      1240\n",
      "           1       0.98      0.97      0.97      1228\n",
      "\n",
      "    accuracy                           0.97      2468\n",
      "   macro avg       0.97      0.97      0.97      2468\n",
      "weighted avg       0.97      0.97      0.97      2468\n",
      "\n"
     ]
    },
    {
     "data": {
      "text/html": [
       "<div>\n",
       "<style scoped>\n",
       "    .dataframe tbody tr th:only-of-type {\n",
       "        vertical-align: middle;\n",
       "    }\n",
       "\n",
       "    .dataframe tbody tr th {\n",
       "        vertical-align: top;\n",
       "    }\n",
       "\n",
       "    .dataframe thead th {\n",
       "        text-align: right;\n",
       "    }\n",
       "</style>\n",
       "<table border=\"1\" class=\"dataframe\">\n",
       "  <thead>\n",
       "    <tr style=\"text-align: right;\">\n",
       "      <th>col_0</th>\n",
       "      <th>0</th>\n",
       "      <th>1</th>\n",
       "    </tr>\n",
       "    <tr>\n",
       "      <th>alert_autoheal</th>\n",
       "      <th></th>\n",
       "      <th></th>\n",
       "    </tr>\n",
       "  </thead>\n",
       "  <tbody>\n",
       "    <tr>\n",
       "      <th>0</th>\n",
       "      <td>1210</td>\n",
       "      <td>30</td>\n",
       "    </tr>\n",
       "    <tr>\n",
       "      <th>1</th>\n",
       "      <td>38</td>\n",
       "      <td>1190</td>\n",
       "    </tr>\n",
       "  </tbody>\n",
       "</table>\n",
       "</div>"
      ],
      "text/plain": [
       "col_0              0     1\n",
       "alert_autoheal            \n",
       "0               1210    30\n",
       "1                 38  1190"
      ]
     },
     "execution_count": 38,
     "metadata": {},
     "output_type": "execute_result"
    }
   ],
   "source": [
    "clf= KNeighborsClassifier()\n",
    "clf.fit(X_train,y_train)\n",
    "y_pred = clf.predict(X_test)\n",
    "accuracy = accuracy_score(y_test, y_pred)\n",
    "\n",
    "print(\"Accuracy :\",  round(accuracy,2))\n",
    "\n",
    "print(\"Other Metrics:\")\n",
    "print(classification_report(y_test, y_pred))\n",
    "\n",
    "pd.crosstab(y_test, y_pred)"
   ]
  },
  {
   "cell_type": "code",
   "execution_count": 39,
   "id": "30240138",
   "metadata": {
    "ExecuteTime": {
     "end_time": "2023-04-14T06:03:12.341278Z",
     "start_time": "2023-04-14T06:03:12.336958Z"
    }
   },
   "outputs": [
    {
     "name": "stdout",
     "output_type": "stream",
     "text": [
      "R2 Score is:  0.8897866974887044\n"
     ]
    }
   ],
   "source": [
    "print(\"R2 Score is: \",r2_score(y_test, y_pred))"
   ]
  },
  {
   "cell_type": "markdown",
   "id": "a0509cbc",
   "metadata": {},
   "source": [
    "## Logistic Regression"
   ]
  },
  {
   "cell_type": "code",
   "execution_count": 40,
   "id": "4728f677",
   "metadata": {
    "ExecuteTime": {
     "end_time": "2023-04-14T06:03:12.475608Z",
     "start_time": "2023-04-14T06:03:12.343755Z"
    },
    "scrolled": false
   },
   "outputs": [
    {
     "name": "stdout",
     "output_type": "stream",
     "text": [
      "Accuracy : 0.98\n",
      "Other Metrics:\n",
      "              precision    recall  f1-score   support\n",
      "\n",
      "           0       0.97      0.98      0.98      1240\n",
      "           1       0.98      0.97      0.98      1228\n",
      "\n",
      "    accuracy                           0.98      2468\n",
      "   macro avg       0.98      0.98      0.98      2468\n",
      "weighted avg       0.98      0.98      0.98      2468\n",
      "\n"
     ]
    },
    {
     "name": "stderr",
     "output_type": "stream",
     "text": [
      "/home/ubuntu/.local/lib/python3.10/site-packages/sklearn/linear_model/_logistic.py:444: ConvergenceWarning: lbfgs failed to converge (status=1):\n",
      "STOP: TOTAL NO. of ITERATIONS REACHED LIMIT.\n",
      "\n",
      "Increase the number of iterations (max_iter) or scale the data as shown in:\n",
      "    https://scikit-learn.org/stable/modules/preprocessing.html\n",
      "Please also refer to the documentation for alternative solver options:\n",
      "    https://scikit-learn.org/stable/modules/linear_model.html#logistic-regression\n",
      "  n_iter_i = _check_optimize_result(\n"
     ]
    },
    {
     "data": {
      "text/html": [
       "<div>\n",
       "<style scoped>\n",
       "    .dataframe tbody tr th:only-of-type {\n",
       "        vertical-align: middle;\n",
       "    }\n",
       "\n",
       "    .dataframe tbody tr th {\n",
       "        vertical-align: top;\n",
       "    }\n",
       "\n",
       "    .dataframe thead th {\n",
       "        text-align: right;\n",
       "    }\n",
       "</style>\n",
       "<table border=\"1\" class=\"dataframe\">\n",
       "  <thead>\n",
       "    <tr style=\"text-align: right;\">\n",
       "      <th>col_0</th>\n",
       "      <th>0</th>\n",
       "      <th>1</th>\n",
       "    </tr>\n",
       "    <tr>\n",
       "      <th>alert_autoheal</th>\n",
       "      <th></th>\n",
       "      <th></th>\n",
       "    </tr>\n",
       "  </thead>\n",
       "  <tbody>\n",
       "    <tr>\n",
       "      <th>0</th>\n",
       "      <td>1221</td>\n",
       "      <td>19</td>\n",
       "    </tr>\n",
       "    <tr>\n",
       "      <th>1</th>\n",
       "      <td>32</td>\n",
       "      <td>1196</td>\n",
       "    </tr>\n",
       "  </tbody>\n",
       "</table>\n",
       "</div>"
      ],
      "text/plain": [
       "col_0              0     1\n",
       "alert_autoheal            \n",
       "0               1221    19\n",
       "1                 32  1196"
      ]
     },
     "execution_count": 40,
     "metadata": {},
     "output_type": "execute_result"
    }
   ],
   "source": [
    "from sklearn.linear_model import LogisticRegression\n",
    "clf1 = LogisticRegression()\n",
    "clf1.fit(X_train,y_train)\n",
    "y_pred = clf1.predict(X_test)\n",
    "accuracy = accuracy_score(y_test, y_pred)\n",
    "\n",
    "print(\"Accuracy :\",  round(accuracy,2))\n",
    "\n",
    "print(\"Other Metrics:\")\n",
    "print(classification_report(y_test, y_pred))\n",
    "\n",
    "pd.crosstab(y_test, y_pred)"
   ]
  },
  {
   "cell_type": "code",
   "execution_count": 41,
   "id": "f1cfc36f",
   "metadata": {
    "ExecuteTime": {
     "end_time": "2023-04-14T06:03:12.488664Z",
     "start_time": "2023-04-14T06:03:12.478583Z"
    }
   },
   "outputs": [
    {
     "name": "stdout",
     "output_type": "stream",
     "text": [
      "R2 Score is:  0.9173400231165283\n"
     ]
    }
   ],
   "source": [
    "print(\"R2 Score is: \",r2_score(y_test, y_pred))"
   ]
  },
  {
   "cell_type": "markdown",
   "id": "9c4fff4e",
   "metadata": {},
   "source": [
    "## Decision Tree"
   ]
  },
  {
   "cell_type": "code",
   "execution_count": 42,
   "id": "656ac2ff",
   "metadata": {
    "ExecuteTime": {
     "end_time": "2023-04-14T06:03:12.495960Z",
     "start_time": "2023-04-14T06:03:12.491760Z"
    }
   },
   "outputs": [],
   "source": [
    "from sklearn.tree import DecisionTreeClassifier"
   ]
  },
  {
   "cell_type": "code",
   "execution_count": 43,
   "id": "3963f8f0",
   "metadata": {
    "ExecuteTime": {
     "end_time": "2023-04-14T06:03:12.577892Z",
     "start_time": "2023-04-14T06:03:12.498988Z"
    }
   },
   "outputs": [
    {
     "name": "stdout",
     "output_type": "stream",
     "text": [
      "Accuracy : 1.0\n",
      "Other Metrics:\n",
      "              precision    recall  f1-score   support\n",
      "\n",
      "           0       1.00      1.00      1.00      1240\n",
      "           1       1.00      1.00      1.00      1228\n",
      "\n",
      "    accuracy                           1.00      2468\n",
      "   macro avg       1.00      1.00      1.00      2468\n",
      "weighted avg       1.00      1.00      1.00      2468\n",
      "\n"
     ]
    },
    {
     "data": {
      "text/html": [
       "<div>\n",
       "<style scoped>\n",
       "    .dataframe tbody tr th:only-of-type {\n",
       "        vertical-align: middle;\n",
       "    }\n",
       "\n",
       "    .dataframe tbody tr th {\n",
       "        vertical-align: top;\n",
       "    }\n",
       "\n",
       "    .dataframe thead th {\n",
       "        text-align: right;\n",
       "    }\n",
       "</style>\n",
       "<table border=\"1\" class=\"dataframe\">\n",
       "  <thead>\n",
       "    <tr style=\"text-align: right;\">\n",
       "      <th>col_0</th>\n",
       "      <th>0</th>\n",
       "      <th>1</th>\n",
       "    </tr>\n",
       "    <tr>\n",
       "      <th>alert_autoheal</th>\n",
       "      <th></th>\n",
       "      <th></th>\n",
       "    </tr>\n",
       "  </thead>\n",
       "  <tbody>\n",
       "    <tr>\n",
       "      <th>0</th>\n",
       "      <td>1240</td>\n",
       "      <td>0</td>\n",
       "    </tr>\n",
       "    <tr>\n",
       "      <th>1</th>\n",
       "      <td>0</td>\n",
       "      <td>1228</td>\n",
       "    </tr>\n",
       "  </tbody>\n",
       "</table>\n",
       "</div>"
      ],
      "text/plain": [
       "col_0              0     1\n",
       "alert_autoheal            \n",
       "0               1240     0\n",
       "1                  0  1228"
      ]
     },
     "execution_count": 43,
     "metadata": {},
     "output_type": "execute_result"
    }
   ],
   "source": [
    "clf2 = DecisionTreeClassifier()\n",
    "clf2.fit(X_train,y_train)\n",
    "y_pred = clf2.predict(X_test)\n",
    "accuracy = accuracy_score(y_test, y_pred)\n",
    "\n",
    "print(\"Accuracy :\",  round(accuracy,2))\n",
    "\n",
    "print(\"Other Metrics:\")\n",
    "print(classification_report(y_test, y_pred))\n",
    "\n",
    "pd.crosstab(y_test, y_pred)"
   ]
  },
  {
   "cell_type": "code",
   "execution_count": 44,
   "id": "94d29d65",
   "metadata": {
    "ExecuteTime": {
     "end_time": "2023-04-14T06:03:12.588894Z",
     "start_time": "2023-04-14T06:03:12.580935Z"
    }
   },
   "outputs": [
    {
     "name": "stdout",
     "output_type": "stream",
     "text": [
      "R2 Score is:  1.0\n"
     ]
    }
   ],
   "source": [
    "print(\"R2 Score is: \",r2_score(y_test, y_pred))"
   ]
  },
  {
   "cell_type": "markdown",
   "id": "1f72b135",
   "metadata": {},
   "source": [
    "## Support Vector Classifier"
   ]
  },
  {
   "cell_type": "code",
   "execution_count": 45,
   "id": "843b508b",
   "metadata": {
    "ExecuteTime": {
     "end_time": "2023-04-14T06:03:12.597286Z",
     "start_time": "2023-04-14T06:03:12.592853Z"
    }
   },
   "outputs": [],
   "source": [
    "from sklearn.svm import SVC"
   ]
  },
  {
   "cell_type": "code",
   "execution_count": 46,
   "id": "66afe07d",
   "metadata": {
    "ExecuteTime": {
     "end_time": "2023-04-14T06:03:13.090624Z",
     "start_time": "2023-04-14T06:03:12.601393Z"
    }
   },
   "outputs": [
    {
     "name": "stdout",
     "output_type": "stream",
     "text": [
      "Accuracy : 0.91\n",
      "Other Metrics:\n",
      "              precision    recall  f1-score   support\n",
      "\n",
      "           0       0.94      0.88      0.91      1240\n",
      "           1       0.88      0.94      0.91      1228\n",
      "\n",
      "    accuracy                           0.91      2468\n",
      "   macro avg       0.91      0.91      0.91      2468\n",
      "weighted avg       0.91      0.91      0.91      2468\n",
      "\n"
     ]
    },
    {
     "data": {
      "text/html": [
       "<div>\n",
       "<style scoped>\n",
       "    .dataframe tbody tr th:only-of-type {\n",
       "        vertical-align: middle;\n",
       "    }\n",
       "\n",
       "    .dataframe tbody tr th {\n",
       "        vertical-align: top;\n",
       "    }\n",
       "\n",
       "    .dataframe thead th {\n",
       "        text-align: right;\n",
       "    }\n",
       "</style>\n",
       "<table border=\"1\" class=\"dataframe\">\n",
       "  <thead>\n",
       "    <tr style=\"text-align: right;\">\n",
       "      <th>col_0</th>\n",
       "      <th>0</th>\n",
       "      <th>1</th>\n",
       "    </tr>\n",
       "    <tr>\n",
       "      <th>alert_autoheal</th>\n",
       "      <th></th>\n",
       "      <th></th>\n",
       "    </tr>\n",
       "  </thead>\n",
       "  <tbody>\n",
       "    <tr>\n",
       "      <th>0</th>\n",
       "      <td>1088</td>\n",
       "      <td>152</td>\n",
       "    </tr>\n",
       "    <tr>\n",
       "      <th>1</th>\n",
       "      <td>69</td>\n",
       "      <td>1159</td>\n",
       "    </tr>\n",
       "  </tbody>\n",
       "</table>\n",
       "</div>"
      ],
      "text/plain": [
       "col_0              0     1\n",
       "alert_autoheal            \n",
       "0               1088   152\n",
       "1                 69  1159"
      ]
     },
     "execution_count": 46,
     "metadata": {},
     "output_type": "execute_result"
    }
   ],
   "source": [
    "clf3 = SVC()\n",
    "clf3.fit(X_train,y_train)\n",
    "y_pred = clf3.predict(X_test)\n",
    "accuracy = accuracy_score(y_test, y_pred)\n",
    "\n",
    "print(\"Accuracy :\",  round(accuracy,2))\n",
    "\n",
    "print(\"Other Metrics:\")\n",
    "print(classification_report(y_test, y_pred))\n",
    "\n",
    "pd.crosstab(y_test, y_pred)"
   ]
  },
  {
   "cell_type": "code",
   "execution_count": 47,
   "id": "c4b760f7",
   "metadata": {
    "ExecuteTime": {
     "end_time": "2023-04-14T06:03:13.099141Z",
     "start_time": "2023-04-14T06:03:13.093562Z"
    }
   },
   "outputs": [
    {
     "name": "stdout",
     "output_type": "stream",
     "text": [
      "R2 Score is:  0.6418067668382894\n"
     ]
    }
   ],
   "source": [
    "print(\"R2 Score is: \",r2_score(y_test, y_pred))"
   ]
  },
  {
   "cell_type": "code",
   "execution_count": null,
   "id": "a8fe451e",
   "metadata": {},
   "outputs": [],
   "source": []
  },
  {
   "cell_type": "markdown",
   "id": "4a4033f8",
   "metadata": {},
   "source": [
    "# Regression"
   ]
  },
  {
   "cell_type": "code",
   "execution_count": 48,
   "id": "2a36d339",
   "metadata": {
    "ExecuteTime": {
     "end_time": "2023-04-14T06:03:13.662863Z",
     "start_time": "2023-04-14T06:03:13.102170Z"
    }
   },
   "outputs": [
    {
     "data": {
      "text/plain": [
       "<AxesSubplot: >"
      ]
     },
     "execution_count": 48,
     "metadata": {},
     "output_type": "execute_result"
    },
    {
     "data": {
      "image/png": "[encoded data removed]",
      "text/plain": [
       "<Figure size 432x288 with 2 Axes>"
      ]
     },
     "metadata": {
      "needs_background": "light"
     },
     "output_type": "display_data"
    }
   ],
   "source": [
    "import seaborn as sns\n",
    "sns.heatmap(df.corr(), annot=True)"
   ]
  },
  {
   "cell_type": "code",
   "execution_count": 49,
   "id": "43cf519b",
   "metadata": {
    "ExecuteTime": {
     "end_time": "2023-04-14T06:03:13.670282Z",
     "start_time": "2023-04-14T06:03:13.665652Z"
    }
   },
   "outputs": [
    {
     "data": {
      "text/plain": [
       "((8226, 8), (8226,))"
      ]
     },
     "execution_count": 49,
     "metadata": {},
     "output_type": "execute_result"
    }
   ],
   "source": [
    "X1.shape, y1.shape"
   ]
  },
  {
   "cell_type": "code",
   "execution_count": 50,
   "id": "c5598017",
   "metadata": {
    "ExecuteTime": {
     "end_time": "2023-04-14T06:03:13.688146Z",
     "start_time": "2023-04-14T06:03:13.672155Z"
    }
   },
   "outputs": [
    {
     "data": {
      "text/html": [
       "<div>\n",
       "<style scoped>\n",
       "    .dataframe tbody tr th:only-of-type {\n",
       "        vertical-align: middle;\n",
       "    }\n",
       "\n",
       "    .dataframe tbody tr th {\n",
       "        vertical-align: top;\n",
       "    }\n",
       "\n",
       "    .dataframe thead th {\n",
       "        text-align: right;\n",
       "    }\n",
       "</style>\n",
       "<table border=\"1\" class=\"dataframe\">\n",
       "  <thead>\n",
       "    <tr style=\"text-align: right;\">\n",
       "      <th></th>\n",
       "      <th>subject</th>\n",
       "      <th>repeatCount</th>\n",
       "      <th>priority</th>\n",
       "      <th>healTime</th>\n",
       "      <th>alertClass</th>\n",
       "      <th>alertSubClass</th>\n",
       "      <th>alertCategory</th>\n",
       "      <th>alertSubCategory</th>\n",
       "      <th>alert_autoheal</th>\n",
       "    </tr>\n",
       "  </thead>\n",
       "  <tbody>\n",
       "    <tr>\n",
       "      <th>0</th>\n",
       "      <td>836.0</td>\n",
       "      <td>2.0</td>\n",
       "      <td>3.0</td>\n",
       "      <td>60.0</td>\n",
       "      <td>6.0</td>\n",
       "      <td>20.0</td>\n",
       "      <td>5.0</td>\n",
       "      <td>2.0</td>\n",
       "      <td>1</td>\n",
       "    </tr>\n",
       "    <tr>\n",
       "      <th>1</th>\n",
       "      <td>376.0</td>\n",
       "      <td>2.0</td>\n",
       "      <td>0.0</td>\n",
       "      <td>60.0</td>\n",
       "      <td>6.0</td>\n",
       "      <td>4.0</td>\n",
       "      <td>5.0</td>\n",
       "      <td>18.0</td>\n",
       "      <td>1</td>\n",
       "    </tr>\n",
       "    <tr>\n",
       "      <th>2</th>\n",
       "      <td>376.0</td>\n",
       "      <td>2.0</td>\n",
       "      <td>0.0</td>\n",
       "      <td>180.0</td>\n",
       "      <td>3.0</td>\n",
       "      <td>17.0</td>\n",
       "      <td>5.0</td>\n",
       "      <td>18.0</td>\n",
       "      <td>1</td>\n",
       "    </tr>\n",
       "    <tr>\n",
       "      <th>3</th>\n",
       "      <td>1987.0</td>\n",
       "      <td>2.0</td>\n",
       "      <td>1.0</td>\n",
       "      <td>240.0</td>\n",
       "      <td>6.0</td>\n",
       "      <td>15.0</td>\n",
       "      <td>2.0</td>\n",
       "      <td>38.0</td>\n",
       "      <td>1</td>\n",
       "    </tr>\n",
       "    <tr>\n",
       "      <th>4</th>\n",
       "      <td>376.0</td>\n",
       "      <td>2.0</td>\n",
       "      <td>0.0</td>\n",
       "      <td>59.0</td>\n",
       "      <td>3.0</td>\n",
       "      <td>9.0</td>\n",
       "      <td>5.0</td>\n",
       "      <td>18.0</td>\n",
       "      <td>1</td>\n",
       "    </tr>\n",
       "  </tbody>\n",
       "</table>\n",
       "</div>"
      ],
      "text/plain": [
       "   subject  repeatCount  priority  healTime  alertClass  alertSubClass  \\\n",
       "0    836.0          2.0       3.0      60.0         6.0           20.0   \n",
       "1    376.0          2.0       0.0      60.0         6.0            4.0   \n",
       "2    376.0          2.0       0.0     180.0         3.0           17.0   \n",
       "3   1987.0          2.0       1.0     240.0         6.0           15.0   \n",
       "4    376.0          2.0       0.0      59.0         3.0            9.0   \n",
       "\n",
       "   alertCategory  alertSubCategory  alert_autoheal  \n",
       "0            5.0               2.0               1  \n",
       "1            5.0              18.0               1  \n",
       "2            5.0              18.0               1  \n",
       "3            2.0              38.0               1  \n",
       "4            5.0              18.0               1  "
      ]
     },
     "execution_count": 50,
     "metadata": {},
     "output_type": "execute_result"
    }
   ],
   "source": [
    "smote = pd.concat([X1, y1], axis=1)\n",
    "smote.head()"
   ]
  },
  {
   "cell_type": "code",
   "execution_count": 51,
   "id": "09d229d0",
   "metadata": {
    "ExecuteTime": {
     "end_time": "2023-04-14T06:03:13.698908Z",
     "start_time": "2023-04-14T06:03:13.691507Z"
    }
   },
   "outputs": [
    {
     "data": {
      "text/plain": [
       "(8226, 9)"
      ]
     },
     "execution_count": 51,
     "metadata": {},
     "output_type": "execute_result"
    }
   ],
   "source": [
    "smote.shape"
   ]
  },
  {
   "cell_type": "code",
   "execution_count": 52,
   "id": "62cc3522",
   "metadata": {
    "ExecuteTime": {
     "end_time": "2023-04-14T06:03:14.210866Z",
     "start_time": "2023-04-14T06:03:13.702701Z"
    },
    "scrolled": true
   },
   "outputs": [
    {
     "data": {
      "text/plain": [
       "<AxesSubplot: >"
      ]
     },
     "execution_count": 52,
     "metadata": {},
     "output_type": "execute_result"
    },
    {
     "data": {
      "image/png": "[encoded data removed]",
      "text/plain": [
       "<Figure size 432x288 with 2 Axes>"
      ]
     },
     "metadata": {
      "needs_background": "light"
     },
     "output_type": "display_data"
    }
   ],
   "source": [
    "import seaborn as sns\n",
    "sns.heatmap(smote.corr(), annot=True)"
   ]
  },
  {
   "cell_type": "code",
   "execution_count": 53,
   "id": "3b5cd2f5",
   "metadata": {
    "ExecuteTime": {
     "end_time": "2023-04-14T06:03:14.226799Z",
     "start_time": "2023-04-14T06:03:14.213160Z"
    },
    "scrolled": true
   },
   "outputs": [
    {
     "data": {
      "text/html": [
       "<div>\n",
       "<style scoped>\n",
       "    .dataframe tbody tr th:only-of-type {\n",
       "        vertical-align: middle;\n",
       "    }\n",
       "\n",
       "    .dataframe tbody tr th {\n",
       "        vertical-align: top;\n",
       "    }\n",
       "\n",
       "    .dataframe thead th {\n",
       "        text-align: right;\n",
       "    }\n",
       "</style>\n",
       "<table border=\"1\" class=\"dataframe\">\n",
       "  <thead>\n",
       "    <tr style=\"text-align: right;\">\n",
       "      <th></th>\n",
       "      <th>subject</th>\n",
       "      <th>repeatCount</th>\n",
       "      <th>priority</th>\n",
       "      <th>healTime</th>\n",
       "      <th>alertClass</th>\n",
       "      <th>alertSubClass</th>\n",
       "      <th>alertCategory</th>\n",
       "      <th>alertSubCategory</th>\n",
       "      <th>alert_autoheal</th>\n",
       "    </tr>\n",
       "  </thead>\n",
       "  <tbody>\n",
       "    <tr>\n",
       "      <th>0</th>\n",
       "      <td>836.0</td>\n",
       "      <td>2.0</td>\n",
       "      <td>3.0</td>\n",
       "      <td>60.0</td>\n",
       "      <td>6.0</td>\n",
       "      <td>20.0</td>\n",
       "      <td>5.0</td>\n",
       "      <td>2.0</td>\n",
       "      <td>1</td>\n",
       "    </tr>\n",
       "    <tr>\n",
       "      <th>1</th>\n",
       "      <td>376.0</td>\n",
       "      <td>2.0</td>\n",
       "      <td>0.0</td>\n",
       "      <td>60.0</td>\n",
       "      <td>6.0</td>\n",
       "      <td>4.0</td>\n",
       "      <td>5.0</td>\n",
       "      <td>18.0</td>\n",
       "      <td>1</td>\n",
       "    </tr>\n",
       "    <tr>\n",
       "      <th>2</th>\n",
       "      <td>376.0</td>\n",
       "      <td>2.0</td>\n",
       "      <td>0.0</td>\n",
       "      <td>180.0</td>\n",
       "      <td>3.0</td>\n",
       "      <td>17.0</td>\n",
       "      <td>5.0</td>\n",
       "      <td>18.0</td>\n",
       "      <td>1</td>\n",
       "    </tr>\n",
       "    <tr>\n",
       "      <th>3</th>\n",
       "      <td>1987.0</td>\n",
       "      <td>2.0</td>\n",
       "      <td>1.0</td>\n",
       "      <td>240.0</td>\n",
       "      <td>6.0</td>\n",
       "      <td>15.0</td>\n",
       "      <td>2.0</td>\n",
       "      <td>38.0</td>\n",
       "      <td>1</td>\n",
       "    </tr>\n",
       "    <tr>\n",
       "      <th>4</th>\n",
       "      <td>376.0</td>\n",
       "      <td>2.0</td>\n",
       "      <td>0.0</td>\n",
       "      <td>59.0</td>\n",
       "      <td>3.0</td>\n",
       "      <td>9.0</td>\n",
       "      <td>5.0</td>\n",
       "      <td>18.0</td>\n",
       "      <td>1</td>\n",
       "    </tr>\n",
       "  </tbody>\n",
       "</table>\n",
       "</div>"
      ],
      "text/plain": [
       "   subject  repeatCount  priority  healTime  alertClass  alertSubClass  \\\n",
       "0    836.0          2.0       3.0      60.0         6.0           20.0   \n",
       "1    376.0          2.0       0.0      60.0         6.0            4.0   \n",
       "2    376.0          2.0       0.0     180.0         3.0           17.0   \n",
       "3   1987.0          2.0       1.0     240.0         6.0           15.0   \n",
       "4    376.0          2.0       0.0      59.0         3.0            9.0   \n",
       "\n",
       "   alertCategory  alertSubCategory  alert_autoheal  \n",
       "0            5.0               2.0               1  \n",
       "1            5.0              18.0               1  \n",
       "2            5.0              18.0               1  \n",
       "3            2.0              38.0               1  \n",
       "4            5.0              18.0               1  "
      ]
     },
     "execution_count": 53,
     "metadata": {},
     "output_type": "execute_result"
    }
   ],
   "source": [
    "smote.head()"
   ]
  },
  {
   "cell_type": "code",
   "execution_count": 54,
   "id": "c69b81cd",
   "metadata": {
    "ExecuteTime": {
     "end_time": "2023-04-14T06:03:14.235360Z",
     "start_time": "2023-04-14T06:03:14.229670Z"
    }
   },
   "outputs": [],
   "source": [
    "X = smote.drop([\"healTime\"],axis=1)\n",
    "y = smote[\"healTime\"]"
   ]
  },
  {
   "cell_type": "code",
   "execution_count": 55,
   "id": "d3fb2ee8",
   "metadata": {
    "ExecuteTime": {
     "end_time": "2023-04-14T06:03:14.261769Z",
     "start_time": "2023-04-14T06:03:14.238916Z"
    }
   },
   "outputs": [
    {
     "data": {
      "text/html": [
       "<div>\n",
       "<style scoped>\n",
       "    .dataframe tbody tr th:only-of-type {\n",
       "        vertical-align: middle;\n",
       "    }\n",
       "\n",
       "    .dataframe tbody tr th {\n",
       "        vertical-align: top;\n",
       "    }\n",
       "\n",
       "    .dataframe thead th {\n",
       "        text-align: right;\n",
       "    }\n",
       "</style>\n",
       "<table border=\"1\" class=\"dataframe\">\n",
       "  <thead>\n",
       "    <tr style=\"text-align: right;\">\n",
       "      <th></th>\n",
       "      <th>subject</th>\n",
       "      <th>repeatCount</th>\n",
       "      <th>priority</th>\n",
       "      <th>alertClass</th>\n",
       "      <th>alertSubClass</th>\n",
       "      <th>alertCategory</th>\n",
       "      <th>alertSubCategory</th>\n",
       "      <th>alert_autoheal</th>\n",
       "    </tr>\n",
       "  </thead>\n",
       "  <tbody>\n",
       "    <tr>\n",
       "      <th>0</th>\n",
       "      <td>836.0</td>\n",
       "      <td>2.0</td>\n",
       "      <td>3.0</td>\n",
       "      <td>6.0</td>\n",
       "      <td>20.0</td>\n",
       "      <td>5.0</td>\n",
       "      <td>2.0</td>\n",
       "      <td>1</td>\n",
       "    </tr>\n",
       "    <tr>\n",
       "      <th>1</th>\n",
       "      <td>376.0</td>\n",
       "      <td>2.0</td>\n",
       "      <td>0.0</td>\n",
       "      <td>6.0</td>\n",
       "      <td>4.0</td>\n",
       "      <td>5.0</td>\n",
       "      <td>18.0</td>\n",
       "      <td>1</td>\n",
       "    </tr>\n",
       "    <tr>\n",
       "      <th>2</th>\n",
       "      <td>376.0</td>\n",
       "      <td>2.0</td>\n",
       "      <td>0.0</td>\n",
       "      <td>3.0</td>\n",
       "      <td>17.0</td>\n",
       "      <td>5.0</td>\n",
       "      <td>18.0</td>\n",
       "      <td>1</td>\n",
       "    </tr>\n",
       "    <tr>\n",
       "      <th>3</th>\n",
       "      <td>1987.0</td>\n",
       "      <td>2.0</td>\n",
       "      <td>1.0</td>\n",
       "      <td>6.0</td>\n",
       "      <td>15.0</td>\n",
       "      <td>2.0</td>\n",
       "      <td>38.0</td>\n",
       "      <td>1</td>\n",
       "    </tr>\n",
       "    <tr>\n",
       "      <th>4</th>\n",
       "      <td>376.0</td>\n",
       "      <td>2.0</td>\n",
       "      <td>0.0</td>\n",
       "      <td>3.0</td>\n",
       "      <td>9.0</td>\n",
       "      <td>5.0</td>\n",
       "      <td>18.0</td>\n",
       "      <td>1</td>\n",
       "    </tr>\n",
       "  </tbody>\n",
       "</table>\n",
       "</div>"
      ],
      "text/plain": [
       "   subject  repeatCount  priority  alertClass  alertSubClass  alertCategory  \\\n",
       "0    836.0          2.0       3.0         6.0           20.0            5.0   \n",
       "1    376.0          2.0       0.0         6.0            4.0            5.0   \n",
       "2    376.0          2.0       0.0         3.0           17.0            5.0   \n",
       "3   1987.0          2.0       1.0         6.0           15.0            2.0   \n",
       "4    376.0          2.0       0.0         3.0            9.0            5.0   \n",
       "\n",
       "   alertSubCategory  alert_autoheal  \n",
       "0               2.0               1  \n",
       "1              18.0               1  \n",
       "2              18.0               1  \n",
       "3              38.0               1  \n",
       "4              18.0               1  "
      ]
     },
     "execution_count": 55,
     "metadata": {},
     "output_type": "execute_result"
    }
   ],
   "source": [
    "X.head()"
   ]
  },
  {
   "cell_type": "code",
   "execution_count": 56,
   "id": "5f8f81dd",
   "metadata": {
    "ExecuteTime": {
     "end_time": "2023-04-14T06:03:14.273416Z",
     "start_time": "2023-04-14T06:03:14.267045Z"
    }
   },
   "outputs": [
    {
     "data": {
      "text/plain": [
       "((8226, 8), (8226,))"
      ]
     },
     "execution_count": 56,
     "metadata": {},
     "output_type": "execute_result"
    }
   ],
   "source": [
    "X.shape, y.shape"
   ]
  },
  {
   "cell_type": "code",
   "execution_count": 57,
   "id": "b3bb4af7",
   "metadata": {
    "ExecuteTime": {
     "end_time": "2023-04-14T06:03:14.283918Z",
     "start_time": "2023-04-14T06:03:14.276261Z"
    },
    "scrolled": true
   },
   "outputs": [
    {
     "data": {
      "text/plain": [
       "0     60.0\n",
       "1     60.0\n",
       "2    180.0\n",
       "3    240.0\n",
       "4     59.0\n",
       "Name: healTime, dtype: float64"
      ]
     },
     "execution_count": 57,
     "metadata": {},
     "output_type": "execute_result"
    }
   ],
   "source": [
    "y.head()"
   ]
  },
  {
   "cell_type": "markdown",
   "id": "3a732ed2",
   "metadata": {},
   "source": [
    "# Ordinary Least Square Method"
   ]
  },
  {
   "cell_type": "code",
   "execution_count": 58,
   "id": "d26704bd",
   "metadata": {
    "ExecuteTime": {
     "end_time": "2023-04-14T06:03:14.356721Z",
     "start_time": "2023-04-14T06:03:14.286497Z"
    }
   },
   "outputs": [],
   "source": [
    "# OLS method\n",
    "import statsmodels.formula.api as smf"
   ]
  },
  {
   "cell_type": "code",
   "execution_count": 59,
   "id": "00b2e790",
   "metadata": {
    "ExecuteTime": {
     "end_time": "2023-04-14T06:03:14.392257Z",
     "start_time": "2023-04-14T06:03:14.360176Z"
    }
   },
   "outputs": [],
   "source": [
    "import statsmodels.formula.api as smf\n",
    "model = smf.ols(\"y~X\", data = smote).fit()"
   ]
  },
  {
   "cell_type": "code",
   "execution_count": 60,
   "id": "e2eaaa56",
   "metadata": {
    "ExecuteTime": {
     "end_time": "2023-04-14T06:03:14.470115Z",
     "start_time": "2023-04-14T06:03:14.397163Z"
    },
    "scrolled": true
   },
   "outputs": [
    {
     "data": {
      "text/html": [
       "<table class=\"simpletable\">\n",
       "<caption>OLS Regression Results</caption>\n",
       "<tr>\n",
       "  <th>Dep. Variable:</th>            <td>y</td>        <th>  R-squared:         </th> <td>   0.256</td> \n",
       "</tr>\n",
       "<tr>\n",
       "  <th>Model:</th>                   <td>OLS</td>       <th>  Adj. R-squared:    </th> <td>   0.255</td> \n",
       "</tr>\n",
       "<tr>\n",
       "  <th>Method:</th>             <td>Least Squares</td>  <th>  F-statistic:       </th> <td>   352.6</td> \n",
       "</tr>\n",
       "<tr>\n",
       "  <th>Date:</th>             <td>Fri, 14 Apr 2023</td> <th>  Prob (F-statistic):</th>  <td>  0.00</td>  \n",
       "</tr>\n",
       "<tr>\n",
       "  <th>Time:</th>                 <td>11:33:14</td>     <th>  Log-Likelihood:    </th> <td> -86900.</td> \n",
       "</tr>\n",
       "<tr>\n",
       "  <th>No. Observations:</th>      <td>  8226</td>      <th>  AIC:               </th> <td>1.738e+05</td>\n",
       "</tr>\n",
       "<tr>\n",
       "  <th>Df Residuals:</th>          <td>  8217</td>      <th>  BIC:               </th> <td>1.739e+05</td>\n",
       "</tr>\n",
       "<tr>\n",
       "  <th>Df Model:</th>              <td>     8</td>      <th>                     </th>     <td> </td>    \n",
       "</tr>\n",
       "<tr>\n",
       "  <th>Covariance Type:</th>      <td>nonrobust</td>    <th>                     </th>     <td> </td>    \n",
       "</tr>\n",
       "</table>\n",
       "<table class=\"simpletable\">\n",
       "<tr>\n",
       "      <td></td>         <th>coef</th>     <th>std err</th>      <th>t</th>      <th>P>|t|</th>  <th>[0.025</th>    <th>0.975]</th>  \n",
       "</tr>\n",
       "<tr>\n",
       "  <th>Intercept</th> <td>  636.3970</td> <td>  619.662</td> <td>    1.027</td> <td> 0.304</td> <td> -578.297</td> <td> 1851.091</td>\n",
       "</tr>\n",
       "<tr>\n",
       "  <th>X[0]</th>      <td>    2.0368</td> <td>    0.117</td> <td>   17.478</td> <td> 0.000</td> <td>    1.808</td> <td>    2.265</td>\n",
       "</tr>\n",
       "<tr>\n",
       "  <th>X[1]</th>      <td>  635.5042</td> <td>  140.976</td> <td>    4.508</td> <td> 0.000</td> <td>  359.156</td> <td>  911.852</td>\n",
       "</tr>\n",
       "<tr>\n",
       "  <th>X[2]</th>      <td> 2159.6689</td> <td>  136.751</td> <td>   15.793</td> <td> 0.000</td> <td> 1891.602</td> <td> 2427.736</td>\n",
       "</tr>\n",
       "<tr>\n",
       "  <th>X[3]</th>      <td>  195.9788</td> <td>   74.022</td> <td>    2.648</td> <td> 0.008</td> <td>   50.878</td> <td>  341.080</td>\n",
       "</tr>\n",
       "<tr>\n",
       "  <th>X[4]</th>      <td>  -60.6439</td> <td>   23.814</td> <td>   -2.547</td> <td> 0.011</td> <td> -107.325</td> <td>  -13.963</td>\n",
       "</tr>\n",
       "<tr>\n",
       "  <th>X[5]</th>      <td>  135.0450</td> <td>   74.509</td> <td>    1.812</td> <td> 0.070</td> <td>  -11.012</td> <td>  281.102</td>\n",
       "</tr>\n",
       "<tr>\n",
       "  <th>X[6]</th>      <td>   47.2797</td> <td>    6.969</td> <td>    6.784</td> <td> 0.000</td> <td>   33.619</td> <td>   60.940</td>\n",
       "</tr>\n",
       "<tr>\n",
       "  <th>X[7]</th>      <td>-1.012e+04</td> <td>  220.398</td> <td>  -45.934</td> <td> 0.000</td> <td>-1.06e+04</td> <td>-9691.647</td>\n",
       "</tr>\n",
       "</table>\n",
       "<table class=\"simpletable\">\n",
       "<tr>\n",
       "  <th>Omnibus:</th>       <td>5759.124</td> <th>  Durbin-Watson:     </th> <td>   1.769</td> \n",
       "</tr>\n",
       "<tr>\n",
       "  <th>Prob(Omnibus):</th>  <td> 0.000</td>  <th>  Jarque-Bera (JB):  </th> <td>80712.994</td>\n",
       "</tr>\n",
       "<tr>\n",
       "  <th>Skew:</th>           <td> 3.290</td>  <th>  Prob(JB):          </th> <td>    0.00</td> \n",
       "</tr>\n",
       "<tr>\n",
       "  <th>Kurtosis:</th>       <td>16.864</td>  <th>  Cond. No.          </th> <td>1.08e+04</td> \n",
       "</tr>\n",
       "</table><br/><br/>Notes:<br/>[1] Standard Errors assume that the covariance matrix of the errors is correctly specified.<br/>[2] The condition number is large, 1.08e+04. This might indicate that there are<br/>strong multicollinearity or other numerical problems."
      ],
      "text/plain": [
       "<class 'statsmodels.iolib.summary.Summary'>\n",
       "\"\"\"\n",
       "                            OLS Regression Results                            \n",
       "==============================================================================\n",
       "Dep. Variable:                      y   R-squared:                       0.256\n",
       "Model:                            OLS   Adj. R-squared:                  0.255\n",
       "Method:                 Least Squares   F-statistic:                     352.6\n",
       "Date:                Fri, 14 Apr 2023   Prob (F-statistic):               0.00\n",
       "Time:                        11:33:14   Log-Likelihood:                -86900.\n",
       "No. Observations:                8226   AIC:                         1.738e+05\n",
       "Df Residuals:                    8217   BIC:                         1.739e+05\n",
       "Df Model:                           8                                         \n",
       "Covariance Type:            nonrobust                                         \n",
       "==============================================================================\n",
       "                 coef    std err          t      P>|t|      [0.025      0.975]\n",
       "------------------------------------------------------------------------------\n",
       "Intercept    636.3970    619.662      1.027      0.304    -578.297    1851.091\n",
       "X[0]           2.0368      0.117     17.478      0.000       1.808       2.265\n",
       "X[1]         635.5042    140.976      4.508      0.000     359.156     911.852\n",
       "X[2]        2159.6689    136.751     15.793      0.000    1891.602    2427.736\n",
       "X[3]         195.9788     74.022      2.648      0.008      50.878     341.080\n",
       "X[4]         -60.6439     23.814     -2.547      0.011    -107.325     -13.963\n",
       "X[5]         135.0450     74.509      1.812      0.070     -11.012     281.102\n",
       "X[6]          47.2797      6.969      6.784      0.000      33.619      60.940\n",
       "X[7]       -1.012e+04    220.398    -45.934      0.000   -1.06e+04   -9691.647\n",
       "==============================================================================\n",
       "Omnibus:                     5759.124   Durbin-Watson:                   1.769\n",
       "Prob(Omnibus):                  0.000   Jarque-Bera (JB):            80712.994\n",
       "Skew:                           3.290   Prob(JB):                         0.00\n",
       "Kurtosis:                      16.864   Cond. No.                     1.08e+04\n",
       "==============================================================================\n",
       "\n",
       "Notes:\n",
       "[1] Standard Errors assume that the covariance matrix of the errors is correctly specified.\n",
       "[2] The condition number is large, 1.08e+04. This might indicate that there are\n",
       "strong multicollinearity or other numerical problems.\n",
       "\"\"\""
      ]
     },
     "execution_count": 60,
     "metadata": {},
     "output_type": "execute_result"
    }
   ],
   "source": [
    "model.summary()"
   ]
  },
  {
   "cell_type": "markdown",
   "id": "702ac660",
   "metadata": {},
   "source": [
    "# Variation Inflation Factor"
   ]
  },
  {
   "cell_type": "code",
   "execution_count": 61,
   "id": "5ac0dea5",
   "metadata": {
    "ExecuteTime": {
     "end_time": "2023-04-14T06:03:14.488280Z",
     "start_time": "2023-04-14T06:03:14.476047Z"
    }
   },
   "outputs": [],
   "source": [
    "from statsmodels.stats.outliers_influence import variance_inflation_factor"
   ]
  },
  {
   "cell_type": "code",
   "execution_count": 62,
   "id": "05b44c06",
   "metadata": {
    "ExecuteTime": {
     "end_time": "2023-04-14T06:03:14.503605Z",
     "start_time": "2023-04-14T06:03:14.494136Z"
    }
   },
   "outputs": [],
   "source": [
    "def calc_vif(dataset):\n",
    "    vif = pd.DataFrame()\n",
    "    vif[\"features\"] = dataset.columns\n",
    "    vif[\"VIF_Value\"] = [variance_inflation_factor(dataset.values,i) for i in range(dataset.shape[1])]\n",
    "    return vif"
   ]
  },
  {
   "cell_type": "code",
   "execution_count": 63,
   "id": "c0710d45",
   "metadata": {
    "ExecuteTime": {
     "end_time": "2023-04-14T06:03:14.557132Z",
     "start_time": "2023-04-14T06:03:14.508750Z"
    }
   },
   "outputs": [
    {
     "data": {
      "text/html": [
       "<div>\n",
       "<style scoped>\n",
       "    .dataframe tbody tr th:only-of-type {\n",
       "        vertical-align: middle;\n",
       "    }\n",
       "\n",
       "    .dataframe tbody tr th {\n",
       "        vertical-align: top;\n",
       "    }\n",
       "\n",
       "    .dataframe thead th {\n",
       "        text-align: right;\n",
       "    }\n",
       "</style>\n",
       "<table border=\"1\" class=\"dataframe\">\n",
       "  <thead>\n",
       "    <tr style=\"text-align: right;\">\n",
       "      <th></th>\n",
       "      <th>subject</th>\n",
       "      <th>repeatCount</th>\n",
       "      <th>priority</th>\n",
       "      <th>healTime</th>\n",
       "      <th>alertClass</th>\n",
       "      <th>alertSubClass</th>\n",
       "      <th>alertCategory</th>\n",
       "      <th>alertSubCategory</th>\n",
       "      <th>alert_autoheal</th>\n",
       "    </tr>\n",
       "  </thead>\n",
       "  <tbody>\n",
       "    <tr>\n",
       "      <th>0</th>\n",
       "      <td>836.0</td>\n",
       "      <td>2.0</td>\n",
       "      <td>3.0</td>\n",
       "      <td>60.0</td>\n",
       "      <td>6.0</td>\n",
       "      <td>20.0</td>\n",
       "      <td>5.0</td>\n",
       "      <td>2.0</td>\n",
       "      <td>1</td>\n",
       "    </tr>\n",
       "    <tr>\n",
       "      <th>1</th>\n",
       "      <td>376.0</td>\n",
       "      <td>2.0</td>\n",
       "      <td>0.0</td>\n",
       "      <td>60.0</td>\n",
       "      <td>6.0</td>\n",
       "      <td>4.0</td>\n",
       "      <td>5.0</td>\n",
       "      <td>18.0</td>\n",
       "      <td>1</td>\n",
       "    </tr>\n",
       "    <tr>\n",
       "      <th>2</th>\n",
       "      <td>376.0</td>\n",
       "      <td>2.0</td>\n",
       "      <td>0.0</td>\n",
       "      <td>180.0</td>\n",
       "      <td>3.0</td>\n",
       "      <td>17.0</td>\n",
       "      <td>5.0</td>\n",
       "      <td>18.0</td>\n",
       "      <td>1</td>\n",
       "    </tr>\n",
       "    <tr>\n",
       "      <th>3</th>\n",
       "      <td>1987.0</td>\n",
       "      <td>2.0</td>\n",
       "      <td>1.0</td>\n",
       "      <td>240.0</td>\n",
       "      <td>6.0</td>\n",
       "      <td>15.0</td>\n",
       "      <td>2.0</td>\n",
       "      <td>38.0</td>\n",
       "      <td>1</td>\n",
       "    </tr>\n",
       "    <tr>\n",
       "      <th>4</th>\n",
       "      <td>376.0</td>\n",
       "      <td>2.0</td>\n",
       "      <td>0.0</td>\n",
       "      <td>59.0</td>\n",
       "      <td>3.0</td>\n",
       "      <td>9.0</td>\n",
       "      <td>5.0</td>\n",
       "      <td>18.0</td>\n",
       "      <td>1</td>\n",
       "    </tr>\n",
       "  </tbody>\n",
       "</table>\n",
       "</div>"
      ],
      "text/plain": [
       "   subject  repeatCount  priority  healTime  alertClass  alertSubClass  \\\n",
       "0    836.0          2.0       3.0      60.0         6.0           20.0   \n",
       "1    376.0          2.0       0.0      60.0         6.0            4.0   \n",
       "2    376.0          2.0       0.0     180.0         3.0           17.0   \n",
       "3   1987.0          2.0       1.0     240.0         6.0           15.0   \n",
       "4    376.0          2.0       0.0      59.0         3.0            9.0   \n",
       "\n",
       "   alertCategory  alertSubCategory  alert_autoheal  \n",
       "0            5.0               2.0               1  \n",
       "1            5.0              18.0               1  \n",
       "2            5.0              18.0               1  \n",
       "3            2.0              38.0               1  \n",
       "4            5.0              18.0               1  "
      ]
     },
     "execution_count": 63,
     "metadata": {},
     "output_type": "execute_result"
    }
   ],
   "source": [
    "smote.head()"
   ]
  },
  {
   "cell_type": "code",
   "execution_count": 64,
   "id": "69133f29",
   "metadata": {
    "ExecuteTime": {
     "end_time": "2023-04-14T06:03:14.596311Z",
     "start_time": "2023-04-14T06:03:14.560015Z"
    }
   },
   "outputs": [
    {
     "data": {
      "text/html": [
       "<div>\n",
       "<style scoped>\n",
       "    .dataframe tbody tr th:only-of-type {\n",
       "        vertical-align: middle;\n",
       "    }\n",
       "\n",
       "    .dataframe tbody tr th {\n",
       "        vertical-align: top;\n",
       "    }\n",
       "\n",
       "    .dataframe thead th {\n",
       "        text-align: right;\n",
       "    }\n",
       "</style>\n",
       "<table border=\"1\" class=\"dataframe\">\n",
       "  <thead>\n",
       "    <tr style=\"text-align: right;\">\n",
       "      <th></th>\n",
       "      <th>subject</th>\n",
       "      <th>repeatCount</th>\n",
       "      <th>priority</th>\n",
       "      <th>alertClass</th>\n",
       "      <th>alertSubClass</th>\n",
       "      <th>alertCategory</th>\n",
       "      <th>alertSubCategory</th>\n",
       "      <th>alert_autoheal</th>\n",
       "    </tr>\n",
       "  </thead>\n",
       "  <tbody>\n",
       "    <tr>\n",
       "      <th>0</th>\n",
       "      <td>836.0</td>\n",
       "      <td>2.0</td>\n",
       "      <td>3.0</td>\n",
       "      <td>6.0</td>\n",
       "      <td>20.0</td>\n",
       "      <td>5.0</td>\n",
       "      <td>2.0</td>\n",
       "      <td>1</td>\n",
       "    </tr>\n",
       "    <tr>\n",
       "      <th>1</th>\n",
       "      <td>376.0</td>\n",
       "      <td>2.0</td>\n",
       "      <td>0.0</td>\n",
       "      <td>6.0</td>\n",
       "      <td>4.0</td>\n",
       "      <td>5.0</td>\n",
       "      <td>18.0</td>\n",
       "      <td>1</td>\n",
       "    </tr>\n",
       "    <tr>\n",
       "      <th>2</th>\n",
       "      <td>376.0</td>\n",
       "      <td>2.0</td>\n",
       "      <td>0.0</td>\n",
       "      <td>3.0</td>\n",
       "      <td>17.0</td>\n",
       "      <td>5.0</td>\n",
       "      <td>18.0</td>\n",
       "      <td>1</td>\n",
       "    </tr>\n",
       "    <tr>\n",
       "      <th>3</th>\n",
       "      <td>1987.0</td>\n",
       "      <td>2.0</td>\n",
       "      <td>1.0</td>\n",
       "      <td>6.0</td>\n",
       "      <td>15.0</td>\n",
       "      <td>2.0</td>\n",
       "      <td>38.0</td>\n",
       "      <td>1</td>\n",
       "    </tr>\n",
       "    <tr>\n",
       "      <th>4</th>\n",
       "      <td>376.0</td>\n",
       "      <td>2.0</td>\n",
       "      <td>0.0</td>\n",
       "      <td>3.0</td>\n",
       "      <td>9.0</td>\n",
       "      <td>5.0</td>\n",
       "      <td>18.0</td>\n",
       "      <td>1</td>\n",
       "    </tr>\n",
       "    <tr>\n",
       "      <th>...</th>\n",
       "      <td>...</td>\n",
       "      <td>...</td>\n",
       "      <td>...</td>\n",
       "      <td>...</td>\n",
       "      <td>...</td>\n",
       "      <td>...</td>\n",
       "      <td>...</td>\n",
       "      <td>...</td>\n",
       "    </tr>\n",
       "    <tr>\n",
       "      <th>8221</th>\n",
       "      <td>819.0</td>\n",
       "      <td>2.0</td>\n",
       "      <td>1.0</td>\n",
       "      <td>7.0</td>\n",
       "      <td>10.0</td>\n",
       "      <td>7.0</td>\n",
       "      <td>42.0</td>\n",
       "      <td>0</td>\n",
       "    </tr>\n",
       "    <tr>\n",
       "      <th>8222</th>\n",
       "      <td>2935.0</td>\n",
       "      <td>2.0</td>\n",
       "      <td>2.0</td>\n",
       "      <td>7.0</td>\n",
       "      <td>10.0</td>\n",
       "      <td>7.0</td>\n",
       "      <td>42.0</td>\n",
       "      <td>0</td>\n",
       "    </tr>\n",
       "    <tr>\n",
       "      <th>8223</th>\n",
       "      <td>1383.0</td>\n",
       "      <td>3.0</td>\n",
       "      <td>0.0</td>\n",
       "      <td>6.0</td>\n",
       "      <td>20.0</td>\n",
       "      <td>5.0</td>\n",
       "      <td>2.0</td>\n",
       "      <td>0</td>\n",
       "    </tr>\n",
       "    <tr>\n",
       "      <th>8224</th>\n",
       "      <td>1569.0</td>\n",
       "      <td>2.0</td>\n",
       "      <td>0.0</td>\n",
       "      <td>3.0</td>\n",
       "      <td>9.0</td>\n",
       "      <td>2.0</td>\n",
       "      <td>40.0</td>\n",
       "      <td>0</td>\n",
       "    </tr>\n",
       "    <tr>\n",
       "      <th>8225</th>\n",
       "      <td>121.0</td>\n",
       "      <td>2.0</td>\n",
       "      <td>1.0</td>\n",
       "      <td>6.0</td>\n",
       "      <td>15.0</td>\n",
       "      <td>6.0</td>\n",
       "      <td>30.0</td>\n",
       "      <td>0</td>\n",
       "    </tr>\n",
       "  </tbody>\n",
       "</table>\n",
       "<p>8226 rows × 8 columns</p>\n",
       "</div>"
      ],
      "text/plain": [
       "      subject  repeatCount  priority  alertClass  alertSubClass  \\\n",
       "0       836.0          2.0       3.0         6.0           20.0   \n",
       "1       376.0          2.0       0.0         6.0            4.0   \n",
       "2       376.0          2.0       0.0         3.0           17.0   \n",
       "3      1987.0          2.0       1.0         6.0           15.0   \n",
       "4       376.0          2.0       0.0         3.0            9.0   \n",
       "...       ...          ...       ...         ...            ...   \n",
       "8221    819.0          2.0       1.0         7.0           10.0   \n",
       "8222   2935.0          2.0       2.0         7.0           10.0   \n",
       "8223   1383.0          3.0       0.0         6.0           20.0   \n",
       "8224   1569.0          2.0       0.0         3.0            9.0   \n",
       "8225    121.0          2.0       1.0         6.0           15.0   \n",
       "\n",
       "      alertCategory  alertSubCategory  alert_autoheal  \n",
       "0               5.0               2.0               1  \n",
       "1               5.0              18.0               1  \n",
       "2               5.0              18.0               1  \n",
       "3               2.0              38.0               1  \n",
       "4               5.0              18.0               1  \n",
       "...             ...               ...             ...  \n",
       "8221            7.0              42.0               0  \n",
       "8222            7.0              42.0               0  \n",
       "8223            5.0               2.0               0  \n",
       "8224            2.0              40.0               0  \n",
       "8225            6.0              30.0               0  \n",
       "\n",
       "[8226 rows x 8 columns]"
      ]
     },
     "execution_count": 64,
     "metadata": {},
     "output_type": "execute_result"
    }
   ],
   "source": [
    "df1 = smote.drop(columns=['healTime'])\n",
    "df1"
   ]
  },
  {
   "cell_type": "code",
   "execution_count": 65,
   "id": "b3be4181",
   "metadata": {
    "ExecuteTime": {
     "end_time": "2023-04-14T06:03:14.679514Z",
     "start_time": "2023-04-14T06:03:14.599594Z"
    }
   },
   "outputs": [
    {
     "data": {
      "text/html": [
       "<div>\n",
       "<style scoped>\n",
       "    .dataframe tbody tr th:only-of-type {\n",
       "        vertical-align: middle;\n",
       "    }\n",
       "\n",
       "    .dataframe tbody tr th {\n",
       "        vertical-align: top;\n",
       "    }\n",
       "\n",
       "    .dataframe thead th {\n",
       "        text-align: right;\n",
       "    }\n",
       "</style>\n",
       "<table border=\"1\" class=\"dataframe\">\n",
       "  <thead>\n",
       "    <tr style=\"text-align: right;\">\n",
       "      <th></th>\n",
       "      <th>features</th>\n",
       "      <th>VIF_Value</th>\n",
       "    </tr>\n",
       "  </thead>\n",
       "  <tbody>\n",
       "    <tr>\n",
       "      <th>0</th>\n",
       "      <td>subject</td>\n",
       "      <td>4.024557</td>\n",
       "    </tr>\n",
       "    <tr>\n",
       "      <th>1</th>\n",
       "      <td>repeatCount</td>\n",
       "      <td>6.629480</td>\n",
       "    </tr>\n",
       "    <tr>\n",
       "      <th>2</th>\n",
       "      <td>priority</td>\n",
       "      <td>3.447545</td>\n",
       "    </tr>\n",
       "    <tr>\n",
       "      <th>3</th>\n",
       "      <td>alertClass</td>\n",
       "      <td>13.336350</td>\n",
       "    </tr>\n",
       "    <tr>\n",
       "      <th>4</th>\n",
       "      <td>alertSubClass</td>\n",
       "      <td>5.695182</td>\n",
       "    </tr>\n",
       "    <tr>\n",
       "      <th>5</th>\n",
       "      <td>alertCategory</td>\n",
       "      <td>11.979849</td>\n",
       "    </tr>\n",
       "    <tr>\n",
       "      <th>6</th>\n",
       "      <td>alertSubCategory</td>\n",
       "      <td>4.886118</td>\n",
       "    </tr>\n",
       "    <tr>\n",
       "      <th>7</th>\n",
       "      <td>alert_autoheal</td>\n",
       "      <td>2.240046</td>\n",
       "    </tr>\n",
       "  </tbody>\n",
       "</table>\n",
       "</div>"
      ],
      "text/plain": [
       "           features  VIF_Value\n",
       "0           subject   4.024557\n",
       "1       repeatCount   6.629480\n",
       "2          priority   3.447545\n",
       "3        alertClass  13.336350\n",
       "4     alertSubClass   5.695182\n",
       "5     alertCategory  11.979849\n",
       "6  alertSubCategory   4.886118\n",
       "7    alert_autoheal   2.240046"
      ]
     },
     "execution_count": 65,
     "metadata": {},
     "output_type": "execute_result"
    }
   ],
   "source": [
    "features = df1.iloc[:,:]\n",
    "calc_vif(features)"
   ]
  },
  {
   "cell_type": "code",
   "execution_count": 66,
   "id": "bed71500",
   "metadata": {
    "ExecuteTime": {
     "end_time": "2023-04-14T06:03:14.725001Z",
     "start_time": "2023-04-14T06:03:14.695070Z"
    }
   },
   "outputs": [
    {
     "data": {
      "text/html": [
       "<div>\n",
       "<style scoped>\n",
       "    .dataframe tbody tr th:only-of-type {\n",
       "        vertical-align: middle;\n",
       "    }\n",
       "\n",
       "    .dataframe tbody tr th {\n",
       "        vertical-align: top;\n",
       "    }\n",
       "\n",
       "    .dataframe thead th {\n",
       "        text-align: right;\n",
       "    }\n",
       "</style>\n",
       "<table border=\"1\" class=\"dataframe\">\n",
       "  <thead>\n",
       "    <tr style=\"text-align: right;\">\n",
       "      <th></th>\n",
       "      <th>subject</th>\n",
       "      <th>repeatCount</th>\n",
       "      <th>priority</th>\n",
       "      <th>healTime</th>\n",
       "      <th>alertClass</th>\n",
       "      <th>alertSubClass</th>\n",
       "      <th>alertCategory</th>\n",
       "      <th>alertSubCategory</th>\n",
       "      <th>alert_autoheal</th>\n",
       "    </tr>\n",
       "  </thead>\n",
       "  <tbody>\n",
       "    <tr>\n",
       "      <th>subject</th>\n",
       "      <td>1.000000</td>\n",
       "      <td>-0.004984</td>\n",
       "      <td>0.323035</td>\n",
       "      <td>0.182366</td>\n",
       "      <td>0.141858</td>\n",
       "      <td>-0.024708</td>\n",
       "      <td>0.197923</td>\n",
       "      <td>0.303774</td>\n",
       "      <td>0.202728</td>\n",
       "    </tr>\n",
       "    <tr>\n",
       "      <th>repeatCount</th>\n",
       "      <td>-0.004984</td>\n",
       "      <td>1.000000</td>\n",
       "      <td>0.061070</td>\n",
       "      <td>0.117101</td>\n",
       "      <td>-0.034657</td>\n",
       "      <td>-0.024762</td>\n",
       "      <td>-0.007454</td>\n",
       "      <td>-0.136278</td>\n",
       "      <td>-0.159691</td>\n",
       "    </tr>\n",
       "    <tr>\n",
       "      <th>priority</th>\n",
       "      <td>0.323035</td>\n",
       "      <td>0.061070</td>\n",
       "      <td>1.000000</td>\n",
       "      <td>0.138229</td>\n",
       "      <td>0.159081</td>\n",
       "      <td>0.022603</td>\n",
       "      <td>0.207612</td>\n",
       "      <td>0.193121</td>\n",
       "      <td>0.256145</td>\n",
       "    </tr>\n",
       "    <tr>\n",
       "      <th>healTime</th>\n",
       "      <td>0.182366</td>\n",
       "      <td>0.117101</td>\n",
       "      <td>0.138229</td>\n",
       "      <td>1.000000</td>\n",
       "      <td>0.084531</td>\n",
       "      <td>-0.088763</td>\n",
       "      <td>0.093543</td>\n",
       "      <td>0.085922</td>\n",
       "      <td>-0.381766</td>\n",
       "    </tr>\n",
       "    <tr>\n",
       "      <th>alertClass</th>\n",
       "      <td>0.141858</td>\n",
       "      <td>-0.034657</td>\n",
       "      <td>0.159081</td>\n",
       "      <td>0.084531</td>\n",
       "      <td>1.000000</td>\n",
       "      <td>-0.229691</td>\n",
       "      <td>0.796486</td>\n",
       "      <td>-0.205013</td>\n",
       "      <td>0.050718</td>\n",
       "    </tr>\n",
       "    <tr>\n",
       "      <th>alertSubClass</th>\n",
       "      <td>-0.024708</td>\n",
       "      <td>-0.024762</td>\n",
       "      <td>0.022603</td>\n",
       "      <td>-0.088763</td>\n",
       "      <td>-0.229691</td>\n",
       "      <td>1.000000</td>\n",
       "      <td>-0.202402</td>\n",
       "      <td>-0.003052</td>\n",
       "      <td>0.098134</td>\n",
       "    </tr>\n",
       "    <tr>\n",
       "      <th>alertCategory</th>\n",
       "      <td>0.197923</td>\n",
       "      <td>-0.007454</td>\n",
       "      <td>0.207612</td>\n",
       "      <td>0.093543</td>\n",
       "      <td>0.796486</td>\n",
       "      <td>-0.202402</td>\n",
       "      <td>1.000000</td>\n",
       "      <td>-0.213393</td>\n",
       "      <td>0.065718</td>\n",
       "    </tr>\n",
       "    <tr>\n",
       "      <th>alertSubCategory</th>\n",
       "      <td>0.303774</td>\n",
       "      <td>-0.136278</td>\n",
       "      <td>0.193121</td>\n",
       "      <td>0.085922</td>\n",
       "      <td>-0.205013</td>\n",
       "      <td>-0.003052</td>\n",
       "      <td>-0.213393</td>\n",
       "      <td>1.000000</td>\n",
       "      <td>0.120086</td>\n",
       "    </tr>\n",
       "    <tr>\n",
       "      <th>alert_autoheal</th>\n",
       "      <td>0.202728</td>\n",
       "      <td>-0.159691</td>\n",
       "      <td>0.256145</td>\n",
       "      <td>-0.381766</td>\n",
       "      <td>0.050718</td>\n",
       "      <td>0.098134</td>\n",
       "      <td>0.065718</td>\n",
       "      <td>0.120086</td>\n",
       "      <td>1.000000</td>\n",
       "    </tr>\n",
       "  </tbody>\n",
       "</table>\n",
       "</div>"
      ],
      "text/plain": [
       "                   subject  repeatCount  priority  healTime  alertClass  \\\n",
       "subject           1.000000    -0.004984  0.323035  0.182366    0.141858   \n",
       "repeatCount      -0.004984     1.000000  0.061070  0.117101   -0.034657   \n",
       "priority          0.323035     0.061070  1.000000  0.138229    0.159081   \n",
       "healTime          0.182366     0.117101  0.138229  1.000000    0.084531   \n",
       "alertClass        0.141858    -0.034657  0.159081  0.084531    1.000000   \n",
       "alertSubClass    -0.024708    -0.024762  0.022603 -0.088763   -0.229691   \n",
       "alertCategory     0.197923    -0.007454  0.207612  0.093543    0.796486   \n",
       "alertSubCategory  0.303774    -0.136278  0.193121  0.085922   -0.205013   \n",
       "alert_autoheal    0.202728    -0.159691  0.256145 -0.381766    0.050718   \n",
       "\n",
       "                  alertSubClass  alertCategory  alertSubCategory  \\\n",
       "subject               -0.024708       0.197923          0.303774   \n",
       "repeatCount           -0.024762      -0.007454         -0.136278   \n",
       "priority               0.022603       0.207612          0.193121   \n",
       "healTime              -0.088763       0.093543          0.085922   \n",
       "alertClass            -0.229691       0.796486         -0.205013   \n",
       "alertSubClass          1.000000      -0.202402         -0.003052   \n",
       "alertCategory         -0.202402       1.000000         -0.213393   \n",
       "alertSubCategory      -0.003052      -0.213393          1.000000   \n",
       "alert_autoheal         0.098134       0.065718          0.120086   \n",
       "\n",
       "                  alert_autoheal  \n",
       "subject                 0.202728  \n",
       "repeatCount            -0.159691  \n",
       "priority                0.256145  \n",
       "healTime               -0.381766  \n",
       "alertClass              0.050718  \n",
       "alertSubClass           0.098134  \n",
       "alertCategory           0.065718  \n",
       "alertSubCategory        0.120086  \n",
       "alert_autoheal          1.000000  "
      ]
     },
     "execution_count": 66,
     "metadata": {},
     "output_type": "execute_result"
    }
   ],
   "source": [
    "smote.corr()"
   ]
  },
  {
   "cell_type": "code",
   "execution_count": 67,
   "id": "47cfd756",
   "metadata": {
    "ExecuteTime": {
     "end_time": "2023-04-14T06:03:14.778950Z",
     "start_time": "2023-04-14T06:03:14.737222Z"
    }
   },
   "outputs": [
    {
     "data": {
      "text/html": [
       "<div>\n",
       "<style scoped>\n",
       "    .dataframe tbody tr th:only-of-type {\n",
       "        vertical-align: middle;\n",
       "    }\n",
       "\n",
       "    .dataframe tbody tr th {\n",
       "        vertical-align: top;\n",
       "    }\n",
       "\n",
       "    .dataframe thead th {\n",
       "        text-align: right;\n",
       "    }\n",
       "</style>\n",
       "<table border=\"1\" class=\"dataframe\">\n",
       "  <thead>\n",
       "    <tr style=\"text-align: right;\">\n",
       "      <th></th>\n",
       "      <th>subject</th>\n",
       "      <th>repeatCount</th>\n",
       "      <th>priority</th>\n",
       "      <th>healTime</th>\n",
       "      <th>alertSubClass</th>\n",
       "      <th>alertCategory</th>\n",
       "      <th>alertSubCategory</th>\n",
       "      <th>alert_autoheal</th>\n",
       "    </tr>\n",
       "  </thead>\n",
       "  <tbody>\n",
       "    <tr>\n",
       "      <th>0</th>\n",
       "      <td>836.0</td>\n",
       "      <td>2.0</td>\n",
       "      <td>3.0</td>\n",
       "      <td>60.0</td>\n",
       "      <td>20.0</td>\n",
       "      <td>5.0</td>\n",
       "      <td>2.0</td>\n",
       "      <td>1</td>\n",
       "    </tr>\n",
       "    <tr>\n",
       "      <th>1</th>\n",
       "      <td>376.0</td>\n",
       "      <td>2.0</td>\n",
       "      <td>0.0</td>\n",
       "      <td>60.0</td>\n",
       "      <td>4.0</td>\n",
       "      <td>5.0</td>\n",
       "      <td>18.0</td>\n",
       "      <td>1</td>\n",
       "    </tr>\n",
       "    <tr>\n",
       "      <th>2</th>\n",
       "      <td>376.0</td>\n",
       "      <td>2.0</td>\n",
       "      <td>0.0</td>\n",
       "      <td>180.0</td>\n",
       "      <td>17.0</td>\n",
       "      <td>5.0</td>\n",
       "      <td>18.0</td>\n",
       "      <td>1</td>\n",
       "    </tr>\n",
       "    <tr>\n",
       "      <th>3</th>\n",
       "      <td>1987.0</td>\n",
       "      <td>2.0</td>\n",
       "      <td>1.0</td>\n",
       "      <td>240.0</td>\n",
       "      <td>15.0</td>\n",
       "      <td>2.0</td>\n",
       "      <td>38.0</td>\n",
       "      <td>1</td>\n",
       "    </tr>\n",
       "    <tr>\n",
       "      <th>4</th>\n",
       "      <td>376.0</td>\n",
       "      <td>2.0</td>\n",
       "      <td>0.0</td>\n",
       "      <td>59.0</td>\n",
       "      <td>9.0</td>\n",
       "      <td>5.0</td>\n",
       "      <td>18.0</td>\n",
       "      <td>1</td>\n",
       "    </tr>\n",
       "  </tbody>\n",
       "</table>\n",
       "</div>"
      ],
      "text/plain": [
       "   subject  repeatCount  priority  healTime  alertSubClass  alertCategory  \\\n",
       "0    836.0          2.0       3.0      60.0           20.0            5.0   \n",
       "1    376.0          2.0       0.0      60.0            4.0            5.0   \n",
       "2    376.0          2.0       0.0     180.0           17.0            5.0   \n",
       "3   1987.0          2.0       1.0     240.0           15.0            2.0   \n",
       "4    376.0          2.0       0.0      59.0            9.0            5.0   \n",
       "\n",
       "   alertSubCategory  alert_autoheal  \n",
       "0               2.0               1  \n",
       "1              18.0               1  \n",
       "2              18.0               1  \n",
       "3              38.0               1  \n",
       "4              18.0               1  "
      ]
     },
     "execution_count": 67,
     "metadata": {},
     "output_type": "execute_result"
    }
   ],
   "source": [
    "df = smote.drop(columns = ['alertClass'])\n",
    "df.head()"
   ]
  },
  {
   "cell_type": "code",
   "execution_count": 68,
   "id": "8c99a994",
   "metadata": {
    "ExecuteTime": {
     "end_time": "2023-04-14T06:03:14.808968Z",
     "start_time": "2023-04-14T06:03:14.787422Z"
    }
   },
   "outputs": [
    {
     "data": {
      "text/html": [
       "<div>\n",
       "<style scoped>\n",
       "    .dataframe tbody tr th:only-of-type {\n",
       "        vertical-align: middle;\n",
       "    }\n",
       "\n",
       "    .dataframe tbody tr th {\n",
       "        vertical-align: top;\n",
       "    }\n",
       "\n",
       "    .dataframe thead th {\n",
       "        text-align: right;\n",
       "    }\n",
       "</style>\n",
       "<table border=\"1\" class=\"dataframe\">\n",
       "  <thead>\n",
       "    <tr style=\"text-align: right;\">\n",
       "      <th></th>\n",
       "      <th>subject</th>\n",
       "      <th>repeatCount</th>\n",
       "      <th>priority</th>\n",
       "      <th>alertSubClass</th>\n",
       "      <th>alertCategory</th>\n",
       "      <th>alertSubCategory</th>\n",
       "      <th>alert_autoheal</th>\n",
       "    </tr>\n",
       "  </thead>\n",
       "  <tbody>\n",
       "    <tr>\n",
       "      <th>0</th>\n",
       "      <td>836.0</td>\n",
       "      <td>2.0</td>\n",
       "      <td>3.0</td>\n",
       "      <td>20.0</td>\n",
       "      <td>5.0</td>\n",
       "      <td>2.0</td>\n",
       "      <td>1</td>\n",
       "    </tr>\n",
       "    <tr>\n",
       "      <th>1</th>\n",
       "      <td>376.0</td>\n",
       "      <td>2.0</td>\n",
       "      <td>0.0</td>\n",
       "      <td>4.0</td>\n",
       "      <td>5.0</td>\n",
       "      <td>18.0</td>\n",
       "      <td>1</td>\n",
       "    </tr>\n",
       "    <tr>\n",
       "      <th>2</th>\n",
       "      <td>376.0</td>\n",
       "      <td>2.0</td>\n",
       "      <td>0.0</td>\n",
       "      <td>17.0</td>\n",
       "      <td>5.0</td>\n",
       "      <td>18.0</td>\n",
       "      <td>1</td>\n",
       "    </tr>\n",
       "    <tr>\n",
       "      <th>3</th>\n",
       "      <td>1987.0</td>\n",
       "      <td>2.0</td>\n",
       "      <td>1.0</td>\n",
       "      <td>15.0</td>\n",
       "      <td>2.0</td>\n",
       "      <td>38.0</td>\n",
       "      <td>1</td>\n",
       "    </tr>\n",
       "    <tr>\n",
       "      <th>4</th>\n",
       "      <td>376.0</td>\n",
       "      <td>2.0</td>\n",
       "      <td>0.0</td>\n",
       "      <td>9.0</td>\n",
       "      <td>5.0</td>\n",
       "      <td>18.0</td>\n",
       "      <td>1</td>\n",
       "    </tr>\n",
       "    <tr>\n",
       "      <th>...</th>\n",
       "      <td>...</td>\n",
       "      <td>...</td>\n",
       "      <td>...</td>\n",
       "      <td>...</td>\n",
       "      <td>...</td>\n",
       "      <td>...</td>\n",
       "      <td>...</td>\n",
       "    </tr>\n",
       "    <tr>\n",
       "      <th>8221</th>\n",
       "      <td>819.0</td>\n",
       "      <td>2.0</td>\n",
       "      <td>1.0</td>\n",
       "      <td>10.0</td>\n",
       "      <td>7.0</td>\n",
       "      <td>42.0</td>\n",
       "      <td>0</td>\n",
       "    </tr>\n",
       "    <tr>\n",
       "      <th>8222</th>\n",
       "      <td>2935.0</td>\n",
       "      <td>2.0</td>\n",
       "      <td>2.0</td>\n",
       "      <td>10.0</td>\n",
       "      <td>7.0</td>\n",
       "      <td>42.0</td>\n",
       "      <td>0</td>\n",
       "    </tr>\n",
       "    <tr>\n",
       "      <th>8223</th>\n",
       "      <td>1383.0</td>\n",
       "      <td>3.0</td>\n",
       "      <td>0.0</td>\n",
       "      <td>20.0</td>\n",
       "      <td>5.0</td>\n",
       "      <td>2.0</td>\n",
       "      <td>0</td>\n",
       "    </tr>\n",
       "    <tr>\n",
       "      <th>8224</th>\n",
       "      <td>1569.0</td>\n",
       "      <td>2.0</td>\n",
       "      <td>0.0</td>\n",
       "      <td>9.0</td>\n",
       "      <td>2.0</td>\n",
       "      <td>40.0</td>\n",
       "      <td>0</td>\n",
       "    </tr>\n",
       "    <tr>\n",
       "      <th>8225</th>\n",
       "      <td>121.0</td>\n",
       "      <td>2.0</td>\n",
       "      <td>1.0</td>\n",
       "      <td>15.0</td>\n",
       "      <td>6.0</td>\n",
       "      <td>30.0</td>\n",
       "      <td>0</td>\n",
       "    </tr>\n",
       "  </tbody>\n",
       "</table>\n",
       "<p>8226 rows × 7 columns</p>\n",
       "</div>"
      ],
      "text/plain": [
       "      subject  repeatCount  priority  alertSubClass  alertCategory  \\\n",
       "0       836.0          2.0       3.0           20.0            5.0   \n",
       "1       376.0          2.0       0.0            4.0            5.0   \n",
       "2       376.0          2.0       0.0           17.0            5.0   \n",
       "3      1987.0          2.0       1.0           15.0            2.0   \n",
       "4       376.0          2.0       0.0            9.0            5.0   \n",
       "...       ...          ...       ...            ...            ...   \n",
       "8221    819.0          2.0       1.0           10.0            7.0   \n",
       "8222   2935.0          2.0       2.0           10.0            7.0   \n",
       "8223   1383.0          3.0       0.0           20.0            5.0   \n",
       "8224   1569.0          2.0       0.0            9.0            2.0   \n",
       "8225    121.0          2.0       1.0           15.0            6.0   \n",
       "\n",
       "      alertSubCategory  alert_autoheal  \n",
       "0                  2.0               1  \n",
       "1                 18.0               1  \n",
       "2                 18.0               1  \n",
       "3                 38.0               1  \n",
       "4                 18.0               1  \n",
       "...                ...             ...  \n",
       "8221              42.0               0  \n",
       "8222              42.0               0  \n",
       "8223               2.0               0  \n",
       "8224              40.0               0  \n",
       "8225              30.0               0  \n",
       "\n",
       "[8226 rows x 7 columns]"
      ]
     },
     "execution_count": 68,
     "metadata": {},
     "output_type": "execute_result"
    }
   ],
   "source": [
    "df2 = df.drop(columns=['healTime'])\n",
    "df2"
   ]
  },
  {
   "cell_type": "code",
   "execution_count": 69,
   "id": "b5c4aff2",
   "metadata": {
    "ExecuteTime": {
     "end_time": "2023-04-14T06:03:14.875132Z",
     "start_time": "2023-04-14T06:03:14.811859Z"
    }
   },
   "outputs": [
    {
     "data": {
      "text/html": [
       "<div>\n",
       "<style scoped>\n",
       "    .dataframe tbody tr th:only-of-type {\n",
       "        vertical-align: middle;\n",
       "    }\n",
       "\n",
       "    .dataframe tbody tr th {\n",
       "        vertical-align: top;\n",
       "    }\n",
       "\n",
       "    .dataframe thead th {\n",
       "        text-align: right;\n",
       "    }\n",
       "</style>\n",
       "<table border=\"1\" class=\"dataframe\">\n",
       "  <thead>\n",
       "    <tr style=\"text-align: right;\">\n",
       "      <th></th>\n",
       "      <th>features</th>\n",
       "      <th>VIF_Value</th>\n",
       "    </tr>\n",
       "  </thead>\n",
       "  <tbody>\n",
       "    <tr>\n",
       "      <th>0</th>\n",
       "      <td>subject</td>\n",
       "      <td>4.024379</td>\n",
       "    </tr>\n",
       "    <tr>\n",
       "      <th>1</th>\n",
       "      <td>repeatCount</td>\n",
       "      <td>6.449250</td>\n",
       "    </tr>\n",
       "    <tr>\n",
       "      <th>2</th>\n",
       "      <td>priority</td>\n",
       "      <td>3.447526</td>\n",
       "    </tr>\n",
       "    <tr>\n",
       "      <th>3</th>\n",
       "      <td>alertSubClass</td>\n",
       "      <td>5.674954</td>\n",
       "    </tr>\n",
       "    <tr>\n",
       "      <th>4</th>\n",
       "      <td>alertCategory</td>\n",
       "      <td>3.901698</td>\n",
       "    </tr>\n",
       "    <tr>\n",
       "      <th>5</th>\n",
       "      <td>alertSubCategory</td>\n",
       "      <td>4.843347</td>\n",
       "    </tr>\n",
       "    <tr>\n",
       "      <th>6</th>\n",
       "      <td>alert_autoheal</td>\n",
       "      <td>2.235080</td>\n",
       "    </tr>\n",
       "  </tbody>\n",
       "</table>\n",
       "</div>"
      ],
      "text/plain": [
       "           features  VIF_Value\n",
       "0           subject   4.024379\n",
       "1       repeatCount   6.449250\n",
       "2          priority   3.447526\n",
       "3     alertSubClass   5.674954\n",
       "4     alertCategory   3.901698\n",
       "5  alertSubCategory   4.843347\n",
       "6    alert_autoheal   2.235080"
      ]
     },
     "execution_count": 69,
     "metadata": {},
     "output_type": "execute_result"
    }
   ],
   "source": [
    "features = df2.iloc[:,:]\n",
    "calc_vif(features)"
   ]
  },
  {
   "cell_type": "code",
   "execution_count": 70,
   "id": "caf6b906",
   "metadata": {
    "ExecuteTime": {
     "end_time": "2023-04-14T06:03:14.910564Z",
     "start_time": "2023-04-14T06:03:14.877795Z"
    },
    "scrolled": true
   },
   "outputs": [
    {
     "data": {
      "text/html": [
       "<div>\n",
       "<style scoped>\n",
       "    .dataframe tbody tr th:only-of-type {\n",
       "        vertical-align: middle;\n",
       "    }\n",
       "\n",
       "    .dataframe tbody tr th {\n",
       "        vertical-align: top;\n",
       "    }\n",
       "\n",
       "    .dataframe thead th {\n",
       "        text-align: right;\n",
       "    }\n",
       "</style>\n",
       "<table border=\"1\" class=\"dataframe\">\n",
       "  <thead>\n",
       "    <tr style=\"text-align: right;\">\n",
       "      <th></th>\n",
       "      <th>subject</th>\n",
       "      <th>repeatCount</th>\n",
       "      <th>priority</th>\n",
       "      <th>healTime</th>\n",
       "      <th>alertSubClass</th>\n",
       "      <th>alertCategory</th>\n",
       "      <th>alertSubCategory</th>\n",
       "      <th>alert_autoheal</th>\n",
       "    </tr>\n",
       "  </thead>\n",
       "  <tbody>\n",
       "    <tr>\n",
       "      <th>0</th>\n",
       "      <td>836.0</td>\n",
       "      <td>2.0</td>\n",
       "      <td>3.0</td>\n",
       "      <td>60.0</td>\n",
       "      <td>20.0</td>\n",
       "      <td>5.0</td>\n",
       "      <td>2.0</td>\n",
       "      <td>1</td>\n",
       "    </tr>\n",
       "    <tr>\n",
       "      <th>1</th>\n",
       "      <td>376.0</td>\n",
       "      <td>2.0</td>\n",
       "      <td>0.0</td>\n",
       "      <td>60.0</td>\n",
       "      <td>4.0</td>\n",
       "      <td>5.0</td>\n",
       "      <td>18.0</td>\n",
       "      <td>1</td>\n",
       "    </tr>\n",
       "    <tr>\n",
       "      <th>2</th>\n",
       "      <td>376.0</td>\n",
       "      <td>2.0</td>\n",
       "      <td>0.0</td>\n",
       "      <td>180.0</td>\n",
       "      <td>17.0</td>\n",
       "      <td>5.0</td>\n",
       "      <td>18.0</td>\n",
       "      <td>1</td>\n",
       "    </tr>\n",
       "    <tr>\n",
       "      <th>3</th>\n",
       "      <td>1987.0</td>\n",
       "      <td>2.0</td>\n",
       "      <td>1.0</td>\n",
       "      <td>240.0</td>\n",
       "      <td>15.0</td>\n",
       "      <td>2.0</td>\n",
       "      <td>38.0</td>\n",
       "      <td>1</td>\n",
       "    </tr>\n",
       "    <tr>\n",
       "      <th>4</th>\n",
       "      <td>376.0</td>\n",
       "      <td>2.0</td>\n",
       "      <td>0.0</td>\n",
       "      <td>59.0</td>\n",
       "      <td>9.0</td>\n",
       "      <td>5.0</td>\n",
       "      <td>18.0</td>\n",
       "      <td>1</td>\n",
       "    </tr>\n",
       "  </tbody>\n",
       "</table>\n",
       "</div>"
      ],
      "text/plain": [
       "   subject  repeatCount  priority  healTime  alertSubClass  alertCategory  \\\n",
       "0    836.0          2.0       3.0      60.0           20.0            5.0   \n",
       "1    376.0          2.0       0.0      60.0            4.0            5.0   \n",
       "2    376.0          2.0       0.0     180.0           17.0            5.0   \n",
       "3   1987.0          2.0       1.0     240.0           15.0            2.0   \n",
       "4    376.0          2.0       0.0      59.0            9.0            5.0   \n",
       "\n",
       "   alertSubCategory  alert_autoheal  \n",
       "0               2.0               1  \n",
       "1              18.0               1  \n",
       "2              18.0               1  \n",
       "3              38.0               1  \n",
       "4              18.0               1  "
      ]
     },
     "execution_count": 70,
     "metadata": {},
     "output_type": "execute_result"
    }
   ],
   "source": [
    "df.head()"
   ]
  },
  {
   "cell_type": "code",
   "execution_count": 71,
   "id": "d1db2fec",
   "metadata": {
    "ExecuteTime": {
     "end_time": "2023-04-14T06:03:14.922380Z",
     "start_time": "2023-04-14T06:03:14.913925Z"
    }
   },
   "outputs": [],
   "source": [
    "# assigning the independent features to X and the target variable to y\n",
    "X_final = df.drop(columns = ['healTime'])\n",
    "y_final = df['healTime']"
   ]
  },
  {
   "cell_type": "code",
   "execution_count": 72,
   "id": "148e9c03",
   "metadata": {
    "ExecuteTime": {
     "end_time": "2023-04-14T06:03:14.955950Z",
     "start_time": "2023-04-14T06:03:14.925776Z"
    }
   },
   "outputs": [
    {
     "data": {
      "text/html": [
       "<div>\n",
       "<style scoped>\n",
       "    .dataframe tbody tr th:only-of-type {\n",
       "        vertical-align: middle;\n",
       "    }\n",
       "\n",
       "    .dataframe tbody tr th {\n",
       "        vertical-align: top;\n",
       "    }\n",
       "\n",
       "    .dataframe thead th {\n",
       "        text-align: right;\n",
       "    }\n",
       "</style>\n",
       "<table border=\"1\" class=\"dataframe\">\n",
       "  <thead>\n",
       "    <tr style=\"text-align: right;\">\n",
       "      <th></th>\n",
       "      <th>subject</th>\n",
       "      <th>repeatCount</th>\n",
       "      <th>priority</th>\n",
       "      <th>alertSubClass</th>\n",
       "      <th>alertCategory</th>\n",
       "      <th>alertSubCategory</th>\n",
       "      <th>alert_autoheal</th>\n",
       "    </tr>\n",
       "  </thead>\n",
       "  <tbody>\n",
       "    <tr>\n",
       "      <th>0</th>\n",
       "      <td>836.0</td>\n",
       "      <td>2.0</td>\n",
       "      <td>3.0</td>\n",
       "      <td>20.0</td>\n",
       "      <td>5.0</td>\n",
       "      <td>2.0</td>\n",
       "      <td>1</td>\n",
       "    </tr>\n",
       "    <tr>\n",
       "      <th>1</th>\n",
       "      <td>376.0</td>\n",
       "      <td>2.0</td>\n",
       "      <td>0.0</td>\n",
       "      <td>4.0</td>\n",
       "      <td>5.0</td>\n",
       "      <td>18.0</td>\n",
       "      <td>1</td>\n",
       "    </tr>\n",
       "    <tr>\n",
       "      <th>2</th>\n",
       "      <td>376.0</td>\n",
       "      <td>2.0</td>\n",
       "      <td>0.0</td>\n",
       "      <td>17.0</td>\n",
       "      <td>5.0</td>\n",
       "      <td>18.0</td>\n",
       "      <td>1</td>\n",
       "    </tr>\n",
       "    <tr>\n",
       "      <th>3</th>\n",
       "      <td>1987.0</td>\n",
       "      <td>2.0</td>\n",
       "      <td>1.0</td>\n",
       "      <td>15.0</td>\n",
       "      <td>2.0</td>\n",
       "      <td>38.0</td>\n",
       "      <td>1</td>\n",
       "    </tr>\n",
       "    <tr>\n",
       "      <th>4</th>\n",
       "      <td>376.0</td>\n",
       "      <td>2.0</td>\n",
       "      <td>0.0</td>\n",
       "      <td>9.0</td>\n",
       "      <td>5.0</td>\n",
       "      <td>18.0</td>\n",
       "      <td>1</td>\n",
       "    </tr>\n",
       "  </tbody>\n",
       "</table>\n",
       "</div>"
      ],
      "text/plain": [
       "   subject  repeatCount  priority  alertSubClass  alertCategory  \\\n",
       "0    836.0          2.0       3.0           20.0            5.0   \n",
       "1    376.0          2.0       0.0            4.0            5.0   \n",
       "2    376.0          2.0       0.0           17.0            5.0   \n",
       "3   1987.0          2.0       1.0           15.0            2.0   \n",
       "4    376.0          2.0       0.0            9.0            5.0   \n",
       "\n",
       "   alertSubCategory  alert_autoheal  \n",
       "0               2.0               1  \n",
       "1              18.0               1  \n",
       "2              18.0               1  \n",
       "3              38.0               1  \n",
       "4              18.0               1  "
      ]
     },
     "execution_count": 72,
     "metadata": {},
     "output_type": "execute_result"
    }
   ],
   "source": [
    "X_final.head()"
   ]
  },
  {
   "cell_type": "code",
   "execution_count": 73,
   "id": "6e8933e0",
   "metadata": {
    "ExecuteTime": {
     "end_time": "2023-04-14T06:03:14.965845Z",
     "start_time": "2023-04-14T06:03:14.959989Z"
    }
   },
   "outputs": [
    {
     "data": {
      "text/plain": [
       "((8226, 7), (8226,))"
      ]
     },
     "execution_count": 73,
     "metadata": {},
     "output_type": "execute_result"
    }
   ],
   "source": [
    "X_final.shape, y_final.shape"
   ]
  },
  {
   "cell_type": "code",
   "execution_count": null,
   "id": "6c73dabc",
   "metadata": {},
   "outputs": [],
   "source": []
  },
  {
   "cell_type": "code",
   "execution_count": 74,
   "id": "b6ec0eb8",
   "metadata": {
    "ExecuteTime": {
     "end_time": "2023-04-14T06:03:14.981932Z",
     "start_time": "2023-04-14T06:03:14.969143Z"
    }
   },
   "outputs": [
    {
     "name": "stdout",
     "output_type": "stream",
     "text": [
      "Shape of training data: (5758, 7)\n",
      "Shape of testing data: (2468, 7)\n"
     ]
    }
   ],
   "source": [
    "#spliting the data into training 77% and test 33%\n",
    "X_train,X_test,y_train,y_test= train_test_split(X_final,y_final,test_size=0.3,random_state=42)\n",
    "\n",
    "print('Shape of training data:',(X_train.shape))\n",
    "print('Shape of testing data:',(X_test.shape))"
   ]
  },
  {
   "cell_type": "code",
   "execution_count": 75,
   "id": "bb0946d1",
   "metadata": {
    "ExecuteTime": {
     "end_time": "2023-04-14T06:03:14.990323Z",
     "start_time": "2023-04-14T06:03:14.985065Z"
    }
   },
   "outputs": [],
   "source": [
    "from sklearn.linear_model import LinearRegression\n",
    "from sklearn.metrics import r2_score,mean_absolute_error, mean_squared_error"
   ]
  },
  {
   "cell_type": "code",
   "execution_count": 76,
   "id": "189d3618",
   "metadata": {
    "ExecuteTime": {
     "end_time": "2023-04-14T06:03:14.998853Z",
     "start_time": "2023-04-14T06:03:14.993497Z"
    }
   },
   "outputs": [],
   "source": [
    "from sklearn.linear_model import LinearRegression,Ridge,Lasso\n",
    "from sklearn.neighbors import KNeighborsRegressor\n",
    "from sklearn.tree import DecisionTreeRegressor\n",
    "from sklearn.ensemble import RandomForestRegressor,AdaBoostRegressor\n",
    "from sklearn.svm import SVR"
   ]
  },
  {
   "cell_type": "code",
   "execution_count": 77,
   "id": "a79b644c",
   "metadata": {
    "ExecuteTime": {
     "end_time": "2023-04-14T06:03:15.021096Z",
     "start_time": "2023-04-14T06:03:15.002652Z"
    }
   },
   "outputs": [
    {
     "name": "stdout",
     "output_type": "stream",
     "text": [
      "R2 score:  0.24329089182939978\n"
     ]
    }
   ],
   "source": [
    "clf = LinearRegression()\n",
    "clf.fit(X_train,y_train)\n",
    "y_pred = clf.predict(X_test)\n",
    "\n",
    "print('R2 score: ',r2_score(y_test,y_pred))"
   ]
  },
  {
   "cell_type": "code",
   "execution_count": 78,
   "id": "7cc07ea4",
   "metadata": {
    "ExecuteTime": {
     "end_time": "2023-04-14T06:03:15.084007Z",
     "start_time": "2023-04-14T06:03:15.032617Z"
    }
   },
   "outputs": [
    {
     "name": "stdout",
     "output_type": "stream",
     "text": [
      "R2 score:  0.243290889293992\n"
     ]
    }
   ],
   "source": [
    "clf1 = Lasso(alpha=0.001)\n",
    "clf1.fit(X_train,y_train)\n",
    "y_pred = clf1.predict(X_test)\n",
    "\n",
    "print('R2 score: ',r2_score(y_test,y_pred))"
   ]
  },
  {
   "cell_type": "code",
   "execution_count": 79,
   "id": "a448ee30",
   "metadata": {
    "ExecuteTime": {
     "end_time": "2023-04-14T06:03:15.114078Z",
     "start_time": "2023-04-14T06:03:15.087808Z"
    }
   },
   "outputs": [
    {
     "name": "stdout",
     "output_type": "stream",
     "text": [
      "R2 score:  0.24329957884469944\n"
     ]
    }
   ],
   "source": [
    "clf2 = Ridge(alpha=10)\n",
    "clf2.fit(X_train,y_train)\n",
    "y_pred = clf2.predict(X_test)\n",
    "\n",
    "print('R2 score: ',r2_score(y_test,y_pred))\n"
   ]
  },
  {
   "cell_type": "code",
   "execution_count": 80,
   "id": "1899c610",
   "metadata": {
    "ExecuteTime": {
     "end_time": "2023-04-14T06:03:15.183194Z",
     "start_time": "2023-04-14T06:03:15.119694Z"
    }
   },
   "outputs": [
    {
     "name": "stdout",
     "output_type": "stream",
     "text": [
      "R2 score:  0.8153334185584769\n"
     ]
    }
   ],
   "source": [
    "clf3 = KNeighborsRegressor(n_neighbors=3)\n",
    "clf3.fit(X_train,y_train)\n",
    "y_pred = clf3.predict(X_test)\n",
    "\n",
    "print('R2 score: ',r2_score(y_test,y_pred))"
   ]
  },
  {
   "cell_type": "code",
   "execution_count": 81,
   "id": "2ce5b791",
   "metadata": {
    "ExecuteTime": {
     "end_time": "2023-04-14T06:03:15.305718Z",
     "start_time": "2023-04-14T06:03:15.187250Z"
    }
   },
   "outputs": [
    {
     "name": "stdout",
     "output_type": "stream",
     "text": [
      "R2 score:  0.3548968011049459\n"
     ]
    }
   ],
   "source": [
    "clf4 = AdaBoostRegressor(n_estimators=15,learning_rate=1.0)\n",
    "clf4.fit(X_train,y_train)\n",
    "y_pred = clf4.predict(X_test)\n",
    "\n",
    "print('R2 score: ',r2_score(y_test,y_pred))"
   ]
  },
  {
   "cell_type": "code",
   "execution_count": 82,
   "id": "f30f1390",
   "metadata": {
    "ExecuteTime": {
     "end_time": "2023-04-14T06:03:15.736536Z",
     "start_time": "2023-04-14T06:03:15.324543Z"
    }
   },
   "outputs": [
    {
     "name": "stdout",
     "output_type": "stream",
     "text": [
      "R2 score:  0.8905390195833314\n"
     ]
    }
   ],
   "source": [
    "clf5 = RandomForestRegressor(n_estimators=100,\n",
    "                              random_state=3,\n",
    "                              max_samples=0.5,\n",
    "                              max_features=0.75,\n",
    "                              max_depth=15)\n",
    "clf5.fit(X_train,y_train)\n",
    "y_pred = clf5.predict(X_test)\n",
    "\n",
    "print('R2 score: ',r2_score(y_test,y_pred))"
   ]
  },
  {
   "cell_type": "code",
   "execution_count": 83,
   "id": "a12fdcc1",
   "metadata": {
    "ExecuteTime": {
     "end_time": "2023-04-14T06:03:15.755938Z",
     "start_time": "2023-04-14T06:03:15.739216Z"
    }
   },
   "outputs": [
    {
     "name": "stdout",
     "output_type": "stream",
     "text": [
      "R2 score:  0.8551415646832756\n"
     ]
    }
   ],
   "source": [
    "clf6 = DecisionTreeRegressor(max_depth=8)\n",
    "clf6.fit(X_train,y_train)\n",
    "y_pred = clf6.predict(X_test)\n",
    "\n",
    "print('R2 score: ',r2_score(y_test,y_pred))"
   ]
  },
  {
   "cell_type": "code",
   "execution_count": 84,
   "id": "f0ea1b12",
   "metadata": {
    "ExecuteTime": {
     "end_time": "2023-04-14T06:03:17.941363Z",
     "start_time": "2023-04-14T06:03:15.758680Z"
    }
   },
   "outputs": [
    {
     "name": "stdout",
     "output_type": "stream",
     "text": [
      "R2 score:  -0.09633734147103423\n"
     ]
    }
   ],
   "source": [
    "from sklearn.svm import SVR\n",
    "clf7 = SVR(kernel='rbf',C=10000,epsilon=0.1)\n",
    "clf7.fit(X_train,y_train)\n",
    "y_pred = clf7.predict(X_test)\n",
    "\n",
    "print('R2 score: ',r2_score(y_test,y_pred))\n"
   ]
  },
  {
   "cell_type": "code",
   "execution_count": null,
   "id": "bc610640",
   "metadata": {},
   "outputs": [],
   "source": []
  },
  {
   "cell_type": "code",
   "execution_count": 85,
   "id": "977f50c6",
   "metadata": {
    "ExecuteTime": {
     "end_time": "2023-04-14T06:03:17.968239Z",
     "start_time": "2023-04-14T06:03:17.944250Z"
    }
   },
   "outputs": [],
   "source": [
    "import statsmodels.stats.api as sms\n",
    "import statsmodels.formula.api as smf"
   ]
  },
  {
   "cell_type": "code",
   "execution_count": 86,
   "id": "510b32fc",
   "metadata": {
    "ExecuteTime": {
     "end_time": "2023-04-14T06:03:19.008859Z",
     "start_time": "2023-04-14T06:03:17.970991Z"
    }
   },
   "outputs": [
    {
     "name": "stdout",
     "output_type": "stream",
     "text": [
      "                         QuantReg Regression Results                          \n",
      "==============================================================================\n",
      "Dep. Variable:               healTime   Pseudo R-squared:               0.2095\n",
      "Model:                       QuantReg   Bandwidth:                       223.0\n",
      "Method:                 Least Squares   Sparsity:                        1937.\n",
      "Date:                Fri, 14 Apr 2023   No. Observations:                 8226\n",
      "Time:                        11:33:18   Df Residuals:                     8218\n",
      "                                        Df Model:                            7\n",
      "====================================================================================\n",
      "                       coef    std err          t      P>|t|      [0.025      0.975]\n",
      "------------------------------------------------------------------------------------\n",
      "Intercept         3357.8933     61.035     55.016      0.000    3238.249    3477.538\n",
      "subject              0.0672      0.012      5.584      0.000       0.044       0.091\n",
      "repeatCount        108.8251     14.542      7.484      0.000      80.320     137.330\n",
      "priority           255.2157     14.129     18.063      0.000     227.519     282.912\n",
      "alertSubClass      -10.8292      2.442     -4.434      0.000     -15.617      -6.042\n",
      "alertCategory       -0.2931      5.058     -0.058      0.954     -10.208       9.622\n",
      "alertSubCategory     5.7752      0.718      8.040      0.000       4.367       7.183\n",
      "alert_autoheal   -3482.1566     22.775   -152.894      0.000   -3526.801   -3437.512\n",
      "====================================================================================\n",
      "\n",
      "The condition number is large, 1.03e+04. This might indicate that there are\n",
      "strong multicollinearity or other numerical problems.\n"
     ]
    }
   ],
   "source": [
    "model = smf.quantreg('healTime ~ subject+repeatCount+priority+alertSubClass+alertCategory+alertSubCategory+alert_autoheal', df)\n",
    "res = model.fit(q = 0.5)\n",
    "print(res.summary())"
   ]
  },
  {
   "cell_type": "code",
   "execution_count": 87,
   "id": "04f1f0b7",
   "metadata": {
    "ExecuteTime": {
     "end_time": "2023-04-14T06:03:19.063346Z",
     "start_time": "2023-04-14T06:03:19.011471Z"
    }
   },
   "outputs": [],
   "source": [
    "model = smf.ols('healTime ~ subject+repeatCount+priority+alertSubClass+alertCategory+alertSubCategory+alert_autoheal', df).fit()"
   ]
  },
  {
   "cell_type": "code",
   "execution_count": 88,
   "id": "1ac5572c",
   "metadata": {
    "ExecuteTime": {
     "end_time": "2023-04-14T06:03:19.110056Z",
     "start_time": "2023-04-14T06:03:19.066960Z"
    },
    "scrolled": true
   },
   "outputs": [
    {
     "data": {
      "text/html": [
       "<table class=\"simpletable\">\n",
       "<caption>OLS Regression Results</caption>\n",
       "<tr>\n",
       "  <th>Dep. Variable:</th>        <td>healTime</td>     <th>  R-squared:         </th> <td>   0.255</td> \n",
       "</tr>\n",
       "<tr>\n",
       "  <th>Model:</th>                   <td>OLS</td>       <th>  Adj. R-squared:    </th> <td>   0.254</td> \n",
       "</tr>\n",
       "<tr>\n",
       "  <th>Method:</th>             <td>Least Squares</td>  <th>  F-statistic:       </th> <td>   401.6</td> \n",
       "</tr>\n",
       "<tr>\n",
       "  <th>Date:</th>             <td>Fri, 14 Apr 2023</td> <th>  Prob (F-statistic):</th>  <td>  0.00</td>  \n",
       "</tr>\n",
       "<tr>\n",
       "  <th>Time:</th>                 <td>11:33:19</td>     <th>  Log-Likelihood:    </th> <td> -86903.</td> \n",
       "</tr>\n",
       "<tr>\n",
       "  <th>No. Observations:</th>      <td>  8226</td>      <th>  AIC:               </th> <td>1.738e+05</td>\n",
       "</tr>\n",
       "<tr>\n",
       "  <th>Df Residuals:</th>          <td>  8218</td>      <th>  BIC:               </th> <td>1.739e+05</td>\n",
       "</tr>\n",
       "<tr>\n",
       "  <th>Df Model:</th>              <td>     7</td>      <th>                     </th>     <td> </td>    \n",
       "</tr>\n",
       "<tr>\n",
       "  <th>Covariance Type:</th>      <td>nonrobust</td>    <th>                     </th>     <td> </td>    \n",
       "</tr>\n",
       "</table>\n",
       "<table class=\"simpletable\">\n",
       "<tr>\n",
       "          <td></td>            <th>coef</th>     <th>std err</th>      <th>t</th>      <th>P>|t|</th>  <th>[0.025</th>    <th>0.975]</th>  \n",
       "</tr>\n",
       "<tr>\n",
       "  <th>Intercept</th>        <td> 1132.6616</td> <td>  590.849</td> <td>    1.917</td> <td> 0.055</td> <td>  -25.551</td> <td> 2290.874</td>\n",
       "</tr>\n",
       "<tr>\n",
       "  <th>subject</th>          <td>    2.0357</td> <td>    0.117</td> <td>   17.462</td> <td> 0.000</td> <td>    1.807</td> <td>    2.264</td>\n",
       "</tr>\n",
       "<tr>\n",
       "  <th>repeatCount</th>      <td>  612.8933</td> <td>  140.768</td> <td>    4.354</td> <td> 0.000</td> <td>  336.952</td> <td>  888.835</td>\n",
       "</tr>\n",
       "<tr>\n",
       "  <th>priority</th>         <td> 2166.5169</td> <td>  136.777</td> <td>   15.840</td> <td> 0.000</td> <td> 1898.400</td> <td> 2434.634</td>\n",
       "</tr>\n",
       "<tr>\n",
       "  <th>alertSubClass</th>    <td>  -68.3652</td> <td>   23.643</td> <td>   -2.892</td> <td> 0.004</td> <td> -114.712</td> <td>  -22.018</td>\n",
       "</tr>\n",
       "<tr>\n",
       "  <th>alertCategory</th>    <td>  283.7850</td> <td>   48.962</td> <td>    5.796</td> <td> 0.000</td> <td>  187.807</td> <td>  379.763</td>\n",
       "</tr>\n",
       "<tr>\n",
       "  <th>alertSubCategory</th> <td>   45.9527</td> <td>    6.953</td> <td>    6.609</td> <td> 0.000</td> <td>   32.322</td> <td>   59.583</td>\n",
       "</tr>\n",
       "<tr>\n",
       "  <th>alert_autoheal</th>   <td>-1.012e+04</td> <td>  220.472</td> <td>  -45.898</td> <td> 0.000</td> <td>-1.06e+04</td> <td>-9687.055</td>\n",
       "</tr>\n",
       "</table>\n",
       "<table class=\"simpletable\">\n",
       "<tr>\n",
       "  <th>Omnibus:</th>       <td>5753.764</td> <th>  Durbin-Watson:     </th> <td>   1.769</td> \n",
       "</tr>\n",
       "<tr>\n",
       "  <th>Prob(Omnibus):</th>  <td> 0.000</td>  <th>  Jarque-Bera (JB):  </th> <td>80427.044</td>\n",
       "</tr>\n",
       "<tr>\n",
       "  <th>Skew:</th>           <td> 3.286</td>  <th>  Prob(JB):          </th> <td>    0.00</td> \n",
       "</tr>\n",
       "<tr>\n",
       "  <th>Kurtosis:</th>       <td>16.837</td>  <th>  Cond. No.          </th> <td>1.03e+04</td> \n",
       "</tr>\n",
       "</table><br/><br/>Notes:<br/>[1] Standard Errors assume that the covariance matrix of the errors is correctly specified.<br/>[2] The condition number is large, 1.03e+04. This might indicate that there are<br/>strong multicollinearity or other numerical problems."
      ],
      "text/plain": [
       "<class 'statsmodels.iolib.summary.Summary'>\n",
       "\"\"\"\n",
       "                            OLS Regression Results                            \n",
       "==============================================================================\n",
       "Dep. Variable:               healTime   R-squared:                       0.255\n",
       "Model:                            OLS   Adj. R-squared:                  0.254\n",
       "Method:                 Least Squares   F-statistic:                     401.6\n",
       "Date:                Fri, 14 Apr 2023   Prob (F-statistic):               0.00\n",
       "Time:                        11:33:19   Log-Likelihood:                -86903.\n",
       "No. Observations:                8226   AIC:                         1.738e+05\n",
       "Df Residuals:                    8218   BIC:                         1.739e+05\n",
       "Df Model:                           7                                         \n",
       "Covariance Type:            nonrobust                                         \n",
       "====================================================================================\n",
       "                       coef    std err          t      P>|t|      [0.025      0.975]\n",
       "------------------------------------------------------------------------------------\n",
       "Intercept         1132.6616    590.849      1.917      0.055     -25.551    2290.874\n",
       "subject              2.0357      0.117     17.462      0.000       1.807       2.264\n",
       "repeatCount        612.8933    140.768      4.354      0.000     336.952     888.835\n",
       "priority          2166.5169    136.777     15.840      0.000    1898.400    2434.634\n",
       "alertSubClass      -68.3652     23.643     -2.892      0.004    -114.712     -22.018\n",
       "alertCategory      283.7850     48.962      5.796      0.000     187.807     379.763\n",
       "alertSubCategory    45.9527      6.953      6.609      0.000      32.322      59.583\n",
       "alert_autoheal   -1.012e+04    220.472    -45.898      0.000   -1.06e+04   -9687.055\n",
       "==============================================================================\n",
       "Omnibus:                     5753.764   Durbin-Watson:                   1.769\n",
       "Prob(Omnibus):                  0.000   Jarque-Bera (JB):            80427.044\n",
       "Skew:                           3.286   Prob(JB):                         0.00\n",
       "Kurtosis:                      16.837   Cond. No.                     1.03e+04\n",
       "==============================================================================\n",
       "\n",
       "Notes:\n",
       "[1] Standard Errors assume that the covariance matrix of the errors is correctly specified.\n",
       "[2] The condition number is large, 1.03e+04. This might indicate that there are\n",
       "strong multicollinearity or other numerical problems.\n",
       "\"\"\""
      ]
     },
     "execution_count": 88,
     "metadata": {},
     "output_type": "execute_result"
    }
   ],
   "source": [
    "model.summary()"
   ]
  },
  {
   "cell_type": "code",
   "execution_count": 89,
   "id": "30c90057",
   "metadata": {
    "ExecuteTime": {
     "end_time": "2023-04-14T06:03:19.142229Z",
     "start_time": "2023-04-14T06:03:19.113510Z"
    }
   },
   "outputs": [
    {
     "data": {
      "text/html": [
       "<div>\n",
       "<style scoped>\n",
       "    .dataframe tbody tr th:only-of-type {\n",
       "        vertical-align: middle;\n",
       "    }\n",
       "\n",
       "    .dataframe tbody tr th {\n",
       "        vertical-align: top;\n",
       "    }\n",
       "\n",
       "    .dataframe thead th {\n",
       "        text-align: right;\n",
       "    }\n",
       "</style>\n",
       "<table border=\"1\" class=\"dataframe\">\n",
       "  <thead>\n",
       "    <tr style=\"text-align: right;\">\n",
       "      <th></th>\n",
       "      <th>subject</th>\n",
       "      <th>repeatCount</th>\n",
       "      <th>priority</th>\n",
       "      <th>healTime</th>\n",
       "      <th>alertSubClass</th>\n",
       "      <th>alertCategory</th>\n",
       "      <th>alertSubCategory</th>\n",
       "      <th>alert_autoheal</th>\n",
       "    </tr>\n",
       "  </thead>\n",
       "  <tbody>\n",
       "    <tr>\n",
       "      <th>0</th>\n",
       "      <td>836.0</td>\n",
       "      <td>2.0</td>\n",
       "      <td>3.0</td>\n",
       "      <td>60.0</td>\n",
       "      <td>20.0</td>\n",
       "      <td>5.0</td>\n",
       "      <td>2.0</td>\n",
       "      <td>1</td>\n",
       "    </tr>\n",
       "    <tr>\n",
       "      <th>1</th>\n",
       "      <td>376.0</td>\n",
       "      <td>2.0</td>\n",
       "      <td>0.0</td>\n",
       "      <td>60.0</td>\n",
       "      <td>4.0</td>\n",
       "      <td>5.0</td>\n",
       "      <td>18.0</td>\n",
       "      <td>1</td>\n",
       "    </tr>\n",
       "    <tr>\n",
       "      <th>2</th>\n",
       "      <td>376.0</td>\n",
       "      <td>2.0</td>\n",
       "      <td>0.0</td>\n",
       "      <td>180.0</td>\n",
       "      <td>17.0</td>\n",
       "      <td>5.0</td>\n",
       "      <td>18.0</td>\n",
       "      <td>1</td>\n",
       "    </tr>\n",
       "    <tr>\n",
       "      <th>3</th>\n",
       "      <td>1987.0</td>\n",
       "      <td>2.0</td>\n",
       "      <td>1.0</td>\n",
       "      <td>240.0</td>\n",
       "      <td>15.0</td>\n",
       "      <td>2.0</td>\n",
       "      <td>38.0</td>\n",
       "      <td>1</td>\n",
       "    </tr>\n",
       "    <tr>\n",
       "      <th>4</th>\n",
       "      <td>376.0</td>\n",
       "      <td>2.0</td>\n",
       "      <td>0.0</td>\n",
       "      <td>59.0</td>\n",
       "      <td>9.0</td>\n",
       "      <td>5.0</td>\n",
       "      <td>18.0</td>\n",
       "      <td>1</td>\n",
       "    </tr>\n",
       "    <tr>\n",
       "      <th>...</th>\n",
       "      <td>...</td>\n",
       "      <td>...</td>\n",
       "      <td>...</td>\n",
       "      <td>...</td>\n",
       "      <td>...</td>\n",
       "      <td>...</td>\n",
       "      <td>...</td>\n",
       "      <td>...</td>\n",
       "    </tr>\n",
       "    <tr>\n",
       "      <th>8221</th>\n",
       "      <td>819.0</td>\n",
       "      <td>2.0</td>\n",
       "      <td>1.0</td>\n",
       "      <td>4440.0</td>\n",
       "      <td>10.0</td>\n",
       "      <td>7.0</td>\n",
       "      <td>42.0</td>\n",
       "      <td>0</td>\n",
       "    </tr>\n",
       "    <tr>\n",
       "      <th>8222</th>\n",
       "      <td>2935.0</td>\n",
       "      <td>2.0</td>\n",
       "      <td>2.0</td>\n",
       "      <td>53820.0</td>\n",
       "      <td>10.0</td>\n",
       "      <td>7.0</td>\n",
       "      <td>42.0</td>\n",
       "      <td>0</td>\n",
       "    </tr>\n",
       "    <tr>\n",
       "      <th>8223</th>\n",
       "      <td>1383.0</td>\n",
       "      <td>3.0</td>\n",
       "      <td>0.0</td>\n",
       "      <td>3420.0</td>\n",
       "      <td>20.0</td>\n",
       "      <td>5.0</td>\n",
       "      <td>2.0</td>\n",
       "      <td>0</td>\n",
       "    </tr>\n",
       "    <tr>\n",
       "      <th>8224</th>\n",
       "      <td>1569.0</td>\n",
       "      <td>2.0</td>\n",
       "      <td>0.0</td>\n",
       "      <td>1140.0</td>\n",
       "      <td>9.0</td>\n",
       "      <td>2.0</td>\n",
       "      <td>40.0</td>\n",
       "      <td>0</td>\n",
       "    </tr>\n",
       "    <tr>\n",
       "      <th>8225</th>\n",
       "      <td>121.0</td>\n",
       "      <td>2.0</td>\n",
       "      <td>1.0</td>\n",
       "      <td>4200.0</td>\n",
       "      <td>15.0</td>\n",
       "      <td>6.0</td>\n",
       "      <td>30.0</td>\n",
       "      <td>0</td>\n",
       "    </tr>\n",
       "  </tbody>\n",
       "</table>\n",
       "<p>8226 rows × 8 columns</p>\n",
       "</div>"
      ],
      "text/plain": [
       "      subject  repeatCount  priority  healTime  alertSubClass  alertCategory  \\\n",
       "0       836.0          2.0       3.0      60.0           20.0            5.0   \n",
       "1       376.0          2.0       0.0      60.0            4.0            5.0   \n",
       "2       376.0          2.0       0.0     180.0           17.0            5.0   \n",
       "3      1987.0          2.0       1.0     240.0           15.0            2.0   \n",
       "4       376.0          2.0       0.0      59.0            9.0            5.0   \n",
       "...       ...          ...       ...       ...            ...            ...   \n",
       "8221    819.0          2.0       1.0    4440.0           10.0            7.0   \n",
       "8222   2935.0          2.0       2.0   53820.0           10.0            7.0   \n",
       "8223   1383.0          3.0       0.0    3420.0           20.0            5.0   \n",
       "8224   1569.0          2.0       0.0    1140.0            9.0            2.0   \n",
       "8225    121.0          2.0       1.0    4200.0           15.0            6.0   \n",
       "\n",
       "      alertSubCategory  alert_autoheal  \n",
       "0                  2.0               1  \n",
       "1                 18.0               1  \n",
       "2                 18.0               1  \n",
       "3                 38.0               1  \n",
       "4                 18.0               1  \n",
       "...                ...             ...  \n",
       "8221              42.0               0  \n",
       "8222              42.0               0  \n",
       "8223               2.0               0  \n",
       "8224              40.0               0  \n",
       "8225              30.0               0  \n",
       "\n",
       "[8226 rows x 8 columns]"
      ]
     },
     "execution_count": 89,
     "metadata": {},
     "output_type": "execute_result"
    }
   ],
   "source": [
    "df"
   ]
  },
  {
   "cell_type": "code",
   "execution_count": 90,
   "id": "29c0161b",
   "metadata": {
    "ExecuteTime": {
     "end_time": "2023-04-14T06:03:19.553411Z",
     "start_time": "2023-04-14T06:03:19.145253Z"
    }
   },
   "outputs": [],
   "source": [
    "from lightgbm import LGBMRegressor"
   ]
  },
  {
   "cell_type": "code",
   "execution_count": 91,
   "id": "9abc586d",
   "metadata": {
    "ExecuteTime": {
     "end_time": "2023-04-14T06:03:19.778400Z",
     "start_time": "2023-04-14T06:03:19.555608Z"
    }
   },
   "outputs": [
    {
     "data": {
      "image/png": "[encoded data removed]",
      "text/plain": [
       "<Figure size 600x400 with 1 Axes>"
      ]
     },
     "metadata": {
      "needs_background": "light"
     },
     "output_type": "display_data"
    }
   ],
   "source": [
    "plt.rcParams.update({'font.size': 10, 'figure.dpi':100})\n",
    "sns.scatterplot(data = df, x = \"alertCategory\", y = \"healTime\", marker='+')\n",
    "plt.grid(linestyle='-', linewidth=0.2)"
   ]
  },
  {
   "cell_type": "code",
   "execution_count": 92,
   "id": "da4cd502",
   "metadata": {
    "ExecuteTime": {
     "end_time": "2023-04-14T06:03:20.206985Z",
     "start_time": "2023-04-14T06:03:19.781404Z"
    }
   },
   "outputs": [],
   "source": [
    "acc = []\n",
    "classifiers = {}\n",
    "for tau in [0.1, 0.5, 0.9]:\n",
    "    clf = LGBMRegressor(objective='quantile', alpha=tau)\n",
    "    clf.fit(X_train, y_train)\n",
    "    acc.append(clf.score(X_test, y_test))\n",
    "    preds = pd.DataFrame(clf.predict(X_test), columns = [str(tau)])\n",
    "    classifiers[str(tau)] = {'clf': clf, 'predictions': preds, 'Accuracy': acc}"
   ]
  },
  {
   "cell_type": "code",
   "execution_count": 93,
   "id": "fa43f419",
   "metadata": {
    "ExecuteTime": {
     "end_time": "2023-04-14T06:03:20.213356Z",
     "start_time": "2023-04-14T06:03:20.208924Z"
    }
   },
   "outputs": [
    {
     "name": "stdout",
     "output_type": "stream",
     "text": [
      "[0.057905221511955984, 0.7394556911866368, 0.7866855294669219]\n",
      "[0.057905221511955984, 0.7394556911866368, 0.7866855294669219]\n",
      "[0.057905221511955984, 0.7394556911866368, 0.7866855294669219]\n"
     ]
    }
   ],
   "source": [
    "print(classifiers['0.1']['Accuracy'])\n",
    "print(classifiers['0.5']['Accuracy'])\n",
    "print(classifiers['0.9']['Accuracy'])"
   ]
  },
  {
   "cell_type": "code",
   "execution_count": 94,
   "id": "02b025c3",
   "metadata": {
    "ExecuteTime": {
     "end_time": "2023-04-14T06:03:20.224339Z",
     "start_time": "2023-04-14T06:03:20.215572Z"
    }
   },
   "outputs": [],
   "source": [
    "data = pd.DataFrame({'0.1': classifiers['0.1']['predictions']['0.1'],\n",
    "              '0.5': classifiers['0.5']['predictions']['0.5'],\n",
    "              '0.9': classifiers['0.9']['predictions']['0.9'],\n",
    "              'healTime': y_test.reset_index()['healTime']})"
   ]
  },
  {
   "cell_type": "code",
   "execution_count": 95,
   "id": "920184f0",
   "metadata": {
    "ExecuteTime": {
     "end_time": "2023-04-14T06:03:20.242413Z",
     "start_time": "2023-04-14T06:03:20.227409Z"
    }
   },
   "outputs": [
    {
     "data": {
      "text/html": [
       "<div>\n",
       "<style scoped>\n",
       "    .dataframe tbody tr th:only-of-type {\n",
       "        vertical-align: middle;\n",
       "    }\n",
       "\n",
       "    .dataframe tbody tr th {\n",
       "        vertical-align: top;\n",
       "    }\n",
       "\n",
       "    .dataframe thead th {\n",
       "        text-align: right;\n",
       "    }\n",
       "</style>\n",
       "<table border=\"1\" class=\"dataframe\">\n",
       "  <thead>\n",
       "    <tr style=\"text-align: right;\">\n",
       "      <th></th>\n",
       "      <th>0.1</th>\n",
       "      <th>0.5</th>\n",
       "      <th>0.9</th>\n",
       "      <th>healTime</th>\n",
       "    </tr>\n",
       "  </thead>\n",
       "  <tbody>\n",
       "    <tr>\n",
       "      <th>0</th>\n",
       "      <td>301.586493</td>\n",
       "      <td>2235.978233</td>\n",
       "      <td>1785.162618</td>\n",
       "      <td>600.0</td>\n",
       "    </tr>\n",
       "    <tr>\n",
       "      <th>1</th>\n",
       "      <td>50.378226</td>\n",
       "      <td>242.967627</td>\n",
       "      <td>796.293461</td>\n",
       "      <td>59.0</td>\n",
       "    </tr>\n",
       "    <tr>\n",
       "      <th>2</th>\n",
       "      <td>206.916297</td>\n",
       "      <td>485.287796</td>\n",
       "      <td>2052.452462</td>\n",
       "      <td>1080.0</td>\n",
       "    </tr>\n",
       "    <tr>\n",
       "      <th>3</th>\n",
       "      <td>2428.511678</td>\n",
       "      <td>3958.792055</td>\n",
       "      <td>5408.650638</td>\n",
       "      <td>6180.0</td>\n",
       "    </tr>\n",
       "    <tr>\n",
       "      <th>4</th>\n",
       "      <td>23.836252</td>\n",
       "      <td>309.901463</td>\n",
       "      <td>699.588689</td>\n",
       "      <td>22.0</td>\n",
       "    </tr>\n",
       "    <tr>\n",
       "      <th>...</th>\n",
       "      <td>...</td>\n",
       "      <td>...</td>\n",
       "      <td>...</td>\n",
       "      <td>...</td>\n",
       "    </tr>\n",
       "    <tr>\n",
       "      <th>2463</th>\n",
       "      <td>2656.291431</td>\n",
       "      <td>3030.676328</td>\n",
       "      <td>10082.533129</td>\n",
       "      <td>2640.0</td>\n",
       "    </tr>\n",
       "    <tr>\n",
       "      <th>2464</th>\n",
       "      <td>1101.761960</td>\n",
       "      <td>4064.486071</td>\n",
       "      <td>5484.333396</td>\n",
       "      <td>2100.0</td>\n",
       "    </tr>\n",
       "    <tr>\n",
       "      <th>2465</th>\n",
       "      <td>1864.068916</td>\n",
       "      <td>2389.248460</td>\n",
       "      <td>3960.344043</td>\n",
       "      <td>1860.0</td>\n",
       "    </tr>\n",
       "    <tr>\n",
       "      <th>2466</th>\n",
       "      <td>372.921662</td>\n",
       "      <td>583.960176</td>\n",
       "      <td>1958.153163</td>\n",
       "      <td>300.0</td>\n",
       "    </tr>\n",
       "    <tr>\n",
       "      <th>2467</th>\n",
       "      <td>251.738214</td>\n",
       "      <td>719.981621</td>\n",
       "      <td>1211.125293</td>\n",
       "      <td>900.0</td>\n",
       "    </tr>\n",
       "  </tbody>\n",
       "</table>\n",
       "<p>2468 rows × 4 columns</p>\n",
       "</div>"
      ],
      "text/plain": [
       "              0.1          0.5           0.9  healTime\n",
       "0      301.586493  2235.978233   1785.162618     600.0\n",
       "1       50.378226   242.967627    796.293461      59.0\n",
       "2      206.916297   485.287796   2052.452462    1080.0\n",
       "3     2428.511678  3958.792055   5408.650638    6180.0\n",
       "4       23.836252   309.901463    699.588689      22.0\n",
       "...           ...          ...           ...       ...\n",
       "2463  2656.291431  3030.676328  10082.533129    2640.0\n",
       "2464  1101.761960  4064.486071   5484.333396    2100.0\n",
       "2465  1864.068916  2389.248460   3960.344043    1860.0\n",
       "2466   372.921662   583.960176   1958.153163     300.0\n",
       "2467   251.738214   719.981621   1211.125293     900.0\n",
       "\n",
       "[2468 rows x 4 columns]"
      ]
     },
     "execution_count": 95,
     "metadata": {},
     "output_type": "execute_result"
    }
   ],
   "source": [
    "data"
   ]
  },
  {
   "cell_type": "code",
   "execution_count": 96,
   "id": "b9a5f4ef",
   "metadata": {
    "ExecuteTime": {
     "end_time": "2023-04-14T06:03:20.268116Z",
     "start_time": "2023-04-14T06:03:20.247430Z"
    }
   },
   "outputs": [
    {
     "data": {
      "text/html": [
       "<div>\n",
       "<style scoped>\n",
       "    .dataframe tbody tr th:only-of-type {\n",
       "        vertical-align: middle;\n",
       "    }\n",
       "\n",
       "    .dataframe tbody tr th {\n",
       "        vertical-align: top;\n",
       "    }\n",
       "\n",
       "    .dataframe thead th {\n",
       "        text-align: right;\n",
       "    }\n",
       "</style>\n",
       "<table border=\"1\" class=\"dataframe\">\n",
       "  <thead>\n",
       "    <tr style=\"text-align: right;\">\n",
       "      <th></th>\n",
       "      <th>healTime</th>\n",
       "      <th>variable</th>\n",
       "      <th>value</th>\n",
       "    </tr>\n",
       "  </thead>\n",
       "  <tbody>\n",
       "    <tr>\n",
       "      <th>0</th>\n",
       "      <td>600.0</td>\n",
       "      <td>0.1</td>\n",
       "      <td>301.586493</td>\n",
       "    </tr>\n",
       "    <tr>\n",
       "      <th>1</th>\n",
       "      <td>59.0</td>\n",
       "      <td>0.1</td>\n",
       "      <td>50.378226</td>\n",
       "    </tr>\n",
       "    <tr>\n",
       "      <th>2</th>\n",
       "      <td>1080.0</td>\n",
       "      <td>0.1</td>\n",
       "      <td>206.916297</td>\n",
       "    </tr>\n",
       "    <tr>\n",
       "      <th>3</th>\n",
       "      <td>6180.0</td>\n",
       "      <td>0.1</td>\n",
       "      <td>2428.511678</td>\n",
       "    </tr>\n",
       "    <tr>\n",
       "      <th>4</th>\n",
       "      <td>22.0</td>\n",
       "      <td>0.1</td>\n",
       "      <td>23.836252</td>\n",
       "    </tr>\n",
       "    <tr>\n",
       "      <th>...</th>\n",
       "      <td>...</td>\n",
       "      <td>...</td>\n",
       "      <td>...</td>\n",
       "    </tr>\n",
       "    <tr>\n",
       "      <th>7399</th>\n",
       "      <td>2640.0</td>\n",
       "      <td>0.9</td>\n",
       "      <td>10082.533129</td>\n",
       "    </tr>\n",
       "    <tr>\n",
       "      <th>7400</th>\n",
       "      <td>2100.0</td>\n",
       "      <td>0.9</td>\n",
       "      <td>5484.333396</td>\n",
       "    </tr>\n",
       "    <tr>\n",
       "      <th>7401</th>\n",
       "      <td>1860.0</td>\n",
       "      <td>0.9</td>\n",
       "      <td>3960.344043</td>\n",
       "    </tr>\n",
       "    <tr>\n",
       "      <th>7402</th>\n",
       "      <td>300.0</td>\n",
       "      <td>0.9</td>\n",
       "      <td>1958.153163</td>\n",
       "    </tr>\n",
       "    <tr>\n",
       "      <th>7403</th>\n",
       "      <td>900.0</td>\n",
       "      <td>0.9</td>\n",
       "      <td>1211.125293</td>\n",
       "    </tr>\n",
       "  </tbody>\n",
       "</table>\n",
       "<p>7404 rows × 3 columns</p>\n",
       "</div>"
      ],
      "text/plain": [
       "      healTime variable         value\n",
       "0        600.0      0.1    301.586493\n",
       "1         59.0      0.1     50.378226\n",
       "2       1080.0      0.1    206.916297\n",
       "3       6180.0      0.1   2428.511678\n",
       "4         22.0      0.1     23.836252\n",
       "...        ...      ...           ...\n",
       "7399    2640.0      0.9  10082.533129\n",
       "7400    2100.0      0.9   5484.333396\n",
       "7401    1860.0      0.9   3960.344043\n",
       "7402     300.0      0.9   1958.153163\n",
       "7403     900.0      0.9   1211.125293\n",
       "\n",
       "[7404 rows x 3 columns]"
      ]
     },
     "execution_count": 96,
     "metadata": {},
     "output_type": "execute_result"
    }
   ],
   "source": [
    "melted_data = pd.melt(data, id_vars=['healTime'])\n",
    "melted_data"
   ]
  },
  {
   "cell_type": "code",
   "execution_count": 97,
   "id": "dd3d157c",
   "metadata": {
    "ExecuteTime": {
     "end_time": "2023-04-14T06:03:20.702913Z",
     "start_time": "2023-04-14T06:03:20.271204Z"
    }
   },
   "outputs": [
    {
     "data": {
      "image/png": "[encoded data removed]",
      "text/plain": [
       "<Figure size 600x400 with 1 Axes>"
      ]
     },
     "metadata": {
      "needs_background": "light"
     },
     "output_type": "display_data"
    }
   ],
   "source": [
    "plt.rcParams.update({'font.size': 10, 'figure.dpi':100})\n",
    "sns.scatterplot(data=melted_data, \n",
    "                x='healTime',\n",
    "                y='value',\n",
    "                hue='variable',\n",
    "                hue_order=['0.1', '0.5', '0.9'],\n",
    "                marker='+')\n",
    "plt.grid(linestyle='-', linewidth=0.2)"
   ]
  },
  {
   "cell_type": "code",
   "execution_count": null,
   "id": "eeddaa30",
   "metadata": {},
   "outputs": [],
   "source": []
  },
  {
   "cell_type": "code",
   "execution_count": null,
   "id": "cc034873",
   "metadata": {},
   "outputs": [],
   "source": []
  },
  {
   "cell_type": "code",
   "execution_count": null,
   "id": "e6498e8d",
   "metadata": {},
   "outputs": [],
   "source": []
  },
  {
   "cell_type": "code",
   "execution_count": null,
   "id": "eca3f7ae",
   "metadata": {},
   "outputs": [],
   "source": []
  },
  {
   "cell_type": "code",
   "execution_count": null,
   "id": "f69e97f1",
   "metadata": {},
   "outputs": [],
   "source": []
  },
  {
   "cell_type": "code",
   "execution_count": null,
   "id": "7deaf50f",
   "metadata": {},
   "outputs": [],
   "source": []
  },
  {
   "cell_type": "code",
   "execution_count": null,
   "id": "7e18a433",
   "metadata": {},
   "outputs": [],
   "source": []
  },
  {
   "cell_type": "code",
   "execution_count": null,
   "id": "b693bfae",
   "metadata": {},
   "outputs": [],
   "source": []
  },
  {
   "cell_type": "code",
   "execution_count": null,
   "id": "c59835e4",
   "metadata": {},
   "outputs": [],
   "source": []
  },
  {
   "cell_type": "code",
   "execution_count": 98,
   "id": "7a84dd63",
   "metadata": {
    "ExecuteTime": {
     "end_time": "2023-04-14T06:03:22.242218Z",
     "start_time": "2023-04-14T06:03:20.705186Z"
    }
   },
   "outputs": [
    {
     "name": "stderr",
     "output_type": "stream",
     "text": [
      "2023-04-14 11:33:20.712037: I tensorflow/core/platform/cpu_feature_guard.cc:193] This TensorFlow binary is optimized with oneAPI Deep Neural Network Library (oneDNN) to use the following CPU instructions in performance-critical operations:  AVX2 FMA\n",
      "To enable them in other operations, rebuild TensorFlow with the appropriate compiler flags.\n",
      "2023-04-14 11:33:20.864671: W tensorflow/compiler/xla/stream_executor/platform/default/dso_loader.cc:64] Could not load dynamic library 'libcudart.so.11.0'; dlerror: libcudart.so.11.0: cannot open shared object file: No such file or directory\n",
      "2023-04-14 11:33:20.864698: I tensorflow/compiler/xla/stream_executor/cuda/cudart_stub.cc:29] Ignore above cudart dlerror if you do not have a GPU set up on your machine.\n",
      "2023-04-14 11:33:21.537963: W tensorflow/compiler/xla/stream_executor/platform/default/dso_loader.cc:64] Could not load dynamic library 'libnvinfer.so.7'; dlerror: libnvinfer.so.7: cannot open shared object file: No such file or directory\n",
      "2023-04-14 11:33:21.538066: W tensorflow/compiler/xla/stream_executor/platform/default/dso_loader.cc:64] Could not load dynamic library 'libnvinfer_plugin.so.7'; dlerror: libnvinfer_plugin.so.7: cannot open shared object file: No such file or directory\n",
      "2023-04-14 11:33:21.538075: W tensorflow/compiler/tf2tensorrt/utils/py_utils.cc:38] TF-TRT Warning: Cannot dlopen some TensorRT libraries. If you would like to use Nvidia GPU with TensorRT, please make sure the missing libraries mentioned above are installed properly.\n"
     ]
    }
   ],
   "source": [
    "from numpy import asarray\n",
    "from sklearn.metrics import mean_absolute_error\n",
    "from sklearn.preprocessing import MinMaxScaler\n",
    "from tensorflow.keras.models import Sequential\n",
    "from tensorflow.keras.layers import Dense\n",
    "from tensorflow.keras.optimizers import Adam"
   ]
  },
  {
   "cell_type": "code",
   "execution_count": 99,
   "id": "6cb6c67f",
   "metadata": {
    "ExecuteTime": {
     "end_time": "2023-04-14T06:03:22.253582Z",
     "start_time": "2023-04-14T06:03:22.245318Z"
    }
   },
   "outputs": [
    {
     "name": "stdout",
     "output_type": "stream",
     "text": [
      "Shape of training data: (5758, 7)\n",
      "Shape of testing data: (2468, 7)\n"
     ]
    }
   ],
   "source": [
    "#spliting the data into training 77% and test 33%\n",
    "X_train,X_test,y_train,y_test= train_test_split(X_final,y_final,test_size=0.3,random_state=42)\n",
    "\n",
    "print('Shape of training data:',(X_train.shape))\n",
    "print('Shape of testing data:',(X_test.shape))"
   ]
  },
  {
   "cell_type": "code",
   "execution_count": 105,
   "id": "00b5cb35",
   "metadata": {
    "ExecuteTime": {
     "end_time": "2023-04-14T06:24:12.675427Z",
     "start_time": "2023-04-14T06:24:12.669215Z"
    }
   },
   "outputs": [],
   "source": [
    "scaler = MinMaxScaler()\n",
    "scaler.fit(X_train)\n",
    "X_train = scaler.transform(X_train)\n",
    "X_test = scaler.transform(X_test)"
   ]
  },
  {
   "cell_type": "code",
   "execution_count": 101,
   "id": "55631db1",
   "metadata": {
    "ExecuteTime": {
     "end_time": "2023-04-14T06:03:22.291175Z",
     "start_time": "2023-04-14T06:03:22.283751Z"
    }
   },
   "outputs": [],
   "source": [
    "# define and fit the model\n",
    "def fit_model(X_train, y_train):\n",
    "# define neural network model \n",
    "    features = X_train.shape[1]\n",
    "    model = Sequential()\n",
    "    model.add(Dense(20, kernel_initializer='he_normal', activation='relu', input_dim=features))\n",
    "    model.add(Dense(5, kernel_initializer='he_normal', activation='relu'))\n",
    "    model.add(Dense(1))\n",
    " # compile the model and specify loss and optimizer\n",
    "    opt = Adam(learning_rate=0.01, beta_1=0.85, beta_2=0.999)\n",
    "    model.compile(optimizer=opt, loss='mse')\n",
    " # fit the model on the training dataset\n",
    "    model.fit(X_train, y_train, verbose=0, epochs=300, batch_size=16)\n",
    "    return model"
   ]
  },
  {
   "cell_type": "code",
   "execution_count": 102,
   "id": "df5963e8",
   "metadata": {
    "ExecuteTime": {
     "end_time": "2023-04-14T06:03:22.303308Z",
     "start_time": "2023-04-14T06:03:22.294340Z"
    }
   },
   "outputs": [],
   "source": [
    "# fit an ensemble of models\n",
    "def fit_ensemble(n_members, X_train, X_test, y_train, y_test):\n",
    "    ensemble = list()\n",
    "    for i in range(n_members):        \n",
    "# define and fit the model on the training set\n",
    "        model = fit_model(X_train, y_train)\n",
    "# evaluate model on the test set\n",
    "        yhat = model.predict(X_test, verbose=0)\n",
    "        mae = mean_absolute_error(y_test, yhat)\n",
    "        print('>%d, MAE: %.3f' % (i+1, mae))\n",
    " # store the model\n",
    "        ensemble.append(model)\n",
    "        return ensemble"
   ]
  },
  {
   "cell_type": "code",
   "execution_count": 103,
   "id": "e67d68c2",
   "metadata": {
    "ExecuteTime": {
     "end_time": "2023-04-14T06:03:22.312473Z",
     "start_time": "2023-04-14T06:03:22.306005Z"
    }
   },
   "outputs": [],
   "source": [
    "# make predictions with the ensemble and calculate a prediction interval\n",
    "def predict_with_pi(ensemble, X):\n",
    " # make predictions\n",
    "    yhat = [model.predict(X, verbose=0) for model in ensemble]\n",
    "    yhat = asarray(yhat)\n",
    " # calculate 95% gaussian prediction interval\n",
    "    interval = 1.96 * yhat.std()\n",
    "    lower, upper = yhat.mean() - interval, yhat.mean() + interval\n",
    "    return lower, yhat.mean(), upper"
   ]
  },
  {
   "cell_type": "code",
   "execution_count": 104,
   "id": "d4423398",
   "metadata": {
    "ExecuteTime": {
     "end_time": "2023-04-14T06:05:29.816705Z",
     "start_time": "2023-04-14T06:03:22.316320Z"
    }
   },
   "outputs": [
    {
     "name": "stderr",
     "output_type": "stream",
     "text": [
      "2023-04-14 11:33:22.327333: W tensorflow/compiler/xla/stream_executor/platform/default/dso_loader.cc:64] Could not load dynamic library 'libcuda.so.1'; dlerror: libcuda.so.1: cannot open shared object file: No such file or directory\n",
      "2023-04-14 11:33:22.327367: W tensorflow/compiler/xla/stream_executor/cuda/cuda_driver.cc:265] failed call to cuInit: UNKNOWN ERROR (303)\n",
      "2023-04-14 11:33:22.327402: I tensorflow/compiler/xla/stream_executor/cuda/cuda_diagnostics.cc:156] kernel driver does not appear to be running on this host (ubuntu-Zako): /proc/driver/nvidia/version does not exist\n",
      "2023-04-14 11:33:22.327659: I tensorflow/core/platform/cpu_feature_guard.cc:193] This TensorFlow binary is optimized with oneAPI Deep Neural Network Library (oneDNN) to use the following CPU instructions in performance-critical operations:  AVX2 FMA\n",
      "To enable them in other operations, rebuild TensorFlow with the appropriate compiler flags.\n"
     ]
    },
    {
     "name": "stdout",
     "output_type": "stream",
     "text": [
      ">1, MAE: 3185.573\n",
      "Point prediction: 791.356\n",
      "95% prediction interval: [791.356, 791.356]\n",
      "True value: 60.000\n"
     ]
    }
   ],
   "source": [
    "# fit ensemble\n",
    "n_members = 30\n",
    "ensemble = fit_ensemble(n_members, X_train, X_test, y_train, y_test)\n",
    "# make predictions with prediction interval\n",
    "newX = asarray([X_test[0, :]])\n",
    "lower, mean, upper = predict_with_pi(ensemble, newX)\n",
    "print('Point prediction: %.3f' % mean)\n",
    "print('95%% prediction interval: [%.3f, %.3f]' % (lower, upper))\n",
    "print('True value: %.3f' % y_test[0])"
   ]
  },
  {
   "cell_type": "code",
   "execution_count": null,
   "id": "f2d3ccb0",
   "metadata": {},
   "outputs": [],
   "source": []
  }
 ],
 "metadata": {
  "kernelspec": {
   "display_name": "Python 3 (ipykernel)",
   "language": "python",
   "name": "python3"
  },
  "language_info": {
   "codemirror_mode": {
    "name": "ipython",
    "version": 3
   },
   "file_extension": ".py",
   "mimetype": "text/x-python",
   "name": "python",
   "nbconvert_exporter": "python",
   "pygments_lexer": "ipython3",
   "version": "3.10.6"
  },
  "varInspector": {
   "cols": {
    "lenName": 16,
    "lenType": 16,
    "lenVar": 40
   },
   "kernels_config": {
    "python": {
     "delete_cmd_postfix": "",
     "delete_cmd_prefix": "del ",
     "library": "var_list.py",
     "varRefreshCmd": "print(var_dic_list())"
    },
    "r": {
     "delete_cmd_postfix": ") ",
     "delete_cmd_prefix": "rm(",
     "library": "var_list.r",
     "varRefreshCmd": "cat(var_dic_list()) "
    }
   },
   "types_to_exclude": [
    "module",
    "function",
    "builtin_function_or_method",
    "instance",
    "_Feature"
   ],
   "window_display": false
  }
 },
 "nbformat": 4,
 "nbformat_minor": 5
}
