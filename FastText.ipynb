{
 "cells": [
  {
   "cell_type": "code",
   "execution_count": 1,
   "id": "af54b836",
   "metadata": {
    "ExecuteTime": {
     "end_time": "2023-01-07T04:12:22.607361Z",
     "start_time": "2023-01-07T04:12:20.041326Z"
    }
   },
   "outputs": [],
   "source": [
    "# Importing basic libraries\n",
    "import pandas as pd\n",
    "import numpy as np\n",
    "import matplotlib.pyplot as plt\n",
    "\n",
    "import nltk\n",
    "from nltk.corpus import stopwords\n",
    "from nltk.stem.wordnet import WordNetLemmatizer\n",
    "from nltk.tokenize import word_tokenize\n",
    "import re\n",
    "import swifter"
   ]
  },
  {
   "cell_type": "code",
   "execution_count": 2,
   "id": "dbcc135f",
   "metadata": {
    "ExecuteTime": {
     "end_time": "2023-01-07T04:12:23.504566Z",
     "start_time": "2023-01-07T04:12:22.610286Z"
    }
   },
   "outputs": [],
   "source": [
    "cyber = pd.read_csv(\"cybersecurity_tweets.csv\")\n",
    "not_cyber = pd.read_csv(\"not_cybersecurity_tweets.csv\")"
   ]
  },
  {
   "cell_type": "code",
   "execution_count": 3,
   "id": "7f66513f",
   "metadata": {
    "ExecuteTime": {
     "end_time": "2023-01-07T04:12:23.521420Z",
     "start_time": "2023-01-07T04:12:23.507117Z"
    }
   },
   "outputs": [],
   "source": [
    "# Use pandas.concat() method to ignore_index \n",
    "df = pd.concat([cyber, not_cyber], ignore_index=True, axis = 0)"
   ]
  },
  {
   "cell_type": "code",
   "execution_count": 4,
   "id": "cd501277",
   "metadata": {
    "ExecuteTime": {
     "end_time": "2023-01-07T04:12:23.545702Z",
     "start_time": "2023-01-07T04:12:23.525869Z"
    }
   },
   "outputs": [
    {
     "data": {
      "text/html": [
       "<div>\n",
       "<style scoped>\n",
       "    .dataframe tbody tr th:only-of-type {\n",
       "        vertical-align: middle;\n",
       "    }\n",
       "\n",
       "    .dataframe tbody tr th {\n",
       "        vertical-align: top;\n",
       "    }\n",
       "\n",
       "    .dataframe thead th {\n",
       "        text-align: right;\n",
       "    }\n",
       "</style>\n",
       "<table border=\"1\" class=\"dataframe\">\n",
       "  <thead>\n",
       "    <tr style=\"text-align: right;\">\n",
       "      <th></th>\n",
       "      <th>text</th>\n",
       "      <th>label</th>\n",
       "    </tr>\n",
       "  </thead>\n",
       "  <tbody>\n",
       "    <tr>\n",
       "      <th>0</th>\n",
       "      <td>#AI Robo-Advisers and the Future of Financial ...</td>\n",
       "      <td>1</td>\n",
       "    </tr>\n",
       "    <tr>\n",
       "      <th>1</th>\n",
       "      <td>Hackers causing havoc on Mexican banking syste...</td>\n",
       "      <td>1</td>\n",
       "    </tr>\n",
       "    <tr>\n",
       "      <th>2</th>\n",
       "      <td>CVE-2019-13127 An issue was discovered in mxGr...</td>\n",
       "      <td>1</td>\n",
       "    </tr>\n",
       "    <tr>\n",
       "      <th>3</th>\n",
       "      <td>How to protect your online identity #labourcyb...</td>\n",
       "      <td>1</td>\n",
       "    </tr>\n",
       "    <tr>\n",
       "      <th>4</th>\n",
       "      <td>Forensic Acquisition - Shadow Cyber Sec  https...</td>\n",
       "      <td>1</td>\n",
       "    </tr>\n",
       "  </tbody>\n",
       "</table>\n",
       "</div>"
      ],
      "text/plain": [
       "                                                text  label\n",
       "0  #AI Robo-Advisers and the Future of Financial ...      1\n",
       "1  Hackers causing havoc on Mexican banking syste...      1\n",
       "2  CVE-2019-13127 An issue was discovered in mxGr...      1\n",
       "3  How to protect your online identity #labourcyb...      1\n",
       "4  Forensic Acquisition - Shadow Cyber Sec  https...      1"
      ]
     },
     "execution_count": 4,
     "metadata": {},
     "output_type": "execute_result"
    }
   ],
   "source": [
    "df.head()"
   ]
  },
  {
   "cell_type": "code",
   "execution_count": 5,
   "id": "d2cdb808",
   "metadata": {
    "ExecuteTime": {
     "end_time": "2023-01-07T04:12:23.554979Z",
     "start_time": "2023-01-07T04:12:23.549099Z"
    }
   },
   "outputs": [
    {
     "data": {
      "text/plain": [
       "(400000, 2)"
      ]
     },
     "execution_count": 5,
     "metadata": {},
     "output_type": "execute_result"
    }
   ],
   "source": [
    "df.shape"
   ]
  },
  {
   "cell_type": "code",
   "execution_count": 6,
   "id": "3dc102b2",
   "metadata": {
    "ExecuteTime": {
     "end_time": "2023-01-07T04:12:23.581460Z",
     "start_time": "2023-01-07T04:12:23.560317Z"
    }
   },
   "outputs": [
    {
     "data": {
      "text/plain": [
       "1    200000\n",
       "0    200000\n",
       "Name: label, dtype: int64"
      ]
     },
     "execution_count": 6,
     "metadata": {},
     "output_type": "execute_result"
    }
   ],
   "source": [
    "df.label.value_counts()"
   ]
  },
  {
   "cell_type": "code",
   "execution_count": 7,
   "id": "33508964",
   "metadata": {
    "ExecuteTime": {
     "end_time": "2023-01-07T04:12:23.997169Z",
     "start_time": "2023-01-07T04:12:23.584274Z"
    }
   },
   "outputs": [],
   "source": [
    "# Drop duplicates\n",
    "df.drop_duplicates(keep='first',inplace= True)"
   ]
  },
  {
   "cell_type": "code",
   "execution_count": 8,
   "id": "dbb37f32",
   "metadata": {
    "ExecuteTime": {
     "end_time": "2023-01-07T04:12:24.012086Z",
     "start_time": "2023-01-07T04:12:23.999666Z"
    }
   },
   "outputs": [],
   "source": [
    "STOPWORDS=set(stopwords.words('english'))\n",
    "lemmatizer= WordNetLemmatizer()\n",
    "\n",
    "def tokenize(text):\n",
    "    \n",
    "   #1. Remove links\n",
    "    text = re.sub(r\"http\\S+\", \"\", text)\n",
    "\n",
    "   #2. Normalize the data by converting to lower case and removing punctuations\n",
    "    text = re.sub(\"[^a-zA-Z]\", \" \", text.lower())\n",
    "    \n",
    "   #3. Tokenizing: split text into words\n",
    "    tokens = word_tokenize(text)\n",
    "    \n",
    "   #4. Remove stop words\n",
    "    words = [w for w in tokens if w not in STOPWORDS]\n",
    "    \n",
    "    #5. Lemmatize \n",
    "    lemmed_words = [lemmatizer.lemmatize(w) for w in words]\n",
    "    \n",
    "    clean_tokens = []\n",
    "    \n",
    "    for i in lemmed_words:\n",
    "        clean_tokens.append(i)\n",
    "        \n",
    "        ## back to string from list\n",
    "    text = \" \".join(clean_tokens)\n",
    "    return text"
   ]
  },
  {
   "cell_type": "code",
   "execution_count": 9,
   "id": "0086307e",
   "metadata": {
    "ExecuteTime": {
     "end_time": "2023-01-07T04:13:47.827021Z",
     "start_time": "2023-01-07T04:12:24.014378Z"
    }
   },
   "outputs": [
    {
     "data": {
      "application/vnd.jupyter.widget-view+json": {
       "model_id": "18f56e1ce5f840c5af2765ab59e3b6fc",
       "version_major": 2,
       "version_minor": 0
      },
      "text/plain": [
       "Pandas Apply:   0%|          | 0/390162 [00:00<?, ?it/s]"
      ]
     },
     "metadata": {},
     "output_type": "display_data"
    }
   ],
   "source": [
    "df['Cleantext'] = df['text'].swifter.apply(lambda x: tokenize(x))"
   ]
  },
  {
   "cell_type": "code",
   "execution_count": 10,
   "id": "d0a75479",
   "metadata": {
    "ExecuteTime": {
     "end_time": "2023-01-07T04:13:47.898574Z",
     "start_time": "2023-01-07T04:13:47.833000Z"
    }
   },
   "outputs": [
    {
     "data": {
      "text/html": [
       "<div>\n",
       "<style scoped>\n",
       "    .dataframe tbody tr th:only-of-type {\n",
       "        vertical-align: middle;\n",
       "    }\n",
       "\n",
       "    .dataframe tbody tr th {\n",
       "        vertical-align: top;\n",
       "    }\n",
       "\n",
       "    .dataframe thead th {\n",
       "        text-align: right;\n",
       "    }\n",
       "</style>\n",
       "<table border=\"1\" class=\"dataframe\">\n",
       "  <thead>\n",
       "    <tr style=\"text-align: right;\">\n",
       "      <th></th>\n",
       "      <th>text</th>\n",
       "      <th>label</th>\n",
       "      <th>Cleantext</th>\n",
       "    </tr>\n",
       "  </thead>\n",
       "  <tbody>\n",
       "    <tr>\n",
       "      <th>0</th>\n",
       "      <td>#AI Robo-Advisers and the Future of Financial ...</td>\n",
       "      <td>1</td>\n",
       "      <td>ai robo adviser future financial advice datapr...</td>\n",
       "    </tr>\n",
       "    <tr>\n",
       "      <th>1</th>\n",
       "      <td>Hackers causing havoc on Mexican banking syste...</td>\n",
       "      <td>1</td>\n",
       "      <td>hacker causing havoc mexican banking system cy...</td>\n",
       "    </tr>\n",
       "    <tr>\n",
       "      <th>2</th>\n",
       "      <td>CVE-2019-13127 An issue was discovered in mxGr...</td>\n",
       "      <td>1</td>\n",
       "      <td>cve issue discovered mxgraph related diagram p...</td>\n",
       "    </tr>\n",
       "    <tr>\n",
       "      <th>3</th>\n",
       "      <td>How to protect your online identity #labourcyb...</td>\n",
       "      <td>1</td>\n",
       "      <td>protect online identity labourcyberattack cybe...</td>\n",
       "    </tr>\n",
       "    <tr>\n",
       "      <th>4</th>\n",
       "      <td>Forensic Acquisition - Shadow Cyber Sec  https...</td>\n",
       "      <td>1</td>\n",
       "      <td>forensic acquisition shadow cyber sec cybersec...</td>\n",
       "    </tr>\n",
       "  </tbody>\n",
       "</table>\n",
       "</div>"
      ],
      "text/plain": [
       "                                                text  label  \\\n",
       "0  #AI Robo-Advisers and the Future of Financial ...      1   \n",
       "1  Hackers causing havoc on Mexican banking syste...      1   \n",
       "2  CVE-2019-13127 An issue was discovered in mxGr...      1   \n",
       "3  How to protect your online identity #labourcyb...      1   \n",
       "4  Forensic Acquisition - Shadow Cyber Sec  https...      1   \n",
       "\n",
       "                                           Cleantext  \n",
       "0  ai robo adviser future financial advice datapr...  \n",
       "1  hacker causing havoc mexican banking system cy...  \n",
       "2  cve issue discovered mxgraph related diagram p...  \n",
       "3  protect online identity labourcyberattack cybe...  \n",
       "4  forensic acquisition shadow cyber sec cybersec...  "
      ]
     },
     "execution_count": 10,
     "metadata": {},
     "output_type": "execute_result"
    }
   ],
   "source": [
    "df.head()"
   ]
  },
  {
   "cell_type": "code",
   "execution_count": 11,
   "id": "abd06353",
   "metadata": {
    "ExecuteTime": {
     "end_time": "2023-01-07T04:13:48.074769Z",
     "start_time": "2023-01-07T04:13:47.902666Z"
    }
   },
   "outputs": [
    {
     "data": {
      "text/html": [
       "<div>\n",
       "<style scoped>\n",
       "    .dataframe tbody tr th:only-of-type {\n",
       "        vertical-align: middle;\n",
       "    }\n",
       "\n",
       "    .dataframe tbody tr th {\n",
       "        vertical-align: top;\n",
       "    }\n",
       "\n",
       "    .dataframe thead th {\n",
       "        text-align: right;\n",
       "    }\n",
       "</style>\n",
       "<table border=\"1\" class=\"dataframe\">\n",
       "  <thead>\n",
       "    <tr style=\"text-align: right;\">\n",
       "      <th></th>\n",
       "      <th>text</th>\n",
       "      <th>label</th>\n",
       "      <th>Cleantext</th>\n",
       "    </tr>\n",
       "  </thead>\n",
       "  <tbody>\n",
       "    <tr>\n",
       "      <th>0</th>\n",
       "      <td>#AI Robo-Advisers and the Future of Financial ...</td>\n",
       "      <td>__label__1</td>\n",
       "      <td>ai robo adviser future financial advice datapr...</td>\n",
       "    </tr>\n",
       "    <tr>\n",
       "      <th>1</th>\n",
       "      <td>Hackers causing havoc on Mexican banking syste...</td>\n",
       "      <td>__label__1</td>\n",
       "      <td>hacker causing havoc mexican banking system cy...</td>\n",
       "    </tr>\n",
       "    <tr>\n",
       "      <th>2</th>\n",
       "      <td>CVE-2019-13127 An issue was discovered in mxGr...</td>\n",
       "      <td>__label__1</td>\n",
       "      <td>cve issue discovered mxgraph related diagram p...</td>\n",
       "    </tr>\n",
       "    <tr>\n",
       "      <th>3</th>\n",
       "      <td>How to protect your online identity #labourcyb...</td>\n",
       "      <td>__label__1</td>\n",
       "      <td>protect online identity labourcyberattack cybe...</td>\n",
       "    </tr>\n",
       "    <tr>\n",
       "      <th>4</th>\n",
       "      <td>Forensic Acquisition - Shadow Cyber Sec  https...</td>\n",
       "      <td>__label__1</td>\n",
       "      <td>forensic acquisition shadow cyber sec cybersec...</td>\n",
       "    </tr>\n",
       "  </tbody>\n",
       "</table>\n",
       "</div>"
      ],
      "text/plain": [
       "                                                text       label  \\\n",
       "0  #AI Robo-Advisers and the Future of Financial ...  __label__1   \n",
       "1  Hackers causing havoc on Mexican banking syste...  __label__1   \n",
       "2  CVE-2019-13127 An issue was discovered in mxGr...  __label__1   \n",
       "3  How to protect your online identity #labourcyb...  __label__1   \n",
       "4  Forensic Acquisition - Shadow Cyber Sec  https...  __label__1   \n",
       "\n",
       "                                           Cleantext  \n",
       "0  ai robo adviser future financial advice datapr...  \n",
       "1  hacker causing havoc mexican banking system cy...  \n",
       "2  cve issue discovered mxgraph related diagram p...  \n",
       "3  protect online identity labourcyberattack cybe...  \n",
       "4  forensic acquisition shadow cyber sec cybersec...  "
      ]
     },
     "execution_count": 11,
     "metadata": {},
     "output_type": "execute_result"
    }
   ],
   "source": [
    "df['label'] = \"__label__\" + df['label'].astype(str)\n",
    "df.head()"
   ]
  },
  {
   "cell_type": "code",
   "execution_count": 12,
   "id": "3f077fa0",
   "metadata": {
    "ExecuteTime": {
     "end_time": "2023-01-07T04:13:48.195914Z",
     "start_time": "2023-01-07T04:13:48.077362Z"
    },
    "scrolled": true
   },
   "outputs": [
    {
     "data": {
      "text/html": [
       "<div>\n",
       "<style scoped>\n",
       "    .dataframe tbody tr th:only-of-type {\n",
       "        vertical-align: middle;\n",
       "    }\n",
       "\n",
       "    .dataframe tbody tr th {\n",
       "        vertical-align: top;\n",
       "    }\n",
       "\n",
       "    .dataframe thead th {\n",
       "        text-align: right;\n",
       "    }\n",
       "</style>\n",
       "<table border=\"1\" class=\"dataframe\">\n",
       "  <thead>\n",
       "    <tr style=\"text-align: right;\">\n",
       "      <th></th>\n",
       "      <th>text</th>\n",
       "      <th>label</th>\n",
       "      <th>Cleantext</th>\n",
       "      <th>text_description</th>\n",
       "    </tr>\n",
       "  </thead>\n",
       "  <tbody>\n",
       "    <tr>\n",
       "      <th>0</th>\n",
       "      <td>#AI Robo-Advisers and the Future of Financial ...</td>\n",
       "      <td>__label__1</td>\n",
       "      <td>ai robo adviser future financial advice datapr...</td>\n",
       "      <td>__label__1 ai robo adviser future financial ad...</td>\n",
       "    </tr>\n",
       "    <tr>\n",
       "      <th>1</th>\n",
       "      <td>Hackers causing havoc on Mexican banking syste...</td>\n",
       "      <td>__label__1</td>\n",
       "      <td>hacker causing havoc mexican banking system cy...</td>\n",
       "      <td>__label__1 hacker causing havoc mexican bankin...</td>\n",
       "    </tr>\n",
       "    <tr>\n",
       "      <th>2</th>\n",
       "      <td>CVE-2019-13127 An issue was discovered in mxGr...</td>\n",
       "      <td>__label__1</td>\n",
       "      <td>cve issue discovered mxgraph related diagram p...</td>\n",
       "      <td>__label__1 cve issue discovered mxgraph relate...</td>\n",
       "    </tr>\n",
       "    <tr>\n",
       "      <th>3</th>\n",
       "      <td>How to protect your online identity #labourcyb...</td>\n",
       "      <td>__label__1</td>\n",
       "      <td>protect online identity labourcyberattack cybe...</td>\n",
       "      <td>__label__1 protect online identity labourcyber...</td>\n",
       "    </tr>\n",
       "    <tr>\n",
       "      <th>4</th>\n",
       "      <td>Forensic Acquisition - Shadow Cyber Sec  https...</td>\n",
       "      <td>__label__1</td>\n",
       "      <td>forensic acquisition shadow cyber sec cybersec...</td>\n",
       "      <td>__label__1 forensic acquisition shadow cyber s...</td>\n",
       "    </tr>\n",
       "  </tbody>\n",
       "</table>\n",
       "</div>"
      ],
      "text/plain": [
       "                                                text       label  \\\n",
       "0  #AI Robo-Advisers and the Future of Financial ...  __label__1   \n",
       "1  Hackers causing havoc on Mexican banking syste...  __label__1   \n",
       "2  CVE-2019-13127 An issue was discovered in mxGr...  __label__1   \n",
       "3  How to protect your online identity #labourcyb...  __label__1   \n",
       "4  Forensic Acquisition - Shadow Cyber Sec  https...  __label__1   \n",
       "\n",
       "                                           Cleantext  \\\n",
       "0  ai robo adviser future financial advice datapr...   \n",
       "1  hacker causing havoc mexican banking system cy...   \n",
       "2  cve issue discovered mxgraph related diagram p...   \n",
       "3  protect online identity labourcyberattack cybe...   \n",
       "4  forensic acquisition shadow cyber sec cybersec...   \n",
       "\n",
       "                                    text_description  \n",
       "0  __label__1 ai robo adviser future financial ad...  \n",
       "1  __label__1 hacker causing havoc mexican bankin...  \n",
       "2  __label__1 cve issue discovered mxgraph relate...  \n",
       "3  __label__1 protect online identity labourcyber...  \n",
       "4  __label__1 forensic acquisition shadow cyber s...  "
      ]
     },
     "execution_count": 12,
     "metadata": {},
     "output_type": "execute_result"
    }
   ],
   "source": [
    "df['text_description'] = df['label'] + \" \" + df['Cleantext']\n",
    "df.head()"
   ]
  },
  {
   "cell_type": "markdown",
   "id": "edd0a52c",
   "metadata": {},
   "source": [
    "# Split the dataset into Training and Testing datasets"
   ]
  },
  {
   "cell_type": "code",
   "execution_count": 13,
   "id": "30dc1b50",
   "metadata": {
    "ExecuteTime": {
     "end_time": "2023-01-07T04:13:48.202139Z",
     "start_time": "2023-01-07T04:13:48.198578Z"
    }
   },
   "outputs": [],
   "source": [
    "from sklearn.model_selection import train_test_split"
   ]
  },
  {
   "cell_type": "code",
   "execution_count": 14,
   "id": "5cd947d8",
   "metadata": {
    "ExecuteTime": {
     "end_time": "2023-01-07T04:13:48.516286Z",
     "start_time": "2023-01-07T04:13:48.204696Z"
    }
   },
   "outputs": [],
   "source": [
    "train, test = train_test_split(df, test_size=0.3)"
   ]
  },
  {
   "cell_type": "code",
   "execution_count": 15,
   "id": "476adb2e",
   "metadata": {
    "ExecuteTime": {
     "end_time": "2023-01-07T04:13:48.524229Z",
     "start_time": "2023-01-07T04:13:48.518609Z"
    }
   },
   "outputs": [
    {
     "data": {
      "text/plain": [
       "((273113, 4), (117049, 4))"
      ]
     },
     "execution_count": 15,
     "metadata": {},
     "output_type": "execute_result"
    }
   ],
   "source": [
    "train.shape , test.shape"
   ]
  },
  {
   "cell_type": "code",
   "execution_count": 16,
   "id": "0bec29e8",
   "metadata": {
    "ExecuteTime": {
     "end_time": "2023-01-07T04:13:49.748123Z",
     "start_time": "2023-01-07T04:13:48.527779Z"
    }
   },
   "outputs": [],
   "source": [
    "train.to_csv(\"tweet.train\", columns=[\"text_description\"], index=False, header=False)\n",
    "test.to_csv(\"tweet.test\", columns=[\"text_description\"], index=False, header=False)"
   ]
  },
  {
   "cell_type": "markdown",
   "id": "71016acd",
   "metadata": {},
   "source": [
    "## Train the model and evaluate performance"
   ]
  },
  {
   "cell_type": "code",
   "execution_count": 17,
   "id": "2d84eafa",
   "metadata": {
    "ExecuteTime": {
     "end_time": "2023-01-07T04:13:54.984566Z",
     "start_time": "2023-01-07T04:13:49.750605Z"
    }
   },
   "outputs": [
    {
     "name": "stderr",
     "output_type": "stream",
     "text": [
      "Read 4M words\n",
      "Number of words:  184525\n",
      "Number of labels: 2\n",
      "Progress: 100.0% words/sec/thread: 1984170 lr:  0.000000 avg.loss:  0.030807 ETA:   0h 0m 0s\n"
     ]
    },
    {
     "data": {
      "text/plain": [
       "(117049, 0.9902690326273612, 0.9902690326273612)"
      ]
     },
     "execution_count": 17,
     "metadata": {},
     "output_type": "execute_result"
    }
   ],
   "source": [
    "import fasttext\n",
    "model = fasttext.train_supervised(input=\"tweet.train\")\n",
    "model.test(\"tweet.test\")"
   ]
  },
  {
   "cell_type": "markdown",
   "id": "3e8962ed",
   "metadata": {},
   "source": [
    "First parameter (117049) is test size. Second and third parameters are precision and recall respectively. You can see we are getting around 99% precision which is pretty good"
   ]
  },
  {
   "cell_type": "markdown",
   "id": "22363ffe",
   "metadata": {},
   "source": [
    "## Now let's do prediction for few text_descriptions"
   ]
  },
  {
   "cell_type": "code",
   "execution_count": 18,
   "id": "12a72a1a",
   "metadata": {
    "ExecuteTime": {
     "end_time": "2023-01-07T04:13:54.995617Z",
     "start_time": "2023-01-07T04:13:54.986467Z"
    }
   },
   "outputs": [
    {
     "data": {
      "text/plain": [
       "(('__label__0',), array([0.99743682]))"
      ]
     },
     "execution_count": 18,
     "metadata": {},
     "output_type": "execute_result"
    }
   ],
   "source": [
    "model.predict(\"cuidado el phishing suplantaci n de identidad fue uno de los delitos en internet reportados durante el te contamos de qu va malware ciberseguridad seguridadinformatica marketcrosslatam\")"
   ]
  },
  {
   "cell_type": "code",
   "execution_count": 19,
   "id": "5b4f7f47",
   "metadata": {
    "ExecuteTime": {
     "end_time": "2023-01-07T04:13:55.003837Z",
     "start_time": "2023-01-07T04:13:54.998297Z"
    }
   },
   "outputs": [
    {
     "data": {
      "text/plain": [
       "(('__label__1',), array([1.00001001]))"
      ]
     },
     "execution_count": 19,
     "metadata": {},
     "output_type": "execute_result"
    }
   ],
   "source": [
    "model.predict(\"popular pirated software used lure serve malware dropper cybersecurity via questechie\")"
   ]
  },
  {
   "cell_type": "code",
   "execution_count": 20,
   "id": "90100b23",
   "metadata": {
    "ExecuteTime": {
     "end_time": "2023-01-07T04:13:55.014254Z",
     "start_time": "2023-01-07T04:13:55.007911Z"
    }
   },
   "outputs": [
    {
     "data": {
      "text/plain": [
       "(('__label__1',), array([1.00001001]))"
      ]
     },
     "execution_count": 20,
     "metadata": {},
     "output_type": "execute_result"
    }
   ],
   "source": [
    "model.predict(\"cybersecurity nigerian company mercy cybercriminals pay ransomware attack report say\")"
   ]
  },
  {
   "cell_type": "code",
   "execution_count": 32,
   "id": "2661faa9",
   "metadata": {
    "ExecuteTime": {
     "end_time": "2023-01-07T05:41:21.937223Z",
     "start_time": "2023-01-07T05:41:21.930966Z"
    },
    "scrolled": true
   },
   "outputs": [
    {
     "data": {
      "text/plain": [
       "(('__label__0',), array([0.99606347]))"
      ]
     },
     "execution_count": 32,
     "metadata": {},
     "output_type": "execute_result"
    }
   ],
   "source": [
    "model.predict(\"databreach robotics machinelearning augmentedreality fintech deeplearning science cloudsecurity java goal blessed fitness vegan huge thanks everyone viewed linkedin profile check add wish\")"
   ]
  },
  {
   "cell_type": "code",
   "execution_count": 22,
   "id": "7ebaf0f9",
   "metadata": {
    "ExecuteTime": {
     "end_time": "2023-01-07T04:13:55.257617Z",
     "start_time": "2023-01-07T04:13:55.036820Z"
    }
   },
   "outputs": [
    {
     "data": {
      "text/plain": [
       "[(2.6689541339874268, 'itsmalware'),\n",
       " (2.081071138381958, 'usedincurrentattacks'),\n",
       " (1.729984998703003, 'bessemer'),\n",
       " (1.5863993167877197, 'necn'),\n",
       " (1.550126075744629, 'kubkon'),\n",
       " (1.546589732170105, 'attomushq'),\n",
       " (1.546589732170105, 'tobiaalberti'),\n",
       " (1.4353551864624023, 'bazalloader'),\n",
       " (1.4307018518447876, 'dsespitia'),\n",
       " (1.2304000854492188, 'jasonfossen')]"
      ]
     },
     "execution_count": 22,
     "metadata": {},
     "output_type": "execute_result"
    }
   ],
   "source": [
    "model.get_nearest_neighbors(\"cloudsecurity\")"
   ]
  },
  {
   "cell_type": "code",
   "execution_count": 23,
   "id": "b6b53548",
   "metadata": {
    "ExecuteTime": {
     "end_time": "2023-01-07T04:13:55.298218Z",
     "start_time": "2023-01-07T04:13:55.261715Z"
    }
   },
   "outputs": [
    {
     "data": {
      "text/plain": [
       "[(2.8952574729919434, 'itsmalware'),\n",
       " (2.257476329803467, 'usedincurrentattacks'),\n",
       " (1.8773866891860962, 'bessemer'),\n",
       " (1.7206835746765137, 'necn'),\n",
       " (1.6813035011291504, 'kubkon'),\n",
       " (1.6781492233276367, 'attomushq'),\n",
       " (1.6781492233276367, 'tobiaalberti'),\n",
       " (1.5574820041656494, 'bazalloader'),\n",
       " (1.5520544052124023, 'dsespitia'),\n",
       " (1.334557294845581, 'jasonfossen')]"
      ]
     },
     "execution_count": 23,
     "metadata": {},
     "output_type": "execute_result"
    }
   ],
   "source": [
    "model.get_nearest_neighbors(\"nigerian\")"
   ]
  },
  {
   "cell_type": "code",
   "execution_count": 25,
   "id": "b9ae1d44",
   "metadata": {
    "ExecuteTime": {
     "end_time": "2023-01-07T04:24:23.067794Z",
     "start_time": "2023-01-07T04:24:22.944961Z"
    }
   },
   "outputs": [],
   "source": [
    "model.save_model(\"fast.bin\")"
   ]
  },
  {
   "cell_type": "code",
   "execution_count": null,
   "id": "808923e5",
   "metadata": {},
   "outputs": [],
   "source": []
  }
 ],
 "metadata": {
  "kernelspec": {
   "display_name": "Python 3 (ipykernel)",
   "language": "python",
   "name": "python3"
  },
  "language_info": {
   "codemirror_mode": {
    "name": "ipython",
    "version": 3
   },
   "file_extension": ".py",
   "mimetype": "text/x-python",
   "name": "python",
   "nbconvert_exporter": "python",
   "pygments_lexer": "ipython3",
   "version": "3.10.6"
  },
  "varInspector": {
   "cols": {
    "lenName": 16,
    "lenType": 16,
    "lenVar": 40
   },
   "kernels_config": {
    "python": {
     "delete_cmd_postfix": "",
     "delete_cmd_prefix": "del ",
     "library": "var_list.py",
     "varRefreshCmd": "print(var_dic_list())"
    },
    "r": {
     "delete_cmd_postfix": ") ",
     "delete_cmd_prefix": "rm(",
     "library": "var_list.r",
     "varRefreshCmd": "cat(var_dic_list()) "
    }
   },
   "types_to_exclude": [
    "module",
    "function",
    "builtin_function_or_method",
    "instance",
    "_Feature"
   ],
   "window_display": false
  }
 },
 "nbformat": 4,
 "nbformat_minor": 5
}
