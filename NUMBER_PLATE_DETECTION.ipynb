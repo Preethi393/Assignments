{
 "cells": [
  {
   "cell_type": "code",
   "execution_count": 1,
   "id": "5e134005",
   "metadata": {},
   "outputs": [
    {
     "name": "stderr",
     "output_type": "stream",
     "text": [
      "2023-02-10 10:46:32.139227: I tensorflow/core/platform/cpu_feature_guard.cc:193] This TensorFlow binary is optimized with oneAPI Deep Neural Network Library (oneDNN) to use the following CPU instructions in performance-critical operations:  AVX2 FMA\n",
      "To enable them in other operations, rebuild TensorFlow with the appropriate compiler flags.\n",
      "2023-02-10 10:46:32.329573: W tensorflow/compiler/xla/stream_executor/platform/default/dso_loader.cc:64] Could not load dynamic library 'libcudart.so.11.0'; dlerror: libcudart.so.11.0: cannot open shared object file: No such file or directory\n",
      "2023-02-10 10:46:32.329596: I tensorflow/compiler/xla/stream_executor/cuda/cudart_stub.cc:29] Ignore above cudart dlerror if you do not have a GPU set up on your machine.\n",
      "2023-02-10 10:46:33.098987: W tensorflow/compiler/xla/stream_executor/platform/default/dso_loader.cc:64] Could not load dynamic library 'libnvinfer.so.7'; dlerror: libnvinfer.so.7: cannot open shared object file: No such file or directory\n",
      "2023-02-10 10:46:33.099075: W tensorflow/compiler/xla/stream_executor/platform/default/dso_loader.cc:64] Could not load dynamic library 'libnvinfer_plugin.so.7'; dlerror: libnvinfer_plugin.so.7: cannot open shared object file: No such file or directory\n",
      "2023-02-10 10:46:33.099082: W tensorflow/compiler/tf2tensorrt/utils/py_utils.cc:38] TF-TRT Warning: Cannot dlopen some TensorRT libraries. If you would like to use Nvidia GPU with TensorRT, please make sure the missing libraries mentioned above are installed properly.\n"
     ]
    }
   ],
   "source": [
    "#importing dependencies\n",
    "import warnings\n",
    "warnings.filterwarnings('ignore')\n",
    "import tensorflow "
   ]
  },
  {
   "cell_type": "code",
   "execution_count": 2,
   "id": "2dc42f8c",
   "metadata": {},
   "outputs": [],
   "source": [
    "from tensorflow.keras.preprocessing.image import ImageDataGenerator\n",
    "train_gen = ImageDataGenerator(rescale = 1./255)"
   ]
  },
  {
   "cell_type": "code",
   "execution_count": 3,
   "id": "f33f5a0d",
   "metadata": {},
   "outputs": [
    {
     "name": "stdout",
     "output_type": "stream",
     "text": [
      "Found 5440 images belonging to 36 classes.\n"
     ]
    }
   ],
   "source": [
    "# train dataset\n",
    "train_data = train_gen.flow_from_directory('/home/ubuntu/Downloads/sep_data_final/sep_data/train',target_size=(224,224),\n",
    "                                           batch_size=32,class_mode='categorical',shuffle=True)"
   ]
  },
  {
   "cell_type": "code",
   "execution_count": 4,
   "id": "56052648",
   "metadata": {},
   "outputs": [
    {
     "name": "stdout",
     "output_type": "stream",
     "text": [
      "Found 2050 images belonging to 36 classes.\n"
     ]
    }
   ],
   "source": [
    "#validation dataset\n",
    "val_data = train_gen.flow_from_directory('/home/ubuntu/Downloads/sep_data_final/sep_data/val',target_size=(224,224),\n",
    "                                         batch_size=32,class_mode='categorical',shuffle=False)"
   ]
  },
  {
   "cell_type": "code",
   "execution_count": 5,
   "id": "d63e5db4",
   "metadata": {},
   "outputs": [
    {
     "data": {
      "text/plain": [
       "{'class_0': 0,\n",
       " 'class_1': 1,\n",
       " 'class_2': 2,\n",
       " 'class_3': 3,\n",
       " 'class_4': 4,\n",
       " 'class_5': 5,\n",
       " 'class_6': 6,\n",
       " 'class_7': 7,\n",
       " 'class_8': 8,\n",
       " 'class_9': 9,\n",
       " 'class_A': 10,\n",
       " 'class_B': 11,\n",
       " 'class_C': 12,\n",
       " 'class_D': 13,\n",
       " 'class_E': 14,\n",
       " 'class_F': 15,\n",
       " 'class_G': 16,\n",
       " 'class_H': 17,\n",
       " 'class_I': 18,\n",
       " 'class_J': 19,\n",
       " 'class_K': 20,\n",
       " 'class_L': 21,\n",
       " 'class_M': 22,\n",
       " 'class_N': 23,\n",
       " 'class_O': 24,\n",
       " 'class_P': 25,\n",
       " 'class_Q': 26,\n",
       " 'class_R': 27,\n",
       " 'class_S': 28,\n",
       " 'class_T': 29,\n",
       " 'class_U': 30,\n",
       " 'class_V': 31,\n",
       " 'class_W': 32,\n",
       " 'class_X': 33,\n",
       " 'class_Y': 34,\n",
       " 'class_Z': 35}"
      ]
     },
     "execution_count": 5,
     "metadata": {},
     "output_type": "execute_result"
    }
   ],
   "source": [
    "#classes for train data\n",
    "train_data.class_indices"
   ]
  },
  {
   "cell_type": "code",
   "execution_count": 6,
   "id": "f2a32cf4",
   "metadata": {},
   "outputs": [
    {
     "data": {
      "text/plain": [
       "array([ 0,  0,  0, ..., 35, 35, 35], dtype=int32)"
      ]
     },
     "execution_count": 6,
     "metadata": {},
     "output_type": "execute_result"
    }
   ],
   "source": [
    "train_data.classes"
   ]
  },
  {
   "cell_type": "markdown",
   "id": "c9165936",
   "metadata": {},
   "source": [
    "# Model creation"
   ]
  },
  {
   "cell_type": "code",
   "execution_count": 7,
   "id": "e1a45185",
   "metadata": {},
   "outputs": [],
   "source": [
    "from tensorflow.keras.models import Sequential\n",
    "from tensorflow.keras.layers import Dense,Flatten,Dropout,BatchNormalization"
   ]
  },
  {
   "cell_type": "code",
   "execution_count": 8,
   "id": "1b116e62",
   "metadata": {},
   "outputs": [
    {
     "name": "stderr",
     "output_type": "stream",
     "text": [
      "2023-02-10 10:46:34.390767: W tensorflow/compiler/xla/stream_executor/platform/default/dso_loader.cc:64] Could not load dynamic library 'libcuda.so.1'; dlerror: libcuda.so.1: cannot open shared object file: No such file or directory\n",
      "2023-02-10 10:46:34.390809: W tensorflow/compiler/xla/stream_executor/cuda/cuda_driver.cc:265] failed call to cuInit: UNKNOWN ERROR (303)\n",
      "2023-02-10 10:46:34.390840: I tensorflow/compiler/xla/stream_executor/cuda/cuda_diagnostics.cc:156] kernel driver does not appear to be running on this host (ubuntu-Zako): /proc/driver/nvidia/version does not exist\n",
      "2023-02-10 10:46:34.391139: I tensorflow/core/platform/cpu_feature_guard.cc:193] This TensorFlow binary is optimized with oneAPI Deep Neural Network Library (oneDNN) to use the following CPU instructions in performance-critical operations:  AVX2 FMA\n",
      "To enable them in other operations, rebuild TensorFlow with the appropriate compiler flags.\n"
     ]
    }
   ],
   "source": [
    "res_net=tensorflow.keras.applications.ResNet50V2(weights=\"imagenet\",input_shape=(224,224,3),include_top=False)\n",
    "\n",
    "#freezimg weights and bias\n",
    "res_net.trainable=False"
   ]
  },
  {
   "cell_type": "code",
   "execution_count": 9,
   "id": "53b00718",
   "metadata": {},
   "outputs": [],
   "source": [
    "# build architecture\n",
    "model = Sequential()\n",
    "model.add(res_net)\n",
    "model.add(Flatten())\n",
    "model.add(Dense(units=128,activation='relu'))\n",
    "model.add(Dropout(0.20))\n",
    "model.add(Dense(units=64,activation = 'relu'))\n",
    "model.add(BatchNormalization())\n",
    "model.add(Dense(units=32,activation = 'relu'))\n",
    "model.add(Dropout(0.20))\n",
    "model.add(Dense(units = 36,activation='softmax'))"
   ]
  },
  {
   "cell_type": "code",
   "execution_count": 10,
   "id": "3f3f06b4",
   "metadata": {},
   "outputs": [
    {
     "name": "stdout",
     "output_type": "stream",
     "text": [
      "Model: \"sequential\"\n",
      "_________________________________________________________________\n",
      " Layer (type)                Output Shape              Param #   \n",
      "=================================================================\n",
      " resnet50v2 (Functional)     (None, 7, 7, 2048)        23564800  \n",
      "                                                                 \n",
      " flatten (Flatten)           (None, 100352)            0         \n",
      "                                                                 \n",
      " dense (Dense)               (None, 128)               12845184  \n",
      "                                                                 \n",
      " dropout (Dropout)           (None, 128)               0         \n",
      "                                                                 \n",
      " dense_1 (Dense)             (None, 64)                8256      \n",
      "                                                                 \n",
      " batch_normalization (BatchN  (None, 64)               256       \n",
      " ormalization)                                                   \n",
      "                                                                 \n",
      " dense_2 (Dense)             (None, 32)                2080      \n",
      "                                                                 \n",
      " dropout_1 (Dropout)         (None, 32)                0         \n",
      "                                                                 \n",
      " dense_3 (Dense)             (None, 36)                1188      \n",
      "                                                                 \n",
      "=================================================================\n",
      "Total params: 36,421,764\n",
      "Trainable params: 12,856,836\n",
      "Non-trainable params: 23,564,928\n",
      "_________________________________________________________________\n"
     ]
    }
   ],
   "source": [
    "model.summary()"
   ]
  },
  {
   "cell_type": "code",
   "execution_count": 11,
   "id": "f5e06bdf",
   "metadata": {},
   "outputs": [],
   "source": [
    "#compile the model\n",
    "model.compile(optimizer='adam',loss='categorical_crossentropy',metrics = ['accuracy'])"
   ]
  },
  {
   "cell_type": "code",
   "execution_count": 12,
   "id": "991e45de",
   "metadata": {},
   "outputs": [],
   "source": [
    "#import callback for avoid overfitting\n",
    "from tensorflow.keras.callbacks import EarlyStopping\n",
    "\n",
    "es=EarlyStopping(monitor=\"accuracy\",patience=3)"
   ]
  },
  {
   "cell_type": "code",
   "execution_count": 13,
   "id": "6cbb001c",
   "metadata": {},
   "outputs": [
    {
     "name": "stdout",
     "output_type": "stream",
     "text": [
      "Epoch 1/10\n",
      "170/170 [==============================] - 749s 4s/step - loss: 1.5934 - accuracy: 0.6202 - val_loss: 0.7498 - val_accuracy: 0.8322\n",
      "Epoch 2/10\n",
      "170/170 [==============================] - 714s 4s/step - loss: 0.5233 - accuracy: 0.8838 - val_loss: 0.2968 - val_accuracy: 0.9385\n",
      "Epoch 3/10\n",
      "170/170 [==============================] - 711s 4s/step - loss: 0.2422 - accuracy: 0.9445 - val_loss: 0.2507 - val_accuracy: 0.9395\n",
      "Epoch 4/10\n",
      "170/170 [==============================] - 708s 4s/step - loss: 0.1619 - accuracy: 0.9599 - val_loss: 0.2553 - val_accuracy: 0.9478\n",
      "Epoch 5/10\n",
      "170/170 [==============================] - 700s 4s/step - loss: 0.1261 - accuracy: 0.9699 - val_loss: 0.2600 - val_accuracy: 0.9463\n",
      "Epoch 6/10\n",
      "170/170 [==============================] - 701s 4s/step - loss: 0.0931 - accuracy: 0.9779 - val_loss: 0.2696 - val_accuracy: 0.9498\n",
      "Epoch 7/10\n",
      "170/170 [==============================] - 699s 4s/step - loss: 0.0681 - accuracy: 0.9849 - val_loss: 0.2466 - val_accuracy: 0.9537\n",
      "Epoch 8/10\n",
      "170/170 [==============================] - 701s 4s/step - loss: 0.0632 - accuracy: 0.9842 - val_loss: 0.3074 - val_accuracy: 0.9537\n",
      "Epoch 9/10\n",
      "170/170 [==============================] - 700s 4s/step - loss: 0.0685 - accuracy: 0.9829 - val_loss: 0.2616 - val_accuracy: 0.9561\n",
      "Epoch 10/10\n",
      "170/170 [==============================] - 700s 4s/step - loss: 0.0563 - accuracy: 0.9857 - val_loss: 0.2897 - val_accuracy: 0.9546\n"
     ]
    },
    {
     "data": {
      "text/plain": [
       "<keras.callbacks.History at 0x7fe724441250>"
      ]
     },
     "execution_count": 13,
     "metadata": {},
     "output_type": "execute_result"
    }
   ],
   "source": [
    "model.fit(train_data,validation_data = val_data,epochs=10,callbacks=[es])"
   ]
  },
  {
   "cell_type": "code",
   "execution_count": 14,
   "id": "5b0977bd",
   "metadata": {},
   "outputs": [],
   "source": [
    "#save the model\n",
    "model.save('model.h5')"
   ]
  },
  {
   "cell_type": "code",
   "execution_count": 15,
   "id": "11f03106",
   "metadata": {},
   "outputs": [],
   "source": [
    "from sklearn.metrics import classification_report,accuracy_score"
   ]
  },
  {
   "cell_type": "code",
   "execution_count": 16,
   "id": "8213fa02",
   "metadata": {},
   "outputs": [],
   "source": [
    "import numpy as np"
   ]
  },
  {
   "cell_type": "code",
   "execution_count": 17,
   "id": "7b694a8b",
   "metadata": {},
   "outputs": [
    {
     "name": "stdout",
     "output_type": "stream",
     "text": [
      "65/65 [==============================] - 187s 3s/step\n"
     ]
    },
    {
     "data": {
      "text/plain": [
       "array([[9.9998945e-01, 1.0014627e-08, 3.8453504e-13, 1.7795688e-15,\n",
       "        1.0432227e-09, 2.9610733e-10, 9.0528331e-12, 1.1510885e-11,\n",
       "        1.9487151e-08, 5.6381460e-09, 5.8196945e-09, 5.5015882e-08,\n",
       "        1.5148767e-07, 3.8654449e-07, 2.3587832e-07, 3.8070205e-10,\n",
       "        5.7217285e-08, 1.8151926e-09, 1.7832268e-13, 8.5653307e-12,\n",
       "        9.1084594e-13, 1.0386006e-13, 1.3523860e-09, 4.9522958e-10,\n",
       "        4.9568581e-07, 1.8354305e-07, 4.0326172e-06, 7.0125811e-10,\n",
       "        3.0580673e-12, 6.2245472e-13, 3.5854118e-06, 3.5054633e-08,\n",
       "        1.2904590e-06, 1.5155420e-10, 7.5414813e-12, 1.9438515e-12],\n",
       "       [9.8828101e-01, 2.1242563e-06, 6.2947253e-10, 1.1141658e-11,\n",
       "        3.1692011e-08, 1.5078568e-08, 9.7937825e-10, 6.6584761e-07,\n",
       "        3.2100315e-06, 7.2483943e-09, 1.5438275e-07, 9.7030279e-06,\n",
       "        2.4809589e-07, 2.4168221e-05, 4.2666688e-06, 2.1062512e-07,\n",
       "        6.6941915e-08, 1.7059700e-06, 2.7634235e-09, 7.8786302e-09,\n",
       "        1.2995458e-09, 4.3883286e-10, 7.1155605e-06, 4.7965401e-08,\n",
       "        2.6370762e-05, 2.6514591e-04, 8.0323798e-06, 1.2545955e-08,\n",
       "        9.6170329e-11, 3.5647783e-08, 1.1208964e-02, 2.3870165e-05,\n",
       "        1.3264814e-04, 7.7939184e-08, 5.0802740e-08, 1.0909891e-08]],\n",
       "      dtype=float32)"
      ]
     },
     "execution_count": 17,
     "metadata": {},
     "output_type": "execute_result"
    }
   ],
   "source": [
    "y_pred=model.predict(val_data)\n",
    "y_pred[0:2]"
   ]
  },
  {
   "cell_type": "code",
   "execution_count": 18,
   "id": "4e4a258e",
   "metadata": {},
   "outputs": [
    {
     "data": {
      "text/plain": [
       "array([ 0,  0,  0, ..., 35, 35, 35])"
      ]
     },
     "execution_count": 18,
     "metadata": {},
     "output_type": "execute_result"
    }
   ],
   "source": [
    "y_pred1=np.argmax(y_pred,axis=1)\n",
    "y_pred1"
   ]
  },
  {
   "cell_type": "code",
   "execution_count": 19,
   "id": "d0657068",
   "metadata": {},
   "outputs": [
    {
     "data": {
      "text/plain": [
       "array([ 0,  0,  0, ..., 35, 35, 35], dtype=int32)"
      ]
     },
     "execution_count": 19,
     "metadata": {},
     "output_type": "execute_result"
    }
   ],
   "source": [
    "val_data.classes"
   ]
  },
  {
   "cell_type": "code",
   "execution_count": 20,
   "id": "2c02e40e",
   "metadata": {},
   "outputs": [
    {
     "name": "stdout",
     "output_type": "stream",
     "text": [
      "              precision    recall  f1-score   support\n",
      "\n",
      "           0       0.89      0.95      0.92       144\n",
      "           1       0.90      0.95      0.92       102\n",
      "           2       0.99      0.96      0.97        78\n",
      "           3       0.99      1.00      0.99        75\n",
      "           4       0.96      0.96      0.96        78\n",
      "           5       0.99      0.94      0.96        78\n",
      "           6       0.94      0.98      0.96        61\n",
      "           7       0.96      0.95      0.95       112\n",
      "           8       0.95      0.93      0.94        95\n",
      "           9       0.97      0.99      0.98       103\n",
      "          10       0.92      0.94      0.93        47\n",
      "          11       0.84      0.89      0.86        35\n",
      "          12       1.00      0.96      0.98        53\n",
      "          13       0.93      0.82      0.87        33\n",
      "          14       0.96      1.00      0.98        54\n",
      "          15       1.00      0.98      0.99        53\n",
      "          16       1.00      0.97      0.99        34\n",
      "          17       0.97      0.92      0.94        36\n",
      "          18       1.00      1.00      1.00        24\n",
      "          19       1.00      1.00      1.00        37\n",
      "          20       0.97      0.92      0.94        36\n",
      "          21       0.96      0.96      0.96        25\n",
      "          22       0.88      1.00      0.94        30\n",
      "          23       1.00      0.84      0.91        38\n",
      "          24       1.00      0.75      0.86        32\n",
      "          25       0.86      1.00      0.92        37\n",
      "          26       1.00      1.00      1.00        25\n",
      "          27       1.00      0.97      0.98        33\n",
      "          28       0.96      0.96      0.96       112\n",
      "          29       0.98      0.99      0.99       128\n",
      "          30       0.92      0.92      0.92        84\n",
      "          31       1.00      1.00      1.00        25\n",
      "          32       0.97      1.00      0.98        28\n",
      "          33       0.96      0.96      0.96        27\n",
      "          34       1.00      0.93      0.96        29\n",
      "          35       1.00      1.00      1.00        29\n",
      "\n",
      "    accuracy                           0.95      2050\n",
      "   macro avg       0.96      0.95      0.96      2050\n",
      "weighted avg       0.96      0.95      0.95      2050\n",
      "\n"
     ]
    }
   ],
   "source": [
    "print(classification_report(val_data.classes,y_pred1))"
   ]
  },
  {
   "cell_type": "code",
   "execution_count": 21,
   "id": "b012e373",
   "metadata": {},
   "outputs": [
    {
     "data": {
      "text/plain": [
       "0.9546341463414634"
      ]
     },
     "execution_count": 21,
     "metadata": {},
     "output_type": "execute_result"
    }
   ],
   "source": [
    "accuracy_score(val_data.classes,y_pred1)"
   ]
  },
  {
   "cell_type": "code",
   "execution_count": 22,
   "id": "d3caf12d",
   "metadata": {},
   "outputs": [],
   "source": [
    "from tensorflow.keras.preprocessing.image import load_img,img_to_array\n",
    "import matplotlib.pyplot as plt\n",
    "import numpy as np"
   ]
  },
  {
   "cell_type": "code",
   "execution_count": 23,
   "id": "006424e0",
   "metadata": {},
   "outputs": [],
   "source": [
    "name=[0,1,2,3,4,5,6,7,8,9,'A','B','C','D','E','F','G','H','I','J','K','L','M','N','O','P','Q','R','S','T','U','V','W','X','Y','Z']"
   ]
  },
  {
   "cell_type": "code",
   "execution_count": 156,
   "id": "a3eb54c8",
   "metadata": {},
   "outputs": [
    {
     "data": {
      "text/plain": [
       "<matplotlib.image.AxesImage at 0x7fe70202a3d0>"
      ]
     },
     "execution_count": 156,
     "metadata": {},
     "output_type": "execute_result"
    },
    {
     "data": {
      "image/png": "[encoded data removed]",
      "text/plain": [
       "<Figure size 432x288 with 1 Axes>"
      ]
     },
     "metadata": {
      "needs_background": "light"
     },
     "output_type": "display_data"
    }
   ],
   "source": [
    "img=load_img('/home/ubuntu/Downloads/gen_data/char_165_669363_1674665246607_2.jpg',target_size=(224,224,3))\n",
    "plt.imshow(img)"
   ]
  },
  {
   "cell_type": "code",
   "execution_count": 157,
   "id": "f6d5e6dd",
   "metadata": {},
   "outputs": [],
   "source": [
    "img=img_to_array(img)\n",
    "img=np.expand_dims(img,axis=0)\n",
    "img=img/255"
   ]
  },
  {
   "cell_type": "code",
   "execution_count": 158,
   "id": "21710b81",
   "metadata": {},
   "outputs": [
    {
     "name": "stdout",
     "output_type": "stream",
     "text": [
      "1/1 [==============================] - 0s 147ms/step\n",
      "[[1.18637597e-02 7.17618270e-04 8.96259166e-07 3.75315062e-06\n",
      "  7.82645307e-04 1.07286442e-05 7.54562570e-05 1.16534604e-04\n",
      "  1.36528574e-02 9.03112086e-05 7.64855929e-03 1.66980140e-02\n",
      "  1.82621102e-06 8.45762959e-04 7.19865420e-06 4.57053357e-05\n",
      "  3.75155810e-06 4.02546395e-03 2.58032931e-04 4.90708975e-04\n",
      "  1.24812161e-03 4.68129292e-04 8.35347354e-01 2.07307306e-03\n",
      "  3.81200880e-05 4.65750694e-03 8.47857373e-05 4.85271739e-05\n",
      "  5.80591268e-06 1.42361922e-03 4.69942670e-03 9.91213135e-04\n",
      "  9.10749510e-02 5.76153543e-05 4.07565414e-04 3.46113884e-05]]\n"
     ]
    }
   ],
   "source": [
    "predict=model.predict(img)\n",
    "print(predict)"
   ]
  },
  {
   "cell_type": "code",
   "execution_count": 159,
   "id": "211b5861",
   "metadata": {},
   "outputs": [
    {
     "data": {
      "text/plain": [
       "array([[0.01, 0.  , 0.  , 0.  , 0.  , 0.  , 0.  , 0.  , 0.01, 0.  , 0.01,\n",
       "        0.02, 0.  , 0.  , 0.  , 0.  , 0.  , 0.  , 0.  , 0.  , 0.  , 0.  ,\n",
       "        0.84, 0.  , 0.  , 0.  , 0.  , 0.  , 0.  , 0.  , 0.  , 0.  , 0.09,\n",
       "        0.  , 0.  , 0.  ]], dtype=float32)"
      ]
     },
     "execution_count": 159,
     "metadata": {},
     "output_type": "execute_result"
    }
   ],
   "source": [
    "np.round(predict,2)"
   ]
  },
  {
   "cell_type": "code",
   "execution_count": 160,
   "id": "fbef66a4",
   "metadata": {},
   "outputs": [
    {
     "data": {
      "text/plain": [
       "22"
      ]
     },
     "execution_count": 160,
     "metadata": {},
     "output_type": "execute_result"
    }
   ],
   "source": [
    "np.argmax(predict)"
   ]
  },
  {
   "cell_type": "code",
   "execution_count": 161,
   "id": "974836fe",
   "metadata": {},
   "outputs": [
    {
     "data": {
      "text/plain": [
       "'M'"
      ]
     },
     "execution_count": 161,
     "metadata": {},
     "output_type": "execute_result"
    }
   ],
   "source": [
    "name[np.argmax(predict)]"
   ]
  },
  {
   "cell_type": "code",
   "execution_count": null,
   "id": "d947ff41",
   "metadata": {},
   "outputs": [],
   "source": []
  },
  {
   "cell_type": "code",
   "execution_count": null,
   "id": "d21c9aa8",
   "metadata": {},
   "outputs": [],
   "source": []
  }
 ],
 "metadata": {
  "kernelspec": {
   "display_name": "Python 3 (ipykernel)",
   "language": "python",
   "name": "python3"
  },
  "language_info": {
   "codemirror_mode": {
    "name": "ipython",
    "version": 3
   },
   "file_extension": ".py",
   "mimetype": "text/x-python",
   "name": "python",
   "nbconvert_exporter": "python",
   "pygments_lexer": "ipython3",
   "version": "3.10.6"
  },
  "varInspector": {
   "cols": {
    "lenName": 16,
    "lenType": 16,
    "lenVar": 40
   },
   "kernels_config": {
    "python": {
     "delete_cmd_postfix": "",
     "delete_cmd_prefix": "del ",
     "library": "var_list.py",
     "varRefreshCmd": "print(var_dic_list())"
    },
    "r": {
     "delete_cmd_postfix": ") ",
     "delete_cmd_prefix": "rm(",
     "library": "var_list.r",
     "varRefreshCmd": "cat(var_dic_list()) "
    }
   },
   "types_to_exclude": [
    "module",
    "function",
    "builtin_function_or_method",
    "instance",
    "_Feature"
   ],
   "window_display": false
  }
 },
 "nbformat": 4,
 "nbformat_minor": 5
}
