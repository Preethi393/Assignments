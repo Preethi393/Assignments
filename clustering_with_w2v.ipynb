{
 "cells": [
  {
   "cell_type": "code",
   "execution_count": 1,
   "metadata": {
    "ExecuteTime": {
     "end_time": "2022-12-03T09:10:22.828381Z",
     "start_time": "2022-12-03T09:10:21.883601Z"
    }
   },
   "outputs": [],
   "source": [
    "import re\n",
    "import nltk\n",
    "import string\n",
    "import numpy as np\n",
    "import pandas as pd\n",
    "\n",
    "from typing import List, Dict\n",
    "from nltk import word_tokenize\n",
    "from nltk.corpus import stopwords\n",
    "from gensim.models import Word2Vec\n",
    "from sklearn.cluster import KMeans"
   ]
  },
  {
   "cell_type": "code",
   "execution_count": 2,
   "metadata": {
    "ExecuteTime": {
     "end_time": "2022-12-03T09:10:22.837732Z",
     "start_time": "2022-12-03T09:10:22.831504Z"
    }
   },
   "outputs": [],
   "source": [
    "stop_words = set(stopwords.words(\"english\"))"
   ]
  },
  {
   "cell_type": "code",
   "execution_count": 3,
   "metadata": {
    "ExecuteTime": {
     "end_time": "2022-12-03T09:10:22.848537Z",
     "start_time": "2022-12-03T09:10:22.841601Z"
    }
   },
   "outputs": [],
   "source": [
    "def preprocess_text(text: str) -> List[str]:\n",
    "    text = text.lower()\n",
    "    text = re.sub(\n",
    "        f\"[{re.escape(string.punctuation)}]\", \"\", text\n",
    "    )\n",
    "    text_tokens = word_tokenize(text)\n",
    "    text_without_stopwords = [word for word in text_tokens if word not in stop_words]\n",
    "    return text_without_stopwords"
   ]
  },
  {
   "cell_type": "code",
   "execution_count": 4,
   "metadata": {
    "ExecuteTime": {
     "end_time": "2022-12-03T09:10:22.870193Z",
     "start_time": "2022-12-03T09:10:22.852073Z"
    }
   },
   "outputs": [
    {
     "data": {
      "text/plain": [
       "['hi', 'test', 'text']"
      ]
     },
     "execution_count": 4,
     "metadata": {},
     "output_type": "execute_result"
    }
   ],
   "source": [
    "preprocess_text(\"Hi there, this is a test text !!!\")"
   ]
  },
  {
   "cell_type": "code",
   "execution_count": 5,
   "metadata": {
    "ExecuteTime": {
     "end_time": "2022-12-03T09:10:22.884472Z",
     "start_time": "2022-12-03T09:10:22.872062Z"
    }
   },
   "outputs": [
    {
     "data": {
      "text/html": [
       "<div>\n",
       "<style scoped>\n",
       "    .dataframe tbody tr th:only-of-type {\n",
       "        vertical-align: middle;\n",
       "    }\n",
       "\n",
       "    .dataframe tbody tr th {\n",
       "        vertical-align: top;\n",
       "    }\n",
       "\n",
       "    .dataframe thead th {\n",
       "        text-align: right;\n",
       "    }\n",
       "</style>\n",
       "<table border=\"1\" class=\"dataframe\">\n",
       "  <thead>\n",
       "    <tr style=\"text-align: right;\">\n",
       "      <th></th>\n",
       "      <th>texts</th>\n",
       "    </tr>\n",
       "  </thead>\n",
       "  <tbody>\n",
       "    <tr>\n",
       "      <th>0</th>\n",
       "      <td>Ransomware attack at Mexico's Pemex halts work...</td>\n",
       "    </tr>\n",
       "    <tr>\n",
       "      <th>1</th>\n",
       "      <td>#city | #ransomware | Ransomware Attack At Mex...</td>\n",
       "    </tr>\n",
       "    <tr>\n",
       "      <th>2</th>\n",
       "      <td>Mexico's Pemex Oil Suffers Ransomware Attack, ...</td>\n",
       "    </tr>\n",
       "    <tr>\n",
       "      <th>3</th>\n",
       "      <td>A Mexican oil company was hit by ransomware at...</td>\n",
       "    </tr>\n",
       "    <tr>\n",
       "      <th>4</th>\n",
       "      <td>Pemex Struck by Ransomware Attack\\n</td>\n",
       "    </tr>\n",
       "  </tbody>\n",
       "</table>\n",
       "</div>"
      ],
      "text/plain": [
       "                                               texts\n",
       "0  Ransomware attack at Mexico's Pemex halts work...\n",
       "1  #city | #ransomware | Ransomware Attack At Mex...\n",
       "2  Mexico's Pemex Oil Suffers Ransomware Attack, ...\n",
       "3  A Mexican oil company was hit by ransomware at...\n",
       "4                Pemex Struck by Ransomware Attack\\n"
      ]
     },
     "execution_count": 5,
     "metadata": {},
     "output_type": "execute_result"
    }
   ],
   "source": [
    "texts_filepath = \"text_to_cluster.txt\"\n",
    "\n",
    "with open(texts_filepath) as infile:\n",
    "    data = infile.readlines()\n",
    "    \n",
    "texts_df = pd.DataFrame(data={\"texts\": data}, columns=[\"texts\"])\n",
    "texts_df.head()"
   ]
  },
  {
   "cell_type": "code",
   "execution_count": 6,
   "metadata": {
    "ExecuteTime": {
     "end_time": "2022-12-03T09:10:22.980694Z",
     "start_time": "2022-12-03T09:10:22.887257Z"
    }
   },
   "outputs": [
    {
     "data": {
      "text/html": [
       "<div>\n",
       "<style scoped>\n",
       "    .dataframe tbody tr th:only-of-type {\n",
       "        vertical-align: middle;\n",
       "    }\n",
       "\n",
       "    .dataframe tbody tr th {\n",
       "        vertical-align: top;\n",
       "    }\n",
       "\n",
       "    .dataframe thead th {\n",
       "        text-align: right;\n",
       "    }\n",
       "</style>\n",
       "<table border=\"1\" class=\"dataframe\">\n",
       "  <thead>\n",
       "    <tr style=\"text-align: right;\">\n",
       "      <th></th>\n",
       "      <th>texts</th>\n",
       "      <th>cleaned_text</th>\n",
       "    </tr>\n",
       "  </thead>\n",
       "  <tbody>\n",
       "    <tr>\n",
       "      <th>0</th>\n",
       "      <td>Ransomware attack at Mexico's Pemex halts work...</td>\n",
       "      <td>[ransomware, attack, mexicos, pemex, halts, wo...</td>\n",
       "    </tr>\n",
       "    <tr>\n",
       "      <th>1</th>\n",
       "      <td>#city | #ransomware | Ransomware Attack At Mex...</td>\n",
       "      <td>[city, ransomware, ransomware, attack, mexico,...</td>\n",
       "    </tr>\n",
       "    <tr>\n",
       "      <th>2</th>\n",
       "      <td>Mexico's Pemex Oil Suffers Ransomware Attack, ...</td>\n",
       "      <td>[mexicos, pemex, oil, suffers, ransomware, att...</td>\n",
       "    </tr>\n",
       "    <tr>\n",
       "      <th>3</th>\n",
       "      <td>A Mexican oil company was hit by ransomware at...</td>\n",
       "      <td>[mexican, oil, company, hit, ransomware, attack]</td>\n",
       "    </tr>\n",
       "    <tr>\n",
       "      <th>4</th>\n",
       "      <td>Pemex Struck by Ransomware Attack\\n</td>\n",
       "      <td>[pemex, struck, ransomware, attack]</td>\n",
       "    </tr>\n",
       "  </tbody>\n",
       "</table>\n",
       "</div>"
      ],
      "text/plain": [
       "                                               texts  \\\n",
       "0  Ransomware attack at Mexico's Pemex halts work...   \n",
       "1  #city | #ransomware | Ransomware Attack At Mex...   \n",
       "2  Mexico's Pemex Oil Suffers Ransomware Attack, ...   \n",
       "3  A Mexican oil company was hit by ransomware at...   \n",
       "4                Pemex Struck by Ransomware Attack\\n   \n",
       "\n",
       "                                        cleaned_text  \n",
       "0  [ransomware, attack, mexicos, pemex, halts, wo...  \n",
       "1  [city, ransomware, ransomware, attack, mexico,...  \n",
       "2  [mexicos, pemex, oil, suffers, ransomware, att...  \n",
       "3   [mexican, oil, company, hit, ransomware, attack]  \n",
       "4                [pemex, struck, ransomware, attack]  "
      ]
     },
     "execution_count": 6,
     "metadata": {},
     "output_type": "execute_result"
    }
   ],
   "source": [
    "texts_df[\"cleaned_text\"] = texts_df[\"texts\"].apply(lambda x: preprocess_text(x))\n",
    "texts_df.head()"
   ]
  },
  {
   "cell_type": "code",
   "execution_count": 7,
   "metadata": {
    "ExecuteTime": {
     "end_time": "2022-12-03T09:10:22.989175Z",
     "start_time": "2022-12-03T09:10:22.982897Z"
    }
   },
   "outputs": [
    {
     "data": {
      "text/plain": [
       "['ransomware',\n",
       " 'attack',\n",
       " 'mexicos',\n",
       " 'pemex',\n",
       " 'halts',\n",
       " 'work',\n",
       " 'threatens',\n",
       " 'cripple',\n",
       " 'computers']"
      ]
     },
     "execution_count": 7,
     "metadata": {},
     "output_type": "execute_result"
    }
   ],
   "source": [
    "cleaned_text_tokens = texts_df[\"cleaned_text\"].values.tolist()\n",
    "cleaned_text_tokens[0]"
   ]
  },
  {
   "cell_type": "code",
   "execution_count": 8,
   "metadata": {
    "ExecuteTime": {
     "end_time": "2022-12-03T09:10:23.031472Z",
     "start_time": "2022-12-03T09:10:22.991930Z"
    }
   },
   "outputs": [],
   "source": [
    "w2v_model = Word2Vec(sentences=cleaned_text_tokens, vector_size=100, workers=2)"
   ]
  },
  {
   "cell_type": "code",
   "execution_count": 17,
   "metadata": {
    "ExecuteTime": {
     "end_time": "2022-12-03T09:10:59.258680Z",
     "start_time": "2022-12-03T09:10:59.250332Z"
    }
   },
   "outputs": [
    {
     "data": {
      "text/plain": [
       "list"
      ]
     },
     "execution_count": 17,
     "metadata": {},
     "output_type": "execute_result"
    }
   ],
   "source": [
    "type(w2v_model.wv.most_similar(\"ransomware\"))"
   ]
  },
  {
   "cell_type": "code",
   "execution_count": 23,
   "metadata": {
    "ExecuteTime": {
     "end_time": "2022-12-03T09:20:30.800092Z",
     "start_time": "2022-12-03T09:20:30.794369Z"
    }
   },
   "outputs": [],
   "source": [
    "def create_vectors(docs: List[List[str]]) -> List[List[float]]:\n",
    "    all_vectors = []\n",
    "\n",
    "    for text_tokens in docs:\n",
    "        zero_vector = np.zeros(w2v_model.vector_size)\n",
    "        vectors = []\n",
    "        for token in text_tokens:\n",
    "            if token in w2v_model.wv:\n",
    "                try:\n",
    "                    vectors.append(w2v_model.wv[token])\n",
    "                except KeyError:\n",
    "                    continue\n",
    "        if vectors:\n",
    "            vectors = np.asarray(vectors)\n",
    "            avg_vector = vectors.mean(axis=0)\n",
    "            all_vectors.append(avg_vector)\n",
    "        else:\n",
    "            all_vectors.append(zero_vector)\n",
    "    return all_vectors"
   ]
  },
  {
   "cell_type": "code",
   "execution_count": 11,
   "metadata": {
    "ExecuteTime": {
     "end_time": "2022-12-03T09:10:23.118590Z",
     "start_time": "2022-12-03T09:10:23.069037Z"
    }
   },
   "outputs": [],
   "source": [
    "all_text_vectors = create_vectors(cleaned_text_tokens)"
   ]
  },
  {
   "cell_type": "code",
   "execution_count": 20,
   "metadata": {
    "ExecuteTime": {
     "end_time": "2022-12-03T09:17:18.924223Z",
     "start_time": "2022-12-03T09:17:18.906600Z"
    }
   },
   "outputs": [
    {
     "data": {
      "text/plain": [
       "1"
      ]
     },
     "execution_count": 20,
     "metadata": {},
     "output_type": "execute_result"
    }
   ],
   "source": [
    "all_text_vectors[0].ndim"
   ]
  },
  {
   "cell_type": "code",
   "execution_count": 13,
   "metadata": {
    "ExecuteTime": {
     "end_time": "2022-12-03T09:10:23.142270Z",
     "start_time": "2022-12-03T09:10:23.132558Z"
    }
   },
   "outputs": [
    {
     "data": {
      "text/plain": [
       "100"
      ]
     },
     "execution_count": 13,
     "metadata": {},
     "output_type": "execute_result"
    }
   ],
   "source": [
    "len(all_text_vectors[0])"
   ]
  },
  {
   "cell_type": "code",
   "execution_count": 14,
   "metadata": {
    "ExecuteTime": {
     "end_time": "2022-12-03T09:10:24.363102Z",
     "start_time": "2022-12-03T09:10:23.149786Z"
    }
   },
   "outputs": [],
   "source": [
    "kmeans_model = KMeans(n_clusters=6).fit(all_text_vectors)"
   ]
  },
  {
   "cell_type": "code",
   "execution_count": 15,
   "metadata": {
    "ExecuteTime": {
     "end_time": "2022-12-03T09:10:24.372034Z",
     "start_time": "2022-12-03T09:10:24.368245Z"
    }
   },
   "outputs": [],
   "source": [
    "texts_df[\"cluster_label\"] = kmeans_model.labels_"
   ]
  },
  {
   "cell_type": "code",
   "execution_count": 21,
   "metadata": {
    "ExecuteTime": {
     "end_time": "2022-12-03T09:18:15.612440Z",
     "start_time": "2022-12-03T09:18:15.600429Z"
    }
   },
   "outputs": [
    {
     "data": {
      "text/html": [
       "<div>\n",
       "<style scoped>\n",
       "    .dataframe tbody tr th:only-of-type {\n",
       "        vertical-align: middle;\n",
       "    }\n",
       "\n",
       "    .dataframe tbody tr th {\n",
       "        vertical-align: top;\n",
       "    }\n",
       "\n",
       "    .dataframe thead th {\n",
       "        text-align: right;\n",
       "    }\n",
       "</style>\n",
       "<table border=\"1\" class=\"dataframe\">\n",
       "  <thead>\n",
       "    <tr style=\"text-align: right;\">\n",
       "      <th></th>\n",
       "      <th>texts</th>\n",
       "      <th>cleaned_text</th>\n",
       "      <th>cluster_label</th>\n",
       "    </tr>\n",
       "  </thead>\n",
       "  <tbody>\n",
       "    <tr>\n",
       "      <th>0</th>\n",
       "      <td>Ransomware attack at Mexico's Pemex halts work...</td>\n",
       "      <td>[ransomware, attack, mexicos, pemex, halts, wo...</td>\n",
       "      <td>1</td>\n",
       "    </tr>\n",
       "    <tr>\n",
       "      <th>1</th>\n",
       "      <td>#city | #ransomware | Ransomware Attack At Mex...</td>\n",
       "      <td>[city, ransomware, ransomware, attack, mexico,...</td>\n",
       "      <td>1</td>\n",
       "    </tr>\n",
       "    <tr>\n",
       "      <th>2</th>\n",
       "      <td>Mexico's Pemex Oil Suffers Ransomware Attack, ...</td>\n",
       "      <td>[mexicos, pemex, oil, suffers, ransomware, att...</td>\n",
       "      <td>1</td>\n",
       "    </tr>\n",
       "    <tr>\n",
       "      <th>3</th>\n",
       "      <td>A Mexican oil company was hit by ransomware at...</td>\n",
       "      <td>[mexican, oil, company, hit, ransomware, attack]</td>\n",
       "      <td>1</td>\n",
       "    </tr>\n",
       "    <tr>\n",
       "      <th>4</th>\n",
       "      <td>Pemex Struck by Ransomware Attack\\n</td>\n",
       "      <td>[pemex, struck, ransomware, attack]</td>\n",
       "      <td>3</td>\n",
       "    </tr>\n",
       "    <tr>\n",
       "      <th>...</th>\n",
       "      <td>...</td>\n",
       "      <td>...</td>\n",
       "      <td>...</td>\n",
       "    </tr>\n",
       "    <tr>\n",
       "      <th>679</th>\n",
       "      <td>Detecting and Responding to Ransomware\\n</td>\n",
       "      <td>[detecting, responding, ransomware]</td>\n",
       "      <td>3</td>\n",
       "    </tr>\n",
       "    <tr>\n",
       "      <th>680</th>\n",
       "      <td>Emotet malware is back, more dangerous than ev...</td>\n",
       "      <td>[emotet, malware, back, dangerous, ever]</td>\n",
       "      <td>5</td>\n",
       "    </tr>\n",
       "    <tr>\n",
       "      <th>681</th>\n",
       "      <td>Hosting provider SmarterASP.NET hit by ransomw...</td>\n",
       "      <td>[hosting, provider, smarteraspnet, hit, ransom...</td>\n",
       "      <td>1</td>\n",
       "    </tr>\n",
       "    <tr>\n",
       "      <th>682</th>\n",
       "      <td>Ransomware as a Service (RaaS) – A Contemporar...</td>\n",
       "      <td>[ransomware, service, raas, –, contemporary, m...</td>\n",
       "      <td>1</td>\n",
       "    </tr>\n",
       "    <tr>\n",
       "      <th>683</th>\n",
       "      <td>Ransomware as a Service (RaaS) – A Contemporar...</td>\n",
       "      <td>[ransomware, service, raas, –, contemporary, m...</td>\n",
       "      <td>1</td>\n",
       "    </tr>\n",
       "  </tbody>\n",
       "</table>\n",
       "<p>684 rows × 3 columns</p>\n",
       "</div>"
      ],
      "text/plain": [
       "                                                 texts  \\\n",
       "0    Ransomware attack at Mexico's Pemex halts work...   \n",
       "1    #city | #ransomware | Ransomware Attack At Mex...   \n",
       "2    Mexico's Pemex Oil Suffers Ransomware Attack, ...   \n",
       "3    A Mexican oil company was hit by ransomware at...   \n",
       "4                  Pemex Struck by Ransomware Attack\\n   \n",
       "..                                                 ...   \n",
       "679           Detecting and Responding to Ransomware\\n   \n",
       "680  Emotet malware is back, more dangerous than ev...   \n",
       "681  Hosting provider SmarterASP.NET hit by ransomw...   \n",
       "682  Ransomware as a Service (RaaS) – A Contemporar...   \n",
       "683  Ransomware as a Service (RaaS) – A Contemporar...   \n",
       "\n",
       "                                          cleaned_text  cluster_label  \n",
       "0    [ransomware, attack, mexicos, pemex, halts, wo...              1  \n",
       "1    [city, ransomware, ransomware, attack, mexico,...              1  \n",
       "2    [mexicos, pemex, oil, suffers, ransomware, att...              1  \n",
       "3     [mexican, oil, company, hit, ransomware, attack]              1  \n",
       "4                  [pemex, struck, ransomware, attack]              3  \n",
       "..                                                 ...            ...  \n",
       "679                [detecting, responding, ransomware]              3  \n",
       "680           [emotet, malware, back, dangerous, ever]              5  \n",
       "681  [hosting, provider, smarteraspnet, hit, ransom...              1  \n",
       "682  [ransomware, service, raas, –, contemporary, m...              1  \n",
       "683  [ransomware, service, raas, –, contemporary, m...              1  \n",
       "\n",
       "[684 rows x 3 columns]"
      ]
     },
     "execution_count": 21,
     "metadata": {},
     "output_type": "execute_result"
    }
   ],
   "source": [
    "texts_df"
   ]
  },
  {
   "cell_type": "code",
   "execution_count": 16,
   "metadata": {
    "ExecuteTime": {
     "end_time": "2022-12-03T09:10:24.386186Z",
     "start_time": "2022-12-03T09:10:24.374203Z"
    }
   },
   "outputs": [
    {
     "data": {
      "text/html": [
       "<div>\n",
       "<style scoped>\n",
       "    .dataframe tbody tr th:only-of-type {\n",
       "        vertical-align: middle;\n",
       "    }\n",
       "\n",
       "    .dataframe tbody tr th {\n",
       "        vertical-align: top;\n",
       "    }\n",
       "\n",
       "    .dataframe thead th {\n",
       "        text-align: right;\n",
       "    }\n",
       "</style>\n",
       "<table border=\"1\" class=\"dataframe\">\n",
       "  <thead>\n",
       "    <tr style=\"text-align: right;\">\n",
       "      <th></th>\n",
       "      <th>texts</th>\n",
       "      <th>cleaned_text</th>\n",
       "      <th>cluster_label</th>\n",
       "    </tr>\n",
       "  </thead>\n",
       "  <tbody>\n",
       "    <tr>\n",
       "      <th>0</th>\n",
       "      <td>Ransomware attack at Mexico's Pemex halts work...</td>\n",
       "      <td>[ransomware, attack, mexicos, pemex, halts, wo...</td>\n",
       "      <td>1</td>\n",
       "    </tr>\n",
       "    <tr>\n",
       "      <th>1</th>\n",
       "      <td>#city | #ransomware | Ransomware Attack At Mex...</td>\n",
       "      <td>[city, ransomware, ransomware, attack, mexico,...</td>\n",
       "      <td>1</td>\n",
       "    </tr>\n",
       "    <tr>\n",
       "      <th>2</th>\n",
       "      <td>Mexico's Pemex Oil Suffers Ransomware Attack, ...</td>\n",
       "      <td>[mexicos, pemex, oil, suffers, ransomware, att...</td>\n",
       "      <td>1</td>\n",
       "    </tr>\n",
       "    <tr>\n",
       "      <th>3</th>\n",
       "      <td>A Mexican oil company was hit by ransomware at...</td>\n",
       "      <td>[mexican, oil, company, hit, ransomware, attack]</td>\n",
       "      <td>1</td>\n",
       "    </tr>\n",
       "    <tr>\n",
       "      <th>4</th>\n",
       "      <td>Pemex Struck by Ransomware Attack\\n</td>\n",
       "      <td>[pemex, struck, ransomware, attack]</td>\n",
       "      <td>3</td>\n",
       "    </tr>\n",
       "  </tbody>\n",
       "</table>\n",
       "</div>"
      ],
      "text/plain": [
       "                                               texts  \\\n",
       "0  Ransomware attack at Mexico's Pemex halts work...   \n",
       "1  #city | #ransomware | Ransomware Attack At Mex...   \n",
       "2  Mexico's Pemex Oil Suffers Ransomware Attack, ...   \n",
       "3  A Mexican oil company was hit by ransomware at...   \n",
       "4                Pemex Struck by Ransomware Attack\\n   \n",
       "\n",
       "                                        cleaned_text  cluster_label  \n",
       "0  [ransomware, attack, mexicos, pemex, halts, wo...              1  \n",
       "1  [city, ransomware, ransomware, attack, mexico,...              1  \n",
       "2  [mexicos, pemex, oil, suffers, ransomware, att...              1  \n",
       "3   [mexican, oil, company, hit, ransomware, attack]              1  \n",
       "4                [pemex, struck, ransomware, attack]              3  "
      ]
     },
     "execution_count": 16,
     "metadata": {},
     "output_type": "execute_result"
    }
   ],
   "source": [
    "texts_df.head()"
   ]
  },
  {
   "cell_type": "code",
   "execution_count": null,
   "metadata": {},
   "outputs": [],
   "source": []
  }
 ],
 "metadata": {
  "kernelspec": {
   "display_name": "Python 3 (ipykernel)",
   "language": "python",
   "name": "python3"
  },
  "language_info": {
   "codemirror_mode": {
    "name": "ipython",
    "version": 3
   },
   "file_extension": ".py",
   "mimetype": "text/x-python",
   "name": "python",
   "nbconvert_exporter": "python",
   "pygments_lexer": "ipython3",
   "version": "3.10.6"
  },
  "varInspector": {
   "cols": {
    "lenName": 16,
    "lenType": 16,
    "lenVar": 40
   },
   "kernels_config": {
    "python": {
     "delete_cmd_postfix": "",
     "delete_cmd_prefix": "del ",
     "library": "var_list.py",
     "varRefreshCmd": "print(var_dic_list())"
    },
    "r": {
     "delete_cmd_postfix": ") ",
     "delete_cmd_prefix": "rm(",
     "library": "var_list.r",
     "varRefreshCmd": "cat(var_dic_list()) "
    }
   },
   "types_to_exclude": [
    "module",
    "function",
    "builtin_function_or_method",
    "instance",
    "_Feature"
   ],
   "window_display": false
  }
 },
 "nbformat": 4,
 "nbformat_minor": 4
}
