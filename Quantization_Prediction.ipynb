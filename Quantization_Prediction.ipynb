{
 "cells": [
  {
   "cell_type": "code",
   "execution_count": 7,
   "id": "2ca4ed07",
   "metadata": {
    "ExecuteTime": {
     "end_time": "2022-12-13T09:51:41.836856Z",
     "start_time": "2022-12-13T09:51:41.833449Z"
    }
   },
   "outputs": [],
   "source": [
    "import warnings\n",
    "warnings.filterwarnings('ignore')\n",
    "import tensorflow as tf\n",
    "from tensorflow.keras.preprocessing.image import load_img,img_to_array\n",
    "import matplotlib.pyplot as plt\n",
    "import numpy as np"
   ]
  },
  {
   "cell_type": "code",
   "execution_count": 8,
   "id": "d71c7d11",
   "metadata": {
    "ExecuteTime": {
     "end_time": "2022-12-13T09:51:44.916831Z",
     "start_time": "2022-12-13T09:51:44.881521Z"
    }
   },
   "outputs": [],
   "source": [
    "# Load TFLite model and allocate tensors.\n",
    "interpreter = tf.lite.Interpreter('converted_model.tflite')\n",
    "interpreter.allocate_tensors()"
   ]
  },
  {
   "cell_type": "code",
   "execution_count": 3,
   "id": "0f78c206",
   "metadata": {
    "ExecuteTime": {
     "end_time": "2022-12-13T09:50:50.618415Z",
     "start_time": "2022-12-13T09:50:50.604514Z"
    }
   },
   "outputs": [
    {
     "data": {
      "text/plain": [
       "[{'name': 'serving_default_mobilenetv2_1.00_224_input:0',\n",
       "  'index': 0,\n",
       "  'shape': array([  1, 224, 224,   3], dtype=int32),\n",
       "  'shape_signature': array([ -1, 224, 224,   3], dtype=int32),\n",
       "  'dtype': numpy.float32,\n",
       "  'quantization': (0.0, 0),\n",
       "  'quantization_parameters': {'scales': array([], dtype=float32),\n",
       "   'zero_points': array([], dtype=int32),\n",
       "   'quantized_dimension': 0},\n",
       "  'sparsity_parameters': {}}]"
      ]
     },
     "execution_count": 3,
     "metadata": {},
     "output_type": "execute_result"
    }
   ],
   "source": [
    "# Get input and output tensors.\n",
    "input_details = interpreter.get_input_details()\n",
    "input_details"
   ]
  },
  {
   "cell_type": "code",
   "execution_count": 4,
   "id": "b197b8f1",
   "metadata": {
    "ExecuteTime": {
     "end_time": "2022-12-13T09:50:50.628325Z",
     "start_time": "2022-12-13T09:50:50.621279Z"
    }
   },
   "outputs": [
    {
     "data": {
      "text/plain": [
       "[{'name': 'StatefulPartitionedCall:0',\n",
       "  'index': 186,\n",
       "  'shape': array([1, 9], dtype=int32),\n",
       "  'shape_signature': array([-1,  9], dtype=int32),\n",
       "  'dtype': numpy.float32,\n",
       "  'quantization': (0.0, 0),\n",
       "  'quantization_parameters': {'scales': array([], dtype=float32),\n",
       "   'zero_points': array([], dtype=int32),\n",
       "   'quantized_dimension': 0},\n",
       "  'sparsity_parameters': {}}]"
      ]
     },
     "execution_count": 4,
     "metadata": {},
     "output_type": "execute_result"
    }
   ],
   "source": [
    "output_details = interpreter.get_output_details()\n",
    "output_details"
   ]
  },
  {
   "cell_type": "code",
   "execution_count": 5,
   "id": "d1f2fd0d",
   "metadata": {
    "ExecuteTime": {
     "end_time": "2022-12-13T09:50:50.638922Z",
     "start_time": "2022-12-13T09:50:50.631369Z"
    }
   },
   "outputs": [],
   "source": [
    "def quantize_pred(path):\n",
    "    img = load_img(path,target_size=(224,224,3))\n",
    "\n",
    "    #preprocess image\n",
    "    img = img_to_array(img)\n",
    "    img = img/255\n",
    "\n",
    "    class_names = ['Arun','Chaitanya','Lakshmi','Naveen','Papu','Preethi','Rahul','Sangram','Sanket']\n",
    "\n",
    "    interpreter.set_tensor(input_details[0]['index'],[img])\n",
    "    interpreter.invoke()\n",
    "    output_data = interpreter.get_tensor(output_details[0]['index'])\n",
    "    confidence = np.max(output_data)\n",
    "    index = np.argmax(output_data)\n",
    "    if confidence>=0.8:\n",
    "        name = class_names[index]\n",
    "    else:\n",
    "        name =  'Match not found'\n",
    "        \n",
    "    return name,confidence"
   ]
  },
  {
   "cell_type": "code",
   "execution_count": 6,
   "id": "6097b35c",
   "metadata": {
    "ExecuteTime": {
     "end_time": "2022-12-13T09:50:50.690485Z",
     "start_time": "2022-12-13T09:50:50.642031Z"
    }
   },
   "outputs": [
    {
     "data": {
      "text/plain": [
       "('Arun', 0.99999976)"
      ]
     },
     "execution_count": 6,
     "metadata": {},
     "output_type": "execute_result"
    }
   ],
   "source": [
    "quantize_pred(\"/home/ubuntu/Desktop/face_recog/Test/arun1.jpg\")"
   ]
  },
  {
   "cell_type": "code",
   "execution_count": null,
   "id": "69895222",
   "metadata": {},
   "outputs": [],
   "source": []
  }
 ],
 "metadata": {
  "kernelspec": {
   "display_name": "Python 3 (ipykernel)",
   "language": "python",
   "name": "python3"
  },
  "language_info": {
   "codemirror_mode": {
    "name": "ipython",
    "version": 3
   },
   "file_extension": ".py",
   "mimetype": "text/x-python",
   "name": "python",
   "nbconvert_exporter": "python",
   "pygments_lexer": "ipython3",
   "version": "3.10.6"
  },
  "varInspector": {
   "cols": {
    "lenName": 16,
    "lenType": 16,
    "lenVar": 40
   },
   "kernels_config": {
    "python": {
     "delete_cmd_postfix": "",
     "delete_cmd_prefix": "del ",
     "library": "var_list.py",
     "varRefreshCmd": "print(var_dic_list())"
    },
    "r": {
     "delete_cmd_postfix": ") ",
     "delete_cmd_prefix": "rm(",
     "library": "var_list.r",
     "varRefreshCmd": "cat(var_dic_list()) "
    }
   },
   "types_to_exclude": [
    "module",
    "function",
    "builtin_function_or_method",
    "instance",
    "_Feature"
   ],
   "window_display": false
  }
 },
 "nbformat": 4,
 "nbformat_minor": 5
}
