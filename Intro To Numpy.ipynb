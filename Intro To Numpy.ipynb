{
 "cells": [
  {
   "cell_type": "code",
   "execution_count": 1,
   "id": "cb15d66a",
   "metadata": {
    "ExecuteTime": {
     "end_time": "2023-07-20T09:58:02.699680Z",
     "start_time": "2023-07-20T09:58:02.519052Z"
    }
   },
   "outputs": [],
   "source": [
    "import numpy as np"
   ]
  },
  {
   "cell_type": "code",
   "execution_count": 2,
   "id": "27b6d361",
   "metadata": {
    "ExecuteTime": {
     "end_time": "2023-07-20T09:58:02.706453Z",
     "start_time": "2023-07-20T09:58:02.703528Z"
    }
   },
   "outputs": [],
   "source": [
    "lst1 = list(range(1,11))"
   ]
  },
  {
   "cell_type": "code",
   "execution_count": 3,
   "id": "ec18e1d1",
   "metadata": {
    "ExecuteTime": {
     "end_time": "2023-07-20T09:58:02.720384Z",
     "start_time": "2023-07-20T09:58:02.708809Z"
    }
   },
   "outputs": [
    {
     "data": {
      "text/plain": [
       "[1, 2, 3, 4, 5, 6, 7, 8, 9, 10]"
      ]
     },
     "execution_count": 3,
     "metadata": {},
     "output_type": "execute_result"
    }
   ],
   "source": [
    "lst1"
   ]
  },
  {
   "cell_type": "code",
   "execution_count": 4,
   "id": "252b0d31",
   "metadata": {
    "ExecuteTime": {
     "end_time": "2023-07-20T09:58:02.731508Z",
     "start_time": "2023-07-20T09:58:02.724708Z"
    }
   },
   "outputs": [
    {
     "data": {
      "text/plain": [
       "array([ 1,  2,  3,  4,  5,  6,  7,  8,  9, 10])"
      ]
     },
     "execution_count": 4,
     "metadata": {},
     "output_type": "execute_result"
    }
   ],
   "source": [
    "arr1 = np.array(lst1)\n",
    "arr1"
   ]
  },
  {
   "cell_type": "code",
   "execution_count": 5,
   "id": "9b8236ec",
   "metadata": {
    "ExecuteTime": {
     "end_time": "2023-07-20T09:58:02.740168Z",
     "start_time": "2023-07-20T09:58:02.734760Z"
    }
   },
   "outputs": [
    {
     "data": {
      "text/plain": [
       "numpy.ndarray"
      ]
     },
     "execution_count": 5,
     "metadata": {},
     "output_type": "execute_result"
    }
   ],
   "source": [
    "type(arr1)"
   ]
  },
  {
   "cell_type": "code",
   "execution_count": 6,
   "id": "1d091c33",
   "metadata": {
    "ExecuteTime": {
     "end_time": "2023-07-20T09:58:02.751202Z",
     "start_time": "2023-07-20T09:58:02.743444Z"
    }
   },
   "outputs": [
    {
     "data": {
      "text/plain": [
       "list"
      ]
     },
     "execution_count": 6,
     "metadata": {},
     "output_type": "execute_result"
    }
   ],
   "source": [
    "type(lst1)"
   ]
  },
  {
   "cell_type": "code",
   "execution_count": 7,
   "id": "145df018",
   "metadata": {
    "ExecuteTime": {
     "end_time": "2023-07-20T09:58:02.760010Z",
     "start_time": "2023-07-20T09:58:02.754749Z"
    }
   },
   "outputs": [
    {
     "data": {
      "text/plain": [
       "(10,)"
      ]
     },
     "execution_count": 7,
     "metadata": {},
     "output_type": "execute_result"
    }
   ],
   "source": [
    "arr1.shape"
   ]
  },
  {
   "cell_type": "code",
   "execution_count": 8,
   "id": "1b80e0a6",
   "metadata": {
    "ExecuteTime": {
     "end_time": "2023-07-20T09:58:02.769466Z",
     "start_time": "2023-07-20T09:58:02.762625Z"
    }
   },
   "outputs": [
    {
     "data": {
      "text/plain": [
       "[1, 2, 3, 4, 5, 6, 7, 8, 9, 10]"
      ]
     },
     "execution_count": 8,
     "metadata": {},
     "output_type": "execute_result"
    }
   ],
   "source": [
    "lst2 = list(range(1,11))\n",
    "lst2"
   ]
  },
  {
   "cell_type": "code",
   "execution_count": 9,
   "id": "78dd0242",
   "metadata": {
    "ExecuteTime": {
     "end_time": "2023-07-20T09:58:02.782713Z",
     "start_time": "2023-07-20T09:58:02.772876Z"
    }
   },
   "outputs": [
    {
     "data": {
      "text/plain": [
       "array([ 1,  2,  3,  4,  5,  6,  7,  8,  9, 10])"
      ]
     },
     "execution_count": 9,
     "metadata": {},
     "output_type": "execute_result"
    }
   ],
   "source": [
    "arr2 = np.array(lst2)\n",
    "arr2"
   ]
  },
  {
   "cell_type": "code",
   "execution_count": 10,
   "id": "13056bef",
   "metadata": {
    "ExecuteTime": {
     "end_time": "2023-07-20T09:58:02.800296Z",
     "start_time": "2023-07-20T09:58:02.788366Z"
    }
   },
   "outputs": [
    {
     "data": {
      "text/plain": [
       "array([[ 1,  2,  3,  4,  5,  6,  7,  8,  9, 10],\n",
       "       [ 1,  2,  3,  4,  5,  6,  7,  8,  9, 10]])"
      ]
     },
     "execution_count": 10,
     "metadata": {},
     "output_type": "execute_result"
    }
   ],
   "source": [
    "arr3 = np.array([lst1, lst2])\n",
    "arr3"
   ]
  },
  {
   "cell_type": "code",
   "execution_count": 11,
   "id": "bf00d170",
   "metadata": {
    "ExecuteTime": {
     "end_time": "2023-07-20T09:58:02.820369Z",
     "start_time": "2023-07-20T09:58:02.808839Z"
    }
   },
   "outputs": [
    {
     "data": {
      "text/plain": [
       "array([[ 1,  2,  3,  4,  5,  6,  7,  8,  9, 10],\n",
       "       [ 1,  2,  3,  4,  5,  6,  7,  8,  9, 10]])"
      ]
     },
     "execution_count": 11,
     "metadata": {},
     "output_type": "execute_result"
    }
   ],
   "source": [
    "arr3 = np.array([arr1, arr2])\n",
    "arr3"
   ]
  },
  {
   "cell_type": "code",
   "execution_count": 12,
   "id": "78f837b2",
   "metadata": {
    "ExecuteTime": {
     "end_time": "2023-07-20T09:58:02.835734Z",
     "start_time": "2023-07-20T09:58:02.829805Z"
    }
   },
   "outputs": [
    {
     "data": {
      "text/plain": [
       "(2, 10)"
      ]
     },
     "execution_count": 12,
     "metadata": {},
     "output_type": "execute_result"
    }
   ],
   "source": [
    "arr3.shape"
   ]
  },
  {
   "cell_type": "code",
   "execution_count": 13,
   "id": "c0d4abfd",
   "metadata": {
    "ExecuteTime": {
     "end_time": "2023-07-20T09:58:02.850572Z",
     "start_time": "2023-07-20T09:58:02.842229Z"
    }
   },
   "outputs": [
    {
     "data": {
      "text/plain": [
       "2"
      ]
     },
     "execution_count": 13,
     "metadata": {},
     "output_type": "execute_result"
    }
   ],
   "source": [
    "arr3.ndim"
   ]
  },
  {
   "cell_type": "code",
   "execution_count": 14,
   "id": "4c327851",
   "metadata": {
    "ExecuteTime": {
     "end_time": "2023-07-20T09:58:02.863464Z",
     "start_time": "2023-07-20T09:58:02.854590Z"
    }
   },
   "outputs": [
    {
     "data": {
      "text/plain": [
       "[[1, 2, 3], [4, 5, 6], [7, 8, 9]]"
      ]
     },
     "execution_count": 14,
     "metadata": {},
     "output_type": "execute_result"
    }
   ],
   "source": [
    "my_matrix = [[1,2,3],[4,5,6],[7,8,9]]\n",
    "my_matrix"
   ]
  },
  {
   "cell_type": "code",
   "execution_count": 15,
   "id": "587befdb",
   "metadata": {
    "ExecuteTime": {
     "end_time": "2023-07-20T09:58:02.872796Z",
     "start_time": "2023-07-20T09:58:02.866148Z"
    }
   },
   "outputs": [
    {
     "data": {
      "text/plain": [
       "array([[1, 2, 3],\n",
       "       [4, 5, 6],\n",
       "       [7, 8, 9]])"
      ]
     },
     "execution_count": 15,
     "metadata": {},
     "output_type": "execute_result"
    }
   ],
   "source": [
    "multi_array = np.array(my_matrix)\n",
    "multi_array"
   ]
  },
  {
   "cell_type": "code",
   "execution_count": 16,
   "id": "72ba0726",
   "metadata": {
    "ExecuteTime": {
     "end_time": "2023-07-20T09:58:02.884411Z",
     "start_time": "2023-07-20T09:58:02.875440Z"
    }
   },
   "outputs": [
    {
     "data": {
      "text/plain": [
       "(3, 3)"
      ]
     },
     "execution_count": 16,
     "metadata": {},
     "output_type": "execute_result"
    }
   ],
   "source": [
    "multi_array.shape"
   ]
  },
  {
   "cell_type": "code",
   "execution_count": 17,
   "id": "94adaa82",
   "metadata": {
    "ExecuteTime": {
     "end_time": "2023-07-20T09:58:02.891454Z",
     "start_time": "2023-07-20T09:58:02.887164Z"
    }
   },
   "outputs": [
    {
     "data": {
      "text/plain": [
       "2"
      ]
     },
     "execution_count": 17,
     "metadata": {},
     "output_type": "execute_result"
    }
   ],
   "source": [
    "multi_array.ndim"
   ]
  },
  {
   "cell_type": "code",
   "execution_count": 18,
   "id": "e33f171f",
   "metadata": {
    "ExecuteTime": {
     "end_time": "2023-07-20T09:58:02.901702Z",
     "start_time": "2023-07-20T09:58:02.895450Z"
    }
   },
   "outputs": [
    {
     "data": {
      "text/plain": [
       "[[[1, 2, 3], [4, 5, 6], [7, 8, 9]], [[1, 2, 3], [4, 5, 6], [7, 8, 9]]]"
      ]
     },
     "execution_count": 18,
     "metadata": {},
     "output_type": "execute_result"
    }
   ],
   "source": [
    "my_matrix = [[[1,2,3],[4,5,6],[7,8,9]], [[1,2,3],[4,5,6],[7,8,9]]]\n",
    "my_matrix"
   ]
  },
  {
   "cell_type": "code",
   "execution_count": 19,
   "id": "0e697e3d",
   "metadata": {
    "ExecuteTime": {
     "end_time": "2023-07-20T09:58:02.909887Z",
     "start_time": "2023-07-20T09:58:02.903784Z"
    }
   },
   "outputs": [
    {
     "data": {
      "text/plain": [
       "array([[[1, 2, 3],\n",
       "        [4, 5, 6],\n",
       "        [7, 8, 9]],\n",
       "\n",
       "       [[1, 2, 3],\n",
       "        [4, 5, 6],\n",
       "        [7, 8, 9]]])"
      ]
     },
     "execution_count": 19,
     "metadata": {},
     "output_type": "execute_result"
    }
   ],
   "source": [
    "multi_array = np.array(my_matrix)\n",
    "multi_array"
   ]
  },
  {
   "cell_type": "code",
   "execution_count": 20,
   "id": "b196ec8c",
   "metadata": {
    "ExecuteTime": {
     "end_time": "2023-07-20T09:58:02.918834Z",
     "start_time": "2023-07-20T09:58:02.912225Z"
    }
   },
   "outputs": [
    {
     "data": {
      "text/plain": [
       "(2, 3, 3)"
      ]
     },
     "execution_count": 20,
     "metadata": {},
     "output_type": "execute_result"
    }
   ],
   "source": [
    "multi_array.shape"
   ]
  },
  {
   "cell_type": "code",
   "execution_count": 21,
   "id": "fab410eb",
   "metadata": {
    "ExecuteTime": {
     "end_time": "2023-07-20T09:58:02.933405Z",
     "start_time": "2023-07-20T09:58:02.922502Z"
    }
   },
   "outputs": [
    {
     "data": {
      "text/plain": [
       "3"
      ]
     },
     "execution_count": 21,
     "metadata": {},
     "output_type": "execute_result"
    }
   ],
   "source": [
    "multi_array.ndim"
   ]
  },
  {
   "cell_type": "markdown",
   "id": "344ec197",
   "metadata": {},
   "source": [
    "### Reshape"
   ]
  },
  {
   "cell_type": "code",
   "execution_count": 22,
   "id": "cdc283e6",
   "metadata": {
    "ExecuteTime": {
     "end_time": "2023-07-20T09:58:02.941426Z",
     "start_time": "2023-07-20T09:58:02.935625Z"
    }
   },
   "outputs": [
    {
     "data": {
      "text/plain": [
       "array([1, 2, 3, 4, 5, 6])"
      ]
     },
     "execution_count": 22,
     "metadata": {},
     "output_type": "execute_result"
    }
   ],
   "source": [
    "array1 = np.array([1,2,3,4,5,6])\n",
    "array1"
   ]
  },
  {
   "cell_type": "code",
   "execution_count": 23,
   "id": "a6aa329c",
   "metadata": {
    "ExecuteTime": {
     "end_time": "2023-07-20T09:58:02.952849Z",
     "start_time": "2023-07-20T09:58:02.945467Z"
    }
   },
   "outputs": [
    {
     "data": {
      "text/plain": [
       "array([[1, 2],\n",
       "       [3, 4],\n",
       "       [5, 6]])"
      ]
     },
     "execution_count": 23,
     "metadata": {},
     "output_type": "execute_result"
    }
   ],
   "source": [
    "array1 = array1.reshape(3,2)\n",
    "array1"
   ]
  },
  {
   "cell_type": "code",
   "execution_count": 24,
   "id": "7d70b2a9",
   "metadata": {
    "ExecuteTime": {
     "end_time": "2023-07-20T09:58:02.963865Z",
     "start_time": "2023-07-20T09:58:02.957508Z"
    }
   },
   "outputs": [
    {
     "data": {
      "text/plain": [
       "2"
      ]
     },
     "execution_count": 24,
     "metadata": {},
     "output_type": "execute_result"
    }
   ],
   "source": [
    "array1.ndim"
   ]
  },
  {
   "cell_type": "markdown",
   "id": "b995b353",
   "metadata": {},
   "source": [
    "### aRange"
   ]
  },
  {
   "cell_type": "code",
   "execution_count": 25,
   "id": "480c3d32",
   "metadata": {
    "ExecuteTime": {
     "end_time": "2023-07-20T09:58:02.979975Z",
     "start_time": "2023-07-20T09:58:02.969033Z"
    }
   },
   "outputs": [
    {
     "data": {
      "text/plain": [
       "array([ 1,  2,  3,  4,  5,  6,  7,  8,  9, 10])"
      ]
     },
     "execution_count": 25,
     "metadata": {},
     "output_type": "execute_result"
    }
   ],
   "source": [
    "arr_seq = np.arange(1,11)\n",
    "arr_seq"
   ]
  },
  {
   "cell_type": "code",
   "execution_count": 26,
   "id": "95800477",
   "metadata": {
    "ExecuteTime": {
     "end_time": "2023-07-20T09:58:02.989745Z",
     "start_time": "2023-07-20T09:58:02.982882Z"
    }
   },
   "outputs": [
    {
     "data": {
      "text/plain": [
       "array([1, 3, 5, 7, 9])"
      ]
     },
     "execution_count": 26,
     "metadata": {},
     "output_type": "execute_result"
    }
   ],
   "source": [
    "arr_seq = np.arange(1,11,2) # Step size can also be given similar to list\n",
    "arr_seq"
   ]
  },
  {
   "cell_type": "code",
   "execution_count": 27,
   "id": "115c4865",
   "metadata": {
    "ExecuteTime": {
     "end_time": "2023-07-20T09:58:02.998874Z",
     "start_time": "2023-07-20T09:58:02.992617Z"
    }
   },
   "outputs": [
    {
     "data": {
      "text/plain": [
       "array([ 1,  2,  3,  4,  5,  6,  7,  8,  9, 10])"
      ]
     },
     "execution_count": 27,
     "metadata": {},
     "output_type": "execute_result"
    }
   ],
   "source": [
    "arr_seq = np.arange(1,11)\n",
    "arr_seq"
   ]
  },
  {
   "cell_type": "code",
   "execution_count": 28,
   "id": "2a3b4334",
   "metadata": {
    "ExecuteTime": {
     "end_time": "2023-07-20T09:58:03.021902Z",
     "start_time": "2023-07-20T09:58:03.016242Z"
    }
   },
   "outputs": [
    {
     "data": {
      "text/plain": [
       "array([14, 14, 15, 11, 19, 14, 14, 12, 16, 12])"
      ]
     },
     "execution_count": 28,
     "metadata": {},
     "output_type": "execute_result"
    }
   ],
   "source": [
    "arr = np.random.randint(10,20,10)\n",
    "arr"
   ]
  },
  {
   "cell_type": "code",
   "execution_count": 29,
   "id": "50e5f07a",
   "metadata": {
    "ExecuteTime": {
     "end_time": "2023-07-20T09:58:03.031174Z",
     "start_time": "2023-07-20T09:58:03.024895Z"
    }
   },
   "outputs": [
    {
     "data": {
      "text/plain": [
       "array([1, 3, 5, 7, 9])"
      ]
     },
     "execution_count": 29,
     "metadata": {},
     "output_type": "execute_result"
    }
   ],
   "source": [
    "arr_seq = np.arange(1,11,2)\n",
    "arr_seq"
   ]
  },
  {
   "cell_type": "code",
   "execution_count": 30,
   "id": "4be45400",
   "metadata": {
    "ExecuteTime": {
     "end_time": "2023-07-20T09:58:03.039974Z",
     "start_time": "2023-07-20T09:58:03.033590Z"
    }
   },
   "outputs": [
    {
     "data": {
      "text/plain": [
       "array([9, 7, 5, 3, 1])"
      ]
     },
     "execution_count": 30,
     "metadata": {},
     "output_type": "execute_result"
    }
   ],
   "source": [
    "arr_seq[::-1]"
   ]
  },
  {
   "cell_type": "code",
   "execution_count": 31,
   "id": "ce4bcc0e",
   "metadata": {
    "ExecuteTime": {
     "end_time": "2023-07-20T09:58:03.046678Z",
     "start_time": "2023-07-20T09:58:03.042992Z"
    }
   },
   "outputs": [],
   "source": [
    "arr_seq[0] = 20"
   ]
  },
  {
   "cell_type": "code",
   "execution_count": 32,
   "id": "7bafd1f5",
   "metadata": {
    "ExecuteTime": {
     "end_time": "2023-07-20T09:58:03.062395Z",
     "start_time": "2023-07-20T09:58:03.051188Z"
    }
   },
   "outputs": [
    {
     "data": {
      "text/plain": [
       "array([20,  3,  5,  7,  9])"
      ]
     },
     "execution_count": 32,
     "metadata": {},
     "output_type": "execute_result"
    }
   ],
   "source": [
    "arr_seq"
   ]
  },
  {
   "cell_type": "code",
   "execution_count": 33,
   "id": "000a75f7",
   "metadata": {
    "ExecuteTime": {
     "end_time": "2023-07-20T09:58:03.075705Z",
     "start_time": "2023-07-20T09:58:03.069373Z"
    }
   },
   "outputs": [
    {
     "data": {
      "text/plain": [
       "array([20,  3,  5])"
      ]
     },
     "execution_count": 33,
     "metadata": {},
     "output_type": "execute_result"
    }
   ],
   "source": [
    "arr_seq[:3]"
   ]
  },
  {
   "cell_type": "code",
   "execution_count": 34,
   "id": "e5a36d95",
   "metadata": {
    "ExecuteTime": {
     "end_time": "2023-07-20T09:58:03.083054Z",
     "start_time": "2023-07-20T09:58:03.079462Z"
    }
   },
   "outputs": [],
   "source": [
    "arr_seq[:3] = 20"
   ]
  },
  {
   "cell_type": "code",
   "execution_count": 35,
   "id": "0736de7e",
   "metadata": {
    "ExecuteTime": {
     "end_time": "2023-07-20T09:58:03.092598Z",
     "start_time": "2023-07-20T09:58:03.086032Z"
    }
   },
   "outputs": [
    {
     "data": {
      "text/plain": [
       "array([20, 20, 20,  7,  9])"
      ]
     },
     "execution_count": 35,
     "metadata": {},
     "output_type": "execute_result"
    }
   ],
   "source": [
    "arr_seq"
   ]
  },
  {
   "cell_type": "code",
   "execution_count": 36,
   "id": "a8bf5d66",
   "metadata": {
    "ExecuteTime": {
     "end_time": "2023-07-20T09:58:03.103533Z",
     "start_time": "2023-07-20T09:58:03.095866Z"
    }
   },
   "outputs": [
    {
     "data": {
      "text/plain": [
       "array([[1, 2],\n",
       "       [3, 4]])"
      ]
     },
     "execution_count": 36,
     "metadata": {},
     "output_type": "execute_result"
    }
   ],
   "source": [
    "x = np.array([[1,2],[3,4]])\n",
    "x"
   ]
  },
  {
   "cell_type": "code",
   "execution_count": 37,
   "id": "a014db66",
   "metadata": {
    "ExecuteTime": {
     "end_time": "2023-07-20T09:58:03.118743Z",
     "start_time": "2023-07-20T09:58:03.108103Z"
    }
   },
   "outputs": [
    {
     "data": {
      "text/plain": [
       "array([[5, 6],\n",
       "       [7, 8]])"
      ]
     },
     "execution_count": 37,
     "metadata": {},
     "output_type": "execute_result"
    }
   ],
   "source": [
    "y = np.array([[5,6],[7,8]])\n",
    "y"
   ]
  },
  {
   "cell_type": "code",
   "execution_count": 38,
   "id": "e6af389c",
   "metadata": {
    "ExecuteTime": {
     "end_time": "2023-07-20T09:58:03.130959Z",
     "start_time": "2023-07-20T09:58:03.121610Z"
    }
   },
   "outputs": [
    {
     "data": {
      "text/plain": [
       "array([[ 6,  8],\n",
       "       [10, 12]])"
      ]
     },
     "execution_count": 38,
     "metadata": {},
     "output_type": "execute_result"
    }
   ],
   "source": [
    "x + y"
   ]
  },
  {
   "cell_type": "code",
   "execution_count": 39,
   "id": "83ca8133",
   "metadata": {
    "ExecuteTime": {
     "end_time": "2023-07-20T09:58:03.151361Z",
     "start_time": "2023-07-20T09:58:03.141365Z"
    }
   },
   "outputs": [
    {
     "data": {
      "text/plain": [
       "array([[-4, -4],\n",
       "       [-4, -4]])"
      ]
     },
     "execution_count": 39,
     "metadata": {},
     "output_type": "execute_result"
    }
   ],
   "source": [
    "x - y"
   ]
  },
  {
   "cell_type": "code",
   "execution_count": 40,
   "id": "d896830c",
   "metadata": {
    "ExecuteTime": {
     "end_time": "2023-07-20T09:58:03.167821Z",
     "start_time": "2023-07-20T09:58:03.154284Z"
    }
   },
   "outputs": [
    {
     "data": {
      "text/plain": [
       "array([[ 5, 12],\n",
       "       [21, 32]])"
      ]
     },
     "execution_count": 40,
     "metadata": {},
     "output_type": "execute_result"
    }
   ],
   "source": [
    "x * y"
   ]
  },
  {
   "cell_type": "code",
   "execution_count": 41,
   "id": "1a444a97",
   "metadata": {
    "ExecuteTime": {
     "end_time": "2023-07-20T09:58:03.188713Z",
     "start_time": "2023-07-20T09:58:03.171283Z"
    }
   },
   "outputs": [
    {
     "data": {
      "text/plain": [
       "array([[0.2       , 0.33333333],\n",
       "       [0.42857143, 0.5       ]])"
      ]
     },
     "execution_count": 41,
     "metadata": {},
     "output_type": "execute_result"
    }
   ],
   "source": [
    "x / y"
   ]
  },
  {
   "cell_type": "code",
   "execution_count": 42,
   "id": "b561c992",
   "metadata": {
    "ExecuteTime": {
     "end_time": "2023-07-20T09:58:03.200163Z",
     "start_time": "2023-07-20T09:58:03.191678Z"
    }
   },
   "outputs": [
    {
     "data": {
      "text/plain": [
       "array([[ 6,  8],\n",
       "       [10, 12]])"
      ]
     },
     "execution_count": 42,
     "metadata": {},
     "output_type": "execute_result"
    }
   ],
   "source": [
    "np.add(x,y)"
   ]
  },
  {
   "cell_type": "code",
   "execution_count": 43,
   "id": "a7f4c1e7",
   "metadata": {
    "ExecuteTime": {
     "end_time": "2023-07-20T09:58:03.211210Z",
     "start_time": "2023-07-20T09:58:03.203185Z"
    }
   },
   "outputs": [
    {
     "data": {
      "text/plain": [
       "array([[-4, -4],\n",
       "       [-4, -4]])"
      ]
     },
     "execution_count": 43,
     "metadata": {},
     "output_type": "execute_result"
    }
   ],
   "source": [
    "np.subtract(x,y)"
   ]
  },
  {
   "cell_type": "code",
   "execution_count": 44,
   "id": "4239f2d2",
   "metadata": {
    "ExecuteTime": {
     "end_time": "2023-07-20T09:58:03.226299Z",
     "start_time": "2023-07-20T09:58:03.214332Z"
    }
   },
   "outputs": [
    {
     "data": {
      "text/plain": [
       "array([[ 5, 12],\n",
       "       [21, 32]])"
      ]
     },
     "execution_count": 44,
     "metadata": {},
     "output_type": "execute_result"
    }
   ],
   "source": [
    "np.multiply(x,y)"
   ]
  },
  {
   "cell_type": "code",
   "execution_count": 45,
   "id": "2a8b64a1",
   "metadata": {
    "ExecuteTime": {
     "end_time": "2023-07-20T09:58:03.235252Z",
     "start_time": "2023-07-20T09:58:03.229128Z"
    }
   },
   "outputs": [
    {
     "data": {
      "text/plain": [
       "array([[0.2       , 0.33333333],\n",
       "       [0.42857143, 0.5       ]])"
      ]
     },
     "execution_count": 45,
     "metadata": {},
     "output_type": "execute_result"
    }
   ],
   "source": [
    "np.divide(x,y)"
   ]
  },
  {
   "cell_type": "code",
   "execution_count": 46,
   "id": "ce6ec28b",
   "metadata": {
    "ExecuteTime": {
     "end_time": "2023-07-20T09:58:03.244320Z",
     "start_time": "2023-07-20T09:58:03.238170Z"
    }
   },
   "outputs": [
    {
     "data": {
      "text/plain": [
       "10"
      ]
     },
     "execution_count": 46,
     "metadata": {},
     "output_type": "execute_result"
    }
   ],
   "source": [
    "np.sum(x)"
   ]
  },
  {
   "cell_type": "code",
   "execution_count": 47,
   "id": "eee7e331",
   "metadata": {
    "ExecuteTime": {
     "end_time": "2023-07-20T09:58:03.270227Z",
     "start_time": "2023-07-20T09:58:03.249718Z"
    }
   },
   "outputs": [
    {
     "data": {
      "text/plain": [
       "array([3, 7])"
      ]
     },
     "execution_count": 47,
     "metadata": {},
     "output_type": "execute_result"
    }
   ],
   "source": [
    "np.sum(x, axis=1)"
   ]
  },
  {
   "cell_type": "code",
   "execution_count": 48,
   "id": "0f1d0de9",
   "metadata": {
    "ExecuteTime": {
     "end_time": "2023-07-20T09:58:03.281809Z",
     "start_time": "2023-07-20T09:58:03.273051Z"
    }
   },
   "outputs": [
    {
     "data": {
      "text/plain": [
       "array([4, 6])"
      ]
     },
     "execution_count": 48,
     "metadata": {},
     "output_type": "execute_result"
    }
   ],
   "source": [
    "np.sum(x, axis=0)"
   ]
  },
  {
   "cell_type": "code",
   "execution_count": 49,
   "id": "de230d03",
   "metadata": {
    "ExecuteTime": {
     "end_time": "2023-07-20T09:58:03.290914Z",
     "start_time": "2023-07-20T09:58:03.285481Z"
    }
   },
   "outputs": [
    {
     "data": {
      "text/plain": [
       "1"
      ]
     },
     "execution_count": 49,
     "metadata": {},
     "output_type": "execute_result"
    }
   ],
   "source": [
    "np.min(x)"
   ]
  },
  {
   "cell_type": "code",
   "execution_count": 50,
   "id": "6221865c",
   "metadata": {
    "ExecuteTime": {
     "end_time": "2023-07-20T09:58:03.300299Z",
     "start_time": "2023-07-20T09:58:03.294462Z"
    }
   },
   "outputs": [
    {
     "data": {
      "text/plain": [
       "4"
      ]
     },
     "execution_count": 50,
     "metadata": {},
     "output_type": "execute_result"
    }
   ],
   "source": [
    "np.max(x)"
   ]
  },
  {
   "cell_type": "code",
   "execution_count": 51,
   "id": "ee91a5e1",
   "metadata": {
    "ExecuteTime": {
     "end_time": "2023-07-20T09:58:03.312475Z",
     "start_time": "2023-07-20T09:58:03.306213Z"
    }
   },
   "outputs": [
    {
     "data": {
      "text/plain": [
       "array([ 1,  3,  6, 10])"
      ]
     },
     "execution_count": 51,
     "metadata": {},
     "output_type": "execute_result"
    }
   ],
   "source": [
    "np.cumsum(x)"
   ]
  },
  {
   "cell_type": "code",
   "execution_count": 52,
   "id": "aa6eeb1a",
   "metadata": {
    "ExecuteTime": {
     "end_time": "2023-07-20T09:58:03.322457Z",
     "start_time": "2023-07-20T09:58:03.315417Z"
    }
   },
   "outputs": [
    {
     "data": {
      "text/plain": [
       "array([[19, 22],\n",
       "       [43, 50]])"
      ]
     },
     "execution_count": 52,
     "metadata": {},
     "output_type": "execute_result"
    }
   ],
   "source": [
    "x.dot(y)"
   ]
  },
  {
   "cell_type": "code",
   "execution_count": 53,
   "id": "d71cabe6",
   "metadata": {
    "ExecuteTime": {
     "end_time": "2023-07-20T09:58:03.333214Z",
     "start_time": "2023-07-20T09:58:03.327300Z"
    }
   },
   "outputs": [
    {
     "data": {
      "text/plain": [
       "array([[1, 3],\n",
       "       [2, 4]])"
      ]
     },
     "execution_count": 53,
     "metadata": {},
     "output_type": "execute_result"
    }
   ],
   "source": [
    "x.T"
   ]
  },
  {
   "cell_type": "code",
   "execution_count": null,
   "id": "935c3565",
   "metadata": {},
   "outputs": [],
   "source": []
  },
  {
   "cell_type": "code",
   "execution_count": null,
   "id": "c617e7ae",
   "metadata": {},
   "outputs": [],
   "source": []
  },
  {
   "cell_type": "code",
   "execution_count": null,
   "id": "4f1e46bc",
   "metadata": {},
   "outputs": [],
   "source": []
  },
  {
   "cell_type": "code",
   "execution_count": null,
   "id": "7b450e7b",
   "metadata": {},
   "outputs": [],
   "source": []
  },
  {
   "cell_type": "code",
   "execution_count": null,
   "id": "a0fad207",
   "metadata": {},
   "outputs": [],
   "source": []
  },
  {
   "cell_type": "code",
   "execution_count": null,
   "id": "c37b0d24",
   "metadata": {},
   "outputs": [],
   "source": []
  },
  {
   "cell_type": "code",
   "execution_count": null,
   "id": "51f415d0",
   "metadata": {},
   "outputs": [],
   "source": []
  },
  {
   "cell_type": "code",
   "execution_count": null,
   "id": "730e1e8b",
   "metadata": {},
   "outputs": [],
   "source": []
  },
  {
   "cell_type": "code",
   "execution_count": null,
   "id": "b7406a8f",
   "metadata": {},
   "outputs": [],
   "source": []
  },
  {
   "cell_type": "code",
   "execution_count": null,
   "id": "39206dba",
   "metadata": {},
   "outputs": [],
   "source": []
  },
  {
   "cell_type": "code",
   "execution_count": null,
   "id": "8dac3f11",
   "metadata": {},
   "outputs": [],
   "source": []
  }
 ],
 "metadata": {
  "kernelspec": {
   "display_name": "Python 3 (ipykernel)",
   "language": "python",
   "name": "python3"
  },
  "language_info": {
   "codemirror_mode": {
    "name": "ipython",
    "version": 3
   },
   "file_extension": ".py",
   "mimetype": "text/x-python",
   "name": "python",
   "nbconvert_exporter": "python",
   "pygments_lexer": "ipython3",
   "version": "3.10.6"
  },
  "varInspector": {
   "cols": {
    "lenName": 16,
    "lenType": 16,
    "lenVar": 40
   },
   "kernels_config": {
    "python": {
     "delete_cmd_postfix": "",
     "delete_cmd_prefix": "del ",
     "library": "var_list.py",
     "varRefreshCmd": "print(var_dic_list())"
    },
    "r": {
     "delete_cmd_postfix": ") ",
     "delete_cmd_prefix": "rm(",
     "library": "var_list.r",
     "varRefreshCmd": "cat(var_dic_list()) "
    }
   },
   "types_to_exclude": [
    "module",
    "function",
    "builtin_function_or_method",
    "instance",
    "_Feature"
   ],
   "window_display": false
  }
 },
 "nbformat": 4,
 "nbformat_minor": 5
}
