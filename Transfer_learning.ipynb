{
 "cells": [
  {
   "cell_type": "markdown",
   "id": "683d6b6b",
   "metadata": {},
   "source": [
    "# LENET-5"
   ]
  },
  {
   "cell_type": "code",
   "execution_count": 2,
   "id": "41208355",
   "metadata": {
    "ExecuteTime": {
     "end_time": "2022-12-05T09:52:18.588755Z",
     "start_time": "2022-12-05T09:52:16.343503Z"
    }
   },
   "outputs": [
    {
     "name": "stderr",
     "output_type": "stream",
     "text": [
      "2022-12-05 15:22:17.010163: I tensorflow/core/platform/cpu_feature_guard.cc:193] This TensorFlow binary is optimized with oneAPI Deep Neural Network Library (oneDNN) to use the following CPU instructions in performance-critical operations:  AVX2 FMA\n",
      "To enable them in other operations, rebuild TensorFlow with the appropriate compiler flags.\n",
      "2022-12-05 15:22:17.164968: W tensorflow/stream_executor/platform/default/dso_loader.cc:64] Could not load dynamic library 'libcudart.so.11.0'; dlerror: libcudart.so.11.0: cannot open shared object file: No such file or directory\n",
      "2022-12-05 15:22:17.165004: I tensorflow/stream_executor/cuda/cudart_stub.cc:29] Ignore above cudart dlerror if you do not have a GPU set up on your machine.\n",
      "2022-12-05 15:22:17.192520: E tensorflow/stream_executor/cuda/cuda_blas.cc:2981] Unable to register cuBLAS factory: Attempting to register factory for plugin cuBLAS when one has already been registered\n",
      "2022-12-05 15:22:17.834153: W tensorflow/stream_executor/platform/default/dso_loader.cc:64] Could not load dynamic library 'libnvinfer.so.7'; dlerror: libnvinfer.so.7: cannot open shared object file: No such file or directory\n",
      "2022-12-05 15:22:17.834241: W tensorflow/stream_executor/platform/default/dso_loader.cc:64] Could not load dynamic library 'libnvinfer_plugin.so.7'; dlerror: libnvinfer_plugin.so.7: cannot open shared object file: No such file or directory\n",
      "2022-12-05 15:22:17.834250: W tensorflow/compiler/tf2tensorrt/utils/py_utils.cc:38] TF-TRT Warning: Cannot dlopen some TensorRT libraries. If you would like to use Nvidia GPU with TensorRT, please make sure the missing libraries mentioned above are installed properly.\n"
     ]
    }
   ],
   "source": [
    "import pandas as pd\n",
    "import numpy as np\n",
    "import matplotlib.pyplot as plt\n",
    "import tensorflow as tf\n",
    "from tensorflow.keras.models import Model\n",
    "from tensorflow.keras.layers import Dense, AveragePooling2D"
   ]
  },
  {
   "cell_type": "code",
   "execution_count": 3,
   "id": "909cfda4",
   "metadata": {
    "ExecuteTime": {
     "end_time": "2022-12-05T09:52:18.807726Z",
     "start_time": "2022-12-05T09:52:18.591513Z"
    }
   },
   "outputs": [
    {
     "name": "stderr",
     "output_type": "stream",
     "text": [
      "2022-12-05 15:22:18.598145: W tensorflow/stream_executor/platform/default/dso_loader.cc:64] Could not load dynamic library 'libcuda.so.1'; dlerror: libcuda.so.1: cannot open shared object file: No such file or directory\n",
      "2022-12-05 15:22:18.598180: W tensorflow/stream_executor/cuda/cuda_driver.cc:263] failed call to cuInit: UNKNOWN ERROR (303)\n",
      "2022-12-05 15:22:18.598209: I tensorflow/stream_executor/cuda/cuda_diagnostics.cc:156] kernel driver does not appear to be running on this host (ubuntu-Zako): /proc/driver/nvidia/version does not exist\n",
      "2022-12-05 15:22:18.598490: I tensorflow/core/platform/cpu_feature_guard.cc:193] This TensorFlow binary is optimized with oneAPI Deep Neural Network Library (oneDNN) to use the following CPU instructions in performance-critical operations:  AVX2 FMA\n",
      "To enable them in other operations, rebuild TensorFlow with the appropriate compiler flags.\n"
     ]
    }
   ],
   "source": [
    "model = tf.keras.models.Sequential()\n",
    "\n",
    "model.add(tf.keras.layers.Conv2D(input_shape=(32,32,1), kernel_size=(5,5), filters=6,activation='tanh', name='conv1'))\n",
    "model.add(tf.keras.layers.AveragePooling2D(pool_size=(2,2), strides=2))\n",
    "model.add(tf.keras.layers.Conv2D(kernel_size=(5,5),filters=16, activation='tanh', name='conv2'))\n",
    "model.add(tf.keras.layers.AveragePooling2D(pool_size=(2,2),strides=2))\n",
    "model.add(tf.keras.layers.Conv2D(kernel_size=(5,5),filters=120,activation='tanh'))\n",
    "\n",
    "model.add(tf.keras.layers.Flatten())\n",
    "\n",
    "model.add(tf.keras.layers.Dense(84,name=\"dense2\",activation=\"tanh\"))\n",
    "model.add(tf.keras.layers.Dense(10,name=\"dense3\",activation=\"softmax\"))\n"
   ]
  },
  {
   "cell_type": "code",
   "execution_count": 4,
   "id": "44959fbf",
   "metadata": {
    "ExecuteTime": {
     "end_time": "2022-12-05T09:52:18.844160Z",
     "start_time": "2022-12-05T09:52:18.812044Z"
    }
   },
   "outputs": [
    {
     "name": "stdout",
     "output_type": "stream",
     "text": [
      "Model: \"sequential\"\n",
      "_________________________________________________________________\n",
      " Layer (type)                Output Shape              Param #   \n",
      "=================================================================\n",
      " conv1 (Conv2D)              (None, 28, 28, 6)         156       \n",
      "                                                                 \n",
      " average_pooling2d (AverageP  (None, 14, 14, 6)        0         \n",
      " ooling2D)                                                       \n",
      "                                                                 \n",
      " conv2 (Conv2D)              (None, 10, 10, 16)        2416      \n",
      "                                                                 \n",
      " average_pooling2d_1 (Averag  (None, 5, 5, 16)         0         \n",
      " ePooling2D)                                                     \n",
      "                                                                 \n",
      " conv2d (Conv2D)             (None, 1, 1, 120)         48120     \n",
      "                                                                 \n",
      " flatten (Flatten)           (None, 120)               0         \n",
      "                                                                 \n",
      " dense2 (Dense)              (None, 84)                10164     \n",
      "                                                                 \n",
      " dense3 (Dense)              (None, 10)                850       \n",
      "                                                                 \n",
      "=================================================================\n",
      "Total params: 61,706\n",
      "Trainable params: 61,706\n",
      "Non-trainable params: 0\n",
      "_________________________________________________________________\n"
     ]
    }
   ],
   "source": [
    "model.summary()"
   ]
  },
  {
   "cell_type": "code",
   "execution_count": 5,
   "id": "0f508888",
   "metadata": {
    "ExecuteTime": {
     "end_time": "2022-12-05T09:52:18.868275Z",
     "start_time": "2022-12-05T09:52:18.853888Z"
    }
   },
   "outputs": [
    {
     "data": {
      "text/plain": [
       "850"
      ]
     },
     "execution_count": 5,
     "metadata": {},
     "output_type": "execute_result"
    }
   ],
   "source": [
    "# Parameter calculations\n",
    "\n",
    "5*5*1*6+6\n",
    "5*5*6*16+16\n",
    "5*5*16*120+120 \n",
    "120*84+84\n",
    "84*10+10"
   ]
  },
  {
   "cell_type": "markdown",
   "id": "c2673660",
   "metadata": {},
   "source": [
    "# ALEXNET"
   ]
  },
  {
   "cell_type": "code",
   "execution_count": 6,
   "id": "f722bf3a",
   "metadata": {
    "ExecuteTime": {
     "end_time": "2022-12-05T09:52:19.395717Z",
     "start_time": "2022-12-05T09:52:18.872783Z"
    }
   },
   "outputs": [
    {
     "name": "stderr",
     "output_type": "stream",
     "text": [
      "2022-12-05 15:22:19.026775: W tensorflow/core/framework/cpu_allocator_impl.cc:82] Allocation of 150994944 exceeds 10% of free system memory.\n",
      "2022-12-05 15:22:19.151080: W tensorflow/core/framework/cpu_allocator_impl.cc:82] Allocation of 150994944 exceeds 10% of free system memory.\n",
      "2022-12-05 15:22:19.189803: W tensorflow/core/framework/cpu_allocator_impl.cc:82] Allocation of 150994944 exceeds 10% of free system memory.\n"
     ]
    }
   ],
   "source": [
    "model = tf.keras.models.Sequential()\n",
    "\n",
    "model.add(tf.keras.layers.Conv2D(input_shape = (227,227,3),kernel_size=(11,11),filters=96,strides=4,activation=\"relu\",name=\"conv1\"))\n",
    "model.add(tf.keras.layers.MaxPooling2D(pool_size=(3,3),strides=2))\n",
    "model.add(tf.keras.layers.Conv2D(kernel_size=(5,5), filters=256,padding=\"same\",activation=\"relu\",name=\"conv2\"))\n",
    "model.add(tf.keras.layers.MaxPooling2D(pool_size=(3,3),strides=2))\n",
    "model.add(tf.keras.layers.Conv2D(filters=384, kernel_size=(3,3),name=\"conv3\",activation=\"relu\",padding=\"same\"))\n",
    "model.add(tf.keras.layers.Conv2D(filters=384, kernel_size=(3,3),name=\"conv4\",activation=\"relu\",padding=\"same\")) \n",
    "model.add(tf.keras.layers.Conv2D(filters=256, kernel_size=(3,3),name=\"conv5\",activation=\"relu\",padding=\"same\")) \n",
    "model.add(tf.keras.layers.MaxPooling2D(pool_size=(3,3),strides=2)) \n",
    "\n",
    "model.add(tf.keras.layers.Flatten())\n",
    "  \n",
    "model.add(tf.keras.layers.Dense(4096,name=\"dense1\",activation=\"relu\"))\n",
    "model.add(tf.keras.layers.Dense(4096,name=\"dense2\",activation=\"relu\"))\n",
    "model.add(tf.keras.layers.Dense(1000,name=\"output\",activation=\"softmax\"))\n",
    "\n"
   ]
  },
  {
   "cell_type": "code",
   "execution_count": 7,
   "id": "a1c91a95",
   "metadata": {
    "ExecuteTime": {
     "end_time": "2022-12-05T09:52:19.434912Z",
     "start_time": "2022-12-05T09:52:19.397977Z"
    }
   },
   "outputs": [
    {
     "name": "stdout",
     "output_type": "stream",
     "text": [
      "Model: \"sequential_1\"\n",
      "_________________________________________________________________\n",
      " Layer (type)                Output Shape              Param #   \n",
      "=================================================================\n",
      " conv1 (Conv2D)              (None, 55, 55, 96)        34944     \n",
      "                                                                 \n",
      " max_pooling2d (MaxPooling2D  (None, 27, 27, 96)       0         \n",
      " )                                                               \n",
      "                                                                 \n",
      " conv2 (Conv2D)              (None, 27, 27, 256)       614656    \n",
      "                                                                 \n",
      " max_pooling2d_1 (MaxPooling  (None, 13, 13, 256)      0         \n",
      " 2D)                                                             \n",
      "                                                                 \n",
      " conv3 (Conv2D)              (None, 13, 13, 384)       885120    \n",
      "                                                                 \n",
      " conv4 (Conv2D)              (None, 13, 13, 384)       1327488   \n",
      "                                                                 \n",
      " conv5 (Conv2D)              (None, 13, 13, 256)       884992    \n",
      "                                                                 \n",
      " max_pooling2d_2 (MaxPooling  (None, 6, 6, 256)        0         \n",
      " 2D)                                                             \n",
      "                                                                 \n",
      " flatten_1 (Flatten)         (None, 9216)              0         \n",
      "                                                                 \n",
      " dense1 (Dense)              (None, 4096)              37752832  \n",
      "                                                                 \n",
      " dense2 (Dense)              (None, 4096)              16781312  \n",
      "                                                                 \n",
      " output (Dense)              (None, 1000)              4097000   \n",
      "                                                                 \n",
      "=================================================================\n",
      "Total params: 62,378,344\n",
      "Trainable params: 62,378,344\n",
      "Non-trainable params: 0\n",
      "_________________________________________________________________\n"
     ]
    }
   ],
   "source": [
    "model.summary()"
   ]
  },
  {
   "cell_type": "markdown",
   "id": "8defb118",
   "metadata": {},
   "source": [
    "# VGG16"
   ]
  },
  {
   "cell_type": "code",
   "execution_count": 13,
   "id": "b05c625a",
   "metadata": {
    "ExecuteTime": {
     "end_time": "2022-12-05T10:00:45.981656Z",
     "start_time": "2022-12-05T10:00:45.105188Z"
    }
   },
   "outputs": [],
   "source": [
    "model = tf.keras.models.Sequential()\n",
    "\n",
    "model.add(tf.keras.layers.Conv2D(input_shape=(224,224,3),filters=64,kernel_size=(3,3),padding=\"same\", activation=\"relu\"))\n",
    "model.add(tf.keras.layers.Conv2D(filters=64,kernel_size=(3,3),padding=\"same\",activation='relu'))\n",
    "model.add(tf.keras.layers.MaxPool2D(pool_size=(2,2),strides=2))\n",
    "\n",
    "model.add(tf.keras.layers.Conv2D(filters=128,kernel_size=(3,3),padding=\"same\",activation='relu'))\n",
    "model.add(tf.keras.layers.Conv2D(filters=128,kernel_size=(3,3),padding=\"same\",activation='relu'))\n",
    "model.add(tf.keras.layers.MaxPool2D(pool_size=(2,2),strides=2))\n",
    "\n",
    "model.add(tf.keras.layers.Conv2D(filters=256,kernel_size=(3,3),padding=\"same\",activation='relu'))\n",
    "model.add(tf.keras.layers.Conv2D(filters=256,kernel_size=(3,3),padding=\"same\",activation='relu'))\n",
    "model.add(tf.keras.layers.Conv2D(filters=256,kernel_size=(3,3),padding=\"same\",activation='relu'))\n",
    "model.add(tf.keras.layers.MaxPool2D(pool_size=(2,2),strides=2))\n",
    "\n",
    "model.add(tf.keras.layers.Conv2D(filters=512,kernel_size=(3,3),padding=\"same\",activation='relu'))\n",
    "model.add(tf.keras.layers.Conv2D(filters=512,kernel_size=(3,3),padding=\"same\",activation='relu'))\n",
    "model.add(tf.keras.layers.Conv2D(filters=512,kernel_size=(3,3),padding=\"same\",activation='relu'))\n",
    "model.add(tf.keras.layers.MaxPool2D(pool_size=(2,2),strides=2))\n",
    "\n",
    "model.add(tf.keras.layers.Conv2D(filters=512,kernel_size=(3,3),padding=\"same\",activation='relu'))\n",
    "model.add(tf.keras.layers.Conv2D(filters=512,kernel_size=(3,3),padding=\"same\",activation='relu'))\n",
    "model.add(tf.keras.layers.Conv2D(filters=512,kernel_size=(3,3),padding=\"same\",activation='relu'))\n",
    "model.add(tf.keras.layers.MaxPool2D(pool_size=(2,2),strides=2))\n",
    "\n",
    "model.add(tf.keras.layers.Flatten())\n",
    "  \n",
    "model.add(tf.keras.layers.Dense(4096,name=\"dense1\",activation=\"relu\"))\n",
    "model.add(tf.keras.layers.Dense(4096,name=\"dense2\",activation=\"relu\"))\n",
    "model.add(tf.keras.layers.Dense(2,name=\"output\",activation=\"softmax\"))"
   ]
  },
  {
   "cell_type": "code",
   "execution_count": 14,
   "id": "211addfb",
   "metadata": {
    "ExecuteTime": {
     "end_time": "2022-12-05T10:00:47.638719Z",
     "start_time": "2022-12-05T10:00:47.576157Z"
    },
    "scrolled": true
   },
   "outputs": [
    {
     "name": "stdout",
     "output_type": "stream",
     "text": [
      "Model: \"sequential_5\"\n",
      "_________________________________________________________________\n",
      " Layer (type)                Output Shape              Param #   \n",
      "=================================================================\n",
      " conv2d_19 (Conv2D)          (None, 224, 224, 64)      1792      \n",
      "                                                                 \n",
      " conv2d_20 (Conv2D)          (None, 224, 224, 64)      36928     \n",
      "                                                                 \n",
      " max_pooling2d_12 (MaxPoolin  (None, 112, 112, 64)     0         \n",
      " g2D)                                                            \n",
      "                                                                 \n",
      " conv2d_21 (Conv2D)          (None, 112, 112, 128)     73856     \n",
      "                                                                 \n",
      " conv2d_22 (Conv2D)          (None, 112, 112, 128)     147584    \n",
      "                                                                 \n",
      " max_pooling2d_13 (MaxPoolin  (None, 56, 56, 128)      0         \n",
      " g2D)                                                            \n",
      "                                                                 \n",
      " conv2d_23 (Conv2D)          (None, 56, 56, 256)       295168    \n",
      "                                                                 \n",
      " conv2d_24 (Conv2D)          (None, 56, 56, 256)       590080    \n",
      "                                                                 \n",
      " conv2d_25 (Conv2D)          (None, 56, 56, 256)       590080    \n",
      "                                                                 \n",
      " max_pooling2d_14 (MaxPoolin  (None, 28, 28, 256)      0         \n",
      " g2D)                                                            \n",
      "                                                                 \n",
      " conv2d_26 (Conv2D)          (None, 28, 28, 512)       1180160   \n",
      "                                                                 \n",
      " conv2d_27 (Conv2D)          (None, 28, 28, 512)       2359808   \n",
      "                                                                 \n",
      " conv2d_28 (Conv2D)          (None, 28, 28, 512)       2359808   \n",
      "                                                                 \n",
      " max_pooling2d_15 (MaxPoolin  (None, 14, 14, 512)      0         \n",
      " g2D)                                                            \n",
      "                                                                 \n",
      " conv2d_29 (Conv2D)          (None, 14, 14, 512)       2359808   \n",
      "                                                                 \n",
      " conv2d_30 (Conv2D)          (None, 14, 14, 512)       2359808   \n",
      "                                                                 \n",
      " conv2d_31 (Conv2D)          (None, 14, 14, 512)       2359808   \n",
      "                                                                 \n",
      " max_pooling2d_16 (MaxPoolin  (None, 7, 7, 512)        0         \n",
      " g2D)                                                            \n",
      "                                                                 \n",
      " flatten_4 (Flatten)         (None, 25088)             0         \n",
      "                                                                 \n",
      " dense1 (Dense)              (None, 4096)              102764544 \n",
      "                                                                 \n",
      " dense2 (Dense)              (None, 4096)              16781312  \n",
      "                                                                 \n",
      " output (Dense)              (None, 2)                 8194      \n",
      "                                                                 \n",
      "=================================================================\n",
      "Total params: 134,268,738\n",
      "Trainable params: 134,268,738\n",
      "Non-trainable params: 0\n",
      "_________________________________________________________________\n"
     ]
    }
   ],
   "source": [
    "model.summary()"
   ]
  },
  {
   "cell_type": "code",
   "execution_count": null,
   "id": "7441960f",
   "metadata": {},
   "outputs": [],
   "source": [
    "model.compile(optimizer=tf.keras.optimizers.Adam(learning_rate=1e-3),\n",
    "              loss=tf.keras.losses.BinaryCrossentropy(),\n",
    "              metrics=[tf.keras.metrics.BinaryAccuracy(),\n",
    "                       tf.keras.metrics.FalseNegatives()])"
   ]
  },
  {
   "cell_type": "code",
   "execution_count": null,
   "id": "29d14596",
   "metadata": {},
   "outputs": [],
   "source": []
  },
  {
   "cell_type": "code",
   "execution_count": null,
   "id": "2f6f6c26",
   "metadata": {},
   "outputs": [],
   "source": []
  },
  {
   "cell_type": "code",
   "execution_count": null,
   "id": "9b2f92e5",
   "metadata": {},
   "outputs": [],
   "source": []
  },
  {
   "cell_type": "code",
   "execution_count": null,
   "id": "81979087",
   "metadata": {},
   "outputs": [],
   "source": []
  }
 ],
 "metadata": {
  "kernelspec": {
   "display_name": "Python 3 (ipykernel)",
   "language": "python",
   "name": "python3"
  },
  "language_info": {
   "codemirror_mode": {
    "name": "ipython",
    "version": 3
   },
   "file_extension": ".py",
   "mimetype": "text/x-python",
   "name": "python",
   "nbconvert_exporter": "python",
   "pygments_lexer": "ipython3",
   "version": "3.10.6"
  },
  "varInspector": {
   "cols": {
    "lenName": 16,
    "lenType": 16,
    "lenVar": 40
   },
   "kernels_config": {
    "python": {
     "delete_cmd_postfix": "",
     "delete_cmd_prefix": "del ",
     "library": "var_list.py",
     "varRefreshCmd": "print(var_dic_list())"
    },
    "r": {
     "delete_cmd_postfix": ") ",
     "delete_cmd_prefix": "rm(",
     "library": "var_list.r",
     "varRefreshCmd": "cat(var_dic_list()) "
    }
   },
   "types_to_exclude": [
    "module",
    "function",
    "builtin_function_or_method",
    "instance",
    "_Feature"
   ],
   "window_display": false
  }
 },
 "nbformat": 4,
 "nbformat_minor": 5
}
