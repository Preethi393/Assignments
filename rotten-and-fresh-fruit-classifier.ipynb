{
 "cells": [
  {
   "cell_type": "code",
   "execution_count": null,
   "metadata": {
    "execution": {
     "iopub.execute_input": "2021-08-29T09:06:21.653584Z",
     "iopub.status.busy": "2021-08-29T09:06:21.653221Z",
     "iopub.status.idle": "2021-08-29T09:06:28.53264Z",
     "shell.execute_reply": "2021-08-29T09:06:28.531723Z",
     "shell.execute_reply.started": "2021-08-29T09:06:21.653506Z"
    }
   },
   "outputs": [],
   "source": [
    "from tensorflow import keras\n",
    "\n",
    "base_model = keras.applications.VGG16(\n",
    "    weights='imagenet',\n",
    "    input_shape=(224, 224, 3),\n",
    "    include_top=False)"
   ]
  },
  {
   "cell_type": "markdown",
   "metadata": {},
   "source": [
    "Freeze Base Model\n"
   ]
  },
  {
   "cell_type": "code",
   "execution_count": null,
   "metadata": {
    "execution": {
     "iopub.execute_input": "2021-08-29T09:06:32.06787Z",
     "iopub.status.busy": "2021-08-29T09:06:32.067514Z",
     "iopub.status.idle": "2021-08-29T09:06:32.072231Z",
     "shell.execute_reply": "2021-08-29T09:06:32.071228Z",
     "shell.execute_reply.started": "2021-08-29T09:06:32.067819Z"
    }
   },
   "outputs": [],
   "source": [
    "base_model.trainable = False"
   ]
  },
  {
   "cell_type": "markdown",
   "metadata": {},
   "source": [
    "Add New Layers\n"
   ]
  },
  {
   "cell_type": "code",
   "execution_count": null,
   "metadata": {
    "execution": {
     "iopub.execute_input": "2021-08-29T09:06:35.217069Z",
     "iopub.status.busy": "2021-08-29T09:06:35.216668Z",
     "iopub.status.idle": "2021-08-29T09:06:35.279627Z",
     "shell.execute_reply": "2021-08-29T09:06:35.278849Z",
     "shell.execute_reply.started": "2021-08-29T09:06:35.217036Z"
    }
   },
   "outputs": [],
   "source": [
    "inputs = keras.Input(shape=(224, 224, 3))\n",
    "\n",
    "x = base_model(inputs, training=False)\n",
    "\n",
    "#pooling layer \n",
    "x = keras.layers.GlobalAveragePooling2D()(x)\n",
    "\n",
    "#final dense layer\n",
    "outputs = keras.layers.Dense(6, activation = 'softmax')(x)\n",
    "\n",
    "model = keras.Model(inputs,outputs)"
   ]
  },
  {
   "cell_type": "code",
   "execution_count": null,
   "metadata": {
    "execution": {
     "iopub.execute_input": "2021-08-29T09:06:38.613609Z",
     "iopub.status.busy": "2021-08-29T09:06:38.613283Z",
     "iopub.status.idle": "2021-08-29T09:06:38.624554Z",
     "shell.execute_reply": "2021-08-29T09:06:38.623724Z",
     "shell.execute_reply.started": "2021-08-29T09:06:38.613577Z"
    }
   },
   "outputs": [],
   "source": [
    "model.summary()"
   ]
  },
  {
   "cell_type": "markdown",
   "metadata": {},
   "source": [
    "Compile the model"
   ]
  },
  {
   "cell_type": "code",
   "execution_count": null,
   "metadata": {
    "execution": {
     "iopub.execute_input": "2021-08-29T09:06:42.08877Z",
     "iopub.status.busy": "2021-08-29T09:06:42.088446Z",
     "iopub.status.idle": "2021-08-29T09:06:42.103983Z",
     "shell.execute_reply": "2021-08-29T09:06:42.103021Z",
     "shell.execute_reply.started": "2021-08-29T09:06:42.088738Z"
    }
   },
   "outputs": [],
   "source": [
    "model.compile(loss = \"categorical_crossentropy\" , metrics = [\"accuracy\"])"
   ]
  },
  {
   "cell_type": "markdown",
   "metadata": {},
   "source": [
    "Data Augmentation"
   ]
  },
  {
   "cell_type": "code",
   "execution_count": null,
   "metadata": {
    "execution": {
     "iopub.execute_input": "2021-08-29T09:06:44.262497Z",
     "iopub.status.busy": "2021-08-29T09:06:44.26215Z",
     "iopub.status.idle": "2021-08-29T09:06:44.26768Z",
     "shell.execute_reply": "2021-08-29T09:06:44.266531Z",
     "shell.execute_reply.started": "2021-08-29T09:06:44.262462Z"
    }
   },
   "outputs": [],
   "source": [
    "from tensorflow.keras.preprocessing.image import ImageDataGenerator\n",
    "\n",
    "datagen = ImageDataGenerator(\n",
    "    rotation_range=10,  # randomly rotate images \n",
    "    zoom_range=0.1,  # Randomly zoom image\n",
    "    width_shift_range=0.1,  # randomly shift images horizontally \n",
    "    height_shift_range=0.1,  # randomly shift images vertically \n",
    "    horizontal_flip=True,  # randomly flip images horizontally\n",
    "    vertical_flip=False) "
   ]
  },
  {
   "cell_type": "markdown",
   "metadata": {},
   "source": [
    "Load Dataset"
   ]
  },
  {
   "cell_type": "code",
   "execution_count": null,
   "metadata": {
    "execution": {
     "iopub.execute_input": "2021-08-29T09:06:47.683932Z",
     "iopub.status.busy": "2021-08-29T09:06:47.683578Z",
     "iopub.status.idle": "2021-08-29T09:06:56.371823Z",
     "shell.execute_reply": "2021-08-29T09:06:56.370968Z",
     "shell.execute_reply.started": "2021-08-29T09:06:47.683898Z"
    }
   },
   "outputs": [],
   "source": [
    "train_it = datagen.flow_from_directory('../input/fruits-fresh-and-rotten-for-classification/dataset/train', \n",
    "                                       target_size=(224, 224), \n",
    "                                       color_mode='rgb', \n",
    "                                       class_mode=\"categorical\")\n",
    "valid_it = datagen.flow_from_directory('../input/fruits-fresh-and-rotten-for-classification/dataset/test', \n",
    "                                      target_size=(224, 224), \n",
    "                                      color_mode='rgb', \n",
    "                                      class_mode=\"categorical\")"
   ]
  },
  {
   "cell_type": "markdown",
   "metadata": {},
   "source": [
    "Train the Model"
   ]
  },
  {
   "cell_type": "code",
   "execution_count": null,
   "metadata": {
    "execution": {
     "iopub.execute_input": "2021-08-29T09:07:02.153719Z",
     "iopub.status.busy": "2021-08-29T09:07:02.153385Z",
     "iopub.status.idle": "2021-08-29T10:14:22.609791Z",
     "shell.execute_reply": "2021-08-29T10:14:22.608977Z",
     "shell.execute_reply.started": "2021-08-29T09:07:02.153686Z"
    }
   },
   "outputs": [],
   "source": [
    "model.fit(train_it,\n",
    "          validation_data=valid_it,\n",
    "          steps_per_epoch=train_it.samples/train_it.batch_size,\n",
    "          validation_steps=valid_it.samples/valid_it.batch_size,\n",
    "          epochs=20)"
   ]
  },
  {
   "cell_type": "markdown",
   "metadata": {},
   "source": [
    "Evaluate"
   ]
  },
  {
   "cell_type": "code",
   "execution_count": null,
   "metadata": {
    "execution": {
     "iopub.execute_input": "2021-08-29T10:18:07.515866Z",
     "iopub.status.busy": "2021-08-29T10:18:07.515497Z",
     "iopub.status.idle": "2021-08-29T10:18:47.785793Z",
     "shell.execute_reply": "2021-08-29T10:18:47.785053Z",
     "shell.execute_reply.started": "2021-08-29T10:18:07.515813Z"
    }
   },
   "outputs": [],
   "source": [
    "model.evaluate(valid_it, steps=valid_it.samples/valid_it.batch_size)"
   ]
  }
 ],
 "metadata": {
  "kernelspec": {
   "display_name": "Python 3 (ipykernel)",
   "language": "python",
   "name": "python3"
  },
  "language_info": {
   "codemirror_mode": {
    "name": "ipython",
    "version": 3
   },
   "file_extension": ".py",
   "mimetype": "text/x-python",
   "name": "python",
   "nbconvert_exporter": "python",
   "pygments_lexer": "ipython3",
   "version": "3.10.6"
  },
  "varInspector": {
   "cols": {
    "lenName": 16,
    "lenType": 16,
    "lenVar": 40
   },
   "kernels_config": {
    "python": {
     "delete_cmd_postfix": "",
     "delete_cmd_prefix": "del ",
     "library": "var_list.py",
     "varRefreshCmd": "print(var_dic_list())"
    },
    "r": {
     "delete_cmd_postfix": ") ",
     "delete_cmd_prefix": "rm(",
     "library": "var_list.r",
     "varRefreshCmd": "cat(var_dic_list()) "
    }
   },
   "types_to_exclude": [
    "module",
    "function",
    "builtin_function_or_method",
    "instance",
    "_Feature"
   ],
   "window_display": false
  },
  "vscode": {
   "interpreter": {
    "hash": "a42ccb73e7d9bfdf27e036f1d2b8b681e55fc0743cc5586bc2474d4a60f4b886"
   }
  }
 },
 "nbformat": 4,
 "nbformat_minor": 4
}
