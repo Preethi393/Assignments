{
 "cells": [
  {
   "cell_type": "code",
   "execution_count": 1,
   "id": "2c001a74",
   "metadata": {
    "ExecuteTime": {
     "end_time": "2023-07-28T09:04:49.357745Z",
     "start_time": "2023-07-28T09:04:49.352874Z"
    }
   },
   "outputs": [
    {
     "name": "stdout",
     "output_type": "stream",
     "text": [
      "([1, 3], [4, 6])\n"
     ]
    }
   ],
   "source": [
    "# Find the Difference of Two Arrays\n",
    "\n",
    "num1 = [1,2,3]\n",
    "num2 = [2,4,6]\n",
    "a = []\n",
    "b = []\n",
    "for i in num1:\n",
    "    if i not in num2:\n",
    "        a.append(i)\n",
    "# print(a)\n",
    "for i in num2:\n",
    "    if i not in num1:\n",
    "        b.append(i)\n",
    "# print(b)\n",
    "c = a,b\n",
    "print(c)"
   ]
  },
  {
   "cell_type": "code",
   "execution_count": 2,
   "id": "883630c3",
   "metadata": {
    "ExecuteTime": {
     "end_time": "2023-07-28T09:04:49.369110Z",
     "start_time": "2023-07-28T09:04:49.361514Z"
    }
   },
   "outputs": [
    {
     "name": "stdout",
     "output_type": "stream",
     "text": [
      "[{3}, set()]\n"
     ]
    }
   ],
   "source": [
    "nums1 = [1,2,3,3]\n",
    "nums2 = [1,1,2,2]\n",
    "a = []\n",
    "b = []\n",
    "for i in nums1:\n",
    "    if i not in nums2:\n",
    "        a.append(i)\n",
    "for i in nums2:\n",
    "    if i not in nums1:\n",
    "        b.append(i)\n",
    "c = [set(a),set(b)]\n",
    "print(c)"
   ]
  },
  {
   "cell_type": "code",
   "execution_count": 3,
   "id": "6cf90f95",
   "metadata": {
    "ExecuteTime": {
     "end_time": "2023-07-28T09:04:49.378477Z",
     "start_time": "2023-07-28T09:04:49.372854Z"
    }
   },
   "outputs": [
    {
     "name": "stdout",
     "output_type": "stream",
     "text": [
      "([1, 3], [4, 6])\n"
     ]
    }
   ],
   "source": [
    "a = [i for i in num1 if i not in num2]\n",
    "b = [i for i in num2 if i not in num1]\n",
    "c = a,b\n",
    "print(c)"
   ]
  },
  {
   "cell_type": "code",
   "execution_count": 4,
   "id": "0abc8617",
   "metadata": {
    "ExecuteTime": {
     "end_time": "2023-07-28T09:04:49.389757Z",
     "start_time": "2023-07-28T09:04:49.381476Z"
    }
   },
   "outputs": [
    {
     "name": "stdout",
     "output_type": "stream",
     "text": [
      "[1, 7]\n"
     ]
    }
   ],
   "source": [
    "lst = [1,2,2,3,3,4,4,5,5,7]\n",
    "a = [i for i in lst if lst.count(i)<2]\n",
    "print(a)"
   ]
  },
  {
   "cell_type": "code",
   "execution_count": 5,
   "id": "91c12d48",
   "metadata": {
    "ExecuteTime": {
     "end_time": "2023-07-28T09:04:49.402269Z",
     "start_time": "2023-07-28T09:04:49.396139Z"
    }
   },
   "outputs": [
    {
     "name": "stdout",
     "output_type": "stream",
     "text": [
      "1\n"
     ]
    }
   ],
   "source": [
    "# Single Number\n",
    "\n",
    "list1 = [2,2,1]\n",
    "for i in list1:\n",
    "    if list1.count(i)<2:\n",
    "        print(i)"
   ]
  },
  {
   "cell_type": "code",
   "execution_count": 6,
   "id": "f42ce588",
   "metadata": {
    "ExecuteTime": {
     "end_time": "2023-07-28T09:04:49.410674Z",
     "start_time": "2023-07-28T09:04:49.405215Z"
    }
   },
   "outputs": [
    {
     "name": "stdout",
     "output_type": "stream",
     "text": [
      "3\n"
     ]
    }
   ],
   "source": [
    "nums = [2,2,3,2]\n",
    "for i in nums:\n",
    "    if nums.count(i)<2:\n",
    "        print(i)"
   ]
  },
  {
   "cell_type": "code",
   "execution_count": 7,
   "id": "a7547ff3",
   "metadata": {
    "ExecuteTime": {
     "end_time": "2023-07-28T09:04:49.420467Z",
     "start_time": "2023-07-28T09:04:49.414015Z"
    }
   },
   "outputs": [
    {
     "name": "stdout",
     "output_type": "stream",
     "text": [
      "[1, 2, 3, 4, 5]\n"
     ]
    }
   ],
   "source": [
    "lst = [1,2,2,3,3,4,4,5,5]\n",
    "num = []\n",
    "for i in lst:\n",
    "    if i not in num:\n",
    "        num.append(i)\n",
    "print(num)"
   ]
  },
  {
   "cell_type": "code",
   "execution_count": 8,
   "id": "5215848b",
   "metadata": {
    "ExecuteTime": {
     "end_time": "2023-07-28T09:04:49.430288Z",
     "start_time": "2023-07-28T09:04:49.423783Z"
    }
   },
   "outputs": [
    {
     "name": "stdout",
     "output_type": "stream",
     "text": [
      "8\n"
     ]
    }
   ],
   "source": [
    "# Count Negative Numbers in a Sorted Matrix\n",
    "\n",
    "grid = [[4,3,2,-1],[3,2,1,-1],[1,1,-1,-2],[-1,-1,-2,-3]]\n",
    "count = 0\n",
    "for i in range(len(grid)):\n",
    "    for j in range(len(grid[i])):\n",
    "         if grid[i][j] < 0:\n",
    "                count = count + 1\n",
    "print(count)"
   ]
  },
  {
   "cell_type": "code",
   "execution_count": 9,
   "id": "e2575a65",
   "metadata": {
    "ExecuteTime": {
     "end_time": "2023-07-28T09:04:49.442120Z",
     "start_time": "2023-07-28T09:04:49.435410Z"
    }
   },
   "outputs": [
    {
     "name": "stdout",
     "output_type": "stream",
     "text": [
      "8\n"
     ]
    }
   ],
   "source": [
    "grid = [[4,3,2,-1],[3,2,1,-1],[1,1,-1,-2],[-1,-1,-2,-3]]\n",
    "count = 0\n",
    "for i in grid:\n",
    "    for j in i:\n",
    "        if j < 0:\n",
    "            count = count + 1\n",
    "print(count)"
   ]
  },
  {
   "cell_type": "code",
   "execution_count": 10,
   "id": "cc4af323",
   "metadata": {
    "ExecuteTime": {
     "end_time": "2023-07-28T09:04:49.450827Z",
     "start_time": "2023-07-28T09:04:49.444693Z"
    }
   },
   "outputs": [
    {
     "name": "stdout",
     "output_type": "stream",
     "text": [
      "[2, 3]\n"
     ]
    }
   ],
   "source": [
    "# Sum of two numbers (Two sum)\n",
    "\n",
    "nums = [2,7,11,15]\n",
    "target = 26\n",
    "n = len(nums)\n",
    "for i in range(n):\n",
    "    for j in range(i + 1, n):\n",
    "        if nums[i] + nums[j] == target:\n",
    "            print([i,j])"
   ]
  },
  {
   "cell_type": "code",
   "execution_count": 11,
   "id": "4ccf591f",
   "metadata": {
    "ExecuteTime": {
     "end_time": "2023-07-28T09:04:49.466046Z",
     "start_time": "2023-07-28T09:04:49.454629Z"
    }
   },
   "outputs": [
    {
     "data": {
      "text/plain": [
       "True"
      ]
     },
     "execution_count": 11,
     "metadata": {},
     "output_type": "execute_result"
    }
   ],
   "source": [
    "def containsDuplicate(nums):\n",
    "#     nums.sort()\n",
    "    for i in range(len(nums) - 1):\n",
    "        if nums[i] == nums[i + 1]:\n",
    "            return True\n",
    "    return False\n",
    "containsDuplicate(nums= [1,1,2,3])"
   ]
  },
  {
   "cell_type": "code",
   "execution_count": 12,
   "id": "eacc20e2",
   "metadata": {
    "ExecuteTime": {
     "end_time": "2023-07-28T09:04:49.474226Z",
     "start_time": "2023-07-28T09:04:49.470117Z"
    }
   },
   "outputs": [
    {
     "name": "stdout",
     "output_type": "stream",
     "text": [
      "[1, 2]\n"
     ]
    }
   ],
   "source": [
    "nums = [1,1,2]\n",
    "a = []\n",
    "for i in nums:\n",
    "    if i not in a:\n",
    "        a.append(i)\n",
    "print(a)"
   ]
  },
  {
   "cell_type": "code",
   "execution_count": 13,
   "id": "5f50f2de",
   "metadata": {
    "ExecuteTime": {
     "end_time": "2023-07-28T09:04:49.481812Z",
     "start_time": "2023-07-28T09:04:49.476605Z"
    }
   },
   "outputs": [
    {
     "name": "stdout",
     "output_type": "stream",
     "text": [
      "amanaplanacanalpanama\n"
     ]
    }
   ],
   "source": [
    "# Valid palindrome\n",
    "s = \"A man, a plan, a canal: Panama\"\n",
    "s = ''.join(c.lower() for c in s if c.isalnum())\n",
    "print(s[::-1])"
   ]
  },
  {
   "cell_type": "code",
   "execution_count": 14,
   "id": "93b45365",
   "metadata": {
    "ExecuteTime": {
     "end_time": "2023-07-28T09:04:49.489457Z",
     "start_time": "2023-07-28T09:04:49.484287Z"
    },
    "scrolled": true
   },
   "outputs": [
    {
     "name": "stdout",
     "output_type": "stream",
     "text": [
      "True\n"
     ]
    }
   ],
   "source": [
    "s = \"malayalam\"\n",
    "s = ''.join(c.lower() for c in s if c.isalnum())\n",
    "print(s==s[::-1])"
   ]
  },
  {
   "cell_type": "code",
   "execution_count": 15,
   "id": "5c34fc39",
   "metadata": {
    "ExecuteTime": {
     "end_time": "2023-07-28T09:04:49.497652Z",
     "start_time": "2023-07-28T09:04:49.491910Z"
    }
   },
   "outputs": [
    {
     "name": "stdout",
     "output_type": "stream",
     "text": [
      "654321\n"
     ]
    }
   ],
   "source": [
    "# Convert the variable to a string and then use string slicing\n",
    "num = 123456\n",
    "print(str(num)[::-1])"
   ]
  },
  {
   "cell_type": "code",
   "execution_count": 16,
   "id": "57f9aa24",
   "metadata": {
    "ExecuteTime": {
     "end_time": "2023-07-28T09:04:49.505232Z",
     "start_time": "2023-07-28T09:04:49.500201Z"
    }
   },
   "outputs": [
    {
     "name": "stdout",
     "output_type": "stream",
     "text": [
      "True\n"
     ]
    }
   ],
   "source": [
    "# Palindrome Number\n",
    "\n",
    "x = 121\n",
    "if str(x) == str(x)[::-1]:\n",
    "    print(True)\n",
    "else:\n",
    "    print(False)"
   ]
  },
  {
   "cell_type": "code",
   "execution_count": 17,
   "id": "f47144d5",
   "metadata": {
    "ExecuteTime": {
     "end_time": "2023-07-28T09:04:49.515072Z",
     "start_time": "2023-07-28T09:04:49.507569Z"
    }
   },
   "outputs": [
    {
     "name": "stdout",
     "output_type": "stream",
     "text": [
      "5\n"
     ]
    }
   ],
   "source": [
    "# Maximum Value of a String in an Array\n",
    "\n",
    "strs = [\"alic3\",\"bob\",\"3\",\"4\",\"00000\"]\n",
    "\n",
    "print(max(int(s) if s.isdigit() else len(s) for s in strs))"
   ]
  },
  {
   "cell_type": "code",
   "execution_count": 18,
   "id": "c137755a",
   "metadata": {
    "ExecuteTime": {
     "end_time": "2023-07-28T09:04:49.526690Z",
     "start_time": "2023-07-28T09:04:49.518155Z"
    }
   },
   "outputs": [
    {
     "data": {
      "text/plain": [
       "2"
      ]
     },
     "execution_count": 18,
     "metadata": {},
     "output_type": "execute_result"
    }
   ],
   "source": [
    "# Find square root of a number\n",
    "\n",
    "def mySqrt(x):\n",
    "    if x == 0:\n",
    "        return 0\n",
    "    for i in range(1,x+1):\n",
    "        if i * i == x:\n",
    "            return i\n",
    "        elif i * i > x:\n",
    "            return (i-1)\n",
    "mySqrt(x=5)"
   ]
  },
  {
   "cell_type": "code",
   "execution_count": 19,
   "id": "18aca77d",
   "metadata": {
    "ExecuteTime": {
     "end_time": "2023-07-28T09:04:49.539240Z",
     "start_time": "2023-07-28T09:04:49.530451Z"
    }
   },
   "outputs": [
    {
     "data": {
      "text/plain": [
       "-321"
      ]
     },
     "execution_count": 19,
     "metadata": {},
     "output_type": "execute_result"
    }
   ],
   "source": [
    "def reverse_integer(x):\n",
    "    is_negative = False\n",
    "    if x < 0:\n",
    "        is_negative = True\n",
    "        x = abs(x)\n",
    "        \n",
    "    reversed_str = str(x)[::-1]\n",
    "    reversed_int = int(reversed_str)\n",
    "    \n",
    "     # Check if the reversed integer exceeds the range\n",
    "    if reversed_int > 2**31 - 1:  # Check for 32-bit signed integer range\n",
    "        return 0\n",
    "    \n",
    "    if is_negative:\n",
    "        reversed_int = reversed_int * -1\n",
    "    return reversed_int\n",
    "reverse_integer(-123)"
   ]
  },
  {
   "cell_type": "code",
   "execution_count": 20,
   "id": "2af811de",
   "metadata": {
    "ExecuteTime": {
     "end_time": "2023-07-28T09:04:49.546173Z",
     "start_time": "2023-07-28T09:04:49.542037Z"
    }
   },
   "outputs": [
    {
     "data": {
      "text/plain": [
       "2147483648"
      ]
     },
     "execution_count": 20,
     "metadata": {},
     "output_type": "execute_result"
    }
   ],
   "source": [
    "2**31"
   ]
  },
  {
   "cell_type": "code",
   "execution_count": 21,
   "id": "9d05f914",
   "metadata": {
    "ExecuteTime": {
     "end_time": "2023-07-28T09:04:49.555431Z",
     "start_time": "2023-07-28T09:04:49.548276Z"
    }
   },
   "outputs": [
    {
     "data": {
      "text/plain": [
       "['ad', 'bd', 'cd', 'ae', 'be', 'ce', 'af', 'bf', 'cf']"
      ]
     },
     "execution_count": 21,
     "metadata": {},
     "output_type": "execute_result"
    }
   ],
   "source": [
    "def letterCombinations(digits = 23):\n",
    "    if not digits:\n",
    "        return []\n",
    "    d = {\"2\":\"abc\",\"3\":\"def\",\"4\":\"ghi\",\"5\":\"jkl\",\"6\":\"mno\",\"7\":\"pqrs\",\"8\":\"tuv\",\"9\":\"wxyz\"}\n",
    "    res = [\"\"]\n",
    "    for i in digits:\n",
    "        x = []\n",
    "        for j in d[i]:\n",
    "            for k in res:\n",
    "                x.append(k + j)\n",
    "        res = x\n",
    "    return res\n",
    "letterCombinations(digits = \"23\")"
   ]
  },
  {
   "cell_type": "code",
   "execution_count": 22,
   "id": "22187a10",
   "metadata": {
    "ExecuteTime": {
     "end_time": "2023-07-28T09:04:49.569246Z",
     "start_time": "2023-07-28T09:04:49.557881Z"
    }
   },
   "outputs": [
    {
     "data": {
      "text/plain": [
       "['pt', 'pu', 'pv', 'qt', 'qu', 'qv', 'rt', 'ru', 'rv', 'st', 'su', 'sv']"
      ]
     },
     "execution_count": 22,
     "metadata": {},
     "output_type": "execute_result"
    }
   ],
   "source": [
    "def LetterComb(digits):\n",
    "    if not digits:\n",
    "        return []\n",
    "    \n",
    "    nums = {\"2\": \"abc\", \"3\": \"def\", \"4\": \"ghi\", \"5\": \"jkl\", \"6\": \"mno\", \"7\": \"pqrs\", \"8\": \"tuv\", \"9\": \"wxyz\"}\n",
    "    res = []\n",
    "    \n",
    "    def backTrack(combination, next_digits):\n",
    "        if not next_digits:\n",
    "            res.append(combination)\n",
    "            return\n",
    "        \n",
    "        for letter in nums[next_digits[0]]:\n",
    "            backTrack(combination + letter, next_digits[1:])        \n",
    "    backTrack(\"\", digits)\n",
    "    return res\n",
    "\n",
    "LetterComb(\"78\")"
   ]
  },
  {
   "cell_type": "code",
   "execution_count": 23,
   "id": "81cf6098",
   "metadata": {
    "ExecuteTime": {
     "end_time": "2023-07-28T09:04:49.579482Z",
     "start_time": "2023-07-28T09:04:49.572747Z"
    }
   },
   "outputs": [
    {
     "name": "stdout",
     "output_type": "stream",
     "text": [
      "1\n",
      "2\n"
     ]
    }
   ],
   "source": [
    "num = [1,1,2]\n",
    "i = 0\n",
    "for j in range(1, len(num)):\n",
    "    if num[j] != num[i]:\n",
    "        i = i + 1\n",
    "        num[i] = num[j]\n",
    "    print(i+1)\n",
    "    "
   ]
  },
  {
   "cell_type": "code",
   "execution_count": 24,
   "id": "f148f573",
   "metadata": {
    "ExecuteTime": {
     "end_time": "2023-07-28T09:04:49.588681Z",
     "start_time": "2023-07-28T09:04:49.583086Z"
    }
   },
   "outputs": [
    {
     "name": "stdout",
     "output_type": "stream",
     "text": [
      "[1, 2]\n"
     ]
    }
   ],
   "source": [
    "n = [1,1,2]\n",
    "a = []\n",
    "for i in n:\n",
    "    if i not in a:\n",
    "        a.append(i)\n",
    "print(a)"
   ]
  },
  {
   "cell_type": "code",
   "execution_count": 25,
   "id": "463cfc2d",
   "metadata": {
    "ExecuteTime": {
     "end_time": "2023-07-28T09:04:49.601667Z",
     "start_time": "2023-07-28T09:04:49.595356Z"
    }
   },
   "outputs": [
    {
     "data": {
      "text/plain": [
       "'25'"
      ]
     },
     "execution_count": 25,
     "metadata": {},
     "output_type": "execute_result"
    }
   ],
   "source": [
    "# Multiply Two strings\n",
    "\n",
    "num1 = \"5\"\n",
    "num2 = \"5\"\n",
    "mul = str(int(num1) * int(num2))\n",
    "mul"
   ]
  },
  {
   "cell_type": "code",
   "execution_count": 26,
   "id": "55059a30",
   "metadata": {
    "ExecuteTime": {
     "end_time": "2023-07-28T09:04:49.611451Z",
     "start_time": "2023-07-28T09:04:49.605267Z"
    }
   },
   "outputs": [
    {
     "name": "stdout",
     "output_type": "stream",
     "text": [
      "[1, 2, 4]\n"
     ]
    }
   ],
   "source": [
    "# Plus one\n",
    "\n",
    "digits = [1,2,3]\n",
    "strings = ''\n",
    "for i in digits:\n",
    "    strings = strings + str(i)\n",
    "    \n",
    "temp = str(int(strings) + 1)\n",
    "\n",
    "print([int(temp[i]) for i in range(len(temp))])"
   ]
  },
  {
   "cell_type": "code",
   "execution_count": 27,
   "id": "7afd76f2",
   "metadata": {
    "ExecuteTime": {
     "end_time": "2023-07-28T09:04:49.622592Z",
     "start_time": "2023-07-28T09:04:49.617413Z"
    }
   },
   "outputs": [
    {
     "data": {
      "text/plain": [
       "'1'"
      ]
     },
     "execution_count": 27,
     "metadata": {},
     "output_type": "execute_result"
    }
   ],
   "source": [
    "'' + '1'"
   ]
  },
  {
   "cell_type": "code",
   "execution_count": 28,
   "id": "ca2c0db8",
   "metadata": {
    "ExecuteTime": {
     "end_time": "2023-07-28T09:04:49.633259Z",
     "start_time": "2023-07-28T09:04:49.625945Z"
    }
   },
   "outputs": [
    {
     "data": {
      "text/plain": [
       "[5, 4, 3, 2, 1]"
      ]
     },
     "execution_count": 28,
     "metadata": {},
     "output_type": "execute_result"
    }
   ],
   "source": [
    "head = [1,2,3,4,5]\n",
    "head.reverse()\n",
    "head"
   ]
  },
  {
   "cell_type": "code",
   "execution_count": 29,
   "id": "2af7de67",
   "metadata": {
    "ExecuteTime": {
     "end_time": "2023-07-28T09:04:49.641675Z",
     "start_time": "2023-07-28T09:04:49.636606Z"
    }
   },
   "outputs": [
    {
     "data": {
      "text/plain": [
       "[]"
      ]
     },
     "execution_count": 29,
     "metadata": {},
     "output_type": "execute_result"
    }
   ],
   "source": [
    "head = []\n",
    "head.reverse()\n",
    "head"
   ]
  },
  {
   "cell_type": "code",
   "execution_count": 30,
   "id": "c623a655",
   "metadata": {
    "ExecuteTime": {
     "end_time": "2023-07-28T09:04:49.649944Z",
     "start_time": "2023-07-28T09:04:49.643646Z"
    }
   },
   "outputs": [
    {
     "data": {
      "text/plain": [
       "1024.0"
      ]
     },
     "execution_count": 30,
     "metadata": {},
     "output_type": "execute_result"
    }
   ],
   "source": [
    "x = 2.00000 \n",
    "n = 10\n",
    "pow(x,n)"
   ]
  },
  {
   "cell_type": "code",
   "execution_count": 31,
   "id": "57df59ea",
   "metadata": {
    "ExecuteTime": {
     "end_time": "2023-07-28T09:04:49.658973Z",
     "start_time": "2023-07-28T09:04:49.652414Z"
    }
   },
   "outputs": [
    {
     "data": {
      "text/plain": [
       "8"
      ]
     },
     "execution_count": 31,
     "metadata": {},
     "output_type": "execute_result"
    }
   ],
   "source": [
    "def power(x, n):\n",
    "    if n == 0:\n",
    "        return 1.0\n",
    "\n",
    "    if x == 0:\n",
    "        return 0.0\n",
    "\n",
    "    if n < 0:\n",
    "        x = 1.0 / x\n",
    "        n = -n\n",
    "\n",
    "    def pow_recursive(x, n):\n",
    "        if n == 1:\n",
    "            return x\n",
    "        elif n % 2 == 0:\n",
    "            return pow_recursive(x * x, n // 2)\n",
    "        else:\n",
    "            return x * pow_recursive(x * x, (n - 1) // 2)\n",
    "\n",
    "    return pow_recursive(x, n)\n",
    "\n",
    "power(2,3)"
   ]
  },
  {
   "cell_type": "code",
   "execution_count": 32,
   "id": "366c5f30",
   "metadata": {
    "ExecuteTime": {
     "end_time": "2023-07-28T09:04:49.667919Z",
     "start_time": "2023-07-28T09:04:49.661328Z"
    }
   },
   "outputs": [
    {
     "data": {
      "text/plain": [
       "True"
      ]
     },
     "execution_count": 32,
     "metadata": {},
     "output_type": "execute_result"
    }
   ],
   "source": [
    "# Valid Paranthesis\n",
    "\n",
    "def isvalid(brackets):\n",
    "    a = []\n",
    "    for i in brackets:\n",
    "        if i == '(' or i == '{' or i == '[':\n",
    "            a.append(i)\n",
    "        else:\n",
    "            if not a:\n",
    "                return False\n",
    "            else:\n",
    "                if i == ')':\n",
    "                    if a.pop()!='(':\n",
    "                        return False\n",
    "                elif i == '}':\n",
    "                    if a.pop()!='{':\n",
    "                        return False  \n",
    "                else:\n",
    "                    if i == ']':\n",
    "                        if a.pop()!='[':\n",
    "                            return False\n",
    "    if a:\n",
    "        return False\n",
    "    return True\n",
    "\n",
    "brackets = '()'\n",
    "isvalid(brackets)"
   ]
  },
  {
   "cell_type": "code",
   "execution_count": 33,
   "id": "91ed674a",
   "metadata": {
    "ExecuteTime": {
     "end_time": "2023-07-28T09:04:49.681250Z",
     "start_time": "2023-07-28T09:04:49.670200Z"
    }
   },
   "outputs": [
    {
     "data": {
      "text/plain": [
       "3"
      ]
     },
     "execution_count": 33,
     "metadata": {},
     "output_type": "execute_result"
    }
   ],
   "source": [
    "# Divide two integers\n",
    "\n",
    "def divide(dividend, divisor):\n",
    "    if divisor == 0:\n",
    "        return 2**31 - 1\n",
    "\n",
    "    if dividend == 0:\n",
    "        return 0\n",
    "\n",
    "    if dividend == -2**31 and divisor == -1:\n",
    "        return 2**31 - 1\n",
    "\n",
    "    is_negative = (dividend < 0) ^ (divisor < 0)\n",
    "    dividend = abs(dividend)\n",
    "    divisor = abs(divisor)\n",
    "\n",
    "    quotient = 0\n",
    "    while dividend >= divisor:\n",
    "        dividend = dividend - divisor\n",
    "        quotient = quotient + 1\n",
    "\n",
    "    if is_negative:\n",
    "        quotient = -quotient\n",
    "\n",
    "    return quotient\n",
    "\n",
    "dividend = 10\n",
    "divisor = 3\n",
    "divide(dividend, divisor)"
   ]
  },
  {
   "cell_type": "code",
   "execution_count": 34,
   "id": "4d1ca497",
   "metadata": {
    "ExecuteTime": {
     "end_time": "2023-07-28T09:04:49.690093Z",
     "start_time": "2023-07-28T09:04:49.683964Z"
    }
   },
   "outputs": [
    {
     "name": "stdout",
     "output_type": "stream",
     "text": [
      "3\n",
      "-2\n"
     ]
    }
   ],
   "source": [
    "def divide(dividend, divisor):\n",
    "    # Check for overflow and special cases\n",
    "    if dividend == -(2**31) and divisor == -1:\n",
    "        return 2**31 - 1\n",
    "    \n",
    "    if divisor == 1:\n",
    "        return dividend\n",
    "    \n",
    "    if divisor == -1:\n",
    "        return -dividend if dividend != -(2**31) else 2**31 - 1\n",
    "    \n",
    "    # Determine the signs of the dividend and divisor\n",
    "    negative_result = (dividend < 0) ^ (divisor < 0)\n",
    "    dividend, divisor = abs(dividend), abs(divisor)\n",
    "    \n",
    "    result = 0\n",
    "    while dividend >= divisor:\n",
    "        temp_divisor, multiple = divisor, 1\n",
    "        while dividend >= temp_divisor:\n",
    "            dividend -= temp_divisor\n",
    "            result += multiple\n",
    "            \n",
    "            temp_divisor <<= 1\n",
    "            multiple <<= 1\n",
    "    \n",
    "    return -result if negative_result else result\n",
    "\n",
    "# Test cases\n",
    "print(divide(10, 3))  # Output: 3\n",
    "print(divide(7, -3))  # Output: -2\n"
   ]
  },
  {
   "cell_type": "code",
   "execution_count": 35,
   "id": "1d95dd48",
   "metadata": {
    "ExecuteTime": {
     "end_time": "2023-07-28T09:04:49.701619Z",
     "start_time": "2023-07-28T09:04:49.692331Z"
    }
   },
   "outputs": [
    {
     "data": {
      "text/plain": [
       "2147483648"
      ]
     },
     "execution_count": 35,
     "metadata": {},
     "output_type": "execute_result"
    }
   ],
   "source": [
    "2**31 "
   ]
  },
  {
   "cell_type": "code",
   "execution_count": 36,
   "id": "516b1137",
   "metadata": {
    "ExecuteTime": {
     "end_time": "2023-07-28T09:04:49.709513Z",
     "start_time": "2023-07-28T09:04:49.703886Z"
    }
   },
   "outputs": [
    {
     "name": "stdout",
     "output_type": "stream",
     "text": [
      "[[1], [1, 1], [1, 2, 1], [1, 3, 3, 1], [1, 4, 6, 4, 1]]\n"
     ]
    }
   ],
   "source": [
    "# Pascal Triangle\n",
    "\n",
    "num_rows = 5\n",
    "triangle = []\n",
    "\n",
    "for i in range(num_rows):\n",
    "    row = [1] * (i+1)\n",
    "    \n",
    "    if i >= 2:\n",
    "        prev_row = triangle[i - 1]\n",
    "        \n",
    "        for j in range(1,i):\n",
    "            row[j] = prev_row[j - 1] + prev_row[j]\n",
    "            \n",
    "    triangle.append(row)\n",
    "    \n",
    "print(triangle)"
   ]
  },
  {
   "cell_type": "code",
   "execution_count": 37,
   "id": "72a83cbf",
   "metadata": {
    "ExecuteTime": {
     "end_time": "2023-07-28T09:04:49.717485Z",
     "start_time": "2023-07-28T09:04:49.711929Z"
    }
   },
   "outputs": [
    {
     "name": "stdout",
     "output_type": "stream",
     "text": [
      "[1, 3, 3, 1]\n"
     ]
    }
   ],
   "source": [
    "# Pascal Triangle-2\n",
    "rowIndex = 3\n",
    "row = [1] * (rowIndex + 1)\n",
    "\n",
    "for i in range(2, rowIndex + 1):\n",
    "    for j in range(i - 1, 0, -1):\n",
    "        row[j] = row[j] + row[j - 1]\n",
    "\n",
    "print(row)"
   ]
  },
  {
   "cell_type": "code",
   "execution_count": 38,
   "id": "9f6f9d2a",
   "metadata": {
    "ExecuteTime": {
     "end_time": "2023-07-28T09:04:49.725531Z",
     "start_time": "2023-07-28T09:04:49.720102Z"
    }
   },
   "outputs": [
    {
     "name": "stdout",
     "output_type": "stream",
     "text": [
      "3\n",
      "2\n",
      "1\n"
     ]
    }
   ],
   "source": [
    "i = 4\n",
    "for j in range(i - 1, 0, -1):\n",
    "    print(j)"
   ]
  },
  {
   "cell_type": "code",
   "execution_count": 39,
   "id": "85a3b0d0",
   "metadata": {
    "ExecuteTime": {
     "end_time": "2023-07-28T09:04:49.734539Z",
     "start_time": "2023-07-28T09:04:49.727754Z"
    }
   },
   "outputs": [
    {
     "data": {
      "text/plain": [
       "True"
      ]
     },
     "execution_count": 39,
     "metadata": {},
     "output_type": "execute_result"
    }
   ],
   "source": [
    "def is_power_of_two(n):\n",
    "    if n <= 0:\n",
    "        return False\n",
    "    \n",
    "    while n % 2 == 0:\n",
    "        n = n//2\n",
    "    \n",
    "    return n == 1\n",
    "\n",
    "is_power_of_two(32)"
   ]
  },
  {
   "cell_type": "code",
   "execution_count": 40,
   "id": "f1274e77",
   "metadata": {
    "ExecuteTime": {
     "end_time": "2023-07-28T09:04:49.744342Z",
     "start_time": "2023-07-28T09:04:49.736847Z"
    }
   },
   "outputs": [
    {
     "data": {
      "text/plain": [
       "True"
      ]
     },
     "execution_count": 40,
     "metadata": {},
     "output_type": "execute_result"
    }
   ],
   "source": [
    "def is_power_of_two(n):\n",
    "    if n <= 0:\n",
    "        return False\n",
    "    \n",
    "    while n % 3 == 0:\n",
    "        n = n//3\n",
    "    \n",
    "    return n == 1\n",
    "\n",
    "is_power_of_two(27)"
   ]
  },
  {
   "cell_type": "code",
   "execution_count": 41,
   "id": "d0aa323f",
   "metadata": {
    "ExecuteTime": {
     "end_time": "2023-07-28T09:04:49.753494Z",
     "start_time": "2023-07-28T09:04:49.746500Z"
    }
   },
   "outputs": [
    {
     "data": {
      "text/plain": [
       "['o', 'l', 'l', 'e', 'h']"
      ]
     },
     "execution_count": 41,
     "metadata": {},
     "output_type": "execute_result"
    }
   ],
   "source": [
    "s = [\"h\",\"e\",\"l\",\"l\",\"o\"]\n",
    "s.reverse()\n",
    "s"
   ]
  },
  {
   "cell_type": "code",
   "execution_count": 42,
   "id": "cd34b311",
   "metadata": {
    "ExecuteTime": {
     "end_time": "2023-07-28T09:04:49.761717Z",
     "start_time": "2023-07-28T09:04:49.755711Z"
    }
   },
   "outputs": [
    {
     "name": "stdout",
     "output_type": "stream",
     "text": [
      "['o', 'l', 'l', 'e', 'h']\n"
     ]
    }
   ],
   "source": [
    "def reverseString(s):\n",
    "    left = 0\n",
    "    right = len(s) - 1\n",
    "\n",
    "    while left < right:\n",
    "        s[left], s[right] = s[right], s[left]\n",
    "        left = left + 1\n",
    "        right = right - 1\n",
    "\n",
    "s = [\"h\",\"e\",\"l\",\"l\",\"o\"]       \n",
    "reverseString(s)\n",
    "print(s)"
   ]
  },
  {
   "cell_type": "code",
   "execution_count": 43,
   "id": "9bfcfc63",
   "metadata": {
    "ExecuteTime": {
     "end_time": "2023-07-28T09:04:49.769234Z",
     "start_time": "2023-07-28T09:04:49.763953Z"
    }
   },
   "outputs": [
    {
     "name": "stdout",
     "output_type": "stream",
     "text": [
      "2\n"
     ]
    }
   ],
   "source": [
    "nums = [3,2,2,3]\n",
    "val = 3\n",
    "\n",
    "i = 0\n",
    "\n",
    "for j in range(len(nums)):\n",
    "    if nums[j] != val:\n",
    "        nums[i] = nums[j]\n",
    "        i = i + 1\n",
    "print(i)"
   ]
  },
  {
   "cell_type": "code",
   "execution_count": 44,
   "id": "5c953b46",
   "metadata": {
    "ExecuteTime": {
     "end_time": "2023-07-28T09:04:49.782970Z",
     "start_time": "2023-07-28T09:04:49.771539Z"
    }
   },
   "outputs": [
    {
     "data": {
      "text/plain": [
       "2"
      ]
     },
     "execution_count": 44,
     "metadata": {},
     "output_type": "execute_result"
    }
   ],
   "source": [
    "def removeElement(nums, val):\n",
    "    left = 0\n",
    "    right = len(nums) - 1\n",
    "\n",
    "    while left <= right:\n",
    "        if nums[left] == val:\n",
    "            nums[left], nums[right] = nums[right], nums[left]\n",
    "            right = right - 1\n",
    "        else:\n",
    "            left = left + 1\n",
    "\n",
    "    return left\n",
    "\n",
    "nums = [3,2,2,3]\n",
    "val = 3\n",
    "removeElement(nums, val)"
   ]
  },
  {
   "cell_type": "code",
   "execution_count": 45,
   "id": "7aa6399c",
   "metadata": {
    "ExecuteTime": {
     "end_time": "2023-07-28T09:04:49.790976Z",
     "start_time": "2023-07-28T09:04:49.785439Z"
    }
   },
   "outputs": [],
   "source": [
    "while val in nums :\n",
    "     nums.remove(val)"
   ]
  },
  {
   "cell_type": "code",
   "execution_count": 46,
   "id": "914aeba8",
   "metadata": {
    "ExecuteTime": {
     "end_time": "2023-07-28T09:04:49.799321Z",
     "start_time": "2023-07-28T09:04:49.793861Z"
    }
   },
   "outputs": [
    {
     "data": {
      "text/plain": [
       "2"
      ]
     },
     "execution_count": 46,
     "metadata": {},
     "output_type": "execute_result"
    }
   ],
   "source": [
    "def removeElement(nums, val):\n",
    "    i = 0\n",
    "    j = 0\n",
    "    \n",
    "    while i < len(nums):\n",
    "        if nums[i] != val:\n",
    "            nums[j] = nums[i]\n",
    "            j += 1\n",
    "        i += 1\n",
    "    \n",
    "    return j\n",
    "\n",
    "nums = [3,2,2,3]\n",
    "val = 3\n",
    "removeElement(nums, val)"
   ]
  },
  {
   "cell_type": "code",
   "execution_count": 47,
   "id": "da695e38",
   "metadata": {
    "ExecuteTime": {
     "end_time": "2023-07-28T09:04:49.808300Z",
     "start_time": "2023-07-28T09:04:49.801316Z"
    }
   },
   "outputs": [
    {
     "data": {
      "text/plain": [
       "2"
      ]
     },
     "execution_count": 47,
     "metadata": {},
     "output_type": "execute_result"
    }
   ],
   "source": [
    "def searchInsert(nums, target):\n",
    "    left = 0\n",
    "    right = len(nums) - 1\n",
    "\n",
    "    while left <= right:\n",
    "        mid = (left + right) // 2\n",
    "\n",
    "        if nums[mid] == target:\n",
    "            return mid\n",
    "        elif nums[mid] < target:\n",
    "            left = mid + 1\n",
    "        else:\n",
    "            right = mid - 1\n",
    "\n",
    "    return left\n",
    "\n",
    "nums = [1,3,5,6] \n",
    "target = 5\n",
    "searchInsert(nums, target)"
   ]
  },
  {
   "cell_type": "code",
   "execution_count": 48,
   "id": "86c56d08",
   "metadata": {
    "ExecuteTime": {
     "end_time": "2023-07-28T09:04:49.818388Z",
     "start_time": "2023-07-28T09:04:49.810298Z"
    }
   },
   "outputs": [
    {
     "data": {
      "text/plain": [
       "[0, 0, 1, 1, 2, 2]"
      ]
     },
     "execution_count": 48,
     "metadata": {},
     "output_type": "execute_result"
    }
   ],
   "source": [
    "# Sort Colors\n",
    "def sortColors(nums):\n",
    "    left = 0 \n",
    "    right = len(nums) - 1\n",
    "    curr = 0\n",
    "\n",
    "    while curr <= right:\n",
    "        if nums[curr] == 0:\n",
    "            nums[curr], nums[left] = nums[left], nums[curr]\n",
    "            curr = curr + 1\n",
    "            left = left + 1\n",
    "        elif nums[curr] == 2:\n",
    "            nums[curr], nums[right] = nums[right], nums[curr]\n",
    "            right = right - 1\n",
    "        else:\n",
    "            curr = curr + 1\n",
    "            \n",
    "    return nums\n",
    "            \n",
    "nums = [2,0,2,1,1,0]\n",
    "sortColors(nums)"
   ]
  },
  {
   "cell_type": "code",
   "execution_count": 49,
   "id": "a78a0b4f",
   "metadata": {
    "ExecuteTime": {
     "end_time": "2023-07-28T09:04:49.826753Z",
     "start_time": "2023-07-28T09:04:49.820451Z"
    }
   },
   "outputs": [
    {
     "name": "stdout",
     "output_type": "stream",
     "text": [
      "9\n"
     ]
    }
   ],
   "source": [
    "# Reverse Polish Notation\n",
    "\n",
    "def evalRPN(tokens):\n",
    "    stack = []\n",
    "    operators = set(['+', '-', '*', '/'])\n",
    "\n",
    "    for token in tokens:\n",
    "        if token in operators:\n",
    "            b = stack.pop()\n",
    "            a = stack.pop()\n",
    "            if token == '+':\n",
    "                result = a + b\n",
    "            elif token == '-':\n",
    "                result = a - b\n",
    "            elif token == '*':\n",
    "                result = a * b\n",
    "            else:\n",
    "                # Perform integer division (truncate toward zero)\n",
    "                result = int(a / b)\n",
    "            stack.append(result)\n",
    "        else:\n",
    "            stack.append(int(token))\n",
    "\n",
    "    return stack[0]\n",
    "\n",
    "tokens = [\"2\", \"1\", \"+\", \"3\", \"*\"]\n",
    "print(evalRPN(tokens))  "
   ]
  },
  {
   "cell_type": "code",
   "execution_count": 50,
   "id": "fc32c47a",
   "metadata": {
    "ExecuteTime": {
     "end_time": "2023-07-28T09:04:49.837260Z",
     "start_time": "2023-07-28T09:04:49.828918Z"
    }
   },
   "outputs": [
    {
     "data": {
      "text/plain": [
       "'blue is sky the'"
      ]
     },
     "execution_count": 50,
     "metadata": {},
     "output_type": "execute_result"
    }
   ],
   "source": [
    "s = \"the sky is blue\"\n",
    "\n",
    "def reverseWords(s):\n",
    "    # Trim leading and trailing spaces\n",
    "    s = s.strip()\n",
    "\n",
    "    # Split the string into individual words\n",
    "    words = s.split()\n",
    "\n",
    "    # Reverse the order of the words\n",
    "    words = words[::-1]\n",
    "\n",
    "    # Join the reversed words into a single string\n",
    "    reversed_string = ' '.join(words)\n",
    "\n",
    "    return reversed_string\n",
    "\n",
    "reverseWords(s)"
   ]
  },
  {
   "cell_type": "code",
   "execution_count": 51,
   "id": "2c756bc1",
   "metadata": {
    "ExecuteTime": {
     "end_time": "2023-07-28T09:04:49.845190Z",
     "start_time": "2023-07-28T09:04:49.839217Z"
    }
   },
   "outputs": [
    {
     "name": "stdout",
     "output_type": "stream",
     "text": [
      "you are how hellooo,\n"
     ]
    }
   ],
   "source": [
    "s = \"hellooo, how are you\"\n",
    "words = s.split()\n",
    "words = words[::-1]\n",
    "rev = \" \".join(words)\n",
    "print(rev)"
   ]
  },
  {
   "cell_type": "code",
   "execution_count": 52,
   "id": "570cd674",
   "metadata": {
    "ExecuteTime": {
     "end_time": "2023-07-28T09:04:49.855850Z",
     "start_time": "2023-07-28T09:04:49.847470Z"
    }
   },
   "outputs": [
    {
     "data": {
      "text/plain": [
       "2"
      ]
     },
     "execution_count": 52,
     "metadata": {},
     "output_type": "execute_result"
    }
   ],
   "source": [
    "def is_prime(num):\n",
    "    if num < 2:\n",
    "        return False\n",
    "\n",
    "    for i in range(2, int(num ** 0.5) + 1):\n",
    "        if num % i == 0:\n",
    "            return False\n",
    "\n",
    "    return True\n",
    "\n",
    "def countPrimes(n):\n",
    "    count = 0\n",
    "    for i in range(2, n):\n",
    "        if is_prime(i):\n",
    "            count += 1\n",
    "\n",
    "    return count\n",
    "n = 5\n",
    "countPrimes(n)"
   ]
  },
  {
   "cell_type": "code",
   "execution_count": 53,
   "id": "b92c6bee",
   "metadata": {
    "ExecuteTime": {
     "end_time": "2023-07-28T09:04:49.868883Z",
     "start_time": "2023-07-28T09:04:49.858303Z"
    }
   },
   "outputs": [
    {
     "data": {
      "text/plain": [
       "4"
      ]
     },
     "execution_count": 53,
     "metadata": {},
     "output_type": "execute_result"
    }
   ],
   "source": [
    "# Count Prime numbers\n",
    "\n",
    "def countPrimes(n):\n",
    "    if n <= 2:\n",
    "        return 0\n",
    "\n",
    "    isPrime = [True] * n\n",
    "    isPrime[0] = isPrime[1] = False\n",
    "\n",
    "    for i in range(2, int(n ** 0.5) + 1):\n",
    "        if isPrime[i]:\n",
    "            for j in range(i * i, n, i):\n",
    "                isPrime[j] = False\n",
    "\n",
    "    return sum(isPrime)\n",
    "\n",
    "n = 10\n",
    "countPrimes(n)"
   ]
  },
  {
   "cell_type": "code",
   "execution_count": 54,
   "id": "ebaffffe",
   "metadata": {
    "ExecuteTime": {
     "end_time": "2023-07-28T09:04:49.881957Z",
     "start_time": "2023-07-28T09:04:49.872336Z"
    }
   },
   "outputs": [
    {
     "data": {
      "text/plain": [
       "2"
      ]
     },
     "execution_count": 54,
     "metadata": {},
     "output_type": "execute_result"
    }
   ],
   "source": [
    "def findPeakElement(nums):\n",
    "    left, right = 0, len(nums) - 1\n",
    "    \n",
    "    while left < right:\n",
    "        mid = (left + right) // 2\n",
    "        \n",
    "        if nums[mid] < nums[mid + 1]:\n",
    "            left = mid + 1\n",
    "        else:\n",
    "            right = mid\n",
    "    \n",
    "    return left \n",
    "nums = [1,2,7,1,5,8]\n",
    "findPeakElement(nums)"
   ]
  },
  {
   "cell_type": "code",
   "execution_count": 55,
   "id": "0feacf59",
   "metadata": {
    "ExecuteTime": {
     "end_time": "2023-07-28T09:04:49.893449Z",
     "start_time": "2023-07-28T09:04:49.884687Z"
    }
   },
   "outputs": [
    {
     "data": {
      "text/plain": [
       "2"
      ]
     },
     "execution_count": 55,
     "metadata": {},
     "output_type": "execute_result"
    }
   ],
   "source": [
    "def majorityElement(nums):\n",
    "    majority = nums[0]\n",
    "    count = 1\n",
    "    \n",
    "    for i in range(1, len(nums)):\n",
    "        if nums[i] == majority:\n",
    "            count = count + 1\n",
    "        else:\n",
    "            count = count - 1\n",
    "        \n",
    "        if count == 0:\n",
    "            majority = nums[i]\n",
    "            count = 1\n",
    "    \n",
    "    return majority\n",
    "\n",
    "nums = [3,2,3,3,2,2]\n",
    "majorityElement(nums)"
   ]
  },
  {
   "cell_type": "code",
   "execution_count": 56,
   "id": "f5124ca5",
   "metadata": {
    "ExecuteTime": {
     "end_time": "2023-07-28T09:04:49.905910Z",
     "start_time": "2023-07-28T09:04:49.896840Z"
    }
   },
   "outputs": [
    {
     "data": {
      "text/plain": [
       "7"
      ]
     },
     "execution_count": 56,
     "metadata": {},
     "output_type": "execute_result"
    }
   ],
   "source": [
    "def addDigits(num):\n",
    "    while num > 9:\n",
    "        sum = 0\n",
    "        for digit in str(num):\n",
    "            sum = sum + int(digit)\n",
    "        num = sum\n",
    "    return num\n",
    "num = 385\n",
    "addDigits(num)"
   ]
  },
  {
   "cell_type": "code",
   "execution_count": 57,
   "id": "64e37491",
   "metadata": {
    "ExecuteTime": {
     "end_time": "2023-07-28T09:04:49.914868Z",
     "start_time": "2023-07-28T09:04:49.908249Z"
    }
   },
   "outputs": [
    {
     "data": {
      "text/plain": [
       "True"
      ]
     },
     "execution_count": 57,
     "metadata": {},
     "output_type": "execute_result"
    }
   ],
   "source": [
    "def ugly(n):\n",
    "    if n <= 0:\n",
    "        return False\n",
    "    while n % 2 == 0:\n",
    "        n = n // 2\n",
    "    while n % 3 == 0:\n",
    "        n = n // 3\n",
    "    while n % 5 == 0:\n",
    "        n = n // 5\n",
    "    return(n == 1)\n",
    "n = 10\n",
    "ugly(n)"
   ]
  },
  {
   "cell_type": "code",
   "execution_count": 58,
   "id": "00f439ad",
   "metadata": {
    "ExecuteTime": {
     "end_time": "2023-07-28T09:04:49.923317Z",
     "start_time": "2023-07-28T09:04:49.916911Z"
    }
   },
   "outputs": [
    {
     "data": {
      "text/plain": [
       "True"
      ]
     },
     "execution_count": 58,
     "metadata": {},
     "output_type": "execute_result"
    }
   ],
   "source": [
    "def isUgly(n):\n",
    "    if n==0:\n",
    "        return 0\n",
    "    for i in 2,3,5:\n",
    "        while n%i==0:\n",
    "            n//=i\n",
    "    return n==1\n",
    "\n",
    "n = 10\n",
    "isUgly(n)"
   ]
  },
  {
   "cell_type": "code",
   "execution_count": 59,
   "id": "3db5fe24",
   "metadata": {
    "ExecuteTime": {
     "end_time": "2023-07-28T09:04:49.932023Z",
     "start_time": "2023-07-28T09:04:49.925620Z"
    }
   },
   "outputs": [
    {
     "data": {
      "text/plain": [
       "True"
      ]
     },
     "execution_count": 59,
     "metadata": {},
     "output_type": "execute_result"
    }
   ],
   "source": [
    "def is_happy(n):\n",
    "    numbers = set()\n",
    "    \n",
    "    while n != 1:\n",
    "        sum = 0\n",
    "        for digit in str(n):\n",
    "            sum = sum + int(digit) ** 2\n",
    "        \n",
    "        if n in numbers:\n",
    "            return False\n",
    "        \n",
    "        numbers.add(n)\n",
    "        n = sum\n",
    "    \n",
    "    return True\n",
    "\n",
    "n = 19\n",
    "is_happy(n)"
   ]
  },
  {
   "cell_type": "code",
   "execution_count": 60,
   "id": "61869794",
   "metadata": {
    "ExecuteTime": {
     "end_time": "2023-07-28T09:04:49.940930Z",
     "start_time": "2023-07-28T09:04:49.933882Z"
    }
   },
   "outputs": [
    {
     "data": {
      "text/plain": [
       "5"
      ]
     },
     "execution_count": 60,
     "metadata": {},
     "output_type": "execute_result"
    }
   ],
   "source": [
    "def missingNumber(nums):\n",
    "    n = len(nums)\n",
    "    expectedSum = (n * (n + 1)) // 2\n",
    "    actualSum = sum(nums)\n",
    "    missingNumber = expectedSum - actualSum\n",
    "    return missingNumber\n",
    "\n",
    "nums = [3,0,1,2,4]\n",
    "missingNumber(nums)"
   ]
  },
  {
   "cell_type": "code",
   "execution_count": 61,
   "id": "a94b8b24",
   "metadata": {
    "ExecuteTime": {
     "end_time": "2023-07-28T09:04:49.949191Z",
     "start_time": "2023-07-28T09:04:49.943131Z"
    }
   },
   "outputs": [
    {
     "data": {
      "text/plain": [
       "4"
      ]
     },
     "execution_count": 61,
     "metadata": {},
     "output_type": "execute_result"
    }
   ],
   "source": [
    "nums = [3,0,1,5]\n",
    "len(nums)"
   ]
  },
  {
   "cell_type": "code",
   "execution_count": 62,
   "id": "07a75673",
   "metadata": {
    "ExecuteTime": {
     "end_time": "2023-07-28T09:04:49.958880Z",
     "start_time": "2023-07-28T09:04:49.951126Z"
    }
   },
   "outputs": [
    {
     "data": {
      "text/plain": [
       "[1, 3, 12, 0, 0]"
      ]
     },
     "execution_count": 62,
     "metadata": {},
     "output_type": "execute_result"
    }
   ],
   "source": [
    "def moveZeroes(nums):\n",
    "    left = right = 0\n",
    "    n = len(nums)\n",
    "    \n",
    "    while right < n:\n",
    "        if nums[right] != 0:\n",
    "            nums[left], nums[right] = nums[right], nums[left]\n",
    "            left = left + 1\n",
    "        right = right + 1\n",
    "    \n",
    "    return nums\n",
    "\n",
    "nums = [0,1,0,3,12]\n",
    "moveZeroes(nums)"
   ]
  },
  {
   "cell_type": "code",
   "execution_count": 63,
   "id": "7a84171d",
   "metadata": {
    "ExecuteTime": {
     "end_time": "2023-07-28T09:04:49.968945Z",
     "start_time": "2023-07-28T09:04:49.961551Z"
    }
   },
   "outputs": [
    {
     "name": "stdout",
     "output_type": "stream",
     "text": [
      "[1, 3, 12, 0, 0]\n"
     ]
    }
   ],
   "source": [
    "nums = [0,1,0,3,12]\n",
    "left = 0\n",
    "right = 0\n",
    "n = len(nums)\n",
    "\n",
    "while right < n:\n",
    "    if nums[right] != 0:\n",
    "        nums[left], nums[right] = nums[right], nums[left]\n",
    "        left = left + 1\n",
    "    right = right + 1\n",
    "print(nums)"
   ]
  },
  {
   "cell_type": "code",
   "execution_count": 64,
   "id": "5239be47",
   "metadata": {
    "ExecuteTime": {
     "end_time": "2023-07-28T09:04:49.985451Z",
     "start_time": "2023-07-28T09:04:49.979662Z"
    }
   },
   "outputs": [
    {
     "data": {
      "text/plain": [
       "True"
      ]
     },
     "execution_count": 64,
     "metadata": {},
     "output_type": "execute_result"
    }
   ],
   "source": [
    "def wordPattern(pattern, s):\n",
    "    words = s.split()\n",
    "    if len(words) != len(pattern):\n",
    "        return False\n",
    "\n",
    "    for i in range(len(words)):\n",
    "        if pattern.find(pattern[i]) != words.index(words[i]):\n",
    "            return False\n",
    "    return True\n",
    "\n",
    "pattern = \"abba\" \n",
    "s = \"dog cat cat dog\"\n",
    "wordPattern(pattern, s)"
   ]
  },
  {
   "cell_type": "code",
   "execution_count": 65,
   "id": "fcfee29e",
   "metadata": {
    "ExecuteTime": {
     "end_time": "2023-07-28T09:04:50.000011Z",
     "start_time": "2023-07-28T09:04:49.988135Z"
    }
   },
   "outputs": [
    {
     "data": {
      "text/plain": [
       "[3, 4]"
      ]
     },
     "execution_count": 65,
     "metadata": {},
     "output_type": "execute_result"
    }
   ],
   "source": [
    "def searchRange(nums, target):\n",
    "    start = -1\n",
    "    end = -1\n",
    "\n",
    "    # Find the leftmost occurrence of the target\n",
    "    left, right = 0, len(nums)\n",
    "    while left < right:\n",
    "        mid = (left + right) // 2\n",
    "        if nums[mid] == target:\n",
    "            right = mid\n",
    "        elif nums[mid] < target:\n",
    "            left = mid + 1\n",
    "        else:\n",
    "            right = mid\n",
    "\n",
    "    if left < len(nums) and nums[left] == target:\n",
    "        start = left\n",
    "\n",
    "    # Find the rightmost occurrence of the target\n",
    "    left, right = 0, len(nums)\n",
    "    while left < right:\n",
    "        mid = (left + right) // 2\n",
    "        if nums[mid] == target:\n",
    "            left = mid + 1\n",
    "        elif nums[mid] > target:\n",
    "            right = mid\n",
    "        else:\n",
    "            left = mid + 1\n",
    "\n",
    "    if right > 0 and nums[right - 1] == target:\n",
    "        end = right - 1\n",
    "\n",
    "    return [start, end]\n",
    "\n",
    "nums = [5,7,7,8,8,10]\n",
    "target = 8\n",
    "\n",
    "searchRange(nums, target)"
   ]
  },
  {
   "cell_type": "code",
   "execution_count": 66,
   "id": "e3518492",
   "metadata": {
    "ExecuteTime": {
     "end_time": "2023-07-28T09:04:50.010442Z",
     "start_time": "2023-07-28T09:04:50.002811Z"
    }
   },
   "outputs": [
    {
     "data": {
      "text/plain": [
       "2"
      ]
     },
     "execution_count": 66,
     "metadata": {},
     "output_type": "execute_result"
    }
   ],
   "source": [
    "def findDuplicate(nums):\n",
    "    a = set()\n",
    "\n",
    "    for num in nums:\n",
    "        if num in a:\n",
    "            return num\n",
    "        a.add(num)\n",
    "\n",
    "    # Return -1 if no duplicate is found\n",
    "    return -1\n",
    "\n",
    "nums = [1,3,4,2,2]\n",
    "findDuplicate(nums)"
   ]
  },
  {
   "cell_type": "code",
   "execution_count": 67,
   "id": "34c211e5",
   "metadata": {
    "ExecuteTime": {
     "end_time": "2023-07-28T09:04:50.021871Z",
     "start_time": "2023-07-28T09:04:50.013344Z"
    }
   },
   "outputs": [
    {
     "data": {
      "text/plain": [
       "True"
      ]
     },
     "execution_count": 67,
     "metadata": {},
     "output_type": "execute_result"
    }
   ],
   "source": [
    "def containsNearbyDuplicate(nums, k):\n",
    "    a = set()\n",
    "\n",
    "    for i in range(len(nums)):\n",
    "        if nums[i] in a:\n",
    "            return True\n",
    "        a.add(nums[i])\n",
    "\n",
    "        if len(a) > k:\n",
    "            a.remove(nums[i - k])\n",
    "\n",
    "    return False\n",
    "\n",
    "nums = [1,2,3,1] \n",
    "k = 3\n",
    "containsNearbyDuplicate(nums, k)"
   ]
  },
  {
   "cell_type": "code",
   "execution_count": 68,
   "id": "3a8fa6bf",
   "metadata": {
    "ExecuteTime": {
     "end_time": "2023-07-28T09:04:50.032500Z",
     "start_time": "2023-07-28T09:04:50.025091Z"
    }
   },
   "outputs": [
    {
     "data": {
      "text/plain": [
       "True"
      ]
     },
     "execution_count": 68,
     "metadata": {},
     "output_type": "execute_result"
    }
   ],
   "source": [
    "def containsNearbyDuplicate(nums, k):\n",
    "    num_dict = {}\n",
    "    for i in range(len(nums)):\n",
    "        if nums[i] in num_dict and i - num_dict[nums[i]] <= k:\n",
    "            return True\n",
    "        num_dict[nums[i]] = i\n",
    "    return False\n",
    "\n",
    "\n",
    "nums = [1,2,3,1] \n",
    "k = 3\n",
    "containsNearbyDuplicate(nums, k)"
   ]
  },
  {
   "cell_type": "code",
   "execution_count": 69,
   "id": "46d3511b",
   "metadata": {
    "ExecuteTime": {
     "end_time": "2023-07-28T09:04:50.040489Z",
     "start_time": "2023-07-28T09:04:50.034609Z"
    }
   },
   "outputs": [
    {
     "name": "stdout",
     "output_type": "stream",
     "text": [
      "['c', 'b', 'a', 'd']\n"
     ]
    }
   ],
   "source": [
    "s = \"cbacdcbc\"\n",
    "a = []\n",
    "for i in s:\n",
    "    if i not in a:\n",
    "        a.append(i)\n",
    "print(a)"
   ]
  },
  {
   "cell_type": "code",
   "execution_count": 70,
   "id": "9095f7ce",
   "metadata": {
    "ExecuteTime": {
     "end_time": "2023-07-28T09:04:50.048537Z",
     "start_time": "2023-07-28T09:04:50.042132Z"
    }
   },
   "outputs": [
    {
     "data": {
      "text/plain": [
       "'cbad'"
      ]
     },
     "execution_count": 70,
     "metadata": {},
     "output_type": "execute_result"
    }
   ],
   "source": [
    "s = \"cbacdcbc\"\n",
    "a = ''\n",
    "for i in s:\n",
    "    if i not in a:\n",
    "        a = a + i\n",
    "a + ''"
   ]
  },
  {
   "cell_type": "code",
   "execution_count": 71,
   "id": "3048fa11",
   "metadata": {
    "ExecuteTime": {
     "end_time": "2023-07-28T09:04:50.059502Z",
     "start_time": "2023-07-28T09:04:50.050673Z"
    }
   },
   "outputs": [
    {
     "data": {
      "text/plain": [
       "True"
      ]
     },
     "execution_count": 71,
     "metadata": {},
     "output_type": "execute_result"
    }
   ],
   "source": [
    "def isAdditiveNumber(num):\n",
    "    n = len(num)\n",
    "    \n",
    "    for i in range(1, n // 2 + 1):\n",
    "        for j in range(1, (n - i) // 2 + 1):\n",
    "            if num[0] == '0' and i > 1:\n",
    "                continue\n",
    "            if num[i] == '0' and j > 1:\n",
    "                continue\n",
    "            \n",
    "            first = int(num[:i])\n",
    "            second = int(num[i:i+j])\n",
    "            remaining = num[i+j:]\n",
    "            \n",
    "            while remaining:\n",
    "                third = first + second\n",
    "                third_str = str(third)\n",
    "                \n",
    "                if not remaining.startswith(third_str):\n",
    "                    break\n",
    "                \n",
    "                remaining = remaining[len(third_str):]\n",
    "                first, second = second, third\n",
    "            \n",
    "            if not remaining:\n",
    "                return True\n",
    "    \n",
    "    return False\n",
    "\n",
    "num = '112358'\n",
    "isAdditiveNumber(num)"
   ]
  },
  {
   "cell_type": "code",
   "execution_count": 72,
   "id": "f26d1368",
   "metadata": {
    "ExecuteTime": {
     "end_time": "2023-07-28T09:04:50.068709Z",
     "start_time": "2023-07-28T09:04:50.061566Z"
    }
   },
   "outputs": [
    {
     "data": {
      "text/plain": [
       "'holle'"
      ]
     },
     "execution_count": 72,
     "metadata": {},
     "output_type": "execute_result"
    }
   ],
   "source": [
    "s = \"hello\"\n",
    "\n",
    "def reverseVowels(s):\n",
    "    vowels = {'a', 'e', 'i', 'o', 'u', 'A', 'E', 'I', 'O', 'U'}\n",
    "    chars = list(s)\n",
    "    left = 0\n",
    "    right = len(s) - 1\n",
    "\n",
    "    while left <= right:\n",
    "        while left <= right and chars[left] not in vowels:\n",
    "            left = left + 1\n",
    "        while left <= right and chars[right] not in vowels:\n",
    "            right = right - 1\n",
    "\n",
    "        if left <= right:\n",
    "            chars[left], chars[right] = chars[right], chars[left]\n",
    "            left = left + 1\n",
    "            right = right - 1\n",
    "\n",
    "    return ''.join(chars)\n",
    "\n",
    "reverseVowels(s)"
   ]
  },
  {
   "cell_type": "code",
   "execution_count": 73,
   "id": "62f6a82a",
   "metadata": {
    "ExecuteTime": {
     "end_time": "2023-07-28T09:04:50.084850Z",
     "start_time": "2023-07-28T09:04:50.072748Z"
    }
   },
   "outputs": [
    {
     "data": {
      "text/plain": [
       "'olleh'"
      ]
     },
     "execution_count": 73,
     "metadata": {},
     "output_type": "execute_result"
    }
   ],
   "source": [
    "s = \"hello\"\n",
    "s[::-1]"
   ]
  },
  {
   "cell_type": "code",
   "execution_count": 74,
   "id": "5708590d",
   "metadata": {
    "ExecuteTime": {
     "end_time": "2023-07-28T09:04:50.098895Z",
     "start_time": "2023-07-28T09:04:50.087914Z"
    }
   },
   "outputs": [
    {
     "data": {
      "text/plain": [
       "[2]"
      ]
     },
     "execution_count": 74,
     "metadata": {},
     "output_type": "execute_result"
    }
   ],
   "source": [
    "def intersection(nums1, nums2):\n",
    "    set1 = set(nums1)\n",
    "    result = set()\n",
    "    \n",
    "    for num in nums2:\n",
    "        if num in set1:\n",
    "            result.add(num)\n",
    "    \n",
    "    return list(result)\n",
    "\n",
    "nums1 = [1,2,2,1]\n",
    "nums2 = [2,2]\n",
    "intersection(nums1, nums2)"
   ]
  },
  {
   "cell_type": "code",
   "execution_count": 75,
   "id": "8a1bfc94",
   "metadata": {
    "ExecuteTime": {
     "end_time": "2023-07-28T09:04:50.108916Z",
     "start_time": "2023-07-28T09:04:50.102009Z"
    }
   },
   "outputs": [
    {
     "data": {
      "text/plain": [
       "[2]"
      ]
     },
     "execution_count": 75,
     "metadata": {},
     "output_type": "execute_result"
    }
   ],
   "source": [
    "def intersection(nums1, nums2):\n",
    "    set1 = set(nums1)\n",
    "    set2 = set(nums2)\n",
    "    \n",
    "    return list(set1.intersection(set2))\n",
    "\n",
    "nums1 = [1,2,2,1]\n",
    "nums2 = [2,2]\n",
    "intersection(nums1, nums2)"
   ]
  },
  {
   "cell_type": "code",
   "execution_count": 76,
   "id": "f9dceb23",
   "metadata": {
    "ExecuteTime": {
     "end_time": "2023-07-28T09:04:50.122644Z",
     "start_time": "2023-07-28T09:04:50.113728Z"
    }
   },
   "outputs": [
    {
     "data": {
      "text/plain": [
       "True"
      ]
     },
     "execution_count": 76,
     "metadata": {},
     "output_type": "execute_result"
    }
   ],
   "source": [
    "def isPerfectSquare(num):\n",
    "    if num == 1:\n",
    "        return True\n",
    "    \n",
    "    left = 2\n",
    "    right = num // 2\n",
    "    while left <= right:\n",
    "        middle = (left + right) // 2\n",
    "        square = middle * middle\n",
    "        if square == num:\n",
    "            return True\n",
    "        elif square > num:\n",
    "            right = middle - 1\n",
    "        else:\n",
    "            left = middle + 1\n",
    "    return False\n",
    "\n",
    "num = 16\n",
    "isPerfectSquare(num)"
   ]
  },
  {
   "cell_type": "code",
   "execution_count": 77,
   "id": "86a58fb1",
   "metadata": {
    "ExecuteTime": {
     "end_time": "2023-07-28T09:04:50.139276Z",
     "start_time": "2023-07-28T09:04:50.129181Z"
    }
   },
   "outputs": [
    {
     "data": {
      "text/plain": [
       "['0->2', '4->5', '7']"
      ]
     },
     "execution_count": 77,
     "metadata": {},
     "output_type": "execute_result"
    }
   ],
   "source": [
    "def summaryRanges(nums):\n",
    "    result = []\n",
    "    if not nums:\n",
    "        return result\n",
    "\n",
    "    start = end = nums[0]\n",
    "    for i in range(1, len(nums)):\n",
    "        if nums[i] == nums[i-1] + 1:\n",
    "            end = nums[i]\n",
    "        else:\n",
    "            result.append(str(start) + \"->\" + str(end) if start != end else str(start))\n",
    "            start = end = nums[i]\n",
    "\n",
    "    result.append(str(start) + \"->\" + str(end) if start != end else str(start))\n",
    "    return result\n",
    "\n",
    "nums = [0,1,2,4,5,7]\n",
    "summaryRanges(nums)"
   ]
  },
  {
   "cell_type": "code",
   "execution_count": 78,
   "id": "04e394f5",
   "metadata": {
    "ExecuteTime": {
     "end_time": "2023-07-28T09:04:50.156941Z",
     "start_time": "2023-07-28T09:04:50.142604Z"
    }
   },
   "outputs": [
    {
     "data": {
      "text/plain": [
       "['0->2', '4->5', '7']"
      ]
     },
     "execution_count": 78,
     "metadata": {},
     "output_type": "execute_result"
    }
   ],
   "source": [
    "def summaryRanges(nums):\n",
    "    result = []\n",
    "    if not nums:\n",
    "        return result\n",
    "\n",
    "    start = end = nums[0]\n",
    "    for i in range(1, len(nums)):\n",
    "        if nums[i] == nums[i-1] + 1:\n",
    "            end = nums[i]\n",
    "        else:\n",
    "            result.append(str(start) + \"->\" + str(end) if start != end else str(start))\n",
    "            start = end = nums[i]\n",
    "\n",
    "    # Handle the last range\n",
    "    result.append(str(start) + \"->\" + str(end) if start != end else str(start))\n",
    "    \n",
    "    return result\n",
    "\n",
    "nums = [0,1,2,4,5,7]\n",
    "summaryRanges(nums)"
   ]
  },
  {
   "cell_type": "code",
   "execution_count": 79,
   "id": "cc743f1d",
   "metadata": {
    "ExecuteTime": {
     "end_time": "2023-07-28T09:04:50.166659Z",
     "start_time": "2023-07-28T09:04:50.160631Z"
    }
   },
   "outputs": [
    {
     "name": "stdout",
     "output_type": "stream",
     "text": [
      "6\n"
     ]
    }
   ],
   "source": [
    "nums = [1,2,3]\n",
    "nums.sort()\n",
    "l1 = nums[-1] * nums[-2] * nums[-3]\n",
    "l2 = nums[0] * nums[1] * nums[-1]\n",
    "print(max(l1,l2))"
   ]
  },
  {
   "cell_type": "code",
   "execution_count": 80,
   "id": "7ba54818",
   "metadata": {
    "ExecuteTime": {
     "end_time": "2023-07-28T09:04:50.177687Z",
     "start_time": "2023-07-28T09:04:50.170664Z"
    }
   },
   "outputs": [
    {
     "name": "stdout",
     "output_type": "stream",
     "text": [
      "24\n"
     ]
    }
   ],
   "source": [
    "# Maximum product of three numbers\n",
    "\n",
    "nums = [1,2,3,4]\n",
    "nums.sort()\n",
    "n = len(nums)\n",
    "print(max(nums[-1] * nums[-2] * nums[-3], nums[0] * nums[1] * nums[-1]))"
   ]
  },
  {
   "cell_type": "code",
   "execution_count": 81,
   "id": "f051b26c",
   "metadata": {
    "ExecuteTime": {
     "end_time": "2023-07-28T09:04:50.187507Z",
     "start_time": "2023-07-28T09:04:50.181136Z"
    }
   },
   "outputs": [],
   "source": [
    "# Goat Latin\n",
    "\n",
    "def toGoatLatin(sentence):\n",
    "    vowels = set(['a', 'e', 'i', 'o', 'u'])\n",
    "    words = sentence.split()\n",
    "    result = []\n",
    "    \n",
    "    for i, word in enumerate(words, 1):\n",
    "        if word[0].lower() in vowels:\n",
    "            # Rule 1: Word starts with a vowel\n",
    "            result.append(word + 'ma' + 'a' * i)\n",
    "        else:\n",
    "            # Rule 2: Word starts with a consonant\n",
    "            result.append(word[1:] + word[0] + 'ma' + 'a' * i)\n",
    "    \n",
    "    return ' '.join(result)\n"
   ]
  },
  {
   "cell_type": "code",
   "execution_count": 82,
   "id": "e8076a42",
   "metadata": {
    "ExecuteTime": {
     "end_time": "2023-07-28T09:04:50.199350Z",
     "start_time": "2023-07-28T09:04:50.190794Z"
    }
   },
   "outputs": [
    {
     "data": {
      "text/plain": [
       "'Imaa peaksmaaa oatGmaaaa atinLmaaaaa'"
      ]
     },
     "execution_count": 82,
     "metadata": {},
     "output_type": "execute_result"
    }
   ],
   "source": [
    "sentence = \"I speak Goat Latin\"\n",
    "\n",
    "vowels = set(['a', 'e', 'i', 'o', 'u'])\n",
    "words = sentence.split()\n",
    "result = []\n",
    "\n",
    "for i, word in enumerate(words, 1):\n",
    "    if word[0].lower() in vowels:\n",
    "        result.append(word + 'ma' + 'a' * i)\n",
    "    else:\n",
    "        result.append(word[1:] + word[0] + 'ma' + 'a' * i)\n",
    "        \n",
    "' '.join(result)"
   ]
  },
  {
   "cell_type": "code",
   "execution_count": 83,
   "id": "4fe910e5",
   "metadata": {
    "ExecuteTime": {
     "end_time": "2023-07-28T09:04:50.213794Z",
     "start_time": "2023-07-28T09:04:50.202410Z"
    }
   },
   "outputs": [
    {
     "data": {
      "text/plain": [
       "'j-Ih-gfE-dCba'"
      ]
     },
     "execution_count": 83,
     "metadata": {},
     "output_type": "execute_result"
    }
   ],
   "source": [
    "# Reverse only letters\n",
    "\n",
    "def reverseOnlyLetters(s):\n",
    "    char = list(s)\n",
    "    left = 0\n",
    "    right = len(s) - 1\n",
    "\n",
    "    while left < right:\n",
    "        if not char[left].isalpha():\n",
    "            left = left + 1\n",
    "        elif not char[right].isalpha():\n",
    "            right = right - 1\n",
    "        else:\n",
    "            char[left], char[right] = char[right], char[left]\n",
    "            left = left + 1\n",
    "            right = right - 1\n",
    "\n",
    "    return ''.join(char)\n",
    "\n",
    "s = \"a-bC-dEf-ghIj\"\n",
    "reverseOnlyLetters(s)"
   ]
  },
  {
   "cell_type": "code",
   "execution_count": 84,
   "id": "3e0de90f",
   "metadata": {
    "ExecuteTime": {
     "end_time": "2023-07-28T09:04:50.224925Z",
     "start_time": "2023-07-28T09:04:50.217110Z"
    }
   },
   "outputs": [
    {
     "name": "stdout",
     "output_type": "stream",
     "text": [
      "[[-1, 0, 1], [-1, -1, 2]]\n"
     ]
    }
   ],
   "source": [
    "# 3Sum\n",
    "\n",
    "nums = [-1,0,1,2,-1,-4]\n",
    "result = []\n",
    "n =len(nums)\n",
    "\n",
    "for i in range(n-2):\n",
    "    for j in range(i + 1, n - 1):\n",
    "        for k in range(j + 1, n):\n",
    "            if nums[i] + nums[j] + nums[k] == 0:\n",
    "                triplet = [nums[i], nums[j], nums[k]]\n",
    "                triplet.sort()\n",
    "                \n",
    "                if triplet not in result:\n",
    "                    result.append(triplet)\n",
    "print(result)\n",
    "                "
   ]
  },
  {
   "cell_type": "code",
   "execution_count": 85,
   "id": "5723d7bd",
   "metadata": {
    "ExecuteTime": {
     "end_time": "2023-07-28T09:04:50.236463Z",
     "start_time": "2023-07-28T09:04:50.227796Z"
    }
   },
   "outputs": [
    {
     "name": "stdout",
     "output_type": "stream",
     "text": [
      "[[-1, 0, 0, 1], [-2, -1, 1, 2], [-2, 0, 0, 2]]\n"
     ]
    }
   ],
   "source": [
    "# 4Sum\n",
    "\n",
    "nums = [1,0,-1,0,-2,2]\n",
    "target = 0\n",
    "result = []\n",
    "n =len(nums)\n",
    "\n",
    "for i in range(n-3):\n",
    "    for j in range(i + 1, n - 2):\n",
    "        for k in range(j + 1, n-1):\n",
    "            for l in range(k + 1, n):\n",
    "                if nums[i] + nums[j] + nums[k] + nums[l] == target:\n",
    "                    triplet = [nums[i], nums[j], nums[k], nums[l]]\n",
    "                    triplet.sort()\n",
    "\n",
    "                    if triplet not in result:\n",
    "                        result.append(triplet)\n",
    "print(result)"
   ]
  },
  {
   "cell_type": "code",
   "execution_count": 86,
   "id": "868da617",
   "metadata": {
    "ExecuteTime": {
     "end_time": "2023-07-28T09:04:50.248772Z",
     "start_time": "2023-07-28T09:04:50.239415Z"
    }
   },
   "outputs": [
    {
     "name": "stdout",
     "output_type": "stream",
     "text": [
      "-1\n"
     ]
    }
   ],
   "source": [
    "# Find the index of first occurrence of a string\n",
    "\n",
    "haystack = \"butsadbutsad\"\n",
    "needle = \"dad\"\n",
    "\n",
    "if needle in haystack:\n",
    "    print(haystack.index(needle))\n",
    "else:\n",
    "    print(-1)"
   ]
  },
  {
   "cell_type": "code",
   "execution_count": 87,
   "id": "d4abaca8",
   "metadata": {
    "ExecuteTime": {
     "end_time": "2023-07-28T09:04:50.260905Z",
     "start_time": "2023-07-28T09:04:50.251986Z"
    }
   },
   "outputs": [],
   "source": [
    "def groupAnagrams(strs):\n",
    "    grouped_anagrams = {}\n",
    "    \n",
    "    for string in strs:\n",
    "        sorted_str = ''.join(sorted(string))\n",
    "        \n",
    "        if sorted_str not in grouped_anagrams:\n",
    "            grouped_anagrams[sorted_str] = []\n",
    "        \n",
    "        grouped_anagrams[sorted_str].append(string)\n",
    "    \n",
    "    result = []\n",
    "    \n",
    "    for anagram_list in grouped_anagrams.values():\n",
    "        result.append(anagram_list)\n",
    "    \n",
    "    return result\n"
   ]
  },
  {
   "cell_type": "code",
   "execution_count": 88,
   "id": "dc712a8d",
   "metadata": {
    "ExecuteTime": {
     "end_time": "2023-07-28T09:04:50.295538Z",
     "start_time": "2023-07-28T09:04:50.272464Z"
    }
   },
   "outputs": [
    {
     "data": {
      "text/plain": [
       "[['eat', 'tea', 'ate'], ['tan', 'nat'], ['bat']]"
      ]
     },
     "execution_count": 88,
     "metadata": {},
     "output_type": "execute_result"
    }
   ],
   "source": [
    "def groupAnagrams(strs):\n",
    "    grouped_anagrams = {}\n",
    "    \n",
    "    for string in strs:\n",
    "        sorted_str = ''.join(sorted(string))\n",
    "        \n",
    "        if sorted_str in grouped_anagrams:\n",
    "            grouped_anagrams[sorted_str].append(string)\n",
    "        else:\n",
    "            grouped_anagrams[sorted_str] = [string]\n",
    "    \n",
    "    result = []\n",
    "    \n",
    "    for anagram_list in grouped_anagrams.values():\n",
    "        result.append(anagram_list)\n",
    "    \n",
    "    return result\n",
    "\n",
    "strs = [\"eat\",\"tea\",\"tan\",\"ate\",\"nat\",\"bat\"]\n",
    "groupAnagrams(strs)"
   ]
  },
  {
   "cell_type": "code",
   "execution_count": 89,
   "id": "58366c2b",
   "metadata": {
    "ExecuteTime": {
     "end_time": "2023-07-28T09:04:50.310993Z",
     "start_time": "2023-07-28T09:04:50.301637Z"
    }
   },
   "outputs": [
    {
     "name": "stdout",
     "output_type": "stream",
     "text": [
      "4\n"
     ]
    }
   ],
   "source": [
    "# Length Of Last Word\n",
    "\n",
    "s = \"   fly me   to   the moon  \"\n",
    "s = s.strip()\n",
    "count = 0\n",
    "for i in range(len(s)):\n",
    "    if s[i] == ' ':\n",
    "        count = 0\n",
    "    else:\n",
    "        count = count + 1\n",
    "print(count)\n",
    "    "
   ]
  },
  {
   "cell_type": "code",
   "execution_count": 90,
   "id": "74a6181d",
   "metadata": {
    "ExecuteTime": {
     "end_time": "2023-07-28T09:04:50.328353Z",
     "start_time": "2023-07-28T09:04:50.317021Z"
    }
   },
   "outputs": [
    {
     "data": {
      "text/plain": [
       "'100'"
      ]
     },
     "execution_count": 90,
     "metadata": {},
     "output_type": "execute_result"
    }
   ],
   "source": [
    "def addBinary(a, b):\n",
    "    i = len(a) - 1\n",
    "    j = len(b) - 1\n",
    "    carry = 0\n",
    "    result = \"\"\n",
    "\n",
    "    while i >= 0 or j >= 0:\n",
    "        digit_a = int(a[i]) if i >= 0 else 0\n",
    "        digit_b = int(b[j]) if j >= 0 else 0\n",
    "        digit_sum = digit_a + digit_b + carry\n",
    "        current_digit = digit_sum % 2\n",
    "        carry = digit_sum // 2\n",
    "        result = str(current_digit) + result\n",
    "        i = i - 1\n",
    "        j = j - 1\n",
    "\n",
    "    if carry == 1:\n",
    "        result = \"1\" + result\n",
    "\n",
    "    return result\n",
    "\n",
    "a = '11'\n",
    "b = '1'\n",
    "addBinary(a, b)"
   ]
  },
  {
   "cell_type": "code",
   "execution_count": 91,
   "id": "e587e53f",
   "metadata": {
    "ExecuteTime": {
     "end_time": "2023-07-28T09:04:50.339916Z",
     "start_time": "2023-07-28T09:04:50.331288Z"
    }
   },
   "outputs": [
    {
     "data": {
      "text/plain": [
       "'abc'"
      ]
     },
     "execution_count": 91,
     "metadata": {},
     "output_type": "execute_result"
    }
   ],
   "source": [
    "def removeDuplicateLetters(s):\n",
    "    lastIndex = [-1] * 26\n",
    "    for i, ch in enumerate(s):\n",
    "        lastIndex[ord(ch) - ord('a')] = i\n",
    "\n",
    "    stack = []\n",
    "    seen = set()\n",
    "    for i, ch in enumerate(s):\n",
    "        if ch in seen:\n",
    "            continue\n",
    "        while stack and ch < stack[-1] and i < lastIndex[ord(stack[-1]) - ord('a')]:\n",
    "            seen.remove(stack.pop())\n",
    "        stack.append(ch)\n",
    "        seen.add(ch)\n",
    "\n",
    "    return ''.join(stack)\n",
    "\n",
    "s = \"bcabc\"\n",
    "removeDuplicateLetters(s)"
   ]
  },
  {
   "cell_type": "code",
   "execution_count": 92,
   "id": "f7b0baa5",
   "metadata": {
    "ExecuteTime": {
     "end_time": "2023-07-28T09:04:50.354821Z",
     "start_time": "2023-07-28T09:04:50.344114Z"
    }
   },
   "outputs": [
    {
     "data": {
      "text/plain": [
       "'abc'"
      ]
     },
     "execution_count": 92,
     "metadata": {},
     "output_type": "execute_result"
    }
   ],
   "source": [
    "def removeDuplicateLetters(s):\n",
    "    count = {}\n",
    "    for ch in s:\n",
    "        count[ch] = count.get(ch, 0) + 1\n",
    "\n",
    "    stack = []\n",
    "    visited = set()\n",
    "\n",
    "    for ch in s:\n",
    "        count[ch] -= 1\n",
    "        if ch in visited:\n",
    "            continue\n",
    "\n",
    "        while stack and ch < stack[-1] and count[stack[-1]] > 0:\n",
    "            visited.remove(stack.pop())\n",
    "\n",
    "        stack.append(ch)\n",
    "        visited.add(ch)\n",
    "\n",
    "    return ''.join(stack)\n",
    "\n",
    "s = \"bcabc\"\n",
    "removeDuplicateLetters(s)"
   ]
  },
  {
   "cell_type": "code",
   "execution_count": 93,
   "id": "a818cf22",
   "metadata": {
    "ExecuteTime": {
     "end_time": "2023-07-28T09:04:50.368027Z",
     "start_time": "2023-07-28T09:04:50.358076Z"
    }
   },
   "outputs": [
    {
     "name": "stdout",
     "output_type": "stream",
     "text": [
      "{'s': 1, 'a': 4, 'n': 1, 'g': 1, 'r': 2, 'm': 1, ' ': 1, 'b': 1, 'h': 1, 'd': 1, 'u': 1}\n"
     ]
    }
   ],
   "source": [
    "s = 'sangram bahadur'\n",
    "num = dict()\n",
    "for i in s:\n",
    "    if i in num:\n",
    "        num[i] = num[i] + 1\n",
    "    else:\n",
    "        num[i] = 1\n",
    "print(num)"
   ]
  },
  {
   "cell_type": "code",
   "execution_count": 94,
   "id": "a1204c10",
   "metadata": {
    "ExecuteTime": {
     "end_time": "2023-07-28T09:04:50.379644Z",
     "start_time": "2023-07-28T09:04:50.372411Z"
    }
   },
   "outputs": [
    {
     "name": "stdout",
     "output_type": "stream",
     "text": [
      "[1, 2]\n"
     ]
    }
   ],
   "source": [
    "nums = [1,1,1,2,2,3]\n",
    "k = 2\n",
    "n = dict()\n",
    "for i in nums:\n",
    "    if i in n:\n",
    "        n[i] = n[i] + 1\n",
    "    else:\n",
    "        n[i] = 1\n",
    "sorted_num = sorted(n, key = lambda x: n[x], reverse = True)\n",
    "print(sorted_num[:k])"
   ]
  },
  {
   "cell_type": "code",
   "execution_count": 95,
   "id": "828728d3",
   "metadata": {
    "ExecuteTime": {
     "end_time": "2023-07-28T09:04:50.391501Z",
     "start_time": "2023-07-28T09:04:50.383508Z"
    }
   },
   "outputs": [
    {
     "data": {
      "text/plain": [
       "1"
      ]
     },
     "execution_count": 95,
     "metadata": {},
     "output_type": "execute_result"
    }
   ],
   "source": [
    "def thirdMax(nums):\n",
    "    first = second = third = float('-inf')\n",
    "    \n",
    "    for num in nums:\n",
    "        if num > first:\n",
    "            first, second, third = num, first, second\n",
    "        elif first > num > second:\n",
    "            second, third = num, second\n",
    "        elif second > num > third:\n",
    "            third = num\n",
    "    \n",
    "    if third == float('-inf'):\n",
    "        return first\n",
    "    else:\n",
    "        return third\n",
    "    \n",
    "nums = [3,2,1]\n",
    "thirdMax(nums)"
   ]
  },
  {
   "cell_type": "code",
   "execution_count": 96,
   "id": "a2b7d0a3",
   "metadata": {
    "ExecuteTime": {
     "end_time": "2023-07-28T09:04:50.405249Z",
     "start_time": "2023-07-28T09:04:50.394439Z"
    }
   },
   "outputs": [
    {
     "data": {
      "text/plain": [
       "1"
      ]
     },
     "execution_count": 96,
     "metadata": {},
     "output_type": "execute_result"
    }
   ],
   "source": [
    "def thirdMax(nums):\n",
    "    unique_nums = set(nums)\n",
    "    \n",
    "    if len(unique_nums) < 3:\n",
    "        return max(unique_nums)\n",
    "    \n",
    "    first = second = third = float('-inf')\n",
    "    \n",
    "    for num in unique_nums:\n",
    "        if num > first:\n",
    "            first, second, third = num, first, second\n",
    "        elif first > num > second:\n",
    "            second, third = num, second\n",
    "        elif second > num > third:\n",
    "            third = num\n",
    "    \n",
    "    return third\n",
    "\n",
    "nums = [3,2,1]\n",
    "thirdMax(nums)"
   ]
  },
  {
   "cell_type": "code",
   "execution_count": 97,
   "id": "c6e20944",
   "metadata": {
    "ExecuteTime": {
     "end_time": "2023-07-28T09:04:50.414739Z",
     "start_time": "2023-07-28T09:04:50.407611Z"
    }
   },
   "outputs": [
    {
     "data": {
      "text/plain": [
       "'134'"
      ]
     },
     "execution_count": 97,
     "metadata": {},
     "output_type": "execute_result"
    }
   ],
   "source": [
    "num1 = \"11\"\n",
    "num2 = \"123\"\n",
    "a = str(int(num1) + int(num2))\n",
    "a"
   ]
  },
  {
   "cell_type": "code",
   "execution_count": 98,
   "id": "1390a80e",
   "metadata": {
    "ExecuteTime": {
     "end_time": "2023-07-28T09:04:50.431554Z",
     "start_time": "2023-07-28T09:04:50.420376Z"
    }
   },
   "outputs": [
    {
     "data": {
      "text/plain": [
       "'223'"
      ]
     },
     "execution_count": 98,
     "metadata": {},
     "output_type": "execute_result"
    }
   ],
   "source": [
    "def addStrings(num1, num2):\n",
    "    result = []\n",
    "    p1 = len(num1) - 1\n",
    "    p2 = len(num2) - 1\n",
    "    carry = 0\n",
    "    \n",
    "    while p1 >= 0 or p2 >= 0:\n",
    "        x1 = int(num1[p1]) if p1 >= 0 else 0\n",
    "        x2 = int(num2[p2]) if p2 >= 0 else 0\n",
    "        total = x1 + x2 + carry\n",
    "        carry = total // 10\n",
    "        result.append(str(total % 10))\n",
    "        p1 -= 1\n",
    "        p2 -= 1\n",
    "    \n",
    "    if carry > 0:\n",
    "        result.append(str(carry))\n",
    "    \n",
    "    return ''.join(result[::-1])\n",
    "\n",
    "num1 = \"100\"\n",
    "num2 = \"123\"\n",
    "addStrings(num1, num2)"
   ]
  },
  {
   "cell_type": "code",
   "execution_count": 99,
   "id": "6673f9a7",
   "metadata": {
    "ExecuteTime": {
     "end_time": "2023-07-28T09:04:50.441977Z",
     "start_time": "2023-07-28T09:04:50.434794Z"
    }
   },
   "outputs": [
    {
     "name": "stdout",
     "output_type": "stream",
     "text": [
      "5\n"
     ]
    }
   ],
   "source": [
    "# Count Segments\n",
    "\n",
    "s = \"Hello, my name is John\"\n",
    "count = 0\n",
    "for i in range(len(s)):\n",
    "    if s[i] != \" \" and (i == 0 or s[i - 1] == \" \"):\n",
    "        count = count + 1\n",
    "print(count)"
   ]
  },
  {
   "cell_type": "code",
   "execution_count": 100,
   "id": "d526bb07",
   "metadata": {
    "ExecuteTime": {
     "end_time": "2023-07-28T09:04:50.450542Z",
     "start_time": "2023-07-28T09:04:50.444867Z"
    }
   },
   "outputs": [
    {
     "name": "stdout",
     "output_type": "stream",
     "text": [
      "[5, 6, 9]\n"
     ]
    }
   ],
   "source": [
    "# Find Disappeared Numbers\n",
    "\n",
    "nums = [4,3,2,7,8,2,3,1,10,1]\n",
    "result = []\n",
    "\n",
    "for i in nums:\n",
    "    index = abs(i) - 1\n",
    "    if nums[index] > 0:\n",
    "        nums[index] = -nums[index]\n",
    "\n",
    "for i in range(len(nums)):\n",
    "    if nums[i] > 0:\n",
    "        result.append(i + 1)\n",
    "print(result)"
   ]
  },
  {
   "cell_type": "code",
   "execution_count": 101,
   "id": "3afcaf11",
   "metadata": {
    "ExecuteTime": {
     "end_time": "2023-07-28T09:04:50.461455Z",
     "start_time": "2023-07-28T09:04:50.452756Z"
    }
   },
   "outputs": [
    {
     "data": {
      "text/plain": [
       "True"
      ]
     },
     "execution_count": 101,
     "metadata": {},
     "output_type": "execute_result"
    }
   ],
   "source": [
    "def detectCapitalUse(word):\n",
    "    if word.isupper():  # Case 1: All letters are capitals\n",
    "        return True\n",
    "    if word.islower():  # Case 2: All letters are not capitals\n",
    "        return True\n",
    "    if word[0].isupper() and word[1:].islower():  # Case 3: Only first letter is capital\n",
    "        return True\n",
    "    return False\n",
    "\n",
    "word = \"Leetcode\"\n",
    "detectCapitalUse(word)"
   ]
  },
  {
   "cell_type": "code",
   "execution_count": 102,
   "id": "bc76ae21",
   "metadata": {
    "ExecuteTime": {
     "end_time": "2023-07-28T09:04:50.470646Z",
     "start_time": "2023-07-28T09:04:50.464262Z"
    }
   },
   "outputs": [
    {
     "name": "stdout",
     "output_type": "stream",
     "text": [
      "['the', 'is', 'sunny', 'day']\n"
     ]
    }
   ],
   "source": [
    "words = [\"the\",\"day\",\"is\",\"sunny\",\"the\",\"the\",\"the\",\"sunny\",\"is\",\"is\"]\n",
    "k = 4\n",
    "n = dict()\n",
    "\n",
    "for i in words:\n",
    "    if i in n:\n",
    "        n[i] = n[i] + 1\n",
    "    else:\n",
    "        n[i] = 1\n",
    "        \n",
    "word_freq = list(n.items())\n",
    "word_freq.sort(key = lambda x: (-x[1], x[0]))\n",
    "\n",
    "result = [word for word, i in word_freq[:k]]\n",
    "print(result)"
   ]
  },
  {
   "cell_type": "code",
   "execution_count": 103,
   "id": "6f54d723",
   "metadata": {
    "ExecuteTime": {
     "end_time": "2023-07-28T09:04:50.482702Z",
     "start_time": "2023-07-28T09:04:50.474453Z"
    }
   },
   "outputs": [
    {
     "data": {
      "text/plain": [
       "4"
      ]
     },
     "execution_count": 103,
     "metadata": {},
     "output_type": "execute_result"
    }
   ],
   "source": [
    "def firstUniqChar(s):\n",
    "    for i,c in enumerate(s):\n",
    "        if s.count(c)==1:\n",
    "            return i\n",
    "            break\n",
    "    return -1\n",
    "\n",
    "s = \"leeltcode\"\n",
    "firstUniqChar(s)"
   ]
  },
  {
   "cell_type": "code",
   "execution_count": 104,
   "id": "629316ce",
   "metadata": {
    "ExecuteTime": {
     "end_time": "2023-07-28T09:04:50.490046Z",
     "start_time": "2023-07-28T09:04:50.485175Z"
    }
   },
   "outputs": [],
   "source": [
    "def firstUniqChar(s):\n",
    "    char_counts = {}\n",
    "    \n",
    "    for char in s:\n",
    "        if char in char_counts:\n",
    "            char_counts[char] += 1\n",
    "        else:\n",
    "            char_counts[char] = 1\n",
    "    \n",
    "    for i, char in enumerate(s):\n",
    "        if char_counts[char] == 1:\n",
    "            return i\n",
    "    \n",
    "    return -1 \n",
    "\n"
   ]
  },
  {
   "cell_type": "code",
   "execution_count": 105,
   "id": "da1bb1d1",
   "metadata": {
    "ExecuteTime": {
     "end_time": "2023-07-28T09:04:50.501004Z",
     "start_time": "2023-07-28T09:04:50.493197Z"
    }
   },
   "outputs": [
    {
     "name": "stdout",
     "output_type": "stream",
     "text": [
      "e\n"
     ]
    }
   ],
   "source": [
    "s = \"abcd\"\n",
    "t = \"abcde\"\n",
    "\n",
    "a = dict()\n",
    "b = dict()\n",
    "\n",
    "for i in s:\n",
    "    if i in a:\n",
    "        a[i] = a[i] + 1\n",
    "    else:\n",
    "        a[i] = 1\n",
    "        \n",
    "for j in t:\n",
    "    if j in b:\n",
    "        b[j] = b[j] + 1\n",
    "    else:\n",
    "        b[j] = 1\n",
    "\n",
    "for i in b:\n",
    "    if i not in a or b[i] > a[i]:\n",
    "        print(i)\n"
   ]
  },
  {
   "cell_type": "code",
   "execution_count": 106,
   "id": "50ad8133",
   "metadata": {
    "ExecuteTime": {
     "end_time": "2023-07-28T09:04:50.512239Z",
     "start_time": "2023-07-28T09:04:50.503899Z"
    }
   },
   "outputs": [
    {
     "data": {
      "text/plain": [
       "'e'"
      ]
     },
     "execution_count": 106,
     "metadata": {},
     "output_type": "execute_result"
    }
   ],
   "source": [
    "def findTheDifference(s, t):\n",
    "    a = dict()\n",
    "    b = dict()\n",
    "\n",
    "    for i in s:\n",
    "        if i in a:\n",
    "            a[i] = a[i] + 1\n",
    "        else:\n",
    "            a[i] = 1\n",
    "        \n",
    "    for j in t:\n",
    "        if j in b:\n",
    "            b[j] = b[j] + 1\n",
    "        else:\n",
    "            b[j] = 1\n",
    "\n",
    "    for i in b:\n",
    "        if i not in a or b[i] > a[i]:\n",
    "            return i\n",
    "\n",
    "    return ''\n",
    "\n",
    "s = \"abcd\"\n",
    "t = \"abcde\"\n",
    "findTheDifference(s, t) \n"
   ]
  },
  {
   "cell_type": "code",
   "execution_count": 107,
   "id": "3c217662",
   "metadata": {
    "ExecuteTime": {
     "end_time": "2023-07-28T09:04:50.522892Z",
     "start_time": "2023-07-28T09:04:50.514426Z"
    }
   },
   "outputs": [
    {
     "data": {
      "text/plain": [
       "7"
      ]
     },
     "execution_count": 107,
     "metadata": {},
     "output_type": "execute_result"
    }
   ],
   "source": [
    "def longestPalindrome(s):\n",
    "    frequency = {}\n",
    "    length = 0\n",
    "    \n",
    "    for ch in s:\n",
    "        if ch in frequency:\n",
    "            frequency[ch] += 1\n",
    "        else:\n",
    "            frequency[ch] = 1\n",
    "    \n",
    "    for freq in frequency.values():\n",
    "        if freq % 2 == 0:\n",
    "            length += freq\n",
    "        else:\n",
    "            length += freq - 1\n",
    "    \n",
    "    if length < len(s):\n",
    "        length += 1\n",
    "    \n",
    "    return length\n",
    "\n",
    "longestPalindrome(\"abccccdd\")"
   ]
  },
  {
   "cell_type": "code",
   "execution_count": 108,
   "id": "eab189eb",
   "metadata": {
    "ExecuteTime": {
     "end_time": "2023-07-28T09:04:50.533541Z",
     "start_time": "2023-07-28T09:04:50.526390Z"
    }
   },
   "outputs": [
    {
     "name": "stdout",
     "output_type": "stream",
     "text": [
      "7\n"
     ]
    }
   ],
   "source": [
    "s = \"abccccdd\"\n",
    "frequency = {}\n",
    "length = 0\n",
    "\n",
    "for ch in s:\n",
    "    if ch in frequency:\n",
    "        frequency[ch] = frequency[ch] + 1\n",
    "    else:\n",
    "        frequency[ch] = 1\n",
    "\n",
    "for freq in frequency.values():\n",
    "    if freq % 2 == 0:\n",
    "        length = length + freq \n",
    "    else:\n",
    "        length = length + freq - 1\n",
    "\n",
    "if length < len(s):\n",
    "    length = length + 1\n",
    "\n",
    "print(length)\n"
   ]
  },
  {
   "cell_type": "code",
   "execution_count": 109,
   "id": "49a0b029",
   "metadata": {
    "ExecuteTime": {
     "end_time": "2023-07-28T09:04:50.542379Z",
     "start_time": "2023-07-28T09:04:50.536515Z"
    }
   },
   "outputs": [
    {
     "data": {
      "text/plain": [
       "7"
      ]
     },
     "execution_count": 109,
     "metadata": {},
     "output_type": "execute_result"
    }
   ],
   "source": [
    "def longestPalindrome(s):\n",
    "    odd_chars = set()\n",
    "    \n",
    "    for ch in s:\n",
    "        if ch in odd_chars:\n",
    "            odd_chars.remove(ch)\n",
    "        else:\n",
    "            odd_chars.add(ch)\n",
    "    \n",
    "    removed_chars = len(s) - len(odd_chars)\n",
    "    \n",
    "    if len(odd_chars) > 0:\n",
    "        return removed_chars + 1\n",
    "    else:\n",
    "        return removed_chars\n",
    "\n",
    "longestPalindrome(\"abccccdd\")"
   ]
  },
  {
   "cell_type": "code",
   "execution_count": 110,
   "id": "e08a9d8c",
   "metadata": {
    "ExecuteTime": {
     "end_time": "2023-07-28T09:04:50.556467Z",
     "start_time": "2023-07-28T09:04:50.544167Z"
    }
   },
   "outputs": [
    {
     "data": {
      "text/plain": [
       "3"
      ]
     },
     "execution_count": 110,
     "metadata": {},
     "output_type": "execute_result"
    }
   ],
   "source": [
    "def numberOfArithmeticSlices(nums):\n",
    "    n = len(nums)\n",
    "    dp = [0] * n\n",
    "    count = 0\n",
    "    \n",
    "    for i in range(2, n):\n",
    "        if nums[i] - nums[i-1] == nums[i-1] - nums[i-2]:\n",
    "            dp[i] = dp[i-1] + 1\n",
    "            count = count + dp[i]\n",
    "    \n",
    "    return count\n",
    "\n",
    "nums = [1,2,3,4]\n",
    "numberOfArithmeticSlices(nums)"
   ]
  },
  {
   "cell_type": "code",
   "execution_count": 111,
   "id": "d1fa43ff",
   "metadata": {
    "ExecuteTime": {
     "end_time": "2023-07-28T09:04:50.574123Z",
     "start_time": "2023-07-28T09:04:50.564684Z"
    }
   },
   "outputs": [
    {
     "data": {
      "text/plain": [
       "2"
      ]
     },
     "execution_count": 111,
     "metadata": {},
     "output_type": "execute_result"
    }
   ],
   "source": [
    "def arrangeCoins(n):\n",
    "    left = 0\n",
    "    right = n\n",
    "    \n",
    "    while left <= right:\n",
    "        mid = (left + right) // 2\n",
    "        coins_required = (mid * (mid + 1)) // 2\n",
    "        \n",
    "        if coins_required == n:\n",
    "            return mid\n",
    "        elif coins_required < n:\n",
    "            left = mid + 1\n",
    "        else:\n",
    "            right = mid - 1\n",
    "    \n",
    "    return right\n",
    "\n",
    "arrangeCoins(5)"
   ]
  },
  {
   "cell_type": "code",
   "execution_count": 112,
   "id": "90c00f82",
   "metadata": {
    "ExecuteTime": {
     "end_time": "2023-07-28T09:04:50.585064Z",
     "start_time": "2023-07-28T09:04:50.578164Z"
    }
   },
   "outputs": [],
   "source": [
    "def findDuplicates(nums):\n",
    "    result = []\n",
    "    \n",
    "    for num in nums:\n",
    "        index = abs(num) - 1\n",
    "        if nums[index] > 0:\n",
    "            nums[index] *= -1\n",
    "        else:\n",
    "            result.append(abs(num))\n",
    "    \n",
    "    return result\n"
   ]
  },
  {
   "cell_type": "code",
   "execution_count": 113,
   "id": "5ec270bb",
   "metadata": {
    "ExecuteTime": {
     "end_time": "2023-07-28T09:04:50.599263Z",
     "start_time": "2023-07-28T09:04:50.588590Z"
    }
   },
   "outputs": [
    {
     "name": "stdout",
     "output_type": "stream",
     "text": [
      "[2, 3]\n"
     ]
    }
   ],
   "source": [
    "nums = [4,3,2,7,8,2,3,1]\n",
    "result = []\n",
    "\n",
    "for i in nums:\n",
    "    index = abs(i) - 1\n",
    "    if nums[index] > 0:\n",
    "        nums[index] = nums[index] * -1\n",
    "    else:\n",
    "        result.append(abs(i))\n",
    "print(result)"
   ]
  },
  {
   "cell_type": "code",
   "execution_count": 114,
   "id": "41514a0f",
   "metadata": {
    "ExecuteTime": {
     "end_time": "2023-07-28T09:04:50.617222Z",
     "start_time": "2023-07-28T09:04:50.605659Z"
    }
   },
   "outputs": [
    {
     "data": {
      "text/plain": [
       "3"
      ]
     },
     "execution_count": 114,
     "metadata": {},
     "output_type": "execute_result"
    }
   ],
   "source": [
    "def findMaxConsecutiveOnes(nums):\n",
    "    maxStreak = 0\n",
    "    currentStreak = 0\n",
    "\n",
    "    for num in nums:\n",
    "        if num == 1:\n",
    "            currentStreak += 1\n",
    "        else:\n",
    "            maxStreak = max(maxStreak, currentStreak)\n",
    "            currentStreak = 0\n",
    "\n",
    "    maxStreak = max(maxStreak, currentStreak)\n",
    "\n",
    "    return maxStreak\n",
    "\n",
    "nums = [1,1,0,1,1,1]\n",
    "findMaxConsecutiveOnes(nums)"
   ]
  },
  {
   "cell_type": "code",
   "execution_count": 115,
   "id": "1a45e932",
   "metadata": {
    "ExecuteTime": {
     "end_time": "2023-07-28T09:04:50.630290Z",
     "start_time": "2023-07-28T09:04:50.623010Z"
    }
   },
   "outputs": [],
   "source": [
    "def reverse_words(s):\n",
    "    # Split the input string into words\n",
    "    words = s.split()\n",
    "\n",
    "    # Reverse the characters in each word\n",
    "    reversed_words = [word[::-1] for word in words]\n",
    "\n",
    "    # Join the reversed words with spaces in between\n",
    "    result = ' '.join(reversed_words)\n",
    "\n",
    "    return result\n"
   ]
  },
  {
   "cell_type": "code",
   "execution_count": 116,
   "id": "d630d4f4",
   "metadata": {
    "ExecuteTime": {
     "end_time": "2023-07-28T09:04:50.642169Z",
     "start_time": "2023-07-28T09:04:50.635192Z"
    }
   },
   "outputs": [
    {
     "name": "stdout",
     "output_type": "stream",
     "text": [
      "s'teL ekat edoCteeL tsetnoc\n"
     ]
    }
   ],
   "source": [
    "s = \"Let's take LeetCode contest\"\n",
    "s = s.strip()\n",
    "words = s.split()\n",
    "reversed_words = [word[::-1] for word in words]\n",
    "result = ' '.join(reversed_words)\n",
    "print(result)"
   ]
  },
  {
   "cell_type": "code",
   "execution_count": 117,
   "id": "b4c40659",
   "metadata": {
    "ExecuteTime": {
     "end_time": "2023-07-28T09:04:50.652840Z",
     "start_time": "2023-07-28T09:04:50.644936Z"
    }
   },
   "outputs": [
    {
     "data": {
      "text/plain": [
       "\"s'god enob\""
      ]
     },
     "execution_count": 117,
     "metadata": {},
     "output_type": "execute_result"
    }
   ],
   "source": [
    "s = \"dog's bone\"\n",
    "def ReverseWordsInString(s):\n",
    "    s = s.strip()\n",
    "    words = s.split()\n",
    "    rev_str = [word[::-1] for word in words]\n",
    "    return ' '.join(rev_str)\n",
    "    \n",
    "ReverseWordsInString(s)"
   ]
  },
  {
   "cell_type": "code",
   "execution_count": 118,
   "id": "81da1ef8",
   "metadata": {
    "ExecuteTime": {
     "end_time": "2023-07-28T09:04:50.662525Z",
     "start_time": "2023-07-28T09:04:50.655664Z"
    }
   },
   "outputs": [
    {
     "data": {
      "text/plain": [
       "True"
      ]
     },
     "execution_count": 118,
     "metadata": {},
     "output_type": "execute_result"
    }
   ],
   "source": [
    "def judgeSquareSum(c):\n",
    "    a = 0\n",
    "    b = int(c ** 0.5)\n",
    "\n",
    "    while a <= b:\n",
    "        cur_sum = a**2 + b**2\n",
    "\n",
    "        if cur_sum == c:\n",
    "            return True\n",
    "        elif cur_sum < c:\n",
    "            a = a + 1\n",
    "        else:\n",
    "            b = b - 1\n",
    "\n",
    "    return False\n",
    "\n",
    "judgeSquareSum(5)"
   ]
  },
  {
   "cell_type": "code",
   "execution_count": 119,
   "id": "4f51d1e7",
   "metadata": {
    "ExecuteTime": {
     "end_time": "2023-07-28T09:04:50.669982Z",
     "start_time": "2023-07-28T09:04:50.664879Z"
    }
   },
   "outputs": [],
   "source": [
    "def longest_common_prefix(strs):\n",
    "    if not strs:\n",
    "        return \"\"\n",
    "\n",
    "    strs.sort()\n",
    "\n",
    "    first_str = strs[0]\n",
    "    last_str = strs[-1]\n",
    "\n",
    "    i = 0\n",
    "    while i < len(first_str) and i < len(last_str) and first_str[i] == last_str[i]:\n",
    "        i += 1\n",
    "\n",
    "    return first_str[:i]\n"
   ]
  },
  {
   "cell_type": "code",
   "execution_count": 120,
   "id": "2d7cee6d",
   "metadata": {
    "ExecuteTime": {
     "end_time": "2023-07-28T09:04:50.679814Z",
     "start_time": "2023-07-28T09:04:50.672149Z"
    }
   },
   "outputs": [
    {
     "name": "stdout",
     "output_type": "stream",
     "text": [
      "fl\n"
     ]
    }
   ],
   "source": [
    "strs = [\"flower\",\"flow\",\"flight\"]\n",
    "strs.sort()\n",
    "\n",
    "first_str = strs[0]\n",
    "last_str = strs[-1]\n",
    "\n",
    "i = 0\n",
    "while i < len(first_str) and i < len(last_str) and first_str[i] == last_str[i]:\n",
    "    i = i + 1\n",
    "print(first_str[:i])"
   ]
  },
  {
   "cell_type": "code",
   "execution_count": 121,
   "id": "602a0d0c",
   "metadata": {
    "ExecuteTime": {
     "end_time": "2023-07-28T09:04:50.687348Z",
     "start_time": "2023-07-28T09:04:50.682142Z"
    }
   },
   "outputs": [],
   "source": [
    "def roman_to_integer(s):\n",
    "    roman_values = {\n",
    "        'I': 1,\n",
    "        'V': 5,\n",
    "        'X': 10,\n",
    "        'L': 50,\n",
    "        'C': 100,\n",
    "        'D': 500,\n",
    "        'M': 1000\n",
    "    }\n",
    "\n",
    "    result = 0\n",
    "    prev_value = 0\n",
    "\n",
    "    for char in reversed(s):\n",
    "        value = roman_values[char]\n",
    "        if value < prev_value:\n",
    "            result -= value\n",
    "        else:\n",
    "            result += value\n",
    "        prev_value = value\n",
    "\n",
    "    return result"
   ]
  },
  {
   "cell_type": "code",
   "execution_count": 122,
   "id": "09b4bac6",
   "metadata": {
    "ExecuteTime": {
     "end_time": "2023-07-28T09:04:50.695763Z",
     "start_time": "2023-07-28T09:04:50.689519Z"
    }
   },
   "outputs": [
    {
     "name": "stdout",
     "output_type": "stream",
     "text": [
      "58\n"
     ]
    }
   ],
   "source": [
    "s = \"LVIII\"\n",
    "roman_values = {\n",
    "        'I': 1,\n",
    "        'V': 5,\n",
    "        'X': 10,\n",
    "        'L': 50,\n",
    "        'C': 100,\n",
    "        'D': 500,\n",
    "        'M': 1000\n",
    "    }\n",
    "\n",
    "result = 0\n",
    "prev_value = 0\n",
    "\n",
    "for char in reversed(s):\n",
    "    value = roman_values[char]\n",
    "    if value < prev_value:\n",
    "        result = result - value\n",
    "    else:\n",
    "        result = result + value\n",
    "    prev_value = value\n",
    "\n",
    "print(result)"
   ]
  },
  {
   "cell_type": "code",
   "execution_count": 123,
   "id": "f2d5b0b6",
   "metadata": {
    "ExecuteTime": {
     "end_time": "2023-07-28T09:04:50.704772Z",
     "start_time": "2023-07-28T09:04:50.697561Z"
    }
   },
   "outputs": [],
   "source": [
    "def int_to_roman(num):\n",
    "    symbols = [\"M\", \"CM\", \"D\", \"CD\", \"C\", \"XC\", \"L\", \"XL\", \"X\", \"IX\", \"V\", \"IV\", \"I\"]\n",
    "    values = [1000, 900, 500, 400, 100, 90, 50, 40, 10, 9, 5, 4, 1]\n",
    "\n",
    "    roman_numeral = \"\"\n",
    "    i = 0\n",
    "\n",
    "    while num > 0:\n",
    "        while num >= values[i]:\n",
    "            num -= values[i]\n",
    "            roman_numeral += symbols[i]\n",
    "        i += 1\n",
    "\n",
    "    return roman_numeral"
   ]
  },
  {
   "cell_type": "code",
   "execution_count": 124,
   "id": "5d3da70d",
   "metadata": {
    "ExecuteTime": {
     "end_time": "2023-07-28T09:04:50.713228Z",
     "start_time": "2023-07-28T09:04:50.706572Z"
    }
   },
   "outputs": [
    {
     "name": "stdout",
     "output_type": "stream",
     "text": [
      "6\n"
     ]
    }
   ],
   "source": [
    "nums = [1,2,3,2,5,3]\n",
    "sums = 0\n",
    "for i in nums:\n",
    "    if nums.count(i) == 1:\n",
    "        sums = sums + i\n",
    "print(sums)"
   ]
  },
  {
   "cell_type": "code",
   "execution_count": 125,
   "id": "225f0626",
   "metadata": {
    "ExecuteTime": {
     "end_time": "2023-07-28T09:04:50.721313Z",
     "start_time": "2023-07-28T09:04:50.715084Z"
    }
   },
   "outputs": [
    {
     "name": "stdout",
     "output_type": "stream",
     "text": [
      "[1, 2, 3, 5]\n"
     ]
    }
   ],
   "source": [
    "nums = [1,2,3,2,5,3]\n",
    "res = []\n",
    "for i in nums:\n",
    "    if i not in res:\n",
    "        res.append(i)\n",
    "print(res)"
   ]
  },
  {
   "cell_type": "code",
   "execution_count": 126,
   "id": "98b9f81e",
   "metadata": {
    "ExecuteTime": {
     "end_time": "2023-07-28T09:04:50.731304Z",
     "start_time": "2023-07-28T09:04:50.723621Z"
    }
   },
   "outputs": [
    {
     "name": "stdout",
     "output_type": "stream",
     "text": [
      "4\n"
     ]
    }
   ],
   "source": [
    "nums = [1,2,3,2]\n",
    "r = 0\n",
    "for i in nums:\n",
    "    if nums.count(i) == 1:\n",
    "        r = r + i\n",
    "print(r)"
   ]
  },
  {
   "cell_type": "code",
   "execution_count": 127,
   "id": "44d412dd",
   "metadata": {
    "ExecuteTime": {
     "end_time": "2023-07-28T09:04:50.743274Z",
     "start_time": "2023-07-28T09:04:50.737453Z"
    }
   },
   "outputs": [],
   "source": [
    "def erase_overlap_intervals(intervals):\n",
    "    # Sort the intervals based on their end times\n",
    "    intervals.sort(key=lambda x: x[1])\n",
    "\n",
    "    count = 0\n",
    "    prev_end = float('-inf')  # Initialize to negative infinity\n",
    "\n",
    "    for interval in intervals:\n",
    "        start, end = interval\n",
    "\n",
    "        # If the current interval overlaps with the last selected interval\n",
    "        if start < prev_end:\n",
    "            count += 1\n",
    "        else:\n",
    "            prev_end = end  # Update the end time of the last selected interval\n",
    "\n",
    "    return count\n",
    "\n"
   ]
  },
  {
   "cell_type": "code",
   "execution_count": 128,
   "id": "317c0796",
   "metadata": {
    "ExecuteTime": {
     "end_time": "2023-07-28T09:04:50.758431Z",
     "start_time": "2023-07-28T09:04:50.746274Z"
    }
   },
   "outputs": [
    {
     "data": {
      "text/plain": [
       "[[1, 2, 3], [1, 3, 2], [2, 1, 3], [2, 3, 1], [3, 2, 1], [3, 1, 2]]"
      ]
     },
     "execution_count": 128,
     "metadata": {},
     "output_type": "execute_result"
    }
   ],
   "source": [
    "def permute(nums):\n",
    "    def backtrack(start):\n",
    "        if start == len(nums) - 1:\n",
    "            result.append(nums[:])  # Append a copy of the current permutation\n",
    "            return\n",
    "\n",
    "        for i in range(start, len(nums)):\n",
    "            nums[start], nums[i] = nums[i], nums[start]  # Swap elements\n",
    "            backtrack(start + 1)\n",
    "            nums[start], nums[i] = nums[i], nums[start]  # Backtrack (restore original order)\n",
    "\n",
    "    result = []\n",
    "    backtrack(0)\n",
    "    return result\n",
    "\n",
    "nums = [1,2,3]\n",
    "permute(nums)"
   ]
  },
  {
   "cell_type": "code",
   "execution_count": 129,
   "id": "19ab88f5",
   "metadata": {
    "ExecuteTime": {
     "end_time": "2023-07-28T09:04:50.769120Z",
     "start_time": "2023-07-28T09:04:50.762051Z"
    }
   },
   "outputs": [],
   "source": [
    "def permute(nums):\n",
    "    def backtrack(start):\n",
    "        if start == len(nums):\n",
    "            result.append(nums[:])\n",
    "        for i in range(start, len(nums)):\n",
    "            nums[start], nums[i] = nums[i], nums[start]\n",
    "            backtrack(start + 1)\n",
    "            nums[start], nums[i] = nums[i], nums[start]  # Backtrack\n",
    "\n",
    "    result = []\n",
    "    backtrack(0)\n",
    "    return result\n"
   ]
  },
  {
   "cell_type": "code",
   "execution_count": 130,
   "id": "a3c7177a",
   "metadata": {
    "ExecuteTime": {
     "end_time": "2023-07-28T09:04:50.783228Z",
     "start_time": "2023-07-28T09:04:50.772347Z"
    }
   },
   "outputs": [
    {
     "data": {
      "text/plain": [
       "['(())', '()()']"
      ]
     },
     "execution_count": 130,
     "metadata": {},
     "output_type": "execute_result"
    }
   ],
   "source": [
    "def generateParentheses(n):\n",
    "    def backtrack(s, left, right):\n",
    "        if len(s) == 2 * n:\n",
    "            combinations.append(s)\n",
    "            return\n",
    "\n",
    "        if left < n:\n",
    "            backtrack(s + '(', left + 1, right)\n",
    "\n",
    "        if right < left:\n",
    "            backtrack(s + ')', left, right + 1)\n",
    "\n",
    "    combinations = []\n",
    "    backtrack('', 0, 0)\n",
    "    return combinations\n",
    "\n",
    "n = 2\n",
    "generateParentheses(n)"
   ]
  },
  {
   "cell_type": "code",
   "execution_count": 131,
   "id": "3051b404",
   "metadata": {
    "ExecuteTime": {
     "end_time": "2023-07-28T09:04:50.795103Z",
     "start_time": "2023-07-28T09:04:50.786468Z"
    }
   },
   "outputs": [
    {
     "data": {
      "text/plain": [
       "True"
      ]
     },
     "execution_count": 131,
     "metadata": {},
     "output_type": "execute_result"
    }
   ],
   "source": [
    "def isValid(s):\n",
    "    stack = []\n",
    "    mapping = {')': '(', '}': '{', ']': '['}\n",
    "\n",
    "    for char in s:\n",
    "        if char in mapping:\n",
    "            top_element = stack.pop() if stack else '#'\n",
    "            if mapping[char] != top_element:\n",
    "                return False\n",
    "        else:\n",
    "            stack.append(char)\n",
    "\n",
    "    return not stack\n",
    "\n",
    "s = \"()\"\n",
    "isValid(s)"
   ]
  },
  {
   "cell_type": "code",
   "execution_count": 132,
   "id": "629e8947",
   "metadata": {
    "ExecuteTime": {
     "end_time": "2023-07-28T09:04:50.802881Z",
     "start_time": "2023-07-28T09:04:50.798632Z"
    }
   },
   "outputs": [],
   "source": [
    "def is_anagram(s, t):\n",
    "    if len(s) != len(t):\n",
    "        return False\n",
    "\n",
    "    char_frequency = {}\n",
    "\n",
    "    for char in s:\n",
    "        char_frequency[char] = char_frequency.get(char, 0) + 1\n",
    "\n",
    "    for char in t:\n",
    "        if char_frequency.get(char, 0) == 0:\n",
    "            return False\n",
    "        char_frequency[char] -= 1\n",
    "\n",
    "    return True"
   ]
  },
  {
   "cell_type": "code",
   "execution_count": 133,
   "id": "b02bf3e1",
   "metadata": {
    "ExecuteTime": {
     "end_time": "2023-07-28T09:04:50.811163Z",
     "start_time": "2023-07-28T09:04:50.805118Z"
    }
   },
   "outputs": [],
   "source": [
    "def find_single_numbers(nums):\n",
    "    xor_result = 0\n",
    "    for num in nums:\n",
    "        xor_result ^= num\n",
    "\n",
    "    rightmost_set_bit = xor_result & -xor_result\n",
    "\n",
    "    group1, group2 = 0, 0\n",
    "    for num in nums:\n",
    "        if num & rightmost_set_bit:\n",
    "            group1 ^= num\n",
    "        else:\n",
    "            group2 ^= num\n",
    "\n",
    "    return [group1, group2]\n",
    "\n"
   ]
  },
  {
   "cell_type": "code",
   "execution_count": 134,
   "id": "fec4b0d0",
   "metadata": {
    "ExecuteTime": {
     "end_time": "2023-07-28T09:04:50.822510Z",
     "start_time": "2023-07-28T09:04:50.813717Z"
    }
   },
   "outputs": [
    {
     "data": {
      "text/plain": [
       "[2, 2]"
      ]
     },
     "execution_count": 134,
     "metadata": {},
     "output_type": "execute_result"
    }
   ],
   "source": [
    "def intersect(nums1, nums2):\n",
    "    count_dict = {}\n",
    "    \n",
    "    for num in nums1:\n",
    "        count_dict[num] = count_dict.get(num, 0) + 1\n",
    "\n",
    "    result = []\n",
    "\n",
    "    for num in nums2:\n",
    "        if num in count_dict and count_dict[num] > 0:\n",
    "            result.append(num)\n",
    "            count_dict[num] -= 1\n",
    "\n",
    "    return result\n",
    "\n",
    "nums1 = [1, 2, 2, 1]\n",
    "nums2 = [2, 2]\n",
    "intersect(nums1, nums2)\n"
   ]
  },
  {
   "cell_type": "code",
   "execution_count": 135,
   "id": "69aa5ae6",
   "metadata": {
    "ExecuteTime": {
     "end_time": "2023-07-28T09:04:50.835258Z",
     "start_time": "2023-07-28T09:04:50.826188Z"
    }
   },
   "outputs": [
    {
     "data": {
      "text/plain": [
       "[2, 2]"
      ]
     },
     "execution_count": 135,
     "metadata": {},
     "output_type": "execute_result"
    }
   ],
   "source": [
    "def intersect(nums1, nums2):\n",
    "    count_dict1 = {}\n",
    "    count_dict2 = {}\n",
    "\n",
    "    for num in nums1:\n",
    "        count_dict1[num] = count_dict1.get(num, 0) + 1\n",
    "\n",
    "    for num in nums2:\n",
    "        count_dict2[num] = count_dict2.get(num, 0) + 1\n",
    "\n",
    "    result = []\n",
    "\n",
    "    for num in nums2:\n",
    "        if num in count_dict1 and count_dict1[num] > 0 and num in count_dict2 and count_dict2[num] > 0:\n",
    "            result.append(num)\n",
    "            count_dict1[num] -= 1\n",
    "            count_dict2[num] -= 1\n",
    "\n",
    "    return result\n",
    "\n",
    "nums1 = [1, 2, 2, 1]\n",
    "nums2 = [2, 2]\n",
    "intersect(nums1, nums2)"
   ]
  },
  {
   "cell_type": "code",
   "execution_count": 136,
   "id": "b49d5660",
   "metadata": {
    "ExecuteTime": {
     "end_time": "2023-07-28T09:04:50.847414Z",
     "start_time": "2023-07-28T09:04:50.838153Z"
    }
   },
   "outputs": [
    {
     "data": {
      "text/plain": [
       "'200'"
      ]
     },
     "execution_count": 136,
     "metadata": {},
     "output_type": "execute_result"
    }
   ],
   "source": [
    "def removeKdigits(num, k):\n",
    "    stack = []\n",
    "    \n",
    "    for digit in num:\n",
    "        while k > 0 and stack and stack[-1] > digit:\n",
    "            stack.pop()\n",
    "            k -= 1\n",
    "        stack.append(digit)\n",
    "\n",
    "    # If k is not yet zero, remove remaining digits from the end\n",
    "    while k > 0:\n",
    "        stack.pop()\n",
    "        k -= 1\n",
    "\n",
    "    # Construct the result string, removing leading zeroes\n",
    "    result = ''.join(stack).lstrip('0')\n",
    "\n",
    "    # If the result is an empty string, return \"0\"\n",
    "    return result if result else \"0\"\n",
    "\n",
    "removeKdigits(\"10200\", 1)\n",
    "\n"
   ]
  },
  {
   "cell_type": "code",
   "execution_count": 137,
   "id": "4750f6f6",
   "metadata": {
    "ExecuteTime": {
     "end_time": "2023-07-28T09:04:50.859833Z",
     "start_time": "2023-07-28T09:04:50.851134Z"
    }
   },
   "outputs": [
    {
     "data": {
      "text/plain": [
       "'1219'"
      ]
     },
     "execution_count": 137,
     "metadata": {},
     "output_type": "execute_result"
    }
   ],
   "source": [
    "def removeKdigits(num, k):\n",
    "    stack = []\n",
    "    for digit in num:\n",
    "        while k > 0 and stack and stack[-1] > digit:\n",
    "            stack.pop()\n",
    "            k -= 1\n",
    "        stack.append(digit)\n",
    "\n",
    "    while k > 0:\n",
    "        stack.pop()\n",
    "        k -= 1\n",
    "\n",
    "    result = ''.join(stack).lstrip('0')\n",
    "\n",
    "    return result if result else \"0\"\n",
    "\n",
    "removeKdigits(\"1432219\", 3)\n"
   ]
  },
  {
   "cell_type": "code",
   "execution_count": 144,
   "id": "7f9d18d0",
   "metadata": {
    "ExecuteTime": {
     "end_time": "2023-07-28T09:09:27.754800Z",
     "start_time": "2023-07-28T09:09:27.740783Z"
    }
   },
   "outputs": [
    {
     "data": {
      "text/plain": [
       "4"
      ]
     },
     "execution_count": 144,
     "metadata": {},
     "output_type": "execute_result"
    }
   ],
   "source": [
    "def longest_valid_parentheses(s):\n",
    "    stack = [-1]  # Initialize the stack with -1 to handle edge cases like \"()\" and \")()()(\"\n",
    "    max_length = 0\n",
    "\n",
    "    for i, char in enumerate(s):\n",
    "        if char == '(':\n",
    "            stack.append(i)\n",
    "        else:\n",
    "            stack.pop()\n",
    "            if not stack:\n",
    "                stack.append(i)  # Push the current closing parenthesis index to restart the count\n",
    "            else:\n",
    "                max_length = max(max_length, i - stack[-1])\n",
    "\n",
    "    return max_length\n",
    "\n",
    "s = \")()())\"\n",
    "longest_valid_parentheses(s)"
   ]
  },
  {
   "cell_type": "code",
   "execution_count": 147,
   "id": "8511dac1",
   "metadata": {
    "ExecuteTime": {
     "end_time": "2023-07-28T09:18:50.332943Z",
     "start_time": "2023-07-28T09:18:50.313205Z"
    }
   },
   "outputs": [
    {
     "data": {
      "text/plain": [
       "12"
      ]
     },
     "execution_count": 147,
     "metadata": {},
     "output_type": "execute_result"
    }
   ],
   "source": [
    "def nthUglyNumber(n):\n",
    "    ugly_nums = [0] * n\n",
    "    ugly_nums[0] = 1\n",
    "\n",
    "    p2, p3, p5 = 0, 0, 0\n",
    "    next_multiple_of_2, next_multiple_of_3, next_multiple_of_5 = 2, 3, 5\n",
    "\n",
    "    for i in range(1, n):\n",
    "        next_ugly_num = min(next_multiple_of_2, next_multiple_of_3, next_multiple_of_5)\n",
    "        ugly_nums[i] = next_ugly_num\n",
    "\n",
    "        if next_ugly_num == next_multiple_of_2:\n",
    "            p2 += 1\n",
    "            next_multiple_of_2 = ugly_nums[p2] * 2\n",
    "        if next_ugly_num == next_multiple_of_3:\n",
    "            p3 += 1\n",
    "            next_multiple_of_3 = ugly_nums[p3] * 3\n",
    "        if next_ugly_num == next_multiple_of_5:\n",
    "            p5 += 1\n",
    "            next_multiple_of_5 = ugly_nums[p5] * 5\n",
    "\n",
    "    return ugly_nums[-1]\n",
    "\n",
    "nthUglyNumber(10)"
   ]
  },
  {
   "cell_type": "code",
   "execution_count": 148,
   "id": "03ddf46b",
   "metadata": {
    "ExecuteTime": {
     "end_time": "2023-07-28T09:27:22.443290Z",
     "start_time": "2023-07-28T09:27:22.433219Z"
    }
   },
   "outputs": [
    {
     "name": "stdout",
     "output_type": "stream",
     "text": [
      "4\n",
      "4\n",
      "1\n"
     ]
    }
   ],
   "source": [
    "def length_of_lis(nums):\n",
    "    if not nums:\n",
    "        return 0\n",
    "\n",
    "    n = len(nums)\n",
    "    dp = [1] * n  # Initialize the dp array with 1, as the minimum LIS length for any element is 1\n",
    "\n",
    "    for i in range(1, n):\n",
    "        for j in range(i):\n",
    "            if nums[i] > nums[j]:\n",
    "                dp[i] = max(dp[i], dp[j] + 1)\n",
    "\n",
    "    return max(dp)\n",
    "\n",
    "# Test cases\n",
    "nums1 = [10, 9, 2, 5, 3, 7, 101, 18]\n",
    "print(length_of_lis(nums1))\n",
    "\n",
    "nums2 = [0, 1, 0, 3, 2, 3]\n",
    "print(length_of_lis(nums2))  \n",
    "\n",
    "nums3 = [7, 7, 7, 7, 7, 7, 7]\n",
    "print(length_of_lis(nums3))\n"
   ]
  },
  {
   "cell_type": "code",
   "execution_count": 150,
   "id": "0beeb900",
   "metadata": {
    "ExecuteTime": {
     "end_time": "2023-07-28T09:46:19.602759Z",
     "start_time": "2023-07-28T09:46:19.589263Z"
    }
   },
   "outputs": [
    {
     "data": {
      "text/plain": [
       "2.0"
      ]
     },
     "execution_count": 150,
     "metadata": {},
     "output_type": "execute_result"
    }
   ],
   "source": [
    "import math\n",
    "math.sqrt(4)"
   ]
  },
  {
   "cell_type": "code",
   "execution_count": 151,
   "id": "c9059bfc",
   "metadata": {
    "ExecuteTime": {
     "end_time": "2023-07-28T09:50:18.510008Z",
     "start_time": "2023-07-28T09:50:18.497667Z"
    }
   },
   "outputs": [
    {
     "name": "stdout",
     "output_type": "stream",
     "text": [
      "[0, 1, 1]\n",
      "[0, 1, 1, 2, 1, 2]\n"
     ]
    }
   ],
   "source": [
    "def countBits(n):\n",
    "    # Initialize an array to store the count of 1's for each integer from 0 to n.\n",
    "    ans = [0] * (n + 1)\n",
    "\n",
    "    for i in range(1, n + 1):\n",
    "        # The number of 1's in binary representation of i is equal to the number of 1's in i/2 (right shift by 1)\n",
    "        # plus the last bit of i (i & 1).\n",
    "        ans[i] = ans[i >> 1] + (i & 1)\n",
    "\n",
    "    return ans\n",
    "\n",
    "# Test cases\n",
    "print(countBits(2))  # Output: [0, 1, 1]\n",
    "print(countBits(5))  # Output: [0, 1, 1, 2, 1, 2]\n"
   ]
  },
  {
   "cell_type": "code",
   "execution_count": 152,
   "id": "0f304868",
   "metadata": {
    "ExecuteTime": {
     "end_time": "2023-07-28T09:59:07.172297Z",
     "start_time": "2023-07-28T09:59:07.166352Z"
    }
   },
   "outputs": [
    {
     "name": "stdout",
     "output_type": "stream",
     "text": [
      "[1, 2]\n",
      "[1, 2, 4, 8]\n"
     ]
    }
   ],
   "source": [
    "def largestDivisibleSubset(nums):\n",
    "    nums.sort()\n",
    "    n = len(nums)\n",
    "    dp = [1] * n\n",
    "    prev_index = [-1] * n\n",
    "    max_length = 1\n",
    "    max_index = 0\n",
    "\n",
    "    for i in range(n):\n",
    "        for j in range(i):\n",
    "            if nums[i] % nums[j] == 0 and dp[j] + 1 > dp[i]:\n",
    "                dp[i] = dp[j] + 1\n",
    "                prev_index[i] = j\n",
    "\n",
    "        if dp[i] > max_length:\n",
    "            max_length = dp[i]\n",
    "            max_index = i\n",
    "\n",
    "    largest_subset = []\n",
    "    while max_index != -1:\n",
    "        largest_subset.append(nums[max_index])\n",
    "        max_index = prev_index[max_index]\n",
    "\n",
    "    return largest_subset[::-1]\n",
    "\n",
    "# Test cases\n",
    "print(largestDivisibleSubset([1, 2, 3]))  # Output: [1, 2] or [1, 3]\n",
    "print(largestDivisibleSubset([1, 2, 4, 8]))  # Output: [1, 2, 4, 8]\n"
   ]
  },
  {
   "cell_type": "code",
   "execution_count": 153,
   "id": "486ab718",
   "metadata": {
    "ExecuteTime": {
     "end_time": "2023-07-28T10:03:02.026842Z",
     "start_time": "2023-07-28T10:03:02.018328Z"
    }
   },
   "outputs": [
    {
     "name": "stdout",
     "output_type": "stream",
     "text": [
      "3\n",
      "5\n",
      "-1\n"
     ]
    }
   ],
   "source": [
    "def get_sum(a, b):\n",
    "    mask = 0xFFFFFFFF  # 32-bit integer mask\n",
    "    while b != 0:\n",
    "        carry = (a & b) & mask\n",
    "        a = (a ^ b) & mask\n",
    "        b = (carry << 1) & mask\n",
    "\n",
    "    # If a is negative, convert it to a 32-bit negative number\n",
    "    if a & (1 << 31):\n",
    "        a = a | ~mask\n",
    "\n",
    "    return a if a <= 0x7FFFFFFF else ~(a ^ mask)\n",
    "\n",
    "# Test cases\n",
    "print(get_sum(1, 2))  # Output: 3\n",
    "print(get_sum(2, 3))  # Output: 5\n",
    "print(get_sum(-1, 0))  # Output: -1\n"
   ]
  },
  {
   "cell_type": "code",
   "execution_count": 154,
   "id": "2682f03a",
   "metadata": {
    "ExecuteTime": {
     "end_time": "2023-07-28T10:05:17.553216Z",
     "start_time": "2023-07-28T10:05:17.539343Z"
    }
   },
   "outputs": [
    {
     "name": "stdout",
     "output_type": "stream",
     "text": [
      "8\n",
      "1024\n",
      "1\n"
     ]
    }
   ],
   "source": [
    "def super_pow(a, b):\n",
    "    def mod_pow(base, exponent, modulus):\n",
    "        result = 1\n",
    "        base %= modulus\n",
    "        while exponent > 0:\n",
    "            if exponent % 2 == 1:\n",
    "                result = (result * base) % modulus\n",
    "            exponent >>= 1\n",
    "            base = (base * base) % modulus\n",
    "        return result\n",
    "\n",
    "    # To calculate a^b mod 1337, we can use Euler's theorem:\n",
    "    # If 'a' and 'm' are coprime (gcd(a, m) == 1), then a^phi(m) mod m = 1, where phi(m) is the Euler's totient function.\n",
    "    # In this case, 1337 is a prime number, so phi(1337) = 1337 - 1 = 1336.\n",
    "    # Therefore, we need to find a^b mod 1336 instead of directly finding a^b mod 1337.\n",
    "\n",
    "    # Calculate the value of b as a single integer\n",
    "    exp = int(''.join(map(str, b)))\n",
    "\n",
    "    # Since 1 <= a <= 2^31 - 1, and phi(1336) = 1336, a^b mod 1336 will always be less than 1336.\n",
    "    # Hence, we can use the modulus 1336 in the mod_pow function.\n",
    "    return mod_pow(a, exp, 1337)\n",
    "\n",
    "# Test cases\n",
    "print(super_pow(2, [3]))        # Output: 8\n",
    "print(super_pow(2, [1, 0]))     # Output: 1024\n",
    "print(super_pow(1, [4, 3, 3, 8, 5, 2]))  # Output: 1\n"
   ]
  },
  {
   "cell_type": "code",
   "execution_count": 155,
   "id": "90daccec",
   "metadata": {
    "ExecuteTime": {
     "end_time": "2023-07-28T10:11:21.183405Z",
     "start_time": "2023-07-28T10:11:21.173460Z"
    }
   },
   "outputs": [
    {
     "name": "stdout",
     "output_type": "stream",
     "text": [
      "91\n",
      "1\n"
     ]
    }
   ],
   "source": [
    "def count_numbers_with_unique_digits(n):\n",
    "    if n == 0:\n",
    "        return 1\n",
    "\n",
    "    unique_digits_count = 10  # base case for n = 1\n",
    "\n",
    "    # Calculate count of numbers with unique digits for each digit position\n",
    "    for i in range(2, n + 1):\n",
    "        unique_digits_for_position = 9\n",
    "        for j in range(1, i):\n",
    "            unique_digits_for_position *= (10 - j)\n",
    "        unique_digits_count += unique_digits_for_position\n",
    "\n",
    "    return unique_digits_count\n",
    "\n",
    "# Test cases\n",
    "print(count_numbers_with_unique_digits(2))  # Output: 91\n",
    "print(count_numbers_with_unique_digits(0))  # Output: 1\n"
   ]
  },
  {
   "cell_type": "code",
   "execution_count": 158,
   "id": "b8301ce7",
   "metadata": {
    "ExecuteTime": {
     "end_time": "2023-07-28T10:18:13.454814Z",
     "start_time": "2023-07-28T10:18:13.448594Z"
    }
   },
   "outputs": [
    {
     "data": {
      "text/plain": [
       "[1, 10, 11, 12, 13, 2, 3, 4, 5, 6, 7, 8, 9]"
      ]
     },
     "execution_count": 158,
     "metadata": {},
     "output_type": "execute_result"
    }
   ],
   "source": [
    "def lexicalOrder(n):\n",
    "    result = []\n",
    "    current = 1\n",
    "\n",
    "    for _ in range(n):\n",
    "        result.append(current)\n",
    "\n",
    "        if current * 10 <= n:\n",
    "            current *= 10\n",
    "        elif current % 10 != 9 and current + 1 <= n:\n",
    "            current += 1\n",
    "        else:\n",
    "            while (current // 10) % 10 == 9:\n",
    "                current //= 10\n",
    "            current = current // 10 + 1\n",
    "\n",
    "    return result\n",
    "\n",
    "n = 13\n",
    "lexicalOrder(n)"
   ]
  },
  {
   "cell_type": "code",
   "execution_count": 159,
   "id": "086d3b2c",
   "metadata": {
    "ExecuteTime": {
     "end_time": "2023-07-28T10:21:28.682584Z",
     "start_time": "2023-07-28T10:21:28.669196Z"
    }
   },
   "outputs": [
    {
     "name": "stdout",
     "output_type": "stream",
     "text": [
      "True\n",
      "False\n"
     ]
    }
   ],
   "source": [
    "def isSubsequence(s, t):\n",
    "    # Initialize two pointers for s and t\n",
    "    pointer_s, pointer_t = 0, 0\n",
    "\n",
    "    # Iterate through both strings\n",
    "    while pointer_s < len(s) and pointer_t < len(t):\n",
    "        # If characters match, move both pointers\n",
    "        if s[pointer_s] == t[pointer_t]:\n",
    "            pointer_s += 1\n",
    "        # Always move the pointer for t\n",
    "        pointer_t += 1\n",
    "\n",
    "    # Check if all characters of s were found in the correct order\n",
    "    return pointer_s == len(s)\n",
    "\n",
    "# Test cases\n",
    "print(isSubsequence(\"abc\", \"ahbgdc\"))  # Output: True\n",
    "print(isSubsequence(\"axc\", \"ahbgdc\"))  # Output: False\n"
   ]
  },
  {
   "cell_type": "code",
   "execution_count": 160,
   "id": "e57e9ab8",
   "metadata": {
    "ExecuteTime": {
     "end_time": "2023-07-28T10:35:35.104142Z",
     "start_time": "2023-07-28T10:35:35.096876Z"
    }
   },
   "outputs": [
    {
     "name": "stdout",
     "output_type": "stream",
     "text": [
      "True\n",
      "False\n",
      "True\n"
     ]
    }
   ],
   "source": [
    "def repeatedSubstringPattern(s):\n",
    "    n = len(s)\n",
    "    for i in range(1, n // 2 + 1):\n",
    "        if n % i == 0:\n",
    "            prefix = s[:i]\n",
    "            if s == prefix * (n // i):\n",
    "                return True\n",
    "    return False\n",
    "\n",
    "print(repeatedSubstringPattern(\"abab\")) # Output: True\n",
    "print(repeatedSubstringPattern(\"aba\"))  # Output: False\n",
    "print(repeatedSubstringPattern(\"abcabcabcabc\"))  # Output: True"
   ]
  },
  {
   "cell_type": "code",
   "execution_count": null,
   "id": "57ed0b25",
   "metadata": {},
   "outputs": [],
   "source": []
  }
 ],
 "metadata": {
  "kernelspec": {
   "display_name": "Python 3 (ipykernel)",
   "language": "python",
   "name": "python3"
  },
  "language_info": {
   "codemirror_mode": {
    "name": "ipython",
    "version": 3
   },
   "file_extension": ".py",
   "mimetype": "text/x-python",
   "name": "python",
   "nbconvert_exporter": "python",
   "pygments_lexer": "ipython3",
   "version": "3.10.6"
  },
  "varInspector": {
   "cols": {
    "lenName": 16,
    "lenType": 16,
    "lenVar": 40
   },
   "kernels_config": {
    "python": {
     "delete_cmd_postfix": "",
     "delete_cmd_prefix": "del ",
     "library": "var_list.py",
     "varRefreshCmd": "print(var_dic_list())"
    },
    "r": {
     "delete_cmd_postfix": ") ",
     "delete_cmd_prefix": "rm(",
     "library": "var_list.r",
     "varRefreshCmd": "cat(var_dic_list()) "
    }
   },
   "types_to_exclude": [
    "module",
    "function",
    "builtin_function_or_method",
    "instance",
    "_Feature"
   ],
   "window_display": false
  }
 },
 "nbformat": 4,
 "nbformat_minor": 5
}
