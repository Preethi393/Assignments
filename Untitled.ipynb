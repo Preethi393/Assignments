{
 "cells": [
  {
   "cell_type": "code",
   "execution_count": null,
   "id": "d8e87f4a",
   "metadata": {},
   "outputs": [],
   "source": [
    "import pandas as pd\n",
    "import matplotlib.pyplot as plt"
   ]
  },
  {
   "cell_type": "code",
   "execution_count": null,
   "id": "35cd8d02",
   "metadata": {},
   "outputs": [],
   "source": [
    "def read_yolo_coco_annotation(file_path):\n",
    "    with open(file_path, 'r') as file:\n",
    "        lines = file.readlines()\n",
    "\n",
    "    annotations = []\n",
    "    for line in lines:\n",
    "        data = line.strip().split()\n",
    "        class_label = int(data[0])\n",
    "        x_center = float(data[1])\n",
    "        y_center = float(data[2])\n",
    "        width = float(data[3])\n",
    "        height = float(data[4])\n",
    "        annotations.append({\n",
    "            'class_label': class_label,\n",
    "            'x_center': x_center,\n",
    "            'y_center': y_center,\n",
    "            'width': width,\n",
    "            'height': height\n",
    "        })\n",
    "\n",
    "    return annotations\n",
    "\n",
    "# Example usage\n",
    "annotations = read_yolo_coco_annotation('path/to/yolo_coco_annotation.txt')\n"
   ]
  },
  {
   "cell_type": "code",
   "execution_count": null,
   "id": "6b21f698",
   "metadata": {},
   "outputs": [],
   "source": []
  },
  {
   "cell_type": "code",
   "execution_count": null,
   "id": "8499af21",
   "metadata": {},
   "outputs": [],
   "source": [
    "# Load the dataset and annotation files\n",
    "dataset = pd.read_csv('dataset.csv')\n",
    "annotations = pd.read_csv('annotations.csv')"
   ]
  },
  {
   "cell_type": "code",
   "execution_count": null,
   "id": "81582b49",
   "metadata": {},
   "outputs": [],
   "source": [
    "# Class count\n",
    "class_count = annotations['class'].value_counts()\n",
    "class_count.plot(kind='bar')\n",
    "plt.xlabel('Class')\n",
    "plt.ylabel('Count')\n",
    "plt.title('Class Count')\n",
    "plt.show()\n",
    "\n",
    "# Bounding boxes per image\n",
    "bbox_per_image = annotations.groupby('image_id').size()\n",
    "bbox_per_image.plot(kind='hist', bins=20)\n",
    "plt.xlabel('Number of Bounding Boxes')\n",
    "plt.ylabel('Count')\n",
    "plt.title('Bounding Boxes per Image')\n",
    "plt.show()\n",
    "\n",
    "# Bounding boxes per class\n",
    "bbox_per_class = annotations['class'].value_counts()\n",
    "bbox_per_class.plot(kind='bar')\n",
    "plt.xlabel('Class')\n",
    "plt.ylabel('Count')\n",
    "plt.title('Bounding Boxes per Class')\n",
    "plt.show()\n",
    "\n",
    "# Distribution of bounding box sizes\n",
    "annotations['bbox_width'] = annotations['bbox_xmax'] - annotations['bbox_xmin']\n",
    "annotations['bbox_height'] = annotations['bbox_ymax'] - annotations['bbox_ymin']\n",
    "bbox_sizes = annotations.groupby('image_id')[['bbox_width', 'bbox_height']].mean()\n",
    "bbox_sizes.plot(kind='box')\n",
    "plt.ylabel('Size')\n",
    "plt.title('Distribution of Bounding Box Sizes')\n",
    "plt.show()\n"
   ]
  },
  {
   "cell_type": "code",
   "execution_count": null,
   "id": "bd028c1d",
   "metadata": {},
   "outputs": [],
   "source": []
  }
 ],
 "metadata": {
  "kernelspec": {
   "display_name": "Python 3 (ipykernel)",
   "language": "python",
   "name": "python3"
  },
  "language_info": {
   "codemirror_mode": {
    "name": "ipython",
    "version": 3
   },
   "file_extension": ".py",
   "mimetype": "text/x-python",
   "name": "python",
   "nbconvert_exporter": "python",
   "pygments_lexer": "ipython3",
   "version": "3.10.6"
  },
  "varInspector": {
   "cols": {
    "lenName": 16,
    "lenType": 16,
    "lenVar": 40
   },
   "kernels_config": {
    "python": {
     "delete_cmd_postfix": "",
     "delete_cmd_prefix": "del ",
     "library": "var_list.py",
     "varRefreshCmd": "print(var_dic_list())"
    },
    "r": {
     "delete_cmd_postfix": ") ",
     "delete_cmd_prefix": "rm(",
     "library": "var_list.r",
     "varRefreshCmd": "cat(var_dic_list()) "
    }
   },
   "types_to_exclude": [
    "module",
    "function",
    "builtin_function_or_method",
    "instance",
    "_Feature"
   ],
   "window_display": false
  }
 },
 "nbformat": 4,
 "nbformat_minor": 5
}
