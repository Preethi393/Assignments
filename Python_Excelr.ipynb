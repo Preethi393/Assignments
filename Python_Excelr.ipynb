{
 "cells": [
  {
   "cell_type": "code",
   "execution_count": 1,
   "id": "e0a0471c",
   "metadata": {
    "ExecuteTime": {
     "end_time": "2023-07-17T05:17:53.103164Z",
     "start_time": "2023-07-17T05:17:53.095475Z"
    }
   },
   "outputs": [],
   "source": [
    "msg = 'HeLLo, welcome to my world'"
   ]
  },
  {
   "cell_type": "code",
   "execution_count": 2,
   "id": "ea91615f",
   "metadata": {
    "ExecuteTime": {
     "end_time": "2023-07-17T05:17:53.120892Z",
     "start_time": "2023-07-17T05:17:53.106252Z"
    }
   },
   "outputs": [
    {
     "data": {
      "text/plain": [
       "26"
      ]
     },
     "execution_count": 2,
     "metadata": {},
     "output_type": "execute_result"
    }
   ],
   "source": [
    "len(msg)"
   ]
  },
  {
   "cell_type": "code",
   "execution_count": 3,
   "id": "83e54f77",
   "metadata": {
    "ExecuteTime": {
     "end_time": "2023-07-17T05:17:53.130937Z",
     "start_time": "2023-07-17T05:17:53.122768Z"
    }
   },
   "outputs": [
    {
     "data": {
      "text/plain": [
       "' world'"
      ]
     },
     "execution_count": 3,
     "metadata": {},
     "output_type": "execute_result"
    }
   ],
   "source": [
    "msg[20:]"
   ]
  },
  {
   "cell_type": "code",
   "execution_count": 4,
   "id": "cad8bc92",
   "metadata": {
    "ExecuteTime": {
     "end_time": "2023-07-17T05:17:53.138771Z",
     "start_time": "2023-07-17T05:17:53.133958Z"
    }
   },
   "outputs": [
    {
     "data": {
      "text/plain": [
       "'eLLo, welcome to my world'"
      ]
     },
     "execution_count": 4,
     "metadata": {},
     "output_type": "execute_result"
    }
   ],
   "source": [
    "msg.removeprefix('H')"
   ]
  },
  {
   "cell_type": "code",
   "execution_count": 5,
   "id": "3880b4a1",
   "metadata": {
    "ExecuteTime": {
     "end_time": "2023-07-17T05:17:53.147068Z",
     "start_time": "2023-07-17T05:17:53.142587Z"
    }
   },
   "outputs": [
    {
     "data": {
      "text/plain": [
       "'HeLLo, welcome to my world9'"
      ]
     },
     "execution_count": 5,
     "metadata": {},
     "output_type": "execute_result"
    }
   ],
   "source": [
    "msg + '9'"
   ]
  },
  {
   "cell_type": "code",
   "execution_count": 6,
   "id": "ae5f0973",
   "metadata": {
    "ExecuteTime": {
     "end_time": "2023-07-17T05:17:53.153660Z",
     "start_time": "2023-07-17T05:17:53.149138Z"
    }
   },
   "outputs": [],
   "source": [
    "num = 36"
   ]
  },
  {
   "cell_type": "code",
   "execution_count": 7,
   "id": "0db4ff2f",
   "metadata": {
    "ExecuteTime": {
     "end_time": "2023-07-17T05:17:53.161489Z",
     "start_time": "2023-07-17T05:17:53.155915Z"
    }
   },
   "outputs": [],
   "source": [
    "s = 'python'"
   ]
  },
  {
   "cell_type": "code",
   "execution_count": 8,
   "id": "88ad3a80",
   "metadata": {
    "ExecuteTime": {
     "end_time": "2023-07-17T05:17:53.171605Z",
     "start_time": "2023-07-17T05:17:53.163925Z"
    }
   },
   "outputs": [
    {
     "data": {
      "text/plain": [
       "int"
      ]
     },
     "execution_count": 8,
     "metadata": {},
     "output_type": "execute_result"
    }
   ],
   "source": [
    "type(num)"
   ]
  },
  {
   "cell_type": "code",
   "execution_count": 9,
   "id": "ca0bdc1e",
   "metadata": {
    "ExecuteTime": {
     "end_time": "2023-07-17T05:17:53.178153Z",
     "start_time": "2023-07-17T05:17:53.173747Z"
    }
   },
   "outputs": [],
   "source": [
    "num = str(num)"
   ]
  },
  {
   "cell_type": "code",
   "execution_count": 10,
   "id": "96d9b198",
   "metadata": {
    "ExecuteTime": {
     "end_time": "2023-07-17T05:17:53.188302Z",
     "start_time": "2023-07-17T05:17:53.183671Z"
    }
   },
   "outputs": [
    {
     "data": {
      "text/plain": [
       "str"
      ]
     },
     "execution_count": 10,
     "metadata": {},
     "output_type": "execute_result"
    }
   ],
   "source": [
    "type(num)"
   ]
  },
  {
   "cell_type": "code",
   "execution_count": 11,
   "id": "42b0e895",
   "metadata": {
    "ExecuteTime": {
     "end_time": "2023-07-17T05:17:53.196498Z",
     "start_time": "2023-07-17T05:17:53.190504Z"
    }
   },
   "outputs": [
    {
     "data": {
      "text/plain": [
       "'python36'"
      ]
     },
     "execution_count": 11,
     "metadata": {},
     "output_type": "execute_result"
    }
   ],
   "source": [
    "s + num"
   ]
  },
  {
   "cell_type": "code",
   "execution_count": 12,
   "id": "8b0aea2e",
   "metadata": {
    "ExecuteTime": {
     "end_time": "2023-07-17T05:17:53.207076Z",
     "start_time": "2023-07-17T05:17:53.198472Z"
    }
   },
   "outputs": [
    {
     "data": {
      "text/plain": [
       "'nohtyp'"
      ]
     },
     "execution_count": 12,
     "metadata": {},
     "output_type": "execute_result"
    }
   ],
   "source": [
    "s[::-1]"
   ]
  },
  {
   "cell_type": "markdown",
   "id": "7159aa7a",
   "metadata": {
    "ExecuteTime": {
     "end_time": "2023-07-01T06:12:12.699359Z",
     "start_time": "2023-07-01T06:12:12.696876Z"
    }
   },
   "source": [
    "## LISTS\n",
    "\n",
    "- Lists are ordered collection of items i.e any datatypes\n",
    "- Mutable and use square brackets [ ]"
   ]
  },
  {
   "cell_type": "code",
   "execution_count": 13,
   "id": "95a06065",
   "metadata": {
    "ExecuteTime": {
     "end_time": "2023-07-17T05:17:53.213976Z",
     "start_time": "2023-07-17T05:17:53.209943Z"
    }
   },
   "outputs": [],
   "source": [
    "lang = ['C', 'C++', 'Java', 'Python']"
   ]
  },
  {
   "cell_type": "code",
   "execution_count": 14,
   "id": "bc7ae265",
   "metadata": {
    "ExecuteTime": {
     "end_time": "2023-07-17T05:17:53.222695Z",
     "start_time": "2023-07-17T05:17:53.216684Z"
    }
   },
   "outputs": [
    {
     "data": {
      "text/plain": [
       "'t'"
      ]
     },
     "execution_count": 14,
     "metadata": {},
     "output_type": "execute_result"
    }
   ],
   "source": [
    "lang[3][2]"
   ]
  },
  {
   "cell_type": "code",
   "execution_count": 15,
   "id": "5bd4ec38",
   "metadata": {
    "ExecuteTime": {
     "end_time": "2023-07-17T05:17:53.232939Z",
     "start_time": "2023-07-17T05:17:53.225621Z"
    }
   },
   "outputs": [
    {
     "data": {
      "text/plain": [
       "'python'"
      ]
     },
     "execution_count": 15,
     "metadata": {},
     "output_type": "execute_result"
    }
   ],
   "source": [
    "lang[3].lower()"
   ]
  },
  {
   "cell_type": "code",
   "execution_count": 16,
   "id": "b564f463",
   "metadata": {
    "ExecuteTime": {
     "end_time": "2023-07-17T05:17:53.242588Z",
     "start_time": "2023-07-17T05:17:53.235640Z"
    }
   },
   "outputs": [
    {
     "data": {
      "text/plain": [
       "[]"
      ]
     },
     "execution_count": 16,
     "metadata": {},
     "output_type": "execute_result"
    }
   ],
   "source": [
    "lang[1:-3]"
   ]
  },
  {
   "cell_type": "code",
   "execution_count": 17,
   "id": "de8d5726",
   "metadata": {
    "ExecuteTime": {
     "end_time": "2023-07-17T05:17:53.251648Z",
     "start_time": "2023-07-17T05:17:53.245481Z"
    }
   },
   "outputs": [
    {
     "data": {
      "text/plain": [
       "['C', 'C++', 'Java']"
      ]
     },
     "execution_count": 17,
     "metadata": {},
     "output_type": "execute_result"
    }
   ],
   "source": [
    "lang[-4:-1]"
   ]
  },
  {
   "cell_type": "code",
   "execution_count": 18,
   "id": "8fdb211b",
   "metadata": {
    "ExecuteTime": {
     "end_time": "2023-07-17T05:17:53.260567Z",
     "start_time": "2023-07-17T05:17:53.254231Z"
    }
   },
   "outputs": [
    {
     "data": {
      "text/plain": [
       "['C', 'C++', 'Java', 'Python']"
      ]
     },
     "execution_count": 18,
     "metadata": {},
     "output_type": "execute_result"
    }
   ],
   "source": [
    "lang"
   ]
  },
  {
   "cell_type": "code",
   "execution_count": 19,
   "id": "b9211a9c",
   "metadata": {
    "ExecuteTime": {
     "end_time": "2023-07-17T05:17:53.267972Z",
     "start_time": "2023-07-17T05:17:53.263166Z"
    }
   },
   "outputs": [],
   "source": [
    "lang.append('Perl')"
   ]
  },
  {
   "cell_type": "code",
   "execution_count": 20,
   "id": "6ab0adb1",
   "metadata": {
    "ExecuteTime": {
     "end_time": "2023-07-17T05:17:53.281913Z",
     "start_time": "2023-07-17T05:17:53.276372Z"
    }
   },
   "outputs": [
    {
     "data": {
      "text/plain": [
       "['C', 'C++', 'Java', 'Python', 'Perl']"
      ]
     },
     "execution_count": 20,
     "metadata": {},
     "output_type": "execute_result"
    }
   ],
   "source": [
    "lang"
   ]
  },
  {
   "cell_type": "code",
   "execution_count": 21,
   "id": "f9da7cc8",
   "metadata": {
    "ExecuteTime": {
     "end_time": "2023-07-17T05:17:53.290279Z",
     "start_time": "2023-07-17T05:17:53.284274Z"
    }
   },
   "outputs": [
    {
     "data": {
      "text/plain": [
       "['C', 'C++', 'Java', 'Python', 'Perl', 'ABC']"
      ]
     },
     "execution_count": 21,
     "metadata": {},
     "output_type": "execute_result"
    }
   ],
   "source": [
    "lang.insert(5, 'ABC')\n",
    "lang"
   ]
  },
  {
   "cell_type": "code",
   "execution_count": 22,
   "id": "74ec9e6d",
   "metadata": {
    "ExecuteTime": {
     "end_time": "2023-07-17T05:17:53.298493Z",
     "start_time": "2023-07-17T05:17:53.292436Z"
    }
   },
   "outputs": [
    {
     "data": {
      "text/plain": [
       "['C', 'C++', 'Java', 'Python', 'Perl']"
      ]
     },
     "execution_count": 22,
     "metadata": {},
     "output_type": "execute_result"
    }
   ],
   "source": [
    "lang.remove('ABC')\n",
    "lang"
   ]
  },
  {
   "cell_type": "code",
   "execution_count": 23,
   "id": "ddb0dc06",
   "metadata": {
    "ExecuteTime": {
     "end_time": "2023-07-17T05:17:53.306941Z",
     "start_time": "2023-07-17T05:17:53.300549Z"
    }
   },
   "outputs": [
    {
     "data": {
      "text/plain": [
       "'Perl'"
      ]
     },
     "execution_count": 23,
     "metadata": {},
     "output_type": "execute_result"
    }
   ],
   "source": [
    "lang.pop()"
   ]
  },
  {
   "cell_type": "code",
   "execution_count": 24,
   "id": "dd61f270",
   "metadata": {
    "ExecuteTime": {
     "end_time": "2023-07-17T05:17:53.316095Z",
     "start_time": "2023-07-17T05:17:53.309930Z"
    }
   },
   "outputs": [
    {
     "data": {
      "text/plain": [
       "['C', 'C++', 'Java', 'Python']"
      ]
     },
     "execution_count": 24,
     "metadata": {},
     "output_type": "execute_result"
    }
   ],
   "source": [
    "lang"
   ]
  },
  {
   "cell_type": "code",
   "execution_count": 25,
   "id": "029ddd5e",
   "metadata": {
    "ExecuteTime": {
     "end_time": "2023-07-17T05:17:53.323769Z",
     "start_time": "2023-07-17T05:17:53.317917Z"
    }
   },
   "outputs": [],
   "source": [
    "lang.insert(0, 'C')"
   ]
  },
  {
   "cell_type": "code",
   "execution_count": 26,
   "id": "f1ef8036",
   "metadata": {
    "ExecuteTime": {
     "end_time": "2023-07-17T05:17:53.332474Z",
     "start_time": "2023-07-17T05:17:53.326063Z"
    }
   },
   "outputs": [
    {
     "data": {
      "text/plain": [
       "['C', 'C', 'C++', 'Java', 'Python']"
      ]
     },
     "execution_count": 26,
     "metadata": {},
     "output_type": "execute_result"
    }
   ],
   "source": [
    "lang"
   ]
  },
  {
   "cell_type": "code",
   "execution_count": 27,
   "id": "fcb30ce3",
   "metadata": {
    "ExecuteTime": {
     "end_time": "2023-07-17T05:17:53.341877Z",
     "start_time": "2023-07-17T05:17:53.334233Z"
    }
   },
   "outputs": [
    {
     "data": {
      "text/plain": [
       "['C', 'C++', 'Java', 'Python']"
      ]
     },
     "execution_count": 27,
     "metadata": {},
     "output_type": "execute_result"
    }
   ],
   "source": [
    "lang.pop(1)\n",
    "lang"
   ]
  },
  {
   "cell_type": "code",
   "execution_count": 28,
   "id": "e8e9165b",
   "metadata": {
    "ExecuteTime": {
     "end_time": "2023-07-17T05:17:53.350551Z",
     "start_time": "2023-07-17T05:17:53.344080Z"
    }
   },
   "outputs": [
    {
     "data": {
      "text/plain": [
       "['C', 'C++', 'Java', 'Python']"
      ]
     },
     "execution_count": 28,
     "metadata": {},
     "output_type": "execute_result"
    }
   ],
   "source": [
    "lang"
   ]
  },
  {
   "cell_type": "code",
   "execution_count": 29,
   "id": "4e15e4f0",
   "metadata": {
    "ExecuteTime": {
     "end_time": "2023-07-17T05:17:53.359713Z",
     "start_time": "2023-07-17T05:17:53.352560Z"
    }
   },
   "outputs": [
    {
     "data": {
      "text/plain": [
       "['Python', 'Java', 'C++', 'C']"
      ]
     },
     "execution_count": 29,
     "metadata": {},
     "output_type": "execute_result"
    }
   ],
   "source": [
    "lang.reverse()\n",
    "lang"
   ]
  },
  {
   "cell_type": "code",
   "execution_count": 30,
   "id": "e4ac5f9b",
   "metadata": {
    "ExecuteTime": {
     "end_time": "2023-07-17T05:17:53.367746Z",
     "start_time": "2023-07-17T05:17:53.361989Z"
    }
   },
   "outputs": [
    {
     "data": {
      "text/plain": [
       "['C', 'C++', 'Java', 'Python']"
      ]
     },
     "execution_count": 30,
     "metadata": {},
     "output_type": "execute_result"
    }
   ],
   "source": [
    "lang[::-1]"
   ]
  },
  {
   "cell_type": "code",
   "execution_count": 31,
   "id": "b3bd99ab",
   "metadata": {
    "ExecuteTime": {
     "end_time": "2023-07-17T05:17:53.375982Z",
     "start_time": "2023-07-17T05:17:53.369786Z"
    }
   },
   "outputs": [
    {
     "data": {
      "text/plain": [
       "['Python', 'Java', 'C++', 'C']"
      ]
     },
     "execution_count": 31,
     "metadata": {},
     "output_type": "execute_result"
    }
   ],
   "source": [
    "lang"
   ]
  },
  {
   "cell_type": "code",
   "execution_count": 32,
   "id": "7e0bac86",
   "metadata": {
    "ExecuteTime": {
     "end_time": "2023-07-17T05:17:53.384952Z",
     "start_time": "2023-07-17T05:17:53.378177Z"
    }
   },
   "outputs": [
    {
     "data": {
      "text/plain": [
       "[1, 2, 3, 3, 5, 8]"
      ]
     },
     "execution_count": 32,
     "metadata": {},
     "output_type": "execute_result"
    }
   ],
   "source": [
    "num = [2,3,5,1,8,3]\n",
    "num.sort()\n",
    "num"
   ]
  },
  {
   "cell_type": "code",
   "execution_count": 33,
   "id": "bd59b32d",
   "metadata": {
    "ExecuteTime": {
     "end_time": "2023-07-17T05:17:53.391951Z",
     "start_time": "2023-07-17T05:17:53.387142Z"
    }
   },
   "outputs": [],
   "source": [
    "num.sort(reverse=True)"
   ]
  },
  {
   "cell_type": "code",
   "execution_count": 34,
   "id": "738d8ab9",
   "metadata": {
    "ExecuteTime": {
     "end_time": "2023-07-17T05:17:53.401383Z",
     "start_time": "2023-07-17T05:17:53.394106Z"
    }
   },
   "outputs": [
    {
     "data": {
      "text/plain": [
       "[8, 5, 3, 3, 2, 1]"
      ]
     },
     "execution_count": 34,
     "metadata": {},
     "output_type": "execute_result"
    }
   ],
   "source": [
    "num"
   ]
  },
  {
   "cell_type": "code",
   "execution_count": 35,
   "id": "bb9d67f2",
   "metadata": {
    "ExecuteTime": {
     "end_time": "2023-07-17T05:17:53.408204Z",
     "start_time": "2023-07-17T05:17:53.403253Z"
    }
   },
   "outputs": [],
   "source": [
    "lang.append('C')"
   ]
  },
  {
   "cell_type": "code",
   "execution_count": 36,
   "id": "fcf396fc",
   "metadata": {
    "ExecuteTime": {
     "end_time": "2023-07-17T05:17:53.417221Z",
     "start_time": "2023-07-17T05:17:53.410415Z"
    }
   },
   "outputs": [
    {
     "data": {
      "text/plain": [
       "['Python', 'Java', 'C++', 'C', 'C']"
      ]
     },
     "execution_count": 36,
     "metadata": {},
     "output_type": "execute_result"
    }
   ],
   "source": [
    "lang"
   ]
  },
  {
   "cell_type": "code",
   "execution_count": 37,
   "id": "dbe1cc18",
   "metadata": {
    "ExecuteTime": {
     "end_time": "2023-07-17T05:17:53.425271Z",
     "start_time": "2023-07-17T05:17:53.419230Z"
    }
   },
   "outputs": [
    {
     "data": {
      "text/plain": [
       "1"
      ]
     },
     "execution_count": 37,
     "metadata": {},
     "output_type": "execute_result"
    }
   ],
   "source": [
    "lang.index('Java')"
   ]
  },
  {
   "cell_type": "code",
   "execution_count": 38,
   "id": "ef83c76a",
   "metadata": {
    "ExecuteTime": {
     "end_time": "2023-07-17T05:17:53.433783Z",
     "start_time": "2023-07-17T05:17:53.427656Z"
    }
   },
   "outputs": [
    {
     "data": {
      "text/plain": [
       "2"
      ]
     },
     "execution_count": 38,
     "metadata": {},
     "output_type": "execute_result"
    }
   ],
   "source": [
    "lang.count('C')"
   ]
  },
  {
   "cell_type": "code",
   "execution_count": 39,
   "id": "460fc68c",
   "metadata": {
    "ExecuteTime": {
     "end_time": "2023-07-17T05:17:53.443377Z",
     "start_time": "2023-07-17T05:17:53.435732Z"
    }
   },
   "outputs": [
    {
     "data": {
      "text/plain": [
       "['p', 'y', 't', 'h', 'o', 'n']"
      ]
     },
     "execution_count": 39,
     "metadata": {},
     "output_type": "execute_result"
    }
   ],
   "source": [
    "list(s)"
   ]
  },
  {
   "cell_type": "code",
   "execution_count": 40,
   "id": "eef07351",
   "metadata": {
    "ExecuteTime": {
     "end_time": "2023-07-17T05:17:53.450868Z",
     "start_time": "2023-07-17T05:17:53.445461Z"
    }
   },
   "outputs": [],
   "source": [
    "lst1 = [1,2,3]\n",
    "lst2 = [4,5,6]"
   ]
  },
  {
   "cell_type": "code",
   "execution_count": 41,
   "id": "088461a0",
   "metadata": {
    "ExecuteTime": {
     "end_time": "2023-07-17T05:17:53.459679Z",
     "start_time": "2023-07-17T05:17:53.452850Z"
    }
   },
   "outputs": [
    {
     "data": {
      "text/plain": [
       "[1, 2, 3, 4, 5, 6]"
      ]
     },
     "execution_count": 41,
     "metadata": {},
     "output_type": "execute_result"
    }
   ],
   "source": [
    "lst1 + lst2"
   ]
  },
  {
   "cell_type": "code",
   "execution_count": 42,
   "id": "9d9a046f",
   "metadata": {
    "ExecuteTime": {
     "end_time": "2023-07-17T05:17:53.471018Z",
     "start_time": "2023-07-17T05:17:53.466442Z"
    }
   },
   "outputs": [
    {
     "data": {
      "text/plain": [
       "6"
      ]
     },
     "execution_count": 42,
     "metadata": {},
     "output_type": "execute_result"
    }
   ],
   "source": [
    "sum(lst1)"
   ]
  },
  {
   "cell_type": "code",
   "execution_count": 43,
   "id": "aa8c56d2",
   "metadata": {
    "ExecuteTime": {
     "end_time": "2023-07-17T05:17:53.479822Z",
     "start_time": "2023-07-17T05:17:53.473709Z"
    }
   },
   "outputs": [
    {
     "data": {
      "text/plain": [
       "float"
      ]
     },
     "execution_count": 43,
     "metadata": {},
     "output_type": "execute_result"
    }
   ],
   "source": [
    "f = 3.25\n",
    "type(f)"
   ]
  },
  {
   "cell_type": "code",
   "execution_count": 44,
   "id": "0de534ad",
   "metadata": {
    "ExecuteTime": {
     "end_time": "2023-07-17T05:17:53.488020Z",
     "start_time": "2023-07-17T05:17:53.483108Z"
    }
   },
   "outputs": [
    {
     "data": {
      "text/plain": [
       "bool"
      ]
     },
     "execution_count": 44,
     "metadata": {},
     "output_type": "execute_result"
    }
   ],
   "source": [
    "a = True\n",
    "type(a)"
   ]
  },
  {
   "cell_type": "code",
   "execution_count": 45,
   "id": "212ba2a9",
   "metadata": {
    "ExecuteTime": {
     "end_time": "2023-07-17T05:17:53.497708Z",
     "start_time": "2023-07-17T05:17:53.490787Z"
    }
   },
   "outputs": [
    {
     "data": {
      "text/plain": [
       "8.333333333333334"
      ]
     },
     "execution_count": 45,
     "metadata": {},
     "output_type": "execute_result"
    }
   ],
   "source": [
    "25/3"
   ]
  },
  {
   "cell_type": "code",
   "execution_count": 46,
   "id": "2d2c8d6f",
   "metadata": {
    "ExecuteTime": {
     "end_time": "2023-07-17T05:17:53.506050Z",
     "start_time": "2023-07-17T05:17:53.499780Z"
    }
   },
   "outputs": [
    {
     "data": {
      "text/plain": [
       "8"
      ]
     },
     "execution_count": 46,
     "metadata": {},
     "output_type": "execute_result"
    }
   ],
   "source": [
    "25//3"
   ]
  },
  {
   "cell_type": "code",
   "execution_count": 47,
   "id": "3577aec9",
   "metadata": {
    "ExecuteTime": {
     "end_time": "2023-07-17T05:17:53.514285Z",
     "start_time": "2023-07-17T05:17:53.508775Z"
    }
   },
   "outputs": [
    {
     "data": {
      "text/plain": [
       "[8, 5, 3, 3, 2, 1]"
      ]
     },
     "execution_count": 47,
     "metadata": {},
     "output_type": "execute_result"
    }
   ],
   "source": [
    "num"
   ]
  },
  {
   "cell_type": "code",
   "execution_count": 48,
   "id": "c0149226",
   "metadata": {
    "ExecuteTime": {
     "end_time": "2023-07-17T05:17:53.523941Z",
     "start_time": "2023-07-17T05:17:53.516483Z"
    }
   },
   "outputs": [
    {
     "name": "stdout",
     "output_type": "stream",
     "text": [
      "64\n",
      "25\n",
      "9\n",
      "9\n",
      "4\n",
      "1\n"
     ]
    }
   ],
   "source": [
    "for i in num:\n",
    "    print(i*i)"
   ]
  },
  {
   "cell_type": "code",
   "execution_count": 49,
   "id": "e04ff08e",
   "metadata": {
    "ExecuteTime": {
     "end_time": "2023-07-17T05:17:53.533744Z",
     "start_time": "2023-07-17T05:17:53.526117Z"
    }
   },
   "outputs": [
    {
     "name": "stdout",
     "output_type": "stream",
     "text": [
      "[64, 25, 9, 9, 4, 1]\n"
     ]
    }
   ],
   "source": [
    "res = []\n",
    "for i in num:\n",
    "    sq = i ** 2\n",
    "    res.append(sq)\n",
    "print(res)"
   ]
  },
  {
   "cell_type": "code",
   "execution_count": 50,
   "id": "a8522193",
   "metadata": {
    "ExecuteTime": {
     "end_time": "2023-07-17T05:17:53.541352Z",
     "start_time": "2023-07-17T05:17:53.536679Z"
    }
   },
   "outputs": [
    {
     "name": "stdout",
     "output_type": "stream",
     "text": [
      "[64, 25, 9, 9, 4, 1]\n"
     ]
    }
   ],
   "source": [
    "# To save it in a list\n",
    "res = []\n",
    "for i in num:\n",
    "    res.append(i*i)\n",
    "print(res)"
   ]
  },
  {
   "cell_type": "code",
   "execution_count": 51,
   "id": "7120f258",
   "metadata": {
    "ExecuteTime": {
     "end_time": "2023-07-17T05:17:53.551085Z",
     "start_time": "2023-07-17T05:17:53.544372Z"
    }
   },
   "outputs": [
    {
     "name": "stdout",
     "output_type": "stream",
     "text": [
      "www.amazon.com\n",
      "www.flipkart.com\n",
      "www.sanpdeal.com\n"
     ]
    }
   ],
   "source": [
    "companies = ['amazon', 'flipkart', 'sanpdeal']\n",
    "\n",
    "for i in companies:\n",
    "    print(\"www.\" + i + \".com\")"
   ]
  },
  {
   "cell_type": "code",
   "execution_count": 52,
   "id": "f63fd8f7",
   "metadata": {
    "ExecuteTime": {
     "end_time": "2023-07-17T05:17:53.561636Z",
     "start_time": "2023-07-17T05:17:53.553157Z"
    }
   },
   "outputs": [
    {
     "name": "stdout",
     "output_type": "stream",
     "text": [
      "[1, 2, 3, ['abc', 'def'], True, 45.0, (2+3j)]\n"
     ]
    },
    {
     "data": {
      "text/plain": [
       "[1, 2, 3, ['abc', 'def'], True, 45.0, (2+3j)]"
      ]
     },
     "metadata": {},
     "output_type": "display_data"
    }
   ],
   "source": [
    "xyz = [1, 2, 3,['abc','def'],True, 45.0, 2 + 3j]\n",
    "print(xyz)\n",
    "display(xyz)"
   ]
  },
  {
   "cell_type": "code",
   "execution_count": 53,
   "id": "f01461b8",
   "metadata": {
    "ExecuteTime": {
     "end_time": "2023-07-17T05:17:53.570667Z",
     "start_time": "2023-07-17T05:17:53.563654Z"
    }
   },
   "outputs": [
    {
     "data": {
      "text/plain": [
       "'d'"
      ]
     },
     "execution_count": 53,
     "metadata": {},
     "output_type": "execute_result"
    }
   ],
   "source": [
    "xyz[3][1][0]"
   ]
  },
  {
   "cell_type": "code",
   "execution_count": 54,
   "id": "b117b8fd",
   "metadata": {
    "ExecuteTime": {
     "end_time": "2023-07-17T05:17:53.581380Z",
     "start_time": "2023-07-17T05:17:53.574043Z"
    }
   },
   "outputs": [
    {
     "data": {
      "text/plain": [
       "[8, 5, 3, 3, 2, 1]"
      ]
     },
     "execution_count": 54,
     "metadata": {},
     "output_type": "execute_result"
    }
   ],
   "source": [
    "num"
   ]
  },
  {
   "cell_type": "code",
   "execution_count": 55,
   "id": "2d7cee6d",
   "metadata": {
    "ExecuteTime": {
     "end_time": "2023-07-17T05:17:53.590184Z",
     "start_time": "2023-07-17T05:17:53.584416Z"
    }
   },
   "outputs": [
    {
     "data": {
      "text/plain": [
       "[1, 2]"
      ]
     },
     "execution_count": 55,
     "metadata": {},
     "output_type": "execute_result"
    }
   ],
   "source": [
    "num[-1 : -3 : -1]"
   ]
  },
  {
   "cell_type": "code",
   "execution_count": 56,
   "id": "9fbde783",
   "metadata": {
    "ExecuteTime": {
     "end_time": "2023-07-17T05:17:53.596956Z",
     "start_time": "2023-07-17T05:17:53.593337Z"
    }
   },
   "outputs": [],
   "source": [
    "languages = ['JavaScript', 'C', 'Python', 'C++'] "
   ]
  },
  {
   "cell_type": "code",
   "execution_count": 57,
   "id": "7ea3d022",
   "metadata": {
    "ExecuteTime": {
     "end_time": "2023-07-17T05:17:53.604699Z",
     "start_time": "2023-07-17T05:17:53.600111Z"
    }
   },
   "outputs": [],
   "source": [
    "anotherlist = ['TCS', 'Infosys', 'Wipro']"
   ]
  },
  {
   "cell_type": "code",
   "execution_count": 58,
   "id": "27cc31a2",
   "metadata": {
    "ExecuteTime": {
     "end_time": "2023-07-17T05:17:53.613374Z",
     "start_time": "2023-07-17T05:17:53.607610Z"
    }
   },
   "outputs": [
    {
     "data": {
      "text/plain": [
       "['JavaScript', 'C', 'Python', 'C++', 'TCS', 'Infosys', 'Wipro']"
      ]
     },
     "execution_count": 58,
     "metadata": {},
     "output_type": "execute_result"
    }
   ],
   "source": [
    "languages.extend(anotherlist)\n",
    "languages"
   ]
  },
  {
   "cell_type": "code",
   "execution_count": 59,
   "id": "31efe3a7",
   "metadata": {
    "ExecuteTime": {
     "end_time": "2023-07-17T05:17:53.622006Z",
     "start_time": "2023-07-17T05:17:53.615476Z"
    }
   },
   "outputs": [
    {
     "data": {
      "text/plain": [
       "[1, 2, 7, 3, 4, 5, 6]"
      ]
     },
     "execution_count": 59,
     "metadata": {},
     "output_type": "execute_result"
    }
   ],
   "source": [
    "lst = [1,2,7]\n",
    "lst2 = [3,4]\n",
    "lst3 = [5,6]\n",
    "lst.extend(lst2)\n",
    "lst.extend(lst3)\n",
    "lst"
   ]
  },
  {
   "cell_type": "code",
   "execution_count": 60,
   "id": "9f31b1f6",
   "metadata": {
    "ExecuteTime": {
     "end_time": "2023-07-17T05:17:53.630257Z",
     "start_time": "2023-07-17T05:17:53.623956Z"
    }
   },
   "outputs": [
    {
     "data": {
      "text/plain": [
       "['JavaScript', 'C', 'Python', 'C++', 'TCS', 'Infosys', 'Wipro', 'Welcome']"
      ]
     },
     "execution_count": 60,
     "metadata": {},
     "output_type": "execute_result"
    }
   ],
   "source": [
    "languages.extend(['Welcome'])\n",
    "languages"
   ]
  },
  {
   "cell_type": "code",
   "execution_count": 61,
   "id": "c9df3cda",
   "metadata": {
    "ExecuteTime": {
     "end_time": "2023-07-17T05:17:53.639424Z",
     "start_time": "2023-07-17T05:17:53.632139Z"
    }
   },
   "outputs": [
    {
     "data": {
      "text/plain": [
       "[1, 2, 7, 3, 4, 5, 6]"
      ]
     },
     "execution_count": 61,
     "metadata": {},
     "output_type": "execute_result"
    }
   ],
   "source": [
    "lst "
   ]
  },
  {
   "cell_type": "code",
   "execution_count": 62,
   "id": "add12c1f",
   "metadata": {
    "ExecuteTime": {
     "end_time": "2023-07-17T05:17:53.648286Z",
     "start_time": "2023-07-17T05:17:53.641502Z"
    }
   },
   "outputs": [
    {
     "data": {
      "text/plain": [
       "[1, 2, 3, 4, 5, 6, 7]"
      ]
     },
     "execution_count": 62,
     "metadata": {},
     "output_type": "execute_result"
    }
   ],
   "source": [
    "lst.sort()\n",
    "lst"
   ]
  },
  {
   "cell_type": "code",
   "execution_count": 63,
   "id": "f0fe5933",
   "metadata": {
    "ExecuteTime": {
     "end_time": "2023-07-17T05:17:53.658743Z",
     "start_time": "2023-07-17T05:17:53.650199Z"
    }
   },
   "outputs": [
    {
     "data": {
      "text/plain": [
       "[1, 2, 7, 3, 4, 5, 6]"
      ]
     },
     "execution_count": 63,
     "metadata": {},
     "output_type": "execute_result"
    }
   ],
   "source": [
    "lst1 = [1, 2, 7, 3, 4, 5, 6]\n",
    "sorted(lst1)\n",
    "lst1"
   ]
  },
  {
   "cell_type": "markdown",
   "id": "82646984",
   "metadata": {},
   "source": [
    "## TUPLES\n",
    "\n",
    "- Tuples are ordered collection of items/elements/objects\n",
    "- Tuples are immutable and use round brackets ( )"
   ]
  },
  {
   "cell_type": "code",
   "execution_count": 64,
   "id": "c963fe84",
   "metadata": {
    "ExecuteTime": {
     "end_time": "2023-07-17T05:17:53.665212Z",
     "start_time": "2023-07-17T05:17:53.660569Z"
    }
   },
   "outputs": [],
   "source": [
    "vaccines = ('Covaxin', 'Covishield', 'Sputnik')"
   ]
  },
  {
   "cell_type": "code",
   "execution_count": 65,
   "id": "823f27d6",
   "metadata": {
    "ExecuteTime": {
     "end_time": "2023-07-17T05:17:53.674373Z",
     "start_time": "2023-07-17T05:17:53.667271Z"
    }
   },
   "outputs": [
    {
     "data": {
      "text/plain": [
       "tuple"
      ]
     },
     "execution_count": 65,
     "metadata": {},
     "output_type": "execute_result"
    }
   ],
   "source": [
    "type(vaccines)"
   ]
  },
  {
   "cell_type": "code",
   "execution_count": 66,
   "id": "b51dfb99",
   "metadata": {
    "ExecuteTime": {
     "end_time": "2023-07-17T05:17:53.682857Z",
     "start_time": "2023-07-17T05:17:53.676745Z"
    }
   },
   "outputs": [
    {
     "data": {
      "text/plain": [
       "1"
      ]
     },
     "execution_count": 66,
     "metadata": {},
     "output_type": "execute_result"
    }
   ],
   "source": [
    "vaccines.count('Covaxin')"
   ]
  },
  {
   "cell_type": "code",
   "execution_count": 67,
   "id": "cbe9b8e5",
   "metadata": {
    "ExecuteTime": {
     "end_time": "2023-07-17T05:17:53.691116Z",
     "start_time": "2023-07-17T05:17:53.684861Z"
    }
   },
   "outputs": [
    {
     "data": {
      "text/plain": [
       "'u'"
      ]
     },
     "execution_count": 67,
     "metadata": {},
     "output_type": "execute_result"
    }
   ],
   "source": [
    "vaccines[2][2]"
   ]
  },
  {
   "cell_type": "code",
   "execution_count": 68,
   "id": "212eacb0",
   "metadata": {
    "ExecuteTime": {
     "end_time": "2023-07-17T05:17:53.699270Z",
     "start_time": "2023-07-17T05:17:53.693253Z"
    }
   },
   "outputs": [
    {
     "data": {
      "text/plain": [
       "('Covaxin', 'Covishield')"
      ]
     },
     "execution_count": 68,
     "metadata": {},
     "output_type": "execute_result"
    }
   ],
   "source": [
    "vaccines[0:2]"
   ]
  },
  {
   "cell_type": "code",
   "execution_count": 69,
   "id": "96e4a044",
   "metadata": {
    "ExecuteTime": {
     "end_time": "2023-07-17T05:17:53.708301Z",
     "start_time": "2023-07-17T05:17:53.701469Z"
    }
   },
   "outputs": [
    {
     "data": {
      "text/plain": [
       "1"
      ]
     },
     "execution_count": 69,
     "metadata": {},
     "output_type": "execute_result"
    }
   ],
   "source": [
    "vaccines.index('Covishield')"
   ]
  },
  {
   "cell_type": "code",
   "execution_count": 70,
   "id": "5b75887e",
   "metadata": {
    "ExecuteTime": {
     "end_time": "2023-07-17T05:17:53.717696Z",
     "start_time": "2023-07-17T05:17:53.710661Z"
    }
   },
   "outputs": [
    {
     "data": {
      "text/plain": [
       "('x', 'y', 'z', [1, 2, 3, 4], 'a', 'b', 'c')"
      ]
     },
     "execution_count": 70,
     "metadata": {},
     "output_type": "execute_result"
    }
   ],
   "source": [
    "my_tuple = ('x', 'y', 'z', [1,2,3,4], 'a', 'b', 'c')\n",
    "my_tuple"
   ]
  },
  {
   "cell_type": "code",
   "execution_count": 71,
   "id": "4ad0d671",
   "metadata": {
    "ExecuteTime": {
     "end_time": "2023-07-17T05:17:53.726041Z",
     "start_time": "2023-07-17T05:17:53.719682Z"
    }
   },
   "outputs": [
    {
     "data": {
      "text/plain": [
       "2"
      ]
     },
     "execution_count": 71,
     "metadata": {},
     "output_type": "execute_result"
    }
   ],
   "source": [
    "my_tuple[3][1]"
   ]
  },
  {
   "cell_type": "code",
   "execution_count": 72,
   "id": "57009c35",
   "metadata": {
    "ExecuteTime": {
     "end_time": "2023-07-17T05:17:53.734564Z",
     "start_time": "2023-07-17T05:17:53.728097Z"
    }
   },
   "outputs": [
    {
     "data": {
      "text/plain": [
       "('x', 'y', 'z', [1, 'abc', 3, 4], 'a', 'b', 'c')"
      ]
     },
     "execution_count": 72,
     "metadata": {},
     "output_type": "execute_result"
    }
   ],
   "source": [
    "my_tuple[3][1] = 'abc'\n",
    "my_tuple"
   ]
  },
  {
   "cell_type": "code",
   "execution_count": 73,
   "id": "a1b5fc8f",
   "metadata": {
    "ExecuteTime": {
     "end_time": "2023-07-17T05:17:53.743443Z",
     "start_time": "2023-07-17T05:17:53.736335Z"
    }
   },
   "outputs": [
    {
     "data": {
      "text/plain": [
       "('x', 'y', 'z', [1, 'abc', 'xyz', 3, 4], 'a', 'b', 'c')"
      ]
     },
     "execution_count": 73,
     "metadata": {},
     "output_type": "execute_result"
    }
   ],
   "source": [
    "my_tuple[3].insert(2,'xyz')\n",
    "my_tuple"
   ]
  },
  {
   "cell_type": "markdown",
   "id": "dd61ff1b",
   "metadata": {},
   "source": [
    "### Packing"
   ]
  },
  {
   "cell_type": "code",
   "execution_count": 74,
   "id": "8396177e",
   "metadata": {
    "ExecuteTime": {
     "end_time": "2023-07-17T05:17:53.752226Z",
     "start_time": "2023-07-17T05:17:53.745266Z"
    }
   },
   "outputs": [
    {
     "data": {
      "text/plain": [
       "('Rohit', '36', 'Mumbai')"
      ]
     },
     "execution_count": 74,
     "metadata": {},
     "output_type": "execute_result"
    }
   ],
   "source": [
    "rs = 'Rohit', '36', 'Mumbai'\n",
    "rs"
   ]
  },
  {
   "cell_type": "markdown",
   "id": "4ae812a5",
   "metadata": {},
   "source": [
    "### Misc - IN Operator"
   ]
  },
  {
   "cell_type": "code",
   "execution_count": 75,
   "id": "ae364396",
   "metadata": {
    "ExecuteTime": {
     "end_time": "2023-07-17T05:17:53.760795Z",
     "start_time": "2023-07-17T05:17:53.754298Z"
    }
   },
   "outputs": [],
   "source": [
    "player = ('Virat', 'RCB', [100,70,80,110], 'Test') "
   ]
  },
  {
   "cell_type": "code",
   "execution_count": 76,
   "id": "9010c912",
   "metadata": {
    "ExecuteTime": {
     "end_time": "2023-07-17T05:17:53.775938Z",
     "start_time": "2023-07-17T05:17:53.769502Z"
    }
   },
   "outputs": [
    {
     "data": {
      "text/plain": [
       "True"
      ]
     },
     "execution_count": 76,
     "metadata": {},
     "output_type": "execute_result"
    }
   ],
   "source": [
    "'Virat' in player"
   ]
  },
  {
   "cell_type": "code",
   "execution_count": 77,
   "id": "e8c73907",
   "metadata": {
    "ExecuteTime": {
     "end_time": "2023-07-17T05:17:53.785310Z",
     "start_time": "2023-07-17T05:17:53.779383Z"
    }
   },
   "outputs": [
    {
     "data": {
      "text/plain": [
       "False"
      ]
     },
     "execution_count": 77,
     "metadata": {},
     "output_type": "execute_result"
    }
   ],
   "source": [
    "'Rohit' in player"
   ]
  },
  {
   "cell_type": "code",
   "execution_count": 78,
   "id": "1803224f",
   "metadata": {
    "ExecuteTime": {
     "end_time": "2023-07-17T05:17:53.793317Z",
     "start_time": "2023-07-17T05:17:53.787342Z"
    }
   },
   "outputs": [
    {
     "data": {
      "text/plain": [
       "False"
      ]
     },
     "execution_count": 78,
     "metadata": {},
     "output_type": "execute_result"
    }
   ],
   "source": [
    "\"Virat\" not in player"
   ]
  },
  {
   "cell_type": "code",
   "execution_count": 79,
   "id": "a96f7a96",
   "metadata": {
    "ExecuteTime": {
     "end_time": "2023-07-17T05:17:53.801470Z",
     "start_time": "2023-07-17T05:17:53.795615Z"
    }
   },
   "outputs": [
    {
     "data": {
      "text/plain": [
       "True"
      ]
     },
     "execution_count": 79,
     "metadata": {},
     "output_type": "execute_result"
    }
   ],
   "source": [
    "\"Rohit\" not in player"
   ]
  },
  {
   "cell_type": "markdown",
   "id": "4a5d0786",
   "metadata": {},
   "source": [
    "### Miscellaneous for strings"
   ]
  },
  {
   "cell_type": "code",
   "execution_count": 80,
   "id": "7d45fd4a",
   "metadata": {
    "ExecuteTime": {
     "end_time": "2023-07-17T05:17:53.808893Z",
     "start_time": "2023-07-17T05:17:53.803475Z"
    }
   },
   "outputs": [
    {
     "name": "stdout",
     "output_type": "stream",
     "text": [
      "c:\n",
      "ewfolder\n"
     ]
    }
   ],
   "source": [
    "location = \"c:\\newfolder\"\n",
    "print(location)"
   ]
  },
  {
   "cell_type": "code",
   "execution_count": 81,
   "id": "239aa4bc",
   "metadata": {
    "ExecuteTime": {
     "end_time": "2023-07-17T05:17:53.818461Z",
     "start_time": "2023-07-17T05:17:53.810998Z"
    }
   },
   "outputs": [
    {
     "data": {
      "text/plain": [
       "'c:\\newfolder'"
      ]
     },
     "execution_count": 81,
     "metadata": {},
     "output_type": "execute_result"
    }
   ],
   "source": [
    "location"
   ]
  },
  {
   "cell_type": "code",
   "execution_count": 82,
   "id": "b1c2d7e6",
   "metadata": {
    "ExecuteTime": {
     "end_time": "2023-07-17T05:17:53.825948Z",
     "start_time": "2023-07-17T05:17:53.820275Z"
    }
   },
   "outputs": [
    {
     "name": "stdout",
     "output_type": "stream",
     "text": [
      "c:\\newfolder\n"
     ]
    }
   ],
   "source": [
    "location1 = r\"c:\\newfolder\"\n",
    "print(location1)"
   ]
  },
  {
   "cell_type": "code",
   "execution_count": 83,
   "id": "232f40cb",
   "metadata": {
    "ExecuteTime": {
     "end_time": "2023-07-17T05:17:53.835272Z",
     "start_time": "2023-07-17T05:17:53.828325Z"
    }
   },
   "outputs": [
    {
     "data": {
      "text/plain": [
       "'c:\\\\newfolder'"
      ]
     },
     "execution_count": 83,
     "metadata": {},
     "output_type": "execute_result"
    }
   ],
   "source": [
    "location1  # By default it will take one extra back slash"
   ]
  },
  {
   "cell_type": "markdown",
   "id": "a52a9e73",
   "metadata": {},
   "source": [
    "### FORMAT"
   ]
  },
  {
   "cell_type": "code",
   "execution_count": 84,
   "id": "8ac03600",
   "metadata": {
    "ExecuteTime": {
     "end_time": "2023-07-17T05:17:53.842533Z",
     "start_time": "2023-07-17T05:17:53.837163Z"
    }
   },
   "outputs": [],
   "source": [
    "sessioncount = 10\n",
    "chapters = 8 "
   ]
  },
  {
   "cell_type": "code",
   "execution_count": 85,
   "id": "5c6c6501",
   "metadata": {
    "ExecuteTime": {
     "end_time": "2023-07-17T05:17:53.852270Z",
     "start_time": "2023-07-17T05:17:53.844299Z"
    }
   },
   "outputs": [
    {
     "data": {
      "text/plain": [
       "'There will be 8 chapters in the course, spanned across 10 sessions'"
      ]
     },
     "execution_count": 85,
     "metadata": {},
     "output_type": "execute_result"
    }
   ],
   "source": [
    "fmsg = \"There will be {} chapters in the course, spanned across {} sessions\".format(chapters, sessioncount)\n",
    "fmsg"
   ]
  },
  {
   "cell_type": "code",
   "execution_count": 86,
   "id": "f65db950",
   "metadata": {
    "ExecuteTime": {
     "end_time": "2023-07-17T05:17:53.861268Z",
     "start_time": "2023-07-17T05:17:53.854354Z"
    }
   },
   "outputs": [
    {
     "data": {
      "text/plain": [
       "'There will be 8 chapters in the course, spanned across 10 sessions and 10 sessions'"
      ]
     },
     "execution_count": 86,
     "metadata": {},
     "output_type": "execute_result"
    }
   ],
   "source": [
    "fmsg = \"There will be {0} chapters in the course, spanned across {1} sessions and {1} sessions\".format(chapters, sessioncount)\n",
    "fmsg"
   ]
  },
  {
   "cell_type": "markdown",
   "id": "1116c380",
   "metadata": {},
   "source": [
    "### DICTIONARIES\n",
    "- Collection of key-value pairs\n",
    "- It can store multiple things like list, tuple\n",
    "- Dictionaries are mutable\n",
    "- syntax { }\n"
   ]
  },
  {
   "cell_type": "code",
   "execution_count": 87,
   "id": "b005401d",
   "metadata": {
    "ExecuteTime": {
     "end_time": "2023-07-17T05:17:53.869397Z",
     "start_time": "2023-07-17T05:17:53.863219Z"
    }
   },
   "outputs": [],
   "source": [
    "fruits = {'a' : 'apple', 'b': 'banana', 'c' : 'cherry'}"
   ]
  },
  {
   "cell_type": "code",
   "execution_count": 88,
   "id": "58b32a1a",
   "metadata": {
    "ExecuteTime": {
     "end_time": "2023-07-17T05:17:53.879434Z",
     "start_time": "2023-07-17T05:17:53.871272Z"
    }
   },
   "outputs": [
    {
     "data": {
      "text/plain": [
       "{'a': 'apple', 'b': 'banana', 'c': 'cherry'}"
      ]
     },
     "execution_count": 88,
     "metadata": {},
     "output_type": "execute_result"
    }
   ],
   "source": [
    "fruits"
   ]
  },
  {
   "cell_type": "code",
   "execution_count": 89,
   "id": "2d5ec789",
   "metadata": {
    "ExecuteTime": {
     "end_time": "2023-07-17T05:17:53.888408Z",
     "start_time": "2023-07-17T05:17:53.882443Z"
    }
   },
   "outputs": [
    {
     "data": {
      "text/plain": [
       "dict"
      ]
     },
     "execution_count": 89,
     "metadata": {},
     "output_type": "execute_result"
    }
   ],
   "source": [
    "type(fruits)"
   ]
  },
  {
   "cell_type": "code",
   "execution_count": 90,
   "id": "252e5b5a",
   "metadata": {
    "ExecuteTime": {
     "end_time": "2023-07-17T05:17:53.897616Z",
     "start_time": "2023-07-17T05:17:53.891412Z"
    }
   },
   "outputs": [
    {
     "data": {
      "text/plain": [
       "'cherry'"
      ]
     },
     "execution_count": 90,
     "metadata": {},
     "output_type": "execute_result"
    }
   ],
   "source": [
    "fruits['c']"
   ]
  },
  {
   "cell_type": "code",
   "execution_count": 91,
   "id": "f43e99cf",
   "metadata": {
    "ExecuteTime": {
     "end_time": "2023-07-17T05:17:53.904778Z",
     "start_time": "2023-07-17T05:17:53.900220Z"
    }
   },
   "outputs": [],
   "source": [
    "fruits['p'] = 'papaya'"
   ]
  },
  {
   "cell_type": "code",
   "execution_count": 92,
   "id": "335f937e",
   "metadata": {
    "ExecuteTime": {
     "end_time": "2023-07-17T05:17:53.914879Z",
     "start_time": "2023-07-17T05:17:53.907448Z"
    }
   },
   "outputs": [
    {
     "data": {
      "text/plain": [
       "{'a': 'apple', 'b': 'banana', 'c': 'cherry', 'p': 'papaya'}"
      ]
     },
     "execution_count": 92,
     "metadata": {},
     "output_type": "execute_result"
    }
   ],
   "source": [
    "fruits"
   ]
  },
  {
   "cell_type": "code",
   "execution_count": 93,
   "id": "f8a519c4",
   "metadata": {
    "ExecuteTime": {
     "end_time": "2023-07-17T05:17:53.923977Z",
     "start_time": "2023-07-17T05:17:53.917482Z"
    }
   },
   "outputs": [
    {
     "data": {
      "text/plain": [
       "{'a': 'apple', 'b': 'banana', 'c': 'cherry', 'p': 'papaya', 'ap': 'apricot'}"
      ]
     },
     "execution_count": 93,
     "metadata": {},
     "output_type": "execute_result"
    }
   ],
   "source": [
    "fruits['ap'] = 'apricot'\n",
    "fruits"
   ]
  },
  {
   "cell_type": "code",
   "execution_count": 94,
   "id": "53a387aa",
   "metadata": {
    "ExecuteTime": {
     "end_time": "2023-07-17T05:17:53.932653Z",
     "start_time": "2023-07-17T05:17:53.926611Z"
    }
   },
   "outputs": [
    {
     "data": {
      "text/plain": [
       "'apricot'"
      ]
     },
     "execution_count": 94,
     "metadata": {},
     "output_type": "execute_result"
    }
   ],
   "source": [
    "fruits.pop('ap')"
   ]
  },
  {
   "cell_type": "code",
   "execution_count": 95,
   "id": "dfcb2ec1",
   "metadata": {
    "ExecuteTime": {
     "end_time": "2023-07-17T05:17:53.943733Z",
     "start_time": "2023-07-17T05:17:53.935707Z"
    }
   },
   "outputs": [
    {
     "data": {
      "text/plain": [
       "('p', 'papaya')"
      ]
     },
     "execution_count": 95,
     "metadata": {},
     "output_type": "execute_result"
    }
   ],
   "source": [
    "fruits.popitem()"
   ]
  },
  {
   "cell_type": "markdown",
   "id": "c5290ddc",
   "metadata": {},
   "source": [
    "### Range\n",
    "- Used to generate series or sequence of numbers\n",
    "- Start (included), end (excluded) and a step size or count"
   ]
  },
  {
   "cell_type": "code",
   "execution_count": 96,
   "id": "1f314c3b",
   "metadata": {
    "ExecuteTime": {
     "end_time": "2023-07-17T05:17:53.950858Z",
     "start_time": "2023-07-17T05:17:53.946695Z"
    }
   },
   "outputs": [],
   "source": [
    "r = range(1,11)"
   ]
  },
  {
   "cell_type": "code",
   "execution_count": 97,
   "id": "6138a610",
   "metadata": {
    "ExecuteTime": {
     "end_time": "2023-07-17T05:17:53.960342Z",
     "start_time": "2023-07-17T05:17:53.953490Z"
    }
   },
   "outputs": [
    {
     "data": {
      "text/plain": [
       "range"
      ]
     },
     "execution_count": 97,
     "metadata": {},
     "output_type": "execute_result"
    }
   ],
   "source": [
    "type(r)"
   ]
  },
  {
   "cell_type": "code",
   "execution_count": 98,
   "id": "e248098f",
   "metadata": {
    "ExecuteTime": {
     "end_time": "2023-07-17T05:17:53.969867Z",
     "start_time": "2023-07-17T05:17:53.963278Z"
    }
   },
   "outputs": [
    {
     "data": {
      "text/plain": [
       "[1, 2, 3, 4, 5, 6, 7, 8, 9, 10]"
      ]
     },
     "execution_count": 98,
     "metadata": {},
     "output_type": "execute_result"
    }
   ],
   "source": [
    "r = list(r)\n",
    "r"
   ]
  },
  {
   "cell_type": "code",
   "execution_count": 99,
   "id": "9714f7dc",
   "metadata": {
    "ExecuteTime": {
     "end_time": "2023-07-17T05:17:53.981171Z",
     "start_time": "2023-07-17T05:17:53.972730Z"
    }
   },
   "outputs": [
    {
     "data": {
      "text/plain": [
       "(1, 2, 3, 4, 5, 6, 7, 8, 9, 10)"
      ]
     },
     "execution_count": 99,
     "metadata": {},
     "output_type": "execute_result"
    }
   ],
   "source": [
    "r = tuple(r)\n",
    "r"
   ]
  },
  {
   "cell_type": "code",
   "execution_count": 100,
   "id": "da6b71ef",
   "metadata": {
    "ExecuteTime": {
     "end_time": "2023-07-17T05:17:53.990716Z",
     "start_time": "2023-07-17T05:17:53.983707Z"
    }
   },
   "outputs": [
    {
     "data": {
      "text/plain": [
       "[0, 1, 2, 3, 4, 5, 6, 7, 8, 9]"
      ]
     },
     "execution_count": 100,
     "metadata": {},
     "output_type": "execute_result"
    }
   ],
   "source": [
    "r1 = list(range(10))\n",
    "r1"
   ]
  },
  {
   "cell_type": "code",
   "execution_count": 101,
   "id": "53de3f7b",
   "metadata": {
    "ExecuteTime": {
     "end_time": "2023-07-17T05:17:53.999177Z",
     "start_time": "2023-07-17T05:17:53.993327Z"
    }
   },
   "outputs": [
    {
     "data": {
      "text/plain": [
       "[1, 3, 5, 7, 9, 11, 13, 15, 17, 19]"
      ]
     },
     "execution_count": 101,
     "metadata": {},
     "output_type": "execute_result"
    }
   ],
   "source": [
    "r2 = list(range(1, 20, 2))\n",
    "r2"
   ]
  },
  {
   "cell_type": "code",
   "execution_count": 102,
   "id": "ba737beb",
   "metadata": {
    "ExecuteTime": {
     "end_time": "2023-07-17T05:17:54.009800Z",
     "start_time": "2023-07-17T05:17:54.002461Z"
    }
   },
   "outputs": [
    {
     "data": {
      "text/plain": [
       "[0, 2, 4, 6, 8, 10, 12, 14, 16, 18]"
      ]
     },
     "execution_count": 102,
     "metadata": {},
     "output_type": "execute_result"
    }
   ],
   "source": [
    "r3 = list(range(0, 20, 2))\n",
    "r3"
   ]
  },
  {
   "cell_type": "code",
   "execution_count": 103,
   "id": "8f61bab5",
   "metadata": {
    "ExecuteTime": {
     "end_time": "2023-07-17T05:17:54.018667Z",
     "start_time": "2023-07-17T05:17:54.013229Z"
    }
   },
   "outputs": [
    {
     "data": {
      "text/plain": [
       "[0, -2, -4, -6, -8, -10, -12, -14, -16, -18]"
      ]
     },
     "execution_count": 103,
     "metadata": {},
     "output_type": "execute_result"
    }
   ],
   "source": [
    "r4 = list(range(0, -20, -2))\n",
    "r4"
   ]
  },
  {
   "cell_type": "markdown",
   "id": "b1a598fe",
   "metadata": {},
   "source": [
    "## Sets\n",
    "- Unique collection of IMMUTABLE objects/elements/items\n",
    "- { }"
   ]
  },
  {
   "cell_type": "code",
   "execution_count": 104,
   "id": "8a618027",
   "metadata": {
    "ExecuteTime": {
     "end_time": "2023-07-17T05:17:54.027729Z",
     "start_time": "2023-07-17T05:17:54.021836Z"
    }
   },
   "outputs": [
    {
     "data": {
      "text/plain": [
       "set"
      ]
     },
     "execution_count": 104,
     "metadata": {},
     "output_type": "execute_result"
    }
   ],
   "source": [
    "a = {'Sun', 'Mon', 'Tue'}\n",
    "type(a)"
   ]
  },
  {
   "cell_type": "code",
   "execution_count": 105,
   "id": "71137903",
   "metadata": {
    "ExecuteTime": {
     "end_time": "2023-07-17T05:17:54.036499Z",
     "start_time": "2023-07-17T05:17:54.030551Z"
    }
   },
   "outputs": [
    {
     "data": {
      "text/plain": [
       "{1, 2, 3, 4, 5, 6}"
      ]
     },
     "execution_count": 105,
     "metadata": {},
     "output_type": "execute_result"
    }
   ],
   "source": [
    "x = [1, 2, 3, 4, 5, 5, 6, 6, 6]\n",
    "set(x)"
   ]
  },
  {
   "cell_type": "markdown",
   "id": "2b74937e",
   "metadata": {},
   "source": [
    "## Control Statements\n",
    "### if, if-else, if-elif-else"
   ]
  },
  {
   "cell_type": "code",
   "execution_count": 106,
   "id": "1cf67152",
   "metadata": {
    "ExecuteTime": {
     "end_time": "2023-07-17T05:17:54.044736Z",
     "start_time": "2023-07-17T05:17:54.039180Z"
    }
   },
   "outputs": [
    {
     "name": "stdout",
     "output_type": "stream",
     "text": [
      "The Number Is Positive\n"
     ]
    }
   ],
   "source": [
    "num = 10\n",
    "\n",
    "if num >= 0:\n",
    "    print(\"The Number Is Positive\")\n",
    "else:\n",
    "    print(\"The Number Is Negative\")"
   ]
  },
  {
   "cell_type": "code",
   "execution_count": 107,
   "id": "abfc6870",
   "metadata": {
    "ExecuteTime": {
     "end_time": "2023-07-17T05:17:54.051913Z",
     "start_time": "2023-07-17T05:17:54.047078Z"
    }
   },
   "outputs": [],
   "source": [
    "num = -2\n",
    "\n",
    "if num >= 0:\n",
    "    print(\"The Number Is Positive\")"
   ]
  },
  {
   "cell_type": "code",
   "execution_count": 108,
   "id": "04244539",
   "metadata": {
    "ExecuteTime": {
     "end_time": "2023-07-17T05:17:57.451692Z",
     "start_time": "2023-07-17T05:17:54.054277Z"
    }
   },
   "outputs": [
    {
     "name": "stdout",
     "output_type": "stream",
     "text": [
      "Enter a number: 5\n",
      "The Number Is Positive\n"
     ]
    }
   ],
   "source": [
    "num = int(input(\"Enter a number: \"))\n",
    "\n",
    "if num > 0:\n",
    "    print(\"The Number Is Positive\")\n",
    "elif num == 0:\n",
    "    print(\"the Number is zero\")\n",
    "else:\n",
    "    print(\"The Number Is Negative\")"
   ]
  },
  {
   "cell_type": "code",
   "execution_count": 109,
   "id": "a9ec9cee",
   "metadata": {
    "ExecuteTime": {
     "end_time": "2023-07-17T05:17:57.465866Z",
     "start_time": "2023-07-17T05:17:57.457121Z"
    }
   },
   "outputs": [
    {
     "name": "stdout",
     "output_type": "stream",
     "text": [
      "1\n",
      "2\n",
      "3\n",
      "4\n",
      "5\n",
      "6\n",
      "7\n",
      "8\n",
      "9\n",
      "10\n"
     ]
    }
   ],
   "source": [
    "index = 1\n",
    "\n",
    "while index <= 10:\n",
    "    print(index)\n",
    "    index = index + 1"
   ]
  },
  {
   "cell_type": "code",
   "execution_count": 110,
   "id": "35d70b42",
   "metadata": {
    "ExecuteTime": {
     "end_time": "2023-07-17T05:17:57.474501Z",
     "start_time": "2023-07-17T05:17:57.468915Z"
    }
   },
   "outputs": [
    {
     "data": {
      "text/plain": [
       "3.0"
      ]
     },
     "execution_count": 110,
     "metadata": {},
     "output_type": "execute_result"
    }
   ],
   "source": [
    "import math\n",
    "math.sqrt(9)"
   ]
  },
  {
   "cell_type": "code",
   "execution_count": 111,
   "id": "8106010a",
   "metadata": {
    "ExecuteTime": {
     "end_time": "2023-07-17T05:17:57.492416Z",
     "start_time": "2023-07-17T05:17:57.477797Z"
    }
   },
   "outputs": [
    {
     "name": "stdout",
     "output_type": "stream",
     "text": [
      "1 1.0\n",
      "3 1.7320508075688772\n",
      "5 2.23606797749979\n",
      "7 2.6457513110645907\n",
      "9 3.0\n"
     ]
    }
   ],
   "source": [
    "num = list(range(1, 10, 2))\n",
    "for i in num:\n",
    "    print(i, i ** 0.5)"
   ]
  },
  {
   "cell_type": "code",
   "execution_count": 112,
   "id": "20016c4a",
   "metadata": {
    "ExecuteTime": {
     "end_time": "2023-07-17T05:17:57.503004Z",
     "start_time": "2023-07-17T05:17:57.497803Z"
    }
   },
   "outputs": [
    {
     "name": "stdout",
     "output_type": "stream",
     "text": [
      "Name\n",
      "Age\n",
      "Team\n"
     ]
    }
   ],
   "source": [
    "player = {'Name' : 'Virat', 'Age' : 35, 'Team' : 'RCB'}\n",
    "\n",
    "for i in player.keys():\n",
    "    print(i)"
   ]
  },
  {
   "cell_type": "code",
   "execution_count": 113,
   "id": "ac05b966",
   "metadata": {
    "ExecuteTime": {
     "end_time": "2023-07-17T05:17:57.511577Z",
     "start_time": "2023-07-17T05:17:57.506027Z"
    }
   },
   "outputs": [
    {
     "name": "stdout",
     "output_type": "stream",
     "text": [
      "Virat\n",
      "35\n",
      "RCB\n"
     ]
    }
   ],
   "source": [
    "for j in player.values():\n",
    "    print(j)"
   ]
  },
  {
   "cell_type": "code",
   "execution_count": 114,
   "id": "123f4612",
   "metadata": {
    "ExecuteTime": {
     "end_time": "2023-07-17T05:17:57.521041Z",
     "start_time": "2023-07-17T05:17:57.513841Z"
    }
   },
   "outputs": [
    {
     "name": "stdout",
     "output_type": "stream",
     "text": [
      "('Name', 'Virat')\n",
      "('Age', 35)\n",
      "('Team', 'RCB')\n"
     ]
    }
   ],
   "source": [
    "for k in player.items():\n",
    "    print(k)"
   ]
  },
  {
   "cell_type": "code",
   "execution_count": 115,
   "id": "cce1da16",
   "metadata": {
    "ExecuteTime": {
     "end_time": "2023-07-17T05:17:59.907459Z",
     "start_time": "2023-07-17T05:17:57.524946Z"
    }
   },
   "outputs": [
    {
     "name": "stdout",
     "output_type": "stream",
     "text": [
      "Enter a number: 54685\n"
     ]
    },
    {
     "data": {
      "text/plain": [
       "58645"
      ]
     },
     "execution_count": 115,
     "metadata": {},
     "output_type": "execute_result"
    }
   ],
   "source": [
    "num = input(\"Enter a number: \")\n",
    "int(num[::-1])"
   ]
  },
  {
   "cell_type": "code",
   "execution_count": 116,
   "id": "44c1eed8",
   "metadata": {
    "ExecuteTime": {
     "end_time": "2023-07-17T05:17:59.916619Z",
     "start_time": "2023-07-17T05:17:59.911726Z"
    }
   },
   "outputs": [
    {
     "data": {
      "text/plain": [
       "4321"
      ]
     },
     "execution_count": 116,
     "metadata": {},
     "output_type": "execute_result"
    }
   ],
   "source": [
    "num = 1234\n",
    "int(str(num)[::-1])"
   ]
  },
  {
   "cell_type": "code",
   "execution_count": 117,
   "id": "9c3a5bd2",
   "metadata": {
    "ExecuteTime": {
     "end_time": "2023-07-17T05:17:59.928017Z",
     "start_time": "2023-07-17T05:17:59.919012Z"
    }
   },
   "outputs": [
    {
     "data": {
      "text/plain": [
       "10"
      ]
     },
     "execution_count": 117,
     "metadata": {},
     "output_type": "execute_result"
    }
   ],
   "source": [
    "num = [1, 2, 3, 4]\n",
    "sum(num)"
   ]
  },
  {
   "cell_type": "code",
   "execution_count": 118,
   "id": "8bcf76f5",
   "metadata": {
    "ExecuteTime": {
     "end_time": "2023-07-17T05:17:59.938284Z",
     "start_time": "2023-07-17T05:17:59.933059Z"
    }
   },
   "outputs": [
    {
     "name": "stdout",
     "output_type": "stream",
     "text": [
      "10\n"
     ]
    }
   ],
   "source": [
    "num = [1, 2, 3, 4]\n",
    "res = 0\n",
    "for i in num:\n",
    "    res = res + i\n",
    "print(res)"
   ]
  },
  {
   "cell_type": "code",
   "execution_count": 119,
   "id": "8be885e7",
   "metadata": {
    "ExecuteTime": {
     "end_time": "2023-07-17T05:18:02.270143Z",
     "start_time": "2023-07-17T05:17:59.940904Z"
    }
   },
   "outputs": [
    {
     "name": "stdout",
     "output_type": "stream",
     "text": [
      "Enter a number: 10\n",
      "1\n",
      "3\n",
      "5\n",
      "7\n",
      "9\n",
      "25\n"
     ]
    }
   ],
   "source": [
    "x = int(input(\"Enter a number: \"))\n",
    "result = 0\n",
    "for i in list(range(1,x,2)): # step size of 2\n",
    "    result += i\n",
    "    print(i)\n",
    "print(result)"
   ]
  },
  {
   "cell_type": "markdown",
   "id": "8c626826",
   "metadata": {},
   "source": [
    "## Functions"
   ]
  },
  {
   "cell_type": "code",
   "execution_count": 120,
   "id": "d31077ab",
   "metadata": {
    "ExecuteTime": {
     "end_time": "2023-07-17T05:18:02.286165Z",
     "start_time": "2023-07-17T05:18:02.278140Z"
    }
   },
   "outputs": [
    {
     "data": {
      "text/plain": [
       "30"
      ]
     },
     "execution_count": 120,
     "metadata": {},
     "output_type": "execute_result"
    }
   ],
   "source": [
    "def add_two_variables(x, y):\n",
    "    return x + y\n",
    "\n",
    "add_two_variables(10, 20)"
   ]
  },
  {
   "cell_type": "code",
   "execution_count": 121,
   "id": "b1041e0a",
   "metadata": {
    "ExecuteTime": {
     "end_time": "2023-07-17T05:18:02.296183Z",
     "start_time": "2023-07-17T05:18:02.289959Z"
    }
   },
   "outputs": [
    {
     "name": "stdout",
     "output_type": "stream",
     "text": [
      "Hello World\n",
      "Happy\n"
     ]
    }
   ],
   "source": [
    "def SimpleFunction():\n",
    "    print(\"Hello World\")\n",
    "    print(\"Happy\")\n",
    "\n",
    "SimpleFunction()"
   ]
  },
  {
   "cell_type": "code",
   "execution_count": 122,
   "id": "f56c2f50",
   "metadata": {
    "ExecuteTime": {
     "end_time": "2023-07-17T05:18:02.310613Z",
     "start_time": "2023-07-17T05:18:02.299442Z"
    }
   },
   "outputs": [
    {
     "data": {
      "text/plain": [
       "20"
      ]
     },
     "execution_count": 122,
     "metadata": {},
     "output_type": "execute_result"
    }
   ],
   "source": [
    "def FindMax(a, b):\n",
    "    if a > b:\n",
    "        return a\n",
    "    else:\n",
    "        return b\n",
    "        \n",
    "FindMax(10,20)"
   ]
  },
  {
   "cell_type": "code",
   "execution_count": 123,
   "id": "9359c1dd",
   "metadata": {
    "ExecuteTime": {
     "end_time": "2023-07-17T05:18:02.325453Z",
     "start_time": "2023-07-17T05:18:02.315767Z"
    }
   },
   "outputs": [
    {
     "data": {
      "text/plain": [
       "720"
      ]
     },
     "execution_count": 123,
     "metadata": {},
     "output_type": "execute_result"
    }
   ],
   "source": [
    "def factorial(num):\n",
    "    result = 1\n",
    "    \n",
    "    if num == 0:\n",
    "        return 1\n",
    "    for i in range(1, num + 1):\n",
    "        result = result * i\n",
    "    return result\n",
    "\n",
    "factorial(6)"
   ]
  },
  {
   "cell_type": "code",
   "execution_count": 124,
   "id": "872ae7bb",
   "metadata": {
    "ExecuteTime": {
     "end_time": "2023-07-17T05:18:03.850093Z",
     "start_time": "2023-07-17T05:18:02.330865Z"
    }
   },
   "outputs": [
    {
     "name": "stdout",
     "output_type": "stream",
     "text": [
      "Enter a number: 5\n"
     ]
    },
    {
     "data": {
      "text/plain": [
       "120"
      ]
     },
     "execution_count": 124,
     "metadata": {},
     "output_type": "execute_result"
    }
   ],
   "source": [
    "def Factorial():\n",
    "    num = int(input(\"Enter a number: \"))\n",
    "    result = 1\n",
    "    \n",
    "    if num == 0 or num == 1:\n",
    "        return 1\n",
    "    for i in range(1, num + 1):\n",
    "        result = result * i\n",
    "    return result\n",
    "\n",
    "Factorial()"
   ]
  },
  {
   "cell_type": "code",
   "execution_count": 125,
   "id": "52dc785e",
   "metadata": {
    "ExecuteTime": {
     "end_time": "2023-07-17T05:18:04.760886Z",
     "start_time": "2023-07-17T05:18:03.853831Z"
    }
   },
   "outputs": [
    {
     "name": "stdout",
     "output_type": "stream",
     "text": [
      "Enter a number: 6\n",
      "Result:  720\n"
     ]
    }
   ],
   "source": [
    "num = int(input(\"Enter a number: \"))\n",
    "print(\"Result: \" , factorial(num))"
   ]
  },
  {
   "cell_type": "code",
   "execution_count": 126,
   "id": "adfff0b0",
   "metadata": {
    "ExecuteTime": {
     "end_time": "2023-07-17T05:18:04.797031Z",
     "start_time": "2023-07-17T05:18:04.777245Z"
    }
   },
   "outputs": [
    {
     "data": {
      "text/plain": [
       "120"
      ]
     },
     "execution_count": 126,
     "metadata": {},
     "output_type": "execute_result"
    }
   ],
   "source": [
    "# Recursive method\n",
    "\n",
    "def recursiveFact(num):\n",
    "    if num == 0 or num == 1:\n",
    "        return 1\n",
    "    else:\n",
    "        return num * recursiveFact(num - 1)\n",
    "    \n",
    "recursiveFact(5) "
   ]
  },
  {
   "cell_type": "markdown",
   "id": "5ce5024d",
   "metadata": {},
   "source": [
    "## Default Argument"
   ]
  },
  {
   "cell_type": "code",
   "execution_count": 127,
   "id": "bb80ba92",
   "metadata": {
    "ExecuteTime": {
     "end_time": "2023-07-17T05:18:04.829280Z",
     "start_time": "2023-07-17T05:18:04.805957Z"
    }
   },
   "outputs": [
    {
     "name": "stdout",
     "output_type": "stream",
     "text": [
      "The value of x is 5\n"
     ]
    }
   ],
   "source": [
    "def DefaultArg(x = 5):  # Setting default to 5\n",
    "    print(\"The value of x is {}\".format(x))\n",
    "    \n",
    "DefaultArg()"
   ]
  },
  {
   "cell_type": "code",
   "execution_count": 128,
   "id": "a8250fb6",
   "metadata": {
    "ExecuteTime": {
     "end_time": "2023-07-17T05:18:04.883239Z",
     "start_time": "2023-07-17T05:18:04.876799Z"
    }
   },
   "outputs": [
    {
     "name": "stdout",
     "output_type": "stream",
     "text": [
      "The value of x is 123\n"
     ]
    }
   ],
   "source": [
    "DefaultArg(123)"
   ]
  },
  {
   "cell_type": "code",
   "execution_count": 129,
   "id": "a65cfb61",
   "metadata": {
    "ExecuteTime": {
     "end_time": "2023-07-17T05:18:04.893797Z",
     "start_time": "2023-07-17T05:18:04.887373Z"
    }
   },
   "outputs": [
    {
     "name": "stdout",
     "output_type": "stream",
     "text": [
      "The value of x is Hello World\n"
     ]
    }
   ],
   "source": [
    "DefaultArg('Hello World')"
   ]
  },
  {
   "cell_type": "markdown",
   "id": "2be64dbe",
   "metadata": {},
   "source": [
    "## Named / Keyword Argument"
   ]
  },
  {
   "cell_type": "code",
   "execution_count": 130,
   "id": "a004dc22",
   "metadata": {
    "ExecuteTime": {
     "end_time": "2023-07-17T05:18:04.902183Z",
     "start_time": "2023-07-17T05:18:04.897341Z"
    }
   },
   "outputs": [
    {
     "name": "stdout",
     "output_type": "stream",
     "text": [
      "The values are a: 100, b: 200, c: 300\n"
     ]
    }
   ],
   "source": [
    "def namedArg(a, b, c):\n",
    "    print(\"The values are a: {}, b: {}, c: {}\".format(a, b, c))\n",
    "    \n",
    "namedArg(100, 200, 300)"
   ]
  },
  {
   "cell_type": "code",
   "execution_count": 131,
   "id": "4b1b9d8e",
   "metadata": {
    "ExecuteTime": {
     "end_time": "2023-07-17T05:18:04.915634Z",
     "start_time": "2023-07-17T05:18:04.904312Z"
    }
   },
   "outputs": [
    {
     "name": "stdout",
     "output_type": "stream",
     "text": [
      "The values are a: 100, b: 200, c: 300\n"
     ]
    }
   ],
   "source": [
    "namedArg(a = 100, b = 200, c = 300)"
   ]
  },
  {
   "cell_type": "code",
   "execution_count": 132,
   "id": "4bd92dfc",
   "metadata": {
    "ExecuteTime": {
     "end_time": "2023-07-17T05:18:04.932628Z",
     "start_time": "2023-07-17T05:18:04.922934Z"
    }
   },
   "outputs": [
    {
     "name": "stdout",
     "output_type": "stream",
     "text": [
      "The values are a: 200, b: 100, c: 300\n"
     ]
    }
   ],
   "source": [
    "namedArg(b = 100, a = 200, c = 300)"
   ]
  },
  {
   "cell_type": "code",
   "execution_count": 133,
   "id": "490d9491",
   "metadata": {
    "ExecuteTime": {
     "end_time": "2023-07-17T05:18:04.944398Z",
     "start_time": "2023-07-17T05:18:04.938120Z"
    }
   },
   "outputs": [
    {
     "name": "stdout",
     "output_type": "stream",
     "text": [
      "The values are a: 100, b: 200, c: 300\n"
     ]
    }
   ],
   "source": [
    "namedArg(100, b = 200, c = 300)"
   ]
  },
  {
   "cell_type": "markdown",
   "id": "d9444278",
   "metadata": {
    "ExecuteTime": {
     "end_time": "2023-07-05T08:52:24.521623Z",
     "start_time": "2023-07-05T08:52:24.510354Z"
    }
   },
   "source": [
    "## Lambda Function\n",
    "- Functions with no name (Anonymous)\n",
    "- One liner function"
   ]
  },
  {
   "cell_type": "code",
   "execution_count": 134,
   "id": "eb81421b",
   "metadata": {
    "ExecuteTime": {
     "end_time": "2023-07-17T05:18:04.953645Z",
     "start_time": "2023-07-17T05:18:04.948045Z"
    }
   },
   "outputs": [
    {
     "data": {
      "text/plain": [
       "25"
      ]
     },
     "execution_count": 134,
     "metadata": {},
     "output_type": "execute_result"
    }
   ],
   "source": [
    "f = lambda num : num * num\n",
    "f(5)"
   ]
  },
  {
   "cell_type": "code",
   "execution_count": 135,
   "id": "2884b9b1",
   "metadata": {
    "ExecuteTime": {
     "end_time": "2023-07-17T05:18:04.966504Z",
     "start_time": "2023-07-17T05:18:04.959970Z"
    }
   },
   "outputs": [
    {
     "data": {
      "text/plain": [
       "function"
      ]
     },
     "execution_count": 135,
     "metadata": {},
     "output_type": "execute_result"
    }
   ],
   "source": [
    "type(f)"
   ]
  },
  {
   "cell_type": "code",
   "execution_count": 136,
   "id": "909ceb5b",
   "metadata": {
    "ExecuteTime": {
     "end_time": "2023-07-17T05:18:04.978899Z",
     "start_time": "2023-07-17T05:18:04.969634Z"
    }
   },
   "outputs": [
    {
     "name": "stdout",
     "output_type": "stream",
     "text": [
      "4\n"
     ]
    }
   ],
   "source": [
    "print((lambda num : num * num)(2))"
   ]
  },
  {
   "cell_type": "code",
   "execution_count": 137,
   "id": "1dd38dfd",
   "metadata": {
    "ExecuteTime": {
     "end_time": "2023-07-17T05:18:04.985585Z",
     "start_time": "2023-07-17T05:18:04.981069Z"
    }
   },
   "outputs": [
    {
     "data": {
      "text/plain": [
       "'Even'"
      ]
     },
     "execution_count": 137,
     "metadata": {},
     "output_type": "execute_result"
    }
   ],
   "source": [
    "f = lambda x: \"Even\" if x % 2 == 0 else \"odd\"\n",
    "f(4)"
   ]
  },
  {
   "cell_type": "markdown",
   "id": "70b7a228",
   "metadata": {},
   "source": [
    "## Args And Kwargs"
   ]
  },
  {
   "cell_type": "code",
   "execution_count": 138,
   "id": "e95578ea",
   "metadata": {
    "ExecuteTime": {
     "end_time": "2023-07-17T05:18:04.993754Z",
     "start_time": "2023-07-17T05:18:04.987356Z"
    }
   },
   "outputs": [
    {
     "name": "stdout",
     "output_type": "stream",
     "text": [
      "Result: 5\n"
     ]
    }
   ],
   "source": [
    "def args(x, y):\n",
    "    result = x + y\n",
    "    print(\"Result:\", result)\n",
    "args(2, 3)"
   ]
  },
  {
   "cell_type": "code",
   "execution_count": 139,
   "id": "3ab7dd40",
   "metadata": {
    "ExecuteTime": {
     "end_time": "2023-07-17T05:18:05.005438Z",
     "start_time": "2023-07-17T05:18:04.995996Z"
    }
   },
   "outputs": [
    {
     "name": "stdout",
     "output_type": "stream",
     "text": [
      "<class 'tuple'>\n"
     ]
    },
    {
     "data": {
      "text/plain": [
       "21"
      ]
     },
     "execution_count": 139,
     "metadata": {},
     "output_type": "execute_result"
    }
   ],
   "source": [
    "def sumofargs(*args):\n",
    "    print(type(args))\n",
    "    result = 0\n",
    "    for i in args:\n",
    "        result += i\n",
    "    return result\n",
    "sumofargs(1,2,3,4,5,6)"
   ]
  },
  {
   "cell_type": "code",
   "execution_count": 140,
   "id": "728b2468",
   "metadata": {
    "ExecuteTime": {
     "end_time": "2023-07-17T05:18:05.015157Z",
     "start_time": "2023-07-17T05:18:05.007604Z"
    }
   },
   "outputs": [
    {
     "data": {
      "text/plain": [
       "21"
      ]
     },
     "execution_count": 140,
     "metadata": {},
     "output_type": "execute_result"
    }
   ],
   "source": [
    "def SumOfArgs(*args):\n",
    "    '''Function takes variable inputs, performs addition and prints'''\n",
    "    result = 0\n",
    "    for i in args:\n",
    "        result += i\n",
    "    return result\n",
    "\n",
    "SumOfArgs(1,2,3,4,5,6)"
   ]
  },
  {
   "cell_type": "code",
   "execution_count": 141,
   "id": "f4be8a78",
   "metadata": {
    "ExecuteTime": {
     "end_time": "2023-07-17T05:18:05.026541Z",
     "start_time": "2023-07-17T05:18:05.018714Z"
    }
   },
   "outputs": [
    {
     "name": "stdout",
     "output_type": "stream",
     "text": [
      "Kwargs : {'name': 'Virat', 'age': 33, 'Team': 'RCB'}\n",
      "Type of Kwargs : <class 'dict'>\n",
      "k--> name, v--> Virat\n",
      "k--> age, v--> 33\n",
      "k--> Team, v--> RCB\n"
     ]
    }
   ],
   "source": [
    "def PrintPlayerDetails(**kwargs):\n",
    "    print(\"Kwargs :\", kwargs)\n",
    "    print(\"Type of Kwargs :\", type(kwargs))\n",
    "    \n",
    "    for k, v in kwargs.items():\n",
    "        print(\"k--> {}, v--> {}\".format(k,v))\n",
    "        \n",
    "        \n",
    "PrintPlayerDetails(name = \"Virat\", age = 33, Team = \"RCB\")"
   ]
  },
  {
   "cell_type": "markdown",
   "id": "68557420",
   "metadata": {},
   "source": [
    "## Comprehensions"
   ]
  },
  {
   "cell_type": "code",
   "execution_count": 142,
   "id": "003101a1",
   "metadata": {
    "ExecuteTime": {
     "end_time": "2023-07-17T05:18:05.034059Z",
     "start_time": "2023-07-17T05:18:05.029733Z"
    }
   },
   "outputs": [
    {
     "name": "stdout",
     "output_type": "stream",
     "text": [
      "[1, 4, 9, 16, 25, 36, 49, 64, 81, 100]\n"
     ]
    }
   ],
   "source": [
    "n = []\n",
    "for i in range(1,11):\n",
    "    res = i * i\n",
    "    n.append(res)\n",
    "print(n)"
   ]
  },
  {
   "cell_type": "code",
   "execution_count": 143,
   "id": "ab8de76b",
   "metadata": {
    "ExecuteTime": {
     "end_time": "2023-07-17T05:18:05.044254Z",
     "start_time": "2023-07-17T05:18:05.036557Z"
    }
   },
   "outputs": [
    {
     "data": {
      "text/plain": [
       "[1, 4, 9, 16, 25, 36, 49, 64, 81, 100]"
      ]
     },
     "execution_count": 143,
     "metadata": {},
     "output_type": "execute_result"
    }
   ],
   "source": [
    "n = [i * i for i in range(1, 11)]\n",
    "n"
   ]
  },
  {
   "cell_type": "code",
   "execution_count": 144,
   "id": "0ff41a35",
   "metadata": {
    "ExecuteTime": {
     "end_time": "2023-07-17T05:18:05.049669Z",
     "start_time": "2023-07-17T05:18:05.046670Z"
    }
   },
   "outputs": [],
   "source": [
    "# Write a program to print all numbers between 1 to 21 and which are divisible by 2"
   ]
  },
  {
   "cell_type": "code",
   "execution_count": 145,
   "id": "f112656b",
   "metadata": {
    "ExecuteTime": {
     "end_time": "2023-07-17T05:18:05.058061Z",
     "start_time": "2023-07-17T05:18:05.051636Z"
    }
   },
   "outputs": [
    {
     "name": "stdout",
     "output_type": "stream",
     "text": [
      "[2, 4, 6, 8, 10, 12, 14, 16, 18, 20]\n"
     ]
    }
   ],
   "source": [
    "# Traditional way\n",
    "lst = []\n",
    "for i in range(1,21):\n",
    "    if i % 2 == 0:\n",
    "        lst.append(i)\n",
    "print(lst)"
   ]
  },
  {
   "cell_type": "code",
   "execution_count": 146,
   "id": "15357ef3",
   "metadata": {
    "ExecuteTime": {
     "end_time": "2023-07-17T05:18:05.070194Z",
     "start_time": "2023-07-17T05:18:05.060472Z"
    }
   },
   "outputs": [
    {
     "data": {
      "text/plain": [
       "[2, 4, 6, 8, 10, 12, 14, 16, 18, 20]"
      ]
     },
     "execution_count": 146,
     "metadata": {},
     "output_type": "execute_result"
    }
   ],
   "source": [
    "lst = [i for i in range(1,21) if (i % 2) == 0]\n",
    "lst"
   ]
  },
  {
   "cell_type": "code",
   "execution_count": 147,
   "id": "cb18a1cc",
   "metadata": {
    "ExecuteTime": {
     "end_time": "2023-07-17T05:18:05.083111Z",
     "start_time": "2023-07-17T05:18:05.074798Z"
    }
   },
   "outputs": [
    {
     "name": "stdout",
     "output_type": "stream",
     "text": [
      "['M', 't', 'h', 'm', 't', 'c', 's']\n"
     ]
    }
   ],
   "source": [
    "subject = \"Mathemetics\"\n",
    "vowels = ['a', 'e', 'i', 'o', 'u', 'A', 'E', 'I', 'O', 'U']\n",
    "cons = []\n",
    "for i in subject:\n",
    "    if i not in vowels:\n",
    "        cons.append(i)\n",
    "print(cons)"
   ]
  },
  {
   "cell_type": "code",
   "execution_count": 148,
   "id": "2472c77f",
   "metadata": {
    "ExecuteTime": {
     "end_time": "2023-07-17T05:18:05.094043Z",
     "start_time": "2023-07-17T05:18:05.087069Z"
    }
   },
   "outputs": [
    {
     "name": "stdout",
     "output_type": "stream",
     "text": [
      "['M', 'T', 'H', 'M', 'T', 'C', 'S']\n"
     ]
    }
   ],
   "source": [
    "subject = 'MATHEMATICS'\n",
    "result = []\n",
    "for i in subject:\n",
    "    if i not in 'AEIOU':\n",
    "        result.append(i)\n",
    "print(result)"
   ]
  },
  {
   "cell_type": "code",
   "execution_count": 149,
   "id": "620b7fcb",
   "metadata": {
    "ExecuteTime": {
     "end_time": "2023-07-17T05:18:05.102202Z",
     "start_time": "2023-07-17T05:18:05.097318Z"
    }
   },
   "outputs": [
    {
     "name": "stdout",
     "output_type": "stream",
     "text": [
      "['M', 'T', 'H', 'M', 'T', 'C', 'S']\n"
     ]
    }
   ],
   "source": [
    "# subject = input(\"Enter a string: \")\n",
    "result = []\n",
    "for i in subject:\n",
    "    if i not in 'AEIOUaeiou':\n",
    "        result.append(i)\n",
    "\n",
    "print(result)"
   ]
  },
  {
   "cell_type": "code",
   "execution_count": 150,
   "id": "0053cf4a",
   "metadata": {
    "ExecuteTime": {
     "end_time": "2023-07-17T05:18:05.112512Z",
     "start_time": "2023-07-17T05:18:05.105275Z"
    }
   },
   "outputs": [
    {
     "data": {
      "text/plain": [
       "['M', 'T', 'H', 'M', 'T', 'C', 'S']"
      ]
     },
     "execution_count": 150,
     "metadata": {},
     "output_type": "execute_result"
    }
   ],
   "source": [
    "sub = [i for i in subject if i not in 'AEIOU']\n",
    "sub"
   ]
  },
  {
   "cell_type": "code",
   "execution_count": 151,
   "id": "fd9d1116",
   "metadata": {
    "ExecuteTime": {
     "end_time": "2023-07-17T05:18:05.123168Z",
     "start_time": "2023-07-17T05:18:05.117933Z"
    }
   },
   "outputs": [
    {
     "name": "stdout",
     "output_type": "stream",
     "text": [
      "['www.amazon.com', 'www.flipkart.com', 'www.sanpdeal.com']\n"
     ]
    }
   ],
   "source": [
    "companies = ['amazon', 'flipkart', 'sanpdeal']\n",
    "website = []\n",
    "for i in companies:\n",
    "    res = (\"www.\" + i + \".com\")\n",
    "    website.append(res)\n",
    "print(website)"
   ]
  },
  {
   "cell_type": "code",
   "execution_count": 152,
   "id": "c85cfa14",
   "metadata": {
    "ExecuteTime": {
     "end_time": "2023-07-17T05:18:05.134325Z",
     "start_time": "2023-07-17T05:18:05.126329Z"
    }
   },
   "outputs": [
    {
     "data": {
      "text/plain": [
       "['www.amazon.com', 'www.flipkart.com', 'www.sanpdeal.com']"
      ]
     },
     "execution_count": 152,
     "metadata": {},
     "output_type": "execute_result"
    }
   ],
   "source": [
    "c = ['www.{}.com'.format(i) for i in companies]\n",
    "c"
   ]
  },
  {
   "cell_type": "code",
   "execution_count": 153,
   "id": "5e29e657",
   "metadata": {
    "ExecuteTime": {
     "end_time": "2023-07-17T05:18:05.144066Z",
     "start_time": "2023-07-17T05:18:05.137438Z"
    }
   },
   "outputs": [
    {
     "data": {
      "text/plain": [
       "['www.amazon.com', 'www.flipkart.com', 'www.sanpdeal.com']"
      ]
     },
     "execution_count": 153,
     "metadata": {},
     "output_type": "execute_result"
    }
   ],
   "source": [
    "c = [\"www.\" + i + \".com\" for i in companies]\n",
    "c"
   ]
  },
  {
   "cell_type": "code",
   "execution_count": 154,
   "id": "3853e3cb",
   "metadata": {
    "ExecuteTime": {
     "end_time": "2023-07-17T05:18:05.150350Z",
     "start_time": "2023-07-17T05:18:05.146594Z"
    }
   },
   "outputs": [],
   "source": [
    "s = \"Welcome to the world of Python Programming\""
   ]
  },
  {
   "cell_type": "code",
   "execution_count": 155,
   "id": "0f64f63c",
   "metadata": {
    "ExecuteTime": {
     "end_time": "2023-07-17T05:18:05.161415Z",
     "start_time": "2023-07-17T05:18:05.153149Z"
    }
   },
   "outputs": [
    {
     "data": {
      "text/plain": [
       "[('Welcome', 7),\n",
       " ('to', 2),\n",
       " ('the', 3),\n",
       " ('world', 5),\n",
       " ('of', 2),\n",
       " ('Python', 6),\n",
       " ('Programming', 11)]"
      ]
     },
     "execution_count": 155,
     "metadata": {},
     "output_type": "execute_result"
    }
   ],
   "source": [
    "a = []\n",
    "for i in s.split():\n",
    "    res = (i, len(i))\n",
    "    a.append(res)\n",
    "    \n",
    "a"
   ]
  },
  {
   "cell_type": "code",
   "execution_count": 156,
   "id": "bf225474",
   "metadata": {
    "ExecuteTime": {
     "end_time": "2023-07-17T05:18:05.170166Z",
     "start_time": "2023-07-17T05:18:05.163822Z"
    }
   },
   "outputs": [
    {
     "data": {
      "text/plain": [
       "[('Welcome', 7),\n",
       " ('to', 2),\n",
       " ('the', 3),\n",
       " ('world', 5),\n",
       " ('of', 2),\n",
       " ('Python', 6),\n",
       " ('Programming', 11)]"
      ]
     },
     "execution_count": 156,
     "metadata": {},
     "output_type": "execute_result"
    }
   ],
   "source": [
    "s = [(i, len(i)) for i in s.split()]\n",
    "s"
   ]
  },
  {
   "cell_type": "code",
   "execution_count": 157,
   "id": "62e60f31",
   "metadata": {
    "ExecuteTime": {
     "end_time": "2023-07-17T05:18:05.179750Z",
     "start_time": "2023-07-17T05:18:05.172001Z"
    }
   },
   "outputs": [
    {
     "name": "stdout",
     "output_type": "stream",
     "text": [
      "203\n",
      "217\n",
      "224\n",
      "231\n",
      "238\n",
      "252\n",
      "259\n",
      "266\n",
      "273\n",
      "287\n",
      "294\n",
      "301\n",
      "308\n"
     ]
    }
   ],
   "source": [
    "for i in range(200,321):\n",
    "    if (i%7) == 0 and (i%5)!= 0:\n",
    "        print(i)"
   ]
  },
  {
   "cell_type": "code",
   "execution_count": 158,
   "id": "cc1afcd7",
   "metadata": {
    "ExecuteTime": {
     "end_time": "2023-07-17T05:18:05.192107Z",
     "start_time": "2023-07-17T05:18:05.183729Z"
    }
   },
   "outputs": [
    {
     "data": {
      "text/plain": [
       "[203, 217, 224, 231, 238, 252, 259, 266, 273, 287, 294, 301, 308]"
      ]
     },
     "execution_count": 158,
     "metadata": {},
     "output_type": "execute_result"
    }
   ],
   "source": [
    "x = [i for i in range(200,321) if (i%7) == 0 and (i%5) != 0]\n",
    "x"
   ]
  },
  {
   "cell_type": "code",
   "execution_count": 159,
   "id": "52336792",
   "metadata": {
    "ExecuteTime": {
     "end_time": "2023-07-17T05:18:05.204253Z",
     "start_time": "2023-07-17T05:18:05.196739Z"
    }
   },
   "outputs": [
    {
     "data": {
      "text/plain": [
       "['203',\n",
       " '217',\n",
       " '224',\n",
       " '231',\n",
       " '238',\n",
       " '252',\n",
       " '259',\n",
       " '266',\n",
       " '273',\n",
       " '287',\n",
       " '294',\n",
       " '301',\n",
       " '308']"
      ]
     },
     "execution_count": 159,
     "metadata": {},
     "output_type": "execute_result"
    }
   ],
   "source": [
    "x = [str(i) for i in range(200,321) if (i%7) == 0 and (i%5) != 0]\n",
    "x"
   ]
  },
  {
   "cell_type": "code",
   "execution_count": 160,
   "id": "bbb4a7c7",
   "metadata": {
    "ExecuteTime": {
     "end_time": "2023-07-17T05:18:05.212242Z",
     "start_time": "2023-07-17T05:18:05.207397Z"
    }
   },
   "outputs": [
    {
     "name": "stdout",
     "output_type": "stream",
     "text": [
      "203,217,224,231,238,252,259,266,273,287,294,301,308\n"
     ]
    }
   ],
   "source": [
    "print(\",\".join(x))"
   ]
  },
  {
   "cell_type": "markdown",
   "id": "63f3e61c",
   "metadata": {},
   "source": [
    "## Dictionary Comprehension"
   ]
  },
  {
   "cell_type": "code",
   "execution_count": 161,
   "id": "b0e2094b",
   "metadata": {
    "ExecuteTime": {
     "end_time": "2023-07-17T05:18:05.220816Z",
     "start_time": "2023-07-17T05:18:05.214848Z"
    }
   },
   "outputs": [
    {
     "name": "stdout",
     "output_type": "stream",
     "text": [
      "{0: 0, 5: 25, 10: 100, 15: 225}\n"
     ]
    }
   ],
   "source": [
    "result = {}\n",
    "for i in range(0,20,5):\n",
    "    result[i] = i * i\n",
    "print(result)"
   ]
  },
  {
   "cell_type": "code",
   "execution_count": 162,
   "id": "4213285e",
   "metadata": {
    "ExecuteTime": {
     "end_time": "2023-07-17T05:18:05.231070Z",
     "start_time": "2023-07-17T05:18:05.223681Z"
    }
   },
   "outputs": [
    {
     "data": {
      "text/plain": [
       "{0: 0, 5: 25, 10: 100, 15: 225}"
      ]
     },
     "execution_count": 162,
     "metadata": {},
     "output_type": "execute_result"
    }
   ],
   "source": [
    "result = {i: i * i for i in range(0,20,5)}\n",
    "result"
   ]
  },
  {
   "cell_type": "code",
   "execution_count": 163,
   "id": "29922c18",
   "metadata": {
    "ExecuteTime": {
     "end_time": "2023-07-17T05:18:05.239849Z",
     "start_time": "2023-07-17T05:18:05.235276Z"
    }
   },
   "outputs": [],
   "source": [
    "s = \"the quick brown fox jumps over the lazy dog\""
   ]
  },
  {
   "cell_type": "code",
   "execution_count": 164,
   "id": "60c7e701",
   "metadata": {
    "ExecuteTime": {
     "end_time": "2023-07-17T05:18:05.249549Z",
     "start_time": "2023-07-17T05:18:05.243837Z"
    }
   },
   "outputs": [
    {
     "name": "stdout",
     "output_type": "stream",
     "text": [
      "{'t': 2, 'h': 2, 'e': 3, ' ': 8, 'q': 1, 'u': 2, 'i': 1, 'c': 1, 'k': 1, 'b': 1, 'r': 2, 'o': 4, 'w': 1, 'n': 1, 'f': 1, 'x': 1, 'j': 1, 'm': 1, 'p': 1, 's': 1, 'v': 1, 'l': 1, 'a': 1, 'z': 1, 'y': 1, 'd': 1, 'g': 1}\n"
     ]
    }
   ],
   "source": [
    "r = {}\n",
    "for i in s:\n",
    "    if i in r:\n",
    "        r[i] = r[i] + 1\n",
    "    else:\n",
    "        r[i] = 1\n",
    "\n",
    "print(r)\n",
    "    "
   ]
  },
  {
   "cell_type": "code",
   "execution_count": 165,
   "id": "a2fe3b0f",
   "metadata": {
    "ExecuteTime": {
     "end_time": "2023-07-17T05:18:05.259856Z",
     "start_time": "2023-07-17T05:18:05.251795Z"
    }
   },
   "outputs": [
    {
     "name": "stdout",
     "output_type": "stream",
     "text": [
      "{'t': 2, 'h': 2, 'e': 3, ' ': 8, 'q': 1, 'u': 2, 'i': 1, 'c': 1, 'k': 1, 'b': 1, 'r': 2, 'o': 4, 'w': 1, 'n': 1, 'f': 1, 'x': 1, 'j': 1, 'm': 1, 'p': 1, 's': 1, 'v': 1, 'l': 1, 'a': 1, 'z': 1, 'y': 1, 'd': 1, 'g': 1}\n"
     ]
    }
   ],
   "source": [
    "d = dict()\n",
    "for i in s:\n",
    "    if i in d:\n",
    "        d[i] = d[i] + 1\n",
    "    else:\n",
    "        d[i] = 1\n",
    "print(d)"
   ]
  },
  {
   "cell_type": "code",
   "execution_count": 166,
   "id": "fdcb461f",
   "metadata": {
    "ExecuteTime": {
     "end_time": "2023-07-17T05:18:05.269675Z",
     "start_time": "2023-07-17T05:18:05.262116Z"
    }
   },
   "outputs": [
    {
     "data": {
      "text/plain": [
       "{'t': 2,\n",
       " 'h': 2,\n",
       " 'e': 3,\n",
       " ' ': 8,\n",
       " 'q': 1,\n",
       " 'u': 2,\n",
       " 'i': 1,\n",
       " 'c': 1,\n",
       " 'k': 1,\n",
       " 'b': 1,\n",
       " 'r': 2,\n",
       " 'o': 4,\n",
       " 'w': 1,\n",
       " 'n': 1,\n",
       " 'f': 1,\n",
       " 'x': 1,\n",
       " 'j': 1,\n",
       " 'm': 1,\n",
       " 'p': 1,\n",
       " 's': 1,\n",
       " 'v': 1,\n",
       " 'l': 1,\n",
       " 'a': 1,\n",
       " 'z': 1,\n",
       " 'y': 1,\n",
       " 'd': 1,\n",
       " 'g': 1}"
      ]
     },
     "execution_count": 166,
     "metadata": {},
     "output_type": "execute_result"
    }
   ],
   "source": [
    "result = {i: s.count(i) for i in s}\n",
    "result"
   ]
  },
  {
   "cell_type": "code",
   "execution_count": 167,
   "id": "09d9f972",
   "metadata": {
    "ExecuteTime": {
     "end_time": "2023-07-17T05:18:05.278673Z",
     "start_time": "2023-07-17T05:18:05.272398Z"
    }
   },
   "outputs": [
    {
     "data": {
      "text/plain": [
       "{'the': 2,\n",
       " 'quick': 1,\n",
       " 'brown': 1,\n",
       " 'fox': 1,\n",
       " 'jumps': 1,\n",
       " 'over': 1,\n",
       " 'lazy': 1,\n",
       " 'dog': 1}"
      ]
     },
     "execution_count": 167,
     "metadata": {},
     "output_type": "execute_result"
    }
   ],
   "source": [
    "result = {i: s.count(i) for i in s.split()}\n",
    "result"
   ]
  },
  {
   "cell_type": "markdown",
   "id": "707ad2ad",
   "metadata": {},
   "source": [
    "## Local Variable"
   ]
  },
  {
   "cell_type": "code",
   "execution_count": 168,
   "id": "105fa06c",
   "metadata": {
    "ExecuteTime": {
     "end_time": "2023-07-17T05:18:05.285795Z",
     "start_time": "2023-07-17T05:18:05.280637Z"
    }
   },
   "outputs": [
    {
     "name": "stdout",
     "output_type": "stream",
     "text": [
      "The value of 'a' inside myFunction is:  LocalPythonObject\n"
     ]
    }
   ],
   "source": [
    "def myFunction():\n",
    "    a = \"LocalPythonObject\"\n",
    "    print(\"The value of 'a' inside myFunction is: \", a)\n",
    "\n",
    "myFunction()"
   ]
  },
  {
   "cell_type": "code",
   "execution_count": 169,
   "id": "6fd91bc4",
   "metadata": {
    "ExecuteTime": {
     "end_time": "2023-07-17T05:18:05.296493Z",
     "start_time": "2023-07-17T05:18:05.287668Z"
    }
   },
   "outputs": [
    {
     "name": "stdout",
     "output_type": "stream",
     "text": [
      "The value of 'a' inside myFunction is:  LocalPythonObject\n",
      "The value of 'a' inside myFunction is:  LocalPythonObject\n"
     ]
    }
   ],
   "source": [
    "a = 5\n",
    "def myFunction():\n",
    "    global a # global is a keyword and can be referenced outside the function\n",
    "    a = \"LocalPythonObject\"\n",
    "    print(\"The value of 'a' inside myFunction is: \", a)\n",
    "\n",
    "myFunction()\n",
    "print(\"The value of 'a' inside myFunction is: \", a)"
   ]
  },
  {
   "cell_type": "code",
   "execution_count": 170,
   "id": "5cd15dc3",
   "metadata": {
    "ExecuteTime": {
     "end_time": "2023-07-17T05:18:05.307496Z",
     "start_time": "2023-07-17T05:18:05.299766Z"
    }
   },
   "outputs": [
    {
     "name": "stdout",
     "output_type": "stream",
     "text": [
      "The value inside LocalFunction is:  2\n",
      "The value inside GlobalFunction is:  3\n",
      "The value of inside Main is:  3\n"
     ]
    }
   ],
   "source": [
    "runscored = 1\n",
    "def LocalFunction():\n",
    "    runscored = 2\n",
    "    print(\"The value inside LocalFunction is: \", runscored)\n",
    "\n",
    "LocalFunction()\n",
    "\n",
    "def GlobalFunction():\n",
    "    global runscored\n",
    "    runscored = 3\n",
    "    print(\"The value inside GlobalFunction is: \", runscored)\n",
    "\n",
    "GlobalFunction()\n",
    "print(\"The value of inside Main is: \", runscored)"
   ]
  },
  {
   "cell_type": "markdown",
   "id": "4275104c",
   "metadata": {},
   "source": [
    " ## Classes And Objects"
   ]
  },
  {
   "cell_type": "code",
   "execution_count": 171,
   "id": "9a834d59",
   "metadata": {
    "ExecuteTime": {
     "end_time": "2023-07-17T05:18:05.316225Z",
     "start_time": "2023-07-17T05:18:05.311570Z"
    }
   },
   "outputs": [],
   "source": [
    "class employee:\n",
    "    pass\n",
    "\n",
    "e1 = employee()\n",
    "e2 = employee()"
   ]
  },
  {
   "cell_type": "code",
   "execution_count": 172,
   "id": "a234c9fb",
   "metadata": {
    "ExecuteTime": {
     "end_time": "2023-07-17T05:18:05.324335Z",
     "start_time": "2023-07-17T05:18:05.319033Z"
    }
   },
   "outputs": [],
   "source": [
    "class employee:\n",
    "    def __init__(self, fn, ln):\n",
    "        self.fn = fn\n",
    "        self.ln = ln"
   ]
  },
  {
   "cell_type": "code",
   "execution_count": 173,
   "id": "3edeb844",
   "metadata": {
    "ExecuteTime": {
     "end_time": "2023-07-17T05:18:05.331958Z",
     "start_time": "2023-07-17T05:18:05.327113Z"
    }
   },
   "outputs": [],
   "source": [
    "e1 = employee(\"Sachin\", \"Tendulkar\")\n",
    "e2 = employee(\"Virat\", \"Kohli\")"
   ]
  },
  {
   "cell_type": "code",
   "execution_count": 174,
   "id": "fa9c5467",
   "metadata": {
    "ExecuteTime": {
     "end_time": "2023-07-17T05:18:05.343688Z",
     "start_time": "2023-07-17T05:18:05.334581Z"
    }
   },
   "outputs": [
    {
     "data": {
      "text/plain": [
       "{'fn': 'Sachin', 'ln': 'Tendulkar'}"
      ]
     },
     "execution_count": 174,
     "metadata": {},
     "output_type": "execute_result"
    }
   ],
   "source": [
    "e1.__dict__"
   ]
  },
  {
   "cell_type": "code",
   "execution_count": 175,
   "id": "7147bf6d",
   "metadata": {
    "ExecuteTime": {
     "end_time": "2023-07-17T05:18:05.355114Z",
     "start_time": "2023-07-17T05:18:05.348004Z"
    }
   },
   "outputs": [
    {
     "data": {
      "text/plain": [
       "{'fn': 'Virat', 'ln': 'Kohli'}"
      ]
     },
     "execution_count": 175,
     "metadata": {},
     "output_type": "execute_result"
    }
   ],
   "source": [
    "e2.__dict__"
   ]
  },
  {
   "cell_type": "code",
   "execution_count": 176,
   "id": "8af9388e",
   "metadata": {
    "ExecuteTime": {
     "end_time": "2023-07-17T05:18:05.364094Z",
     "start_time": "2023-07-17T05:18:05.357910Z"
    }
   },
   "outputs": [],
   "source": [
    "class Student:\n",
    "    def __init__(self, name):\n",
    "        self.name = name\n",
    "        self.grades = []\n",
    "        \n",
    "    def addgrade(self, marks):\n",
    "        self.grades.append(marks)"
   ]
  },
  {
   "cell_type": "code",
   "execution_count": 177,
   "id": "fe405dc2",
   "metadata": {
    "ExecuteTime": {
     "end_time": "2023-07-17T05:18:05.372692Z",
     "start_time": "2023-07-17T05:18:05.366997Z"
    }
   },
   "outputs": [
    {
     "data": {
      "text/plain": [
       "{'name': 'Rahane', 'grades': []}"
      ]
     },
     "execution_count": 177,
     "metadata": {},
     "output_type": "execute_result"
    }
   ],
   "source": [
    "s1 = Student(\"Rahane\")\n",
    "s1.__dict__"
   ]
  },
  {
   "cell_type": "code",
   "execution_count": 178,
   "id": "7d243be5",
   "metadata": {
    "ExecuteTime": {
     "end_time": "2023-07-17T05:18:05.380996Z",
     "start_time": "2023-07-17T05:18:05.374663Z"
    }
   },
   "outputs": [
    {
     "data": {
      "text/plain": [
       "{'name': 'Rahane', 'grades': [10]}"
      ]
     },
     "execution_count": 178,
     "metadata": {},
     "output_type": "execute_result"
    }
   ],
   "source": [
    "s1.addgrade(10)\n",
    "s1.__dict__"
   ]
  },
  {
   "cell_type": "code",
   "execution_count": 186,
   "id": "c4dedb20",
   "metadata": {
    "ExecuteTime": {
     "end_time": "2023-07-17T05:48:32.997726Z",
     "start_time": "2023-07-17T05:48:32.992691Z"
    }
   },
   "outputs": [],
   "source": [
    "class Student:\n",
    "    def __init__(self, name):\n",
    "        self.name = name\n",
    "        self.grades = []\n",
    "        \n",
    "    def addgrade(self, marks):\n",
    "        self.grades.append(marks)\n",
    "        \n",
    "    def totalmarks(self):\n",
    "        return sum(grades)"
   ]
  },
  {
   "cell_type": "code",
   "execution_count": 187,
   "id": "63005bc2",
   "metadata": {
    "ExecuteTime": {
     "end_time": "2023-07-17T05:48:33.895428Z",
     "start_time": "2023-07-17T05:48:33.892126Z"
    }
   },
   "outputs": [],
   "source": [
    "s1.addgrade(9)"
   ]
  },
  {
   "cell_type": "code",
   "execution_count": 188,
   "id": "76419a14",
   "metadata": {
    "ExecuteTime": {
     "end_time": "2023-07-17T05:48:34.362421Z",
     "start_time": "2023-07-17T05:48:34.355874Z"
    }
   },
   "outputs": [
    {
     "data": {
      "text/plain": [
       "{'name': 'Rahane', 'grades': [10, 9, 9, 9]}"
      ]
     },
     "execution_count": 188,
     "metadata": {},
     "output_type": "execute_result"
    }
   ],
   "source": [
    "s1.__dict__"
   ]
  },
  {
   "cell_type": "code",
   "execution_count": 189,
   "id": "b58440c7",
   "metadata": {
    "ExecuteTime": {
     "end_time": "2023-07-17T05:48:48.837088Z",
     "start_time": "2023-07-17T05:48:48.828902Z"
    }
   },
   "outputs": [
    {
     "ename": "AttributeError",
     "evalue": "'Student' object has no attribute 'totalmarks'",
     "output_type": "error",
     "traceback": [
      "\u001b[0;31m---------------------------------------------------------------------------\u001b[0m",
      "\u001b[0;31mAttributeError\u001b[0m                            Traceback (most recent call last)",
      "\u001b[0;32m/tmp/ipykernel_7794/1082532022.py\u001b[0m in \u001b[0;36m<module>\u001b[0;34m\u001b[0m\n\u001b[0;32m----> 1\u001b[0;31m \u001b[0ms1\u001b[0m\u001b[0;34m.\u001b[0m\u001b[0mtotalmarks\u001b[0m\u001b[0;34m(\u001b[0m\u001b[0;34m)\u001b[0m\u001b[0;34m\u001b[0m\u001b[0;34m\u001b[0m\u001b[0m\n\u001b[0m",
      "\u001b[0;31mAttributeError\u001b[0m: 'Student' object has no attribute 'totalmarks'"
     ]
    }
   ],
   "source": [
    "s1.totalmarks()"
   ]
  },
  {
   "cell_type": "code",
   "execution_count": null,
   "id": "ab8326d1",
   "metadata": {},
   "outputs": [],
   "source": []
  },
  {
   "cell_type": "code",
   "execution_count": null,
   "id": "a4b0930a",
   "metadata": {},
   "outputs": [],
   "source": []
  },
  {
   "cell_type": "code",
   "execution_count": null,
   "id": "ff29b957",
   "metadata": {},
   "outputs": [],
   "source": []
  },
  {
   "cell_type": "code",
   "execution_count": null,
   "id": "545318dc",
   "metadata": {},
   "outputs": [],
   "source": []
  },
  {
   "cell_type": "code",
   "execution_count": null,
   "id": "163f4870",
   "metadata": {},
   "outputs": [],
   "source": []
  },
  {
   "cell_type": "code",
   "execution_count": null,
   "id": "23f65b9b",
   "metadata": {},
   "outputs": [],
   "source": []
  },
  {
   "cell_type": "code",
   "execution_count": null,
   "id": "d1d8d392",
   "metadata": {},
   "outputs": [],
   "source": []
  },
  {
   "cell_type": "code",
   "execution_count": null,
   "id": "2d766c37",
   "metadata": {},
   "outputs": [],
   "source": []
  }
 ],
 "metadata": {
  "kernelspec": {
   "display_name": "Python 3 (ipykernel)",
   "language": "python",
   "name": "python3"
  },
  "language_info": {
   "codemirror_mode": {
    "name": "ipython",
    "version": 3
   },
   "file_extension": ".py",
   "mimetype": "text/x-python",
   "name": "python",
   "nbconvert_exporter": "python",
   "pygments_lexer": "ipython3",
   "version": "3.10.6"
  },
  "varInspector": {
   "cols": {
    "lenName": 16,
    "lenType": 16,
    "lenVar": 40
   },
   "kernels_config": {
    "python": {
     "delete_cmd_postfix": "",
     "delete_cmd_prefix": "del ",
     "library": "var_list.py",
     "varRefreshCmd": "print(var_dic_list())"
    },
    "r": {
     "delete_cmd_postfix": ") ",
     "delete_cmd_prefix": "rm(",
     "library": "var_list.r",
     "varRefreshCmd": "cat(var_dic_list()) "
    }
   },
   "types_to_exclude": [
    "module",
    "function",
    "builtin_function_or_method",
    "instance",
    "_Feature"
   ],
   "window_display": false
  }
 },
 "nbformat": 4,
 "nbformat_minor": 5
}
