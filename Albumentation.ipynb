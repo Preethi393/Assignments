{
 "cells": [
  {
   "cell_type": "code",
   "execution_count": 1,
   "id": "cecde436",
   "metadata": {
    "ExecuteTime": {
     "end_time": "2023-02-11T05:03:18.745486Z",
     "start_time": "2023-02-11T05:03:17.785927Z"
    }
   },
   "outputs": [],
   "source": [
    "# Importing libraries\n",
    "\n",
    "import albumentations as A\n",
    "import glob\n",
    "import cv2"
   ]
  },
  {
   "cell_type": "code",
   "execution_count": 2,
   "id": "ba025ad1",
   "metadata": {
    "ExecuteTime": {
     "end_time": "2023-02-11T05:03:18.752258Z",
     "start_time": "2023-02-11T05:03:18.748531Z"
    }
   },
   "outputs": [],
   "source": [
    "# Augmentation pipeline\n",
    "\n",
    "tranform = A.Compose([\n",
    "    A.RandomBrightnessContrast(p = 0.2),\n",
    "    A.HueSaturationValue(p = 0.2)\n",
    "])"
   ]
  },
  {
   "cell_type": "code",
   "execution_count": 3,
   "id": "85743713",
   "metadata": {
    "ExecuteTime": {
     "end_time": "2023-02-11T05:05:04.653485Z",
     "start_time": "2023-02-11T05:03:18.754521Z"
    }
   },
   "outputs": [],
   "source": [
    "count = 0\n",
    "for i in glob.glob('/home/ubuntu/Desktop/Face_Recognition_DS_team/Train/*/*'):\n",
    "    sub_folder = i.split('/')[-2]\n",
    "    image_name = i.split('/')[-1]\n",
    " \n",
    "    # Read images and convert into numpy array\n",
    "    img = cv2.imread(i)\n",
    "    \n",
    "    # Convert BGR to RGB for albumentations library\n",
    "    img = cv2.cvtColor(img, cv2.COLOR_BGR2RGB)\n",
    "    \n",
    "    # Pass images to pipeline to recieve augmented images\n",
    "    transformed = tranform(image=img)\n",
    "    \n",
    "    # Get augmented images which is in the form of dictionary\n",
    "    transformed_img = transformed[\"image\"]\n",
    "    \n",
    "    #save the augmented images to the respective folders\n",
    "    if sub_folder in i:\n",
    "        cv2.imwrite(f\"/home/ubuntu//Desktop/Face_Recognition_DS_team/Train/{sub_folder}/{image_name}%d.jpg\" %count,transformed_img)\n",
    "        count = count + 1\n",
    "    "
   ]
  },
  {
   "cell_type": "code",
   "execution_count": null,
   "id": "9c80780c",
   "metadata": {},
   "outputs": [],
   "source": []
  }
 ],
 "metadata": {
  "kernelspec": {
   "display_name": "Python 3 (ipykernel)",
   "language": "python",
   "name": "python3"
  },
  "language_info": {
   "codemirror_mode": {
    "name": "ipython",
    "version": 3
   },
   "file_extension": ".py",
   "mimetype": "text/x-python",
   "name": "python",
   "nbconvert_exporter": "python",
   "pygments_lexer": "ipython3",
   "version": "3.10.6"
  },
  "varInspector": {
   "cols": {
    "lenName": 16,
    "lenType": 16,
    "lenVar": 40
   },
   "kernels_config": {
    "python": {
     "delete_cmd_postfix": "",
     "delete_cmd_prefix": "del ",
     "library": "var_list.py",
     "varRefreshCmd": "print(var_dic_list())"
    },
    "r": {
     "delete_cmd_postfix": ") ",
     "delete_cmd_prefix": "rm(",
     "library": "var_list.r",
     "varRefreshCmd": "cat(var_dic_list()) "
    }
   },
   "types_to_exclude": [
    "module",
    "function",
    "builtin_function_or_method",
    "instance",
    "_Feature"
   ],
   "window_display": false
  }
 },
 "nbformat": 4,
 "nbformat_minor": 5
}
