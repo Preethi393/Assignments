{
 "cells": [
  {
   "cell_type": "code",
   "execution_count": null,
   "metadata": {
    "id": "T9SsuIlPNA4L"
   },
   "outputs": [],
   "source": [
    "import requests\n",
    "from urllib.request import urlopen\n",
    "from bs4 import BeautifulSoup\n",
    "from urllib.parse import urljoin\n",
    "import traceback\n",
    "from tqdm import tqdm"
   ]
  },
  {
   "cell_type": "code",
   "execution_count": 1,
   "metadata": {
    "executionInfo": {
     "elapsed": 11,
     "status": "ok",
     "timestamp": 1677221838343,
     "user": {
      "displayName": "CHAITU MUDADLA",
      "userId": "00523525225872695590"
     },
     "user_tz": -330
    },
    "id": "lm49hOp1NLAA"
   },
   "outputs": [],
   "source": [
    "import traceback\n",
    "from tqdm import tqdm"
   ]
  },
  {
   "cell_type": "code",
   "execution_count": 2,
   "metadata": {
    "executionInfo": {
     "elapsed": 8,
     "status": "ok",
     "timestamp": 1677221858927,
     "user": {
      "displayName": "CHAITU MUDADLA",
      "userId": "00523525225872695590"
     },
     "user_tz": -330
    },
    "id": "AxhJOGDSNjeb"
   },
   "outputs": [],
   "source": [
    "class Crawler:\n",
    "    def __init__(self):\n",
    "        self.__crawled_pages = set()\n",
    "    \n",
    "    def get_crawled_pages(self):\n",
    "        return self.__crawled_pages\n",
    "    \n",
    "    def write_to_file(self, filename:str):\n",
    "        with open(filename, \"w\") as outfile:\n",
    "            for url in tqdm(self.__crawled_pages, desc=\"writing urls...\"):\n",
    "                outfile.write(url+\"\\n\")\n",
    "                \n",
    "        print(f\"written {len(self.__crawled_pages)} urls\")\n",
    "        print\n",
    "    \n",
    "    # Index an individual page\n",
    "    def addtoindex(self,url,soup):\n",
    "        if self.isindexed(url):\n",
    "            print(f\"url already indexed: {url}\")\n",
    "            return\n",
    "        \n",
    "        print('Indexing '+url)\n",
    "\n",
    "        # Get the URL id\n",
    "        if url not in self.__crawled_pages:\n",
    "            self.__crawled_pages.add(url)\n",
    "            print(f\"indexed url : {url}\")\n",
    "            return\n",
    "                  \n",
    "        \n",
    "                  \n",
    "    # Return true if this url is already indexed\n",
    "    def isindexed(self,url):\n",
    "        if url in self.__crawled_pages:\n",
    "            return True\n",
    "                  \n",
    "        return False\n",
    "        \n",
    "                  \n",
    "    def crawl(self,pages: list,depth=3):\n",
    "        for i in range(depth):\n",
    "          newpages={}\n",
    "          for page in pages:\n",
    "            try:\n",
    "              c=requests.get(page)\n",
    "\n",
    "            except:\n",
    "              print(\"Could not open %s\" % page)\n",
    "              continue\n",
    "            try:\n",
    "              soup=BeautifulSoup(c.text)\n",
    "              self.addtoindex(page,soup)\n",
    "\n",
    "              links=soup('a')\n",
    "              for link in links:\n",
    "                if ('href' in dict(link.attrs)):\n",
    "                  url=urljoin(page,link['href'])\n",
    "                  \n",
    "                  if url.find(\"'\")!=-1:\n",
    "                      continue\n",
    "                  \n",
    "                  url=url.split('#')[0]  # remove location portion\n",
    "                  if url[0:4]=='http' and not self.isindexed(url):\n",
    "                    newpages[url]=1\n",
    "    \n",
    "            except Exception:\n",
    "              print(\"Could not parse page %s\" % page)\n",
    "              print(\"error: \", traceback.format_exc())\n",
    "              print()  \n",
    "\n",
    "          pages=newpages"
   ]
  },
  {
   "cell_type": "code",
   "execution_count": 4,
   "metadata": {
    "colab": {
     "base_uri": "https://localhost:8080/"
    },
    "executionInfo": {
     "elapsed": 523,
     "status": "ok",
     "timestamp": 1677221994544,
     "user": {
      "displayName": "CHAITU MUDADLA",
      "userId": "00523525225872695590"
     },
     "user_tz": -330
    },
    "id": "CuRy6bI3Noj3",
    "outputId": "2dbfb67f-2693-487d-b1cf-e8aa9d1355a7"
   },
   "outputs": [
    {
     "name": "stdout",
     "output_type": "stream",
     "text": [
      "Could not open https://keras.io/api/\n"
     ]
    },
    {
     "name": "stderr",
     "output_type": "stream",
     "text": [
      "writing urls...: 0it [00:00, ?it/s]"
     ]
    },
    {
     "name": "stdout",
     "output_type": "stream",
     "text": [
      "written 0 urls\n"
     ]
    },
    {
     "name": "stderr",
     "output_type": "stream",
     "text": [
      "\n"
     ]
    }
   ],
   "source": [
    "crawler = Crawler()\n",
    "pages = ['https://keras.io/api/']\n",
    "crawler.crawl(pages=pages)\n",
    "crawler.write_to_file('keras.txt')"
   ]
  },
  {
   "cell_type": "code",
   "execution_count": null,
   "metadata": {
    "id": "cPOM3IuvN_a4"
   },
   "outputs": [],
   "source": []
  }
 ],
 "metadata": {
  "accelerator": "GPU",
  "colab": {
   "authorship_tag": "ABX9TyMKSQMxxDC4j5YA8GKx8JWm",
   "provenance": []
  },
  "gpuClass": "standard",
  "kernelspec": {
   "display_name": "Python 3 (ipykernel)",
   "language": "python",
   "name": "python3"
  },
  "language_info": {
   "codemirror_mode": {
    "name": "ipython",
    "version": 3
   },
   "file_extension": ".py",
   "mimetype": "text/x-python",
   "name": "python",
   "nbconvert_exporter": "python",
   "pygments_lexer": "ipython3",
   "version": "3.10.6"
  },
  "varInspector": {
   "cols": {
    "lenName": 16,
    "lenType": 16,
    "lenVar": 40
   },
   "kernels_config": {
    "python": {
     "delete_cmd_postfix": "",
     "delete_cmd_prefix": "del ",
     "library": "var_list.py",
     "varRefreshCmd": "print(var_dic_list())"
    },
    "r": {
     "delete_cmd_postfix": ") ",
     "delete_cmd_prefix": "rm(",
     "library": "var_list.r",
     "varRefreshCmd": "cat(var_dic_list()) "
    }
   },
   "types_to_exclude": [
    "module",
    "function",
    "builtin_function_or_method",
    "instance",
    "_Feature"
   ],
   "window_display": false
  }
 },
 "nbformat": 4,
 "nbformat_minor": 1
}
