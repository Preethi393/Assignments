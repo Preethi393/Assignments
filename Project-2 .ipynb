{
 "cells": [
  {
   "cell_type": "markdown",
   "id": "6d1cee1f",
   "metadata": {},
   "source": [
    "# Project On Book Recommendation"
   ]
  },
  {
   "cell_type": "code",
   "execution_count": 101,
   "id": "17049f94",
   "metadata": {
    "ExecuteTime": {
     "end_time": "2022-01-06T07:53:59.638205Z",
     "start_time": "2022-01-06T07:53:59.625206Z"
    }
   },
   "outputs": [],
   "source": [
    "import pandas as pd\n",
    "import numpy as np\n",
    "import matplotlib.pyplot as plt"
   ]
  },
  {
   "cell_type": "markdown",
   "id": "6d9c410c",
   "metadata": {},
   "source": [
    "# EDA"
   ]
  },
  {
   "cell_type": "code",
   "execution_count": 102,
   "id": "160c9ab4",
   "metadata": {
    "ExecuteTime": {
     "end_time": "2022-01-06T07:53:59.845269Z",
     "start_time": "2022-01-06T07:53:59.642512Z"
    }
   },
   "outputs": [
    {
     "data": {
      "text/html": [
       "<div>\n",
       "<style scoped>\n",
       "    .dataframe tbody tr th:only-of-type {\n",
       "        vertical-align: middle;\n",
       "    }\n",
       "\n",
       "    .dataframe tbody tr th {\n",
       "        vertical-align: top;\n",
       "    }\n",
       "\n",
       "    .dataframe thead th {\n",
       "        text-align: right;\n",
       "    }\n",
       "</style>\n",
       "<table border=\"1\" class=\"dataframe\">\n",
       "  <thead>\n",
       "    <tr style=\"text-align: right;\">\n",
       "      <th></th>\n",
       "      <th>Unnamed: 0</th>\n",
       "      <th>book_id</th>\n",
       "      <th>title</th>\n",
       "      <th>author</th>\n",
       "      <th>average_rating</th>\n",
       "      <th>genre</th>\n",
       "      <th>description</th>\n",
       "      <th>url</th>\n",
       "      <th>image_url</th>\n",
       "    </tr>\n",
       "  </thead>\n",
       "  <tbody>\n",
       "    <tr>\n",
       "      <th>0</th>\n",
       "      <td>0</td>\n",
       "      <td>2657</td>\n",
       "      <td>To Kill a Mockingbird</td>\n",
       "      <td>Harper Lee</td>\n",
       "      <td>4.27</td>\n",
       "      <td>Classics</td>\n",
       "      <td>The unforgettable novel of a childhood in a sl...</td>\n",
       "      <td>https://www.goodreads.com/book/show/2657.To_Ki...</td>\n",
       "      <td>https://i.gr-assets.com/images/S/compressed.ph...</td>\n",
       "    </tr>\n",
       "    <tr>\n",
       "      <th>1</th>\n",
       "      <td>1</td>\n",
       "      <td>3</td>\n",
       "      <td>Harry Potter and the Sorcerer's Stone</td>\n",
       "      <td>J.K. Rowling</td>\n",
       "      <td>4.47</td>\n",
       "      <td>Fantasy</td>\n",
       "      <td>Harry Potter's life is miserable. His parents ...</td>\n",
       "      <td>https://www.goodreads.com/book/show/3.Harry_Po...</td>\n",
       "      <td>https://i.gr-assets.com/images/S/compressed.ph...</td>\n",
       "    </tr>\n",
       "    <tr>\n",
       "      <th>2</th>\n",
       "      <td>2</td>\n",
       "      <td>1885</td>\n",
       "      <td>Pride and Prejudice</td>\n",
       "      <td>Jane Austen</td>\n",
       "      <td>4.27</td>\n",
       "      <td>Classics</td>\n",
       "      <td>Alternate cover edition of ISBN 9780679783268S...</td>\n",
       "      <td>https://www.goodreads.com/book/show/1885.Pride...</td>\n",
       "      <td>https://i.gr-assets.com/images/S/compressed.ph...</td>\n",
       "    </tr>\n",
       "    <tr>\n",
       "      <th>3</th>\n",
       "      <td>3</td>\n",
       "      <td>48855</td>\n",
       "      <td>The Diary of a Young Girl</td>\n",
       "      <td>Anne Frank</td>\n",
       "      <td>4.17</td>\n",
       "      <td>Nonfiction</td>\n",
       "      <td>Discovered in the attic in which she spent the...</td>\n",
       "      <td>https://www.goodreads.com/book/show/48855.The_...</td>\n",
       "      <td>https://i.gr-assets.com/images/S/compressed.ph...</td>\n",
       "    </tr>\n",
       "    <tr>\n",
       "      <th>4</th>\n",
       "      <td>4</td>\n",
       "      <td>170448</td>\n",
       "      <td>Animal Farm</td>\n",
       "      <td>George Orwell</td>\n",
       "      <td>3.97</td>\n",
       "      <td>Classics</td>\n",
       "      <td>Librarian's note: There is an Alternate Cover ...</td>\n",
       "      <td>https://www.goodreads.com/book/show/170448.Ani...</td>\n",
       "      <td>https://i.gr-assets.com/images/S/compressed.ph...</td>\n",
       "    </tr>\n",
       "    <tr>\n",
       "      <th>...</th>\n",
       "      <td>...</td>\n",
       "      <td>...</td>\n",
       "      <td>...</td>\n",
       "      <td>...</td>\n",
       "      <td>...</td>\n",
       "      <td>...</td>\n",
       "      <td>...</td>\n",
       "      <td>...</td>\n",
       "      <td>...</td>\n",
       "    </tr>\n",
       "    <tr>\n",
       "      <th>4300</th>\n",
       "      <td>4300</td>\n",
       "      <td>9413044</td>\n",
       "      <td>Everneath</td>\n",
       "      <td>Brodi Ashton</td>\n",
       "      <td>3.74</td>\n",
       "      <td>Young Adult</td>\n",
       "      <td>Last spring, Nikki Beckett vanished, sucked in...</td>\n",
       "      <td>https://www.goodreads.com/book/show/9413044-ev...</td>\n",
       "      <td>https://i.gr-assets.com/images/S/compressed.ph...</td>\n",
       "    </tr>\n",
       "    <tr>\n",
       "      <th>4301</th>\n",
       "      <td>4301</td>\n",
       "      <td>25526965</td>\n",
       "      <td>End of Watch</td>\n",
       "      <td>Stephen King</td>\n",
       "      <td>4.09</td>\n",
       "      <td>Horror</td>\n",
       "      <td>The spectacular finale to the New York Times b...</td>\n",
       "      <td>https://www.goodreads.com/book/show/25526965-e...</td>\n",
       "      <td>https://i.gr-assets.com/images/S/compressed.ph...</td>\n",
       "    </tr>\n",
       "    <tr>\n",
       "      <th>4302</th>\n",
       "      <td>4302</td>\n",
       "      <td>10846336</td>\n",
       "      <td>Salvage the Bones</td>\n",
       "      <td>Jesmyn Ward</td>\n",
       "      <td>3.93</td>\n",
       "      <td>Fiction</td>\n",
       "      <td>Winner of the 2011 National Book Award for Fic...</td>\n",
       "      <td>https://www.goodreads.com/book/show/10846336-s...</td>\n",
       "      <td>https://i.gr-assets.com/images/S/compressed.ph...</td>\n",
       "    </tr>\n",
       "    <tr>\n",
       "      <th>4303</th>\n",
       "      <td>4303</td>\n",
       "      <td>15803037</td>\n",
       "      <td>Red Sparrow</td>\n",
       "      <td>Jason  Matthews</td>\n",
       "      <td>3.95</td>\n",
       "      <td>Fiction</td>\n",
       "      <td>In the grand spy-tale tradition of John le Car...</td>\n",
       "      <td>https://www.goodreads.com/book/show/15803037-r...</td>\n",
       "      <td>https://i.gr-assets.com/images/S/compressed.ph...</td>\n",
       "    </tr>\n",
       "    <tr>\n",
       "      <th>4304</th>\n",
       "      <td>4304</td>\n",
       "      <td>6621287</td>\n",
       "      <td>com نسيان</td>\n",
       "      <td>أحلام مستغانمي</td>\n",
       "      <td>3.68</td>\n",
       "      <td>Novels</td>\n",
       "      <td>هذا الكتاب للكاتبة الشهيرة والتي \"صُنّفت من بي...</td>\n",
       "      <td>https://www.goodreads.com/book/show/6621287-com</td>\n",
       "      <td>https://i.gr-assets.com/images/S/compressed.ph...</td>\n",
       "    </tr>\n",
       "  </tbody>\n",
       "</table>\n",
       "<p>4305 rows × 9 columns</p>\n",
       "</div>"
      ],
      "text/plain": [
       "      Unnamed: 0   book_id                                  title  \\\n",
       "0              0      2657                  To Kill a Mockingbird   \n",
       "1              1         3  Harry Potter and the Sorcerer's Stone   \n",
       "2              2      1885                    Pride and Prejudice   \n",
       "3              3     48855              The Diary of a Young Girl   \n",
       "4              4    170448                            Animal Farm   \n",
       "...          ...       ...                                    ...   \n",
       "4300        4300   9413044                              Everneath   \n",
       "4301        4301  25526965                           End of Watch   \n",
       "4302        4302  10846336                      Salvage the Bones   \n",
       "4303        4303  15803037                            Red Sparrow   \n",
       "4304        4304   6621287                              com نسيان   \n",
       "\n",
       "               author  average_rating        genre  \\\n",
       "0          Harper Lee            4.27     Classics   \n",
       "1        J.K. Rowling            4.47      Fantasy   \n",
       "2         Jane Austen            4.27     Classics   \n",
       "3          Anne Frank            4.17   Nonfiction   \n",
       "4       George Orwell            3.97     Classics   \n",
       "...               ...             ...          ...   \n",
       "4300     Brodi Ashton            3.74  Young Adult   \n",
       "4301     Stephen King            4.09       Horror   \n",
       "4302      Jesmyn Ward            3.93      Fiction   \n",
       "4303  Jason  Matthews            3.95      Fiction   \n",
       "4304   أحلام مستغانمي            3.68       Novels   \n",
       "\n",
       "                                            description  \\\n",
       "0     The unforgettable novel of a childhood in a sl...   \n",
       "1     Harry Potter's life is miserable. His parents ...   \n",
       "2     Alternate cover edition of ISBN 9780679783268S...   \n",
       "3     Discovered in the attic in which she spent the...   \n",
       "4     Librarian's note: There is an Alternate Cover ...   \n",
       "...                                                 ...   \n",
       "4300  Last spring, Nikki Beckett vanished, sucked in...   \n",
       "4301  The spectacular finale to the New York Times b...   \n",
       "4302  Winner of the 2011 National Book Award for Fic...   \n",
       "4303  In the grand spy-tale tradition of John le Car...   \n",
       "4304  هذا الكتاب للكاتبة الشهيرة والتي \"صُنّفت من بي...   \n",
       "\n",
       "                                                    url  \\\n",
       "0     https://www.goodreads.com/book/show/2657.To_Ki...   \n",
       "1     https://www.goodreads.com/book/show/3.Harry_Po...   \n",
       "2     https://www.goodreads.com/book/show/1885.Pride...   \n",
       "3     https://www.goodreads.com/book/show/48855.The_...   \n",
       "4     https://www.goodreads.com/book/show/170448.Ani...   \n",
       "...                                                 ...   \n",
       "4300  https://www.goodreads.com/book/show/9413044-ev...   \n",
       "4301  https://www.goodreads.com/book/show/25526965-e...   \n",
       "4302  https://www.goodreads.com/book/show/10846336-s...   \n",
       "4303  https://www.goodreads.com/book/show/15803037-r...   \n",
       "4304    https://www.goodreads.com/book/show/6621287-com   \n",
       "\n",
       "                                              image_url  \n",
       "0     https://i.gr-assets.com/images/S/compressed.ph...  \n",
       "1     https://i.gr-assets.com/images/S/compressed.ph...  \n",
       "2     https://i.gr-assets.com/images/S/compressed.ph...  \n",
       "3     https://i.gr-assets.com/images/S/compressed.ph...  \n",
       "4     https://i.gr-assets.com/images/S/compressed.ph...  \n",
       "...                                                 ...  \n",
       "4300  https://i.gr-assets.com/images/S/compressed.ph...  \n",
       "4301  https://i.gr-assets.com/images/S/compressed.ph...  \n",
       "4302  https://i.gr-assets.com/images/S/compressed.ph...  \n",
       "4303  https://i.gr-assets.com/images/S/compressed.ph...  \n",
       "4304  https://i.gr-assets.com/images/S/compressed.ph...  \n",
       "\n",
       "[4305 rows x 9 columns]"
      ]
     },
     "execution_count": 102,
     "metadata": {},
     "output_type": "execute_result"
    }
   ],
   "source": [
    "books = pd.read_csv(\"books_data_50_1.csv\")\n",
    "books"
   ]
  },
  {
   "cell_type": "code",
   "execution_count": 103,
   "id": "652ce51c",
   "metadata": {
    "ExecuteTime": {
     "end_time": "2022-01-06T07:53:59.861230Z",
     "start_time": "2022-01-06T07:53:59.848362Z"
    }
   },
   "outputs": [],
   "source": [
    "books = books.drop([\"Unnamed: 0\"],axis=1)"
   ]
  },
  {
   "cell_type": "code",
   "execution_count": 104,
   "id": "0f8ff7df",
   "metadata": {
    "ExecuteTime": {
     "end_time": "2022-01-06T07:53:59.883803Z",
     "start_time": "2022-01-06T07:53:59.863671Z"
    }
   },
   "outputs": [
    {
     "data": {
      "text/html": [
       "<div>\n",
       "<style scoped>\n",
       "    .dataframe tbody tr th:only-of-type {\n",
       "        vertical-align: middle;\n",
       "    }\n",
       "\n",
       "    .dataframe tbody tr th {\n",
       "        vertical-align: top;\n",
       "    }\n",
       "\n",
       "    .dataframe thead th {\n",
       "        text-align: right;\n",
       "    }\n",
       "</style>\n",
       "<table border=\"1\" class=\"dataframe\">\n",
       "  <thead>\n",
       "    <tr style=\"text-align: right;\">\n",
       "      <th></th>\n",
       "      <th>book_id</th>\n",
       "      <th>title</th>\n",
       "      <th>author</th>\n",
       "      <th>average_rating</th>\n",
       "      <th>genre</th>\n",
       "      <th>description</th>\n",
       "      <th>url</th>\n",
       "      <th>image_url</th>\n",
       "    </tr>\n",
       "  </thead>\n",
       "  <tbody>\n",
       "    <tr>\n",
       "      <th>0</th>\n",
       "      <td>2657</td>\n",
       "      <td>To Kill a Mockingbird</td>\n",
       "      <td>Harper Lee</td>\n",
       "      <td>4.27</td>\n",
       "      <td>Classics</td>\n",
       "      <td>The unforgettable novel of a childhood in a sl...</td>\n",
       "      <td>https://www.goodreads.com/book/show/2657.To_Ki...</td>\n",
       "      <td>https://i.gr-assets.com/images/S/compressed.ph...</td>\n",
       "    </tr>\n",
       "    <tr>\n",
       "      <th>1</th>\n",
       "      <td>3</td>\n",
       "      <td>Harry Potter and the Sorcerer's Stone</td>\n",
       "      <td>J.K. Rowling</td>\n",
       "      <td>4.47</td>\n",
       "      <td>Fantasy</td>\n",
       "      <td>Harry Potter's life is miserable. His parents ...</td>\n",
       "      <td>https://www.goodreads.com/book/show/3.Harry_Po...</td>\n",
       "      <td>https://i.gr-assets.com/images/S/compressed.ph...</td>\n",
       "    </tr>\n",
       "    <tr>\n",
       "      <th>2</th>\n",
       "      <td>1885</td>\n",
       "      <td>Pride and Prejudice</td>\n",
       "      <td>Jane Austen</td>\n",
       "      <td>4.27</td>\n",
       "      <td>Classics</td>\n",
       "      <td>Alternate cover edition of ISBN 9780679783268S...</td>\n",
       "      <td>https://www.goodreads.com/book/show/1885.Pride...</td>\n",
       "      <td>https://i.gr-assets.com/images/S/compressed.ph...</td>\n",
       "    </tr>\n",
       "    <tr>\n",
       "      <th>3</th>\n",
       "      <td>48855</td>\n",
       "      <td>The Diary of a Young Girl</td>\n",
       "      <td>Anne Frank</td>\n",
       "      <td>4.17</td>\n",
       "      <td>Nonfiction</td>\n",
       "      <td>Discovered in the attic in which she spent the...</td>\n",
       "      <td>https://www.goodreads.com/book/show/48855.The_...</td>\n",
       "      <td>https://i.gr-assets.com/images/S/compressed.ph...</td>\n",
       "    </tr>\n",
       "    <tr>\n",
       "      <th>4</th>\n",
       "      <td>170448</td>\n",
       "      <td>Animal Farm</td>\n",
       "      <td>George Orwell</td>\n",
       "      <td>3.97</td>\n",
       "      <td>Classics</td>\n",
       "      <td>Librarian's note: There is an Alternate Cover ...</td>\n",
       "      <td>https://www.goodreads.com/book/show/170448.Ani...</td>\n",
       "      <td>https://i.gr-assets.com/images/S/compressed.ph...</td>\n",
       "    </tr>\n",
       "  </tbody>\n",
       "</table>\n",
       "</div>"
      ],
      "text/plain": [
       "   book_id                                  title         author  \\\n",
       "0     2657                  To Kill a Mockingbird     Harper Lee   \n",
       "1        3  Harry Potter and the Sorcerer's Stone   J.K. Rowling   \n",
       "2     1885                    Pride and Prejudice    Jane Austen   \n",
       "3    48855              The Diary of a Young Girl     Anne Frank   \n",
       "4   170448                            Animal Farm  George Orwell   \n",
       "\n",
       "   average_rating       genre  \\\n",
       "0            4.27    Classics   \n",
       "1            4.47     Fantasy   \n",
       "2            4.27    Classics   \n",
       "3            4.17  Nonfiction   \n",
       "4            3.97    Classics   \n",
       "\n",
       "                                         description  \\\n",
       "0  The unforgettable novel of a childhood in a sl...   \n",
       "1  Harry Potter's life is miserable. His parents ...   \n",
       "2  Alternate cover edition of ISBN 9780679783268S...   \n",
       "3  Discovered in the attic in which she spent the...   \n",
       "4  Librarian's note: There is an Alternate Cover ...   \n",
       "\n",
       "                                                 url  \\\n",
       "0  https://www.goodreads.com/book/show/2657.To_Ki...   \n",
       "1  https://www.goodreads.com/book/show/3.Harry_Po...   \n",
       "2  https://www.goodreads.com/book/show/1885.Pride...   \n",
       "3  https://www.goodreads.com/book/show/48855.The_...   \n",
       "4  https://www.goodreads.com/book/show/170448.Ani...   \n",
       "\n",
       "                                           image_url  \n",
       "0  https://i.gr-assets.com/images/S/compressed.ph...  \n",
       "1  https://i.gr-assets.com/images/S/compressed.ph...  \n",
       "2  https://i.gr-assets.com/images/S/compressed.ph...  \n",
       "3  https://i.gr-assets.com/images/S/compressed.ph...  \n",
       "4  https://i.gr-assets.com/images/S/compressed.ph...  "
      ]
     },
     "execution_count": 104,
     "metadata": {},
     "output_type": "execute_result"
    }
   ],
   "source": [
    "books.head()"
   ]
  },
  {
   "cell_type": "code",
   "execution_count": 105,
   "id": "2a373a03",
   "metadata": {
    "ExecuteTime": {
     "end_time": "2022-01-06T07:53:59.916038Z",
     "start_time": "2022-01-06T07:53:59.885681Z"
    }
   },
   "outputs": [
    {
     "data": {
      "text/html": [
       "<div>\n",
       "<style scoped>\n",
       "    .dataframe tbody tr th:only-of-type {\n",
       "        vertical-align: middle;\n",
       "    }\n",
       "\n",
       "    .dataframe tbody tr th {\n",
       "        vertical-align: top;\n",
       "    }\n",
       "\n",
       "    .dataframe thead th {\n",
       "        text-align: right;\n",
       "    }\n",
       "</style>\n",
       "<table border=\"1\" class=\"dataframe\">\n",
       "  <thead>\n",
       "    <tr style=\"text-align: right;\">\n",
       "      <th></th>\n",
       "      <th>book_id</th>\n",
       "      <th>title</th>\n",
       "      <th>author</th>\n",
       "      <th>average_rating</th>\n",
       "      <th>genre</th>\n",
       "      <th>description</th>\n",
       "      <th>url</th>\n",
       "      <th>image_url</th>\n",
       "    </tr>\n",
       "  </thead>\n",
       "  <tbody>\n",
       "    <tr>\n",
       "      <th>4300</th>\n",
       "      <td>9413044</td>\n",
       "      <td>Everneath</td>\n",
       "      <td>Brodi Ashton</td>\n",
       "      <td>3.74</td>\n",
       "      <td>Young Adult</td>\n",
       "      <td>Last spring, Nikki Beckett vanished, sucked in...</td>\n",
       "      <td>https://www.goodreads.com/book/show/9413044-ev...</td>\n",
       "      <td>https://i.gr-assets.com/images/S/compressed.ph...</td>\n",
       "    </tr>\n",
       "    <tr>\n",
       "      <th>4301</th>\n",
       "      <td>25526965</td>\n",
       "      <td>End of Watch</td>\n",
       "      <td>Stephen King</td>\n",
       "      <td>4.09</td>\n",
       "      <td>Horror</td>\n",
       "      <td>The spectacular finale to the New York Times b...</td>\n",
       "      <td>https://www.goodreads.com/book/show/25526965-e...</td>\n",
       "      <td>https://i.gr-assets.com/images/S/compressed.ph...</td>\n",
       "    </tr>\n",
       "    <tr>\n",
       "      <th>4302</th>\n",
       "      <td>10846336</td>\n",
       "      <td>Salvage the Bones</td>\n",
       "      <td>Jesmyn Ward</td>\n",
       "      <td>3.93</td>\n",
       "      <td>Fiction</td>\n",
       "      <td>Winner of the 2011 National Book Award for Fic...</td>\n",
       "      <td>https://www.goodreads.com/book/show/10846336-s...</td>\n",
       "      <td>https://i.gr-assets.com/images/S/compressed.ph...</td>\n",
       "    </tr>\n",
       "    <tr>\n",
       "      <th>4303</th>\n",
       "      <td>15803037</td>\n",
       "      <td>Red Sparrow</td>\n",
       "      <td>Jason  Matthews</td>\n",
       "      <td>3.95</td>\n",
       "      <td>Fiction</td>\n",
       "      <td>In the grand spy-tale tradition of John le Car...</td>\n",
       "      <td>https://www.goodreads.com/book/show/15803037-r...</td>\n",
       "      <td>https://i.gr-assets.com/images/S/compressed.ph...</td>\n",
       "    </tr>\n",
       "    <tr>\n",
       "      <th>4304</th>\n",
       "      <td>6621287</td>\n",
       "      <td>com نسيان</td>\n",
       "      <td>أحلام مستغانمي</td>\n",
       "      <td>3.68</td>\n",
       "      <td>Novels</td>\n",
       "      <td>هذا الكتاب للكاتبة الشهيرة والتي \"صُنّفت من بي...</td>\n",
       "      <td>https://www.goodreads.com/book/show/6621287-com</td>\n",
       "      <td>https://i.gr-assets.com/images/S/compressed.ph...</td>\n",
       "    </tr>\n",
       "  </tbody>\n",
       "</table>\n",
       "</div>"
      ],
      "text/plain": [
       "       book_id              title           author  average_rating  \\\n",
       "4300   9413044          Everneath     Brodi Ashton            3.74   \n",
       "4301  25526965       End of Watch     Stephen King            4.09   \n",
       "4302  10846336  Salvage the Bones      Jesmyn Ward            3.93   \n",
       "4303  15803037        Red Sparrow  Jason  Matthews            3.95   \n",
       "4304   6621287          com نسيان   أحلام مستغانمي            3.68   \n",
       "\n",
       "            genre                                        description  \\\n",
       "4300  Young Adult  Last spring, Nikki Beckett vanished, sucked in...   \n",
       "4301       Horror  The spectacular finale to the New York Times b...   \n",
       "4302      Fiction  Winner of the 2011 National Book Award for Fic...   \n",
       "4303      Fiction  In the grand spy-tale tradition of John le Car...   \n",
       "4304       Novels  هذا الكتاب للكاتبة الشهيرة والتي \"صُنّفت من بي...   \n",
       "\n",
       "                                                    url  \\\n",
       "4300  https://www.goodreads.com/book/show/9413044-ev...   \n",
       "4301  https://www.goodreads.com/book/show/25526965-e...   \n",
       "4302  https://www.goodreads.com/book/show/10846336-s...   \n",
       "4303  https://www.goodreads.com/book/show/15803037-r...   \n",
       "4304    https://www.goodreads.com/book/show/6621287-com   \n",
       "\n",
       "                                              image_url  \n",
       "4300  https://i.gr-assets.com/images/S/compressed.ph...  \n",
       "4301  https://i.gr-assets.com/images/S/compressed.ph...  \n",
       "4302  https://i.gr-assets.com/images/S/compressed.ph...  \n",
       "4303  https://i.gr-assets.com/images/S/compressed.ph...  \n",
       "4304  https://i.gr-assets.com/images/S/compressed.ph...  "
      ]
     },
     "execution_count": 105,
     "metadata": {},
     "output_type": "execute_result"
    }
   ],
   "source": [
    "books.tail()"
   ]
  },
  {
   "cell_type": "code",
   "execution_count": 106,
   "id": "7676b388",
   "metadata": {
    "ExecuteTime": {
     "end_time": "2022-01-06T07:53:59.931850Z",
     "start_time": "2022-01-06T07:53:59.917629Z"
    }
   },
   "outputs": [
    {
     "data": {
      "text/plain": [
       "pandas.core.frame.DataFrame"
      ]
     },
     "execution_count": 106,
     "metadata": {},
     "output_type": "execute_result"
    }
   ],
   "source": [
    "# Data Structure\n",
    "type(books)"
   ]
  },
  {
   "cell_type": "code",
   "execution_count": 107,
   "id": "163608f6",
   "metadata": {
    "ExecuteTime": {
     "end_time": "2022-01-06T07:53:59.941000Z",
     "start_time": "2022-01-06T07:53:59.933788Z"
    }
   },
   "outputs": [
    {
     "data": {
      "text/plain": [
       "(4305, 8)"
      ]
     },
     "execution_count": 107,
     "metadata": {},
     "output_type": "execute_result"
    }
   ],
   "source": [
    "books.shape"
   ]
  },
  {
   "cell_type": "code",
   "execution_count": 108,
   "id": "8eafed74",
   "metadata": {
    "ExecuteTime": {
     "end_time": "2022-01-06T07:53:59.958728Z",
     "start_time": "2022-01-06T07:53:59.944672Z"
    }
   },
   "outputs": [
    {
     "data": {
      "text/plain": [
       "book_id             int64\n",
       "title              object\n",
       "author             object\n",
       "average_rating    float64\n",
       "genre              object\n",
       "description        object\n",
       "url                object\n",
       "image_url          object\n",
       "dtype: object"
      ]
     },
     "execution_count": 108,
     "metadata": {},
     "output_type": "execute_result"
    }
   ],
   "source": [
    "# Datatypes\n",
    "books.dtypes"
   ]
  },
  {
   "cell_type": "markdown",
   "id": "e0e27a7a",
   "metadata": {},
   "source": [
    "# Datatype Conversion"
   ]
  },
  {
   "cell_type": "code",
   "execution_count": 109,
   "id": "0fa4a1d5",
   "metadata": {
    "ExecuteTime": {
     "end_time": "2022-01-06T07:53:59.997239Z",
     "start_time": "2022-01-06T07:53:59.961443Z"
    }
   },
   "outputs": [
    {
     "name": "stdout",
     "output_type": "stream",
     "text": [
      "<class 'pandas.core.frame.DataFrame'>\n",
      "RangeIndex: 4305 entries, 0 to 4304\n",
      "Data columns (total 8 columns):\n",
      " #   Column          Non-Null Count  Dtype  \n",
      "---  ------          --------------  -----  \n",
      " 0   book_id         4305 non-null   int64  \n",
      " 1   title           4305 non-null   object \n",
      " 2   author          4305 non-null   object \n",
      " 3   average_rating  4305 non-null   float64\n",
      " 4   genre           4305 non-null   object \n",
      " 5   description     4305 non-null   object \n",
      " 6   url             4305 non-null   object \n",
      " 7   image_url       4305 non-null   object \n",
      "dtypes: float64(1), int64(1), object(6)\n",
      "memory usage: 269.2+ KB\n"
     ]
    }
   ],
   "source": [
    "books.info()"
   ]
  },
  {
   "cell_type": "code",
   "execution_count": 110,
   "id": "f15f6609",
   "metadata": {
    "ExecuteTime": {
     "end_time": "2022-01-06T07:54:00.019145Z",
     "start_time": "2022-01-06T07:53:59.998856Z"
    }
   },
   "outputs": [
    {
     "data": {
      "text/plain": [
       "book_id           0\n",
       "title             0\n",
       "author            0\n",
       "average_rating    0\n",
       "genre             0\n",
       "description       0\n",
       "url               0\n",
       "image_url         0\n",
       "dtype: int64"
      ]
     },
     "execution_count": 110,
     "metadata": {},
     "output_type": "execute_result"
    }
   ],
   "source": [
    "# Checking for null values\n",
    "books.isnull().sum()"
   ]
  },
  {
   "cell_type": "code",
   "execution_count": 111,
   "id": "f91887dc",
   "metadata": {
    "ExecuteTime": {
     "end_time": "2022-01-06T07:54:00.087024Z",
     "start_time": "2022-01-06T07:54:00.022139Z"
    }
   },
   "outputs": [
    {
     "data": {
      "text/plain": [
       "0"
      ]
     },
     "execution_count": 111,
     "metadata": {},
     "output_type": "execute_result"
    }
   ],
   "source": [
    "books.duplicated().sum()"
   ]
  },
  {
   "cell_type": "code",
   "execution_count": 112,
   "id": "78bf4705",
   "metadata": {
    "ExecuteTime": {
     "end_time": "2022-01-06T07:54:00.129581Z",
     "start_time": "2022-01-06T07:54:00.088021Z"
    }
   },
   "outputs": [],
   "source": [
    "books.drop_duplicates(keep='first',inplace= True)"
   ]
  },
  {
   "cell_type": "code",
   "execution_count": 113,
   "id": "430daf5e",
   "metadata": {
    "ExecuteTime": {
     "end_time": "2022-01-06T07:54:00.150875Z",
     "start_time": "2022-01-06T07:54:00.131231Z"
    }
   },
   "outputs": [
    {
     "data": {
      "text/plain": [
       "(4305, 8)"
      ]
     },
     "execution_count": 113,
     "metadata": {},
     "output_type": "execute_result"
    }
   ],
   "source": [
    "books.shape"
   ]
  },
  {
   "cell_type": "code",
   "execution_count": 114,
   "id": "ca9f8dcb",
   "metadata": {
    "ExecuteTime": {
     "end_time": "2022-01-06T07:54:00.166691Z",
     "start_time": "2022-01-06T07:54:00.150875Z"
    }
   },
   "outputs": [
    {
     "data": {
      "text/plain": [
       "Fiction             991\n",
       "Nonfiction          497\n",
       "Fantasy             417\n",
       "Classics            337\n",
       "Young Adult         230\n",
       "                   ... \n",
       "Literature            1\n",
       "Relationships         1\n",
       "Literary Fiction      1\n",
       "Esoterica             1\n",
       "Anthologies           1\n",
       "Name: genre, Length: 87, dtype: int64"
      ]
     },
     "execution_count": 114,
     "metadata": {},
     "output_type": "execute_result"
    }
   ],
   "source": [
    "books['genre'].value_counts()"
   ]
  },
  {
   "cell_type": "code",
   "execution_count": 115,
   "id": "50ff4611",
   "metadata": {
    "ExecuteTime": {
     "end_time": "2022-01-06T07:54:04.485969Z",
     "start_time": "2022-01-06T07:54:00.169740Z"
    }
   },
   "outputs": [
    {
     "data": {
      "text/plain": [
       "<AxesSubplot:>"
      ]
     },
     "execution_count": 115,
     "metadata": {},
     "output_type": "execute_result"
    },
    {
     "data": {
      "image/png": "[encoded data removed]",
      "text/plain": [
       "<Figure size 1080x360 with 1 Axes>"
      ]
     },
     "metadata": {
      "needs_background": "light"
     },
     "output_type": "display_data"
    }
   ],
   "source": [
    "books.genre.value_counts().plot(x='genre',y = 'count',kind = 'bar',figsize = (15,5))"
   ]
  },
  {
   "cell_type": "code",
   "execution_count": 116,
   "id": "8ed5c14f",
   "metadata": {
    "ExecuteTime": {
     "end_time": "2022-01-06T07:54:04.506015Z",
     "start_time": "2022-01-06T07:54:04.488741Z"
    }
   },
   "outputs": [
    {
     "name": "stdout",
     "output_type": "stream",
     "text": [
      "The Kite Runner\n"
     ]
    },
    {
     "data": {
      "text/plain": [
       "'Generations of readers young and old, male and female, have fallen in love with the March sisters of Louisa May Alcott’s most popular and enduring novel, Little Women. Here are talented tomboy and author-to-be Jo, tragically frail Beth, beautiful Meg, and romantic, spoiled Amy, united in their devotion to each other and their struggles to survive in New England during the Civil War.It is no secret that Alcott based Little Women on her own early life. While her father, the freethinking reformer and abolitionist Bronson Alcott, hobnobbed with such eminent male authors as Emerson, Thoreau, and Hawthorne, Louisa supported herself and her sisters with \"woman’s work,” including sewing, doing laundry, and acting as a domestic servant. But she soon discovered she could make more money writing. Little Women brought her lasting fame and fortune, and far from being the \"girl’s book” her publisher requested, it explores such timeless themes as love and death, war and peace, the conflict between personal ambition and family responsibilities, and the clash of cultures between Europe and America.'"
      ]
     },
     "execution_count": 116,
     "metadata": {},
     "output_type": "execute_result"
    }
   ],
   "source": [
    "#print the title and description of a random sample\n",
    "print(books['title'][15])\n",
    "books['description'][20]"
   ]
  },
  {
   "cell_type": "code",
   "execution_count": 117,
   "id": "77922012",
   "metadata": {
    "ExecuteTime": {
     "end_time": "2022-01-06T07:54:04.531437Z",
     "start_time": "2022-01-06T07:54:04.509043Z"
    }
   },
   "outputs": [
    {
     "data": {
      "text/plain": [
       "Stephen King           45\n",
       "John Grisham           23\n",
       "C.S. Lewis             20\n",
       "William Shakespeare    20\n",
       "Terry Pratchett        18\n",
       "                       ..\n",
       "R.D. Blackmore          1\n",
       "Cornelius Ryan          1\n",
       "Lisa Genova             1\n",
       "Bette Greene            1\n",
       "Dylan Thomas            1\n",
       "Name: author, Length: 2563, dtype: int64"
      ]
     },
     "execution_count": 117,
     "metadata": {},
     "output_type": "execute_result"
    }
   ],
   "source": [
    "books.author.value_counts()"
   ]
  },
  {
   "cell_type": "code",
   "execution_count": 118,
   "id": "3e479a8d",
   "metadata": {
    "ExecuteTime": {
     "end_time": "2022-01-06T07:54:04.940196Z",
     "start_time": "2022-01-06T07:54:04.534257Z"
    }
   },
   "outputs": [
    {
     "data": {
      "image/png": "[encoded data removed]",
      "text/plain": [
       "<Figure size 432x288 with 1 Axes>"
      ]
     },
     "metadata": {
      "needs_background": "light"
     },
     "output_type": "display_data"
    }
   ],
   "source": [
    "books[\"author\"].value_counts().sort_values(ascending=False).head(10).plot.bar()#color=color\n",
    "plt.title(\"Top 10 Authors with highest number of Books\",fontsize=20)\n",
    "plt.xlabel(\"Authors\",fontsize=15)\n",
    "plt.ylabel(\"No. of Books\",fontsize=15)\n",
    "plt.show()"
   ]
  },
  {
   "cell_type": "code",
   "execution_count": 119,
   "id": "ef63b4bd",
   "metadata": {
    "ExecuteTime": {
     "end_time": "2022-01-06T07:54:06.465699Z",
     "start_time": "2022-01-06T07:54:04.944405Z"
    }
   },
   "outputs": [
    {
     "data": {
      "text/plain": [
       "<seaborn.axisgrid.FacetGrid at 0x1c3083eaa60>"
      ]
     },
     "execution_count": 119,
     "metadata": {},
     "output_type": "execute_result"
    },
    {
     "data": {
      "text/plain": [
       "<Figure size 864x720 with 0 Axes>"
      ]
     },
     "metadata": {},
     "output_type": "display_data"
    },
    {
     "data": {
      "image/png": "[encoded data removed]",
      "text/plain": [
       "<Figure size 360x360 with 1 Axes>"
      ]
     },
     "metadata": {
      "needs_background": "light"
     },
     "output_type": "display_data"
    }
   ],
   "source": [
    "#Calculating the word count for book description\n",
    "import seaborn as sns\n",
    "import matplotlib.pyplot as plt\n",
    "books['word_count'] = books['description'].apply(lambda x: len(str(x).split()))# Plotting the word count\n",
    "plt.figure(figsize=[12, 10])\n",
    "sns.displot(books['word_count'])"
   ]
  },
  {
   "cell_type": "markdown",
   "id": "752a6a3d",
   "metadata": {},
   "source": [
    "The book descriptions are not too lengthy. Average length of book descriptions are mostly of 200 words."
   ]
  },
  {
   "cell_type": "code",
   "execution_count": 120,
   "id": "92f5fc6a",
   "metadata": {
    "ExecuteTime": {
     "end_time": "2022-01-06T07:54:06.497923Z",
     "start_time": "2022-01-06T07:54:06.469819Z"
    }
   },
   "outputs": [
    {
     "data": {
      "text/html": [
       "<div>\n",
       "<style scoped>\n",
       "    .dataframe tbody tr th:only-of-type {\n",
       "        vertical-align: middle;\n",
       "    }\n",
       "\n",
       "    .dataframe tbody tr th {\n",
       "        vertical-align: top;\n",
       "    }\n",
       "\n",
       "    .dataframe thead th {\n",
       "        text-align: right;\n",
       "    }\n",
       "</style>\n",
       "<table border=\"1\" class=\"dataframe\">\n",
       "  <thead>\n",
       "    <tr style=\"text-align: right;\">\n",
       "      <th></th>\n",
       "      <th>book_id</th>\n",
       "      <th>title</th>\n",
       "      <th>author</th>\n",
       "      <th>average_rating</th>\n",
       "      <th>genre</th>\n",
       "      <th>description</th>\n",
       "      <th>url</th>\n",
       "      <th>image_url</th>\n",
       "      <th>word_count</th>\n",
       "    </tr>\n",
       "  </thead>\n",
       "  <tbody>\n",
       "    <tr>\n",
       "      <th>0</th>\n",
       "      <td>2657</td>\n",
       "      <td>To Kill a Mockingbird</td>\n",
       "      <td>Harper Lee</td>\n",
       "      <td>4.27</td>\n",
       "      <td>Classics</td>\n",
       "      <td>The unforgettable novel of a childhood in a sl...</td>\n",
       "      <td>https://www.goodreads.com/book/show/2657.To_Ki...</td>\n",
       "      <td>https://i.gr-assets.com/images/S/compressed.ph...</td>\n",
       "      <td>137</td>\n",
       "    </tr>\n",
       "    <tr>\n",
       "      <th>1</th>\n",
       "      <td>3</td>\n",
       "      <td>Harry Potter and the Sorcerer's Stone</td>\n",
       "      <td>J.K. Rowling</td>\n",
       "      <td>4.47</td>\n",
       "      <td>Fantasy</td>\n",
       "      <td>Harry Potter's life is miserable. His parents ...</td>\n",
       "      <td>https://www.goodreads.com/book/show/3.Harry_Po...</td>\n",
       "      <td>https://i.gr-assets.com/images/S/compressed.ph...</td>\n",
       "      <td>220</td>\n",
       "    </tr>\n",
       "    <tr>\n",
       "      <th>2</th>\n",
       "      <td>1885</td>\n",
       "      <td>Pride and Prejudice</td>\n",
       "      <td>Jane Austen</td>\n",
       "      <td>4.27</td>\n",
       "      <td>Classics</td>\n",
       "      <td>Alternate cover edition of ISBN 9780679783268S...</td>\n",
       "      <td>https://www.goodreads.com/book/show/1885.Pride...</td>\n",
       "      <td>https://i.gr-assets.com/images/S/compressed.ph...</td>\n",
       "      <td>100</td>\n",
       "    </tr>\n",
       "    <tr>\n",
       "      <th>3</th>\n",
       "      <td>48855</td>\n",
       "      <td>The Diary of a Young Girl</td>\n",
       "      <td>Anne Frank</td>\n",
       "      <td>4.17</td>\n",
       "      <td>Nonfiction</td>\n",
       "      <td>Discovered in the attic in which she spent the...</td>\n",
       "      <td>https://www.goodreads.com/book/show/48855.The_...</td>\n",
       "      <td>https://i.gr-assets.com/images/S/compressed.ph...</td>\n",
       "      <td>166</td>\n",
       "    </tr>\n",
       "    <tr>\n",
       "      <th>4</th>\n",
       "      <td>170448</td>\n",
       "      <td>Animal Farm</td>\n",
       "      <td>George Orwell</td>\n",
       "      <td>3.97</td>\n",
       "      <td>Classics</td>\n",
       "      <td>Librarian's note: There is an Alternate Cover ...</td>\n",
       "      <td>https://www.goodreads.com/book/show/170448.Ani...</td>\n",
       "      <td>https://i.gr-assets.com/images/S/compressed.ph...</td>\n",
       "      <td>123</td>\n",
       "    </tr>\n",
       "  </tbody>\n",
       "</table>\n",
       "</div>"
      ],
      "text/plain": [
       "   book_id                                  title         author  \\\n",
       "0     2657                  To Kill a Mockingbird     Harper Lee   \n",
       "1        3  Harry Potter and the Sorcerer's Stone   J.K. Rowling   \n",
       "2     1885                    Pride and Prejudice    Jane Austen   \n",
       "3    48855              The Diary of a Young Girl     Anne Frank   \n",
       "4   170448                            Animal Farm  George Orwell   \n",
       "\n",
       "   average_rating       genre  \\\n",
       "0            4.27    Classics   \n",
       "1            4.47     Fantasy   \n",
       "2            4.27    Classics   \n",
       "3            4.17  Nonfiction   \n",
       "4            3.97    Classics   \n",
       "\n",
       "                                         description  \\\n",
       "0  The unforgettable novel of a childhood in a sl...   \n",
       "1  Harry Potter's life is miserable. His parents ...   \n",
       "2  Alternate cover edition of ISBN 9780679783268S...   \n",
       "3  Discovered in the attic in which she spent the...   \n",
       "4  Librarian's note: There is an Alternate Cover ...   \n",
       "\n",
       "                                                 url  \\\n",
       "0  https://www.goodreads.com/book/show/2657.To_Ki...   \n",
       "1  https://www.goodreads.com/book/show/3.Harry_Po...   \n",
       "2  https://www.goodreads.com/book/show/1885.Pride...   \n",
       "3  https://www.goodreads.com/book/show/48855.The_...   \n",
       "4  https://www.goodreads.com/book/show/170448.Ani...   \n",
       "\n",
       "                                           image_url  word_count  \n",
       "0  https://i.gr-assets.com/images/S/compressed.ph...         137  \n",
       "1  https://i.gr-assets.com/images/S/compressed.ph...         220  \n",
       "2  https://i.gr-assets.com/images/S/compressed.ph...         100  \n",
       "3  https://i.gr-assets.com/images/S/compressed.ph...         166  \n",
       "4  https://i.gr-assets.com/images/S/compressed.ph...         123  "
      ]
     },
     "execution_count": 120,
     "metadata": {},
     "output_type": "execute_result"
    }
   ],
   "source": [
    "books.head()"
   ]
  },
  {
   "cell_type": "markdown",
   "id": "b84c2232",
   "metadata": {},
   "source": [
    "# Data Preprocessing"
   ]
  },
  {
   "cell_type": "code",
   "execution_count": 121,
   "id": "434dc554",
   "metadata": {
    "ExecuteTime": {
     "end_time": "2022-01-06T07:54:06.523058Z",
     "start_time": "2022-01-06T07:54:06.501556Z"
    },
    "scrolled": true
   },
   "outputs": [
    {
     "data": {
      "text/plain": [
       "array(['Classics', 'Fantasy', 'Nonfiction', 'Fiction', 'Young Adult',\n",
       "       'Childrens', 'Science Fiction', 'Poetry', 'Horror', 'Religion',\n",
       "       'History', 'Mystery', 'Historical', 'Travel', 'Romance',\n",
       "       'Philosophy', 'Science', 'Thriller', 'Sequential Art', 'Christian',\n",
       "       'Academic', 'Self Help', 'Language', 'Plays', 'Cultural',\n",
       "       'Contemporary', 'Drama', 'Short Stories', 'Psychology', 'Feminism',\n",
       "       'Christian Fiction', 'Adventure', 'Biography', 'Food and Drink',\n",
       "       'Spirituality', 'Business', 'Novels', 'Paranormal', 'Holiday',\n",
       "       'Crime', 'Apocalyptic', 'Inspirational', 'Autobiography',\n",
       "       'Realistic Fiction', 'Economics', 'Epic', 'Book Club', 'Marriage',\n",
       "       'Humor', 'Politics', 'Polyamorous', 'Erotica', 'Womens Fiction',\n",
       "       'Health', 'New Adult', 'Shapeshifters', 'War', 'Design', 'Adult',\n",
       "       'Parenting', 'Gender', 'Education', 'Animals', 'LGBT', 'Modern',\n",
       "       'Magical Realism', 'Music', 'Art', 'Dark', 'Leadership',\n",
       "       'Suspense', 'Westerns', 'Adult Fiction', 'Esoterica', 'Medical',\n",
       "       'Comics', 'Occult', 'Literary Fiction', 'Architecture',\n",
       "       'Relationships', 'Asian Literature', 'Games', 'World War II',\n",
       "       'Literature', 'Sports', 'True Story', 'Anthologies'], dtype=object)"
      ]
     },
     "execution_count": 121,
     "metadata": {},
     "output_type": "execute_result"
    }
   ],
   "source": [
    "books.genre.unique()"
   ]
  },
  {
   "cell_type": "code",
   "execution_count": 122,
   "id": "5d67482a",
   "metadata": {
    "ExecuteTime": {
     "end_time": "2022-01-06T07:54:06.540777Z",
     "start_time": "2022-01-06T07:54:06.526136Z"
    }
   },
   "outputs": [],
   "source": [
    "#filtering books with genres consiting more than 100 books\n",
    "df = books[books['genre'].map(books['genre'].value_counts()) > 100]"
   ]
  },
  {
   "cell_type": "code",
   "execution_count": 123,
   "id": "11221de5",
   "metadata": {
    "ExecuteTime": {
     "end_time": "2022-01-06T07:54:06.581012Z",
     "start_time": "2022-01-06T07:54:06.546064Z"
    }
   },
   "outputs": [
    {
     "name": "stdout",
     "output_type": "stream",
     "text": [
      "<class 'pandas.core.frame.DataFrame'>\n",
      "Int64Index: 3293 entries, 0 to 4303\n",
      "Data columns (total 9 columns):\n",
      " #   Column          Non-Null Count  Dtype  \n",
      "---  ------          --------------  -----  \n",
      " 0   book_id         3293 non-null   int64  \n",
      " 1   title           3293 non-null   object \n",
      " 2   author          3293 non-null   object \n",
      " 3   average_rating  3293 non-null   float64\n",
      " 4   genre           3293 non-null   object \n",
      " 5   description     3293 non-null   object \n",
      " 6   url             3293 non-null   object \n",
      " 7   image_url       3293 non-null   object \n",
      " 8   word_count      3293 non-null   int64  \n",
      "dtypes: float64(1), int64(2), object(6)\n",
      "memory usage: 257.3+ KB\n"
     ]
    }
   ],
   "source": [
    "df.info()"
   ]
  },
  {
   "cell_type": "code",
   "execution_count": 124,
   "id": "5ea6534c",
   "metadata": {
    "ExecuteTime": {
     "end_time": "2022-01-06T07:54:06.603492Z",
     "start_time": "2022-01-06T07:54:06.584712Z"
    }
   },
   "outputs": [
    {
     "data": {
      "text/plain": [
       "Fiction            991\n",
       "Nonfiction         497\n",
       "Fantasy            417\n",
       "Classics           337\n",
       "Young Adult        230\n",
       "Historical         203\n",
       "Mystery            157\n",
       "Science Fiction    126\n",
       "Romance            122\n",
       "Horror             107\n",
       "Thriller           106\n",
       "Name: genre, dtype: int64"
      ]
     },
     "execution_count": 124,
     "metadata": {},
     "output_type": "execute_result"
    }
   ],
   "source": [
    "df.genre.value_counts()"
   ]
  },
  {
   "cell_type": "code",
   "execution_count": 125,
   "id": "2a2c68b2",
   "metadata": {
    "ExecuteTime": {
     "end_time": "2022-01-06T07:54:06.642736Z",
     "start_time": "2022-01-06T07:54:06.605556Z"
    }
   },
   "outputs": [
    {
     "name": "stdout",
     "output_type": "stream",
     "text": [
      "<class 'pandas.core.frame.DataFrame'>\n",
      "Int64Index: 624 entries, 15 to 4298\n",
      "Data columns (total 9 columns):\n",
      " #   Column          Non-Null Count  Dtype  \n",
      "---  ------          --------------  -----  \n",
      " 0   book_id         624 non-null    int64  \n",
      " 1   title           624 non-null    object \n",
      " 2   author          624 non-null    object \n",
      " 3   average_rating  624 non-null    float64\n",
      " 4   genre           624 non-null    object \n",
      " 5   description     624 non-null    object \n",
      " 6   url             624 non-null    object \n",
      " 7   image_url       624 non-null    object \n",
      " 8   word_count      624 non-null    int64  \n",
      "dtypes: float64(1), int64(2), object(6)\n",
      "memory usage: 48.8+ KB\n"
     ]
    }
   ],
   "source": [
    "# creating a sub dataframe of fiction books with  less than 160 word count.\n",
    "df1 = df[(df.genre == 'Fiction') & (df.word_count <= 160)]\n",
    "df1.info()"
   ]
  },
  {
   "cell_type": "code",
   "execution_count": 126,
   "id": "753ebe14",
   "metadata": {
    "ExecuteTime": {
     "end_time": "2022-01-06T07:54:06.669579Z",
     "start_time": "2022-01-06T07:54:06.647292Z"
    }
   },
   "outputs": [
    {
     "name": "stderr",
     "output_type": "stream",
     "text": [
      "C:\\Users\\Lenovo\\anaconda3\\lib\\site-packages\\pandas\\core\\frame.py:4308: SettingWithCopyWarning: \n",
      "A value is trying to be set on a copy of a slice from a DataFrame\n",
      "\n",
      "See the caveats in the documentation: https://pandas.pydata.org/pandas-docs/stable/user_guide/indexing.html#returning-a-view-versus-a-copy\n",
      "  return super().drop(\n"
     ]
    }
   ],
   "source": [
    "# dropping the  rows created in df2 from the df1 column.\n",
    "df.drop(df1.index,axis=0,inplace=True)"
   ]
  },
  {
   "cell_type": "code",
   "execution_count": 127,
   "id": "de9a5d4f",
   "metadata": {
    "ExecuteTime": {
     "end_time": "2022-01-06T07:54:06.693715Z",
     "start_time": "2022-01-06T07:54:06.671370Z"
    }
   },
   "outputs": [
    {
     "data": {
      "text/plain": [
       "Nonfiction         497\n",
       "Fantasy            417\n",
       "Fiction            367\n",
       "Classics           337\n",
       "Young Adult        230\n",
       "Historical         203\n",
       "Mystery            157\n",
       "Science Fiction    126\n",
       "Romance            122\n",
       "Horror             107\n",
       "Thriller           106\n",
       "Name: genre, dtype: int64"
      ]
     },
     "execution_count": 127,
     "metadata": {},
     "output_type": "execute_result"
    }
   ],
   "source": [
    "df.genre.value_counts()"
   ]
  },
  {
   "cell_type": "code",
   "execution_count": 128,
   "id": "0fa7b35b",
   "metadata": {
    "ExecuteTime": {
     "end_time": "2022-01-06T07:54:07.150051Z",
     "start_time": "2022-01-06T07:54:06.696930Z"
    }
   },
   "outputs": [
    {
     "data": {
      "text/plain": [
       "array([<AxesSubplot:ylabel='genre'>], dtype=object)"
      ]
     },
     "execution_count": 128,
     "metadata": {},
     "output_type": "execute_result"
    },
    {
     "data": {
      "image/png": "[encoded data removed]",
      "text/plain": [
       "<Figure size 1080x720 with 1 Axes>"
      ]
     },
     "metadata": {},
     "output_type": "display_data"
    }
   ],
   "source": [
    "df.genre.value_counts().plot(kind='pie', subplots=True, startangle=90,\n",
    "figsize=(15,10), autopct='%1.1f%%')"
   ]
  },
  {
   "cell_type": "code",
   "execution_count": 129,
   "id": "c088d6b6",
   "metadata": {
    "ExecuteTime": {
     "end_time": "2022-01-06T07:54:07.166313Z",
     "start_time": "2022-01-06T07:54:07.154639Z"
    }
   },
   "outputs": [
    {
     "name": "stderr",
     "output_type": "stream",
     "text": [
      "<ipython-input-129-42ab0e313828>:4: SettingWithCopyWarning: \n",
      "A value is trying to be set on a copy of a slice from a DataFrame.\n",
      "Try using .loc[row_indexer,col_indexer] = value instead\n",
      "\n",
      "See the caveats in the documentation: https://pandas.pydata.org/pandas-docs/stable/user_guide/indexing.html#returning-a-view-versus-a-copy\n",
      "  df['genre_le'] = le.fit_transform(df.genre)\n"
     ]
    }
   ],
   "source": [
    "from sklearn.preprocessing import LabelEncoder\n",
    "from sklearn import preprocessing\n",
    "le = preprocessing.LabelEncoder()\n",
    "df['genre_le'] = le.fit_transform(df.genre)"
   ]
  },
  {
   "cell_type": "code",
   "execution_count": 130,
   "id": "4e2cc77b",
   "metadata": {
    "ExecuteTime": {
     "end_time": "2022-01-06T07:54:07.197813Z",
     "start_time": "2022-01-06T07:54:07.168623Z"
    },
    "scrolled": true
   },
   "outputs": [
    {
     "data": {
      "text/html": [
       "<div>\n",
       "<style scoped>\n",
       "    .dataframe tbody tr th:only-of-type {\n",
       "        vertical-align: middle;\n",
       "    }\n",
       "\n",
       "    .dataframe tbody tr th {\n",
       "        vertical-align: top;\n",
       "    }\n",
       "\n",
       "    .dataframe thead th {\n",
       "        text-align: right;\n",
       "    }\n",
       "</style>\n",
       "<table border=\"1\" class=\"dataframe\">\n",
       "  <thead>\n",
       "    <tr style=\"text-align: right;\">\n",
       "      <th></th>\n",
       "      <th>book_id</th>\n",
       "      <th>title</th>\n",
       "      <th>author</th>\n",
       "      <th>average_rating</th>\n",
       "      <th>genre</th>\n",
       "      <th>description</th>\n",
       "      <th>url</th>\n",
       "      <th>image_url</th>\n",
       "      <th>word_count</th>\n",
       "      <th>genre_le</th>\n",
       "    </tr>\n",
       "  </thead>\n",
       "  <tbody>\n",
       "    <tr>\n",
       "      <th>0</th>\n",
       "      <td>2657</td>\n",
       "      <td>To Kill a Mockingbird</td>\n",
       "      <td>Harper Lee</td>\n",
       "      <td>4.27</td>\n",
       "      <td>Classics</td>\n",
       "      <td>The unforgettable novel of a childhood in a sl...</td>\n",
       "      <td>https://www.goodreads.com/book/show/2657.To_Ki...</td>\n",
       "      <td>https://i.gr-assets.com/images/S/compressed.ph...</td>\n",
       "      <td>137</td>\n",
       "      <td>0</td>\n",
       "    </tr>\n",
       "    <tr>\n",
       "      <th>1</th>\n",
       "      <td>3</td>\n",
       "      <td>Harry Potter and the Sorcerer's Stone</td>\n",
       "      <td>J.K. Rowling</td>\n",
       "      <td>4.47</td>\n",
       "      <td>Fantasy</td>\n",
       "      <td>Harry Potter's life is miserable. His parents ...</td>\n",
       "      <td>https://www.goodreads.com/book/show/3.Harry_Po...</td>\n",
       "      <td>https://i.gr-assets.com/images/S/compressed.ph...</td>\n",
       "      <td>220</td>\n",
       "      <td>1</td>\n",
       "    </tr>\n",
       "    <tr>\n",
       "      <th>2</th>\n",
       "      <td>1885</td>\n",
       "      <td>Pride and Prejudice</td>\n",
       "      <td>Jane Austen</td>\n",
       "      <td>4.27</td>\n",
       "      <td>Classics</td>\n",
       "      <td>Alternate cover edition of ISBN 9780679783268S...</td>\n",
       "      <td>https://www.goodreads.com/book/show/1885.Pride...</td>\n",
       "      <td>https://i.gr-assets.com/images/S/compressed.ph...</td>\n",
       "      <td>100</td>\n",
       "      <td>0</td>\n",
       "    </tr>\n",
       "    <tr>\n",
       "      <th>3</th>\n",
       "      <td>48855</td>\n",
       "      <td>The Diary of a Young Girl</td>\n",
       "      <td>Anne Frank</td>\n",
       "      <td>4.17</td>\n",
       "      <td>Nonfiction</td>\n",
       "      <td>Discovered in the attic in which she spent the...</td>\n",
       "      <td>https://www.goodreads.com/book/show/48855.The_...</td>\n",
       "      <td>https://i.gr-assets.com/images/S/compressed.ph...</td>\n",
       "      <td>166</td>\n",
       "      <td>6</td>\n",
       "    </tr>\n",
       "    <tr>\n",
       "      <th>4</th>\n",
       "      <td>170448</td>\n",
       "      <td>Animal Farm</td>\n",
       "      <td>George Orwell</td>\n",
       "      <td>3.97</td>\n",
       "      <td>Classics</td>\n",
       "      <td>Librarian's note: There is an Alternate Cover ...</td>\n",
       "      <td>https://www.goodreads.com/book/show/170448.Ani...</td>\n",
       "      <td>https://i.gr-assets.com/images/S/compressed.ph...</td>\n",
       "      <td>123</td>\n",
       "      <td>0</td>\n",
       "    </tr>\n",
       "  </tbody>\n",
       "</table>\n",
       "</div>"
      ],
      "text/plain": [
       "   book_id                                  title         author  \\\n",
       "0     2657                  To Kill a Mockingbird     Harper Lee   \n",
       "1        3  Harry Potter and the Sorcerer's Stone   J.K. Rowling   \n",
       "2     1885                    Pride and Prejudice    Jane Austen   \n",
       "3    48855              The Diary of a Young Girl     Anne Frank   \n",
       "4   170448                            Animal Farm  George Orwell   \n",
       "\n",
       "   average_rating       genre  \\\n",
       "0            4.27    Classics   \n",
       "1            4.47     Fantasy   \n",
       "2            4.27    Classics   \n",
       "3            4.17  Nonfiction   \n",
       "4            3.97    Classics   \n",
       "\n",
       "                                         description  \\\n",
       "0  The unforgettable novel of a childhood in a sl...   \n",
       "1  Harry Potter's life is miserable. His parents ...   \n",
       "2  Alternate cover edition of ISBN 9780679783268S...   \n",
       "3  Discovered in the attic in which she spent the...   \n",
       "4  Librarian's note: There is an Alternate Cover ...   \n",
       "\n",
       "                                                 url  \\\n",
       "0  https://www.goodreads.com/book/show/2657.To_Ki...   \n",
       "1  https://www.goodreads.com/book/show/3.Harry_Po...   \n",
       "2  https://www.goodreads.com/book/show/1885.Pride...   \n",
       "3  https://www.goodreads.com/book/show/48855.The_...   \n",
       "4  https://www.goodreads.com/book/show/170448.Ani...   \n",
       "\n",
       "                                           image_url  word_count  genre_le  \n",
       "0  https://i.gr-assets.com/images/S/compressed.ph...         137         0  \n",
       "1  https://i.gr-assets.com/images/S/compressed.ph...         220         1  \n",
       "2  https://i.gr-assets.com/images/S/compressed.ph...         100         0  \n",
       "3  https://i.gr-assets.com/images/S/compressed.ph...         166         6  \n",
       "4  https://i.gr-assets.com/images/S/compressed.ph...         123         0  "
      ]
     },
     "execution_count": 130,
     "metadata": {},
     "output_type": "execute_result"
    }
   ],
   "source": [
    "df.genre.unique()\n",
    "df.head()"
   ]
  },
  {
   "cell_type": "code",
   "execution_count": 131,
   "id": "1f86af68",
   "metadata": {
    "ExecuteTime": {
     "end_time": "2022-01-06T07:54:07.229316Z",
     "start_time": "2022-01-06T07:54:07.200499Z"
    },
    "scrolled": true
   },
   "outputs": [
    {
     "name": "stderr",
     "output_type": "stream",
     "text": [
      "<ipython-input-131-d5cb8fdb6cc9>:1: SettingWithCopyWarning: \n",
      "A value is trying to be set on a copy of a slice from a DataFrame.\n",
      "Try using .loc[row_indexer,col_indexer] = value instead\n",
      "\n",
      "See the caveats in the documentation: https://pandas.pydata.org/pandas-docs/stable/user_guide/indexing.html#returning-a-view-versus-a-copy\n",
      "  df['author'] = df['author'].str.replace(\" \",\"\")\n",
      "<ipython-input-131-d5cb8fdb6cc9>:2: SettingWithCopyWarning: \n",
      "A value is trying to be set on a copy of a slice from a DataFrame.\n",
      "Try using .loc[row_indexer,col_indexer] = value instead\n",
      "\n",
      "See the caveats in the documentation: https://pandas.pydata.org/pandas-docs/stable/user_guide/indexing.html#returning-a-view-versus-a-copy\n",
      "  df['tags'] = df['title'] + \" \" + df['author'] + \" \" + df['description']\n",
      "C:\\Users\\Lenovo\\anaconda3\\lib\\site-packages\\pandas\\core\\frame.py:4308: SettingWithCopyWarning: \n",
      "A value is trying to be set on a copy of a slice from a DataFrame\n",
      "\n",
      "See the caveats in the documentation: https://pandas.pydata.org/pandas-docs/stable/user_guide/indexing.html#returning-a-view-versus-a-copy\n",
      "  return super().drop(\n"
     ]
    }
   ],
   "source": [
    "df['author'] = df['author'].str.replace(\" \",\"\")\n",
    "df['tags'] = df['title'] + \" \" + df['author'] + \" \" + df['description']\n",
    "df.drop(['word_count', 'author', 'description'], axis=1, inplace=True)"
   ]
  },
  {
   "cell_type": "code",
   "execution_count": 132,
   "id": "1e6986d1",
   "metadata": {
    "ExecuteTime": {
     "end_time": "2022-01-06T07:54:07.290749Z",
     "start_time": "2022-01-06T07:54:07.232507Z"
    },
    "scrolled": false
   },
   "outputs": [
    {
     "name": "stderr",
     "output_type": "stream",
     "text": [
      "<ipython-input-132-fb7ba43debcc>:1: SettingWithCopyWarning: \n",
      "A value is trying to be set on a copy of a slice from a DataFrame.\n",
      "Try using .loc[row_indexer,col_indexer] = value instead\n",
      "\n",
      "See the caveats in the documentation: https://pandas.pydata.org/pandas-docs/stable/user_guide/indexing.html#returning-a-view-versus-a-copy\n",
      "  df['tags'] = df['tags'].apply(lambda x: x.lower())\n"
     ]
    },
    {
     "data": {
      "text/html": [
       "<div>\n",
       "<style scoped>\n",
       "    .dataframe tbody tr th:only-of-type {\n",
       "        vertical-align: middle;\n",
       "    }\n",
       "\n",
       "    .dataframe tbody tr th {\n",
       "        vertical-align: top;\n",
       "    }\n",
       "\n",
       "    .dataframe thead th {\n",
       "        text-align: right;\n",
       "    }\n",
       "</style>\n",
       "<table border=\"1\" class=\"dataframe\">\n",
       "  <thead>\n",
       "    <tr style=\"text-align: right;\">\n",
       "      <th></th>\n",
       "      <th>book_id</th>\n",
       "      <th>title</th>\n",
       "      <th>average_rating</th>\n",
       "      <th>genre</th>\n",
       "      <th>url</th>\n",
       "      <th>image_url</th>\n",
       "      <th>genre_le</th>\n",
       "      <th>tags</th>\n",
       "    </tr>\n",
       "  </thead>\n",
       "  <tbody>\n",
       "    <tr>\n",
       "      <th>0</th>\n",
       "      <td>2657</td>\n",
       "      <td>To Kill a Mockingbird</td>\n",
       "      <td>4.27</td>\n",
       "      <td>Classics</td>\n",
       "      <td>https://www.goodreads.com/book/show/2657.To_Ki...</td>\n",
       "      <td>https://i.gr-assets.com/images/S/compressed.ph...</td>\n",
       "      <td>0</td>\n",
       "      <td>to kill a mockingbird harperlee the unforgetta...</td>\n",
       "    </tr>\n",
       "    <tr>\n",
       "      <th>1</th>\n",
       "      <td>3</td>\n",
       "      <td>Harry Potter and the Sorcerer's Stone</td>\n",
       "      <td>4.47</td>\n",
       "      <td>Fantasy</td>\n",
       "      <td>https://www.goodreads.com/book/show/3.Harry_Po...</td>\n",
       "      <td>https://i.gr-assets.com/images/S/compressed.ph...</td>\n",
       "      <td>1</td>\n",
       "      <td>harry potter and the sorcerer's stone j.k.rowl...</td>\n",
       "    </tr>\n",
       "    <tr>\n",
       "      <th>2</th>\n",
       "      <td>1885</td>\n",
       "      <td>Pride and Prejudice</td>\n",
       "      <td>4.27</td>\n",
       "      <td>Classics</td>\n",
       "      <td>https://www.goodreads.com/book/show/1885.Pride...</td>\n",
       "      <td>https://i.gr-assets.com/images/S/compressed.ph...</td>\n",
       "      <td>0</td>\n",
       "      <td>pride and prejudice janeausten alternate cover...</td>\n",
       "    </tr>\n",
       "    <tr>\n",
       "      <th>3</th>\n",
       "      <td>48855</td>\n",
       "      <td>The Diary of a Young Girl</td>\n",
       "      <td>4.17</td>\n",
       "      <td>Nonfiction</td>\n",
       "      <td>https://www.goodreads.com/book/show/48855.The_...</td>\n",
       "      <td>https://i.gr-assets.com/images/S/compressed.ph...</td>\n",
       "      <td>6</td>\n",
       "      <td>the diary of a young girl annefrank discovered...</td>\n",
       "    </tr>\n",
       "    <tr>\n",
       "      <th>4</th>\n",
       "      <td>170448</td>\n",
       "      <td>Animal Farm</td>\n",
       "      <td>3.97</td>\n",
       "      <td>Classics</td>\n",
       "      <td>https://www.goodreads.com/book/show/170448.Ani...</td>\n",
       "      <td>https://i.gr-assets.com/images/S/compressed.ph...</td>\n",
       "      <td>0</td>\n",
       "      <td>animal farm georgeorwell librarian's note: the...</td>\n",
       "    </tr>\n",
       "  </tbody>\n",
       "</table>\n",
       "</div>"
      ],
      "text/plain": [
       "   book_id                                  title  average_rating       genre  \\\n",
       "0     2657                  To Kill a Mockingbird            4.27    Classics   \n",
       "1        3  Harry Potter and the Sorcerer's Stone            4.47     Fantasy   \n",
       "2     1885                    Pride and Prejudice            4.27    Classics   \n",
       "3    48855              The Diary of a Young Girl            4.17  Nonfiction   \n",
       "4   170448                            Animal Farm            3.97    Classics   \n",
       "\n",
       "                                                 url  \\\n",
       "0  https://www.goodreads.com/book/show/2657.To_Ki...   \n",
       "1  https://www.goodreads.com/book/show/3.Harry_Po...   \n",
       "2  https://www.goodreads.com/book/show/1885.Pride...   \n",
       "3  https://www.goodreads.com/book/show/48855.The_...   \n",
       "4  https://www.goodreads.com/book/show/170448.Ani...   \n",
       "\n",
       "                                           image_url  genre_le  \\\n",
       "0  https://i.gr-assets.com/images/S/compressed.ph...         0   \n",
       "1  https://i.gr-assets.com/images/S/compressed.ph...         1   \n",
       "2  https://i.gr-assets.com/images/S/compressed.ph...         0   \n",
       "3  https://i.gr-assets.com/images/S/compressed.ph...         6   \n",
       "4  https://i.gr-assets.com/images/S/compressed.ph...         0   \n",
       "\n",
       "                                                tags  \n",
       "0  to kill a mockingbird harperlee the unforgetta...  \n",
       "1  harry potter and the sorcerer's stone j.k.rowl...  \n",
       "2  pride and prejudice janeausten alternate cover...  \n",
       "3  the diary of a young girl annefrank discovered...  \n",
       "4  animal farm georgeorwell librarian's note: the...  "
      ]
     },
     "execution_count": 132,
     "metadata": {},
     "output_type": "execute_result"
    }
   ],
   "source": [
    "df['tags'] = df['tags'].apply(lambda x: x.lower())\n",
    "df.head()"
   ]
  },
  {
   "cell_type": "code",
   "execution_count": 133,
   "id": "74829751",
   "metadata": {
    "ExecuteTime": {
     "end_time": "2022-01-06T07:54:07.305814Z",
     "start_time": "2022-01-06T07:54:07.292344Z"
    }
   },
   "outputs": [],
   "source": [
    "#stemming\n",
    "import nltk\n",
    "from nltk.stem.porter import PorterStemmer\n",
    "ps = PorterStemmer()\n",
    "def stemming(text):\n",
    "    y = []\n",
    "    for i in text.split():\n",
    "        y.append(ps.stem(i))\n",
    "        \n",
    "    return \" \".join(y)"
   ]
  },
  {
   "cell_type": "code",
   "execution_count": 134,
   "id": "a4435313",
   "metadata": {
    "ExecuteTime": {
     "end_time": "2022-01-06T07:54:28.382862Z",
     "start_time": "2022-01-06T07:54:07.309812Z"
    },
    "scrolled": true
   },
   "outputs": [
    {
     "name": "stderr",
     "output_type": "stream",
     "text": [
      "<ipython-input-134-beb54dde1334>:1: SettingWithCopyWarning: \n",
      "A value is trying to be set on a copy of a slice from a DataFrame.\n",
      "Try using .loc[row_indexer,col_indexer] = value instead\n",
      "\n",
      "See the caveats in the documentation: https://pandas.pydata.org/pandas-docs/stable/user_guide/indexing.html#returning-a-view-versus-a-copy\n",
      "  df['tags'] = df['tags'].apply(stemming)\n"
     ]
    },
    {
     "data": {
      "text/html": [
       "<div>\n",
       "<style scoped>\n",
       "    .dataframe tbody tr th:only-of-type {\n",
       "        vertical-align: middle;\n",
       "    }\n",
       "\n",
       "    .dataframe tbody tr th {\n",
       "        vertical-align: top;\n",
       "    }\n",
       "\n",
       "    .dataframe thead th {\n",
       "        text-align: right;\n",
       "    }\n",
       "</style>\n",
       "<table border=\"1\" class=\"dataframe\">\n",
       "  <thead>\n",
       "    <tr style=\"text-align: right;\">\n",
       "      <th></th>\n",
       "      <th>book_id</th>\n",
       "      <th>title</th>\n",
       "      <th>average_rating</th>\n",
       "      <th>genre</th>\n",
       "      <th>url</th>\n",
       "      <th>image_url</th>\n",
       "      <th>genre_le</th>\n",
       "      <th>tags</th>\n",
       "    </tr>\n",
       "  </thead>\n",
       "  <tbody>\n",
       "    <tr>\n",
       "      <th>0</th>\n",
       "      <td>2657</td>\n",
       "      <td>To Kill a Mockingbird</td>\n",
       "      <td>4.27</td>\n",
       "      <td>Classics</td>\n",
       "      <td>https://www.goodreads.com/book/show/2657.To_Ki...</td>\n",
       "      <td>https://i.gr-assets.com/images/S/compressed.ph...</td>\n",
       "      <td>0</td>\n",
       "      <td>to kill a mockingbird harperle the unforgett n...</td>\n",
       "    </tr>\n",
       "    <tr>\n",
       "      <th>1</th>\n",
       "      <td>3</td>\n",
       "      <td>Harry Potter and the Sorcerer's Stone</td>\n",
       "      <td>4.47</td>\n",
       "      <td>Fantasy</td>\n",
       "      <td>https://www.goodreads.com/book/show/3.Harry_Po...</td>\n",
       "      <td>https://i.gr-assets.com/images/S/compressed.ph...</td>\n",
       "      <td>1</td>\n",
       "      <td>harri potter and the sorcerer' stone j.k.rowl ...</td>\n",
       "    </tr>\n",
       "    <tr>\n",
       "      <th>2</th>\n",
       "      <td>1885</td>\n",
       "      <td>Pride and Prejudice</td>\n",
       "      <td>4.27</td>\n",
       "      <td>Classics</td>\n",
       "      <td>https://www.goodreads.com/book/show/1885.Pride...</td>\n",
       "      <td>https://i.gr-assets.com/images/S/compressed.ph...</td>\n",
       "      <td>0</td>\n",
       "      <td>pride and prejudic janeausten altern cover edi...</td>\n",
       "    </tr>\n",
       "    <tr>\n",
       "      <th>3</th>\n",
       "      <td>48855</td>\n",
       "      <td>The Diary of a Young Girl</td>\n",
       "      <td>4.17</td>\n",
       "      <td>Nonfiction</td>\n",
       "      <td>https://www.goodreads.com/book/show/48855.The_...</td>\n",
       "      <td>https://i.gr-assets.com/images/S/compressed.ph...</td>\n",
       "      <td>6</td>\n",
       "      <td>the diari of a young girl annefrank discov in ...</td>\n",
       "    </tr>\n",
       "    <tr>\n",
       "      <th>4</th>\n",
       "      <td>170448</td>\n",
       "      <td>Animal Farm</td>\n",
       "      <td>3.97</td>\n",
       "      <td>Classics</td>\n",
       "      <td>https://www.goodreads.com/book/show/170448.Ani...</td>\n",
       "      <td>https://i.gr-assets.com/images/S/compressed.ph...</td>\n",
       "      <td>0</td>\n",
       "      <td>anim farm georgeorwel librarian' note: there i...</td>\n",
       "    </tr>\n",
       "  </tbody>\n",
       "</table>\n",
       "</div>"
      ],
      "text/plain": [
       "   book_id                                  title  average_rating       genre  \\\n",
       "0     2657                  To Kill a Mockingbird            4.27    Classics   \n",
       "1        3  Harry Potter and the Sorcerer's Stone            4.47     Fantasy   \n",
       "2     1885                    Pride and Prejudice            4.27    Classics   \n",
       "3    48855              The Diary of a Young Girl            4.17  Nonfiction   \n",
       "4   170448                            Animal Farm            3.97    Classics   \n",
       "\n",
       "                                                 url  \\\n",
       "0  https://www.goodreads.com/book/show/2657.To_Ki...   \n",
       "1  https://www.goodreads.com/book/show/3.Harry_Po...   \n",
       "2  https://www.goodreads.com/book/show/1885.Pride...   \n",
       "3  https://www.goodreads.com/book/show/48855.The_...   \n",
       "4  https://www.goodreads.com/book/show/170448.Ani...   \n",
       "\n",
       "                                           image_url  genre_le  \\\n",
       "0  https://i.gr-assets.com/images/S/compressed.ph...         0   \n",
       "1  https://i.gr-assets.com/images/S/compressed.ph...         1   \n",
       "2  https://i.gr-assets.com/images/S/compressed.ph...         0   \n",
       "3  https://i.gr-assets.com/images/S/compressed.ph...         6   \n",
       "4  https://i.gr-assets.com/images/S/compressed.ph...         0   \n",
       "\n",
       "                                                tags  \n",
       "0  to kill a mockingbird harperle the unforgett n...  \n",
       "1  harri potter and the sorcerer' stone j.k.rowl ...  \n",
       "2  pride and prejudic janeausten altern cover edi...  \n",
       "3  the diari of a young girl annefrank discov in ...  \n",
       "4  anim farm georgeorwel librarian' note: there i...  "
      ]
     },
     "execution_count": 134,
     "metadata": {},
     "output_type": "execute_result"
    }
   ],
   "source": [
    "df['tags'] = df['tags'].apply(stemming)\n",
    "df.head()"
   ]
  },
  {
   "cell_type": "code",
   "execution_count": 135,
   "id": "0bc9cdf8",
   "metadata": {
    "ExecuteTime": {
     "end_time": "2022-01-06T07:54:28.403083Z",
     "start_time": "2022-01-06T07:54:28.385718Z"
    }
   },
   "outputs": [],
   "source": [
    "#removing stopwords\n",
    "from nltk.corpus import stopwords\n",
    "stop = stopwords.words('english')\n",
    "\n",
    "def rem_stopwords(text):\n",
    "    y = []\n",
    "    for i in text.split():\n",
    "        if i not in stop:\n",
    "            y.append(i)\n",
    "    return ' '.join(y)"
   ]
  },
  {
   "cell_type": "code",
   "execution_count": 136,
   "id": "5c6de129",
   "metadata": {
    "ExecuteTime": {
     "end_time": "2022-01-06T07:54:30.703363Z",
     "start_time": "2022-01-06T07:54:28.406202Z"
    }
   },
   "outputs": [
    {
     "name": "stderr",
     "output_type": "stream",
     "text": [
      "<ipython-input-136-af1c9ac61f1e>:1: SettingWithCopyWarning: \n",
      "A value is trying to be set on a copy of a slice from a DataFrame.\n",
      "Try using .loc[row_indexer,col_indexer] = value instead\n",
      "\n",
      "See the caveats in the documentation: https://pandas.pydata.org/pandas-docs/stable/user_guide/indexing.html#returning-a-view-versus-a-copy\n",
      "  df['tags'] = df['tags'].apply(rem_stopwords)\n"
     ]
    }
   ],
   "source": [
    "df['tags'] = df['tags'].apply(rem_stopwords)"
   ]
  },
  {
   "cell_type": "code",
   "execution_count": 137,
   "id": "04cef1bc",
   "metadata": {
    "ExecuteTime": {
     "end_time": "2022-01-06T07:54:30.746631Z",
     "start_time": "2022-01-06T07:54:30.707230Z"
    }
   },
   "outputs": [
    {
     "data": {
      "text/html": [
       "<div>\n",
       "<style scoped>\n",
       "    .dataframe tbody tr th:only-of-type {\n",
       "        vertical-align: middle;\n",
       "    }\n",
       "\n",
       "    .dataframe tbody tr th {\n",
       "        vertical-align: top;\n",
       "    }\n",
       "\n",
       "    .dataframe thead th {\n",
       "        text-align: right;\n",
       "    }\n",
       "</style>\n",
       "<table border=\"1\" class=\"dataframe\">\n",
       "  <thead>\n",
       "    <tr style=\"text-align: right;\">\n",
       "      <th></th>\n",
       "      <th>book_id</th>\n",
       "      <th>title</th>\n",
       "      <th>average_rating</th>\n",
       "      <th>genre</th>\n",
       "      <th>url</th>\n",
       "      <th>image_url</th>\n",
       "      <th>genre_le</th>\n",
       "      <th>tags</th>\n",
       "    </tr>\n",
       "  </thead>\n",
       "  <tbody>\n",
       "    <tr>\n",
       "      <th>0</th>\n",
       "      <td>2657</td>\n",
       "      <td>To Kill a Mockingbird</td>\n",
       "      <td>4.27</td>\n",
       "      <td>Classics</td>\n",
       "      <td>https://www.goodreads.com/book/show/2657.To_Ki...</td>\n",
       "      <td>https://i.gr-assets.com/images/S/compressed.ph...</td>\n",
       "      <td>0</td>\n",
       "      <td>kill mockingbird harperle unforgett novel chil...</td>\n",
       "    </tr>\n",
       "    <tr>\n",
       "      <th>1</th>\n",
       "      <td>3</td>\n",
       "      <td>Harry Potter and the Sorcerer's Stone</td>\n",
       "      <td>4.47</td>\n",
       "      <td>Fantasy</td>\n",
       "      <td>https://www.goodreads.com/book/show/3.Harry_Po...</td>\n",
       "      <td>https://i.gr-assets.com/images/S/compressed.ph...</td>\n",
       "      <td>1</td>\n",
       "      <td>harri potter sorcerer' stone j.k.rowl harri po...</td>\n",
       "    </tr>\n",
       "    <tr>\n",
       "      <th>2</th>\n",
       "      <td>1885</td>\n",
       "      <td>Pride and Prejudice</td>\n",
       "      <td>4.27</td>\n",
       "      <td>Classics</td>\n",
       "      <td>https://www.goodreads.com/book/show/1885.Pride...</td>\n",
       "      <td>https://i.gr-assets.com/images/S/compressed.ph...</td>\n",
       "      <td>0</td>\n",
       "      <td>pride prejudic janeausten altern cover edit is...</td>\n",
       "    </tr>\n",
       "    <tr>\n",
       "      <th>3</th>\n",
       "      <td>48855</td>\n",
       "      <td>The Diary of a Young Girl</td>\n",
       "      <td>4.17</td>\n",
       "      <td>Nonfiction</td>\n",
       "      <td>https://www.goodreads.com/book/show/48855.The_...</td>\n",
       "      <td>https://i.gr-assets.com/images/S/compressed.ph...</td>\n",
       "      <td>6</td>\n",
       "      <td>diari young girl annefrank discov attic spent ...</td>\n",
       "    </tr>\n",
       "    <tr>\n",
       "      <th>4</th>\n",
       "      <td>170448</td>\n",
       "      <td>Animal Farm</td>\n",
       "      <td>3.97</td>\n",
       "      <td>Classics</td>\n",
       "      <td>https://www.goodreads.com/book/show/170448.Ani...</td>\n",
       "      <td>https://i.gr-assets.com/images/S/compressed.ph...</td>\n",
       "      <td>0</td>\n",
       "      <td>anim farm georgeorwel librarian' note: altern ...</td>\n",
       "    </tr>\n",
       "    <tr>\n",
       "      <th>...</th>\n",
       "      <td>...</td>\n",
       "      <td>...</td>\n",
       "      <td>...</td>\n",
       "      <td>...</td>\n",
       "      <td>...</td>\n",
       "      <td>...</td>\n",
       "      <td>...</td>\n",
       "      <td>...</td>\n",
       "    </tr>\n",
       "    <tr>\n",
       "      <th>4299</th>\n",
       "      <td>30359743</td>\n",
       "      <td>Noble Beginnings</td>\n",
       "      <td>3.81</td>\n",
       "      <td>Thriller</td>\n",
       "      <td>https://www.goodreads.com/book/show/30359743-n...</td>\n",
       "      <td>https://i.gr-assets.com/images/S/compressed.ph...</td>\n",
       "      <td>9</td>\n",
       "      <td>nobl begin l.t.ryan ace asin: b009k8rhnqin mar...</td>\n",
       "    </tr>\n",
       "    <tr>\n",
       "      <th>4300</th>\n",
       "      <td>9413044</td>\n",
       "      <td>Everneath</td>\n",
       "      <td>3.74</td>\n",
       "      <td>Young Adult</td>\n",
       "      <td>https://www.goodreads.com/book/show/9413044-ev...</td>\n",
       "      <td>https://i.gr-assets.com/images/S/compressed.ph...</td>\n",
       "      <td>10</td>\n",
       "      <td>everneath brodiashton last spring, nikki becke...</td>\n",
       "    </tr>\n",
       "    <tr>\n",
       "      <th>4301</th>\n",
       "      <td>25526965</td>\n",
       "      <td>End of Watch</td>\n",
       "      <td>4.09</td>\n",
       "      <td>Horror</td>\n",
       "      <td>https://www.goodreads.com/book/show/25526965-e...</td>\n",
       "      <td>https://i.gr-assets.com/images/S/compressed.ph...</td>\n",
       "      <td>4</td>\n",
       "      <td>end watch stephenk spectacular final new york ...</td>\n",
       "    </tr>\n",
       "    <tr>\n",
       "      <th>4302</th>\n",
       "      <td>10846336</td>\n",
       "      <td>Salvage the Bones</td>\n",
       "      <td>3.93</td>\n",
       "      <td>Fiction</td>\n",
       "      <td>https://www.goodreads.com/book/show/10846336-s...</td>\n",
       "      <td>https://i.gr-assets.com/images/S/compressed.ph...</td>\n",
       "      <td>2</td>\n",
       "      <td>salvag bone jesmynward winner 2011 nation book...</td>\n",
       "    </tr>\n",
       "    <tr>\n",
       "      <th>4303</th>\n",
       "      <td>15803037</td>\n",
       "      <td>Red Sparrow</td>\n",
       "      <td>3.95</td>\n",
       "      <td>Fiction</td>\n",
       "      <td>https://www.goodreads.com/book/show/15803037-r...</td>\n",
       "      <td>https://i.gr-assets.com/images/S/compressed.ph...</td>\n",
       "      <td>2</td>\n",
       "      <td>red sparrow jasonmatthew grand spy-tal tradit ...</td>\n",
       "    </tr>\n",
       "  </tbody>\n",
       "</table>\n",
       "<p>2669 rows × 8 columns</p>\n",
       "</div>"
      ],
      "text/plain": [
       "       book_id                                  title  average_rating  \\\n",
       "0         2657                  To Kill a Mockingbird            4.27   \n",
       "1            3  Harry Potter and the Sorcerer's Stone            4.47   \n",
       "2         1885                    Pride and Prejudice            4.27   \n",
       "3        48855              The Diary of a Young Girl            4.17   \n",
       "4       170448                            Animal Farm            3.97   \n",
       "...        ...                                    ...             ...   \n",
       "4299  30359743                       Noble Beginnings            3.81   \n",
       "4300   9413044                              Everneath            3.74   \n",
       "4301  25526965                           End of Watch            4.09   \n",
       "4302  10846336                      Salvage the Bones            3.93   \n",
       "4303  15803037                            Red Sparrow            3.95   \n",
       "\n",
       "            genre                                                url  \\\n",
       "0        Classics  https://www.goodreads.com/book/show/2657.To_Ki...   \n",
       "1         Fantasy  https://www.goodreads.com/book/show/3.Harry_Po...   \n",
       "2        Classics  https://www.goodreads.com/book/show/1885.Pride...   \n",
       "3      Nonfiction  https://www.goodreads.com/book/show/48855.The_...   \n",
       "4        Classics  https://www.goodreads.com/book/show/170448.Ani...   \n",
       "...           ...                                                ...   \n",
       "4299     Thriller  https://www.goodreads.com/book/show/30359743-n...   \n",
       "4300  Young Adult  https://www.goodreads.com/book/show/9413044-ev...   \n",
       "4301       Horror  https://www.goodreads.com/book/show/25526965-e...   \n",
       "4302      Fiction  https://www.goodreads.com/book/show/10846336-s...   \n",
       "4303      Fiction  https://www.goodreads.com/book/show/15803037-r...   \n",
       "\n",
       "                                              image_url  genre_le  \\\n",
       "0     https://i.gr-assets.com/images/S/compressed.ph...         0   \n",
       "1     https://i.gr-assets.com/images/S/compressed.ph...         1   \n",
       "2     https://i.gr-assets.com/images/S/compressed.ph...         0   \n",
       "3     https://i.gr-assets.com/images/S/compressed.ph...         6   \n",
       "4     https://i.gr-assets.com/images/S/compressed.ph...         0   \n",
       "...                                                 ...       ...   \n",
       "4299  https://i.gr-assets.com/images/S/compressed.ph...         9   \n",
       "4300  https://i.gr-assets.com/images/S/compressed.ph...        10   \n",
       "4301  https://i.gr-assets.com/images/S/compressed.ph...         4   \n",
       "4302  https://i.gr-assets.com/images/S/compressed.ph...         2   \n",
       "4303  https://i.gr-assets.com/images/S/compressed.ph...         2   \n",
       "\n",
       "                                                   tags  \n",
       "0     kill mockingbird harperle unforgett novel chil...  \n",
       "1     harri potter sorcerer' stone j.k.rowl harri po...  \n",
       "2     pride prejudic janeausten altern cover edit is...  \n",
       "3     diari young girl annefrank discov attic spent ...  \n",
       "4     anim farm georgeorwel librarian' note: altern ...  \n",
       "...                                                 ...  \n",
       "4299  nobl begin l.t.ryan ace asin: b009k8rhnqin mar...  \n",
       "4300  everneath brodiashton last spring, nikki becke...  \n",
       "4301  end watch stephenk spectacular final new york ...  \n",
       "4302  salvag bone jesmynward winner 2011 nation book...  \n",
       "4303  red sparrow jasonmatthew grand spy-tal tradit ...  \n",
       "\n",
       "[2669 rows x 8 columns]"
      ]
     },
     "execution_count": 137,
     "metadata": {},
     "output_type": "execute_result"
    }
   ],
   "source": [
    "df"
   ]
  },
  {
   "cell_type": "code",
   "execution_count": 138,
   "id": "17415644",
   "metadata": {
    "ExecuteTime": {
     "end_time": "2022-01-06T07:54:30.781992Z",
     "start_time": "2022-01-06T07:54:30.751306Z"
    }
   },
   "outputs": [
    {
     "data": {
      "text/html": [
       "<div>\n",
       "<style scoped>\n",
       "    .dataframe tbody tr th:only-of-type {\n",
       "        vertical-align: middle;\n",
       "    }\n",
       "\n",
       "    .dataframe tbody tr th {\n",
       "        vertical-align: top;\n",
       "    }\n",
       "\n",
       "    .dataframe thead th {\n",
       "        text-align: right;\n",
       "    }\n",
       "</style>\n",
       "<table border=\"1\" class=\"dataframe\">\n",
       "  <thead>\n",
       "    <tr style=\"text-align: right;\">\n",
       "      <th></th>\n",
       "      <th>tags</th>\n",
       "    </tr>\n",
       "  </thead>\n",
       "  <tbody>\n",
       "    <tr>\n",
       "      <th>0</th>\n",
       "      <td>kill mockingbird harperle unforgett novel chil...</td>\n",
       "    </tr>\n",
       "    <tr>\n",
       "      <th>1</th>\n",
       "      <td>harri potter sorcerer' stone j.k.rowl harri po...</td>\n",
       "    </tr>\n",
       "    <tr>\n",
       "      <th>2</th>\n",
       "      <td>pride prejudic janeausten altern cover edit is...</td>\n",
       "    </tr>\n",
       "    <tr>\n",
       "      <th>3</th>\n",
       "      <td>diari young girl annefrank discov attic spent ...</td>\n",
       "    </tr>\n",
       "    <tr>\n",
       "      <th>4</th>\n",
       "      <td>anim farm georgeorwel librarian' note: altern ...</td>\n",
       "    </tr>\n",
       "    <tr>\n",
       "      <th>...</th>\n",
       "      <td>...</td>\n",
       "    </tr>\n",
       "    <tr>\n",
       "      <th>4299</th>\n",
       "      <td>nobl begin l.t.ryan ace asin: b009k8rhnqin mar...</td>\n",
       "    </tr>\n",
       "    <tr>\n",
       "      <th>4300</th>\n",
       "      <td>everneath brodiashton last spring, nikki becke...</td>\n",
       "    </tr>\n",
       "    <tr>\n",
       "      <th>4301</th>\n",
       "      <td>end watch stephenk spectacular final new york ...</td>\n",
       "    </tr>\n",
       "    <tr>\n",
       "      <th>4302</th>\n",
       "      <td>salvag bone jesmynward winner 2011 nation book...</td>\n",
       "    </tr>\n",
       "    <tr>\n",
       "      <th>4303</th>\n",
       "      <td>red sparrow jasonmatthew grand spy-tal tradit ...</td>\n",
       "    </tr>\n",
       "  </tbody>\n",
       "</table>\n",
       "<p>2669 rows × 1 columns</p>\n",
       "</div>"
      ],
      "text/plain": [
       "                                                   tags\n",
       "0     kill mockingbird harperle unforgett novel chil...\n",
       "1     harri potter sorcerer' stone j.k.rowl harri po...\n",
       "2     pride prejudic janeausten altern cover edit is...\n",
       "3     diari young girl annefrank discov attic spent ...\n",
       "4     anim farm georgeorwel librarian' note: altern ...\n",
       "...                                                 ...\n",
       "4299  nobl begin l.t.ryan ace asin: b009k8rhnqin mar...\n",
       "4300  everneath brodiashton last spring, nikki becke...\n",
       "4301  end watch stephenk spectacular final new york ...\n",
       "4302  salvag bone jesmynward winner 2011 nation book...\n",
       "4303  red sparrow jasonmatthew grand spy-tal tradit ...\n",
       "\n",
       "[2669 rows x 1 columns]"
      ]
     },
     "execution_count": 138,
     "metadata": {},
     "output_type": "execute_result"
    }
   ],
   "source": [
    "# assign the independent features (text) to X variable and the target to y\n",
    "X = pd.DataFrame(df['tags'])\n",
    "X"
   ]
  },
  {
   "cell_type": "code",
   "execution_count": 139,
   "id": "3458332c",
   "metadata": {
    "ExecuteTime": {
     "end_time": "2022-01-06T07:54:30.797531Z",
     "start_time": "2022-01-06T07:54:30.785418Z"
    }
   },
   "outputs": [
    {
     "data": {
      "text/plain": [
       "0        0\n",
       "1        1\n",
       "2        0\n",
       "3        6\n",
       "4        0\n",
       "        ..\n",
       "4299     9\n",
       "4300    10\n",
       "4301     4\n",
       "4302     2\n",
       "4303     2\n",
       "Name: genre_le, Length: 2669, dtype: int32"
      ]
     },
     "execution_count": 139,
     "metadata": {},
     "output_type": "execute_result"
    }
   ],
   "source": [
    "y = df['genre_le']\n",
    "y"
   ]
  },
  {
   "cell_type": "code",
   "execution_count": 140,
   "id": "3f106f46",
   "metadata": {
    "ExecuteTime": {
     "end_time": "2022-01-06T07:54:30.820253Z",
     "start_time": "2022-01-06T07:54:30.801737Z"
    }
   },
   "outputs": [
    {
     "data": {
      "text/plain": [
       "6     497\n",
       "1     417\n",
       "2     367\n",
       "0     337\n",
       "10    230\n",
       "3     203\n",
       "5     157\n",
       "8     126\n",
       "7     122\n",
       "4     107\n",
       "9     106\n",
       "Name: genre_le, dtype: int64"
      ]
     },
     "execution_count": 140,
     "metadata": {},
     "output_type": "execute_result"
    }
   ],
   "source": [
    "y.value_counts()"
   ]
  },
  {
   "cell_type": "markdown",
   "id": "907b362c",
   "metadata": {},
   "source": [
    "# Balancing The Data"
   ]
  },
  {
   "cell_type": "code",
   "execution_count": 141,
   "id": "0813d325",
   "metadata": {
    "ExecuteTime": {
     "end_time": "2022-01-06T07:54:30.834547Z",
     "start_time": "2022-01-06T07:54:30.824321Z"
    }
   },
   "outputs": [],
   "source": [
    "from imblearn.over_sampling import RandomOverSampler\n",
    "from imblearn.under_sampling import RandomUnderSampler"
   ]
  },
  {
   "cell_type": "code",
   "execution_count": 142,
   "id": "a296bb65",
   "metadata": {
    "ExecuteTime": {
     "end_time": "2022-01-06T07:54:30.853116Z",
     "start_time": "2022-01-06T07:54:30.835546Z"
    }
   },
   "outputs": [],
   "source": [
    "#performing oversampling on most genres.\n",
    "strategy = {0:500, 1:734, 2:500, 3:500, 4:500, 5:500,6:500,7:678,8:500,9:500,10:500}\n",
    "os = RandomOverSampler(sampling_strategy = strategy)"
   ]
  },
  {
   "cell_type": "code",
   "execution_count": 143,
   "id": "f5705755",
   "metadata": {
    "ExecuteTime": {
     "end_time": "2022-01-06T07:54:30.882747Z",
     "start_time": "2022-01-06T07:54:30.856756Z"
    }
   },
   "outputs": [
    {
     "name": "stderr",
     "output_type": "stream",
     "text": [
      "C:\\Users\\Lenovo\\anaconda3\\lib\\site-packages\\imblearn\\utils\\_validation.py:299: UserWarning: After over-sampling, the number of samples (500) in class 0 will be larger than the number of samples in the majority class (class #6 -> 497)\n",
      "  warnings.warn(\n",
      "C:\\Users\\Lenovo\\anaconda3\\lib\\site-packages\\imblearn\\utils\\_validation.py:299: UserWarning: After over-sampling, the number of samples (734) in class 1 will be larger than the number of samples in the majority class (class #6 -> 497)\n",
      "  warnings.warn(\n",
      "C:\\Users\\Lenovo\\anaconda3\\lib\\site-packages\\imblearn\\utils\\_validation.py:299: UserWarning: After over-sampling, the number of samples (500) in class 2 will be larger than the number of samples in the majority class (class #6 -> 497)\n",
      "  warnings.warn(\n",
      "C:\\Users\\Lenovo\\anaconda3\\lib\\site-packages\\imblearn\\utils\\_validation.py:299: UserWarning: After over-sampling, the number of samples (500) in class 3 will be larger than the number of samples in the majority class (class #6 -> 497)\n",
      "  warnings.warn(\n",
      "C:\\Users\\Lenovo\\anaconda3\\lib\\site-packages\\imblearn\\utils\\_validation.py:299: UserWarning: After over-sampling, the number of samples (500) in class 4 will be larger than the number of samples in the majority class (class #6 -> 497)\n",
      "  warnings.warn(\n",
      "C:\\Users\\Lenovo\\anaconda3\\lib\\site-packages\\imblearn\\utils\\_validation.py:299: UserWarning: After over-sampling, the number of samples (500) in class 5 will be larger than the number of samples in the majority class (class #6 -> 497)\n",
      "  warnings.warn(\n",
      "C:\\Users\\Lenovo\\anaconda3\\lib\\site-packages\\imblearn\\utils\\_validation.py:299: UserWarning: After over-sampling, the number of samples (500) in class 6 will be larger than the number of samples in the majority class (class #6 -> 497)\n",
      "  warnings.warn(\n",
      "C:\\Users\\Lenovo\\anaconda3\\lib\\site-packages\\imblearn\\utils\\_validation.py:299: UserWarning: After over-sampling, the number of samples (678) in class 7 will be larger than the number of samples in the majority class (class #6 -> 497)\n",
      "  warnings.warn(\n",
      "C:\\Users\\Lenovo\\anaconda3\\lib\\site-packages\\imblearn\\utils\\_validation.py:299: UserWarning: After over-sampling, the number of samples (500) in class 8 will be larger than the number of samples in the majority class (class #6 -> 497)\n",
      "  warnings.warn(\n",
      "C:\\Users\\Lenovo\\anaconda3\\lib\\site-packages\\imblearn\\utils\\_validation.py:299: UserWarning: After over-sampling, the number of samples (500) in class 9 will be larger than the number of samples in the majority class (class #6 -> 497)\n",
      "  warnings.warn(\n",
      "C:\\Users\\Lenovo\\anaconda3\\lib\\site-packages\\imblearn\\utils\\_validation.py:299: UserWarning: After over-sampling, the number of samples (500) in class 10 will be larger than the number of samples in the majority class (class #6 -> 497)\n",
      "  warnings.warn(\n"
     ]
    }
   ],
   "source": [
    "X1, y1 = os.fit_resample(X,y)"
   ]
  },
  {
   "cell_type": "code",
   "execution_count": 144,
   "id": "888b08e7",
   "metadata": {
    "ExecuteTime": {
     "end_time": "2022-01-06T07:54:30.901402Z",
     "start_time": "2022-01-06T07:54:30.885698Z"
    }
   },
   "outputs": [
    {
     "name": "stdout",
     "output_type": "stream",
     "text": [
      "Counter({6: 497, 1: 417, 2: 367, 0: 337, 10: 230, 3: 203, 5: 157, 8: 126, 7: 122, 4: 107, 9: 106})\n"
     ]
    }
   ],
   "source": [
    "from collections import Counter\n",
    "print (Counter(y))"
   ]
  },
  {
   "cell_type": "code",
   "execution_count": 145,
   "id": "278352cb",
   "metadata": {
    "ExecuteTime": {
     "end_time": "2022-01-06T07:54:30.911187Z",
     "start_time": "2022-01-06T07:54:30.902823Z"
    }
   },
   "outputs": [
    {
     "name": "stdout",
     "output_type": "stream",
     "text": [
      "Counter({1: 734, 7: 678, 0: 500, 6: 500, 10: 500, 8: 500, 2: 500, 4: 500, 5: 500, 3: 500, 9: 500})\n"
     ]
    }
   ],
   "source": [
    "print(Counter(y1))"
   ]
  },
  {
   "cell_type": "code",
   "execution_count": 146,
   "id": "5da97a89",
   "metadata": {
    "ExecuteTime": {
     "end_time": "2022-01-06T07:54:30.925299Z",
     "start_time": "2022-01-06T07:54:30.912986Z"
    }
   },
   "outputs": [],
   "source": [
    "#performing undersampling on class 2\n",
    "strategy = {0:500, 1:500, 2:500, 3:500, 4:500, 5:500,6:500,7:500,8:500,9:500}\n",
    "us = RandomUnderSampler(sampling_strategy = strategy)"
   ]
  },
  {
   "cell_type": "code",
   "execution_count": 147,
   "id": "841a29da",
   "metadata": {
    "ExecuteTime": {
     "end_time": "2022-01-06T07:54:30.949116Z",
     "start_time": "2022-01-06T07:54:30.929172Z"
    }
   },
   "outputs": [],
   "source": [
    "X_new, y_new = us.fit_resample(X1,y1)"
   ]
  },
  {
   "cell_type": "code",
   "execution_count": 148,
   "id": "f1019be7",
   "metadata": {
    "ExecuteTime": {
     "end_time": "2022-01-06T07:54:30.972974Z",
     "start_time": "2022-01-06T07:54:30.952141Z"
    }
   },
   "outputs": [
    {
     "name": "stdout",
     "output_type": "stream",
     "text": [
      "Counter({0: 500, 1: 500, 2: 500, 3: 500, 4: 500, 5: 500, 6: 500, 7: 500, 8: 500, 9: 500, 10: 500})\n"
     ]
    }
   ],
   "source": [
    "print(Counter(y_new))"
   ]
  },
  {
   "cell_type": "code",
   "execution_count": 149,
   "id": "ded79445",
   "metadata": {
    "ExecuteTime": {
     "end_time": "2022-01-06T07:54:31.320374Z",
     "start_time": "2022-01-06T07:54:30.974987Z"
    }
   },
   "outputs": [
    {
     "data": {
      "text/plain": [
       "<AxesSubplot:>"
      ]
     },
     "execution_count": 149,
     "metadata": {},
     "output_type": "execute_result"
    },
    {
     "data": {
      "image/png": "[encoded data removed]",
      "text/plain": [
       "<Figure size 432x288 with 1 Axes>"
      ]
     },
     "metadata": {
      "needs_background": "light"
     },
     "output_type": "display_data"
    }
   ],
   "source": [
    "y_new.value_counts().plot(x='y_new',y = 'count',kind = 'bar')"
   ]
  },
  {
   "cell_type": "code",
   "execution_count": 150,
   "id": "b794983f",
   "metadata": {
    "ExecuteTime": {
     "end_time": "2022-01-06T07:54:31.339604Z",
     "start_time": "2022-01-06T07:54:31.323984Z"
    }
   },
   "outputs": [
    {
     "data": {
      "text/plain": [
       "(5500,)"
      ]
     },
     "execution_count": 150,
     "metadata": {},
     "output_type": "execute_result"
    }
   ],
   "source": [
    "y_new.shape"
   ]
  },
  {
   "cell_type": "markdown",
   "id": "7d90b6a1",
   "metadata": {},
   "source": [
    "# Split the dataset into Training and Testing Datasets"
   ]
  },
  {
   "cell_type": "code",
   "execution_count": 151,
   "id": "9b2875ac",
   "metadata": {
    "ExecuteTime": {
     "end_time": "2022-01-06T07:54:31.362390Z",
     "start_time": "2022-01-06T07:54:31.341367Z"
    }
   },
   "outputs": [
    {
     "name": "stdout",
     "output_type": "stream",
     "text": [
      "Shape of training data: (4400, 1)\n",
      "Shape of testing data: (1100, 1)\n"
     ]
    }
   ],
   "source": [
    "#split data into training 80% and test 20%\n",
    "from sklearn.model_selection import train_test_split\n",
    "X_train, X_test, y_train, y_test = train_test_split(X_new, y_new, test_size=0.20)\n",
    "\n",
    "print('Shape of training data:',(X_train.shape))\n",
    "print('Shape of testing data:',(X_test.shape))"
   ]
  },
  {
   "cell_type": "code",
   "execution_count": 152,
   "id": "7b38bf91",
   "metadata": {
    "ExecuteTime": {
     "end_time": "2022-01-06T07:54:31.378421Z",
     "start_time": "2022-01-06T07:54:31.365796Z"
    }
   },
   "outputs": [
    {
     "data": {
      "text/html": [
       "<div>\n",
       "<style scoped>\n",
       "    .dataframe tbody tr th:only-of-type {\n",
       "        vertical-align: middle;\n",
       "    }\n",
       "\n",
       "    .dataframe tbody tr th {\n",
       "        vertical-align: top;\n",
       "    }\n",
       "\n",
       "    .dataframe thead th {\n",
       "        text-align: right;\n",
       "    }\n",
       "</style>\n",
       "<table border=\"1\" class=\"dataframe\">\n",
       "  <thead>\n",
       "    <tr style=\"text-align: right;\">\n",
       "      <th></th>\n",
       "      <th>tags</th>\n",
       "    </tr>\n",
       "  </thead>\n",
       "  <tbody>\n",
       "    <tr>\n",
       "      <th>539</th>\n",
       "      <td>emperor' soul brandonsanderson also avail arca...</td>\n",
       "    </tr>\n",
       "    <tr>\n",
       "      <th>3923</th>\n",
       "      <td>best nicholasspark spring 1984, high school st...</td>\n",
       "    </tr>\n",
       "    <tr>\n",
       "      <th>1230</th>\n",
       "      <td>patriot game tomclanc tom clancy' patriot game...</td>\n",
       "    </tr>\n",
       "    <tr>\n",
       "      <th>4124</th>\n",
       "      <td>futurolog congress: memoir ijon tichi stanisła...</td>\n",
       "    </tr>\n",
       "    <tr>\n",
       "      <th>4350</th>\n",
       "      <td>r.u.r. karelčapek r.u.r.--written 1920--garner...</td>\n",
       "    </tr>\n",
       "  </tbody>\n",
       "</table>\n",
       "</div>"
      ],
      "text/plain": [
       "                                                   tags\n",
       "539   emperor' soul brandonsanderson also avail arca...\n",
       "3923  best nicholasspark spring 1984, high school st...\n",
       "1230  patriot game tomclanc tom clancy' patriot game...\n",
       "4124  futurolog congress: memoir ijon tichi stanisła...\n",
       "4350  r.u.r. karelčapek r.u.r.--written 1920--garner..."
      ]
     },
     "execution_count": 152,
     "metadata": {},
     "output_type": "execute_result"
    }
   ],
   "source": [
    "X_train.head()"
   ]
  },
  {
   "cell_type": "code",
   "execution_count": 153,
   "id": "9d79134f",
   "metadata": {
    "ExecuteTime": {
     "end_time": "2022-01-06T07:54:31.395776Z",
     "start_time": "2022-01-06T07:54:31.379926Z"
    }
   },
   "outputs": [
    {
     "data": {
      "text/plain": [
       "539     emperor' soul brandonsanderson also avail arca...\n",
       "3923    best nicholasspark spring 1984, high school st...\n",
       "1230    patriot game tomclanc tom clancy' patriot game...\n",
       "4124    futurolog congress: memoir ijon tichi stanisła...\n",
       "4350    r.u.r. karelčapek r.u.r.--written 1920--garner...\n",
       "Name: tags, dtype: object"
      ]
     },
     "execution_count": 153,
     "metadata": {},
     "output_type": "execute_result"
    }
   ],
   "source": [
    "x_train = X_train.iloc[:,0]\n",
    "x_train.head()"
   ]
  },
  {
   "cell_type": "markdown",
   "id": "eafdda00",
   "metadata": {},
   "source": [
    "# CountVectorizer - Feature Extraction"
   ]
  },
  {
   "cell_type": "code",
   "execution_count": 154,
   "id": "cdbe6948",
   "metadata": {
    "ExecuteTime": {
     "end_time": "2022-01-06T07:54:31.414720Z",
     "start_time": "2022-01-06T07:54:31.395776Z"
    }
   },
   "outputs": [],
   "source": [
    "from sklearn.feature_extraction.text import CountVectorizer\n",
    "cv = CountVectorizer(max_features = 10000,stop_words = 'english')"
   ]
  },
  {
   "cell_type": "code",
   "execution_count": 155,
   "id": "6c07cd12",
   "metadata": {
    "ExecuteTime": {
     "end_time": "2022-01-06T07:54:32.847522Z",
     "start_time": "2022-01-06T07:54:31.418617Z"
    }
   },
   "outputs": [
    {
     "data": {
      "text/plain": [
       "array([[0, 0, 0, ..., 0, 0, 0],\n",
       "       [0, 0, 0, ..., 0, 0, 0],\n",
       "       [0, 0, 0, ..., 0, 0, 0],\n",
       "       ...,\n",
       "       [0, 0, 0, ..., 0, 0, 0],\n",
       "       [0, 0, 0, ..., 0, 0, 0],\n",
       "       [0, 0, 0, ..., 0, 0, 0]], dtype=int64)"
      ]
     },
     "execution_count": 155,
     "metadata": {},
     "output_type": "execute_result"
    }
   ],
   "source": [
    "x = cv.fit_transform(x_train).toarray()\n",
    "x"
   ]
  },
  {
   "cell_type": "code",
   "execution_count": 156,
   "id": "ec313f71",
   "metadata": {
    "ExecuteTime": {
     "end_time": "2022-01-06T07:54:32.866684Z",
     "start_time": "2022-01-06T07:54:32.851477Z"
    }
   },
   "outputs": [
    {
     "data": {
      "text/plain": [
       "1267    beauti chuckpalahniuk \"a billion husband repla...\n",
       "2920    thin air lisagray investig miss persons—now on...\n",
       "2110    thinner richardbachman billi halleck, good hus...\n",
       "2711    hold tight harlancoben tia mike bay never imag...\n",
       "3106    stiff: curiou live human cadav maryroach stiff...\n",
       "Name: tags, dtype: object"
      ]
     },
     "execution_count": 156,
     "metadata": {},
     "output_type": "execute_result"
    }
   ],
   "source": [
    "x_test = X_test.iloc[:,0]\n",
    "x_test.head()"
   ]
  },
  {
   "cell_type": "code",
   "execution_count": 157,
   "id": "684e9125",
   "metadata": {
    "ExecuteTime": {
     "end_time": "2022-01-06T07:54:33.206380Z",
     "start_time": "2022-01-06T07:54:32.868855Z"
    }
   },
   "outputs": [
    {
     "data": {
      "text/plain": [
       "(1100, 10000)"
      ]
     },
     "execution_count": 157,
     "metadata": {},
     "output_type": "execute_result"
    }
   ],
   "source": [
    "test_x = cv.transform(x_test).toarray()\n",
    "test_x.shape"
   ]
  },
  {
   "cell_type": "markdown",
   "id": "b064e433",
   "metadata": {},
   "source": [
    "# Model Building"
   ]
  },
  {
   "cell_type": "markdown",
   "id": "90cdc8a7",
   "metadata": {},
   "source": [
    "# Multinomial Naive Bayes"
   ]
  },
  {
   "cell_type": "code",
   "execution_count": 158,
   "id": "77d30639",
   "metadata": {
    "ExecuteTime": {
     "end_time": "2022-01-06T07:54:33.221918Z",
     "start_time": "2022-01-06T07:54:33.207385Z"
    }
   },
   "outputs": [],
   "source": [
    "from sklearn.metrics import accuracy_score\n",
    "from sklearn.naive_bayes import MultinomialNB\n",
    "from sklearn.metrics import classification_report\n",
    "from sklearn.metrics import confusion_matrix"
   ]
  },
  {
   "cell_type": "code",
   "execution_count": 159,
   "id": "56ea30c7",
   "metadata": {
    "ExecuteTime": {
     "end_time": "2022-01-06T07:54:44.441667Z",
     "start_time": "2022-01-06T07:54:33.225298Z"
    },
    "scrolled": true
   },
   "outputs": [
    {
     "name": "stdout",
     "output_type": "stream",
     "text": [
      "Accuracy for Training data: 0.98\n",
      "Other Metrics:\n",
      "              precision    recall  f1-score   support\n",
      "\n",
      "           0       0.98      0.94      0.96       395\n",
      "           1       0.97      0.98      0.97       421\n",
      "           2       0.96      0.97      0.97       403\n",
      "           3       0.97      0.98      0.98       396\n",
      "           4       1.00      0.99      1.00       400\n",
      "           5       0.99      1.00      0.99       401\n",
      "           6       0.99      0.96      0.98       387\n",
      "           7       1.00      0.99      0.99       409\n",
      "           8       0.99      0.99      0.99       395\n",
      "           9       0.98      1.00      0.99       408\n",
      "          10       0.98      0.97      0.98       385\n",
      "\n",
      "    accuracy                           0.98      4400\n",
      "   macro avg       0.98      0.98      0.98      4400\n",
      "weighted avg       0.98      0.98      0.98      4400\n",
      "\n",
      "[[373   3   8   3   0   1   0   2   1   3   1]\n",
      " [  2 412   0   2   0   0   1   0   0   1   3]\n",
      " [  3   2 392   2   0   1   1   0   0   2   0]\n",
      " [  1   2   3 389   0   0   0   0   0   1   0]\n",
      " [  0   0   0   0 397   0   0   0   0   0   3]\n",
      " [  0   0   0   0   0 401   0   0   0   0   0]\n",
      " [  2   0   4   4   0   1 373   0   3   0   0]\n",
      " [  0   0   0   0   0   0   1 406   0   0   2]\n",
      " [  1   2   0   0   0   0   0   0 392   0   0]\n",
      " [  0   0   0   0   0   1   0   0   0 407   0]\n",
      " [  0   5   1   1   0   1   1   0   0   1 375]]\n",
      "Accuracy for Testing data: 0.88\n",
      "Other Metrics:\n",
      "              precision    recall  f1-score   support\n",
      "\n",
      "           0       0.82      0.76      0.79       105\n",
      "           1       0.76      0.78      0.77        79\n",
      "           2       0.69      0.77      0.73        97\n",
      "           3       0.92      0.94      0.93       104\n",
      "           4       0.97      0.94      0.95       100\n",
      "           5       0.94      0.95      0.94        99\n",
      "           6       0.90      0.81      0.85       113\n",
      "           7       0.94      0.97      0.95        91\n",
      "           8       0.96      0.96      0.96       105\n",
      "           9       0.95      0.99      0.97        92\n",
      "          10       0.86      0.85      0.86       115\n",
      "\n",
      "    accuracy                           0.88      1100\n",
      "   macro avg       0.88      0.88      0.88      1100\n",
      "weighted avg       0.89      0.88      0.88      1100\n",
      "\n",
      "[[ 80   1  11   1   0   0   2   3   4   0   3]\n",
      " [  5  62   3   0   2   0   3   0   0   0   4]\n",
      " [  5   4  75   4   0   2   3   2   0   2   0]\n",
      " [  1   1   3  98   1   0   0   0   0   0   0]\n",
      " [  0   0   0   0  94   0   0   0   0   1   5]\n",
      " [  0   2   2   0   0  94   1   0   0   0   0]\n",
      " [  5   0  11   3   0   2  91   0   0   0   1]\n",
      " [  0   0   0   0   0   0   0  88   0   0   3]\n",
      " [  1   3   0   0   0   0   0   0 101   0   0]\n",
      " [  0   0   0   0   0   1   0   0   0  91   0]\n",
      " [  0   9   3   0   0   1   1   1   0   2  98]]\n"
     ]
    }
   ],
   "source": [
    "clf1 = MultinomialNB()\n",
    "clf1.fit(x,y_train)\n",
    "train_pred = clf1.predict(x)\n",
    "accuracy = accuracy_score(y_train,train_pred)\n",
    "\n",
    "print('Accuracy for Training data:', round(accuracy,2))\n",
    "\n",
    "print(\"Other Metrics:\")\n",
    "print(classification_report(y_train, train_pred)) \n",
    "print(confusion_matrix(y_train, train_pred))      \n",
    "\n",
    "test_pred = clf1.predict(test_x)\n",
    "accuracy = accuracy_score(y_test, test_pred)\n",
    "\n",
    "print(\"Accuracy for Testing data:\",  round(accuracy,2))\n",
    "\n",
    "print(\"Other Metrics:\")\n",
    "print(classification_report(y_test, test_pred))\n",
    "print(confusion_matrix(y_test, test_pred))"
   ]
  },
  {
   "cell_type": "markdown",
   "id": "48b07ce7",
   "metadata": {},
   "source": [
    "# Decision tree"
   ]
  },
  {
   "cell_type": "code",
   "execution_count": 160,
   "id": "510e2082",
   "metadata": {
    "ExecuteTime": {
     "end_time": "2022-01-06T07:54:44.515021Z",
     "start_time": "2022-01-06T07:54:44.459914Z"
    }
   },
   "outputs": [],
   "source": [
    "from sklearn.tree import  DecisionTreeClassifier\n",
    "from sklearn import tree\n",
    "from sklearn.ensemble import RandomForestClassifier"
   ]
  },
  {
   "cell_type": "code",
   "execution_count": 161,
   "id": "79e22f71",
   "metadata": {
    "ExecuteTime": {
     "end_time": "2022-01-06T07:55:06.754501Z",
     "start_time": "2022-01-06T07:54:44.518766Z"
    }
   },
   "outputs": [
    {
     "name": "stdout",
     "output_type": "stream",
     "text": [
      "Accuracy for Training data: 1.0\n",
      "Other Metrics:\n",
      "              precision    recall  f1-score   support\n",
      "\n",
      "           0       1.00      1.00      1.00       395\n",
      "           1       1.00      1.00      1.00       421\n",
      "           2       1.00      1.00      1.00       403\n",
      "           3       1.00      1.00      1.00       396\n",
      "           4       1.00      1.00      1.00       400\n",
      "           5       1.00      1.00      1.00       401\n",
      "           6       1.00      1.00      1.00       387\n",
      "           7       1.00      1.00      1.00       409\n",
      "           8       1.00      1.00      1.00       395\n",
      "           9       1.00      1.00      1.00       408\n",
      "          10       1.00      1.00      1.00       385\n",
      "\n",
      "    accuracy                           1.00      4400\n",
      "   macro avg       1.00      1.00      1.00      4400\n",
      "weighted avg       1.00      1.00      1.00      4400\n",
      "\n",
      "[[395   0   0   0   0   0   0   0   0   0   0]\n",
      " [  0 421   0   0   0   0   0   0   0   0   0]\n",
      " [  0   0 403   0   0   0   0   0   0   0   0]\n",
      " [  0   0   0 396   0   0   0   0   0   0   0]\n",
      " [  0   0   0   0 400   0   0   0   0   0   0]\n",
      " [  0   0   0   0   0 401   0   0   0   0   0]\n",
      " [  0   0   0   0   0   0 387   0   0   0   0]\n",
      " [  0   0   0   0   0   0   0 409   0   0   0]\n",
      " [  0   0   0   0   0   0   0   0 395   0   0]\n",
      " [  0   0   0   0   0   0   0   0   0 408   0]\n",
      " [  0   0   0   0   0   0   0   0   0   0 385]]\n",
      "Accuracy for Testing data: 0.81\n",
      "Other Metrics:\n",
      "              precision    recall  f1-score   support\n",
      "\n",
      "           0       0.71      0.70      0.71       105\n",
      "           1       0.60      0.61      0.60        79\n",
      "           2       0.63      0.53      0.57        97\n",
      "           3       0.78      0.89      0.83       104\n",
      "           4       0.93      0.99      0.96       100\n",
      "           5       0.89      0.95      0.92        99\n",
      "           6       0.72      0.42      0.53       113\n",
      "           7       0.89      0.98      0.93        91\n",
      "           8       0.94      0.97      0.96       105\n",
      "           9       0.93      1.00      0.96        92\n",
      "          10       0.77      0.86      0.81       115\n",
      "\n",
      "    accuracy                           0.81      1100\n",
      "   macro avg       0.80      0.81      0.80      1100\n",
      "weighted avg       0.80      0.81      0.80      1100\n",
      "\n",
      "[[ 74   4   4  12   0   1   4   0   1   0   5]\n",
      " [  6  48   7   1   0   2   3   2   1   3   6]\n",
      " [ 12   6  51   5   4   2   8   2   1   2   4]\n",
      " [  3   2   3  93   2   1   0   0   0   0   0]\n",
      " [  0   0   0   0  99   1   0   0   0   0   0]\n",
      " [  1   0   0   1   0  94   0   0   1   0   2]\n",
      " [  8  14  11   6   2   5  48   3   2   2  12]\n",
      " [  0   0   1   0   0   0   1  89   0   0   0]\n",
      " [  0   2   0   1   0   0   0   0 102   0   0]\n",
      " [  0   0   0   0   0   0   0   0   0  92   0]\n",
      " [  0   4   4   1   0   0   3   4   0   0  99]]\n"
     ]
    }
   ],
   "source": [
    "clf2 = DecisionTreeClassifier()\n",
    "clf2.fit(x,y_train)\n",
    "train_pred = clf2.predict(x)\n",
    "accuracy = accuracy_score(y_train,train_pred)\n",
    "\n",
    "print('Accuracy for Training data:', round(accuracy,2))\n",
    "\n",
    "print(\"Other Metrics:\")\n",
    "print(classification_report(y_train, train_pred)) \n",
    "print(confusion_matrix(y_train, train_pred))      \n",
    "\n",
    "test_pred = clf2.predict(test_x)\n",
    "accuracy = accuracy_score(y_test, test_pred)\n",
    "\n",
    "print(\"Accuracy for Testing data:\",  round(accuracy,2))\n",
    "\n",
    "print(\"Other Metrics:\")\n",
    "print(classification_report(y_test, test_pred))\n",
    "print(confusion_matrix(y_test, test_pred))"
   ]
  },
  {
   "cell_type": "markdown",
   "id": "cd8d2c4f",
   "metadata": {},
   "source": [
    "# RandomForest"
   ]
  },
  {
   "cell_type": "code",
   "execution_count": 162,
   "id": "950ff994",
   "metadata": {
    "ExecuteTime": {
     "end_time": "2022-01-06T07:55:09.659180Z",
     "start_time": "2022-01-06T07:55:06.759092Z"
    },
    "scrolled": true
   },
   "outputs": [
    {
     "name": "stdout",
     "output_type": "stream",
     "text": [
      "Accuracy for Training data: 0.49\n",
      "Other Metrics:\n",
      "              precision    recall  f1-score   support\n",
      "\n",
      "           0       0.74      0.27      0.39       395\n",
      "           1       0.24      0.81      0.37       421\n",
      "           2       0.48      0.20      0.28       403\n",
      "           3       0.63      0.34      0.44       396\n",
      "           4       0.91      0.56      0.69       400\n",
      "           5       0.56      0.78      0.65       401\n",
      "           6       0.86      0.23      0.36       387\n",
      "           7       0.43      0.76      0.55       409\n",
      "           8       0.60      0.76      0.67       395\n",
      "           9       0.73      0.58      0.64       408\n",
      "          10       1.00      0.06      0.11       385\n",
      "\n",
      "    accuracy                           0.49      4400\n",
      "   macro avg       0.65      0.48      0.47      4400\n",
      "weighted avg       0.65      0.49      0.47      4400\n",
      "\n",
      "[[106 176  20  23   0  11   2  36  15   6   0]\n",
      " [  3 339   0   3   9  10   0  22  33   2   0]\n",
      " [ 11  95  80  29   6  34   7  74  44  23   0]\n",
      " [  4 167  23 133   1  15   0  38  11   4   0]\n",
      " [  9  73  17   0 224  43   0  16   8  10   0]\n",
      " [  0  58   3   0   0 311   0  18   0  11   0]\n",
      " [ 11 126   7  19   3  24  89  57  46   5   0]\n",
      " [  0  62   5   3   0  17   0 310   6   6   0]\n",
      " [  0  62   0   0   0   8   4  12 299  10   0]\n",
      " [  0  67   2   0   0  67   0  29   7 236   0]\n",
      " [  0 179  11   1   2  18   1 112  27  11  23]]\n",
      "Accuracy for Testing data: 0.44\n",
      "Other Metrics:\n",
      "              precision    recall  f1-score   support\n",
      "\n",
      "           0       0.71      0.26      0.38       105\n",
      "           1       0.18      0.81      0.29        79\n",
      "           2       0.48      0.15      0.23        97\n",
      "           3       0.57      0.29      0.38       104\n",
      "           4       0.88      0.51      0.65       100\n",
      "           5       0.54      0.78      0.64        99\n",
      "           6       0.85      0.19      0.32       113\n",
      "           7       0.38      0.80      0.52        91\n",
      "           8       0.59      0.70      0.64       105\n",
      "           9       0.67      0.52      0.59        92\n",
      "          10       0.86      0.05      0.10       115\n",
      "\n",
      "    accuracy                           0.44      1100\n",
      "   macro avg       0.61      0.46      0.43      1100\n",
      "weighted avg       0.63      0.44      0.43      1100\n",
      "\n",
      "[[27 49  3  7  0  1  2 11  5  0  0]\n",
      " [ 4 64  0  0  2  1  0  4  4  0  0]\n",
      " [ 1 21 15 10  1 10  1 22  8  8  0]\n",
      " [ 1 47  4 30  0  3  0 12  6  1  0]\n",
      " [ 1 20  3  0 51 14  0  4  5  2  0]\n",
      " [ 0 13  0  0  0 77  0  3  0  6  0]\n",
      " [ 4 35  1  6  2  7 22 21 13  1  1]\n",
      " [ 0 12  3  0  0  2  0 73  1  0  0]\n",
      " [ 0 23  0  0  0  1  1  6 73  1  0]\n",
      " [ 0 15  0  0  0 20  0  9  0 48  0]\n",
      " [ 0 58  2  0  2  7  0 27  8  5  6]]\n"
     ]
    }
   ],
   "source": [
    "clf3= RandomForestClassifier(max_depth=2, random_state=0)\n",
    "clf3.fit(x, y_train)\n",
    "train_pred = clf3.predict(x)\n",
    "accuracy = accuracy_score(y_train,train_pred)\n",
    "\n",
    "print('Accuracy for Training data:', round(accuracy,2))\n",
    "\n",
    "print(\"Other Metrics:\")\n",
    "print(classification_report(y_train, train_pred)) \n",
    "print(confusion_matrix(y_train, train_pred))      \n",
    "\n",
    "test_pred = clf3.predict(test_x)\n",
    "accuracy = accuracy_score(y_test, test_pred)\n",
    "\n",
    "print(\"Accuracy for Testing data:\",  round(accuracy,2))\n",
    "\n",
    "print(\"Other Metrics:\")\n",
    "print(classification_report(y_test, test_pred))\n",
    "print(confusion_matrix(y_test, test_pred))"
   ]
  },
  {
   "cell_type": "markdown",
   "id": "a69974e8",
   "metadata": {},
   "source": [
    "# KNN"
   ]
  },
  {
   "cell_type": "code",
   "execution_count": 163,
   "id": "805e6a36",
   "metadata": {
    "ExecuteTime": {
     "end_time": "2022-01-06T07:55:09.681293Z",
     "start_time": "2022-01-06T07:55:09.664058Z"
    }
   },
   "outputs": [],
   "source": [
    "from sklearn.neighbors import KNeighborsClassifier"
   ]
  },
  {
   "cell_type": "code",
   "execution_count": 164,
   "id": "ad5df727",
   "metadata": {
    "ExecuteTime": {
     "end_time": "2022-01-06T07:55:20.551681Z",
     "start_time": "2022-01-06T07:55:09.684284Z"
    }
   },
   "outputs": [
    {
     "name": "stdout",
     "output_type": "stream",
     "text": [
      "Accuracy score for Training data: 0.71\n",
      "Other Metrics:\n",
      "              precision    recall  f1-score   support\n",
      "\n",
      "           0       0.49      0.70      0.58       395\n",
      "           1       0.84      0.52      0.64       421\n",
      "           2       1.00      0.35      0.52       403\n",
      "           3       0.61      0.77      0.68       396\n",
      "           4       0.86      0.96      0.91       400\n",
      "           5       0.92      0.86      0.89       401\n",
      "           6       0.87      0.32      0.46       387\n",
      "           7       0.96      0.92      0.94       409\n",
      "           8       0.96      0.89      0.92       395\n",
      "           9       0.39      0.95      0.55       408\n",
      "          10       0.93      0.53      0.67       385\n",
      "\n",
      "    accuracy                           0.71      4400\n",
      "   macro avg       0.80      0.71      0.71      4400\n",
      "weighted avg       0.80      0.71      0.71      4400\n",
      "\n",
      "[[275   3   0   7   2   1   0   0   1 106   0]\n",
      " [ 39 219   0  27   4   4   1   2   0 121   4]\n",
      " [ 89   8 143  32  16   8   8   7   5  83   4]\n",
      " [ 29   5   0 306   4   4   2   0   1  45   0]\n",
      " [  2   2   0   3 383   0   0   1   0   9   0]\n",
      " [  7   1   0  19   6 345   0   0   0  23   0]\n",
      " [ 67  20   0  48  17   5 122   4   7  91   6]\n",
      " [ 10   0   0   7   4   4   0 378   0   6   0]\n",
      " [ 14   3   0   6   1   2   0   0 352  16   1]\n",
      " [  4   0   0  11   2   0   2   2   0 387   0]\n",
      " [ 23   1   0  39   5   2   5   0   1 106 203]]\n",
      "Accuracy for Testing data: 0.49\n",
      "Other Metrics:\n",
      "              precision    recall  f1-score   support\n",
      "\n",
      "           0       0.30      0.41      0.35       105\n",
      "           1       0.32      0.15      0.21        79\n",
      "           2       0.78      0.07      0.13        97\n",
      "           3       0.38      0.45      0.41       104\n",
      "           4       0.74      0.88      0.80       100\n",
      "           5       0.84      0.66      0.74        99\n",
      "           6       0.52      0.12      0.19       113\n",
      "           7       0.83      0.75      0.79        91\n",
      "           8       0.90      0.72      0.80       105\n",
      "           9       0.22      0.87      0.36        92\n",
      "          10       0.84      0.32      0.47       115\n",
      "\n",
      "    accuracy                           0.49      1100\n",
      "   macro avg       0.61      0.49      0.48      1100\n",
      "weighted avg       0.61      0.49      0.48      1100\n",
      "\n",
      "[[43  4  1  1  0  0  1  0  2 53  0]\n",
      " [ 6 12  0 13  2  2  1  1  2 39  1]\n",
      " [20  2  7 16  8  4  6  4  1 26  3]\n",
      " [10  5  0 47  2  2  1  5  0 32  0]\n",
      " [ 1  3  0  2 88  0  0  1  0  5  0]\n",
      " [ 2  3  0  6  2 65  0  0  0 21  0]\n",
      " [32  5  1 15  6  1 13  2  3 33  2]\n",
      " [10  0  0  1  6  2  0 68  0  4  0]\n",
      " [ 8  2  0  2  1  0  0  0 76 15  1]\n",
      " [ 1  0  0  7  1  0  2  1  0 80  0]\n",
      " [10  2  0 13  3  1  1  0  0 48 37]]\n"
     ]
    }
   ],
   "source": [
    "clf4= KNeighborsClassifier(n_neighbors=5, metric='euclidean')\n",
    "clf4.fit(x, y_train)\n",
    "train_pred = clf4.predict(x)\n",
    "accuracy = accuracy_score(y_train,train_pred)\n",
    "\n",
    "print('Accuracy score for Training data:', round(accuracy,2))\n",
    "\n",
    "print(\"Other Metrics:\")\n",
    "print(classification_report(y_train, train_pred)) \n",
    "print(confusion_matrix(y_train, train_pred))      \n",
    "\n",
    "test_pred = clf4.predict(test_x)\n",
    "accuracy = accuracy_score(y_test, test_pred)\n",
    "\n",
    "print(\"Accuracy for Testing data:\",  round(accuracy,2))\n",
    "\n",
    "print(\"Other Metrics:\")\n",
    "print(classification_report(y_test, test_pred))\n",
    "print(confusion_matrix(y_test, test_pred))"
   ]
  },
  {
   "cell_type": "markdown",
   "id": "79081f73",
   "metadata": {},
   "source": [
    "# Logistic Regression"
   ]
  },
  {
   "cell_type": "code",
   "execution_count": 165,
   "id": "089435bc",
   "metadata": {
    "ExecuteTime": {
     "end_time": "2022-01-06T07:55:20.585490Z",
     "start_time": "2022-01-06T07:55:20.562597Z"
    }
   },
   "outputs": [],
   "source": [
    "from sklearn.linear_model import LogisticRegression"
   ]
  },
  {
   "cell_type": "code",
   "execution_count": 166,
   "id": "1f8d609d",
   "metadata": {
    "ExecuteTime": {
     "end_time": "2022-01-06T07:56:08.249485Z",
     "start_time": "2022-01-06T07:55:20.595929Z"
    }
   },
   "outputs": [
    {
     "name": "stdout",
     "output_type": "stream",
     "text": [
      "Accuracy score for Training data: 1.0\n",
      "Other Metrics:\n",
      "              precision    recall  f1-score   support\n",
      "\n",
      "           0       1.00      1.00      1.00       395\n",
      "           1       1.00      1.00      1.00       421\n",
      "           2       1.00      1.00      1.00       403\n",
      "           3       1.00      1.00      1.00       396\n",
      "           4       1.00      1.00      1.00       400\n",
      "           5       1.00      1.00      1.00       401\n",
      "           6       1.00      1.00      1.00       387\n",
      "           7       1.00      1.00      1.00       409\n",
      "           8       1.00      1.00      1.00       395\n",
      "           9       1.00      1.00      1.00       408\n",
      "          10       1.00      1.00      1.00       385\n",
      "\n",
      "    accuracy                           1.00      4400\n",
      "   macro avg       1.00      1.00      1.00      4400\n",
      "weighted avg       1.00      1.00      1.00      4400\n",
      "\n",
      "[[395   0   0   0   0   0   0   0   0   0   0]\n",
      " [  0 421   0   0   0   0   0   0   0   0   0]\n",
      " [  0   0 403   0   0   0   0   0   0   0   0]\n",
      " [  0   0   0 396   0   0   0   0   0   0   0]\n",
      " [  0   0   0   0 400   0   0   0   0   0   0]\n",
      " [  0   0   0   0   0 401   0   0   0   0   0]\n",
      " [  0   0   0   0   0   0 387   0   0   0   0]\n",
      " [  0   0   0   0   0   0   0 409   0   0   0]\n",
      " [  0   0   0   0   0   0   0   0 395   0   0]\n",
      " [  0   0   0   0   0   0   0   0   0 408   0]\n",
      " [  0   0   0   0   0   0   0   0   0   0 385]]\n",
      "Accuracy for Testing data: 0.89\n",
      "Other Metrics:\n",
      "              precision    recall  f1-score   support\n",
      "\n",
      "           0       0.81      0.83      0.82       105\n",
      "           1       0.81      0.80      0.80        79\n",
      "           2       0.84      0.63      0.72        97\n",
      "           3       0.88      0.96      0.92       104\n",
      "           4       0.99      0.99      0.99       100\n",
      "           5       0.96      0.97      0.96        99\n",
      "           6       0.81      0.81      0.81       113\n",
      "           7       0.93      0.99      0.96        91\n",
      "           8       0.95      0.99      0.97       105\n",
      "           9       0.97      1.00      0.98        92\n",
      "          10       0.89      0.87      0.88       115\n",
      "\n",
      "    accuracy                           0.89      1100\n",
      "   macro avg       0.89      0.89      0.89      1100\n",
      "weighted avg       0.89      0.89      0.89      1100\n",
      "\n",
      "[[ 87   0   4   3   1   0   6   0   1   0   3]\n",
      " [  5  63   0   1   0   0   5   0   1   0   4]\n",
      " [  5   7  61   8   0   2   7   2   1   1   3]\n",
      " [  1   0   1 100   0   0   2   0   0   0   0]\n",
      " [  0   0   0   0  99   0   0   0   1   0   0]\n",
      " [  0   0   1   0   0  96   0   0   0   2   0]\n",
      " [  5   1   6   2   0   2  92   3   1   0   1]\n",
      " [  0   0   0   0   0   0   0  90   0   0   1]\n",
      " [  0   0   0   0   0   0   0   1 104   0   0]\n",
      " [  0   0   0   0   0   0   0   0   0  92   0]\n",
      " [  5   7   0   0   0   0   2   1   0   0 100]]\n"
     ]
    }
   ],
   "source": [
    "clf5 = LogisticRegression(max_iter=2000)\n",
    "clf5.fit(x, y_train)\n",
    "train_pred = clf5.predict(x)\n",
    "accuracy = accuracy_score(y_train,train_pred)\n",
    "\n",
    "print('Accuracy score for Training data:', round(accuracy,2))\n",
    "\n",
    "print(\"Other Metrics:\")\n",
    "print(classification_report(y_train, train_pred)) \n",
    "print(confusion_matrix(y_train, train_pred))      \n",
    "\n",
    "test_pred = clf5.predict(test_x)\n",
    "accuracy = accuracy_score(y_test, test_pred)\n",
    "\n",
    "print(\"Accuracy for Testing data:\",  round(accuracy,2))\n",
    "\n",
    "print(\"Other Metrics:\")\n",
    "print(classification_report(y_test, test_pred))\n",
    "print(confusion_matrix(y_test, test_pred))"
   ]
  },
  {
   "cell_type": "markdown",
   "id": "56e1292f",
   "metadata": {},
   "source": [
    "# SVM"
   ]
  },
  {
   "cell_type": "code",
   "execution_count": 167,
   "id": "dcda370c",
   "metadata": {
    "ExecuteTime": {
     "end_time": "2022-01-06T07:56:08.265652Z",
     "start_time": "2022-01-06T07:56:08.254394Z"
    }
   },
   "outputs": [],
   "source": [
    "from sklearn import svm\n",
    "from sklearn.svm import SVC"
   ]
  },
  {
   "cell_type": "code",
   "execution_count": 168,
   "id": "df24d459",
   "metadata": {
    "ExecuteTime": {
     "end_time": "2022-01-06T08:06:35.887925Z",
     "start_time": "2022-01-06T07:56:08.373205Z"
    }
   },
   "outputs": [
    {
     "name": "stdout",
     "output_type": "stream",
     "text": [
      "Accuracy score for Training data: 0.98\n",
      "Other Metrics:\n",
      "              precision    recall  f1-score   support\n",
      "\n",
      "           0       0.92      0.97      0.95       395\n",
      "           1       0.99      0.99      0.99       421\n",
      "           2       0.97      1.00      0.98       403\n",
      "           3       1.00      0.97      0.98       396\n",
      "           4       1.00      0.99      0.99       400\n",
      "           5       1.00      1.00      1.00       401\n",
      "           6       1.00      0.97      0.98       387\n",
      "           7       1.00      1.00      1.00       409\n",
      "           8       1.00      1.00      1.00       395\n",
      "           9       1.00      0.98      0.99       408\n",
      "          10       0.97      0.98      0.98       385\n",
      "\n",
      "    accuracy                           0.98      4400\n",
      "   macro avg       0.99      0.98      0.98      4400\n",
      "weighted avg       0.99      0.98      0.98      4400\n",
      "\n",
      "[[385   1   7   0   0   0   0   0   1   0   1]\n",
      " [  3 415   0   1   0   0   0   0   0   0   2]\n",
      " [  0   1 402   0   0   0   0   0   0   0   0]\n",
      " [  7   2   1 383   0   0   0   0   0   0   3]\n",
      " [  0   0   1   0 396   0   0   0   0   0   3]\n",
      " [  2   0   0   0   0 399   0   0   0   0   0]\n",
      " [ 11   0   2   0   0   0 374   0   0   0   0]\n",
      " [  0   1   0   0   0   0   0 407   0   0   1]\n",
      " [  0   0   1   0   0   0   0   0 394   0   0]\n",
      " [  8   0   0   0   1   0   0   0   0 399   0]\n",
      " [  3   1   1   0   0   0   0   1   0   0 379]]\n",
      "Accuracy for Testing data: 0.87\n",
      "Other Metrics:\n",
      "              precision    recall  f1-score   support\n",
      "\n",
      "           0       0.71      0.80      0.75       105\n",
      "           1       0.78      0.73      0.76        79\n",
      "           2       0.68      0.77      0.72        97\n",
      "           3       0.96      0.83      0.89       104\n",
      "           4       0.99      0.93      0.96       100\n",
      "           5       0.97      0.94      0.95        99\n",
      "           6       0.79      0.74      0.77       113\n",
      "           7       0.93      0.98      0.95        91\n",
      "           8       0.97      0.96      0.97       105\n",
      "           9       1.00      0.98      0.99        92\n",
      "          10       0.83      0.87      0.85       115\n",
      "\n",
      "    accuracy                           0.87      1100\n",
      "   macro avg       0.87      0.87      0.87      1100\n",
      "weighted avg       0.87      0.87      0.87      1100\n",
      "\n",
      "[[ 84   0  10   2   0   0   3   1   2   0   3]\n",
      " [  6  58   4   0   0   0   5   0   0   0   6]\n",
      " [  6   4  75   1   0   0   7   1   0   0   3]\n",
      " [  5   3   4  86   0   0   4   0   0   0   2]\n",
      " [  0   0   1   0  93   1   0   0   0   0   5]\n",
      " [  0   2   3   0   0  93   0   0   0   0   1]\n",
      " [ 13   0   9   1   0   2  84   2   1   0   1]\n",
      " [  0   0   2   0   0   0   0  89   0   0   0]\n",
      " [  0   0   3   0   0   0   0   1 101   0   0]\n",
      " [  1   0   0   0   1   0   0   0   0  90   0]\n",
      " [  3   7   0   0   0   0   3   2   0   0 100]]\n"
     ]
    }
   ],
   "source": [
    "clf6= SVC()\n",
    "clf6.fit(x, y_train)\n",
    "train_pred = clf6.predict(x)\n",
    "accuracy = accuracy_score(y_train,train_pred)\n",
    "\n",
    "print('Accuracy score for Training data:', round(accuracy,2))\n",
    "\n",
    "print(\"Other Metrics:\")\n",
    "print(classification_report(y_train, train_pred)) \n",
    "print(confusion_matrix(y_train, train_pred))      \n",
    "\n",
    "test_pred = clf6.predict(test_x)\n",
    "accuracy = accuracy_score(y_test, test_pred)\n",
    "\n",
    "print(\"Accuracy for Testing data:\",  round(accuracy,2))\n",
    "\n",
    "print(\"Other Metrics:\")\n",
    "print(classification_report(y_test, test_pred))\n",
    "print(confusion_matrix(y_test, test_pred))"
   ]
  },
  {
   "cell_type": "markdown",
   "id": "a58b74d9",
   "metadata": {},
   "source": [
    "# SGD Classifier"
   ]
  },
  {
   "cell_type": "code",
   "execution_count": 169,
   "id": "5c4aba3d",
   "metadata": {
    "ExecuteTime": {
     "end_time": "2022-01-06T08:06:35.921509Z",
     "start_time": "2022-01-06T08:06:35.898461Z"
    }
   },
   "outputs": [],
   "source": [
    "from sklearn.linear_model import SGDClassifier"
   ]
  },
  {
   "cell_type": "code",
   "execution_count": 170,
   "id": "ef7e8680",
   "metadata": {
    "ExecuteTime": {
     "end_time": "2022-01-06T08:06:55.833667Z",
     "start_time": "2022-01-06T08:06:35.925425Z"
    },
    "scrolled": true
   },
   "outputs": [
    {
     "name": "stdout",
     "output_type": "stream",
     "text": [
      "Accuracy score for Training data: 0.99\n",
      "Other Metrics:\n",
      "              precision    recall  f1-score   support\n",
      "\n",
      "           0       0.96      0.99      0.97       395\n",
      "           1       0.99      0.99      0.99       421\n",
      "           2       0.99      0.97      0.98       403\n",
      "           3       0.99      0.99      0.99       396\n",
      "           4       0.99      1.00      1.00       400\n",
      "           5       0.99      0.99      0.99       401\n",
      "           6       0.99      0.98      0.98       387\n",
      "           7       1.00      1.00      1.00       409\n",
      "           8       0.99      1.00      0.99       395\n",
      "           9       1.00      1.00      1.00       408\n",
      "          10       0.99      0.98      0.99       385\n",
      "\n",
      "    accuracy                           0.99      4400\n",
      "   macro avg       0.99      0.99      0.99      4400\n",
      "weighted avg       0.99      0.99      0.99      4400\n",
      "\n",
      "[[391   0   1   1   0   1   0   0   1   0   0]\n",
      " [  2 418   0   0   0   0   0   0   0   0   1]\n",
      " [  4   1 390   1   1   3   2   0   0   1   0]\n",
      " [  2   2   0 391   1   0   0   0   0   0   0]\n",
      " [  0   0   0   0 400   0   0   0   0   0   0]\n",
      " [  0   1   1   0   0 398   0   0   0   0   1]\n",
      " [  6   0   0   0   0   0 378   1   2   0   0]\n",
      " [  0   0   0   0   0   0   2 407   0   0   0]\n",
      " [  0   0   1   0   0   0   0   0 394   0   0]\n",
      " [  0   0   0   0   0   0   0   0   0 408   0]\n",
      " [  4   1   2   0   1   1   0   0   0   0 376]]\n",
      "Accuracy for Testing data: 0.87\n",
      "Other Metrics:\n",
      "              precision    recall  f1-score   support\n",
      "\n",
      "           0       0.71      0.90      0.79       105\n",
      "           1       0.78      0.77      0.78        79\n",
      "           2       0.77      0.57      0.65        97\n",
      "           3       0.91      0.91      0.91       104\n",
      "           4       0.95      0.99      0.97       100\n",
      "           5       0.88      0.93      0.90        99\n",
      "           6       0.85      0.77      0.81       113\n",
      "           7       0.98      0.97      0.97        91\n",
      "           8       0.97      0.96      0.97       105\n",
      "           9       0.99      1.00      0.99        92\n",
      "          10       0.84      0.85      0.85       115\n",
      "\n",
      "    accuracy                           0.87      1100\n",
      "   macro avg       0.88      0.87      0.87      1100\n",
      "weighted avg       0.88      0.87      0.87      1100\n",
      "\n",
      "[[ 94   0   3   0   1   0   1   0   0   0   6]\n",
      " [  8  61   2   1   1   0   1   0   1   0   4]\n",
      " [ 10   4  55   6   2   8   6   1   0   0   5]\n",
      " [  4   2   0  95   0   1   1   0   1   0   0]\n",
      " [  0   0   0   0  99   1   0   0   0   0   0]\n",
      " [  0   3   2   0   0  92   0   0   0   0   2]\n",
      " [ 11   0   7   2   1   2  87   1   1   1   0]\n",
      " [  0   0   0   0   0   0   2  88   0   0   1]\n",
      " [  1   0   1   0   0   0   2   0 101   0   0]\n",
      " [  0   0   0   0   0   0   0   0   0  92   0]\n",
      " [  5   8   1   0   0   1   2   0   0   0  98]]\n"
     ]
    }
   ],
   "source": [
    "clf7= SGDClassifier(early_stopping= True)\n",
    "clf7.fit(x, y_train)\n",
    "train_pred = clf7.predict(x)\n",
    "accuracy = accuracy_score(y_train,train_pred)\n",
    "\n",
    "print('Accuracy score for Training data:', round(accuracy,2))\n",
    "\n",
    "print(\"Other Metrics:\")\n",
    "print(classification_report(y_train, train_pred)) \n",
    "print(confusion_matrix(y_train, train_pred))      \n",
    "\n",
    "test_pred = clf7.predict(test_x)\n",
    "accuracy = accuracy_score(y_test, test_pred)\n",
    "\n",
    "print(\"Accuracy for Testing data:\",  round(accuracy,2))\n",
    "\n",
    "print(\"Other Metrics:\")\n",
    "print(classification_report(y_test, test_pred))\n",
    "print(confusion_matrix(y_test, test_pred))"
   ]
  },
  {
   "cell_type": "markdown",
   "id": "04b38e6d",
   "metadata": {},
   "source": [
    "\n",
    "# GaussianNB"
   ]
  },
  {
   "cell_type": "code",
   "execution_count": 171,
   "id": "6667c8e8",
   "metadata": {
    "ExecuteTime": {
     "end_time": "2022-01-06T08:06:55.848932Z",
     "start_time": "2022-01-06T08:06:55.838620Z"
    }
   },
   "outputs": [],
   "source": [
    "from sklearn.naive_bayes import GaussianNB"
   ]
  },
  {
   "cell_type": "code",
   "execution_count": 172,
   "id": "be7a9667",
   "metadata": {
    "ExecuteTime": {
     "end_time": "2022-01-06T08:07:09.487528Z",
     "start_time": "2022-01-06T08:06:55.852367Z"
    },
    "scrolled": true
   },
   "outputs": [
    {
     "name": "stdout",
     "output_type": "stream",
     "text": [
      "Accuracy score for Training data: 1.0\n",
      "Other Metrics:\n",
      "              precision    recall  f1-score   support\n",
      "\n",
      "           0       1.00      0.99      0.99       395\n",
      "           1       1.00      0.99      1.00       421\n",
      "           2       1.00      1.00      1.00       403\n",
      "           3       0.98      0.99      0.99       396\n",
      "           4       0.99      1.00      1.00       400\n",
      "           5       1.00      1.00      1.00       401\n",
      "           6       1.00      0.99      0.99       387\n",
      "           7       1.00      1.00      1.00       409\n",
      "           8       0.99      1.00      1.00       395\n",
      "           9       1.00      1.00      1.00       408\n",
      "          10       1.00      1.00      1.00       385\n",
      "\n",
      "    accuracy                           1.00      4400\n",
      "   macro avg       1.00      1.00      1.00      4400\n",
      "weighted avg       1.00      1.00      1.00      4400\n",
      "\n",
      "[[392   0   0   3   0   0   0   0   0   0   0]\n",
      " [  0 418   0   3   0   0   0   0   0   0   0]\n",
      " [  0   0 403   0   0   0   0   0   0   0   0]\n",
      " [  0   0   0 393   3   0   0   0   0   0   0]\n",
      " [  0   0   0   0 400   0   0   0   0   0   0]\n",
      " [  0   0   0   0   0 401   0   0   0   0   0]\n",
      " [  1   0   0   0   1   0 382   0   2   0   1]\n",
      " [  0   0   0   0   0   0   0 409   0   0   0]\n",
      " [  0   0   0   0   0   0   0   0 395   0   0]\n",
      " [  0   0   0   0   0   0   0   0   0 408   0]\n",
      " [  0   0   0   0   0   0   0   0   0   0 385]]\n",
      "Accuracy for Testing data: 0.83\n",
      "Other Metrics:\n",
      "              precision    recall  f1-score   support\n",
      "\n",
      "           0       0.88      0.55      0.68       105\n",
      "           1       0.83      0.68      0.75        79\n",
      "           2       0.41      0.74      0.53        97\n",
      "           3       0.96      0.86      0.90       104\n",
      "           4       0.97      0.99      0.98       100\n",
      "           5       0.99      0.93      0.96        99\n",
      "           6       0.55      0.58      0.56       113\n",
      "           7       0.96      0.96      0.96        91\n",
      "           8       0.99      0.98      0.99       105\n",
      "           9       1.00      1.00      1.00        92\n",
      "          10       0.96      0.85      0.90       115\n",
      "\n",
      "    accuracy                           0.83      1100\n",
      "   macro avg       0.86      0.83      0.84      1100\n",
      "weighted avg       0.86      0.83      0.84      1100\n",
      "\n",
      "[[ 58   1  27   3   2   0  12   1   1   0   0]\n",
      " [  2  54  11   0   0   0  10   1   0   0   1]\n",
      " [  1   3  72   0   0   0  20   1   0   0   0]\n",
      " [  1   0   9  89   1   1   3   0   0   0   0]\n",
      " [  0   0   0   0  99   0   1   0   0   0   0]\n",
      " [  1   1   2   0   0  92   3   0   0   0   0]\n",
      " [  1   1  42   1   0   0  65   0   0   0   3]\n",
      " [  0   0   4   0   0   0   0  87   0   0   0]\n",
      " [  0   0   0   0   0   0   2   0 103   0   0]\n",
      " [  0   0   0   0   0   0   0   0   0  92   0]\n",
      " [  2   5   7   0   0   0   2   1   0   0  98]]\n"
     ]
    }
   ],
   "source": [
    "clf8= GaussianNB()\n",
    "clf8.fit(x, y_train)\n",
    "train_pred = clf8.predict(x)\n",
    "accuracy = accuracy_score(y_train,train_pred)\n",
    "\n",
    "print('Accuracy score for Training data:', round(accuracy,2))\n",
    "\n",
    "print(\"Other Metrics:\")\n",
    "print(classification_report(y_train, train_pred)) \n",
    "print(confusion_matrix(y_train, train_pred))      \n",
    "\n",
    "test_pred = clf8.predict(test_x)\n",
    "accuracy = accuracy_score(y_test, test_pred)\n",
    "\n",
    "print(\"Accuracy for Testing data:\",  round(accuracy,2))\n",
    "\n",
    "print(\"Other Metrics:\")\n",
    "print(classification_report(y_test, test_pred))\n",
    "print(confusion_matrix(y_test, test_pred))"
   ]
  },
  {
   "cell_type": "markdown",
   "id": "69ac7535",
   "metadata": {},
   "source": [
    "# Neural Network"
   ]
  },
  {
   "cell_type": "code",
   "execution_count": 173,
   "id": "d25af01f",
   "metadata": {
    "ExecuteTime": {
     "end_time": "2022-01-06T08:07:21.923478Z",
     "start_time": "2022-01-06T08:07:09.492878Z"
    }
   },
   "outputs": [],
   "source": [
    "import tensorflow as tf\n",
    "from keras.models import Sequential\n",
    "from keras.layers import Dense\n",
    "from tensorflow.keras.optimizers import Adam\n",
    "from keras.wrappers.scikit_learn import KerasClassifier\n",
    "\n",
    "def create_model():\n",
    "    clf9 = Sequential()\n",
    "    clf9.add(Dense(10, input_dim=10000, kernel_initializer='uniform', activation='relu'))\n",
    "    clf9.add(Dense(1, kernel_initializer='uniform', activation='sigmoid'))\n",
    "    \n",
    "    adam=Adam(lr=0.01)\n",
    "    clf9.compile(loss='binary_crossentropy', optimizer=adam, metrics=['accuracy'])\n",
    "    return clf9"
   ]
  },
  {
   "cell_type": "code",
   "execution_count": 174,
   "id": "f9aaf832",
   "metadata": {
    "ExecuteTime": {
     "end_time": "2022-01-06T08:08:15.761532Z",
     "start_time": "2022-01-06T08:07:21.925476Z"
    },
    "scrolled": true
   },
   "outputs": [
    {
     "name": "stderr",
     "output_type": "stream",
     "text": [
      "C:\\Users\\Lenovo\\anaconda3\\lib\\site-packages\\keras\\optimizer_v2\\optimizer_v2.py:355: UserWarning: The `lr` argument is deprecated, use `learning_rate` instead.\n",
      "  warnings.warn(\n"
     ]
    },
    {
     "name": "stdout",
     "output_type": "stream",
     "text": [
      "Accuracy score for Training data: 0.1\n",
      "Other Metrics:\n",
      "              precision    recall  f1-score   support\n",
      "\n",
      "           0       0.00      0.00      0.00       395\n",
      "           1       0.10      1.00      0.17       421\n",
      "           2       0.00      0.00      0.00       403\n",
      "           3       0.00      0.00      0.00       396\n",
      "           4       0.00      0.00      0.00       400\n",
      "           5       0.00      0.00      0.00       401\n",
      "           6       0.00      0.00      0.00       387\n",
      "           7       0.00      0.00      0.00       409\n",
      "           8       0.00      0.00      0.00       395\n",
      "           9       0.00      0.00      0.00       408\n",
      "          10       0.00      0.00      0.00       385\n",
      "\n",
      "    accuracy                           0.10      4400\n",
      "   macro avg       0.01      0.09      0.02      4400\n",
      "weighted avg       0.01      0.10      0.02      4400\n",
      "\n",
      "[[  0 395   0   0   0   0   0   0   0   0   0]\n",
      " [  0 421   0   0   0   0   0   0   0   0   0]\n",
      " [  0 403   0   0   0   0   0   0   0   0   0]\n",
      " [  0 396   0   0   0   0   0   0   0   0   0]\n",
      " [  0 400   0   0   0   0   0   0   0   0   0]\n",
      " [  0 401   0   0   0   0   0   0   0   0   0]\n",
      " [  0 387   0   0   0   0   0   0   0   0   0]\n",
      " [  0 409   0   0   0   0   0   0   0   0   0]\n",
      " [  0 395   0   0   0   0   0   0   0   0   0]\n",
      " [  0 408   0   0   0   0   0   0   0   0   0]\n",
      " [  0 385   0   0   0   0   0   0   0   0   0]]\n"
     ]
    },
    {
     "name": "stderr",
     "output_type": "stream",
     "text": [
      "C:\\Users\\Lenovo\\anaconda3\\lib\\site-packages\\sklearn\\metrics\\_classification.py:1245: UndefinedMetricWarning: Precision and F-score are ill-defined and being set to 0.0 in labels with no predicted samples. Use `zero_division` parameter to control this behavior.\n",
      "  _warn_prf(average, modifier, msg_start, len(result))\n",
      "C:\\Users\\Lenovo\\anaconda3\\lib\\site-packages\\sklearn\\metrics\\_classification.py:1245: UndefinedMetricWarning: Precision and F-score are ill-defined and being set to 0.0 in labels with no predicted samples. Use `zero_division` parameter to control this behavior.\n",
      "  _warn_prf(average, modifier, msg_start, len(result))\n",
      "C:\\Users\\Lenovo\\anaconda3\\lib\\site-packages\\sklearn\\metrics\\_classification.py:1245: UndefinedMetricWarning: Precision and F-score are ill-defined and being set to 0.0 in labels with no predicted samples. Use `zero_division` parameter to control this behavior.\n",
      "  _warn_prf(average, modifier, msg_start, len(result))\n"
     ]
    },
    {
     "name": "stdout",
     "output_type": "stream",
     "text": [
      "Accuracy for Testing data: 0.07\n",
      "Other Metrics:\n",
      "              precision    recall  f1-score   support\n",
      "\n",
      "           0       0.00      0.00      0.00       105\n",
      "           1       0.07      1.00      0.13        79\n",
      "           2       0.00      0.00      0.00        97\n",
      "           3       0.00      0.00      0.00       104\n",
      "           4       0.00      0.00      0.00       100\n",
      "           5       0.00      0.00      0.00        99\n",
      "           6       0.00      0.00      0.00       113\n",
      "           7       0.00      0.00      0.00        91\n",
      "           8       0.00      0.00      0.00       105\n",
      "           9       0.00      0.00      0.00        92\n",
      "          10       0.00      0.00      0.00       115\n",
      "\n",
      "    accuracy                           0.07      1100\n",
      "   macro avg       0.01      0.09      0.01      1100\n",
      "weighted avg       0.01      0.07      0.01      1100\n",
      "\n",
      "[[  0 105   0   0   0   0   0   0   0   0   0]\n",
      " [  0  79   0   0   0   0   0   0   0   0   0]\n",
      " [  0  97   0   0   0   0   0   0   0   0   0]\n",
      " [  0 104   0   0   0   0   0   0   0   0   0]\n",
      " [  0 100   0   0   0   0   0   0   0   0   0]\n",
      " [  0  99   0   0   0   0   0   0   0   0   0]\n",
      " [  0 113   0   0   0   0   0   0   0   0   0]\n",
      " [  0  91   0   0   0   0   0   0   0   0   0]\n",
      " [  0 105   0   0   0   0   0   0   0   0   0]\n",
      " [  0  92   0   0   0   0   0   0   0   0   0]\n",
      " [  0 115   0   0   0   0   0   0   0   0   0]]\n"
     ]
    },
    {
     "name": "stderr",
     "output_type": "stream",
     "text": [
      "C:\\Users\\Lenovo\\anaconda3\\lib\\site-packages\\sklearn\\metrics\\_classification.py:1245: UndefinedMetricWarning: Precision and F-score are ill-defined and being set to 0.0 in labels with no predicted samples. Use `zero_division` parameter to control this behavior.\n",
      "  _warn_prf(average, modifier, msg_start, len(result))\n",
      "C:\\Users\\Lenovo\\anaconda3\\lib\\site-packages\\sklearn\\metrics\\_classification.py:1245: UndefinedMetricWarning: Precision and F-score are ill-defined and being set to 0.0 in labels with no predicted samples. Use `zero_division` parameter to control this behavior.\n",
      "  _warn_prf(average, modifier, msg_start, len(result))\n",
      "C:\\Users\\Lenovo\\anaconda3\\lib\\site-packages\\sklearn\\metrics\\_classification.py:1245: UndefinedMetricWarning: Precision and F-score are ill-defined and being set to 0.0 in labels with no predicted samples. Use `zero_division` parameter to control this behavior.\n",
      "  _warn_prf(average, modifier, msg_start, len(result))\n"
     ]
    }
   ],
   "source": [
    "clf9 = KerasClassifier(build_fn=create_model,verbose = 0, batch_size = 10, epochs = 50 )\n",
    "clf9.fit(x, y_train)\n",
    "train_pred = clf9.predict(x)\n",
    "accuracy = accuracy_score(y_train,train_pred)\n",
    "\n",
    "print('Accuracy score for Training data:', round(accuracy,2))\n",
    "\n",
    "print(\"Other Metrics:\")\n",
    "print(classification_report(y_train, train_pred)) \n",
    "print(confusion_matrix(y_train, train_pred))      \n",
    "\n",
    "test_pred = clf9.predict(test_x)\n",
    "accuracy = accuracy_score(y_test, test_pred)\n",
    "\n",
    "print(\"Accuracy for Testing data:\",  round(accuracy,2))\n",
    "\n",
    "print(\"Other Metrics:\")\n",
    "print(classification_report(y_test, test_pred))\n",
    "print(confusion_matrix(y_test, test_pred))"
   ]
  },
  {
   "cell_type": "code",
   "execution_count": 184,
   "id": "185e1d8e",
   "metadata": {
    "ExecuteTime": {
     "end_time": "2022-01-06T08:22:07.217487Z",
     "start_time": "2022-01-06T08:22:07.198775Z"
    }
   },
   "outputs": [],
   "source": [
    "Model_Name = ['Multinomial NB', 'Logistic Regression', 'SVM', 'SGDClassifier', 'Guassian NB', 'Decision Tree', 'Random Forest', 'KNN', 'Neural Network']\n",
    "Train_Accuracy = [0.98,1.00,0.98,0.99,1.00,1.00,0.49,0.71,0.10]\n",
    "Test_Accuracy = [0.88,0.89,0.87,0.87,0.83,0.81,0.44,0.49,0.07]"
   ]
  },
  {
   "cell_type": "code",
   "execution_count": 185,
   "id": "6c7635f7",
   "metadata": {
    "ExecuteTime": {
     "end_time": "2022-01-06T08:22:24.826299Z",
     "start_time": "2022-01-06T08:22:24.807779Z"
    }
   },
   "outputs": [],
   "source": [
    "Model_Table = pd.DataFrame({'Model_Name' : Model_Name,\n",
    "                            'Train_Accuracy' : Train_Accuracy, 'Test_Accuracy' : Test_Accuracy})"
   ]
  },
  {
   "cell_type": "code",
   "execution_count": 186,
   "id": "c3871c6e",
   "metadata": {
    "ExecuteTime": {
     "end_time": "2022-01-06T08:22:31.075882Z",
     "start_time": "2022-01-06T08:22:31.051356Z"
    }
   },
   "outputs": [
    {
     "data": {
      "text/html": [
       "<div>\n",
       "<style scoped>\n",
       "    .dataframe tbody tr th:only-of-type {\n",
       "        vertical-align: middle;\n",
       "    }\n",
       "\n",
       "    .dataframe tbody tr th {\n",
       "        vertical-align: top;\n",
       "    }\n",
       "\n",
       "    .dataframe thead th {\n",
       "        text-align: right;\n",
       "    }\n",
       "</style>\n",
       "<table border=\"1\" class=\"dataframe\">\n",
       "  <thead>\n",
       "    <tr style=\"text-align: right;\">\n",
       "      <th></th>\n",
       "      <th>Model_Name</th>\n",
       "      <th>Train_Accuracy</th>\n",
       "      <th>Test_Accuracy</th>\n",
       "    </tr>\n",
       "  </thead>\n",
       "  <tbody>\n",
       "    <tr>\n",
       "      <th>0</th>\n",
       "      <td>Multinomial NB</td>\n",
       "      <td>0.98</td>\n",
       "      <td>0.88</td>\n",
       "    </tr>\n",
       "    <tr>\n",
       "      <th>1</th>\n",
       "      <td>Logistic Regression</td>\n",
       "      <td>1.00</td>\n",
       "      <td>0.89</td>\n",
       "    </tr>\n",
       "    <tr>\n",
       "      <th>2</th>\n",
       "      <td>SVM</td>\n",
       "      <td>0.98</td>\n",
       "      <td>0.87</td>\n",
       "    </tr>\n",
       "    <tr>\n",
       "      <th>3</th>\n",
       "      <td>SGDClassifier</td>\n",
       "      <td>0.99</td>\n",
       "      <td>0.87</td>\n",
       "    </tr>\n",
       "    <tr>\n",
       "      <th>4</th>\n",
       "      <td>Guassian NB</td>\n",
       "      <td>1.00</td>\n",
       "      <td>0.83</td>\n",
       "    </tr>\n",
       "    <tr>\n",
       "      <th>5</th>\n",
       "      <td>Decision Tree</td>\n",
       "      <td>1.00</td>\n",
       "      <td>0.81</td>\n",
       "    </tr>\n",
       "    <tr>\n",
       "      <th>6</th>\n",
       "      <td>Random Forest</td>\n",
       "      <td>0.49</td>\n",
       "      <td>0.44</td>\n",
       "    </tr>\n",
       "    <tr>\n",
       "      <th>7</th>\n",
       "      <td>KNN</td>\n",
       "      <td>0.71</td>\n",
       "      <td>0.49</td>\n",
       "    </tr>\n",
       "    <tr>\n",
       "      <th>8</th>\n",
       "      <td>Neural Network</td>\n",
       "      <td>0.10</td>\n",
       "      <td>0.07</td>\n",
       "    </tr>\n",
       "  </tbody>\n",
       "</table>\n",
       "</div>"
      ],
      "text/plain": [
       "            Model_Name  Train_Accuracy  Test_Accuracy\n",
       "0       Multinomial NB            0.98           0.88\n",
       "1  Logistic Regression            1.00           0.89\n",
       "2                  SVM            0.98           0.87\n",
       "3        SGDClassifier            0.99           0.87\n",
       "4          Guassian NB            1.00           0.83\n",
       "5        Decision Tree            1.00           0.81\n",
       "6        Random Forest            0.49           0.44\n",
       "7                  KNN            0.71           0.49\n",
       "8       Neural Network            0.10           0.07"
      ]
     },
     "execution_count": 186,
     "metadata": {},
     "output_type": "execute_result"
    }
   ],
   "source": [
    "Model_Table"
   ]
  },
  {
   "cell_type": "code",
   "execution_count": 187,
   "id": "0d45f49f",
   "metadata": {
    "ExecuteTime": {
     "end_time": "2022-01-06T08:28:02.895346Z",
     "start_time": "2022-01-06T08:28:02.888886Z"
    }
   },
   "outputs": [],
   "source": [
    "rec = [\"A comet the color of blood and flame cuts across the sky. Two great leaders—Lord Eddard Stark and Robert Baratheon—who hold sway over an age of enforced peace are dead, victims of royal treachery. Now, from the ancient citadel of Dragonstone to the forbidding shores of Winterfell, chaos reigns. Six factions struggle for control of a divided land and the Iron Throne of the Seven Kingdoms, preparing to stake their claims through tempest, turmoil, and war.\"]"
   ]
  },
  {
   "cell_type": "code",
   "execution_count": 188,
   "id": "d376cbeb",
   "metadata": {
    "ExecuteTime": {
     "end_time": "2022-01-06T08:28:05.375520Z",
     "start_time": "2022-01-06T08:28:05.371587Z"
    }
   },
   "outputs": [],
   "source": [
    "t = cv.transform(rec).toarray()"
   ]
  },
  {
   "cell_type": "code",
   "execution_count": 189,
   "id": "d9d4b7ad",
   "metadata": {
    "ExecuteTime": {
     "end_time": "2022-01-06T08:28:08.585126Z",
     "start_time": "2022-01-06T08:28:08.577660Z"
    }
   },
   "outputs": [],
   "source": [
    "pr = le.inverse_transform(clf1.predict(t))"
   ]
  },
  {
   "cell_type": "code",
   "execution_count": 190,
   "id": "327b5b35",
   "metadata": {
    "ExecuteTime": {
     "end_time": "2022-01-06T08:28:11.061730Z",
     "start_time": "2022-01-06T08:28:11.046239Z"
    }
   },
   "outputs": [
    {
     "data": {
      "text/plain": [
       "'Fantasy'"
      ]
     },
     "execution_count": 190,
     "metadata": {},
     "output_type": "execute_result"
    }
   ],
   "source": [
    "pr[0]"
   ]
  },
  {
   "cell_type": "code",
   "execution_count": 193,
   "id": "80316085",
   "metadata": {
    "ExecuteTime": {
     "end_time": "2022-01-06T08:29:55.057923Z",
     "start_time": "2022-01-06T08:29:55.038493Z"
    }
   },
   "outputs": [],
   "source": [
    "def recommend(genre):\n",
    "    recommended_books = df[df['genre'] == genre].sort_values(by = 'average_rating',ascending = False).head()\n",
    "    print(recommended_books.title)\n",
    "    return"
   ]
  },
  {
   "cell_type": "code",
   "execution_count": 194,
   "id": "63bccc0e",
   "metadata": {
    "ExecuteTime": {
     "end_time": "2022-01-06T08:29:58.058872Z",
     "start_time": "2022-01-06T08:29:58.018171Z"
    }
   },
   "outputs": [
    {
     "name": "stdout",
     "output_type": "stream",
     "text": [
      "3424                                    Words of Radiance\n",
      "3255                                     The High Auction\n",
      "1487    A Song of Ice and Fire (A Song of Ice and Fire...\n",
      "708                                  Adhaata Asao's Liege\n",
      "14                   Harry Potter and the Deathly Hallows\n",
      "Name: title, dtype: object\n"
     ]
    }
   ],
   "source": [
    "recommend('Fantasy')"
   ]
  },
  {
   "cell_type": "markdown",
   "id": "92c024da",
   "metadata": {
    "ExecuteTime": {
     "end_time": "2021-12-08T11:24:55.435909Z",
     "start_time": "2021-12-08T11:24:55.404812Z"
    }
   },
   "source": [
    "# Exporting PKL Files"
   ]
  },
  {
   "cell_type": "code",
   "execution_count": 195,
   "id": "f767636c",
   "metadata": {
    "ExecuteTime": {
     "end_time": "2022-01-06T08:32:33.628269Z",
     "start_time": "2022-01-06T08:32:33.520872Z"
    }
   },
   "outputs": [],
   "source": [
    "import pickle\n",
    "pickle.dump(df,open('books.pkl','wb'))\n",
    "pickle.dump(clf1,open('model.pkl','wb'))\n",
    "pickle.dump(cv,open('CountVectorizer.pkl','wb'))"
   ]
  },
  {
   "cell_type": "code",
   "execution_count": 197,
   "id": "874d7b4e",
   "metadata": {
    "ExecuteTime": {
     "end_time": "2022-01-06T08:33:17.326523Z",
     "start_time": "2022-01-06T08:33:17.307843Z"
    }
   },
   "outputs": [
    {
     "data": {
      "text/plain": [
       "['after a lifetim of bottl up hi magic powers, harri final feel like a normal kid.']"
      ]
     },
     "execution_count": 197,
     "metadata": {},
     "output_type": "execute_result"
    }
   ],
   "source": [
    "rec = [stemming('After a lifetime of bottling up his magical powers, Harry finally feels like a normal kid.')]\n",
    "rec"
   ]
  },
  {
   "cell_type": "code",
   "execution_count": 198,
   "id": "3940d53a",
   "metadata": {
    "ExecuteTime": {
     "end_time": "2022-01-06T08:33:40.952612Z",
     "start_time": "2022-01-06T08:33:40.938829Z"
    }
   },
   "outputs": [],
   "source": [
    "tags= pd.DataFrame({'tags': rec})\n",
    "df_tags = df[['tags']]"
   ]
  },
  {
   "cell_type": "code",
   "execution_count": 199,
   "id": "6b7407ab",
   "metadata": {
    "ExecuteTime": {
     "end_time": "2022-01-06T08:33:55.485705Z",
     "start_time": "2022-01-06T08:33:55.466315Z"
    }
   },
   "outputs": [],
   "source": [
    "tags = tags.append(df_tags,ignore_index=True)"
   ]
  },
  {
   "cell_type": "code",
   "execution_count": 200,
   "id": "a2abc393",
   "metadata": {
    "ExecuteTime": {
     "end_time": "2022-01-06T08:34:05.176124Z",
     "start_time": "2022-01-06T08:34:05.152339Z"
    }
   },
   "outputs": [
    {
     "data": {
      "text/html": [
       "<div>\n",
       "<style scoped>\n",
       "    .dataframe tbody tr th:only-of-type {\n",
       "        vertical-align: middle;\n",
       "    }\n",
       "\n",
       "    .dataframe tbody tr th {\n",
       "        vertical-align: top;\n",
       "    }\n",
       "\n",
       "    .dataframe thead th {\n",
       "        text-align: right;\n",
       "    }\n",
       "</style>\n",
       "<table border=\"1\" class=\"dataframe\">\n",
       "  <thead>\n",
       "    <tr style=\"text-align: right;\">\n",
       "      <th></th>\n",
       "      <th>tags</th>\n",
       "    </tr>\n",
       "  </thead>\n",
       "  <tbody>\n",
       "    <tr>\n",
       "      <th>0</th>\n",
       "      <td>after a lifetim of bottl up hi magic powers, h...</td>\n",
       "    </tr>\n",
       "    <tr>\n",
       "      <th>1</th>\n",
       "      <td>kill mockingbird harperle unforgett novel chil...</td>\n",
       "    </tr>\n",
       "    <tr>\n",
       "      <th>2</th>\n",
       "      <td>harri potter sorcerer' stone j.k.rowl harri po...</td>\n",
       "    </tr>\n",
       "    <tr>\n",
       "      <th>3</th>\n",
       "      <td>pride prejudic janeausten altern cover edit is...</td>\n",
       "    </tr>\n",
       "    <tr>\n",
       "      <th>4</th>\n",
       "      <td>diari young girl annefrank discov attic spent ...</td>\n",
       "    </tr>\n",
       "    <tr>\n",
       "      <th>...</th>\n",
       "      <td>...</td>\n",
       "    </tr>\n",
       "    <tr>\n",
       "      <th>2665</th>\n",
       "      <td>nobl begin l.t.ryan ace asin: b009k8rhnqin mar...</td>\n",
       "    </tr>\n",
       "    <tr>\n",
       "      <th>2666</th>\n",
       "      <td>everneath brodiashton last spring, nikki becke...</td>\n",
       "    </tr>\n",
       "    <tr>\n",
       "      <th>2667</th>\n",
       "      <td>end watch stephenk spectacular final new york ...</td>\n",
       "    </tr>\n",
       "    <tr>\n",
       "      <th>2668</th>\n",
       "      <td>salvag bone jesmynward winner 2011 nation book...</td>\n",
       "    </tr>\n",
       "    <tr>\n",
       "      <th>2669</th>\n",
       "      <td>red sparrow jasonmatthew grand spy-tal tradit ...</td>\n",
       "    </tr>\n",
       "  </tbody>\n",
       "</table>\n",
       "<p>2670 rows × 1 columns</p>\n",
       "</div>"
      ],
      "text/plain": [
       "                                                   tags\n",
       "0     after a lifetim of bottl up hi magic powers, h...\n",
       "1     kill mockingbird harperle unforgett novel chil...\n",
       "2     harri potter sorcerer' stone j.k.rowl harri po...\n",
       "3     pride prejudic janeausten altern cover edit is...\n",
       "4     diari young girl annefrank discov attic spent ...\n",
       "...                                                 ...\n",
       "2665  nobl begin l.t.ryan ace asin: b009k8rhnqin mar...\n",
       "2666  everneath brodiashton last spring, nikki becke...\n",
       "2667  end watch stephenk spectacular final new york ...\n",
       "2668  salvag bone jesmynward winner 2011 nation book...\n",
       "2669  red sparrow jasonmatthew grand spy-tal tradit ...\n",
       "\n",
       "[2670 rows x 1 columns]"
      ]
     },
     "execution_count": 200,
     "metadata": {},
     "output_type": "execute_result"
    }
   ],
   "source": [
    "tags"
   ]
  },
  {
   "cell_type": "code",
   "execution_count": 201,
   "id": "4b2c8aa9",
   "metadata": {
    "ExecuteTime": {
     "end_time": "2022-01-06T08:34:25.775681Z",
     "start_time": "2022-01-06T08:34:24.799042Z"
    }
   },
   "outputs": [
    {
     "data": {
      "text/plain": [
       "array([[0, 0, 0, ..., 0, 0, 0],\n",
       "       [0, 0, 0, ..., 0, 0, 0],\n",
       "       [0, 0, 0, ..., 0, 0, 0],\n",
       "       ...,\n",
       "       [0, 0, 0, ..., 0, 0, 0],\n",
       "       [0, 0, 0, ..., 0, 0, 0],\n",
       "       [0, 0, 0, ..., 0, 0, 0]], dtype=int64)"
      ]
     },
     "execution_count": 201,
     "metadata": {},
     "output_type": "execute_result"
    }
   ],
   "source": [
    "tags_test_cv = cv.fit_transform(tags['tags']).toarray()\n",
    "tags_test_cv"
   ]
  },
  {
   "cell_type": "code",
   "execution_count": 202,
   "id": "3c766c48",
   "metadata": {
    "ExecuteTime": {
     "end_time": "2022-01-06T08:34:46.616294Z",
     "start_time": "2022-01-06T08:34:43.951238Z"
    }
   },
   "outputs": [],
   "source": [
    "from sklearn.metrics.pairwise import cosine_similarity\n",
    "similarity_tags = cosine_similarity(tags_test_cv)"
   ]
  },
  {
   "cell_type": "code",
   "execution_count": 203,
   "id": "920982a6",
   "metadata": {
    "ExecuteTime": {
     "end_time": "2022-01-06T08:34:55.533732Z",
     "start_time": "2022-01-06T08:34:55.514591Z"
    }
   },
   "outputs": [
    {
     "data": {
      "text/plain": [
       "array([1.        , 0.        , 0.45029432, ..., 0.13612216, 0.05749596,\n",
       "       0.01657256])"
      ]
     },
     "execution_count": 203,
     "metadata": {},
     "output_type": "execute_result"
    }
   ],
   "source": [
    "similarity_tags[0]"
   ]
  },
  {
   "cell_type": "code",
   "execution_count": 204,
   "id": "73b95252",
   "metadata": {
    "ExecuteTime": {
     "end_time": "2022-01-06T08:35:13.272524Z",
     "start_time": "2022-01-06T08:35:13.246449Z"
    }
   },
   "outputs": [],
   "source": [
    "recommended_sorted_list = sorted(list(enumerate(similarity_tags[0])),reverse= True,key= lambda x:x[1])[1:6]\n",
    "recommended_sorted_list\n",
    "recommended_books = []\n",
    "recommended_book_posters = []\n",
    "for i in recommended_sorted_list:\n",
    "    recommended_books.append(df.iloc[i[0]].title)\n",
    "    recommended_book_posters.append(df.iloc[i[0]].image_url)"
   ]
  },
  {
   "cell_type": "code",
   "execution_count": 205,
   "id": "c594a0ff",
   "metadata": {
    "ExecuteTime": {
     "end_time": "2022-01-06T08:35:29.018839Z",
     "start_time": "2022-01-06T08:35:29.011100Z"
    }
   },
   "outputs": [
    {
     "data": {
      "text/plain": [
       "['https://i.gr-assets.com/images/S/compressed.photo.goodreads.com/books/1320399351l/1885.jpg',\n",
       " 'https://i.gr-assets.com/images/S/compressed.photo.goodreads.com/books/1559986152l/386162.jpg',\n",
       " 'https://i.gr-assets.com/images/S/compressed.photo.goodreads.com/books/1388189974l/9791.jpg',\n",
       " 'https://i.gr-assets.com/images/S/compressed.photo.goodreads.com/books/1166334569l/10882._SY475_.jpg',\n",
       " 'https://i.gr-assets.com/images/S/compressed.photo.goodreads.com/books/1449142000l/22816087.jpg']"
      ]
     },
     "execution_count": 205,
     "metadata": {},
     "output_type": "execute_result"
    }
   ],
   "source": [
    "recommended_book_posters"
   ]
  },
  {
   "cell_type": "code",
   "execution_count": 207,
   "id": "5084e3e5",
   "metadata": {
    "ExecuteTime": {
     "end_time": "2022-01-06T08:36:08.615285Z",
     "start_time": "2022-01-06T08:36:08.592248Z"
    },
    "scrolled": true
   },
   "outputs": [
    {
     "data": {
      "text/plain": [
       "['Pride and Prejudice',\n",
       " \"The Hitchhiker's Guide to the Galaxy\",\n",
       " 'A Walk in the Woods: Rediscovering America on the Appalachian Trail',\n",
       " \"Hell's Angels\",\n",
       " 'Seveneves']"
      ]
     },
     "execution_count": 207,
     "metadata": {},
     "output_type": "execute_result"
    }
   ],
   "source": [
    "recommended_books"
   ]
  }
 ],
 "metadata": {
  "kernelspec": {
   "display_name": "Python 3 (ipykernel)",
   "language": "python",
   "name": "python3"
  },
  "language_info": {
   "codemirror_mode": {
    "name": "ipython",
    "version": 3
   },
   "file_extension": ".py",
   "mimetype": "text/x-python",
   "name": "python",
   "nbconvert_exporter": "python",
   "pygments_lexer": "ipython3",
   "version": "3.10.6"
  },
  "varInspector": {
   "cols": {
    "lenName": 16,
    "lenType": 16,
    "lenVar": 40
   },
   "kernels_config": {
    "python": {
     "delete_cmd_postfix": "",
     "delete_cmd_prefix": "del ",
     "library": "var_list.py",
     "varRefreshCmd": "print(var_dic_list())"
    },
    "r": {
     "delete_cmd_postfix": ") ",
     "delete_cmd_prefix": "rm(",
     "library": "var_list.r",
     "varRefreshCmd": "cat(var_dic_list()) "
    }
   },
   "types_to_exclude": [
    "module",
    "function",
    "builtin_function_or_method",
    "instance",
    "_Feature"
   ],
   "window_display": false
  }
 },
 "nbformat": 4,
 "nbformat_minor": 5
}
