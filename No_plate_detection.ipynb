{
 "cells": [
  {
   "cell_type": "code",
   "execution_count": 1,
   "id": "927f7115",
   "metadata": {
    "ExecuteTime": {
     "end_time": "2023-02-14T03:58:53.692077Z",
     "start_time": "2023-02-14T03:58:53.671082Z"
    }
   },
   "outputs": [],
   "source": [
    "import warnings\n",
    "warnings.filterwarnings(\"ignore\")"
   ]
  },
  {
   "cell_type": "code",
   "execution_count": 2,
   "id": "ac97091b",
   "metadata": {
    "ExecuteTime": {
     "end_time": "2023-02-14T03:58:59.240867Z",
     "start_time": "2023-02-14T03:58:53.696660Z"
    }
   },
   "outputs": [
    {
     "name": "stderr",
     "output_type": "stream",
     "text": [
      "2023-02-14 09:28:53.708874: I tensorflow/core/platform/cpu_feature_guard.cc:193] This TensorFlow binary is optimized with oneAPI Deep Neural Network Library (oneDNN) to use the following CPU instructions in performance-critical operations:  AVX2 FMA\n",
      "To enable them in other operations, rebuild TensorFlow with the appropriate compiler flags.\n",
      "2023-02-14 09:28:54.084756: W tensorflow/compiler/xla/stream_executor/platform/default/dso_loader.cc:64] Could not load dynamic library 'libcudart.so.11.0'; dlerror: libcudart.so.11.0: cannot open shared object file: No such file or directory\n",
      "2023-02-14 09:28:54.084829: I tensorflow/compiler/xla/stream_executor/cuda/cudart_stub.cc:29] Ignore above cudart dlerror if you do not have a GPU set up on your machine.\n",
      "2023-02-14 09:28:56.354300: W tensorflow/compiler/xla/stream_executor/platform/default/dso_loader.cc:64] Could not load dynamic library 'libnvinfer.so.7'; dlerror: libnvinfer.so.7: cannot open shared object file: No such file or directory\n",
      "2023-02-14 09:28:56.354455: W tensorflow/compiler/xla/stream_executor/platform/default/dso_loader.cc:64] Could not load dynamic library 'libnvinfer_plugin.so.7'; dlerror: libnvinfer_plugin.so.7: cannot open shared object file: No such file or directory\n",
      "2023-02-14 09:28:56.354473: W tensorflow/compiler/tf2tensorrt/utils/py_utils.cc:38] TF-TRT Warning: Cannot dlopen some TensorRT libraries. If you would like to use Nvidia GPU with TensorRT, please make sure the missing libraries mentioned above are installed properly.\n"
     ]
    }
   ],
   "source": [
    "# Importing Libraries\n",
    "from tensorflow import keras\n",
    "from keras.preprocessing.image import ImageDataGenerator\n",
    "from keras import optimizers"
   ]
  },
  {
   "cell_type": "code",
   "execution_count": 3,
   "id": "b2569a0b",
   "metadata": {
    "ExecuteTime": {
     "end_time": "2023-02-14T03:58:59.261267Z",
     "start_time": "2023-02-14T03:58:59.251890Z"
    }
   },
   "outputs": [],
   "source": [
    "# Data generation for training data\n",
    "train_data = ImageDataGenerator(rescale = 1./255)"
   ]
  },
  {
   "cell_type": "code",
   "execution_count": 4,
   "id": "86b406d4",
   "metadata": {
    "ExecuteTime": {
     "end_time": "2023-02-14T03:58:59.281659Z",
     "start_time": "2023-02-14T03:58:59.275135Z"
    }
   },
   "outputs": [],
   "source": [
    "validation_data = ImageDataGenerator(rescale=1./255)"
   ]
  },
  {
   "cell_type": "code",
   "execution_count": 5,
   "id": "6bcba32e",
   "metadata": {
    "ExecuteTime": {
     "end_time": "2023-02-14T03:58:59.773546Z",
     "start_time": "2023-02-14T03:58:59.285529Z"
    }
   },
   "outputs": [
    {
     "name": "stdout",
     "output_type": "stream",
     "text": [
      "Found 10880 images belonging to 36 classes.\n"
     ]
    }
   ],
   "source": [
    "# Training Dataset\n",
    "train = train_data.flow_from_directory(directory ='/home/ubuntu/Desktop/sep_data_final/sep_data/train/',\n",
    "                                       target_size=(224, 224),\n",
    "                                       batch_size = 16,\n",
    "                                       class_mode =\"categorical\")"
   ]
  },
  {
   "cell_type": "code",
   "execution_count": 6,
   "id": "46ee4432",
   "metadata": {
    "ExecuteTime": {
     "end_time": "2023-02-14T03:58:59.901401Z",
     "start_time": "2023-02-14T03:58:59.776384Z"
    }
   },
   "outputs": [
    {
     "name": "stdout",
     "output_type": "stream",
     "text": [
      "Found 2050 images belonging to 36 classes.\n"
     ]
    }
   ],
   "source": [
    "#validation dataset\n",
    "validation = validation_data.flow_from_directory(directory ='/home/ubuntu/Desktop/sep_data_final/sep_data/val/',\n",
    "                                                 target_size=(224, 224),\n",
    "                                                 batch_size = 16,\n",
    "                                                 class_mode =\"categorical\")\n",
    "                                                 "
   ]
  },
  {
   "cell_type": "code",
   "execution_count": 7,
   "id": "807b1687",
   "metadata": {
    "ExecuteTime": {
     "end_time": "2023-02-14T03:59:03.987653Z",
     "start_time": "2023-02-14T03:58:59.910925Z"
    },
    "scrolled": true
   },
   "outputs": [
    {
     "name": "stderr",
     "output_type": "stream",
     "text": [
      "2023-02-14 09:28:59.950844: W tensorflow/compiler/xla/stream_executor/platform/default/dso_loader.cc:64] Could not load dynamic library 'libcuda.so.1'; dlerror: libcuda.so.1: cannot open shared object file: No such file or directory\n",
      "2023-02-14 09:28:59.950920: W tensorflow/compiler/xla/stream_executor/cuda/cuda_driver.cc:265] failed call to cuInit: UNKNOWN ERROR (303)\n",
      "2023-02-14 09:28:59.950958: I tensorflow/compiler/xla/stream_executor/cuda/cuda_diagnostics.cc:156] kernel driver does not appear to be running on this host (ubuntu-Zako): /proc/driver/nvidia/version does not exist\n",
      "2023-02-14 09:28:59.951314: I tensorflow/core/platform/cpu_feature_guard.cc:193] This TensorFlow binary is optimized with oneAPI Deep Neural Network Library (oneDNN) to use the following CPU instructions in performance-critical operations:  AVX2 FMA\n",
      "To enable them in other operations, rebuild TensorFlow with the appropriate compiler flags.\n"
     ]
    }
   ],
   "source": [
    "base_model = keras.applications.ResNet50V2(\n",
    "    weights='imagenet',\n",
    "    input_shape=(224, 224, 3),\n",
    "    include_top=False)"
   ]
  },
  {
   "cell_type": "code",
   "execution_count": 8,
   "id": "a5efe76b",
   "metadata": {
    "ExecuteTime": {
     "end_time": "2023-02-14T03:59:04.008637Z",
     "start_time": "2023-02-14T03:59:03.991720Z"
    }
   },
   "outputs": [],
   "source": [
    "base_model.trainable = False"
   ]
  },
  {
   "cell_type": "code",
   "execution_count": 9,
   "id": "6e5fbb3b",
   "metadata": {
    "ExecuteTime": {
     "end_time": "2023-02-14T03:59:05.212961Z",
     "start_time": "2023-02-14T03:59:04.011794Z"
    }
   },
   "outputs": [],
   "source": [
    "inputs = keras.Input(shape=(224, 224, 3))\n",
    "\n",
    "x = base_model(inputs, training=False)\n",
    "\n",
    "#pooling layer \n",
    "x = keras.layers.GlobalAveragePooling2D()(x)\n",
    "\n",
    "#final dense layer\n",
    "outputs = keras.layers.Dense(36, activation = 'softmax')(x)\n",
    "\n",
    "model = keras.Model(inputs,outputs)"
   ]
  },
  {
   "cell_type": "code",
   "execution_count": 10,
   "id": "b4456f99",
   "metadata": {
    "ExecuteTime": {
     "end_time": "2023-02-14T03:59:05.321889Z",
     "start_time": "2023-02-14T03:59:05.230308Z"
    }
   },
   "outputs": [
    {
     "name": "stdout",
     "output_type": "stream",
     "text": [
      "Model: \"model\"\n",
      "_________________________________________________________________\n",
      " Layer (type)                Output Shape              Param #   \n",
      "=================================================================\n",
      " input_2 (InputLayer)        [(None, 224, 224, 3)]     0         \n",
      "                                                                 \n",
      " resnet50v2 (Functional)     (None, 7, 7, 2048)        23564800  \n",
      "                                                                 \n",
      " global_average_pooling2d (G  (None, 2048)             0         \n",
      " lobalAveragePooling2D)                                          \n",
      "                                                                 \n",
      " dense (Dense)               (None, 36)                73764     \n",
      "                                                                 \n",
      "=================================================================\n",
      "Total params: 23,638,564\n",
      "Trainable params: 73,764\n",
      "Non-trainable params: 23,564,800\n",
      "_________________________________________________________________\n"
     ]
    }
   ],
   "source": [
    "model.summary()"
   ]
  },
  {
   "cell_type": "code",
   "execution_count": 11,
   "id": "9a3665f9",
   "metadata": {
    "ExecuteTime": {
     "end_time": "2023-02-14T03:59:05.573669Z",
     "start_time": "2023-02-14T03:59:05.330527Z"
    }
   },
   "outputs": [],
   "source": [
    "model.compile(optimizer='adam',loss=['categorical_crossentropy'],metrics=['accuracy'])"
   ]
  },
  {
   "cell_type": "code",
   "execution_count": 12,
   "id": "abf5790f",
   "metadata": {
    "ExecuteTime": {
     "end_time": "2023-02-14T03:59:05.581914Z",
     "start_time": "2023-02-14T03:59:05.577410Z"
    }
   },
   "outputs": [],
   "source": [
    "from tensorflow.keras.callbacks import EarlyStopping\n",
    "# Early stopping to avoid overfitting\n",
    "es = EarlyStopping(monitor = \"accuracy\",patience = 3)"
   ]
  },
  {
   "cell_type": "code",
   "execution_count": 13,
   "id": "c9ea8033",
   "metadata": {
    "ExecuteTime": {
     "end_time": "2023-02-14T10:49:30.186482Z",
     "start_time": "2023-02-14T03:59:05.584487Z"
    }
   },
   "outputs": [
    {
     "name": "stdout",
     "output_type": "stream",
     "text": [
      "Epoch 1/10\n",
      "680/680 [==============================] - 2824s 4s/step - loss: 0.6431 - accuracy: 0.8459 - val_loss: 0.3838 - val_accuracy: 0.9200\n",
      "Epoch 2/10\n",
      "680/680 [==============================] - 2641s 4s/step - loss: 0.1812 - accuracy: 0.9577 - val_loss: 0.3242 - val_accuracy: 0.9317\n",
      "Epoch 3/10\n",
      "680/680 [==============================] - 2378s 3s/step - loss: 0.1035 - accuracy: 0.9778 - val_loss: 0.3053 - val_accuracy: 0.9380\n",
      "Epoch 4/10\n",
      "680/680 [==============================] - 2751s 4s/step - loss: 0.0671 - accuracy: 0.9881 - val_loss: 0.2953 - val_accuracy: 0.9434\n",
      "Epoch 5/10\n",
      "680/680 [==============================] - 2573s 4s/step - loss: 0.0456 - accuracy: 0.9937 - val_loss: 0.2800 - val_accuracy: 0.9429\n",
      "Epoch 6/10\n",
      "680/680 [==============================] - 2331s 3s/step - loss: 0.0335 - accuracy: 0.9956 - val_loss: 0.2953 - val_accuracy: 0.9439\n",
      "Epoch 7/10\n",
      "680/680 [==============================] - 2362s 3s/step - loss: 0.0257 - accuracy: 0.9970 - val_loss: 0.2954 - val_accuracy: 0.9488\n",
      "Epoch 8/10\n",
      "680/680 [==============================] - 2452s 4s/step - loss: 0.0206 - accuracy: 0.9962 - val_loss: 0.3017 - val_accuracy: 0.9439\n",
      "Epoch 9/10\n",
      "680/680 [==============================] - 2438s 4s/step - loss: 0.0152 - accuracy: 0.9976 - val_loss: 0.3351 - val_accuracy: 0.9434\n",
      "Epoch 10/10\n",
      "680/680 [==============================] - 1706s 3s/step - loss: 0.0129 - accuracy: 0.9978 - val_loss: 0.3256 - val_accuracy: 0.9459\n"
     ]
    },
    {
     "data": {
      "text/plain": [
       "<keras.callbacks.History at 0x7f38906721d0>"
      ]
     },
     "execution_count": 13,
     "metadata": {},
     "output_type": "execute_result"
    }
   ],
   "source": [
    "model.fit(train, validation_data = validation, epochs = 10, callbacks = [es])"
   ]
  },
  {
   "cell_type": "code",
   "execution_count": 14,
   "id": "b1298ac4",
   "metadata": {
    "ExecuteTime": {
     "end_time": "2023-02-14T10:49:30.838256Z",
     "start_time": "2023-02-14T10:49:30.254836Z"
    }
   },
   "outputs": [],
   "source": [
    "model.save(\"Model.h5\")"
   ]
  }
 ],
 "metadata": {
  "kernelspec": {
   "display_name": "Python 3 (ipykernel)",
   "language": "python",
   "name": "python3"
  },
  "language_info": {
   "codemirror_mode": {
    "name": "ipython",
    "version": 3
   },
   "file_extension": ".py",
   "mimetype": "text/x-python",
   "name": "python",
   "nbconvert_exporter": "python",
   "pygments_lexer": "ipython3",
   "version": "3.10.6"
  },
  "varInspector": {
   "cols": {
    "lenName": 16,
    "lenType": 16,
    "lenVar": 40
   },
   "kernels_config": {
    "python": {
     "delete_cmd_postfix": "",
     "delete_cmd_prefix": "del ",
     "library": "var_list.py",
     "varRefreshCmd": "print(var_dic_list())"
    },
    "r": {
     "delete_cmd_postfix": ") ",
     "delete_cmd_prefix": "rm(",
     "library": "var_list.r",
     "varRefreshCmd": "cat(var_dic_list()) "
    }
   },
   "types_to_exclude": [
    "module",
    "function",
    "builtin_function_or_method",
    "instance",
    "_Feature"
   ],
   "window_display": false
  }
 },
 "nbformat": 4,
 "nbformat_minor": 5
}
