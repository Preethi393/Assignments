{
 "cells": [
  {
   "cell_type": "code",
   "execution_count": 1,
   "id": "81210ab4",
   "metadata": {
    "ExecuteTime": {
     "end_time": "2023-01-19T08:39:27.827180Z",
     "start_time": "2023-01-19T08:39:21.163736Z"
    }
   },
   "outputs": [
    {
     "name": "stderr",
     "output_type": "stream",
     "text": [
      "2023-01-19 14:09:23.793314: I tensorflow/core/platform/cpu_feature_guard.cc:193] This TensorFlow binary is optimized with oneAPI Deep Neural Network Library (oneDNN) to use the following CPU instructions in performance-critical operations:  AVX2 FMA\n",
      "To enable them in other operations, rebuild TensorFlow with the appropriate compiler flags.\n",
      "2023-01-19 14:09:24.439512: W tensorflow/compiler/xla/stream_executor/platform/default/dso_loader.cc:64] Could not load dynamic library 'libcudart.so.11.0'; dlerror: libcudart.so.11.0: cannot open shared object file: No such file or directory\n",
      "2023-01-19 14:09:24.439538: I tensorflow/compiler/xla/stream_executor/cuda/cudart_stub.cc:29] Ignore above cudart dlerror if you do not have a GPU set up on your machine.\n",
      "2023-01-19 14:09:26.187280: W tensorflow/compiler/xla/stream_executor/platform/default/dso_loader.cc:64] Could not load dynamic library 'libnvinfer.so.7'; dlerror: libnvinfer.so.7: cannot open shared object file: No such file or directory\n",
      "2023-01-19 14:09:26.187413: W tensorflow/compiler/xla/stream_executor/platform/default/dso_loader.cc:64] Could not load dynamic library 'libnvinfer_plugin.so.7'; dlerror: libnvinfer_plugin.so.7: cannot open shared object file: No such file or directory\n",
      "2023-01-19 14:09:26.187427: W tensorflow/compiler/tf2tensorrt/utils/py_utils.cc:38] TF-TRT Warning: Cannot dlopen some TensorRT libraries. If you would like to use Nvidia GPU with TensorRT, please make sure the missing libraries mentioned above are installed properly.\n"
     ]
    }
   ],
   "source": [
    "# Importing basic libraries\n",
    "import pandas as pd\n",
    "import numpy as np\n",
    "import matplotlib.pyplot as plt\n",
    "\n",
    "import nltk\n",
    "from nltk.corpus import stopwords\n",
    "from nltk.stem.wordnet import WordNetLemmatizer\n",
    "from nltk.tokenize import word_tokenize\n",
    "import re\n",
    "import swifter\n",
    "\n",
    "import tensorflow as tf\n",
    "from tensorflow.keras.models import Sequential\n",
    "from tensorflow.keras.layers import Dense, LSTM, Embedding, Dropout, SpatialDropout1D\n",
    "from tensorflow.keras.callbacks import EarlyStopping\n",
    "from tensorflow.keras.preprocessing import sequence"
   ]
  },
  {
   "cell_type": "code",
   "execution_count": 2,
   "id": "8df8e0f4",
   "metadata": {
    "ExecuteTime": {
     "end_time": "2023-01-19T08:39:28.732794Z",
     "start_time": "2023-01-19T08:39:27.830813Z"
    }
   },
   "outputs": [],
   "source": [
    "cyber = pd.read_csv(\"cybersecurity_tweets.csv\")\n",
    "not_cyber = pd.read_csv(\"not_cybersecurity_tweets.csv\")"
   ]
  },
  {
   "cell_type": "code",
   "execution_count": 3,
   "id": "253775ec",
   "metadata": {
    "ExecuteTime": {
     "end_time": "2023-01-19T08:39:28.749592Z",
     "start_time": "2023-01-19T08:39:28.735293Z"
    }
   },
   "outputs": [],
   "source": [
    "# Use pandas.concat() method to ignore_index \n",
    "df = pd.concat([cyber, not_cyber], ignore_index=True, axis = 0)"
   ]
  },
  {
   "cell_type": "code",
   "execution_count": 4,
   "id": "929078e7",
   "metadata": {
    "ExecuteTime": {
     "end_time": "2023-01-19T08:39:28.776522Z",
     "start_time": "2023-01-19T08:39:28.752828Z"
    }
   },
   "outputs": [
    {
     "data": {
      "text/html": [
       "<div>\n",
       "<style scoped>\n",
       "    .dataframe tbody tr th:only-of-type {\n",
       "        vertical-align: middle;\n",
       "    }\n",
       "\n",
       "    .dataframe tbody tr th {\n",
       "        vertical-align: top;\n",
       "    }\n",
       "\n",
       "    .dataframe thead th {\n",
       "        text-align: right;\n",
       "    }\n",
       "</style>\n",
       "<table border=\"1\" class=\"dataframe\">\n",
       "  <thead>\n",
       "    <tr style=\"text-align: right;\">\n",
       "      <th></th>\n",
       "      <th>text</th>\n",
       "      <th>label</th>\n",
       "    </tr>\n",
       "  </thead>\n",
       "  <tbody>\n",
       "    <tr>\n",
       "      <th>0</th>\n",
       "      <td>#AI Robo-Advisers and the Future of Financial ...</td>\n",
       "      <td>1</td>\n",
       "    </tr>\n",
       "    <tr>\n",
       "      <th>1</th>\n",
       "      <td>Hackers causing havoc on Mexican banking syste...</td>\n",
       "      <td>1</td>\n",
       "    </tr>\n",
       "    <tr>\n",
       "      <th>2</th>\n",
       "      <td>CVE-2019-13127 An issue was discovered in mxGr...</td>\n",
       "      <td>1</td>\n",
       "    </tr>\n",
       "    <tr>\n",
       "      <th>3</th>\n",
       "      <td>How to protect your online identity #labourcyb...</td>\n",
       "      <td>1</td>\n",
       "    </tr>\n",
       "    <tr>\n",
       "      <th>4</th>\n",
       "      <td>Forensic Acquisition - Shadow Cyber Sec  https...</td>\n",
       "      <td>1</td>\n",
       "    </tr>\n",
       "  </tbody>\n",
       "</table>\n",
       "</div>"
      ],
      "text/plain": [
       "                                                text  label\n",
       "0  #AI Robo-Advisers and the Future of Financial ...      1\n",
       "1  Hackers causing havoc on Mexican banking syste...      1\n",
       "2  CVE-2019-13127 An issue was discovered in mxGr...      1\n",
       "3  How to protect your online identity #labourcyb...      1\n",
       "4  Forensic Acquisition - Shadow Cyber Sec  https...      1"
      ]
     },
     "execution_count": 4,
     "metadata": {},
     "output_type": "execute_result"
    }
   ],
   "source": [
    "df.head()"
   ]
  },
  {
   "cell_type": "code",
   "execution_count": 5,
   "id": "b159e60f",
   "metadata": {
    "ExecuteTime": {
     "end_time": "2023-01-19T08:39:28.785671Z",
     "start_time": "2023-01-19T08:39:28.778916Z"
    }
   },
   "outputs": [
    {
     "data": {
      "text/html": [
       "<div>\n",
       "<style scoped>\n",
       "    .dataframe tbody tr th:only-of-type {\n",
       "        vertical-align: middle;\n",
       "    }\n",
       "\n",
       "    .dataframe tbody tr th {\n",
       "        vertical-align: top;\n",
       "    }\n",
       "\n",
       "    .dataframe thead th {\n",
       "        text-align: right;\n",
       "    }\n",
       "</style>\n",
       "<table border=\"1\" class=\"dataframe\">\n",
       "  <thead>\n",
       "    <tr style=\"text-align: right;\">\n",
       "      <th></th>\n",
       "      <th>text</th>\n",
       "      <th>label</th>\n",
       "    </tr>\n",
       "  </thead>\n",
       "  <tbody>\n",
       "    <tr>\n",
       "      <th>399995</th>\n",
       "      <td>Attackers Test Weak Passwords in Purple Fox Ma...</td>\n",
       "      <td>0</td>\n",
       "    </tr>\n",
       "    <tr>\n",
       "      <th>399996</th>\n",
       "      <td>Aviso para los usuarios de correo de @AytoMurc...</td>\n",
       "      <td>0</td>\n",
       "    </tr>\n",
       "    <tr>\n",
       "      <th>399997</th>\n",
       "      <td>NPM had an obfuscated birthday-like easter egg...</td>\n",
       "      <td>0</td>\n",
       "    </tr>\n",
       "    <tr>\n",
       "      <th>399998</th>\n",
       "      <td>CPUの脆弱性「Spectre」に対応してAMDがリリースしたパッチに問題があることをInt...</td>\n",
       "      <td>0</td>\n",
       "    </tr>\n",
       "    <tr>\n",
       "      <th>399999</th>\n",
       "      <td>A new Android banking malware named Octo has a...</td>\n",
       "      <td>0</td>\n",
       "    </tr>\n",
       "  </tbody>\n",
       "</table>\n",
       "</div>"
      ],
      "text/plain": [
       "                                                     text  label\n",
       "399995  Attackers Test Weak Passwords in Purple Fox Ma...      0\n",
       "399996  Aviso para los usuarios de correo de @AytoMurc...      0\n",
       "399997  NPM had an obfuscated birthday-like easter egg...      0\n",
       "399998  CPUの脆弱性「Spectre」に対応してAMDがリリースしたパッチに問題があることをInt...      0\n",
       "399999  A new Android banking malware named Octo has a...      0"
      ]
     },
     "execution_count": 5,
     "metadata": {},
     "output_type": "execute_result"
    }
   ],
   "source": [
    "df.tail()"
   ]
  },
  {
   "cell_type": "code",
   "execution_count": 6,
   "id": "e39dc886",
   "metadata": {
    "ExecuteTime": {
     "end_time": "2023-01-19T08:39:28.794113Z",
     "start_time": "2023-01-19T08:39:28.788361Z"
    }
   },
   "outputs": [
    {
     "data": {
      "text/plain": [
       "(400000, 2)"
      ]
     },
     "execution_count": 6,
     "metadata": {},
     "output_type": "execute_result"
    }
   ],
   "source": [
    "df.shape"
   ]
  },
  {
   "cell_type": "code",
   "execution_count": 7,
   "id": "6ac5fbc0",
   "metadata": {
    "ExecuteTime": {
     "end_time": "2023-01-19T08:39:28.803157Z",
     "start_time": "2023-01-19T08:39:28.796322Z"
    }
   },
   "outputs": [
    {
     "data": {
      "text/plain": [
       "text     object\n",
       "label     int64\n",
       "dtype: object"
      ]
     },
     "execution_count": 7,
     "metadata": {},
     "output_type": "execute_result"
    }
   ],
   "source": [
    "# Datatypes\n",
    "df.dtypes"
   ]
  },
  {
   "cell_type": "code",
   "execution_count": 8,
   "id": "6c736b84",
   "metadata": {
    "ExecuteTime": {
     "end_time": "2023-01-19T08:39:28.948444Z",
     "start_time": "2023-01-19T08:39:28.808037Z"
    }
   },
   "outputs": [
    {
     "name": "stdout",
     "output_type": "stream",
     "text": [
      "<class 'pandas.core.frame.DataFrame'>\n",
      "RangeIndex: 400000 entries, 0 to 399999\n",
      "Data columns (total 2 columns):\n",
      " #   Column  Non-Null Count   Dtype \n",
      "---  ------  --------------   ----- \n",
      " 0   text    400000 non-null  object\n",
      " 1   label   400000 non-null  int64 \n",
      "dtypes: int64(1), object(1)\n",
      "memory usage: 6.1+ MB\n"
     ]
    }
   ],
   "source": [
    "df.info()"
   ]
  },
  {
   "cell_type": "code",
   "execution_count": 9,
   "id": "53f0a605",
   "metadata": {
    "ExecuteTime": {
     "end_time": "2023-01-19T08:39:29.043047Z",
     "start_time": "2023-01-19T08:39:28.950932Z"
    }
   },
   "outputs": [
    {
     "data": {
      "text/plain": [
       "text     0\n",
       "label    0\n",
       "dtype: int64"
      ]
     },
     "execution_count": 9,
     "metadata": {},
     "output_type": "execute_result"
    }
   ],
   "source": [
    "# Checking for null values\n",
    "df.isnull().sum()"
   ]
  },
  {
   "cell_type": "code",
   "execution_count": 10,
   "id": "0ebce66c",
   "metadata": {
    "ExecuteTime": {
     "end_time": "2023-01-19T08:39:29.455866Z",
     "start_time": "2023-01-19T08:39:29.049116Z"
    }
   },
   "outputs": [
    {
     "data": {
      "text/html": [
       "<div>\n",
       "<style scoped>\n",
       "    .dataframe tbody tr th:only-of-type {\n",
       "        vertical-align: middle;\n",
       "    }\n",
       "\n",
       "    .dataframe tbody tr th {\n",
       "        vertical-align: top;\n",
       "    }\n",
       "\n",
       "    .dataframe thead th {\n",
       "        text-align: right;\n",
       "    }\n",
       "</style>\n",
       "<table border=\"1\" class=\"dataframe\">\n",
       "  <thead>\n",
       "    <tr style=\"text-align: right;\">\n",
       "      <th></th>\n",
       "      <th>text</th>\n",
       "      <th>label</th>\n",
       "    </tr>\n",
       "  </thead>\n",
       "  <tbody>\n",
       "    <tr>\n",
       "      <th>473</th>\n",
       "      <td>#programming #programmer #Python #javascript #...</td>\n",
       "      <td>1</td>\n",
       "    </tr>\n",
       "    <tr>\n",
       "      <th>985</th>\n",
       "      <td>#Security #programming  #js #webdev #cybersecu...</td>\n",
       "      <td>1</td>\n",
       "    </tr>\n",
       "    <tr>\n",
       "      <th>1051</th>\n",
       "      <td>#programmer #Python #NodeJS #javascripttflx  #...</td>\n",
       "      <td>1</td>\n",
       "    </tr>\n",
       "    <tr>\n",
       "      <th>1210</th>\n",
       "      <td>The CEO's Critical Role In Driving Cybersecuri...</td>\n",
       "      <td>1</td>\n",
       "    </tr>\n",
       "    <tr>\n",
       "      <th>1240</th>\n",
       "      <td>#Security #programming  #js #webdev #cybersecu...</td>\n",
       "      <td>1</td>\n",
       "    </tr>\n",
       "    <tr>\n",
       "      <th>...</th>\n",
       "      <td>...</td>\n",
       "      <td>...</td>\n",
       "    </tr>\n",
       "    <tr>\n",
       "      <th>399872</th>\n",
       "      <td>#Polyswarm marketplace is a community and netw...</td>\n",
       "      <td>0</td>\n",
       "    </tr>\n",
       "    <tr>\n",
       "      <th>399888</th>\n",
       "      <td>🔌 Unmetered 100Mbps - 40Gbps ⚡ No saturation &amp;...</td>\n",
       "      <td>0</td>\n",
       "    </tr>\n",
       "    <tr>\n",
       "      <th>399930</th>\n",
       "      <td>Malware ve Türleri https://t.co/wFfWW0RCm0 #te...</td>\n",
       "      <td>0</td>\n",
       "    </tr>\n",
       "    <tr>\n",
       "      <th>399935</th>\n",
       "      <td>Cisco connects thousands of journalists to the...</td>\n",
       "      <td>0</td>\n",
       "    </tr>\n",
       "    <tr>\n",
       "      <th>399954</th>\n",
       "      <td>Ataques DDoS: qué son y cómo protegerse de ell...</td>\n",
       "      <td>0</td>\n",
       "    </tr>\n",
       "  </tbody>\n",
       "</table>\n",
       "<p>9838 rows × 2 columns</p>\n",
       "</div>"
      ],
      "text/plain": [
       "                                                     text  label\n",
       "473     #programming #programmer #Python #javascript #...      1\n",
       "985     #Security #programming  #js #webdev #cybersecu...      1\n",
       "1051    #programmer #Python #NodeJS #javascripttflx  #...      1\n",
       "1210    The CEO's Critical Role In Driving Cybersecuri...      1\n",
       "1240    #Security #programming  #js #webdev #cybersecu...      1\n",
       "...                                                   ...    ...\n",
       "399872  #Polyswarm marketplace is a community and netw...      0\n",
       "399888  🔌 Unmetered 100Mbps - 40Gbps ⚡ No saturation &...      0\n",
       "399930  Malware ve Türleri https://t.co/wFfWW0RCm0 #te...      0\n",
       "399935  Cisco connects thousands of journalists to the...      0\n",
       "399954  Ataques DDoS: qué son y cómo protegerse de ell...      0\n",
       "\n",
       "[9838 rows x 2 columns]"
      ]
     },
     "execution_count": 10,
     "metadata": {},
     "output_type": "execute_result"
    }
   ],
   "source": [
    "# Check for duplicates\n",
    "df[df.duplicated()]"
   ]
  },
  {
   "cell_type": "code",
   "execution_count": 11,
   "id": "a3ffb35b",
   "metadata": {
    "ExecuteTime": {
     "end_time": "2023-01-19T08:39:29.820912Z",
     "start_time": "2023-01-19T08:39:29.457715Z"
    }
   },
   "outputs": [
    {
     "data": {
      "text/html": [
       "<div>\n",
       "<style scoped>\n",
       "    .dataframe tbody tr th:only-of-type {\n",
       "        vertical-align: middle;\n",
       "    }\n",
       "\n",
       "    .dataframe tbody tr th {\n",
       "        vertical-align: top;\n",
       "    }\n",
       "\n",
       "    .dataframe thead th {\n",
       "        text-align: right;\n",
       "    }\n",
       "</style>\n",
       "<table border=\"1\" class=\"dataframe\">\n",
       "  <thead>\n",
       "    <tr style=\"text-align: right;\">\n",
       "      <th></th>\n",
       "      <th>text</th>\n",
       "      <th>label</th>\n",
       "    </tr>\n",
       "  </thead>\n",
       "  <tbody>\n",
       "    <tr>\n",
       "      <th>0</th>\n",
       "      <td>#AI Robo-Advisers and the Future of Financial ...</td>\n",
       "      <td>1</td>\n",
       "    </tr>\n",
       "    <tr>\n",
       "      <th>1</th>\n",
       "      <td>Hackers causing havoc on Mexican banking syste...</td>\n",
       "      <td>1</td>\n",
       "    </tr>\n",
       "    <tr>\n",
       "      <th>2</th>\n",
       "      <td>CVE-2019-13127 An issue was discovered in mxGr...</td>\n",
       "      <td>1</td>\n",
       "    </tr>\n",
       "    <tr>\n",
       "      <th>3</th>\n",
       "      <td>How to protect your online identity #labourcyb...</td>\n",
       "      <td>1</td>\n",
       "    </tr>\n",
       "    <tr>\n",
       "      <th>4</th>\n",
       "      <td>Forensic Acquisition - Shadow Cyber Sec  https...</td>\n",
       "      <td>1</td>\n",
       "    </tr>\n",
       "    <tr>\n",
       "      <th>...</th>\n",
       "      <td>...</td>\n",
       "      <td>...</td>\n",
       "    </tr>\n",
       "    <tr>\n",
       "      <th>399995</th>\n",
       "      <td>Attackers Test Weak Passwords in Purple Fox Ma...</td>\n",
       "      <td>0</td>\n",
       "    </tr>\n",
       "    <tr>\n",
       "      <th>399996</th>\n",
       "      <td>Aviso para los usuarios de correo de @AytoMurc...</td>\n",
       "      <td>0</td>\n",
       "    </tr>\n",
       "    <tr>\n",
       "      <th>399997</th>\n",
       "      <td>NPM had an obfuscated birthday-like easter egg...</td>\n",
       "      <td>0</td>\n",
       "    </tr>\n",
       "    <tr>\n",
       "      <th>399998</th>\n",
       "      <td>CPUの脆弱性「Spectre」に対応してAMDがリリースしたパッチに問題があることをInt...</td>\n",
       "      <td>0</td>\n",
       "    </tr>\n",
       "    <tr>\n",
       "      <th>399999</th>\n",
       "      <td>A new Android banking malware named Octo has a...</td>\n",
       "      <td>0</td>\n",
       "    </tr>\n",
       "  </tbody>\n",
       "</table>\n",
       "<p>390162 rows × 2 columns</p>\n",
       "</div>"
      ],
      "text/plain": [
       "                                                     text  label\n",
       "0       #AI Robo-Advisers and the Future of Financial ...      1\n",
       "1       Hackers causing havoc on Mexican banking syste...      1\n",
       "2       CVE-2019-13127 An issue was discovered in mxGr...      1\n",
       "3       How to protect your online identity #labourcyb...      1\n",
       "4       Forensic Acquisition - Shadow Cyber Sec  https...      1\n",
       "...                                                   ...    ...\n",
       "399995  Attackers Test Weak Passwords in Purple Fox Ma...      0\n",
       "399996  Aviso para los usuarios de correo de @AytoMurc...      0\n",
       "399997  NPM had an obfuscated birthday-like easter egg...      0\n",
       "399998  CPUの脆弱性「Spectre」に対応してAMDがリリースしたパッチに問題があることをInt...      0\n",
       "399999  A new Android banking malware named Octo has a...      0\n",
       "\n",
       "[390162 rows x 2 columns]"
      ]
     },
     "execution_count": 11,
     "metadata": {},
     "output_type": "execute_result"
    }
   ],
   "source": [
    "# Drop duplicates\n",
    "df.drop_duplicates(keep='first',inplace= True)\n",
    "df"
   ]
  },
  {
   "cell_type": "markdown",
   "id": "bda0223f",
   "metadata": {},
   "source": [
    "## Data Preprocessing"
   ]
  },
  {
   "cell_type": "code",
   "execution_count": 12,
   "id": "b9aafc35",
   "metadata": {
    "ExecuteTime": {
     "end_time": "2023-01-19T08:39:29.831346Z",
     "start_time": "2023-01-19T08:39:29.823603Z"
    }
   },
   "outputs": [
    {
     "data": {
      "text/plain": [
       "0    195126\n",
       "1    195036\n",
       "Name: label, dtype: int64"
      ]
     },
     "execution_count": 12,
     "metadata": {},
     "output_type": "execute_result"
    }
   ],
   "source": [
    "df['label'].value_counts()"
   ]
  },
  {
   "cell_type": "code",
   "execution_count": 13,
   "id": "80eb8e53",
   "metadata": {
    "ExecuteTime": {
     "end_time": "2023-01-19T08:39:29.961207Z",
     "start_time": "2023-01-19T08:39:29.833237Z"
    }
   },
   "outputs": [
    {
     "data": {
      "image/png": "[encoded data removed]",
      "text/plain": [
       "<Figure size 432x288 with 1 Axes>"
      ]
     },
     "metadata": {},
     "output_type": "display_data"
    }
   ],
   "source": [
    "plt.pie(df['label'].value_counts(),labels=['NotCyberSecurityTweets','CyberSecurityTweets'],autopct='%0.2f')\n",
    "plt.show()"
   ]
  },
  {
   "cell_type": "markdown",
   "id": "e8af9dac",
   "metadata": {},
   "source": [
    "## TEXT PROCESSING (Clean, Tokenize and Normalise)"
   ]
  },
  {
   "cell_type": "code",
   "execution_count": 14,
   "id": "99dcd159",
   "metadata": {
    "ExecuteTime": {
     "end_time": "2023-01-19T08:39:29.974190Z",
     "start_time": "2023-01-19T08:39:29.963807Z"
    }
   },
   "outputs": [],
   "source": [
    "STOPWORDS=set(stopwords.words('english'))\n",
    "lemmatizer= WordNetLemmatizer()\n",
    "\n",
    "def tokenize(text):\n",
    "    \n",
    "   #1. Remove links\n",
    "    text = re.sub(r\"http\\S+\", \"\", text)\n",
    "\n",
    "   #2. Normalize the data by converting to lower case and removing punctuations\n",
    "    text = re.sub(\"[^a-zA-Z]\", \" \", text.lower())\n",
    "    \n",
    "   #3. Tokenizing: split text into words\n",
    "    tokens = word_tokenize(text)\n",
    "   \n",
    "   #4. Remove stop words\n",
    "    words = [w for w in tokens if w not in STOPWORDS]\n",
    "    \n",
    "    #5. Lemmatize \n",
    "    lemmed_words = [lemmatizer.lemmatize(w) for w in words]\n",
    "    \n",
    "    clean_tokens = []\n",
    "    \n",
    "    for i in lemmed_words:\n",
    "        clean_tokens.append(i)\n",
    "        \n",
    "        ## back to string from list\n",
    "    text = \" \".join(clean_tokens)\n",
    "    return text"
   ]
  },
  {
   "cell_type": "code",
   "execution_count": 15,
   "id": "f599ac76",
   "metadata": {
    "ExecuteTime": {
     "end_time": "2023-01-19T08:40:56.361012Z",
     "start_time": "2023-01-19T08:39:29.977183Z"
    }
   },
   "outputs": [
    {
     "data": {
      "application/vnd.jupyter.widget-view+json": {
       "model_id": "f961026776144e82a8e6fda09a362570",
       "version_major": 2,
       "version_minor": 0
      },
      "text/plain": [
       "Pandas Apply:   0%|          | 0/390162 [00:00<?, ?it/s]"
      ]
     },
     "metadata": {},
     "output_type": "display_data"
    }
   ],
   "source": [
    "df['Cleantext'] = df['text'].swifter.apply(lambda x: tokenize(x))"
   ]
  },
  {
   "cell_type": "code",
   "execution_count": 16,
   "id": "997bf5fe",
   "metadata": {
    "ExecuteTime": {
     "end_time": "2023-01-19T08:40:56.373076Z",
     "start_time": "2023-01-19T08:40:56.363988Z"
    }
   },
   "outputs": [
    {
     "data": {
      "text/html": [
       "<div>\n",
       "<style scoped>\n",
       "    .dataframe tbody tr th:only-of-type {\n",
       "        vertical-align: middle;\n",
       "    }\n",
       "\n",
       "    .dataframe tbody tr th {\n",
       "        vertical-align: top;\n",
       "    }\n",
       "\n",
       "    .dataframe thead th {\n",
       "        text-align: right;\n",
       "    }\n",
       "</style>\n",
       "<table border=\"1\" class=\"dataframe\">\n",
       "  <thead>\n",
       "    <tr style=\"text-align: right;\">\n",
       "      <th></th>\n",
       "      <th>text</th>\n",
       "      <th>label</th>\n",
       "      <th>Cleantext</th>\n",
       "    </tr>\n",
       "  </thead>\n",
       "  <tbody>\n",
       "    <tr>\n",
       "      <th>0</th>\n",
       "      <td>#AI Robo-Advisers and the Future of Financial ...</td>\n",
       "      <td>1</td>\n",
       "      <td>ai robo adviser future financial advice datapr...</td>\n",
       "    </tr>\n",
       "    <tr>\n",
       "      <th>1</th>\n",
       "      <td>Hackers causing havoc on Mexican banking syste...</td>\n",
       "      <td>1</td>\n",
       "      <td>hacker causing havoc mexican banking system cy...</td>\n",
       "    </tr>\n",
       "    <tr>\n",
       "      <th>2</th>\n",
       "      <td>CVE-2019-13127 An issue was discovered in mxGr...</td>\n",
       "      <td>1</td>\n",
       "      <td>cve issue discovered mxgraph related diagram p...</td>\n",
       "    </tr>\n",
       "    <tr>\n",
       "      <th>3</th>\n",
       "      <td>How to protect your online identity #labourcyb...</td>\n",
       "      <td>1</td>\n",
       "      <td>protect online identity labourcyberattack cybe...</td>\n",
       "    </tr>\n",
       "    <tr>\n",
       "      <th>4</th>\n",
       "      <td>Forensic Acquisition - Shadow Cyber Sec  https...</td>\n",
       "      <td>1</td>\n",
       "      <td>forensic acquisition shadow cyber sec cybersec...</td>\n",
       "    </tr>\n",
       "  </tbody>\n",
       "</table>\n",
       "</div>"
      ],
      "text/plain": [
       "                                                text  label  \\\n",
       "0  #AI Robo-Advisers and the Future of Financial ...      1   \n",
       "1  Hackers causing havoc on Mexican banking syste...      1   \n",
       "2  CVE-2019-13127 An issue was discovered in mxGr...      1   \n",
       "3  How to protect your online identity #labourcyb...      1   \n",
       "4  Forensic Acquisition - Shadow Cyber Sec  https...      1   \n",
       "\n",
       "                                           Cleantext  \n",
       "0  ai robo adviser future financial advice datapr...  \n",
       "1  hacker causing havoc mexican banking system cy...  \n",
       "2  cve issue discovered mxgraph related diagram p...  \n",
       "3  protect online identity labourcyberattack cybe...  \n",
       "4  forensic acquisition shadow cyber sec cybersec...  "
      ]
     },
     "execution_count": 16,
     "metadata": {},
     "output_type": "execute_result"
    }
   ],
   "source": [
    "df.head()"
   ]
  },
  {
   "cell_type": "code",
   "execution_count": 17,
   "id": "25052008",
   "metadata": {
    "ExecuteTime": {
     "end_time": "2023-01-19T08:40:56.398390Z",
     "start_time": "2023-01-19T08:40:56.377355Z"
    }
   },
   "outputs": [],
   "source": [
    "# dropping uncleaned data in the dataframe\n",
    "df.drop(columns='text',inplace=True)"
   ]
  },
  {
   "cell_type": "code",
   "execution_count": 18,
   "id": "032ee484",
   "metadata": {
    "ExecuteTime": {
     "end_time": "2023-01-19T08:40:56.411614Z",
     "start_time": "2023-01-19T08:40:56.400742Z"
    }
   },
   "outputs": [
    {
     "data": {
      "text/html": [
       "<div>\n",
       "<style scoped>\n",
       "    .dataframe tbody tr th:only-of-type {\n",
       "        vertical-align: middle;\n",
       "    }\n",
       "\n",
       "    .dataframe tbody tr th {\n",
       "        vertical-align: top;\n",
       "    }\n",
       "\n",
       "    .dataframe thead th {\n",
       "        text-align: right;\n",
       "    }\n",
       "</style>\n",
       "<table border=\"1\" class=\"dataframe\">\n",
       "  <thead>\n",
       "    <tr style=\"text-align: right;\">\n",
       "      <th></th>\n",
       "      <th>label</th>\n",
       "      <th>Cleantext</th>\n",
       "    </tr>\n",
       "  </thead>\n",
       "  <tbody>\n",
       "    <tr>\n",
       "      <th>0</th>\n",
       "      <td>1</td>\n",
       "      <td>ai robo adviser future financial advice datapr...</td>\n",
       "    </tr>\n",
       "    <tr>\n",
       "      <th>1</th>\n",
       "      <td>1</td>\n",
       "      <td>hacker causing havoc mexican banking system cy...</td>\n",
       "    </tr>\n",
       "    <tr>\n",
       "      <th>2</th>\n",
       "      <td>1</td>\n",
       "      <td>cve issue discovered mxgraph related diagram p...</td>\n",
       "    </tr>\n",
       "    <tr>\n",
       "      <th>3</th>\n",
       "      <td>1</td>\n",
       "      <td>protect online identity labourcyberattack cybe...</td>\n",
       "    </tr>\n",
       "    <tr>\n",
       "      <th>4</th>\n",
       "      <td>1</td>\n",
       "      <td>forensic acquisition shadow cyber sec cybersec...</td>\n",
       "    </tr>\n",
       "    <tr>\n",
       "      <th>...</th>\n",
       "      <td>...</td>\n",
       "      <td>...</td>\n",
       "    </tr>\n",
       "    <tr>\n",
       "      <th>399995</th>\n",
       "      <td>0</td>\n",
       "      <td>attacker test weak password purple fox malware...</td>\n",
       "    </tr>\n",
       "    <tr>\n",
       "      <th>399996</th>\n",
       "      <td>0</td>\n",
       "      <td>aviso para los usuarios de correo de aytomurci...</td>\n",
       "    </tr>\n",
       "    <tr>\n",
       "      <th>399997</th>\n",
       "      <td>0</td>\n",
       "      <td>npm obfuscated birthday like easter egg mistak...</td>\n",
       "    </tr>\n",
       "    <tr>\n",
       "      <th>399998</th>\n",
       "      <td>0</td>\n",
       "      <td>cpu spectre amd intel gigazine intelcpu</td>\n",
       "    </tr>\n",
       "    <tr>\n",
       "      <th>399999</th>\n",
       "      <td>0</td>\n",
       "      <td>new android banking malware named octo appeare...</td>\n",
       "    </tr>\n",
       "  </tbody>\n",
       "</table>\n",
       "<p>390162 rows × 2 columns</p>\n",
       "</div>"
      ],
      "text/plain": [
       "        label                                          Cleantext\n",
       "0           1  ai robo adviser future financial advice datapr...\n",
       "1           1  hacker causing havoc mexican banking system cy...\n",
       "2           1  cve issue discovered mxgraph related diagram p...\n",
       "3           1  protect online identity labourcyberattack cybe...\n",
       "4           1  forensic acquisition shadow cyber sec cybersec...\n",
       "...       ...                                                ...\n",
       "399995      0  attacker test weak password purple fox malware...\n",
       "399996      0  aviso para los usuarios de correo de aytomurci...\n",
       "399997      0  npm obfuscated birthday like easter egg mistak...\n",
       "399998      0            cpu spectre amd intel gigazine intelcpu\n",
       "399999      0  new android banking malware named octo appeare...\n",
       "\n",
       "[390162 rows x 2 columns]"
      ]
     },
     "execution_count": 18,
     "metadata": {},
     "output_type": "execute_result"
    }
   ],
   "source": [
    "df"
   ]
  },
  {
   "cell_type": "code",
   "execution_count": 19,
   "id": "07b218e8",
   "metadata": {
    "ExecuteTime": {
     "end_time": "2023-01-19T08:40:56.686517Z",
     "start_time": "2023-01-19T08:40:56.414335Z"
    }
   },
   "outputs": [
    {
     "data": {
      "text/html": [
       "<div>\n",
       "<style scoped>\n",
       "    .dataframe tbody tr th:only-of-type {\n",
       "        vertical-align: middle;\n",
       "    }\n",
       "\n",
       "    .dataframe tbody tr th {\n",
       "        vertical-align: top;\n",
       "    }\n",
       "\n",
       "    .dataframe thead th {\n",
       "        text-align: right;\n",
       "    }\n",
       "</style>\n",
       "<table border=\"1\" class=\"dataframe\">\n",
       "  <thead>\n",
       "    <tr style=\"text-align: right;\">\n",
       "      <th></th>\n",
       "      <th>label</th>\n",
       "      <th>Cleantext</th>\n",
       "    </tr>\n",
       "  </thead>\n",
       "  <tbody>\n",
       "    <tr>\n",
       "      <th>76</th>\n",
       "      <td>1</td>\n",
       "      <td>cobalt stike beacon detected uncategorized cyb...</td>\n",
       "    </tr>\n",
       "    <tr>\n",
       "      <th>131</th>\n",
       "      <td>1</td>\n",
       "      <td>cobalt stike beacon detected uncategorized cyb...</td>\n",
       "    </tr>\n",
       "    <tr>\n",
       "      <th>185</th>\n",
       "      <td>1</td>\n",
       "      <td>cobalt stike beacon detected uncategorized cyb...</td>\n",
       "    </tr>\n",
       "    <tr>\n",
       "      <th>233</th>\n",
       "      <td>1</td>\n",
       "      <td>cobalt stike beacon detected uncategorized cyb...</td>\n",
       "    </tr>\n",
       "    <tr>\n",
       "      <th>361</th>\n",
       "      <td>1</td>\n",
       "      <td>cobalt stike beacon detected uncategorized cyb...</td>\n",
       "    </tr>\n",
       "    <tr>\n",
       "      <th>...</th>\n",
       "      <td>...</td>\n",
       "      <td>...</td>\n",
       "    </tr>\n",
       "    <tr>\n",
       "      <th>399988</th>\n",
       "      <td>0</td>\n",
       "      <td>ddos attempt hit russia ukraine conflict inten...</td>\n",
       "    </tr>\n",
       "    <tr>\n",
       "      <th>399991</th>\n",
       "      <td>0</td>\n",
       "      <td>since pandemic orgs moved cloud based activity...</td>\n",
       "    </tr>\n",
       "    <tr>\n",
       "      <th>399992</th>\n",
       "      <td>0</td>\n",
       "      <td>polyswarm marketplace community network detect...</td>\n",
       "    </tr>\n",
       "    <tr>\n",
       "      <th>399994</th>\n",
       "      <td>0</td>\n",
       "      <td>receive free year ddos mitigation service sign...</td>\n",
       "    </tr>\n",
       "    <tr>\n",
       "      <th>399995</th>\n",
       "      <td>0</td>\n",
       "      <td>attacker test weak password purple fox malware...</td>\n",
       "    </tr>\n",
       "  </tbody>\n",
       "</table>\n",
       "<p>90145 rows × 2 columns</p>\n",
       "</div>"
      ],
      "text/plain": [
       "        label                                          Cleantext\n",
       "76          1  cobalt stike beacon detected uncategorized cyb...\n",
       "131         1  cobalt stike beacon detected uncategorized cyb...\n",
       "185         1  cobalt stike beacon detected uncategorized cyb...\n",
       "233         1  cobalt stike beacon detected uncategorized cyb...\n",
       "361         1  cobalt stike beacon detected uncategorized cyb...\n",
       "...       ...                                                ...\n",
       "399988      0  ddos attempt hit russia ukraine conflict inten...\n",
       "399991      0  since pandemic orgs moved cloud based activity...\n",
       "399992      0  polyswarm marketplace community network detect...\n",
       "399994      0  receive free year ddos mitigation service sign...\n",
       "399995      0  attacker test weak password purple fox malware...\n",
       "\n",
       "[90145 rows x 2 columns]"
      ]
     },
     "execution_count": 19,
     "metadata": {},
     "output_type": "execute_result"
    }
   ],
   "source": [
    "# Check for duplicates\n",
    "df[df.duplicated()]"
   ]
  },
  {
   "cell_type": "code",
   "execution_count": 20,
   "id": "aa49ac7a",
   "metadata": {
    "ExecuteTime": {
     "end_time": "2023-01-19T08:40:56.975303Z",
     "start_time": "2023-01-19T08:40:56.689196Z"
    }
   },
   "outputs": [],
   "source": [
    "#dropping the duplicates\n",
    "df.drop_duplicates(inplace = True)"
   ]
  },
  {
   "cell_type": "code",
   "execution_count": 21,
   "id": "e37de9f6",
   "metadata": {
    "ExecuteTime": {
     "end_time": "2023-01-19T08:40:56.994354Z",
     "start_time": "2023-01-19T08:40:56.978785Z"
    }
   },
   "outputs": [
    {
     "data": {
      "text/plain": [
       "'forensic acquisition shadow cyber sec cybersecurity internetofthings programmer webdevelopment kalilinux linux forensics digitalevidence digitalforensics itsecurity imageforensics shadowcybersec'"
      ]
     },
     "execution_count": 21,
     "metadata": {},
     "output_type": "execute_result"
    }
   ],
   "source": [
    "df['Cleantext'][4]"
   ]
  },
  {
   "cell_type": "code",
   "execution_count": 22,
   "id": "51490a64",
   "metadata": {
    "ExecuteTime": {
     "end_time": "2023-01-19T08:40:57.010522Z",
     "start_time": "2023-01-19T08:40:56.997814Z"
    }
   },
   "outputs": [
    {
     "data": {
      "text/html": [
       "<div>\n",
       "<style scoped>\n",
       "    .dataframe tbody tr th:only-of-type {\n",
       "        vertical-align: middle;\n",
       "    }\n",
       "\n",
       "    .dataframe tbody tr th {\n",
       "        vertical-align: top;\n",
       "    }\n",
       "\n",
       "    .dataframe thead th {\n",
       "        text-align: right;\n",
       "    }\n",
       "</style>\n",
       "<table border=\"1\" class=\"dataframe\">\n",
       "  <thead>\n",
       "    <tr style=\"text-align: right;\">\n",
       "      <th></th>\n",
       "      <th>label</th>\n",
       "      <th>Cleantext</th>\n",
       "    </tr>\n",
       "  </thead>\n",
       "  <tbody>\n",
       "    <tr>\n",
       "      <th>0</th>\n",
       "      <td>1</td>\n",
       "      <td>ai robo adviser future financial advice datapr...</td>\n",
       "    </tr>\n",
       "    <tr>\n",
       "      <th>1</th>\n",
       "      <td>1</td>\n",
       "      <td>hacker causing havoc mexican banking system cy...</td>\n",
       "    </tr>\n",
       "    <tr>\n",
       "      <th>2</th>\n",
       "      <td>1</td>\n",
       "      <td>cve issue discovered mxgraph related diagram p...</td>\n",
       "    </tr>\n",
       "    <tr>\n",
       "      <th>3</th>\n",
       "      <td>1</td>\n",
       "      <td>protect online identity labourcyberattack cybe...</td>\n",
       "    </tr>\n",
       "    <tr>\n",
       "      <th>4</th>\n",
       "      <td>1</td>\n",
       "      <td>forensic acquisition shadow cyber sec cybersec...</td>\n",
       "    </tr>\n",
       "    <tr>\n",
       "      <th>...</th>\n",
       "      <td>...</td>\n",
       "      <td>...</td>\n",
       "    </tr>\n",
       "    <tr>\n",
       "      <th>399993</th>\n",
       "      <td>0</td>\n",
       "      <td>creating company data breach response plan dat...</td>\n",
       "    </tr>\n",
       "    <tr>\n",
       "      <th>399996</th>\n",
       "      <td>0</td>\n",
       "      <td>aviso para los usuarios de correo de aytomurci...</td>\n",
       "    </tr>\n",
       "    <tr>\n",
       "      <th>399997</th>\n",
       "      <td>0</td>\n",
       "      <td>npm obfuscated birthday like easter egg mistak...</td>\n",
       "    </tr>\n",
       "    <tr>\n",
       "      <th>399998</th>\n",
       "      <td>0</td>\n",
       "      <td>cpu spectre amd intel gigazine intelcpu</td>\n",
       "    </tr>\n",
       "    <tr>\n",
       "      <th>399999</th>\n",
       "      <td>0</td>\n",
       "      <td>new android banking malware named octo appeare...</td>\n",
       "    </tr>\n",
       "  </tbody>\n",
       "</table>\n",
       "<p>300017 rows × 2 columns</p>\n",
       "</div>"
      ],
      "text/plain": [
       "        label                                          Cleantext\n",
       "0           1  ai robo adviser future financial advice datapr...\n",
       "1           1  hacker causing havoc mexican banking system cy...\n",
       "2           1  cve issue discovered mxgraph related diagram p...\n",
       "3           1  protect online identity labourcyberattack cybe...\n",
       "4           1  forensic acquisition shadow cyber sec cybersec...\n",
       "...       ...                                                ...\n",
       "399993      0  creating company data breach response plan dat...\n",
       "399996      0  aviso para los usuarios de correo de aytomurci...\n",
       "399997      0  npm obfuscated birthday like easter egg mistak...\n",
       "399998      0            cpu spectre amd intel gigazine intelcpu\n",
       "399999      0  new android banking malware named octo appeare...\n",
       "\n",
       "[300017 rows x 2 columns]"
      ]
     },
     "execution_count": 22,
     "metadata": {},
     "output_type": "execute_result"
    }
   ],
   "source": [
    "df"
   ]
  },
  {
   "cell_type": "code",
   "execution_count": 23,
   "id": "ec8970fe",
   "metadata": {
    "ExecuteTime": {
     "end_time": "2023-01-19T08:40:57.038554Z",
     "start_time": "2023-01-19T08:40:57.014362Z"
    }
   },
   "outputs": [],
   "source": [
    "X = df.drop('label',axis=1)\n",
    "y = df['label']"
   ]
  },
  {
   "cell_type": "code",
   "execution_count": 24,
   "id": "dafea0a8",
   "metadata": {
    "ExecuteTime": {
     "end_time": "2023-01-19T08:40:57.052109Z",
     "start_time": "2023-01-19T08:40:57.042216Z"
    }
   },
   "outputs": [
    {
     "data": {
      "text/html": [
       "<div>\n",
       "<style scoped>\n",
       "    .dataframe tbody tr th:only-of-type {\n",
       "        vertical-align: middle;\n",
       "    }\n",
       "\n",
       "    .dataframe tbody tr th {\n",
       "        vertical-align: top;\n",
       "    }\n",
       "\n",
       "    .dataframe thead th {\n",
       "        text-align: right;\n",
       "    }\n",
       "</style>\n",
       "<table border=\"1\" class=\"dataframe\">\n",
       "  <thead>\n",
       "    <tr style=\"text-align: right;\">\n",
       "      <th></th>\n",
       "      <th>Cleantext</th>\n",
       "    </tr>\n",
       "  </thead>\n",
       "  <tbody>\n",
       "    <tr>\n",
       "      <th>0</th>\n",
       "      <td>ai robo adviser future financial advice datapr...</td>\n",
       "    </tr>\n",
       "    <tr>\n",
       "      <th>1</th>\n",
       "      <td>hacker causing havoc mexican banking system cy...</td>\n",
       "    </tr>\n",
       "    <tr>\n",
       "      <th>2</th>\n",
       "      <td>cve issue discovered mxgraph related diagram p...</td>\n",
       "    </tr>\n",
       "    <tr>\n",
       "      <th>3</th>\n",
       "      <td>protect online identity labourcyberattack cybe...</td>\n",
       "    </tr>\n",
       "    <tr>\n",
       "      <th>4</th>\n",
       "      <td>forensic acquisition shadow cyber sec cybersec...</td>\n",
       "    </tr>\n",
       "  </tbody>\n",
       "</table>\n",
       "</div>"
      ],
      "text/plain": [
       "                                           Cleantext\n",
       "0  ai robo adviser future financial advice datapr...\n",
       "1  hacker causing havoc mexican banking system cy...\n",
       "2  cve issue discovered mxgraph related diagram p...\n",
       "3  protect online identity labourcyberattack cybe...\n",
       "4  forensic acquisition shadow cyber sec cybersec..."
      ]
     },
     "execution_count": 24,
     "metadata": {},
     "output_type": "execute_result"
    }
   ],
   "source": [
    "X.head()"
   ]
  },
  {
   "cell_type": "code",
   "execution_count": 25,
   "id": "672e278b",
   "metadata": {
    "ExecuteTime": {
     "end_time": "2023-01-19T08:40:57.062327Z",
     "start_time": "2023-01-19T08:40:57.055367Z"
    }
   },
   "outputs": [
    {
     "data": {
      "text/plain": [
       "0    1\n",
       "1    1\n",
       "2    1\n",
       "3    1\n",
       "4    1\n",
       "Name: label, dtype: int64"
      ]
     },
     "execution_count": 25,
     "metadata": {},
     "output_type": "execute_result"
    }
   ],
   "source": [
    "y.head()"
   ]
  },
  {
   "cell_type": "markdown",
   "id": "2720d18a",
   "metadata": {},
   "source": [
    "## Split the dataset into Training and Testing datasets"
   ]
  },
  {
   "cell_type": "code",
   "execution_count": 26,
   "id": "579b35ab",
   "metadata": {
    "ExecuteTime": {
     "end_time": "2023-01-19T08:40:57.181428Z",
     "start_time": "2023-01-19T08:40:57.066048Z"
    }
   },
   "outputs": [],
   "source": [
    "from sklearn.model_selection import train_test_split\n",
    "\n",
    "X_train,X_test,y_train,y_test = train_test_split(X['Cleantext'], y, test_size=0.2,random_state = 42)"
   ]
  },
  {
   "cell_type": "markdown",
   "id": "e8648038",
   "metadata": {},
   "source": [
    "## Tokenization"
   ]
  },
  {
   "cell_type": "code",
   "execution_count": 27,
   "id": "39aba75a",
   "metadata": {
    "ExecuteTime": {
     "end_time": "2023-01-19T08:40:57.188711Z",
     "start_time": "2023-01-19T08:40:57.184859Z"
    }
   },
   "outputs": [],
   "source": [
    "# Defining pre-processing parameters\n",
    "max_len = 50 \n",
    "trunc_type = 'post'\n",
    "padding_type = 'post'\n",
    "oov_tok = '<OOV>' # out of vocabulary token\n",
    "vocab_size = 500"
   ]
  },
  {
   "cell_type": "code",
   "execution_count": 28,
   "id": "3a7d3a63",
   "metadata": {
    "ExecuteTime": {
     "end_time": "2023-01-19T08:41:02.118306Z",
     "start_time": "2023-01-19T08:40:57.202434Z"
    }
   },
   "outputs": [],
   "source": [
    "from keras.preprocessing.text import Tokenizer\n",
    "\n",
    "tokenizer = Tokenizer(num_words = vocab_size, \n",
    "                      char_level = False,\n",
    "                      oov_token = oov_tok)\n",
    "tokenizer.fit_on_texts(X_train)"
   ]
  },
  {
   "cell_type": "code",
   "execution_count": 29,
   "id": "1600e5c4",
   "metadata": {
    "ExecuteTime": {
     "end_time": "2023-01-19T08:41:02.355783Z",
     "start_time": "2023-01-19T08:41:02.120813Z"
    }
   },
   "outputs": [],
   "source": [
    "#saving tokenizer\n",
    "import pickle\n",
    "\n",
    "# saving\n",
    "with open('tokenizer.pickle', 'wb') as handle:\n",
    "    pickle.dump(tokenizer, handle, protocol=pickle.HIGHEST_PROTOCOL)"
   ]
  },
  {
   "cell_type": "code",
   "execution_count": 30,
   "id": "31d4394b",
   "metadata": {
    "ExecuteTime": {
     "end_time": "2023-01-19T08:41:02.364410Z",
     "start_time": "2023-01-19T08:41:02.358620Z"
    }
   },
   "outputs": [
    {
     "data": {
      "text/plain": [
       "198244"
      ]
     },
     "execution_count": 30,
     "metadata": {},
     "output_type": "execute_result"
    }
   ],
   "source": [
    "# Get the word_index\n",
    "word_index = tokenizer.word_index\n",
    "total_words = len(word_index)\n",
    "total_words"
   ]
  },
  {
   "cell_type": "markdown",
   "id": "516acfdd",
   "metadata": {},
   "source": [
    "## Sequence and padding"
   ]
  },
  {
   "cell_type": "code",
   "execution_count": 31,
   "id": "41c3826b",
   "metadata": {
    "ExecuteTime": {
     "end_time": "2023-01-19T08:41:02.380712Z",
     "start_time": "2023-01-19T08:41:02.366585Z"
    }
   },
   "outputs": [],
   "source": [
    "#importing pad sequences for \n",
    "from tensorflow.keras.preprocessing.sequence import pad_sequences"
   ]
  },
  {
   "cell_type": "code",
   "execution_count": 32,
   "id": "c3808120",
   "metadata": {
    "ExecuteTime": {
     "end_time": "2023-01-19T08:41:06.280902Z",
     "start_time": "2023-01-19T08:41:02.383730Z"
    }
   },
   "outputs": [],
   "source": [
    "#representing  each sentence by sequences of numbers using texts_to_sequencesfrom Tokenizer object\n",
    "#for train data\n",
    "training_sequences = tokenizer.texts_to_sequences(X_train)\n",
    "training_padded = pad_sequences(training_sequences,\n",
    "                                maxlen = max_len,\n",
    "                                padding = padding_type,\n",
    "                                truncating = trunc_type)"
   ]
  },
  {
   "cell_type": "code",
   "execution_count": 33,
   "id": "cc90b8e4",
   "metadata": {
    "ExecuteTime": {
     "end_time": "2023-01-19T08:41:07.235724Z",
     "start_time": "2023-01-19T08:41:06.283662Z"
    }
   },
   "outputs": [],
   "source": [
    "# for test data\n",
    "testing_sequences = tokenizer.texts_to_sequences(X_test)\n",
    "testing_padded = pad_sequences(testing_sequences,\n",
    "                               maxlen = max_len,\n",
    "                               padding = padding_type,\n",
    "                               truncating = trunc_type)"
   ]
  },
  {
   "cell_type": "code",
   "execution_count": 34,
   "id": "3742eac5",
   "metadata": {
    "ExecuteTime": {
     "end_time": "2023-01-19T08:41:07.242816Z",
     "start_time": "2023-01-19T08:41:07.238447Z"
    }
   },
   "outputs": [
    {
     "name": "stdout",
     "output_type": "stream",
     "text": [
      "Shape of training tensor:  (240013, 50)\n",
      "Shape of testing tensor:  (60004, 50)\n"
     ]
    }
   ],
   "source": [
    "#The shape of training and testing padded (tensor):\n",
    "print('Shape of training tensor: ', training_padded.shape)\n",
    "print('Shape of testing tensor: ', testing_padded.shape)"
   ]
  },
  {
   "cell_type": "markdown",
   "id": "b675e3a7",
   "metadata": {},
   "source": [
    "## Model Building"
   ]
  },
  {
   "cell_type": "code",
   "execution_count": 35,
   "id": "02d88b9a",
   "metadata": {
    "ExecuteTime": {
     "end_time": "2023-01-19T08:41:07.674337Z",
     "start_time": "2023-01-19T08:41:07.245540Z"
    },
    "scrolled": false
   },
   "outputs": [
    {
     "name": "stderr",
     "output_type": "stream",
     "text": [
      "2023-01-19 14:11:07.267729: W tensorflow/compiler/xla/stream_executor/platform/default/dso_loader.cc:64] Could not load dynamic library 'libcuda.so.1'; dlerror: libcuda.so.1: cannot open shared object file: No such file or directory\n",
      "2023-01-19 14:11:07.268726: W tensorflow/compiler/xla/stream_executor/cuda/cuda_driver.cc:265] failed call to cuInit: UNKNOWN ERROR (303)\n",
      "2023-01-19 14:11:07.268762: I tensorflow/compiler/xla/stream_executor/cuda/cuda_diagnostics.cc:156] kernel driver does not appear to be running on this host (ubuntu-Zako): /proc/driver/nvidia/version does not exist\n",
      "2023-01-19 14:11:07.269717: I tensorflow/core/platform/cpu_feature_guard.cc:193] This TensorFlow binary is optimized with oneAPI Deep Neural Network Library (oneDNN) to use the following CPU instructions in performance-critical operations:  AVX2 FMA\n",
      "To enable them in other operations, rebuild TensorFlow with the appropriate compiler flags.\n"
     ]
    }
   ],
   "source": [
    "# Define parameter\n",
    "embedding_dim = 16\n",
    "drop_value = 0.2\n",
    "n_dense = 24\n",
    "n_lstm = 128\n",
    "drop_lstm = 0.2\n",
    "\n",
    "# Define LSTM Model \n",
    "model1 = Sequential()\n",
    "model1.add(Embedding(vocab_size, embedding_dim, input_length=max_len))\n",
    "model1.add(SpatialDropout1D(drop_lstm))\n",
    "model1.add(LSTM(n_lstm, return_sequences=False))\n",
    "model1.add(Dropout(drop_lstm))\n",
    "model1.add(Dense(1, activation='sigmoid'))"
   ]
  },
  {
   "cell_type": "code",
   "execution_count": 67,
   "id": "96f0cde0",
   "metadata": {
    "ExecuteTime": {
     "end_time": "2023-01-19T10:00:15.754225Z",
     "start_time": "2023-01-19T10:00:15.732164Z"
    }
   },
   "outputs": [
    {
     "name": "stdout",
     "output_type": "stream",
     "text": [
      "Model: \"sequential\"\n",
      "_________________________________________________________________\n",
      " Layer (type)                Output Shape              Param #   \n",
      "=================================================================\n",
      " embedding (Embedding)       (None, 50, 16)            8000      \n",
      "                                                                 \n",
      " spatial_dropout1d (SpatialD  (None, 50, 16)           0         \n",
      " ropout1D)                                                       \n",
      "                                                                 \n",
      " lstm (LSTM)                 (None, 128)               74240     \n",
      "                                                                 \n",
      " dropout (Dropout)           (None, 128)               0         \n",
      "                                                                 \n",
      " dense (Dense)               (None, 1)                 129       \n",
      "                                                                 \n",
      "=================================================================\n",
      "Total params: 82,369\n",
      "Trainable params: 82,369\n",
      "Non-trainable params: 0\n",
      "_________________________________________________________________\n"
     ]
    }
   ],
   "source": [
    "model1.summary()"
   ]
  },
  {
   "cell_type": "code",
   "execution_count": 36,
   "id": "bb7e68c5",
   "metadata": {
    "ExecuteTime": {
     "end_time": "2023-01-19T08:41:07.689798Z",
     "start_time": "2023-01-19T08:41:07.676642Z"
    }
   },
   "outputs": [],
   "source": [
    "# Compile the model\n",
    "model1.compile(loss = 'binary_crossentropy',\n",
    "               optimizer = 'adam',\n",
    "               metrics = ['accuracy'])"
   ]
  },
  {
   "cell_type": "code",
   "execution_count": 37,
   "id": "79f32978",
   "metadata": {
    "ExecuteTime": {
     "end_time": "2023-01-19T09:40:46.526001Z",
     "start_time": "2023-01-19T08:41:07.692709Z"
    },
    "scrolled": false
   },
   "outputs": [
    {
     "name": "stdout",
     "output_type": "stream",
     "text": [
      "Epoch 1/10\n",
      "7501/7501 - 344s - loss: 0.1149 - accuracy: 0.9652 - val_loss: 0.0953 - val_accuracy: 0.9745 - 344s/epoch - 46ms/step\n",
      "Epoch 2/10\n",
      "7501/7501 - 382s - loss: 0.0832 - accuracy: 0.9746 - val_loss: 0.0756 - val_accuracy: 0.9749 - 382s/epoch - 51ms/step\n",
      "Epoch 3/10\n",
      "7501/7501 - 372s - loss: 0.0741 - accuracy: 0.9758 - val_loss: 0.0714 - val_accuracy: 0.9761 - 372s/epoch - 50ms/step\n",
      "Epoch 4/10\n",
      "7501/7501 - 335s - loss: 0.0701 - accuracy: 0.9775 - val_loss: 0.0692 - val_accuracy: 0.9778 - 335s/epoch - 45ms/step\n",
      "Epoch 5/10\n",
      "7501/7501 - 365s - loss: 0.0676 - accuracy: 0.9786 - val_loss: 0.0681 - val_accuracy: 0.9779 - 365s/epoch - 49ms/step\n",
      "Epoch 6/10\n",
      "7501/7501 - 359s - loss: 0.0661 - accuracy: 0.9791 - val_loss: 0.0699 - val_accuracy: 0.9779 - 359s/epoch - 48ms/step\n",
      "Epoch 7/10\n",
      "7501/7501 - 352s - loss: 0.0644 - accuracy: 0.9796 - val_loss: 0.0674 - val_accuracy: 0.9784 - 352s/epoch - 47ms/step\n",
      "Epoch 8/10\n",
      "7501/7501 - 362s - loss: 0.0630 - accuracy: 0.9798 - val_loss: 0.0663 - val_accuracy: 0.9787 - 362s/epoch - 48ms/step\n",
      "Epoch 9/10\n",
      "7501/7501 - 358s - loss: 0.0619 - accuracy: 0.9801 - val_loss: 0.0651 - val_accuracy: 0.9789 - 358s/epoch - 48ms/step\n",
      "Epoch 10/10\n",
      "7501/7501 - 349s - loss: 0.0608 - accuracy: 0.9804 - val_loss: 0.0654 - val_accuracy: 0.9789 - 349s/epoch - 47ms/step\n"
     ]
    }
   ],
   "source": [
    "# Train the model:\n",
    "early_stop = EarlyStopping(monitor='val_loss', patience=2)\n",
    "history = model1.fit(training_padded,\n",
    "                     y_train,\n",
    "                     epochs=10, \n",
    "                     validation_data=(testing_padded, y_test),\n",
    "                     callbacks =[early_stop],\n",
    "                     verbose=2)"
   ]
  },
  {
   "cell_type": "code",
   "execution_count": 38,
   "id": "427df761",
   "metadata": {
    "ExecuteTime": {
     "end_time": "2023-01-19T09:42:48.809780Z",
     "start_time": "2023-01-19T09:42:48.644557Z"
    }
   },
   "outputs": [],
   "source": [
    "# Save the Model\n",
    "model1.save('lstm.h5')"
   ]
  },
  {
   "cell_type": "code",
   "execution_count": 85,
   "id": "e998ab7c",
   "metadata": {
    "ExecuteTime": {
     "end_time": "2023-01-19T11:52:19.248269Z",
     "start_time": "2023-01-19T11:52:19.239433Z"
    }
   },
   "outputs": [],
   "source": [
    "# preprocessing the test data\n",
    "def prediction(text):                     \n",
    "    text = tokenize(text)\n",
    "    tokenized_text = tokenizer.texts_to_sequences(np.array([text]))\n",
    "    vector = pad_sequences(tokenized_text, maxlen=50)\n",
    "    return vector"
   ]
  },
  {
   "cell_type": "code",
   "execution_count": 86,
   "id": "1688b06a",
   "metadata": {
    "ExecuteTime": {
     "end_time": "2023-01-19T11:52:21.655569Z",
     "start_time": "2023-01-19T11:52:21.652317Z"
    }
   },
   "outputs": [],
   "source": [
    "vector = prediction('Major Ransomware Attack Against Thousands Of Businesses Worldwide - NBC News https://t.co/u6oPsBYFvw')"
   ]
  },
  {
   "cell_type": "code",
   "execution_count": 87,
   "id": "9ac7a431",
   "metadata": {
    "ExecuteTime": {
     "end_time": "2023-01-19T11:52:23.873183Z",
     "start_time": "2023-01-19T11:52:23.785042Z"
    }
   },
   "outputs": [
    {
     "name": "stdout",
     "output_type": "stream",
     "text": [
      "1/1 [==============================] - 0s 27ms/step\n",
      "Its a CyberSecurity Tweet\n"
     ]
    }
   ],
   "source": [
    "# model prediction\n",
    "prediction = model1.predict(vector)\n",
    "if np.round(prediction) == 0:\n",
    "    print('Its Not a CyberSecurity Tweet')\n",
    "else:\n",
    "    print('Its a CyberSecurity Tweet')"
   ]
  },
  {
   "cell_type": "code",
   "execution_count": null,
   "id": "cc1fff99",
   "metadata": {},
   "outputs": [],
   "source": []
  }
 ],
 "metadata": {
  "kernelspec": {
   "display_name": "Python 3 (ipykernel)",
   "language": "python",
   "name": "python3"
  },
  "language_info": {
   "codemirror_mode": {
    "name": "ipython",
    "version": 3
   },
   "file_extension": ".py",
   "mimetype": "text/x-python",
   "name": "python",
   "nbconvert_exporter": "python",
   "pygments_lexer": "ipython3",
   "version": "3.10.6"
  },
  "varInspector": {
   "cols": {
    "lenName": 16,
    "lenType": 16,
    "lenVar": 40
   },
   "kernels_config": {
    "python": {
     "delete_cmd_postfix": "",
     "delete_cmd_prefix": "del ",
     "library": "var_list.py",
     "varRefreshCmd": "print(var_dic_list())"
    },
    "r": {
     "delete_cmd_postfix": ") ",
     "delete_cmd_prefix": "rm(",
     "library": "var_list.r",
     "varRefreshCmd": "cat(var_dic_list()) "
    }
   },
   "types_to_exclude": [
    "module",
    "function",
    "builtin_function_or_method",
    "instance",
    "_Feature"
   ],
   "window_display": false
  }
 },
 "nbformat": 4,
 "nbformat_minor": 5
}
