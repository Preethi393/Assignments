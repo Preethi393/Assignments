{
 "cells": [
  {
   "cell_type": "code",
   "execution_count": 1,
   "id": "b9f27cdb",
   "metadata": {
    "ExecuteTime": {
     "end_time": "2023-02-01T06:23:11.713136Z",
     "start_time": "2023-02-01T06:23:11.699439Z"
    }
   },
   "outputs": [
    {
     "name": "stdout",
     "output_type": "stream",
     "text": [
      "man\n",
      "life\n",
      "fighter\n",
      "\n",
      "The longest word from the string is : fighter\n"
     ]
    }
   ],
   "source": [
    "lst = ['man', 'life', 'fire', 'fighter', 'mangroove']\n",
    "k = 'kpqmanlifexyzanimalfighter'\n",
    "longest_str = \"\"\n",
    "\n",
    "for i in lst:\n",
    "    if i in k:\n",
    "        print(i)\n",
    "        if len(i) > len(longest_str):\n",
    "            longest_str = i\n",
    "print(\"\\nThe longest word from the string is :\", longest_str)"
   ]
  },
  {
   "cell_type": "code",
   "execution_count": 2,
   "id": "25141c85",
   "metadata": {
    "ExecuteTime": {
     "end_time": "2023-02-01T06:23:11.736748Z",
     "start_time": "2023-02-01T06:23:11.726489Z"
    }
   },
   "outputs": [
    {
     "name": "stdout",
     "output_type": "stream",
     "text": [
      "man\n",
      "life\n",
      "fighter\n",
      "\n",
      "The longest word is : fighter\n"
     ]
    }
   ],
   "source": [
    "lst = ['man', 'life', 'fire', 'fighter', 'mangroove']\n",
    "k = 'kpqmanlifexyzanimalfighter'\n",
    "\n",
    "count = 0 \n",
    "matchwords = []\n",
    "longest = \"\"\n",
    "\n",
    "for word in lst:\n",
    "    if word in k:\n",
    "        print(word)  \n",
    "        matchwords.append(word)\n",
    "        count = count + 1\n",
    "        if len(word) > len(longest):\n",
    "            longest = word\n",
    "print(\"\\nThe longest word is :\", longest)"
   ]
  }
 ],
 "metadata": {
  "kernelspec": {
   "display_name": "Python 3 (ipykernel)",
   "language": "python",
   "name": "python3"
  },
  "language_info": {
   "codemirror_mode": {
    "name": "ipython",
    "version": 3
   },
   "file_extension": ".py",
   "mimetype": "text/x-python",
   "name": "python",
   "nbconvert_exporter": "python",
   "pygments_lexer": "ipython3",
   "version": "3.10.6"
  },
  "varInspector": {
   "cols": {
    "lenName": 16,
    "lenType": 16,
    "lenVar": 40
   },
   "kernels_config": {
    "python": {
     "delete_cmd_postfix": "",
     "delete_cmd_prefix": "del ",
     "library": "var_list.py",
     "varRefreshCmd": "print(var_dic_list())"
    },
    "r": {
     "delete_cmd_postfix": ") ",
     "delete_cmd_prefix": "rm(",
     "library": "var_list.r",
     "varRefreshCmd": "cat(var_dic_list()) "
    }
   },
   "types_to_exclude": [
    "module",
    "function",
    "builtin_function_or_method",
    "instance",
    "_Feature"
   ],
   "window_display": false
  }
 },
 "nbformat": 4,
 "nbformat_minor": 5
}
