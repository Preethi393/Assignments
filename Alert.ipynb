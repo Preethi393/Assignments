{
 "cells": [
  {
   "cell_type": "code",
   "execution_count": 1,
   "id": "c2f22afd",
   "metadata": {
    "ExecuteTime": {
     "end_time": "2023-04-08T04:26:23.900160Z",
     "start_time": "2023-04-08T04:26:23.141573Z"
    }
   },
   "outputs": [],
   "source": [
    "# Importing the basic libraries\n",
    "import pandas as pd\n",
    "import numpy as np\n",
    "import matplotlib.pyplot as plt"
   ]
  },
  {
   "cell_type": "code",
   "execution_count": 2,
   "id": "58c3fffc",
   "metadata": {
    "ExecuteTime": {
     "end_time": "2023-04-08T04:26:23.992923Z",
     "start_time": "2023-04-08T04:26:23.902393Z"
    },
    "scrolled": true
   },
   "outputs": [
    {
     "data": {
      "text/html": [
       "<div>\n",
       "<style scoped>\n",
       "    .dataframe tbody tr th:only-of-type {\n",
       "        vertical-align: middle;\n",
       "    }\n",
       "\n",
       "    .dataframe tbody tr th {\n",
       "        vertical-align: top;\n",
       "    }\n",
       "\n",
       "    .dataframe thead th {\n",
       "        text-align: right;\n",
       "    }\n",
       "</style>\n",
       "<table border=\"1\" class=\"dataframe\">\n",
       "  <thead>\n",
       "    <tr style=\"text-align: right;\">\n",
       "      <th></th>\n",
       "      <th>subject</th>\n",
       "      <th>currentState</th>\n",
       "      <th>repeatCount</th>\n",
       "      <th>priority</th>\n",
       "      <th>healTime</th>\n",
       "      <th>alertClass</th>\n",
       "      <th>alertSubClass</th>\n",
       "      <th>alertCategory</th>\n",
       "      <th>alertSubCategory</th>\n",
       "      <th>alert_autoheal</th>\n",
       "    </tr>\n",
       "  </thead>\n",
       "  <tbody>\n",
       "    <tr>\n",
       "      <th>0</th>\n",
       "      <td>FORTINET-FORTIGATE-MIB::fgTrapWcApDown (1.3.6....</td>\n",
       "      <td>Ok</td>\n",
       "      <td>2</td>\n",
       "      <td>P3</td>\n",
       "      <td>60</td>\n",
       "      <td>Network</td>\n",
       "      <td>Wireless</td>\n",
       "      <td>Device Status</td>\n",
       "      <td>AP Down</td>\n",
       "      <td>True</td>\n",
       "    </tr>\n",
       "    <tr>\n",
       "      <th>1</th>\n",
       "      <td>Critical - Packet Loss=100% - 100 (&gt;= 100)</td>\n",
       "      <td>Ok</td>\n",
       "      <td>2</td>\n",
       "      <td>P0</td>\n",
       "      <td>60</td>\n",
       "      <td>Network</td>\n",
       "      <td>Firewall</td>\n",
       "      <td>Device Status</td>\n",
       "      <td>Device Down</td>\n",
       "      <td>True</td>\n",
       "    </tr>\n",
       "    <tr>\n",
       "      <th>2</th>\n",
       "      <td>Critical - Packet Loss=100% - 100 (&gt;= 100)</td>\n",
       "      <td>Ok</td>\n",
       "      <td>2</td>\n",
       "      <td>P0</td>\n",
       "      <td>180</td>\n",
       "      <td>Compute</td>\n",
       "      <td>Virtualization</td>\n",
       "      <td>Device Status</td>\n",
       "      <td>Device Down</td>\n",
       "      <td>True</td>\n",
       "    </tr>\n",
       "    <tr>\n",
       "      <th>3</th>\n",
       "      <td>SNMP request timeout on WC008_01.mpdnet.miami-...</td>\n",
       "      <td>Ok</td>\n",
       "      <td>2</td>\n",
       "      <td>P1</td>\n",
       "      <td>240</td>\n",
       "      <td>Network</td>\n",
       "      <td>Switch</td>\n",
       "      <td>Connectivity</td>\n",
       "      <td>Monitoring Failure</td>\n",
       "      <td>True</td>\n",
       "    </tr>\n",
       "    <tr>\n",
       "      <th>4</th>\n",
       "      <td>Critical - Packet Loss=100% - 100 (&gt;= 100)</td>\n",
       "      <td>Ok</td>\n",
       "      <td>2</td>\n",
       "      <td>P0</td>\n",
       "      <td>59</td>\n",
       "      <td>Compute</td>\n",
       "      <td>Operating System</td>\n",
       "      <td>Device Status</td>\n",
       "      <td>Device Down</td>\n",
       "      <td>True</td>\n",
       "    </tr>\n",
       "  </tbody>\n",
       "</table>\n",
       "</div>"
      ],
      "text/plain": [
       "                                             subject currentState  \\\n",
       "0  FORTINET-FORTIGATE-MIB::fgTrapWcApDown (1.3.6....           Ok   \n",
       "1         Critical - Packet Loss=100% - 100 (>= 100)           Ok   \n",
       "2         Critical - Packet Loss=100% - 100 (>= 100)           Ok   \n",
       "3  SNMP request timeout on WC008_01.mpdnet.miami-...           Ok   \n",
       "4         Critical - Packet Loss=100% - 100 (>= 100)           Ok   \n",
       "\n",
       "   repeatCount priority  healTime alertClass     alertSubClass  alertCategory  \\\n",
       "0            2       P3        60    Network          Wireless  Device Status   \n",
       "1            2       P0        60    Network          Firewall  Device Status   \n",
       "2            2       P0       180    Compute    Virtualization  Device Status   \n",
       "3            2       P1       240    Network            Switch   Connectivity   \n",
       "4            2       P0        59    Compute  Operating System  Device Status   \n",
       "\n",
       "     alertSubCategory  alert_autoheal  \n",
       "0             AP Down            True  \n",
       "1         Device Down            True  \n",
       "2         Device Down            True  \n",
       "3  Monitoring Failure            True  \n",
       "4         Device Down            True  "
      ]
     },
     "execution_count": 2,
     "metadata": {},
     "output_type": "execute_result"
    }
   ],
   "source": [
    "# Import the dataset\n",
    "df = pd.read_json('alert_data.json')\n",
    "df.head()"
   ]
  },
  {
   "cell_type": "code",
   "execution_count": 3,
   "id": "a7f7a548",
   "metadata": {
    "ExecuteTime": {
     "end_time": "2023-04-08T04:26:24.006077Z",
     "start_time": "2023-04-08T04:26:23.995914Z"
    }
   },
   "outputs": [
    {
     "data": {
      "text/html": [
       "<div>\n",
       "<style scoped>\n",
       "    .dataframe tbody tr th:only-of-type {\n",
       "        vertical-align: middle;\n",
       "    }\n",
       "\n",
       "    .dataframe tbody tr th {\n",
       "        vertical-align: top;\n",
       "    }\n",
       "\n",
       "    .dataframe thead th {\n",
       "        text-align: right;\n",
       "    }\n",
       "</style>\n",
       "<table border=\"1\" class=\"dataframe\">\n",
       "  <thead>\n",
       "    <tr style=\"text-align: right;\">\n",
       "      <th></th>\n",
       "      <th>subject</th>\n",
       "      <th>currentState</th>\n",
       "      <th>repeatCount</th>\n",
       "      <th>priority</th>\n",
       "      <th>healTime</th>\n",
       "      <th>alertClass</th>\n",
       "      <th>alertSubClass</th>\n",
       "      <th>alertCategory</th>\n",
       "      <th>alertSubCategory</th>\n",
       "      <th>alert_autoheal</th>\n",
       "    </tr>\n",
       "  </thead>\n",
       "  <tbody>\n",
       "    <tr>\n",
       "      <th>9995</th>\n",
       "      <td>SNMP request timeout on WC008_01.mpdnet.miami-...</td>\n",
       "      <td>Ok</td>\n",
       "      <td>2</td>\n",
       "      <td>P1</td>\n",
       "      <td>240</td>\n",
       "      <td>Network</td>\n",
       "      <td>Switch</td>\n",
       "      <td>Connectivity</td>\n",
       "      <td>Monitoring Failure</td>\n",
       "      <td>True</td>\n",
       "    </tr>\n",
       "    <tr>\n",
       "      <th>9996</th>\n",
       "      <td>Multiple alerts on resource WC008_01.mpdnet.mi...</td>\n",
       "      <td>Ok</td>\n",
       "      <td>2</td>\n",
       "      <td>P1</td>\n",
       "      <td>240</td>\n",
       "      <td>Network</td>\n",
       "      <td>Switch</td>\n",
       "      <td>Connectivity</td>\n",
       "      <td>Monitoring Failure</td>\n",
       "      <td>True</td>\n",
       "    </tr>\n",
       "    <tr>\n",
       "      <th>9997</th>\n",
       "      <td>OpsRamp agent is offline</td>\n",
       "      <td>Ok</td>\n",
       "      <td>2</td>\n",
       "      <td>P0</td>\n",
       "      <td>1140</td>\n",
       "      <td>Compute</td>\n",
       "      <td>Operating System</td>\n",
       "      <td>Connectivity</td>\n",
       "      <td>Opsramp Cloud Connectivity</td>\n",
       "      <td>False</td>\n",
       "    </tr>\n",
       "    <tr>\n",
       "      <th>9998</th>\n",
       "      <td>[Cleared] cca02ris001.cc.nwncloud.com: cca02ri...</td>\n",
       "      <td>Ok</td>\n",
       "      <td>2</td>\n",
       "      <td>P0</td>\n",
       "      <td>58</td>\n",
       "      <td>Others</td>\n",
       "      <td>Others</td>\n",
       "      <td>Others</td>\n",
       "      <td>Others</td>\n",
       "      <td>True</td>\n",
       "    </tr>\n",
       "    <tr>\n",
       "      <th>9999</th>\n",
       "      <td>[Cleared] PSCPVLFIN1A12.NWNCC.LOCAL: PSCPVLFIN...</td>\n",
       "      <td>Ok</td>\n",
       "      <td>2</td>\n",
       "      <td>P0</td>\n",
       "      <td>58</td>\n",
       "      <td>Others</td>\n",
       "      <td>Others</td>\n",
       "      <td>Others</td>\n",
       "      <td>Others</td>\n",
       "      <td>True</td>\n",
       "    </tr>\n",
       "  </tbody>\n",
       "</table>\n",
       "</div>"
      ],
      "text/plain": [
       "                                                subject currentState  \\\n",
       "9995  SNMP request timeout on WC008_01.mpdnet.miami-...           Ok   \n",
       "9996  Multiple alerts on resource WC008_01.mpdnet.mi...           Ok   \n",
       "9997                           OpsRamp agent is offline           Ok   \n",
       "9998  [Cleared] cca02ris001.cc.nwncloud.com: cca02ri...           Ok   \n",
       "9999  [Cleared] PSCPVLFIN1A12.NWNCC.LOCAL: PSCPVLFIN...           Ok   \n",
       "\n",
       "      repeatCount priority  healTime alertClass     alertSubClass  \\\n",
       "9995            2       P1       240    Network            Switch   \n",
       "9996            2       P1       240    Network            Switch   \n",
       "9997            2       P0      1140    Compute  Operating System   \n",
       "9998            2       P0        58     Others            Others   \n",
       "9999            2       P0        58     Others            Others   \n",
       "\n",
       "     alertCategory            alertSubCategory  alert_autoheal  \n",
       "9995  Connectivity          Monitoring Failure            True  \n",
       "9996  Connectivity          Monitoring Failure            True  \n",
       "9997  Connectivity  Opsramp Cloud Connectivity           False  \n",
       "9998        Others                      Others            True  \n",
       "9999        Others                      Others            True  "
      ]
     },
     "execution_count": 3,
     "metadata": {},
     "output_type": "execute_result"
    }
   ],
   "source": [
    "df.tail()"
   ]
  },
  {
   "cell_type": "code",
   "execution_count": 4,
   "id": "6713925a",
   "metadata": {
    "ExecuteTime": {
     "end_time": "2023-04-08T04:26:24.014839Z",
     "start_time": "2023-04-08T04:26:24.010543Z"
    }
   },
   "outputs": [
    {
     "data": {
      "text/plain": [
       "pandas.core.frame.DataFrame"
      ]
     },
     "execution_count": 4,
     "metadata": {},
     "output_type": "execute_result"
    }
   ],
   "source": [
    "type(df)"
   ]
  },
  {
   "cell_type": "code",
   "execution_count": 5,
   "id": "346feac4",
   "metadata": {
    "ExecuteTime": {
     "end_time": "2023-04-08T04:26:24.024306Z",
     "start_time": "2023-04-08T04:26:24.017441Z"
    }
   },
   "outputs": [
    {
     "data": {
      "text/plain": [
       "(10000, 10)"
      ]
     },
     "execution_count": 5,
     "metadata": {},
     "output_type": "execute_result"
    }
   ],
   "source": [
    "df.shape"
   ]
  },
  {
   "cell_type": "code",
   "execution_count": 6,
   "id": "9e6eaf51",
   "metadata": {
    "ExecuteTime": {
     "end_time": "2023-04-08T04:26:24.034307Z",
     "start_time": "2023-04-08T04:26:24.027223Z"
    }
   },
   "outputs": [
    {
     "data": {
      "text/plain": [
       "subject             object\n",
       "currentState        object\n",
       "repeatCount          int64\n",
       "priority            object\n",
       "healTime             int64\n",
       "alertClass          object\n",
       "alertSubClass       object\n",
       "alertCategory       object\n",
       "alertSubCategory    object\n",
       "alert_autoheal        bool\n",
       "dtype: object"
      ]
     },
     "execution_count": 6,
     "metadata": {},
     "output_type": "execute_result"
    }
   ],
   "source": [
    "df.dtypes"
   ]
  },
  {
   "cell_type": "code",
   "execution_count": 7,
   "id": "0d571770",
   "metadata": {
    "ExecuteTime": {
     "end_time": "2023-04-08T04:26:24.070595Z",
     "start_time": "2023-04-08T04:26:24.036776Z"
    }
   },
   "outputs": [
    {
     "name": "stdout",
     "output_type": "stream",
     "text": [
      "<class 'pandas.core.frame.DataFrame'>\n",
      "RangeIndex: 10000 entries, 0 to 9999\n",
      "Data columns (total 10 columns):\n",
      " #   Column            Non-Null Count  Dtype \n",
      "---  ------            --------------  ----- \n",
      " 0   subject           10000 non-null  object\n",
      " 1   currentState      10000 non-null  object\n",
      " 2   repeatCount       10000 non-null  int64 \n",
      " 3   priority          10000 non-null  object\n",
      " 4   healTime          10000 non-null  int64 \n",
      " 5   alertClass        10000 non-null  object\n",
      " 6   alertSubClass     10000 non-null  object\n",
      " 7   alertCategory     10000 non-null  object\n",
      " 8   alertSubCategory  10000 non-null  object\n",
      " 9   alert_autoheal    10000 non-null  bool  \n",
      "dtypes: bool(1), int64(2), object(7)\n",
      "memory usage: 713.0+ KB\n"
     ]
    }
   ],
   "source": [
    "df.info()"
   ]
  },
  {
   "cell_type": "code",
   "execution_count": 8,
   "id": "17b9d78b",
   "metadata": {
    "ExecuteTime": {
     "end_time": "2023-04-08T04:26:24.107944Z",
     "start_time": "2023-04-08T04:26:24.073836Z"
    }
   },
   "outputs": [
    {
     "data": {
      "text/plain": [
       "subject             0\n",
       "currentState        0\n",
       "repeatCount         0\n",
       "priority            0\n",
       "healTime            0\n",
       "alertClass          0\n",
       "alertSubClass       0\n",
       "alertCategory       0\n",
       "alertSubCategory    0\n",
       "alert_autoheal      0\n",
       "dtype: int64"
      ]
     },
     "execution_count": 8,
     "metadata": {},
     "output_type": "execute_result"
    }
   ],
   "source": [
    "# Checking for null values\n",
    "df.isnull().sum()"
   ]
  },
  {
   "cell_type": "code",
   "execution_count": 9,
   "id": "77f58bfc",
   "metadata": {
    "ExecuteTime": {
     "end_time": "2023-04-08T04:26:24.150409Z",
     "start_time": "2023-04-08T04:26:24.111458Z"
    }
   },
   "outputs": [
    {
     "data": {
      "text/html": [
       "<div>\n",
       "<style scoped>\n",
       "    .dataframe tbody tr th:only-of-type {\n",
       "        vertical-align: middle;\n",
       "    }\n",
       "\n",
       "    .dataframe tbody tr th {\n",
       "        vertical-align: top;\n",
       "    }\n",
       "\n",
       "    .dataframe thead th {\n",
       "        text-align: right;\n",
       "    }\n",
       "</style>\n",
       "<table border=\"1\" class=\"dataframe\">\n",
       "  <thead>\n",
       "    <tr style=\"text-align: right;\">\n",
       "      <th></th>\n",
       "      <th>subject</th>\n",
       "      <th>currentState</th>\n",
       "      <th>repeatCount</th>\n",
       "      <th>priority</th>\n",
       "      <th>healTime</th>\n",
       "      <th>alertClass</th>\n",
       "      <th>alertSubClass</th>\n",
       "      <th>alertCategory</th>\n",
       "      <th>alertSubCategory</th>\n",
       "      <th>alert_autoheal</th>\n",
       "    </tr>\n",
       "  </thead>\n",
       "  <tbody>\n",
       "    <tr>\n",
       "      <th>17</th>\n",
       "      <td>Critical. No process running with name 'httpd'</td>\n",
       "      <td>Ok</td>\n",
       "      <td>2</td>\n",
       "      <td>P2</td>\n",
       "      <td>600</td>\n",
       "      <td>Others</td>\n",
       "      <td>Others</td>\n",
       "      <td>Others</td>\n",
       "      <td>Others</td>\n",
       "      <td>True</td>\n",
       "    </tr>\n",
       "    <tr>\n",
       "      <th>18</th>\n",
       "      <td>Critical. No process running with name 'httpd'</td>\n",
       "      <td>Ok</td>\n",
       "      <td>2</td>\n",
       "      <td>P2</td>\n",
       "      <td>600</td>\n",
       "      <td>Others</td>\n",
       "      <td>Others</td>\n",
       "      <td>Others</td>\n",
       "      <td>Others</td>\n",
       "      <td>True</td>\n",
       "    </tr>\n",
       "    <tr>\n",
       "      <th>20</th>\n",
       "      <td>Critical. No process running with name 'httpd'</td>\n",
       "      <td>Ok</td>\n",
       "      <td>2</td>\n",
       "      <td>P2</td>\n",
       "      <td>600</td>\n",
       "      <td>Others</td>\n",
       "      <td>Others</td>\n",
       "      <td>Others</td>\n",
       "      <td>Others</td>\n",
       "      <td>True</td>\n",
       "    </tr>\n",
       "    <tr>\n",
       "      <th>22</th>\n",
       "      <td>FORTINET-FORTIGATE-MIB::fgTrapWcApDown (1.3.6....</td>\n",
       "      <td>Ok</td>\n",
       "      <td>2</td>\n",
       "      <td>P3</td>\n",
       "      <td>60</td>\n",
       "      <td>Network</td>\n",
       "      <td>Wireless</td>\n",
       "      <td>Device Status</td>\n",
       "      <td>AP Down</td>\n",
       "      <td>True</td>\n",
       "    </tr>\n",
       "    <tr>\n",
       "      <th>29</th>\n",
       "      <td>CPU Usage is 100.0%.</td>\n",
       "      <td>Ok</td>\n",
       "      <td>2</td>\n",
       "      <td>P2</td>\n",
       "      <td>600</td>\n",
       "      <td>Compute</td>\n",
       "      <td>Operating System</td>\n",
       "      <td>Device Health</td>\n",
       "      <td>CPU</td>\n",
       "      <td>True</td>\n",
       "    </tr>\n",
       "    <tr>\n",
       "      <th>...</th>\n",
       "      <td>...</td>\n",
       "      <td>...</td>\n",
       "      <td>...</td>\n",
       "      <td>...</td>\n",
       "      <td>...</td>\n",
       "      <td>...</td>\n",
       "      <td>...</td>\n",
       "      <td>...</td>\n",
       "      <td>...</td>\n",
       "      <td>...</td>\n",
       "    </tr>\n",
       "    <tr>\n",
       "      <th>9993</th>\n",
       "      <td>Attenuated Alert: FORTINET-FORTIGATE-MIB::fgTr...</td>\n",
       "      <td>Ok</td>\n",
       "      <td>3</td>\n",
       "      <td>P1</td>\n",
       "      <td>480</td>\n",
       "      <td>Network</td>\n",
       "      <td>Wireless</td>\n",
       "      <td>Device Status</td>\n",
       "      <td>AP Down</td>\n",
       "      <td>True</td>\n",
       "    </tr>\n",
       "    <tr>\n",
       "      <th>9994</th>\n",
       "      <td>[Cleared] hcs-west-emc-storage-monitor: We are...</td>\n",
       "      <td>Ok</td>\n",
       "      <td>2</td>\n",
       "      <td>P2</td>\n",
       "      <td>18</td>\n",
       "      <td>Others</td>\n",
       "      <td>Others</td>\n",
       "      <td>Others</td>\n",
       "      <td>Others</td>\n",
       "      <td>True</td>\n",
       "    </tr>\n",
       "    <tr>\n",
       "      <th>9995</th>\n",
       "      <td>SNMP request timeout on WC008_01.mpdnet.miami-...</td>\n",
       "      <td>Ok</td>\n",
       "      <td>2</td>\n",
       "      <td>P1</td>\n",
       "      <td>240</td>\n",
       "      <td>Network</td>\n",
       "      <td>Switch</td>\n",
       "      <td>Connectivity</td>\n",
       "      <td>Monitoring Failure</td>\n",
       "      <td>True</td>\n",
       "    </tr>\n",
       "    <tr>\n",
       "      <th>9996</th>\n",
       "      <td>Multiple alerts on resource WC008_01.mpdnet.mi...</td>\n",
       "      <td>Ok</td>\n",
       "      <td>2</td>\n",
       "      <td>P1</td>\n",
       "      <td>240</td>\n",
       "      <td>Network</td>\n",
       "      <td>Switch</td>\n",
       "      <td>Connectivity</td>\n",
       "      <td>Monitoring Failure</td>\n",
       "      <td>True</td>\n",
       "    </tr>\n",
       "    <tr>\n",
       "      <th>9997</th>\n",
       "      <td>OpsRamp agent is offline</td>\n",
       "      <td>Ok</td>\n",
       "      <td>2</td>\n",
       "      <td>P0</td>\n",
       "      <td>1140</td>\n",
       "      <td>Compute</td>\n",
       "      <td>Operating System</td>\n",
       "      <td>Connectivity</td>\n",
       "      <td>Opsramp Cloud Connectivity</td>\n",
       "      <td>False</td>\n",
       "    </tr>\n",
       "  </tbody>\n",
       "</table>\n",
       "<p>4762 rows × 10 columns</p>\n",
       "</div>"
      ],
      "text/plain": [
       "                                                subject currentState  \\\n",
       "17       Critical. No process running with name 'httpd'           Ok   \n",
       "18       Critical. No process running with name 'httpd'           Ok   \n",
       "20       Critical. No process running with name 'httpd'           Ok   \n",
       "22    FORTINET-FORTIGATE-MIB::fgTrapWcApDown (1.3.6....           Ok   \n",
       "29                                 CPU Usage is 100.0%.           Ok   \n",
       "...                                                 ...          ...   \n",
       "9993  Attenuated Alert: FORTINET-FORTIGATE-MIB::fgTr...           Ok   \n",
       "9994  [Cleared] hcs-west-emc-storage-monitor: We are...           Ok   \n",
       "9995  SNMP request timeout on WC008_01.mpdnet.miami-...           Ok   \n",
       "9996  Multiple alerts on resource WC008_01.mpdnet.mi...           Ok   \n",
       "9997                           OpsRamp agent is offline           Ok   \n",
       "\n",
       "      repeatCount priority  healTime alertClass     alertSubClass  \\\n",
       "17              2       P2       600     Others            Others   \n",
       "18              2       P2       600     Others            Others   \n",
       "20              2       P2       600     Others            Others   \n",
       "22              2       P3        60    Network          Wireless   \n",
       "29              2       P2       600    Compute  Operating System   \n",
       "...           ...      ...       ...        ...               ...   \n",
       "9993            3       P1       480    Network          Wireless   \n",
       "9994            2       P2        18     Others            Others   \n",
       "9995            2       P1       240    Network            Switch   \n",
       "9996            2       P1       240    Network            Switch   \n",
       "9997            2       P0      1140    Compute  Operating System   \n",
       "\n",
       "      alertCategory            alertSubCategory  alert_autoheal  \n",
       "17           Others                      Others            True  \n",
       "18           Others                      Others            True  \n",
       "20           Others                      Others            True  \n",
       "22    Device Status                     AP Down            True  \n",
       "29    Device Health                         CPU            True  \n",
       "...             ...                         ...             ...  \n",
       "9993  Device Status                     AP Down            True  \n",
       "9994         Others                      Others            True  \n",
       "9995   Connectivity          Monitoring Failure            True  \n",
       "9996   Connectivity          Monitoring Failure            True  \n",
       "9997   Connectivity  Opsramp Cloud Connectivity           False  \n",
       "\n",
       "[4762 rows x 10 columns]"
      ]
     },
     "execution_count": 9,
     "metadata": {},
     "output_type": "execute_result"
    }
   ],
   "source": [
    "# Count of duplicated rows\n",
    "df[df.duplicated()]"
   ]
  },
  {
   "cell_type": "code",
   "execution_count": 10,
   "id": "9a0e2970",
   "metadata": {
    "ExecuteTime": {
     "end_time": "2023-04-08T04:26:24.185523Z",
     "start_time": "2023-04-08T04:26:24.156328Z"
    }
   },
   "outputs": [],
   "source": [
    "df.drop_duplicates(keep = 'first', inplace= True)"
   ]
  },
  {
   "cell_type": "code",
   "execution_count": 11,
   "id": "b625377e",
   "metadata": {
    "ExecuteTime": {
     "end_time": "2023-04-08T04:26:24.195481Z",
     "start_time": "2023-04-08T04:26:24.188022Z"
    }
   },
   "outputs": [
    {
     "data": {
      "text/plain": [
       "(5238, 10)"
      ]
     },
     "execution_count": 11,
     "metadata": {},
     "output_type": "execute_result"
    }
   ],
   "source": [
    "df.shape"
   ]
  },
  {
   "cell_type": "code",
   "execution_count": 12,
   "id": "16db65cb",
   "metadata": {
    "ExecuteTime": {
     "end_time": "2023-04-08T04:26:24.208464Z",
     "start_time": "2023-04-08T04:26:24.199707Z"
    }
   },
   "outputs": [],
   "source": [
    "df = df.drop(columns=['currentState', 'healTime'])"
   ]
  },
  {
   "cell_type": "code",
   "execution_count": 13,
   "id": "be06e988",
   "metadata": {
    "ExecuteTime": {
     "end_time": "2023-04-08T04:26:24.227721Z",
     "start_time": "2023-04-08T04:26:24.212518Z"
    }
   },
   "outputs": [
    {
     "data": {
      "text/html": [
       "<div>\n",
       "<style scoped>\n",
       "    .dataframe tbody tr th:only-of-type {\n",
       "        vertical-align: middle;\n",
       "    }\n",
       "\n",
       "    .dataframe tbody tr th {\n",
       "        vertical-align: top;\n",
       "    }\n",
       "\n",
       "    .dataframe thead th {\n",
       "        text-align: right;\n",
       "    }\n",
       "</style>\n",
       "<table border=\"1\" class=\"dataframe\">\n",
       "  <thead>\n",
       "    <tr style=\"text-align: right;\">\n",
       "      <th></th>\n",
       "      <th>subject</th>\n",
       "      <th>repeatCount</th>\n",
       "      <th>priority</th>\n",
       "      <th>alertClass</th>\n",
       "      <th>alertSubClass</th>\n",
       "      <th>alertCategory</th>\n",
       "      <th>alertSubCategory</th>\n",
       "      <th>alert_autoheal</th>\n",
       "    </tr>\n",
       "  </thead>\n",
       "  <tbody>\n",
       "    <tr>\n",
       "      <th>0</th>\n",
       "      <td>FORTINET-FORTIGATE-MIB::fgTrapWcApDown (1.3.6....</td>\n",
       "      <td>2</td>\n",
       "      <td>P3</td>\n",
       "      <td>Network</td>\n",
       "      <td>Wireless</td>\n",
       "      <td>Device Status</td>\n",
       "      <td>AP Down</td>\n",
       "      <td>True</td>\n",
       "    </tr>\n",
       "    <tr>\n",
       "      <th>1</th>\n",
       "      <td>Critical - Packet Loss=100% - 100 (&gt;= 100)</td>\n",
       "      <td>2</td>\n",
       "      <td>P0</td>\n",
       "      <td>Network</td>\n",
       "      <td>Firewall</td>\n",
       "      <td>Device Status</td>\n",
       "      <td>Device Down</td>\n",
       "      <td>True</td>\n",
       "    </tr>\n",
       "    <tr>\n",
       "      <th>2</th>\n",
       "      <td>Critical - Packet Loss=100% - 100 (&gt;= 100)</td>\n",
       "      <td>2</td>\n",
       "      <td>P0</td>\n",
       "      <td>Compute</td>\n",
       "      <td>Virtualization</td>\n",
       "      <td>Device Status</td>\n",
       "      <td>Device Down</td>\n",
       "      <td>True</td>\n",
       "    </tr>\n",
       "    <tr>\n",
       "      <th>3</th>\n",
       "      <td>SNMP request timeout on WC008_01.mpdnet.miami-...</td>\n",
       "      <td>2</td>\n",
       "      <td>P1</td>\n",
       "      <td>Network</td>\n",
       "      <td>Switch</td>\n",
       "      <td>Connectivity</td>\n",
       "      <td>Monitoring Failure</td>\n",
       "      <td>True</td>\n",
       "    </tr>\n",
       "    <tr>\n",
       "      <th>4</th>\n",
       "      <td>Critical - Packet Loss=100% - 100 (&gt;= 100)</td>\n",
       "      <td>2</td>\n",
       "      <td>P0</td>\n",
       "      <td>Compute</td>\n",
       "      <td>Operating System</td>\n",
       "      <td>Device Status</td>\n",
       "      <td>Device Down</td>\n",
       "      <td>True</td>\n",
       "    </tr>\n",
       "  </tbody>\n",
       "</table>\n",
       "</div>"
      ],
      "text/plain": [
       "                                             subject  repeatCount priority  \\\n",
       "0  FORTINET-FORTIGATE-MIB::fgTrapWcApDown (1.3.6....            2       P3   \n",
       "1         Critical - Packet Loss=100% - 100 (>= 100)            2       P0   \n",
       "2         Critical - Packet Loss=100% - 100 (>= 100)            2       P0   \n",
       "3  SNMP request timeout on WC008_01.mpdnet.miami-...            2       P1   \n",
       "4         Critical - Packet Loss=100% - 100 (>= 100)            2       P0   \n",
       "\n",
       "  alertClass     alertSubClass  alertCategory    alertSubCategory  \\\n",
       "0    Network          Wireless  Device Status             AP Down   \n",
       "1    Network          Firewall  Device Status         Device Down   \n",
       "2    Compute    Virtualization  Device Status         Device Down   \n",
       "3    Network            Switch   Connectivity  Monitoring Failure   \n",
       "4    Compute  Operating System  Device Status         Device Down   \n",
       "\n",
       "   alert_autoheal  \n",
       "0            True  \n",
       "1            True  \n",
       "2            True  \n",
       "3            True  \n",
       "4            True  "
      ]
     },
     "execution_count": 13,
     "metadata": {},
     "output_type": "execute_result"
    }
   ],
   "source": [
    "df.head()"
   ]
  },
  {
   "cell_type": "code",
   "execution_count": 14,
   "id": "ac174451",
   "metadata": {
    "ExecuteTime": {
     "end_time": "2023-04-08T04:26:24.239394Z",
     "start_time": "2023-04-08T04:26:24.231348Z"
    }
   },
   "outputs": [
    {
     "data": {
      "text/plain": [
       "P1    2323\n",
       "P2    1627\n",
       "P0     962\n",
       "P3     326\n",
       "Name: priority, dtype: int64"
      ]
     },
     "execution_count": 14,
     "metadata": {},
     "output_type": "execute_result"
    }
   ],
   "source": [
    "# Check for value counts\n",
    "df['priority'].value_counts()"
   ]
  },
  {
   "cell_type": "code",
   "execution_count": 15,
   "id": "92f0577f",
   "metadata": {
    "ExecuteTime": {
     "end_time": "2023-04-08T04:26:24.251135Z",
     "start_time": "2023-04-08T04:26:24.243239Z"
    }
   },
   "outputs": [
    {
     "data": {
      "text/plain": [
       "Network          1671\n",
       "Others           1575\n",
       "Compute           962\n",
       "Application       657\n",
       "Environment       109\n",
       "Data              105\n",
       "Cloud              54\n",
       "Communication      53\n",
       "Tools              52\n",
       "Name: alertClass, dtype: int64"
      ]
     },
     "execution_count": 15,
     "metadata": {},
     "output_type": "execute_result"
    }
   ],
   "source": [
    "df['alertClass'].value_counts()"
   ]
  },
  {
   "cell_type": "code",
   "execution_count": 16,
   "id": "8fa056cd",
   "metadata": {
    "ExecuteTime": {
     "end_time": "2023-04-08T04:26:24.264768Z",
     "start_time": "2023-04-08T04:26:24.253772Z"
    }
   },
   "outputs": [
    {
     "data": {
      "text/plain": [
       "Others                     1575\n",
       "Operating System            765\n",
       "Switch                      749\n",
       "Web Service                 366\n",
       "Wireless                    342\n",
       "Firewall                    316\n",
       "Third Party Application     243\n",
       "Router                      218\n",
       "Virtualization              189\n",
       "Power                       109\n",
       "Infra Application            77\n",
       "Monitoring                   75\n",
       "Backup                       52\n",
       "Voice                        51\n",
       "Database                     35\n",
       "Generic Device               30\n",
       "Storage                      18\n",
       "SDWAN                        14\n",
       "Hardware                      8\n",
       "Cloud Instance                4\n",
       "Collaboration                 2\n",
       "Name: alertSubClass, dtype: int64"
      ]
     },
     "execution_count": 16,
     "metadata": {},
     "output_type": "execute_result"
    }
   ],
   "source": [
    "df['alertSubClass'].value_counts()"
   ]
  },
  {
   "cell_type": "code",
   "execution_count": 17,
   "id": "b334e45b",
   "metadata": {
    "ExecuteTime": {
     "end_time": "2023-04-08T04:26:24.276633Z",
     "start_time": "2023-04-08T04:26:24.267458Z"
    }
   },
   "outputs": [
    {
     "data": {
      "text/plain": [
       "Others                1575\n",
       "Device Status         1138\n",
       "Device Health          814\n",
       "Application Health     638\n",
       "Connectivity           511\n",
       "Network Interface      303\n",
       "Application Status     226\n",
       "Device Management       30\n",
       "VOIP Link                2\n",
       "Resource Status          1\n",
       "Name: alertCategory, dtype: int64"
      ]
     },
     "execution_count": 17,
     "metadata": {},
     "output_type": "execute_result"
    }
   ],
   "source": [
    "df['alertCategory'].value_counts()"
   ]
  },
  {
   "cell_type": "code",
   "execution_count": 18,
   "id": "a55f6a89",
   "metadata": {
    "ExecuteTime": {
     "end_time": "2023-04-08T04:26:24.286077Z",
     "start_time": "2023-04-08T04:26:24.278935Z"
    }
   },
   "outputs": [
    {
     "data": {
      "text/plain": [
       "Others                             1575\n",
       "Device Down                         652\n",
       "Monitoring Failure                  310\n",
       "CPU                                 252\n",
       "Third Party Application Service     243\n",
       "                                   ... \n",
       "Management Connectivity               1\n",
       "Resource Down                         1\n",
       "High Availability                     1\n",
       "Exchange - Mailflow                   1\n",
       "Opsramp Gateway Status                1\n",
       "Name: alertSubCategory, Length: 69, dtype: int64"
      ]
     },
     "execution_count": 18,
     "metadata": {},
     "output_type": "execute_result"
    }
   ],
   "source": [
    "df['alertSubCategory'].value_counts()"
   ]
  },
  {
   "cell_type": "code",
   "execution_count": 19,
   "id": "52ab6bd5",
   "metadata": {
    "ExecuteTime": {
     "end_time": "2023-04-08T04:26:24.692825Z",
     "start_time": "2023-04-08T04:26:24.288174Z"
    }
   },
   "outputs": [],
   "source": [
    "from sklearn.preprocessing import LabelEncoder"
   ]
  },
  {
   "cell_type": "code",
   "execution_count": 20,
   "id": "e99c9e33",
   "metadata": {
    "ExecuteTime": {
     "end_time": "2023-04-08T04:26:24.729218Z",
     "start_time": "2023-04-08T04:26:24.694953Z"
    }
   },
   "outputs": [
    {
     "data": {
      "text/html": [
       "<div>\n",
       "<style scoped>\n",
       "    .dataframe tbody tr th:only-of-type {\n",
       "        vertical-align: middle;\n",
       "    }\n",
       "\n",
       "    .dataframe tbody tr th {\n",
       "        vertical-align: top;\n",
       "    }\n",
       "\n",
       "    .dataframe thead th {\n",
       "        text-align: right;\n",
       "    }\n",
       "</style>\n",
       "<table border=\"1\" class=\"dataframe\">\n",
       "  <thead>\n",
       "    <tr style=\"text-align: right;\">\n",
       "      <th></th>\n",
       "      <th>subject</th>\n",
       "      <th>repeatCount</th>\n",
       "      <th>priority</th>\n",
       "      <th>alertClass</th>\n",
       "      <th>alertSubClass</th>\n",
       "      <th>alertCategory</th>\n",
       "      <th>alertSubCategory</th>\n",
       "      <th>alert_autoheal</th>\n",
       "    </tr>\n",
       "  </thead>\n",
       "  <tbody>\n",
       "    <tr>\n",
       "      <th>0</th>\n",
       "      <td>836</td>\n",
       "      <td>2</td>\n",
       "      <td>3</td>\n",
       "      <td>6</td>\n",
       "      <td>20</td>\n",
       "      <td>5</td>\n",
       "      <td>2</td>\n",
       "      <td>1</td>\n",
       "    </tr>\n",
       "    <tr>\n",
       "      <th>1</th>\n",
       "      <td>376</td>\n",
       "      <td>2</td>\n",
       "      <td>0</td>\n",
       "      <td>6</td>\n",
       "      <td>4</td>\n",
       "      <td>5</td>\n",
       "      <td>18</td>\n",
       "      <td>1</td>\n",
       "    </tr>\n",
       "    <tr>\n",
       "      <th>2</th>\n",
       "      <td>376</td>\n",
       "      <td>2</td>\n",
       "      <td>0</td>\n",
       "      <td>3</td>\n",
       "      <td>17</td>\n",
       "      <td>5</td>\n",
       "      <td>18</td>\n",
       "      <td>1</td>\n",
       "    </tr>\n",
       "    <tr>\n",
       "      <th>3</th>\n",
       "      <td>1987</td>\n",
       "      <td>2</td>\n",
       "      <td>1</td>\n",
       "      <td>6</td>\n",
       "      <td>15</td>\n",
       "      <td>2</td>\n",
       "      <td>38</td>\n",
       "      <td>1</td>\n",
       "    </tr>\n",
       "    <tr>\n",
       "      <th>4</th>\n",
       "      <td>376</td>\n",
       "      <td>2</td>\n",
       "      <td>0</td>\n",
       "      <td>3</td>\n",
       "      <td>9</td>\n",
       "      <td>5</td>\n",
       "      <td>18</td>\n",
       "      <td>1</td>\n",
       "    </tr>\n",
       "  </tbody>\n",
       "</table>\n",
       "</div>"
      ],
      "text/plain": [
       "   subject  repeatCount  priority  alertClass  alertSubClass  alertCategory  \\\n",
       "0      836            2         3           6             20              5   \n",
       "1      376            2         0           6              4              5   \n",
       "2      376            2         0           3             17              5   \n",
       "3     1987            2         1           6             15              2   \n",
       "4      376            2         0           3              9              5   \n",
       "\n",
       "   alertSubCategory  alert_autoheal  \n",
       "0                 2               1  \n",
       "1                18               1  \n",
       "2                18               1  \n",
       "3                38               1  \n",
       "4                18               1  "
      ]
     },
     "execution_count": 20,
     "metadata": {},
     "output_type": "execute_result"
    }
   ],
   "source": [
    "cols = ['subject', 'priority', 'alertClass', 'alertSubClass', 'alertCategory','alertSubCategory', \"alert_autoheal\"]\n",
    "\n",
    "df[cols] = df[cols].apply(LabelEncoder().fit_transform)\n",
    "\n",
    "df.head()"
   ]
  },
  {
   "cell_type": "markdown",
   "id": "05abd5c9",
   "metadata": {},
   "source": [
    "## VIF"
   ]
  },
  {
   "cell_type": "code",
   "execution_count": 21,
   "id": "b736e2d0",
   "metadata": {
    "ExecuteTime": {
     "end_time": "2023-04-08T04:26:24.755450Z",
     "start_time": "2023-04-08T04:26:24.731697Z"
    }
   },
   "outputs": [],
   "source": [
    "from statsmodels.stats.outliers_influence import variance_inflation_factor"
   ]
  },
  {
   "cell_type": "code",
   "execution_count": 22,
   "id": "d5aaec94",
   "metadata": {
    "ExecuteTime": {
     "end_time": "2023-04-08T04:26:24.761910Z",
     "start_time": "2023-04-08T04:26:24.758038Z"
    }
   },
   "outputs": [],
   "source": [
    "def calc_vif(dataset):\n",
    "    vif = pd.DataFrame()\n",
    "    vif[\"features\"] = dataset.columns\n",
    "    vif[\"VIF_Value\"] = [variance_inflation_factor(dataset.values,i) for i in range(dataset.shape[1])]\n",
    "    return vif"
   ]
  },
  {
   "cell_type": "code",
   "execution_count": 23,
   "id": "8de6bb55",
   "metadata": {
    "ExecuteTime": {
     "end_time": "2023-04-08T04:26:24.783219Z",
     "start_time": "2023-04-08T04:26:24.764909Z"
    }
   },
   "outputs": [
    {
     "data": {
      "text/html": [
       "<div>\n",
       "<style scoped>\n",
       "    .dataframe tbody tr th:only-of-type {\n",
       "        vertical-align: middle;\n",
       "    }\n",
       "\n",
       "    .dataframe tbody tr th {\n",
       "        vertical-align: top;\n",
       "    }\n",
       "\n",
       "    .dataframe thead th {\n",
       "        text-align: right;\n",
       "    }\n",
       "</style>\n",
       "<table border=\"1\" class=\"dataframe\">\n",
       "  <thead>\n",
       "    <tr style=\"text-align: right;\">\n",
       "      <th></th>\n",
       "      <th>subject</th>\n",
       "      <th>repeatCount</th>\n",
       "      <th>priority</th>\n",
       "      <th>alertClass</th>\n",
       "      <th>alertSubClass</th>\n",
       "      <th>alertCategory</th>\n",
       "      <th>alertSubCategory</th>\n",
       "    </tr>\n",
       "  </thead>\n",
       "  <tbody>\n",
       "    <tr>\n",
       "      <th>0</th>\n",
       "      <td>836</td>\n",
       "      <td>2</td>\n",
       "      <td>3</td>\n",
       "      <td>6</td>\n",
       "      <td>20</td>\n",
       "      <td>5</td>\n",
       "      <td>2</td>\n",
       "    </tr>\n",
       "    <tr>\n",
       "      <th>1</th>\n",
       "      <td>376</td>\n",
       "      <td>2</td>\n",
       "      <td>0</td>\n",
       "      <td>6</td>\n",
       "      <td>4</td>\n",
       "      <td>5</td>\n",
       "      <td>18</td>\n",
       "    </tr>\n",
       "    <tr>\n",
       "      <th>2</th>\n",
       "      <td>376</td>\n",
       "      <td>2</td>\n",
       "      <td>0</td>\n",
       "      <td>3</td>\n",
       "      <td>17</td>\n",
       "      <td>5</td>\n",
       "      <td>18</td>\n",
       "    </tr>\n",
       "    <tr>\n",
       "      <th>3</th>\n",
       "      <td>1987</td>\n",
       "      <td>2</td>\n",
       "      <td>1</td>\n",
       "      <td>6</td>\n",
       "      <td>15</td>\n",
       "      <td>2</td>\n",
       "      <td>38</td>\n",
       "    </tr>\n",
       "    <tr>\n",
       "      <th>4</th>\n",
       "      <td>376</td>\n",
       "      <td>2</td>\n",
       "      <td>0</td>\n",
       "      <td>3</td>\n",
       "      <td>9</td>\n",
       "      <td>5</td>\n",
       "      <td>18</td>\n",
       "    </tr>\n",
       "    <tr>\n",
       "      <th>...</th>\n",
       "      <td>...</td>\n",
       "      <td>...</td>\n",
       "      <td>...</td>\n",
       "      <td>...</td>\n",
       "      <td>...</td>\n",
       "      <td>...</td>\n",
       "      <td>...</td>\n",
       "    </tr>\n",
       "    <tr>\n",
       "      <th>9989</th>\n",
       "      <td>1311</td>\n",
       "      <td>2</td>\n",
       "      <td>0</td>\n",
       "      <td>6</td>\n",
       "      <td>4</td>\n",
       "      <td>5</td>\n",
       "      <td>18</td>\n",
       "    </tr>\n",
       "    <tr>\n",
       "      <th>9991</th>\n",
       "      <td>1315</td>\n",
       "      <td>2</td>\n",
       "      <td>0</td>\n",
       "      <td>6</td>\n",
       "      <td>20</td>\n",
       "      <td>5</td>\n",
       "      <td>2</td>\n",
       "    </tr>\n",
       "    <tr>\n",
       "      <th>9992</th>\n",
       "      <td>1314</td>\n",
       "      <td>2</td>\n",
       "      <td>0</td>\n",
       "      <td>6</td>\n",
       "      <td>20</td>\n",
       "      <td>5</td>\n",
       "      <td>2</td>\n",
       "    </tr>\n",
       "    <tr>\n",
       "      <th>9998</th>\n",
       "      <td>3116</td>\n",
       "      <td>2</td>\n",
       "      <td>0</td>\n",
       "      <td>7</td>\n",
       "      <td>10</td>\n",
       "      <td>7</td>\n",
       "      <td>42</td>\n",
       "    </tr>\n",
       "    <tr>\n",
       "      <th>9999</th>\n",
       "      <td>3069</td>\n",
       "      <td>2</td>\n",
       "      <td>0</td>\n",
       "      <td>7</td>\n",
       "      <td>10</td>\n",
       "      <td>7</td>\n",
       "      <td>42</td>\n",
       "    </tr>\n",
       "  </tbody>\n",
       "</table>\n",
       "<p>5238 rows × 7 columns</p>\n",
       "</div>"
      ],
      "text/plain": [
       "      subject  repeatCount  priority  alertClass  alertSubClass  \\\n",
       "0         836            2         3           6             20   \n",
       "1         376            2         0           6              4   \n",
       "2         376            2         0           3             17   \n",
       "3        1987            2         1           6             15   \n",
       "4         376            2         0           3              9   \n",
       "...       ...          ...       ...         ...            ...   \n",
       "9989     1311            2         0           6              4   \n",
       "9991     1315            2         0           6             20   \n",
       "9992     1314            2         0           6             20   \n",
       "9998     3116            2         0           7             10   \n",
       "9999     3069            2         0           7             10   \n",
       "\n",
       "      alertCategory  alertSubCategory  \n",
       "0                 5                 2  \n",
       "1                 5                18  \n",
       "2                 5                18  \n",
       "3                 2                38  \n",
       "4                 5                18  \n",
       "...             ...               ...  \n",
       "9989              5                18  \n",
       "9991              5                 2  \n",
       "9992              5                 2  \n",
       "9998              7                42  \n",
       "9999              7                42  \n",
       "\n",
       "[5238 rows x 7 columns]"
      ]
     },
     "execution_count": 23,
     "metadata": {},
     "output_type": "execute_result"
    }
   ],
   "source": [
    "df1 = df.drop(columns=['alert_autoheal'])\n",
    "df1"
   ]
  },
  {
   "cell_type": "code",
   "execution_count": 24,
   "id": "40a4f398",
   "metadata": {
    "ExecuteTime": {
     "end_time": "2023-04-08T04:26:24.841815Z",
     "start_time": "2023-04-08T04:26:24.785552Z"
    }
   },
   "outputs": [
    {
     "data": {
      "text/html": [
       "<div>\n",
       "<style scoped>\n",
       "    .dataframe tbody tr th:only-of-type {\n",
       "        vertical-align: middle;\n",
       "    }\n",
       "\n",
       "    .dataframe tbody tr th {\n",
       "        vertical-align: top;\n",
       "    }\n",
       "\n",
       "    .dataframe thead th {\n",
       "        text-align: right;\n",
       "    }\n",
       "</style>\n",
       "<table border=\"1\" class=\"dataframe\">\n",
       "  <thead>\n",
       "    <tr style=\"text-align: right;\">\n",
       "      <th></th>\n",
       "      <th>features</th>\n",
       "      <th>VIF_Value</th>\n",
       "    </tr>\n",
       "  </thead>\n",
       "  <tbody>\n",
       "    <tr>\n",
       "      <th>0</th>\n",
       "      <td>subject</td>\n",
       "      <td>4.334270</td>\n",
       "    </tr>\n",
       "    <tr>\n",
       "      <th>1</th>\n",
       "      <td>repeatCount</td>\n",
       "      <td>7.669377</td>\n",
       "    </tr>\n",
       "    <tr>\n",
       "      <th>2</th>\n",
       "      <td>priority</td>\n",
       "      <td>3.680489</td>\n",
       "    </tr>\n",
       "    <tr>\n",
       "      <th>3</th>\n",
       "      <td>alertClass</td>\n",
       "      <td>14.356413</td>\n",
       "    </tr>\n",
       "    <tr>\n",
       "      <th>4</th>\n",
       "      <td>alertSubClass</td>\n",
       "      <td>6.081442</td>\n",
       "    </tr>\n",
       "    <tr>\n",
       "      <th>5</th>\n",
       "      <td>alertCategory</td>\n",
       "      <td>12.644061</td>\n",
       "    </tr>\n",
       "    <tr>\n",
       "      <th>6</th>\n",
       "      <td>alertSubCategory</td>\n",
       "      <td>5.040433</td>\n",
       "    </tr>\n",
       "  </tbody>\n",
       "</table>\n",
       "</div>"
      ],
      "text/plain": [
       "           features  VIF_Value\n",
       "0           subject   4.334270\n",
       "1       repeatCount   7.669377\n",
       "2          priority   3.680489\n",
       "3        alertClass  14.356413\n",
       "4     alertSubClass   6.081442\n",
       "5     alertCategory  12.644061\n",
       "6  alertSubCategory   5.040433"
      ]
     },
     "execution_count": 24,
     "metadata": {},
     "output_type": "execute_result"
    }
   ],
   "source": [
    "features = df1.iloc[:,:]\n",
    "calc_vif(features)"
   ]
  },
  {
   "cell_type": "code",
   "execution_count": 25,
   "id": "6178f133",
   "metadata": {
    "ExecuteTime": {
     "end_time": "2023-04-08T04:26:24.871956Z",
     "start_time": "2023-04-08T04:26:24.844865Z"
    }
   },
   "outputs": [
    {
     "data": {
      "text/html": [
       "<div>\n",
       "<style scoped>\n",
       "    .dataframe tbody tr th:only-of-type {\n",
       "        vertical-align: middle;\n",
       "    }\n",
       "\n",
       "    .dataframe tbody tr th {\n",
       "        vertical-align: top;\n",
       "    }\n",
       "\n",
       "    .dataframe thead th {\n",
       "        text-align: right;\n",
       "    }\n",
       "</style>\n",
       "<table border=\"1\" class=\"dataframe\">\n",
       "  <thead>\n",
       "    <tr style=\"text-align: right;\">\n",
       "      <th></th>\n",
       "      <th>subject</th>\n",
       "      <th>repeatCount</th>\n",
       "      <th>priority</th>\n",
       "      <th>alertClass</th>\n",
       "      <th>alertSubClass</th>\n",
       "      <th>alertCategory</th>\n",
       "      <th>alertSubCategory</th>\n",
       "      <th>alert_autoheal</th>\n",
       "    </tr>\n",
       "  </thead>\n",
       "  <tbody>\n",
       "    <tr>\n",
       "      <th>subject</th>\n",
       "      <td>1.000000</td>\n",
       "      <td>-0.024889</td>\n",
       "      <td>0.215198</td>\n",
       "      <td>0.150352</td>\n",
       "      <td>-0.068759</td>\n",
       "      <td>0.188842</td>\n",
       "      <td>0.264542</td>\n",
       "      <td>0.079752</td>\n",
       "    </tr>\n",
       "    <tr>\n",
       "      <th>repeatCount</th>\n",
       "      <td>-0.024889</td>\n",
       "      <td>1.000000</td>\n",
       "      <td>0.025398</td>\n",
       "      <td>-0.011740</td>\n",
       "      <td>0.017770</td>\n",
       "      <td>0.008705</td>\n",
       "      <td>-0.159839</td>\n",
       "      <td>-0.187956</td>\n",
       "    </tr>\n",
       "    <tr>\n",
       "      <th>priority</th>\n",
       "      <td>0.215198</td>\n",
       "      <td>0.025398</td>\n",
       "      <td>1.000000</td>\n",
       "      <td>0.188354</td>\n",
       "      <td>0.038036</td>\n",
       "      <td>0.226867</td>\n",
       "      <td>0.077953</td>\n",
       "      <td>0.209637</td>\n",
       "    </tr>\n",
       "    <tr>\n",
       "      <th>alertClass</th>\n",
       "      <td>0.150352</td>\n",
       "      <td>-0.011740</td>\n",
       "      <td>0.188354</td>\n",
       "      <td>1.000000</td>\n",
       "      <td>-0.294753</td>\n",
       "      <td>0.817019</td>\n",
       "      <td>-0.247675</td>\n",
       "      <td>0.053768</td>\n",
       "    </tr>\n",
       "    <tr>\n",
       "      <th>alertSubClass</th>\n",
       "      <td>-0.068759</td>\n",
       "      <td>0.017770</td>\n",
       "      <td>0.038036</td>\n",
       "      <td>-0.294753</td>\n",
       "      <td>1.000000</td>\n",
       "      <td>-0.239688</td>\n",
       "      <td>0.000307</td>\n",
       "      <td>0.061540</td>\n",
       "    </tr>\n",
       "    <tr>\n",
       "      <th>alertCategory</th>\n",
       "      <td>0.188842</td>\n",
       "      <td>0.008705</td>\n",
       "      <td>0.226867</td>\n",
       "      <td>0.817019</td>\n",
       "      <td>-0.239688</td>\n",
       "      <td>1.000000</td>\n",
       "      <td>-0.233838</td>\n",
       "      <td>0.066047</td>\n",
       "    </tr>\n",
       "    <tr>\n",
       "      <th>alertSubCategory</th>\n",
       "      <td>0.264542</td>\n",
       "      <td>-0.159839</td>\n",
       "      <td>0.077953</td>\n",
       "      <td>-0.247675</td>\n",
       "      <td>0.000307</td>\n",
       "      <td>-0.233838</td>\n",
       "      <td>1.000000</td>\n",
       "      <td>0.071155</td>\n",
       "    </tr>\n",
       "    <tr>\n",
       "      <th>alert_autoheal</th>\n",
       "      <td>0.079752</td>\n",
       "      <td>-0.187956</td>\n",
       "      <td>0.209637</td>\n",
       "      <td>0.053768</td>\n",
       "      <td>0.061540</td>\n",
       "      <td>0.066047</td>\n",
       "      <td>0.071155</td>\n",
       "      <td>1.000000</td>\n",
       "    </tr>\n",
       "  </tbody>\n",
       "</table>\n",
       "</div>"
      ],
      "text/plain": [
       "                   subject  repeatCount  priority  alertClass  alertSubClass  \\\n",
       "subject           1.000000    -0.024889  0.215198    0.150352      -0.068759   \n",
       "repeatCount      -0.024889     1.000000  0.025398   -0.011740       0.017770   \n",
       "priority          0.215198     0.025398  1.000000    0.188354       0.038036   \n",
       "alertClass        0.150352    -0.011740  0.188354    1.000000      -0.294753   \n",
       "alertSubClass    -0.068759     0.017770  0.038036   -0.294753       1.000000   \n",
       "alertCategory     0.188842     0.008705  0.226867    0.817019      -0.239688   \n",
       "alertSubCategory  0.264542    -0.159839  0.077953   -0.247675       0.000307   \n",
       "alert_autoheal    0.079752    -0.187956  0.209637    0.053768       0.061540   \n",
       "\n",
       "                  alertCategory  alertSubCategory  alert_autoheal  \n",
       "subject                0.188842          0.264542        0.079752  \n",
       "repeatCount            0.008705         -0.159839       -0.187956  \n",
       "priority               0.226867          0.077953        0.209637  \n",
       "alertClass             0.817019         -0.247675        0.053768  \n",
       "alertSubClass         -0.239688          0.000307        0.061540  \n",
       "alertCategory          1.000000         -0.233838        0.066047  \n",
       "alertSubCategory      -0.233838          1.000000        0.071155  \n",
       "alert_autoheal         0.066047          0.071155        1.000000  "
      ]
     },
     "execution_count": 25,
     "metadata": {},
     "output_type": "execute_result"
    }
   ],
   "source": [
    "df.corr()"
   ]
  },
  {
   "cell_type": "code",
   "execution_count": 26,
   "id": "fe213bf2",
   "metadata": {
    "ExecuteTime": {
     "end_time": "2023-04-08T04:26:25.497565Z",
     "start_time": "2023-04-08T04:26:24.875528Z"
    }
   },
   "outputs": [
    {
     "data": {
      "text/plain": [
       "<AxesSubplot: >"
      ]
     },
     "execution_count": 26,
     "metadata": {},
     "output_type": "execute_result"
    },
    {
     "data": {
      "image/png": "[encoded data removed]",
      "text/plain": [
       "<Figure size 432x288 with 2 Axes>"
      ]
     },
     "metadata": {
      "needs_background": "light"
     },
     "output_type": "display_data"
    }
   ],
   "source": [
    "import seaborn as sns\n",
    "sns.heatmap(df.corr(), annot=True)"
   ]
  },
  {
   "cell_type": "code",
   "execution_count": 27,
   "id": "772acc2c",
   "metadata": {
    "ExecuteTime": {
     "end_time": "2023-04-08T04:26:25.511225Z",
     "start_time": "2023-04-08T04:26:25.499875Z"
    }
   },
   "outputs": [
    {
     "data": {
      "text/html": [
       "<div>\n",
       "<style scoped>\n",
       "    .dataframe tbody tr th:only-of-type {\n",
       "        vertical-align: middle;\n",
       "    }\n",
       "\n",
       "    .dataframe tbody tr th {\n",
       "        vertical-align: top;\n",
       "    }\n",
       "\n",
       "    .dataframe thead th {\n",
       "        text-align: right;\n",
       "    }\n",
       "</style>\n",
       "<table border=\"1\" class=\"dataframe\">\n",
       "  <thead>\n",
       "    <tr style=\"text-align: right;\">\n",
       "      <th></th>\n",
       "      <th>subject</th>\n",
       "      <th>repeatCount</th>\n",
       "      <th>priority</th>\n",
       "      <th>alertSubClass</th>\n",
       "      <th>alertCategory</th>\n",
       "      <th>alertSubCategory</th>\n",
       "      <th>alert_autoheal</th>\n",
       "    </tr>\n",
       "  </thead>\n",
       "  <tbody>\n",
       "    <tr>\n",
       "      <th>0</th>\n",
       "      <td>836</td>\n",
       "      <td>2</td>\n",
       "      <td>3</td>\n",
       "      <td>20</td>\n",
       "      <td>5</td>\n",
       "      <td>2</td>\n",
       "      <td>1</td>\n",
       "    </tr>\n",
       "    <tr>\n",
       "      <th>1</th>\n",
       "      <td>376</td>\n",
       "      <td>2</td>\n",
       "      <td>0</td>\n",
       "      <td>4</td>\n",
       "      <td>5</td>\n",
       "      <td>18</td>\n",
       "      <td>1</td>\n",
       "    </tr>\n",
       "    <tr>\n",
       "      <th>2</th>\n",
       "      <td>376</td>\n",
       "      <td>2</td>\n",
       "      <td>0</td>\n",
       "      <td>17</td>\n",
       "      <td>5</td>\n",
       "      <td>18</td>\n",
       "      <td>1</td>\n",
       "    </tr>\n",
       "    <tr>\n",
       "      <th>3</th>\n",
       "      <td>1987</td>\n",
       "      <td>2</td>\n",
       "      <td>1</td>\n",
       "      <td>15</td>\n",
       "      <td>2</td>\n",
       "      <td>38</td>\n",
       "      <td>1</td>\n",
       "    </tr>\n",
       "    <tr>\n",
       "      <th>4</th>\n",
       "      <td>376</td>\n",
       "      <td>2</td>\n",
       "      <td>0</td>\n",
       "      <td>9</td>\n",
       "      <td>5</td>\n",
       "      <td>18</td>\n",
       "      <td>1</td>\n",
       "    </tr>\n",
       "  </tbody>\n",
       "</table>\n",
       "</div>"
      ],
      "text/plain": [
       "   subject  repeatCount  priority  alertSubClass  alertCategory  \\\n",
       "0      836            2         3             20              5   \n",
       "1      376            2         0              4              5   \n",
       "2      376            2         0             17              5   \n",
       "3     1987            2         1             15              2   \n",
       "4      376            2         0              9              5   \n",
       "\n",
       "   alertSubCategory  alert_autoheal  \n",
       "0                 2               1  \n",
       "1                18               1  \n",
       "2                18               1  \n",
       "3                38               1  \n",
       "4                18               1  "
      ]
     },
     "execution_count": 27,
     "metadata": {},
     "output_type": "execute_result"
    }
   ],
   "source": [
    "df = df.drop(columns = ['alertClass'])\n",
    "df.head()"
   ]
  },
  {
   "cell_type": "code",
   "execution_count": 28,
   "id": "a2303a46",
   "metadata": {
    "ExecuteTime": {
     "end_time": "2023-04-08T04:26:25.546878Z",
     "start_time": "2023-04-08T04:26:25.526079Z"
    }
   },
   "outputs": [
    {
     "data": {
      "text/html": [
       "<div>\n",
       "<style scoped>\n",
       "    .dataframe tbody tr th:only-of-type {\n",
       "        vertical-align: middle;\n",
       "    }\n",
       "\n",
       "    .dataframe tbody tr th {\n",
       "        vertical-align: top;\n",
       "    }\n",
       "\n",
       "    .dataframe thead th {\n",
       "        text-align: right;\n",
       "    }\n",
       "</style>\n",
       "<table border=\"1\" class=\"dataframe\">\n",
       "  <thead>\n",
       "    <tr style=\"text-align: right;\">\n",
       "      <th></th>\n",
       "      <th>subject</th>\n",
       "      <th>repeatCount</th>\n",
       "      <th>priority</th>\n",
       "      <th>alertSubClass</th>\n",
       "      <th>alertCategory</th>\n",
       "      <th>alertSubCategory</th>\n",
       "    </tr>\n",
       "  </thead>\n",
       "  <tbody>\n",
       "    <tr>\n",
       "      <th>0</th>\n",
       "      <td>836</td>\n",
       "      <td>2</td>\n",
       "      <td>3</td>\n",
       "      <td>20</td>\n",
       "      <td>5</td>\n",
       "      <td>2</td>\n",
       "    </tr>\n",
       "    <tr>\n",
       "      <th>1</th>\n",
       "      <td>376</td>\n",
       "      <td>2</td>\n",
       "      <td>0</td>\n",
       "      <td>4</td>\n",
       "      <td>5</td>\n",
       "      <td>18</td>\n",
       "    </tr>\n",
       "    <tr>\n",
       "      <th>2</th>\n",
       "      <td>376</td>\n",
       "      <td>2</td>\n",
       "      <td>0</td>\n",
       "      <td>17</td>\n",
       "      <td>5</td>\n",
       "      <td>18</td>\n",
       "    </tr>\n",
       "    <tr>\n",
       "      <th>3</th>\n",
       "      <td>1987</td>\n",
       "      <td>2</td>\n",
       "      <td>1</td>\n",
       "      <td>15</td>\n",
       "      <td>2</td>\n",
       "      <td>38</td>\n",
       "    </tr>\n",
       "    <tr>\n",
       "      <th>4</th>\n",
       "      <td>376</td>\n",
       "      <td>2</td>\n",
       "      <td>0</td>\n",
       "      <td>9</td>\n",
       "      <td>5</td>\n",
       "      <td>18</td>\n",
       "    </tr>\n",
       "    <tr>\n",
       "      <th>...</th>\n",
       "      <td>...</td>\n",
       "      <td>...</td>\n",
       "      <td>...</td>\n",
       "      <td>...</td>\n",
       "      <td>...</td>\n",
       "      <td>...</td>\n",
       "    </tr>\n",
       "    <tr>\n",
       "      <th>9989</th>\n",
       "      <td>1311</td>\n",
       "      <td>2</td>\n",
       "      <td>0</td>\n",
       "      <td>4</td>\n",
       "      <td>5</td>\n",
       "      <td>18</td>\n",
       "    </tr>\n",
       "    <tr>\n",
       "      <th>9991</th>\n",
       "      <td>1315</td>\n",
       "      <td>2</td>\n",
       "      <td>0</td>\n",
       "      <td>20</td>\n",
       "      <td>5</td>\n",
       "      <td>2</td>\n",
       "    </tr>\n",
       "    <tr>\n",
       "      <th>9992</th>\n",
       "      <td>1314</td>\n",
       "      <td>2</td>\n",
       "      <td>0</td>\n",
       "      <td>20</td>\n",
       "      <td>5</td>\n",
       "      <td>2</td>\n",
       "    </tr>\n",
       "    <tr>\n",
       "      <th>9998</th>\n",
       "      <td>3116</td>\n",
       "      <td>2</td>\n",
       "      <td>0</td>\n",
       "      <td>10</td>\n",
       "      <td>7</td>\n",
       "      <td>42</td>\n",
       "    </tr>\n",
       "    <tr>\n",
       "      <th>9999</th>\n",
       "      <td>3069</td>\n",
       "      <td>2</td>\n",
       "      <td>0</td>\n",
       "      <td>10</td>\n",
       "      <td>7</td>\n",
       "      <td>42</td>\n",
       "    </tr>\n",
       "  </tbody>\n",
       "</table>\n",
       "<p>5238 rows × 6 columns</p>\n",
       "</div>"
      ],
      "text/plain": [
       "      subject  repeatCount  priority  alertSubClass  alertCategory  \\\n",
       "0         836            2         3             20              5   \n",
       "1         376            2         0              4              5   \n",
       "2         376            2         0             17              5   \n",
       "3        1987            2         1             15              2   \n",
       "4         376            2         0              9              5   \n",
       "...       ...          ...       ...            ...            ...   \n",
       "9989     1311            2         0              4              5   \n",
       "9991     1315            2         0             20              5   \n",
       "9992     1314            2         0             20              5   \n",
       "9998     3116            2         0             10              7   \n",
       "9999     3069            2         0             10              7   \n",
       "\n",
       "      alertSubCategory  \n",
       "0                    2  \n",
       "1                   18  \n",
       "2                   18  \n",
       "3                   38  \n",
       "4                   18  \n",
       "...                ...  \n",
       "9989                18  \n",
       "9991                 2  \n",
       "9992                 2  \n",
       "9998                42  \n",
       "9999                42  \n",
       "\n",
       "[5238 rows x 6 columns]"
      ]
     },
     "execution_count": 28,
     "metadata": {},
     "output_type": "execute_result"
    }
   ],
   "source": [
    "df2 = df.drop(columns=['alert_autoheal'])\n",
    "df2"
   ]
  },
  {
   "cell_type": "code",
   "execution_count": 29,
   "id": "f4cd18a6",
   "metadata": {
    "ExecuteTime": {
     "end_time": "2023-04-08T04:26:25.592682Z",
     "start_time": "2023-04-08T04:26:25.549094Z"
    }
   },
   "outputs": [
    {
     "data": {
      "text/html": [
       "<div>\n",
       "<style scoped>\n",
       "    .dataframe tbody tr th:only-of-type {\n",
       "        vertical-align: middle;\n",
       "    }\n",
       "\n",
       "    .dataframe tbody tr th {\n",
       "        vertical-align: top;\n",
       "    }\n",
       "\n",
       "    .dataframe thead th {\n",
       "        text-align: right;\n",
       "    }\n",
       "</style>\n",
       "<table border=\"1\" class=\"dataframe\">\n",
       "  <thead>\n",
       "    <tr style=\"text-align: right;\">\n",
       "      <th></th>\n",
       "      <th>features</th>\n",
       "      <th>VIF_Value</th>\n",
       "    </tr>\n",
       "  </thead>\n",
       "  <tbody>\n",
       "    <tr>\n",
       "      <th>0</th>\n",
       "      <td>subject</td>\n",
       "      <td>4.326011</td>\n",
       "    </tr>\n",
       "    <tr>\n",
       "      <th>1</th>\n",
       "      <td>repeatCount</td>\n",
       "      <td>7.383542</td>\n",
       "    </tr>\n",
       "    <tr>\n",
       "      <th>2</th>\n",
       "      <td>priority</td>\n",
       "      <td>3.671683</td>\n",
       "    </tr>\n",
       "    <tr>\n",
       "      <th>3</th>\n",
       "      <td>alertSubClass</td>\n",
       "      <td>6.081263</td>\n",
       "    </tr>\n",
       "    <tr>\n",
       "      <th>4</th>\n",
       "      <td>alertCategory</td>\n",
       "      <td>4.025881</td>\n",
       "    </tr>\n",
       "    <tr>\n",
       "      <th>5</th>\n",
       "      <td>alertSubCategory</td>\n",
       "      <td>5.024027</td>\n",
       "    </tr>\n",
       "  </tbody>\n",
       "</table>\n",
       "</div>"
      ],
      "text/plain": [
       "           features  VIF_Value\n",
       "0           subject   4.326011\n",
       "1       repeatCount   7.383542\n",
       "2          priority   3.671683\n",
       "3     alertSubClass   6.081263\n",
       "4     alertCategory   4.025881\n",
       "5  alertSubCategory   5.024027"
      ]
     },
     "execution_count": 29,
     "metadata": {},
     "output_type": "execute_result"
    }
   ],
   "source": [
    "features = df2.iloc[:,:]\n",
    "calc_vif(features)"
   ]
  },
  {
   "cell_type": "code",
   "execution_count": 30,
   "id": "0463c1fc",
   "metadata": {
    "ExecuteTime": {
     "end_time": "2023-04-08T04:26:25.609074Z",
     "start_time": "2023-04-08T04:26:25.595908Z"
    }
   },
   "outputs": [
    {
     "data": {
      "text/html": [
       "<div>\n",
       "<style scoped>\n",
       "    .dataframe tbody tr th:only-of-type {\n",
       "        vertical-align: middle;\n",
       "    }\n",
       "\n",
       "    .dataframe tbody tr th {\n",
       "        vertical-align: top;\n",
       "    }\n",
       "\n",
       "    .dataframe thead th {\n",
       "        text-align: right;\n",
       "    }\n",
       "</style>\n",
       "<table border=\"1\" class=\"dataframe\">\n",
       "  <thead>\n",
       "    <tr style=\"text-align: right;\">\n",
       "      <th></th>\n",
       "      <th>subject</th>\n",
       "      <th>repeatCount</th>\n",
       "      <th>priority</th>\n",
       "      <th>alertSubClass</th>\n",
       "      <th>alertCategory</th>\n",
       "      <th>alertSubCategory</th>\n",
       "      <th>alert_autoheal</th>\n",
       "    </tr>\n",
       "  </thead>\n",
       "  <tbody>\n",
       "    <tr>\n",
       "      <th>0</th>\n",
       "      <td>836</td>\n",
       "      <td>2</td>\n",
       "      <td>3</td>\n",
       "      <td>20</td>\n",
       "      <td>5</td>\n",
       "      <td>2</td>\n",
       "      <td>1</td>\n",
       "    </tr>\n",
       "    <tr>\n",
       "      <th>1</th>\n",
       "      <td>376</td>\n",
       "      <td>2</td>\n",
       "      <td>0</td>\n",
       "      <td>4</td>\n",
       "      <td>5</td>\n",
       "      <td>18</td>\n",
       "      <td>1</td>\n",
       "    </tr>\n",
       "    <tr>\n",
       "      <th>2</th>\n",
       "      <td>376</td>\n",
       "      <td>2</td>\n",
       "      <td>0</td>\n",
       "      <td>17</td>\n",
       "      <td>5</td>\n",
       "      <td>18</td>\n",
       "      <td>1</td>\n",
       "    </tr>\n",
       "    <tr>\n",
       "      <th>3</th>\n",
       "      <td>1987</td>\n",
       "      <td>2</td>\n",
       "      <td>1</td>\n",
       "      <td>15</td>\n",
       "      <td>2</td>\n",
       "      <td>38</td>\n",
       "      <td>1</td>\n",
       "    </tr>\n",
       "    <tr>\n",
       "      <th>4</th>\n",
       "      <td>376</td>\n",
       "      <td>2</td>\n",
       "      <td>0</td>\n",
       "      <td>9</td>\n",
       "      <td>5</td>\n",
       "      <td>18</td>\n",
       "      <td>1</td>\n",
       "    </tr>\n",
       "  </tbody>\n",
       "</table>\n",
       "</div>"
      ],
      "text/plain": [
       "   subject  repeatCount  priority  alertSubClass  alertCategory  \\\n",
       "0      836            2         3             20              5   \n",
       "1      376            2         0              4              5   \n",
       "2      376            2         0             17              5   \n",
       "3     1987            2         1             15              2   \n",
       "4      376            2         0              9              5   \n",
       "\n",
       "   alertSubCategory  alert_autoheal  \n",
       "0                 2               1  \n",
       "1                18               1  \n",
       "2                18               1  \n",
       "3                38               1  \n",
       "4                18               1  "
      ]
     },
     "execution_count": 30,
     "metadata": {},
     "output_type": "execute_result"
    }
   ],
   "source": [
    "df.head()"
   ]
  },
  {
   "cell_type": "code",
   "execution_count": 31,
   "id": "f7910d00",
   "metadata": {
    "ExecuteTime": {
     "end_time": "2023-04-08T04:26:25.626798Z",
     "start_time": "2023-04-08T04:26:25.615514Z"
    }
   },
   "outputs": [],
   "source": [
    "# assigning the independent features to X and the target variable to y\n",
    "X = df.drop(columns = ['alert_autoheal'])\n",
    "y = df['alert_autoheal']"
   ]
  },
  {
   "cell_type": "code",
   "execution_count": 32,
   "id": "3a71e43c",
   "metadata": {
    "ExecuteTime": {
     "end_time": "2023-04-08T04:26:25.649792Z",
     "start_time": "2023-04-08T04:26:25.631127Z"
    }
   },
   "outputs": [
    {
     "data": {
      "text/html": [
       "<div>\n",
       "<style scoped>\n",
       "    .dataframe tbody tr th:only-of-type {\n",
       "        vertical-align: middle;\n",
       "    }\n",
       "\n",
       "    .dataframe tbody tr th {\n",
       "        vertical-align: top;\n",
       "    }\n",
       "\n",
       "    .dataframe thead th {\n",
       "        text-align: right;\n",
       "    }\n",
       "</style>\n",
       "<table border=\"1\" class=\"dataframe\">\n",
       "  <thead>\n",
       "    <tr style=\"text-align: right;\">\n",
       "      <th></th>\n",
       "      <th>subject</th>\n",
       "      <th>repeatCount</th>\n",
       "      <th>priority</th>\n",
       "      <th>alertSubClass</th>\n",
       "      <th>alertCategory</th>\n",
       "      <th>alertSubCategory</th>\n",
       "    </tr>\n",
       "  </thead>\n",
       "  <tbody>\n",
       "    <tr>\n",
       "      <th>0</th>\n",
       "      <td>836</td>\n",
       "      <td>2</td>\n",
       "      <td>3</td>\n",
       "      <td>20</td>\n",
       "      <td>5</td>\n",
       "      <td>2</td>\n",
       "    </tr>\n",
       "    <tr>\n",
       "      <th>1</th>\n",
       "      <td>376</td>\n",
       "      <td>2</td>\n",
       "      <td>0</td>\n",
       "      <td>4</td>\n",
       "      <td>5</td>\n",
       "      <td>18</td>\n",
       "    </tr>\n",
       "    <tr>\n",
       "      <th>2</th>\n",
       "      <td>376</td>\n",
       "      <td>2</td>\n",
       "      <td>0</td>\n",
       "      <td>17</td>\n",
       "      <td>5</td>\n",
       "      <td>18</td>\n",
       "    </tr>\n",
       "    <tr>\n",
       "      <th>3</th>\n",
       "      <td>1987</td>\n",
       "      <td>2</td>\n",
       "      <td>1</td>\n",
       "      <td>15</td>\n",
       "      <td>2</td>\n",
       "      <td>38</td>\n",
       "    </tr>\n",
       "    <tr>\n",
       "      <th>4</th>\n",
       "      <td>376</td>\n",
       "      <td>2</td>\n",
       "      <td>0</td>\n",
       "      <td>9</td>\n",
       "      <td>5</td>\n",
       "      <td>18</td>\n",
       "    </tr>\n",
       "  </tbody>\n",
       "</table>\n",
       "</div>"
      ],
      "text/plain": [
       "   subject  repeatCount  priority  alertSubClass  alertCategory  \\\n",
       "0      836            2         3             20              5   \n",
       "1      376            2         0              4              5   \n",
       "2      376            2         0             17              5   \n",
       "3     1987            2         1             15              2   \n",
       "4      376            2         0              9              5   \n",
       "\n",
       "   alertSubCategory  \n",
       "0                 2  \n",
       "1                18  \n",
       "2                18  \n",
       "3                38  \n",
       "4                18  "
      ]
     },
     "execution_count": 32,
     "metadata": {},
     "output_type": "execute_result"
    }
   ],
   "source": [
    "X.head()"
   ]
  },
  {
   "cell_type": "code",
   "execution_count": 33,
   "id": "51f9e0dc",
   "metadata": {
    "ExecuteTime": {
     "end_time": "2023-04-08T04:26:25.663996Z",
     "start_time": "2023-04-08T04:26:25.652984Z"
    }
   },
   "outputs": [
    {
     "data": {
      "text/plain": [
       "0    1\n",
       "1    1\n",
       "2    1\n",
       "3    1\n",
       "4    1\n",
       "Name: alert_autoheal, dtype: int64"
      ]
     },
     "execution_count": 33,
     "metadata": {},
     "output_type": "execute_result"
    }
   ],
   "source": [
    "y.head()"
   ]
  },
  {
   "cell_type": "code",
   "execution_count": 34,
   "id": "b214e8d5",
   "metadata": {
    "ExecuteTime": {
     "end_time": "2023-04-08T04:26:25.752546Z",
     "start_time": "2023-04-08T04:26:25.667541Z"
    }
   },
   "outputs": [],
   "source": [
    "# OLS method\n",
    "import statsmodels.formula.api as smf"
   ]
  },
  {
   "cell_type": "code",
   "execution_count": 35,
   "id": "14693e55",
   "metadata": {
    "ExecuteTime": {
     "end_time": "2023-04-08T04:26:25.773288Z",
     "start_time": "2023-04-08T04:26:25.755009Z"
    }
   },
   "outputs": [
    {
     "data": {
      "text/plain": [
       "Intercept    0.767059\n",
       "X[0]         0.000009\n",
       "X[1]        -0.113353\n",
       "X[2]         0.097131\n",
       "X[3]         0.006308\n",
       "X[4]         0.007213\n",
       "X[5]         0.000740\n",
       "dtype: float64"
      ]
     },
     "execution_count": 35,
     "metadata": {},
     "output_type": "execute_result"
    }
   ],
   "source": [
    "import statsmodels.formula.api as smf\n",
    "model = smf.ols(\"y~X\", data = df).fit()\n",
    "model.params"
   ]
  },
  {
   "cell_type": "code",
   "execution_count": 36,
   "id": "407a2f1f",
   "metadata": {
    "ExecuteTime": {
     "end_time": "2023-04-08T04:26:25.843239Z",
     "start_time": "2023-04-08T04:26:25.779610Z"
    },
    "scrolled": false
   },
   "outputs": [
    {
     "data": {
      "text/html": [
       "<table class=\"simpletable\">\n",
       "<caption>OLS Regression Results</caption>\n",
       "<tr>\n",
       "  <th>Dep. Variable:</th>            <td>y</td>        <th>  R-squared:         </th> <td>   0.087</td> \n",
       "</tr>\n",
       "<tr>\n",
       "  <th>Model:</th>                   <td>OLS</td>       <th>  Adj. R-squared:    </th> <td>   0.086</td> \n",
       "</tr>\n",
       "<tr>\n",
       "  <th>Method:</th>             <td>Least Squares</td>  <th>  F-statistic:       </th> <td>   83.51</td> \n",
       "</tr>\n",
       "<tr>\n",
       "  <th>Date:</th>             <td>Sat, 08 Apr 2023</td> <th>  Prob (F-statistic):</th> <td>3.28e-100</td>\n",
       "</tr>\n",
       "<tr>\n",
       "  <th>Time:</th>                 <td>09:56:25</td>     <th>  Log-Likelihood:    </th> <td> -2531.2</td> \n",
       "</tr>\n",
       "<tr>\n",
       "  <th>No. Observations:</th>      <td>  5238</td>      <th>  AIC:               </th> <td>   5076.</td> \n",
       "</tr>\n",
       "<tr>\n",
       "  <th>Df Residuals:</th>          <td>  5231</td>      <th>  BIC:               </th> <td>   5122.</td> \n",
       "</tr>\n",
       "<tr>\n",
       "  <th>Df Model:</th>              <td>     6</td>      <th>                     </th>     <td> </td>    \n",
       "</tr>\n",
       "<tr>\n",
       "  <th>Covariance Type:</th>      <td>nonrobust</td>    <th>                     </th>     <td> </td>    \n",
       "</tr>\n",
       "</table>\n",
       "<table class=\"simpletable\">\n",
       "<tr>\n",
       "      <td></td>         <th>coef</th>     <th>std err</th>      <th>t</th>      <th>P>|t|</th>  <th>[0.025</th>    <th>0.975]</th>  \n",
       "</tr>\n",
       "<tr>\n",
       "  <th>Intercept</th> <td>    0.7671</td> <td>    0.032</td> <td>   23.801</td> <td> 0.000</td> <td>    0.704</td> <td>    0.830</td>\n",
       "</tr>\n",
       "<tr>\n",
       "  <th>X[0]</th>      <td>  8.97e-06</td> <td> 5.91e-06</td> <td>    1.517</td> <td> 0.129</td> <td>-2.62e-06</td> <td> 2.06e-05</td>\n",
       "</tr>\n",
       "<tr>\n",
       "  <th>X[1]</th>      <td>   -0.1134</td> <td>    0.008</td> <td>  -14.113</td> <td> 0.000</td> <td>   -0.129</td> <td>   -0.098</td>\n",
       "</tr>\n",
       "<tr>\n",
       "  <th>X[2]</th>      <td>    0.0971</td> <td>    0.007</td> <td>   13.996</td> <td> 0.000</td> <td>    0.084</td> <td>    0.111</td>\n",
       "</tr>\n",
       "<tr>\n",
       "  <th>X[3]</th>      <td>    0.0063</td> <td>    0.001</td> <td>    5.052</td> <td> 0.000</td> <td>    0.004</td> <td>    0.009</td>\n",
       "</tr>\n",
       "<tr>\n",
       "  <th>X[4]</th>      <td>    0.0072</td> <td>    0.003</td> <td>    2.877</td> <td> 0.004</td> <td>    0.002</td> <td>    0.012</td>\n",
       "</tr>\n",
       "<tr>\n",
       "  <th>X[5]</th>      <td>    0.0007</td> <td>    0.000</td> <td>    2.047</td> <td> 0.041</td> <td> 3.13e-05</td> <td>    0.001</td>\n",
       "</tr>\n",
       "</table>\n",
       "<table class=\"simpletable\">\n",
       "<tr>\n",
       "  <th>Omnibus:</th>       <td>868.962</td> <th>  Durbin-Watson:     </th> <td>   1.420</td> \n",
       "</tr>\n",
       "<tr>\n",
       "  <th>Prob(Omnibus):</th> <td> 0.000</td>  <th>  Jarque-Bera (JB):  </th> <td>1386.966</td> \n",
       "</tr>\n",
       "<tr>\n",
       "  <th>Skew:</th>          <td>-1.260</td>  <th>  Prob(JB):          </th> <td>6.67e-302</td>\n",
       "</tr>\n",
       "<tr>\n",
       "  <th>Kurtosis:</th>      <td> 3.080</td>  <th>  Cond. No.          </th> <td>1.15e+04</td> \n",
       "</tr>\n",
       "</table><br/><br/>Notes:<br/>[1] Standard Errors assume that the covariance matrix of the errors is correctly specified.<br/>[2] The condition number is large, 1.15e+04. This might indicate that there are<br/>strong multicollinearity or other numerical problems."
      ],
      "text/plain": [
       "<class 'statsmodels.iolib.summary.Summary'>\n",
       "\"\"\"\n",
       "                            OLS Regression Results                            \n",
       "==============================================================================\n",
       "Dep. Variable:                      y   R-squared:                       0.087\n",
       "Model:                            OLS   Adj. R-squared:                  0.086\n",
       "Method:                 Least Squares   F-statistic:                     83.51\n",
       "Date:                Sat, 08 Apr 2023   Prob (F-statistic):          3.28e-100\n",
       "Time:                        09:56:25   Log-Likelihood:                -2531.2\n",
       "No. Observations:                5238   AIC:                             5076.\n",
       "Df Residuals:                    5231   BIC:                             5122.\n",
       "Df Model:                           6                                         \n",
       "Covariance Type:            nonrobust                                         \n",
       "==============================================================================\n",
       "                 coef    std err          t      P>|t|      [0.025      0.975]\n",
       "------------------------------------------------------------------------------\n",
       "Intercept      0.7671      0.032     23.801      0.000       0.704       0.830\n",
       "X[0]         8.97e-06   5.91e-06      1.517      0.129   -2.62e-06    2.06e-05\n",
       "X[1]          -0.1134      0.008    -14.113      0.000      -0.129      -0.098\n",
       "X[2]           0.0971      0.007     13.996      0.000       0.084       0.111\n",
       "X[3]           0.0063      0.001      5.052      0.000       0.004       0.009\n",
       "X[4]           0.0072      0.003      2.877      0.004       0.002       0.012\n",
       "X[5]           0.0007      0.000      2.047      0.041    3.13e-05       0.001\n",
       "==============================================================================\n",
       "Omnibus:                      868.962   Durbin-Watson:                   1.420\n",
       "Prob(Omnibus):                  0.000   Jarque-Bera (JB):             1386.966\n",
       "Skew:                          -1.260   Prob(JB):                    6.67e-302\n",
       "Kurtosis:                       3.080   Cond. No.                     1.15e+04\n",
       "==============================================================================\n",
       "\n",
       "Notes:\n",
       "[1] Standard Errors assume that the covariance matrix of the errors is correctly specified.\n",
       "[2] The condition number is large, 1.15e+04. This might indicate that there are\n",
       "strong multicollinearity or other numerical problems.\n",
       "\"\"\""
      ]
     },
     "execution_count": 36,
     "metadata": {},
     "output_type": "execute_result"
    }
   ],
   "source": [
    "model.summary()"
   ]
  },
  {
   "cell_type": "markdown",
   "id": "7db2d68a",
   "metadata": {},
   "source": [
    "# Split the dataset into Training and Testing datasets"
   ]
  },
  {
   "cell_type": "code",
   "execution_count": 37,
   "id": "e47f608d",
   "metadata": {
    "ExecuteTime": {
     "end_time": "2023-04-08T04:26:25.921207Z",
     "start_time": "2023-04-08T04:26:25.846029Z"
    }
   },
   "outputs": [],
   "source": [
    "from sklearn.model_selection import train_test_split"
   ]
  },
  {
   "cell_type": "code",
   "execution_count": 38,
   "id": "b54f52c3",
   "metadata": {
    "ExecuteTime": {
     "end_time": "2023-04-08T04:26:26.031660Z",
     "start_time": "2023-04-08T04:26:25.924581Z"
    }
   },
   "outputs": [],
   "source": [
    "from sklearn.neighbors import KNeighborsClassifier\n",
    "from sklearn.metrics import classification_report, confusion_matrix, accuracy_score, r2_score"
   ]
  },
  {
   "cell_type": "code",
   "execution_count": 39,
   "id": "f03e674c",
   "metadata": {
    "ExecuteTime": {
     "end_time": "2023-04-08T04:26:26.040568Z",
     "start_time": "2023-04-08T04:26:26.033404Z"
    }
   },
   "outputs": [
    {
     "name": "stdout",
     "output_type": "stream",
     "text": [
      "Shape of training data: (3666, 6)\n",
      "Shape of testing data: (1572, 6)\n"
     ]
    }
   ],
   "source": [
    "#spliting the data into training 77% and test 33%\n",
    "X_train,X_test,y_train,y_test= train_test_split(X,y,test_size=0.3,random_state=42)\n",
    "\n",
    "print('Shape of training data:',(X_train.shape))\n",
    "print('Shape of testing data:',(X_test.shape))"
   ]
  },
  {
   "cell_type": "markdown",
   "id": "ff3fe63a",
   "metadata": {},
   "source": [
    "### KNN Before Balancing The Data"
   ]
  },
  {
   "cell_type": "code",
   "execution_count": 40,
   "id": "ff50b146",
   "metadata": {
    "ExecuteTime": {
     "end_time": "2023-04-08T04:26:26.112135Z",
     "start_time": "2023-04-08T04:26:26.043009Z"
    },
    "scrolled": false
   },
   "outputs": [
    {
     "name": "stdout",
     "output_type": "stream",
     "text": [
      "Accuracy : 0.81\n",
      "Other Metrics:\n",
      "              precision    recall  f1-score   support\n",
      "\n",
      "           0       0.58      0.44      0.50       345\n",
      "           1       0.85      0.91      0.88      1227\n",
      "\n",
      "    accuracy                           0.81      1572\n",
      "   macro avg       0.72      0.68      0.69      1572\n",
      "weighted avg       0.79      0.81      0.80      1572\n",
      "\n"
     ]
    }
   ],
   "source": [
    "clf= KNeighborsClassifier()\n",
    "clf.fit(X_train,y_train)\n",
    "y_pred = clf.predict(X_test)\n",
    "accuracy = accuracy_score(y_test, y_pred)\n",
    "\n",
    "print(\"Accuracy :\",  round(accuracy,2))\n",
    "\n",
    "print(\"Other Metrics:\")\n",
    "print(classification_report(y_test, y_pred))"
   ]
  },
  {
   "cell_type": "code",
   "execution_count": 41,
   "id": "4db005d2",
   "metadata": {
    "ExecuteTime": {
     "end_time": "2023-04-08T04:26:26.120390Z",
     "start_time": "2023-04-08T04:26:26.114287Z"
    }
   },
   "outputs": [
    {
     "data": {
      "text/plain": [
       "array([[ 152,  193],\n",
       "       [ 108, 1119]])"
      ]
     },
     "execution_count": 41,
     "metadata": {},
     "output_type": "execute_result"
    }
   ],
   "source": [
    "confusion_matrix(y_test,y_pred)"
   ]
  },
  {
   "cell_type": "code",
   "execution_count": 42,
   "id": "a23214be",
   "metadata": {
    "ExecuteTime": {
     "end_time": "2023-04-08T04:26:26.127226Z",
     "start_time": "2023-04-08T04:26:26.122839Z"
    }
   },
   "outputs": [
    {
     "data": {
      "text/plain": [
       "array([0, 0, 1, ..., 1, 1, 1])"
      ]
     },
     "execution_count": 42,
     "metadata": {},
     "output_type": "execute_result"
    }
   ],
   "source": [
    "y_pred"
   ]
  },
  {
   "cell_type": "code",
   "execution_count": 43,
   "id": "26db7e11",
   "metadata": {
    "ExecuteTime": {
     "end_time": "2023-04-08T04:26:26.156433Z",
     "start_time": "2023-04-08T04:26:26.128972Z"
    }
   },
   "outputs": [
    {
     "data": {
      "text/html": [
       "<div>\n",
       "<style scoped>\n",
       "    .dataframe tbody tr th:only-of-type {\n",
       "        vertical-align: middle;\n",
       "    }\n",
       "\n",
       "    .dataframe tbody tr th {\n",
       "        vertical-align: top;\n",
       "    }\n",
       "\n",
       "    .dataframe thead th {\n",
       "        text-align: right;\n",
       "    }\n",
       "</style>\n",
       "<table border=\"1\" class=\"dataframe\">\n",
       "  <thead>\n",
       "    <tr style=\"text-align: right;\">\n",
       "      <th>col_0</th>\n",
       "      <th>0</th>\n",
       "      <th>1</th>\n",
       "    </tr>\n",
       "    <tr>\n",
       "      <th>alert_autoheal</th>\n",
       "      <th></th>\n",
       "      <th></th>\n",
       "    </tr>\n",
       "  </thead>\n",
       "  <tbody>\n",
       "    <tr>\n",
       "      <th>0</th>\n",
       "      <td>152</td>\n",
       "      <td>193</td>\n",
       "    </tr>\n",
       "    <tr>\n",
       "      <th>1</th>\n",
       "      <td>108</td>\n",
       "      <td>1119</td>\n",
       "    </tr>\n",
       "  </tbody>\n",
       "</table>\n",
       "</div>"
      ],
      "text/plain": [
       "col_0             0     1\n",
       "alert_autoheal           \n",
       "0               152   193\n",
       "1               108  1119"
      ]
     },
     "execution_count": 43,
     "metadata": {},
     "output_type": "execute_result"
    }
   ],
   "source": [
    "pd.crosstab(y_test, y_pred)"
   ]
  },
  {
   "cell_type": "markdown",
   "id": "2971bd0e",
   "metadata": {},
   "source": [
    "# Data Balancing"
   ]
  },
  {
   "cell_type": "code",
   "execution_count": 44,
   "id": "327c7d77",
   "metadata": {
    "ExecuteTime": {
     "end_time": "2023-04-08T04:26:26.166253Z",
     "start_time": "2023-04-08T04:26:26.159945Z"
    }
   },
   "outputs": [
    {
     "data": {
      "text/plain": [
       "1    4113\n",
       "0    1125\n",
       "Name: alert_autoheal, dtype: int64"
      ]
     },
     "execution_count": 44,
     "metadata": {},
     "output_type": "execute_result"
    }
   ],
   "source": [
    "df['alert_autoheal'].value_counts()"
   ]
  },
  {
   "cell_type": "code",
   "execution_count": 45,
   "id": "4cdc2f69",
   "metadata": {
    "ExecuteTime": {
     "end_time": "2023-04-08T04:26:26.252548Z",
     "start_time": "2023-04-08T04:26:26.168066Z"
    }
   },
   "outputs": [
    {
     "data": {
      "image/png": "[encoded data removed]",
      "text/plain": [
       "<Figure size 432x288 with 1 Axes>"
      ]
     },
     "metadata": {},
     "output_type": "display_data"
    }
   ],
   "source": [
    "plt.pie(df['alert_autoheal'].value_counts(),labels=['True','False'],autopct='%0.2f')\n",
    "plt.show()"
   ]
  },
  {
   "cell_type": "markdown",
   "id": "bccd2193",
   "metadata": {},
   "source": [
    "Since the target variable is highly imbalanced, we will balance it using smote technique"
   ]
  },
  {
   "cell_type": "code",
   "execution_count": 46,
   "id": "e1025cc6",
   "metadata": {
    "ExecuteTime": {
     "end_time": "2023-04-08T04:26:26.428749Z",
     "start_time": "2023-04-08T04:26:26.255744Z"
    }
   },
   "outputs": [],
   "source": [
    "from imblearn.over_sampling import SMOTEN\n",
    "smote = SMOTEN()"
   ]
  },
  {
   "cell_type": "code",
   "execution_count": 47,
   "id": "644a2010",
   "metadata": {
    "ExecuteTime": {
     "end_time": "2023-04-08T04:26:27.248256Z",
     "start_time": "2023-04-08T04:26:26.431568Z"
    }
   },
   "outputs": [
    {
     "name": "stderr",
     "output_type": "stream",
     "text": [
      "/home/ubuntu/.local/lib/python3.10/site-packages/imblearn/over_sampling/_smote/base.py:731: FutureWarning: Unlike other reduction functions (e.g. `skew`, `kurtosis`), the default behavior of `mode` typically preserves the axis it acts along. In SciPy 1.11.0, this behavior will change: the default value of `keepdims` will become False, the `axis` over which the statistic is taken will be eliminated, and the value None will no longer be accepted. Set `keepdims` to True or False to avoid this warning.\n",
      "  stats.mode(X_class[nn_indices[samples_indices]], axis=1).mode, axis=1\n"
     ]
    }
   ],
   "source": [
    "X1, y1 = smote.fit_resample(X, y)"
   ]
  },
  {
   "cell_type": "code",
   "execution_count": 48,
   "id": "d0dc44c7",
   "metadata": {
    "ExecuteTime": {
     "end_time": "2023-04-08T04:26:27.257420Z",
     "start_time": "2023-04-08T04:26:27.250769Z"
    }
   },
   "outputs": [
    {
     "name": "stdout",
     "output_type": "stream",
     "text": [
      "Before Smote:  Counter({1: 2886, 0: 780})\n",
      "After Smote:  Counter({1: 4113, 0: 4113})\n"
     ]
    }
   ],
   "source": [
    "from collections import Counter\n",
    "print(\"Before Smote: \", Counter(y_train))\n",
    "print(\"After Smote: \", Counter(y1))"
   ]
  },
  {
   "cell_type": "markdown",
   "id": "8a6a5f0f",
   "metadata": {},
   "source": [
    "## Model Building"
   ]
  },
  {
   "cell_type": "markdown",
   "id": "1c2be343",
   "metadata": {},
   "source": [
    "## KNeighbors Classifier"
   ]
  },
  {
   "cell_type": "code",
   "execution_count": 49,
   "id": "575505a7",
   "metadata": {
    "ExecuteTime": {
     "end_time": "2023-04-08T04:26:27.333993Z",
     "start_time": "2023-04-08T04:26:27.260059Z"
    }
   },
   "outputs": [
    {
     "name": "stdout",
     "output_type": "stream",
     "text": [
      "Accuracy : 0.86\n",
      "Other Metrics:\n",
      "              precision    recall  f1-score   support\n",
      "\n",
      "           0       0.72      0.60      0.65       345\n",
      "           1       0.89      0.93      0.91      1227\n",
      "\n",
      "    accuracy                           0.86      1572\n",
      "   macro avg       0.80      0.77      0.78      1572\n",
      "weighted avg       0.85      0.86      0.85      1572\n",
      "\n",
      "col_0             0     1\n",
      "alert_autoheal           \n",
      "0               206   139\n",
      "1                82  1145\n",
      "\n",
      "\n",
      "R2 Score is:  0.1793061904255696\n"
     ]
    }
   ],
   "source": [
    "clf= KNeighborsClassifier()\n",
    "clf.fit(X1,y1)\n",
    "y_pred = clf.predict(X_test)\n",
    "accuracy = accuracy_score(y_test, y_pred)\n",
    "\n",
    "print(\"Accuracy :\",  round(accuracy,2))\n",
    "\n",
    "print(\"Other Metrics:\")\n",
    "print(classification_report(y_test, y_pred))\n",
    "\n",
    "print(pd.crosstab(y_test, y_pred))\n",
    "print(\"\\n\\nR2 Score is: \",r2_score(y_test, y_pred))"
   ]
  },
  {
   "cell_type": "markdown",
   "id": "a0509cbc",
   "metadata": {},
   "source": [
    "## Logistic Regression"
   ]
  },
  {
   "cell_type": "code",
   "execution_count": 50,
   "id": "4728f677",
   "metadata": {
    "ExecuteTime": {
     "end_time": "2023-04-08T04:26:27.554528Z",
     "start_time": "2023-04-08T04:26:27.336406Z"
    }
   },
   "outputs": [
    {
     "name": "stdout",
     "output_type": "stream",
     "text": [
      "Accuracy : 0.67\n",
      "Other Metrics:\n",
      "              precision    recall  f1-score   support\n",
      "\n",
      "           0       0.36      0.65      0.46       345\n",
      "           1       0.87      0.67      0.76      1227\n",
      "\n",
      "    accuracy                           0.67      1572\n",
      "   macro avg       0.61      0.66      0.61      1572\n",
      "weighted avg       0.76      0.67      0.69      1572\n",
      "\n",
      "col_0             0    1\n",
      "alert_autoheal          \n",
      "0               225  120\n",
      "1               405  822\n",
      "\n",
      "\n",
      "R2 Score is:  -0.9496119910704794\n"
     ]
    },
    {
     "name": "stderr",
     "output_type": "stream",
     "text": [
      "/home/ubuntu/.local/lib/python3.10/site-packages/sklearn/linear_model/_logistic.py:444: ConvergenceWarning: lbfgs failed to converge (status=1):\n",
      "STOP: TOTAL NO. of ITERATIONS REACHED LIMIT.\n",
      "\n",
      "Increase the number of iterations (max_iter) or scale the data as shown in:\n",
      "    https://scikit-learn.org/stable/modules/preprocessing.html\n",
      "Please also refer to the documentation for alternative solver options:\n",
      "    https://scikit-learn.org/stable/modules/linear_model.html#logistic-regression\n",
      "  n_iter_i = _check_optimize_result(\n"
     ]
    }
   ],
   "source": [
    "from sklearn.linear_model import LogisticRegression\n",
    "clf1 = LogisticRegression()\n",
    "clf1.fit(X1,y1)\n",
    "y_pred = clf1.predict(X_test)\n",
    "accuracy = accuracy_score(y_test, y_pred)\n",
    "\n",
    "print(\"Accuracy :\",  round(accuracy,2))\n",
    "\n",
    "print(\"Other Metrics:\")\n",
    "print(classification_report(y_test, y_pred))\n",
    "\n",
    "print(pd.crosstab(y_test, y_pred))\n",
    "print(\"\\n\\nR2 Score is: \",r2_score(y_test, y_pred))"
   ]
  },
  {
   "cell_type": "markdown",
   "id": "9c4fff4e",
   "metadata": {},
   "source": [
    "## Decision Tree"
   ]
  },
  {
   "cell_type": "code",
   "execution_count": 51,
   "id": "656ac2ff",
   "metadata": {
    "ExecuteTime": {
     "end_time": "2023-04-08T04:26:27.566372Z",
     "start_time": "2023-04-08T04:26:27.559296Z"
    }
   },
   "outputs": [],
   "source": [
    "from sklearn.tree import DecisionTreeClassifier"
   ]
  },
  {
   "cell_type": "code",
   "execution_count": 52,
   "id": "3963f8f0",
   "metadata": {
    "ExecuteTime": {
     "end_time": "2023-04-08T04:26:27.634609Z",
     "start_time": "2023-04-08T04:26:27.570753Z"
    }
   },
   "outputs": [
    {
     "name": "stdout",
     "output_type": "stream",
     "text": [
      "Accuracy : 0.93\n",
      "Other Metrics:\n",
      "              precision    recall  f1-score   support\n",
      "\n",
      "           0       0.78      0.95      0.86       345\n",
      "           1       0.99      0.93      0.95      1227\n",
      "\n",
      "    accuracy                           0.93      1572\n",
      "   macro avg       0.88      0.94      0.91      1572\n",
      "weighted avg       0.94      0.93      0.93      1572\n",
      "\n",
      "col_0             0     1\n",
      "alert_autoheal           \n",
      "0               328    17\n",
      "1                91  1136\n",
      "\n",
      "\n",
      "R2 Score is:  0.5989369618369299\n"
     ]
    }
   ],
   "source": [
    "clf2 = DecisionTreeClassifier()\n",
    "clf2.fit(X1,y1)\n",
    "y_pred = clf2.predict(X_test)\n",
    "accuracy = accuracy_score(y_test, y_pred)\n",
    "\n",
    "print(\"Accuracy :\",  round(accuracy,2))\n",
    "\n",
    "print(\"Other Metrics:\")\n",
    "print(classification_report(y_test, y_pred))\n",
    "\n",
    "print(pd.crosstab(y_test, y_pred))\n",
    "print(\"\\n\\nR2 Score is: \",r2_score(y_test, y_pred))"
   ]
  },
  {
   "cell_type": "markdown",
   "id": "1f72b135",
   "metadata": {},
   "source": [
    "## Support Vector Classifier"
   ]
  },
  {
   "cell_type": "code",
   "execution_count": 53,
   "id": "843b508b",
   "metadata": {
    "ExecuteTime": {
     "end_time": "2023-04-08T04:26:27.642189Z",
     "start_time": "2023-04-08T04:26:27.637649Z"
    }
   },
   "outputs": [],
   "source": [
    "from sklearn.svm import SVC"
   ]
  },
  {
   "cell_type": "code",
   "execution_count": 54,
   "id": "66afe07d",
   "metadata": {
    "ExecuteTime": {
     "end_time": "2023-04-08T04:26:30.881717Z",
     "start_time": "2023-04-08T04:26:27.645650Z"
    }
   },
   "outputs": [
    {
     "name": "stdout",
     "output_type": "stream",
     "text": [
      "Accuracy : 0.51\n",
      "Other Metrics:\n",
      "              precision    recall  f1-score   support\n",
      "\n",
      "           0       0.27      0.73      0.40       345\n",
      "           1       0.86      0.45      0.59      1227\n",
      "\n",
      "    accuracy                           0.51      1572\n",
      "   macro avg       0.56      0.59      0.49      1572\n",
      "weighted avg       0.73      0.51      0.55      1572\n",
      "\n",
      "col_0             0    1\n",
      "alert_autoheal          \n",
      "0               253   92\n",
      "1               675  552\n",
      "\n",
      "\n",
      "R2 Score is:  -1.848290280287729\n"
     ]
    }
   ],
   "source": [
    "clf3 = SVC()\n",
    "clf3.fit(X1,y1)\n",
    "y_pred = clf3.predict(X_test)\n",
    "accuracy = accuracy_score(y_test, y_pred)\n",
    "\n",
    "print(\"Accuracy :\",  round(accuracy,2))\n",
    "\n",
    "print(\"Other Metrics:\")\n",
    "print(classification_report(y_test, y_pred))\n",
    "\n",
    "print(pd.crosstab(y_test, y_pred))\n",
    "print(\"\\n\\nR2 Score is: \",r2_score(y_test, y_pred))"
   ]
  }
 ],
 "metadata": {
  "kernelspec": {
   "display_name": "Python 3 (ipykernel)",
   "language": "python",
   "name": "python3"
  },
  "language_info": {
   "codemirror_mode": {
    "name": "ipython",
    "version": 3
   },
   "file_extension": ".py",
   "mimetype": "text/x-python",
   "name": "python",
   "nbconvert_exporter": "python",
   "pygments_lexer": "ipython3",
   "version": "3.10.6"
  },
  "varInspector": {
   "cols": {
    "lenName": 16,
    "lenType": 16,
    "lenVar": 40
   },
   "kernels_config": {
    "python": {
     "delete_cmd_postfix": "",
     "delete_cmd_prefix": "del ",
     "library": "var_list.py",
     "varRefreshCmd": "print(var_dic_list())"
    },
    "r": {
     "delete_cmd_postfix": ") ",
     "delete_cmd_prefix": "rm(",
     "library": "var_list.r",
     "varRefreshCmd": "cat(var_dic_list()) "
    }
   },
   "types_to_exclude": [
    "module",
    "function",
    "builtin_function_or_method",
    "instance",
    "_Feature"
   ],
   "window_display": false
  }
 },
 "nbformat": 4,
 "nbformat_minor": 5
}
