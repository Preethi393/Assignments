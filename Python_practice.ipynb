{
 "cells": [
  {
   "cell_type": "code",
   "execution_count": 27,
   "id": "d162b69c",
   "metadata": {
    "ExecuteTime": {
     "end_time": "2023-03-23T06:11:21.427230Z",
     "start_time": "2023-03-23T06:11:21.415722Z"
    }
   },
   "outputs": [],
   "source": [
    "names = [[\"Preethi\", 430], [\"Naresha\", 5], [\"Dance\", 79], [\"Naresha\" , 50], [\"Chetanya\", 50]]"
   ]
  },
  {
   "cell_type": "markdown",
   "id": "9dad53a3",
   "metadata": {},
   "source": [
    "Given the names and grades for each student in a class of  N students, store them in a nested list and print the name(s) of any student(s) having the second lowest grade. make me understand code\n"
   ]
  },
  {
   "cell_type": "code",
   "execution_count": 46,
   "id": "e3658603",
   "metadata": {
    "ExecuteTime": {
     "end_time": "2023-03-23T06:19:23.018355Z",
     "start_time": "2023-03-23T06:19:23.014792Z"
    }
   },
   "outputs": [],
   "source": [
    "name = []\n",
    "score=[]\n",
    "for j, i in names:\n",
    "    name.append(j)\n",
    "    score.append(i)\n"
   ]
  },
  {
   "cell_type": "code",
   "execution_count": 49,
   "id": "acf7b228",
   "metadata": {
    "ExecuteTime": {
     "end_time": "2023-03-23T06:20:57.892668Z",
     "start_time": "2023-03-23T06:20:57.886614Z"
    },
    "scrolled": true
   },
   "outputs": [
    {
     "data": {
      "text/plain": [
       "([5, 50, 79, 430], ['Preethi', 'Naresha', 'Dance', 'Naresha', 'Chetanya'])"
      ]
     },
     "execution_count": 49,
     "metadata": {},
     "output_type": "execute_result"
    }
   ],
   "source": [
    "namess = sorted(list(set(score)))\n",
    "names = sorted(name)\n",
    "namess, name"
   ]
  },
  {
   "cell_type": "code",
   "execution_count": null,
   "id": "6874a3ff",
   "metadata": {
    "ExecuteTime": {
     "start_time": "2023-03-23T06:23:12.908Z"
    }
   },
   "outputs": [],
   "source": [
    "Result =[]\n",
    "scorelist = []\n",
    "\n",
    "if __name__ == '__main__':\n",
    "    for _ in range(int(input())):\n",
    "        name = input()\n",
    "        score = float(input())\n",
    "        Result+=[[name,score]]\n",
    "        scorelist+=[score]\n",
    "    b=sorted(list(set(scorelist)))[1] \n",
    "\n",
    "    for a,c in sorted(Result):\n",
    "        if c==b:\n",
    "            print(a)"
   ]
  },
  {
   "cell_type": "code",
   "execution_count": 6,
   "id": "d57498dd",
   "metadata": {
    "ExecuteTime": {
     "end_time": "2023-03-28T11:55:29.472553Z",
     "start_time": "2023-03-28T11:55:29.468434Z"
    }
   },
   "outputs": [
    {
     "name": "stdout",
     "output_type": "stream",
     "text": [
      "['P', 'r', 'e', 't', 'h', 'i', ' ', 'G', 'o', 'p', 'a', 'l', 'k', 's', 'n']\n"
     ]
    }
   ],
   "source": [
    "name = \"Preethi Gopalakrishnan\"\n",
    "char = []\n",
    "for i in name:\n",
    "    if i not in char:\n",
    "        char.append(i)\n",
    "print(char)"
   ]
  },
  {
   "cell_type": "code",
   "execution_count": 7,
   "id": "7bf71ef0",
   "metadata": {
    "ExecuteTime": {
     "end_time": "2023-03-28T11:34:20.885814Z",
     "start_time": "2023-03-28T11:34:20.881099Z"
    }
   },
   "outputs": [
    {
     "name": "stdout",
     "output_type": "stream",
     "text": [
      "{'P': 1, 'r': 2, 'e': 2, 't': 1, 'h': 2, 'i': 2, ' ': 1, 'G': 1, 'o': 1, 'p': 1, 'a': 3, 'l': 1, 'k': 1, 's': 1, 'n': 2}\n"
     ]
    }
   ],
   "source": [
    "name = \"Preethi Gopalakrishnan\"\n",
    "num = dict()\n",
    "\n",
    "for i,val in enumerate(name):\n",
    "    if val in num:\n",
    "        num[val] = num[val] + 1\n",
    "    else:\n",
    "        num[val] = 1\n",
    "print(num)"
   ]
  },
  {
   "cell_type": "code",
   "execution_count": 10,
   "id": "3f424bf0",
   "metadata": {
    "ExecuteTime": {
     "end_time": "2023-03-28T11:37:39.850780Z",
     "start_time": "2023-03-28T11:37:39.847405Z"
    }
   },
   "outputs": [
    {
     "name": "stdout",
     "output_type": "stream",
     "text": [
      "Counter({'a': 3, 'r': 2, 'e': 2, 'h': 2, 'i': 2, 'n': 2, 'P': 1, 't': 1, ' ': 1, 'G': 1, 'o': 1, 'p': 1, 'l': 1, 'k': 1, 's': 1})\n"
     ]
    }
   ],
   "source": [
    "import collections\n",
    "    \n",
    "print(collections.Counter(name))"
   ]
  },
  {
   "cell_type": "code",
   "execution_count": 1,
   "id": "9cd15567",
   "metadata": {
    "ExecuteTime": {
     "end_time": "2023-03-29T11:24:39.266909Z",
     "start_time": "2023-03-29T11:24:39.260581Z"
    }
   },
   "outputs": [],
   "source": []
  },
  {
   "cell_type": "code",
   "execution_count": null,
   "id": "fae2b477",
   "metadata": {},
   "outputs": [],
   "source": []
  },
  {
   "cell_type": "code",
   "execution_count": null,
   "id": "decc5c73",
   "metadata": {},
   "outputs": [],
   "source": []
  },
  {
   "cell_type": "code",
   "execution_count": null,
   "id": "f891104f",
   "metadata": {},
   "outputs": [],
   "source": []
  },
  {
   "cell_type": "code",
   "execution_count": null,
   "id": "0bf88240",
   "metadata": {},
   "outputs": [],
   "source": []
  }
 ],
 "metadata": {
  "kernelspec": {
   "display_name": "Python 3 (ipykernel)",
   "language": "python",
   "name": "python3"
  },
  "language_info": {
   "codemirror_mode": {
    "name": "ipython",
    "version": 3
   },
   "file_extension": ".py",
   "mimetype": "text/x-python",
   "name": "python",
   "nbconvert_exporter": "python",
   "pygments_lexer": "ipython3",
   "version": "3.10.6"
  },
  "varInspector": {
   "cols": {
    "lenName": 16,
    "lenType": 16,
    "lenVar": 40
   },
   "kernels_config": {
    "python": {
     "delete_cmd_postfix": "",
     "delete_cmd_prefix": "del ",
     "library": "var_list.py",
     "varRefreshCmd": "print(var_dic_list())"
    },
    "r": {
     "delete_cmd_postfix": ") ",
     "delete_cmd_prefix": "rm(",
     "library": "var_list.r",
     "varRefreshCmd": "cat(var_dic_list()) "
    }
   },
   "types_to_exclude": [
    "module",
    "function",
    "builtin_function_or_method",
    "instance",
    "_Feature"
   ],
   "window_display": false
  }
 },
 "nbformat": 4,
 "nbformat_minor": 5
}
