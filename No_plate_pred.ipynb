{
 "cells": [
  {
   "cell_type": "code",
   "execution_count": 1,
   "id": "c5285d97",
   "metadata": {
    "ExecuteTime": {
     "end_time": "2023-02-14T12:16:22.427322Z",
     "start_time": "2023-02-14T12:16:20.229524Z"
    }
   },
   "outputs": [
    {
     "name": "stderr",
     "output_type": "stream",
     "text": [
      "2023-02-14 17:46:20.241997: I tensorflow/core/platform/cpu_feature_guard.cc:193] This TensorFlow binary is optimized with oneAPI Deep Neural Network Library (oneDNN) to use the following CPU instructions in performance-critical operations:  AVX2 FMA\n",
      "To enable them in other operations, rebuild TensorFlow with the appropriate compiler flags.\n",
      "2023-02-14 17:46:20.429198: W tensorflow/compiler/xla/stream_executor/platform/default/dso_loader.cc:64] Could not load dynamic library 'libcudart.so.11.0'; dlerror: libcudart.so.11.0: cannot open shared object file: No such file or directory\n",
      "2023-02-14 17:46:20.429231: I tensorflow/compiler/xla/stream_executor/cuda/cudart_stub.cc:29] Ignore above cudart dlerror if you do not have a GPU set up on your machine.\n",
      "2023-02-14 17:46:21.207330: W tensorflow/compiler/xla/stream_executor/platform/default/dso_loader.cc:64] Could not load dynamic library 'libnvinfer.so.7'; dlerror: libnvinfer.so.7: cannot open shared object file: No such file or directory\n",
      "2023-02-14 17:46:21.207410: W tensorflow/compiler/xla/stream_executor/platform/default/dso_loader.cc:64] Could not load dynamic library 'libnvinfer_plugin.so.7'; dlerror: libnvinfer_plugin.so.7: cannot open shared object file: No such file or directory\n",
      "2023-02-14 17:46:21.207420: W tensorflow/compiler/tf2tensorrt/utils/py_utils.cc:38] TF-TRT Warning: Cannot dlopen some TensorRT libraries. If you would like to use Nvidia GPU with TensorRT, please make sure the missing libraries mentioned above are installed properly.\n"
     ]
    }
   ],
   "source": [
    "from keras.models import load_model\n",
    "import numpy as np\n",
    "from keras.preprocessing import image\n",
    "import tensorflow as tf\n",
    "import matplotlib.pyplot as plt\n",
    "from tensorflow.keras.preprocessing.image import load_img,img_to_array"
   ]
  },
  {
   "cell_type": "code",
   "execution_count": 2,
   "id": "40b9f37a",
   "metadata": {
    "ExecuteTime": {
     "end_time": "2023-02-14T12:16:24.443630Z",
     "start_time": "2023-02-14T12:16:22.430621Z"
    }
   },
   "outputs": [
    {
     "name": "stderr",
     "output_type": "stream",
     "text": [
      "2023-02-14 17:46:22.720499: W tensorflow/compiler/xla/stream_executor/platform/default/dso_loader.cc:64] Could not load dynamic library 'libcuda.so.1'; dlerror: libcuda.so.1: cannot open shared object file: No such file or directory\n",
      "2023-02-14 17:46:22.720534: W tensorflow/compiler/xla/stream_executor/cuda/cuda_driver.cc:265] failed call to cuInit: UNKNOWN ERROR (303)\n",
      "2023-02-14 17:46:22.720553: I tensorflow/compiler/xla/stream_executor/cuda/cuda_diagnostics.cc:156] kernel driver does not appear to be running on this host (ubuntu-Zako): /proc/driver/nvidia/version does not exist\n",
      "2023-02-14 17:46:22.720734: I tensorflow/core/platform/cpu_feature_guard.cc:193] This TensorFlow binary is optimized with oneAPI Deep Neural Network Library (oneDNN) to use the following CPU instructions in performance-critical operations:  AVX2 FMA\n",
      "To enable them in other operations, rebuild TensorFlow with the appropriate compiler flags.\n"
     ]
    }
   ],
   "source": [
    "#load saved model\n",
    "model = load_model('Model.h5') "
   ]
  },
  {
   "cell_type": "code",
   "execution_count": 3,
   "id": "63c76770",
   "metadata": {
    "ExecuteTime": {
     "end_time": "2023-02-14T12:16:24.450290Z",
     "start_time": "2023-02-14T12:16:24.446040Z"
    }
   },
   "outputs": [],
   "source": [
    "name = [0,1,2,3,4,5,6,7,8,9,'A','B','C','D','E','F','G','H','I','J','K','L','M','N','O','P','Q','R','S','T','U','V','W','X','Y','Z']"
   ]
  },
  {
   "cell_type": "code",
   "execution_count": 4,
   "id": "fbafb7df",
   "metadata": {
    "ExecuteTime": {
     "end_time": "2023-02-14T12:16:24.633953Z",
     "start_time": "2023-02-14T12:16:24.455062Z"
    }
   },
   "outputs": [
    {
     "data": {
      "image/png": "[encoded data removed]",
      "text/plain": [
       "<Figure size 432x288 with 1 Axes>"
      ]
     },
     "metadata": {
      "needs_background": "light"
     },
     "output_type": "display_data"
    }
   ],
   "source": [
    "img_path = \"/home/ubuntu/Desktop/sep_data_final/sep_data/val/class_X/char_165_673052_1674891409530_6.jpg\"\n",
    "img = tf.keras.utils.load_img(img_path, target_size=(224, 224))\n",
    "\n",
    "plt.imshow(img)\n",
    "plt.show()"
   ]
  },
  {
   "cell_type": "code",
   "execution_count": 5,
   "id": "e8cd05e1",
   "metadata": {
    "ExecuteTime": {
     "end_time": "2023-02-14T12:16:24.641679Z",
     "start_time": "2023-02-14T12:16:24.637040Z"
    }
   },
   "outputs": [],
   "source": [
    "img = img_to_array(img)\n",
    "img = np.expand_dims(img,axis=0)\n",
    "img = img/255"
   ]
  },
  {
   "cell_type": "code",
   "execution_count": 6,
   "id": "4f39adcb",
   "metadata": {
    "ExecuteTime": {
     "end_time": "2023-02-14T12:16:25.638947Z",
     "start_time": "2023-02-14T12:16:24.645369Z"
    }
   },
   "outputs": [
    {
     "name": "stdout",
     "output_type": "stream",
     "text": [
      "1/1 [==============================] - 1s 910ms/step\n",
      "[[3.0284955e-09 2.3755074e-05 4.1492365e-11 8.6425408e-11 1.9480663e-05\n",
      "  1.7076789e-12 3.9146335e-11 1.3195561e-09 2.1268742e-09 3.5780558e-13\n",
      "  1.7240305e-07 1.2008698e-12 4.4766521e-10 5.3732472e-16 4.6329721e-13\n",
      "  3.1513268e-11 2.3369052e-19 6.8103567e-10 9.5485608e-10 1.2828160e-08\n",
      "  6.0105525e-05 2.8634947e-10 1.0199152e-09 3.3771219e-08 2.1118047e-20\n",
      "  7.4144003e-11 1.2348365e-17 8.7999946e-12 3.2080113e-08 5.0406936e-09\n",
      "  2.2166993e-14 1.9215825e-07 1.7113383e-07 9.9660134e-01 3.2946249e-03\n",
      "  2.7148679e-15]]\n"
     ]
    }
   ],
   "source": [
    "predict  = model.predict(img)\n",
    "print(predict)"
   ]
  },
  {
   "cell_type": "code",
   "execution_count": 7,
   "id": "bc03c032",
   "metadata": {
    "ExecuteTime": {
     "end_time": "2023-02-14T12:16:25.649295Z",
     "start_time": "2023-02-14T12:16:25.642186Z"
    }
   },
   "outputs": [
    {
     "data": {
      "text/plain": [
       "array([[0., 0., 0., 0., 0., 0., 0., 0., 0., 0., 0., 0., 0., 0., 0., 0.,\n",
       "        0., 0., 0., 0., 0., 0., 0., 0., 0., 0., 0., 0., 0., 0., 0., 0.,\n",
       "        0., 1., 0., 0.]], dtype=float32)"
      ]
     },
     "execution_count": 7,
     "metadata": {},
     "output_type": "execute_result"
    }
   ],
   "source": [
    "np.round(predict,2)"
   ]
  },
  {
   "cell_type": "code",
   "execution_count": 8,
   "id": "eb12215a",
   "metadata": {
    "ExecuteTime": {
     "end_time": "2023-02-14T12:16:25.661557Z",
     "start_time": "2023-02-14T12:16:25.654923Z"
    }
   },
   "outputs": [
    {
     "data": {
      "text/plain": [
       "33"
      ]
     },
     "execution_count": 8,
     "metadata": {},
     "output_type": "execute_result"
    }
   ],
   "source": [
    "np.argmax(predict)"
   ]
  },
  {
   "cell_type": "code",
   "execution_count": 9,
   "id": "e9b06dc3",
   "metadata": {
    "ExecuteTime": {
     "end_time": "2023-02-14T12:16:25.674678Z",
     "start_time": "2023-02-14T12:16:25.666831Z"
    }
   },
   "outputs": [
    {
     "data": {
      "text/plain": [
       "'X'"
      ]
     },
     "execution_count": 9,
     "metadata": {},
     "output_type": "execute_result"
    }
   ],
   "source": [
    "name[np.argmax(predict)]"
   ]
  },
  {
   "cell_type": "code",
   "execution_count": null,
   "id": "89133996",
   "metadata": {},
   "outputs": [],
   "source": []
  },
  {
   "cell_type": "code",
   "execution_count": null,
   "id": "9966e96c",
   "metadata": {},
   "outputs": [],
   "source": []
  },
  {
   "cell_type": "code",
   "execution_count": null,
   "id": "2fa77a41",
   "metadata": {},
   "outputs": [],
   "source": []
  }
 ],
 "metadata": {
  "kernelspec": {
   "display_name": "Python 3 (ipykernel)",
   "language": "python",
   "name": "python3"
  },
  "language_info": {
   "codemirror_mode": {
    "name": "ipython",
    "version": 3
   },
   "file_extension": ".py",
   "mimetype": "text/x-python",
   "name": "python",
   "nbconvert_exporter": "python",
   "pygments_lexer": "ipython3",
   "version": "3.10.6"
  },
  "varInspector": {
   "cols": {
    "lenName": 16,
    "lenType": 16,
    "lenVar": 40
   },
   "kernels_config": {
    "python": {
     "delete_cmd_postfix": "",
     "delete_cmd_prefix": "del ",
     "library": "var_list.py",
     "varRefreshCmd": "print(var_dic_list())"
    },
    "r": {
     "delete_cmd_postfix": ") ",
     "delete_cmd_prefix": "rm(",
     "library": "var_list.r",
     "varRefreshCmd": "cat(var_dic_list()) "
    }
   },
   "types_to_exclude": [
    "module",
    "function",
    "builtin_function_or_method",
    "instance",
    "_Feature"
   ],
   "window_display": false
  }
 },
 "nbformat": 4,
 "nbformat_minor": 5
}
