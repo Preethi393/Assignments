{
 "cells": [
  {
   "cell_type": "code",
   "execution_count": 1,
   "id": "e4bcea54",
   "metadata": {
    "ExecuteTime": {
     "end_time": "2023-04-05T06:20:09.820120Z",
     "start_time": "2023-04-05T06:20:09.170740Z"
    }
   },
   "outputs": [],
   "source": [
    "# Importing the libraries\n",
    "import pandas as pd\n",
    "import numpy as np\n",
    "import matplotlib.pyplot as plt"
   ]
  },
  {
   "cell_type": "code",
   "execution_count": 2,
   "id": "e7242cfc",
   "metadata": {
    "ExecuteTime": {
     "end_time": "2023-04-05T06:20:09.926484Z",
     "start_time": "2023-04-05T06:20:09.823684Z"
    }
   },
   "outputs": [
    {
     "data": {
      "text/html": [
       "<div>\n",
       "<style scoped>\n",
       "    .dataframe tbody tr th:only-of-type {\n",
       "        vertical-align: middle;\n",
       "    }\n",
       "\n",
       "    .dataframe tbody tr th {\n",
       "        vertical-align: top;\n",
       "    }\n",
       "\n",
       "    .dataframe thead th {\n",
       "        text-align: right;\n",
       "    }\n",
       "</style>\n",
       "<table border=\"1\" class=\"dataframe\">\n",
       "  <thead>\n",
       "    <tr style=\"text-align: right;\">\n",
       "      <th></th>\n",
       "      <th>subject</th>\n",
       "      <th>currentState</th>\n",
       "      <th>repeatCount</th>\n",
       "      <th>priority</th>\n",
       "      <th>healTime</th>\n",
       "      <th>alertClass</th>\n",
       "      <th>alertSubClass</th>\n",
       "      <th>alertCategory</th>\n",
       "      <th>alertSubCategory</th>\n",
       "      <th>alert_autoheal</th>\n",
       "    </tr>\n",
       "  </thead>\n",
       "  <tbody>\n",
       "    <tr>\n",
       "      <th>0</th>\n",
       "      <td>FORTINET-FORTIGATE-MIB::fgTrapWcApDown (1.3.6....</td>\n",
       "      <td>Ok</td>\n",
       "      <td>2</td>\n",
       "      <td>P3</td>\n",
       "      <td>60</td>\n",
       "      <td>Network</td>\n",
       "      <td>Wireless</td>\n",
       "      <td>Device Status</td>\n",
       "      <td>AP Down</td>\n",
       "      <td>True</td>\n",
       "    </tr>\n",
       "    <tr>\n",
       "      <th>1</th>\n",
       "      <td>Critical - Packet Loss=100% - 100 (&gt;= 100)</td>\n",
       "      <td>Ok</td>\n",
       "      <td>2</td>\n",
       "      <td>P0</td>\n",
       "      <td>60</td>\n",
       "      <td>Network</td>\n",
       "      <td>Firewall</td>\n",
       "      <td>Device Status</td>\n",
       "      <td>Device Down</td>\n",
       "      <td>True</td>\n",
       "    </tr>\n",
       "    <tr>\n",
       "      <th>2</th>\n",
       "      <td>Critical - Packet Loss=100% - 100 (&gt;= 100)</td>\n",
       "      <td>Ok</td>\n",
       "      <td>2</td>\n",
       "      <td>P0</td>\n",
       "      <td>180</td>\n",
       "      <td>Compute</td>\n",
       "      <td>Virtualization</td>\n",
       "      <td>Device Status</td>\n",
       "      <td>Device Down</td>\n",
       "      <td>True</td>\n",
       "    </tr>\n",
       "    <tr>\n",
       "      <th>3</th>\n",
       "      <td>SNMP request timeout on WC008_01.mpdnet.miami-...</td>\n",
       "      <td>Ok</td>\n",
       "      <td>2</td>\n",
       "      <td>P1</td>\n",
       "      <td>240</td>\n",
       "      <td>Network</td>\n",
       "      <td>Switch</td>\n",
       "      <td>Connectivity</td>\n",
       "      <td>Monitoring Failure</td>\n",
       "      <td>True</td>\n",
       "    </tr>\n",
       "    <tr>\n",
       "      <th>4</th>\n",
       "      <td>Critical - Packet Loss=100% - 100 (&gt;= 100)</td>\n",
       "      <td>Ok</td>\n",
       "      <td>2</td>\n",
       "      <td>P0</td>\n",
       "      <td>59</td>\n",
       "      <td>Compute</td>\n",
       "      <td>Operating System</td>\n",
       "      <td>Device Status</td>\n",
       "      <td>Device Down</td>\n",
       "      <td>True</td>\n",
       "    </tr>\n",
       "  </tbody>\n",
       "</table>\n",
       "</div>"
      ],
      "text/plain": [
       "                                             subject currentState  \\\n",
       "0  FORTINET-FORTIGATE-MIB::fgTrapWcApDown (1.3.6....           Ok   \n",
       "1         Critical - Packet Loss=100% - 100 (>= 100)           Ok   \n",
       "2         Critical - Packet Loss=100% - 100 (>= 100)           Ok   \n",
       "3  SNMP request timeout on WC008_01.mpdnet.miami-...           Ok   \n",
       "4         Critical - Packet Loss=100% - 100 (>= 100)           Ok   \n",
       "\n",
       "   repeatCount priority  healTime alertClass     alertSubClass  alertCategory  \\\n",
       "0            2       P3        60    Network          Wireless  Device Status   \n",
       "1            2       P0        60    Network          Firewall  Device Status   \n",
       "2            2       P0       180    Compute    Virtualization  Device Status   \n",
       "3            2       P1       240    Network            Switch   Connectivity   \n",
       "4            2       P0        59    Compute  Operating System  Device Status   \n",
       "\n",
       "     alertSubCategory  alert_autoheal  \n",
       "0             AP Down            True  \n",
       "1         Device Down            True  \n",
       "2         Device Down            True  \n",
       "3  Monitoring Failure            True  \n",
       "4         Device Down            True  "
      ]
     },
     "execution_count": 2,
     "metadata": {},
     "output_type": "execute_result"
    }
   ],
   "source": [
    "# Importin dataset\n",
    "df = pd.read_json(\"alert_data.json\")\n",
    "df.head()"
   ]
  },
  {
   "cell_type": "code",
   "execution_count": 3,
   "id": "a1bf3b7b",
   "metadata": {
    "ExecuteTime": {
     "end_time": "2023-04-05T06:20:09.942868Z",
     "start_time": "2023-04-05T06:20:09.929573Z"
    }
   },
   "outputs": [
    {
     "data": {
      "text/html": [
       "<div>\n",
       "<style scoped>\n",
       "    .dataframe tbody tr th:only-of-type {\n",
       "        vertical-align: middle;\n",
       "    }\n",
       "\n",
       "    .dataframe tbody tr th {\n",
       "        vertical-align: top;\n",
       "    }\n",
       "\n",
       "    .dataframe thead th {\n",
       "        text-align: right;\n",
       "    }\n",
       "</style>\n",
       "<table border=\"1\" class=\"dataframe\">\n",
       "  <thead>\n",
       "    <tr style=\"text-align: right;\">\n",
       "      <th></th>\n",
       "      <th>subject</th>\n",
       "      <th>currentState</th>\n",
       "      <th>repeatCount</th>\n",
       "      <th>priority</th>\n",
       "      <th>healTime</th>\n",
       "      <th>alertClass</th>\n",
       "      <th>alertSubClass</th>\n",
       "      <th>alertCategory</th>\n",
       "      <th>alertSubCategory</th>\n",
       "      <th>alert_autoheal</th>\n",
       "    </tr>\n",
       "  </thead>\n",
       "  <tbody>\n",
       "    <tr>\n",
       "      <th>9995</th>\n",
       "      <td>SNMP request timeout on WC008_01.mpdnet.miami-...</td>\n",
       "      <td>Ok</td>\n",
       "      <td>2</td>\n",
       "      <td>P1</td>\n",
       "      <td>240</td>\n",
       "      <td>Network</td>\n",
       "      <td>Switch</td>\n",
       "      <td>Connectivity</td>\n",
       "      <td>Monitoring Failure</td>\n",
       "      <td>True</td>\n",
       "    </tr>\n",
       "    <tr>\n",
       "      <th>9996</th>\n",
       "      <td>Multiple alerts on resource WC008_01.mpdnet.mi...</td>\n",
       "      <td>Ok</td>\n",
       "      <td>2</td>\n",
       "      <td>P1</td>\n",
       "      <td>240</td>\n",
       "      <td>Network</td>\n",
       "      <td>Switch</td>\n",
       "      <td>Connectivity</td>\n",
       "      <td>Monitoring Failure</td>\n",
       "      <td>True</td>\n",
       "    </tr>\n",
       "    <tr>\n",
       "      <th>9997</th>\n",
       "      <td>OpsRamp agent is offline</td>\n",
       "      <td>Ok</td>\n",
       "      <td>2</td>\n",
       "      <td>P0</td>\n",
       "      <td>1140</td>\n",
       "      <td>Compute</td>\n",
       "      <td>Operating System</td>\n",
       "      <td>Connectivity</td>\n",
       "      <td>Opsramp Cloud Connectivity</td>\n",
       "      <td>False</td>\n",
       "    </tr>\n",
       "    <tr>\n",
       "      <th>9998</th>\n",
       "      <td>[Cleared] cca02ris001.cc.nwncloud.com: cca02ri...</td>\n",
       "      <td>Ok</td>\n",
       "      <td>2</td>\n",
       "      <td>P0</td>\n",
       "      <td>58</td>\n",
       "      <td>Others</td>\n",
       "      <td>Others</td>\n",
       "      <td>Others</td>\n",
       "      <td>Others</td>\n",
       "      <td>True</td>\n",
       "    </tr>\n",
       "    <tr>\n",
       "      <th>9999</th>\n",
       "      <td>[Cleared] PSCPVLFIN1A12.NWNCC.LOCAL: PSCPVLFIN...</td>\n",
       "      <td>Ok</td>\n",
       "      <td>2</td>\n",
       "      <td>P0</td>\n",
       "      <td>58</td>\n",
       "      <td>Others</td>\n",
       "      <td>Others</td>\n",
       "      <td>Others</td>\n",
       "      <td>Others</td>\n",
       "      <td>True</td>\n",
       "    </tr>\n",
       "  </tbody>\n",
       "</table>\n",
       "</div>"
      ],
      "text/plain": [
       "                                                subject currentState  \\\n",
       "9995  SNMP request timeout on WC008_01.mpdnet.miami-...           Ok   \n",
       "9996  Multiple alerts on resource WC008_01.mpdnet.mi...           Ok   \n",
       "9997                           OpsRamp agent is offline           Ok   \n",
       "9998  [Cleared] cca02ris001.cc.nwncloud.com: cca02ri...           Ok   \n",
       "9999  [Cleared] PSCPVLFIN1A12.NWNCC.LOCAL: PSCPVLFIN...           Ok   \n",
       "\n",
       "      repeatCount priority  healTime alertClass     alertSubClass  \\\n",
       "9995            2       P1       240    Network            Switch   \n",
       "9996            2       P1       240    Network            Switch   \n",
       "9997            2       P0      1140    Compute  Operating System   \n",
       "9998            2       P0        58     Others            Others   \n",
       "9999            2       P0        58     Others            Others   \n",
       "\n",
       "     alertCategory            alertSubCategory  alert_autoheal  \n",
       "9995  Connectivity          Monitoring Failure            True  \n",
       "9996  Connectivity          Monitoring Failure            True  \n",
       "9997  Connectivity  Opsramp Cloud Connectivity           False  \n",
       "9998        Others                      Others            True  \n",
       "9999        Others                      Others            True  "
      ]
     },
     "execution_count": 3,
     "metadata": {},
     "output_type": "execute_result"
    }
   ],
   "source": [
    "df.tail()"
   ]
  },
  {
   "cell_type": "code",
   "execution_count": 4,
   "id": "56e3069a",
   "metadata": {
    "ExecuteTime": {
     "end_time": "2023-04-05T06:20:09.951455Z",
     "start_time": "2023-04-05T06:20:09.945589Z"
    }
   },
   "outputs": [
    {
     "data": {
      "text/plain": [
       "(10000, 10)"
      ]
     },
     "execution_count": 4,
     "metadata": {},
     "output_type": "execute_result"
    }
   ],
   "source": [
    "df.shape"
   ]
  },
  {
   "cell_type": "code",
   "execution_count": 5,
   "id": "48ac39e9",
   "metadata": {
    "ExecuteTime": {
     "end_time": "2023-04-05T06:20:09.962954Z",
     "start_time": "2023-04-05T06:20:09.955533Z"
    }
   },
   "outputs": [
    {
     "data": {
      "text/plain": [
       "subject             object\n",
       "currentState        object\n",
       "repeatCount          int64\n",
       "priority            object\n",
       "healTime             int64\n",
       "alertClass          object\n",
       "alertSubClass       object\n",
       "alertCategory       object\n",
       "alertSubCategory    object\n",
       "alert_autoheal        bool\n",
       "dtype: object"
      ]
     },
     "execution_count": 5,
     "metadata": {},
     "output_type": "execute_result"
    }
   ],
   "source": [
    "df.dtypes"
   ]
  },
  {
   "cell_type": "code",
   "execution_count": 6,
   "id": "adfc82a7",
   "metadata": {
    "ExecuteTime": {
     "end_time": "2023-04-05T06:20:09.993151Z",
     "start_time": "2023-04-05T06:20:09.964876Z"
    }
   },
   "outputs": [
    {
     "name": "stdout",
     "output_type": "stream",
     "text": [
      "<class 'pandas.core.frame.DataFrame'>\n",
      "RangeIndex: 10000 entries, 0 to 9999\n",
      "Data columns (total 10 columns):\n",
      " #   Column            Non-Null Count  Dtype \n",
      "---  ------            --------------  ----- \n",
      " 0   subject           10000 non-null  object\n",
      " 1   currentState      10000 non-null  object\n",
      " 2   repeatCount       10000 non-null  int64 \n",
      " 3   priority          10000 non-null  object\n",
      " 4   healTime          10000 non-null  int64 \n",
      " 5   alertClass        10000 non-null  object\n",
      " 6   alertSubClass     10000 non-null  object\n",
      " 7   alertCategory     10000 non-null  object\n",
      " 8   alertSubCategory  10000 non-null  object\n",
      " 9   alert_autoheal    10000 non-null  bool  \n",
      "dtypes: bool(1), int64(2), object(7)\n",
      "memory usage: 713.0+ KB\n"
     ]
    }
   ],
   "source": [
    "df.info()"
   ]
  },
  {
   "cell_type": "code",
   "execution_count": 7,
   "id": "b17995db",
   "metadata": {
    "ExecuteTime": {
     "end_time": "2023-04-05T06:20:10.016004Z",
     "start_time": "2023-04-05T06:20:09.995370Z"
    }
   },
   "outputs": [
    {
     "data": {
      "text/plain": [
       "subject             0\n",
       "currentState        0\n",
       "repeatCount         0\n",
       "priority            0\n",
       "healTime            0\n",
       "alertClass          0\n",
       "alertSubClass       0\n",
       "alertCategory       0\n",
       "alertSubCategory    0\n",
       "alert_autoheal      0\n",
       "dtype: int64"
      ]
     },
     "execution_count": 7,
     "metadata": {},
     "output_type": "execute_result"
    }
   ],
   "source": [
    "# Checking for null values\n",
    "df.isnull().sum()"
   ]
  },
  {
   "cell_type": "code",
   "execution_count": 8,
   "id": "8832ffca",
   "metadata": {
    "ExecuteTime": {
     "end_time": "2023-04-05T06:20:10.078431Z",
     "start_time": "2023-04-05T06:20:10.018785Z"
    }
   },
   "outputs": [
    {
     "data": {
      "text/html": [
       "<div>\n",
       "<style scoped>\n",
       "    .dataframe tbody tr th:only-of-type {\n",
       "        vertical-align: middle;\n",
       "    }\n",
       "\n",
       "    .dataframe tbody tr th {\n",
       "        vertical-align: top;\n",
       "    }\n",
       "\n",
       "    .dataframe thead th {\n",
       "        text-align: right;\n",
       "    }\n",
       "</style>\n",
       "<table border=\"1\" class=\"dataframe\">\n",
       "  <thead>\n",
       "    <tr style=\"text-align: right;\">\n",
       "      <th></th>\n",
       "      <th>subject</th>\n",
       "      <th>currentState</th>\n",
       "      <th>repeatCount</th>\n",
       "      <th>priority</th>\n",
       "      <th>healTime</th>\n",
       "      <th>alertClass</th>\n",
       "      <th>alertSubClass</th>\n",
       "      <th>alertCategory</th>\n",
       "      <th>alertSubCategory</th>\n",
       "      <th>alert_autoheal</th>\n",
       "    </tr>\n",
       "  </thead>\n",
       "  <tbody>\n",
       "    <tr>\n",
       "      <th>17</th>\n",
       "      <td>Critical. No process running with name 'httpd'</td>\n",
       "      <td>Ok</td>\n",
       "      <td>2</td>\n",
       "      <td>P2</td>\n",
       "      <td>600</td>\n",
       "      <td>Others</td>\n",
       "      <td>Others</td>\n",
       "      <td>Others</td>\n",
       "      <td>Others</td>\n",
       "      <td>True</td>\n",
       "    </tr>\n",
       "    <tr>\n",
       "      <th>18</th>\n",
       "      <td>Critical. No process running with name 'httpd'</td>\n",
       "      <td>Ok</td>\n",
       "      <td>2</td>\n",
       "      <td>P2</td>\n",
       "      <td>600</td>\n",
       "      <td>Others</td>\n",
       "      <td>Others</td>\n",
       "      <td>Others</td>\n",
       "      <td>Others</td>\n",
       "      <td>True</td>\n",
       "    </tr>\n",
       "    <tr>\n",
       "      <th>20</th>\n",
       "      <td>Critical. No process running with name 'httpd'</td>\n",
       "      <td>Ok</td>\n",
       "      <td>2</td>\n",
       "      <td>P2</td>\n",
       "      <td>600</td>\n",
       "      <td>Others</td>\n",
       "      <td>Others</td>\n",
       "      <td>Others</td>\n",
       "      <td>Others</td>\n",
       "      <td>True</td>\n",
       "    </tr>\n",
       "    <tr>\n",
       "      <th>22</th>\n",
       "      <td>FORTINET-FORTIGATE-MIB::fgTrapWcApDown (1.3.6....</td>\n",
       "      <td>Ok</td>\n",
       "      <td>2</td>\n",
       "      <td>P3</td>\n",
       "      <td>60</td>\n",
       "      <td>Network</td>\n",
       "      <td>Wireless</td>\n",
       "      <td>Device Status</td>\n",
       "      <td>AP Down</td>\n",
       "      <td>True</td>\n",
       "    </tr>\n",
       "    <tr>\n",
       "      <th>29</th>\n",
       "      <td>CPU Usage is 100.0%.</td>\n",
       "      <td>Ok</td>\n",
       "      <td>2</td>\n",
       "      <td>P2</td>\n",
       "      <td>600</td>\n",
       "      <td>Compute</td>\n",
       "      <td>Operating System</td>\n",
       "      <td>Device Health</td>\n",
       "      <td>CPU</td>\n",
       "      <td>True</td>\n",
       "    </tr>\n",
       "    <tr>\n",
       "      <th>...</th>\n",
       "      <td>...</td>\n",
       "      <td>...</td>\n",
       "      <td>...</td>\n",
       "      <td>...</td>\n",
       "      <td>...</td>\n",
       "      <td>...</td>\n",
       "      <td>...</td>\n",
       "      <td>...</td>\n",
       "      <td>...</td>\n",
       "      <td>...</td>\n",
       "    </tr>\n",
       "    <tr>\n",
       "      <th>9993</th>\n",
       "      <td>Attenuated Alert: FORTINET-FORTIGATE-MIB::fgTr...</td>\n",
       "      <td>Ok</td>\n",
       "      <td>3</td>\n",
       "      <td>P1</td>\n",
       "      <td>480</td>\n",
       "      <td>Network</td>\n",
       "      <td>Wireless</td>\n",
       "      <td>Device Status</td>\n",
       "      <td>AP Down</td>\n",
       "      <td>True</td>\n",
       "    </tr>\n",
       "    <tr>\n",
       "      <th>9994</th>\n",
       "      <td>[Cleared] hcs-west-emc-storage-monitor: We are...</td>\n",
       "      <td>Ok</td>\n",
       "      <td>2</td>\n",
       "      <td>P2</td>\n",
       "      <td>18</td>\n",
       "      <td>Others</td>\n",
       "      <td>Others</td>\n",
       "      <td>Others</td>\n",
       "      <td>Others</td>\n",
       "      <td>True</td>\n",
       "    </tr>\n",
       "    <tr>\n",
       "      <th>9995</th>\n",
       "      <td>SNMP request timeout on WC008_01.mpdnet.miami-...</td>\n",
       "      <td>Ok</td>\n",
       "      <td>2</td>\n",
       "      <td>P1</td>\n",
       "      <td>240</td>\n",
       "      <td>Network</td>\n",
       "      <td>Switch</td>\n",
       "      <td>Connectivity</td>\n",
       "      <td>Monitoring Failure</td>\n",
       "      <td>True</td>\n",
       "    </tr>\n",
       "    <tr>\n",
       "      <th>9996</th>\n",
       "      <td>Multiple alerts on resource WC008_01.mpdnet.mi...</td>\n",
       "      <td>Ok</td>\n",
       "      <td>2</td>\n",
       "      <td>P1</td>\n",
       "      <td>240</td>\n",
       "      <td>Network</td>\n",
       "      <td>Switch</td>\n",
       "      <td>Connectivity</td>\n",
       "      <td>Monitoring Failure</td>\n",
       "      <td>True</td>\n",
       "    </tr>\n",
       "    <tr>\n",
       "      <th>9997</th>\n",
       "      <td>OpsRamp agent is offline</td>\n",
       "      <td>Ok</td>\n",
       "      <td>2</td>\n",
       "      <td>P0</td>\n",
       "      <td>1140</td>\n",
       "      <td>Compute</td>\n",
       "      <td>Operating System</td>\n",
       "      <td>Connectivity</td>\n",
       "      <td>Opsramp Cloud Connectivity</td>\n",
       "      <td>False</td>\n",
       "    </tr>\n",
       "  </tbody>\n",
       "</table>\n",
       "<p>4762 rows × 10 columns</p>\n",
       "</div>"
      ],
      "text/plain": [
       "                                                subject currentState  \\\n",
       "17       Critical. No process running with name 'httpd'           Ok   \n",
       "18       Critical. No process running with name 'httpd'           Ok   \n",
       "20       Critical. No process running with name 'httpd'           Ok   \n",
       "22    FORTINET-FORTIGATE-MIB::fgTrapWcApDown (1.3.6....           Ok   \n",
       "29                                 CPU Usage is 100.0%.           Ok   \n",
       "...                                                 ...          ...   \n",
       "9993  Attenuated Alert: FORTINET-FORTIGATE-MIB::fgTr...           Ok   \n",
       "9994  [Cleared] hcs-west-emc-storage-monitor: We are...           Ok   \n",
       "9995  SNMP request timeout on WC008_01.mpdnet.miami-...           Ok   \n",
       "9996  Multiple alerts on resource WC008_01.mpdnet.mi...           Ok   \n",
       "9997                           OpsRamp agent is offline           Ok   \n",
       "\n",
       "      repeatCount priority  healTime alertClass     alertSubClass  \\\n",
       "17              2       P2       600     Others            Others   \n",
       "18              2       P2       600     Others            Others   \n",
       "20              2       P2       600     Others            Others   \n",
       "22              2       P3        60    Network          Wireless   \n",
       "29              2       P2       600    Compute  Operating System   \n",
       "...           ...      ...       ...        ...               ...   \n",
       "9993            3       P1       480    Network          Wireless   \n",
       "9994            2       P2        18     Others            Others   \n",
       "9995            2       P1       240    Network            Switch   \n",
       "9996            2       P1       240    Network            Switch   \n",
       "9997            2       P0      1140    Compute  Operating System   \n",
       "\n",
       "      alertCategory            alertSubCategory  alert_autoheal  \n",
       "17           Others                      Others            True  \n",
       "18           Others                      Others            True  \n",
       "20           Others                      Others            True  \n",
       "22    Device Status                     AP Down            True  \n",
       "29    Device Health                         CPU            True  \n",
       "...             ...                         ...             ...  \n",
       "9993  Device Status                     AP Down            True  \n",
       "9994         Others                      Others            True  \n",
       "9995   Connectivity          Monitoring Failure            True  \n",
       "9996   Connectivity          Monitoring Failure            True  \n",
       "9997   Connectivity  Opsramp Cloud Connectivity           False  \n",
       "\n",
       "[4762 rows x 10 columns]"
      ]
     },
     "execution_count": 8,
     "metadata": {},
     "output_type": "execute_result"
    }
   ],
   "source": [
    "# Count of duplicated rows\n",
    "df[df.duplicated()]"
   ]
  },
  {
   "cell_type": "code",
   "execution_count": 9,
   "id": "e73f898c",
   "metadata": {
    "ExecuteTime": {
     "end_time": "2023-04-05T06:20:10.097704Z",
     "start_time": "2023-04-05T06:20:10.080568Z"
    }
   },
   "outputs": [],
   "source": [
    "df.drop_duplicates(keep = 'first', inplace= True)"
   ]
  },
  {
   "cell_type": "code",
   "execution_count": 10,
   "id": "f9c1c099",
   "metadata": {
    "ExecuteTime": {
     "end_time": "2023-04-05T06:20:10.107105Z",
     "start_time": "2023-04-05T06:20:10.101690Z"
    }
   },
   "outputs": [
    {
     "data": {
      "text/plain": [
       "(5238, 10)"
      ]
     },
     "execution_count": 10,
     "metadata": {},
     "output_type": "execute_result"
    }
   ],
   "source": [
    "df.shape"
   ]
  },
  {
   "cell_type": "code",
   "execution_count": 11,
   "id": "cb07f1a3",
   "metadata": {
    "ExecuteTime": {
     "end_time": "2023-04-05T06:20:10.115073Z",
     "start_time": "2023-04-05T06:20:10.109174Z"
    }
   },
   "outputs": [],
   "source": [
    "df = df.drop(columns=['currentState','alert_autoheal'])"
   ]
  },
  {
   "cell_type": "code",
   "execution_count": 12,
   "id": "e7f32873",
   "metadata": {
    "ExecuteTime": {
     "end_time": "2023-04-05T06:20:10.132853Z",
     "start_time": "2023-04-05T06:20:10.117653Z"
    },
    "scrolled": false
   },
   "outputs": [
    {
     "data": {
      "text/html": [
       "<div>\n",
       "<style scoped>\n",
       "    .dataframe tbody tr th:only-of-type {\n",
       "        vertical-align: middle;\n",
       "    }\n",
       "\n",
       "    .dataframe tbody tr th {\n",
       "        vertical-align: top;\n",
       "    }\n",
       "\n",
       "    .dataframe thead th {\n",
       "        text-align: right;\n",
       "    }\n",
       "</style>\n",
       "<table border=\"1\" class=\"dataframe\">\n",
       "  <thead>\n",
       "    <tr style=\"text-align: right;\">\n",
       "      <th></th>\n",
       "      <th>subject</th>\n",
       "      <th>repeatCount</th>\n",
       "      <th>priority</th>\n",
       "      <th>healTime</th>\n",
       "      <th>alertClass</th>\n",
       "      <th>alertSubClass</th>\n",
       "      <th>alertCategory</th>\n",
       "      <th>alertSubCategory</th>\n",
       "    </tr>\n",
       "  </thead>\n",
       "  <tbody>\n",
       "    <tr>\n",
       "      <th>0</th>\n",
       "      <td>FORTINET-FORTIGATE-MIB::fgTrapWcApDown (1.3.6....</td>\n",
       "      <td>2</td>\n",
       "      <td>P3</td>\n",
       "      <td>60</td>\n",
       "      <td>Network</td>\n",
       "      <td>Wireless</td>\n",
       "      <td>Device Status</td>\n",
       "      <td>AP Down</td>\n",
       "    </tr>\n",
       "    <tr>\n",
       "      <th>1</th>\n",
       "      <td>Critical - Packet Loss=100% - 100 (&gt;= 100)</td>\n",
       "      <td>2</td>\n",
       "      <td>P0</td>\n",
       "      <td>60</td>\n",
       "      <td>Network</td>\n",
       "      <td>Firewall</td>\n",
       "      <td>Device Status</td>\n",
       "      <td>Device Down</td>\n",
       "    </tr>\n",
       "    <tr>\n",
       "      <th>2</th>\n",
       "      <td>Critical - Packet Loss=100% - 100 (&gt;= 100)</td>\n",
       "      <td>2</td>\n",
       "      <td>P0</td>\n",
       "      <td>180</td>\n",
       "      <td>Compute</td>\n",
       "      <td>Virtualization</td>\n",
       "      <td>Device Status</td>\n",
       "      <td>Device Down</td>\n",
       "    </tr>\n",
       "    <tr>\n",
       "      <th>3</th>\n",
       "      <td>SNMP request timeout on WC008_01.mpdnet.miami-...</td>\n",
       "      <td>2</td>\n",
       "      <td>P1</td>\n",
       "      <td>240</td>\n",
       "      <td>Network</td>\n",
       "      <td>Switch</td>\n",
       "      <td>Connectivity</td>\n",
       "      <td>Monitoring Failure</td>\n",
       "    </tr>\n",
       "    <tr>\n",
       "      <th>4</th>\n",
       "      <td>Critical - Packet Loss=100% - 100 (&gt;= 100)</td>\n",
       "      <td>2</td>\n",
       "      <td>P0</td>\n",
       "      <td>59</td>\n",
       "      <td>Compute</td>\n",
       "      <td>Operating System</td>\n",
       "      <td>Device Status</td>\n",
       "      <td>Device Down</td>\n",
       "    </tr>\n",
       "  </tbody>\n",
       "</table>\n",
       "</div>"
      ],
      "text/plain": [
       "                                             subject  repeatCount priority  \\\n",
       "0  FORTINET-FORTIGATE-MIB::fgTrapWcApDown (1.3.6....            2       P3   \n",
       "1         Critical - Packet Loss=100% - 100 (>= 100)            2       P0   \n",
       "2         Critical - Packet Loss=100% - 100 (>= 100)            2       P0   \n",
       "3  SNMP request timeout on WC008_01.mpdnet.miami-...            2       P1   \n",
       "4         Critical - Packet Loss=100% - 100 (>= 100)            2       P0   \n",
       "\n",
       "   healTime alertClass     alertSubClass  alertCategory    alertSubCategory  \n",
       "0        60    Network          Wireless  Device Status             AP Down  \n",
       "1        60    Network          Firewall  Device Status         Device Down  \n",
       "2       180    Compute    Virtualization  Device Status         Device Down  \n",
       "3       240    Network            Switch   Connectivity  Monitoring Failure  \n",
       "4        59    Compute  Operating System  Device Status         Device Down  "
      ]
     },
     "execution_count": 12,
     "metadata": {},
     "output_type": "execute_result"
    }
   ],
   "source": [
    "df.head()"
   ]
  },
  {
   "cell_type": "code",
   "execution_count": 13,
   "id": "6c524b4e",
   "metadata": {
    "ExecuteTime": {
     "end_time": "2023-04-05T06:20:10.142328Z",
     "start_time": "2023-04-05T06:20:10.135843Z"
    }
   },
   "outputs": [
    {
     "data": {
      "text/plain": [
       "P1    2323\n",
       "P2    1627\n",
       "P0     962\n",
       "P3     326\n",
       "Name: priority, dtype: int64"
      ]
     },
     "execution_count": 13,
     "metadata": {},
     "output_type": "execute_result"
    }
   ],
   "source": [
    "# Check for value counts\n",
    "df['priority'].value_counts()"
   ]
  },
  {
   "cell_type": "code",
   "execution_count": 14,
   "id": "1e9ed7a5",
   "metadata": {
    "ExecuteTime": {
     "end_time": "2023-04-05T06:20:10.154135Z",
     "start_time": "2023-04-05T06:20:10.145006Z"
    }
   },
   "outputs": [
    {
     "data": {
      "text/plain": [
       "Network          1671\n",
       "Others           1575\n",
       "Compute           962\n",
       "Application       657\n",
       "Environment       109\n",
       "Data              105\n",
       "Cloud              54\n",
       "Communication      53\n",
       "Tools              52\n",
       "Name: alertClass, dtype: int64"
      ]
     },
     "execution_count": 14,
     "metadata": {},
     "output_type": "execute_result"
    }
   ],
   "source": [
    "df['alertClass'].value_counts()"
   ]
  },
  {
   "cell_type": "code",
   "execution_count": 15,
   "id": "8e8ef47a",
   "metadata": {
    "ExecuteTime": {
     "end_time": "2023-04-05T06:20:10.165978Z",
     "start_time": "2023-04-05T06:20:10.157678Z"
    }
   },
   "outputs": [
    {
     "data": {
      "text/plain": [
       "Others                     1575\n",
       "Operating System            765\n",
       "Switch                      749\n",
       "Web Service                 366\n",
       "Wireless                    342\n",
       "Firewall                    316\n",
       "Third Party Application     243\n",
       "Router                      218\n",
       "Virtualization              189\n",
       "Power                       109\n",
       "Infra Application            77\n",
       "Monitoring                   75\n",
       "Backup                       52\n",
       "Voice                        51\n",
       "Database                     35\n",
       "Generic Device               30\n",
       "Storage                      18\n",
       "SDWAN                        14\n",
       "Hardware                      8\n",
       "Cloud Instance                4\n",
       "Collaboration                 2\n",
       "Name: alertSubClass, dtype: int64"
      ]
     },
     "execution_count": 15,
     "metadata": {},
     "output_type": "execute_result"
    }
   ],
   "source": [
    "df['alertSubClass'].value_counts()"
   ]
  },
  {
   "cell_type": "code",
   "execution_count": 16,
   "id": "010364ed",
   "metadata": {
    "ExecuteTime": {
     "end_time": "2023-04-05T06:20:10.177655Z",
     "start_time": "2023-04-05T06:20:10.168778Z"
    }
   },
   "outputs": [
    {
     "data": {
      "text/plain": [
       "Others                1575\n",
       "Device Status         1138\n",
       "Device Health          814\n",
       "Application Health     638\n",
       "Connectivity           511\n",
       "Network Interface      303\n",
       "Application Status     226\n",
       "Device Management       30\n",
       "VOIP Link                2\n",
       "Resource Status          1\n",
       "Name: alertCategory, dtype: int64"
      ]
     },
     "execution_count": 16,
     "metadata": {},
     "output_type": "execute_result"
    }
   ],
   "source": [
    "df['alertCategory'].value_counts()"
   ]
  },
  {
   "cell_type": "code",
   "execution_count": 17,
   "id": "51ed6b42",
   "metadata": {
    "ExecuteTime": {
     "end_time": "2023-04-05T06:20:10.190093Z",
     "start_time": "2023-04-05T06:20:10.180941Z"
    }
   },
   "outputs": [
    {
     "data": {
      "text/plain": [
       "Others                             1575\n",
       "Device Down                         652\n",
       "Monitoring Failure                  310\n",
       "CPU                                 252\n",
       "Third Party Application Service     243\n",
       "                                   ... \n",
       "Management Connectivity               1\n",
       "Resource Down                         1\n",
       "High Availability                     1\n",
       "Exchange - Mailflow                   1\n",
       "Opsramp Gateway Status                1\n",
       "Name: alertSubCategory, Length: 69, dtype: int64"
      ]
     },
     "execution_count": 17,
     "metadata": {},
     "output_type": "execute_result"
    }
   ],
   "source": [
    "df['alertSubCategory'].value_counts()"
   ]
  },
  {
   "cell_type": "code",
   "execution_count": 18,
   "id": "6c40c96b",
   "metadata": {
    "ExecuteTime": {
     "end_time": "2023-04-05T06:20:10.566826Z",
     "start_time": "2023-04-05T06:20:10.192830Z"
    }
   },
   "outputs": [],
   "source": [
    "from sklearn.preprocessing import LabelEncoder"
   ]
  },
  {
   "cell_type": "code",
   "execution_count": 19,
   "id": "9089cb18",
   "metadata": {
    "ExecuteTime": {
     "end_time": "2023-04-05T06:20:10.607008Z",
     "start_time": "2023-04-05T06:20:10.568694Z"
    },
    "scrolled": true
   },
   "outputs": [
    {
     "data": {
      "text/html": [
       "<div>\n",
       "<style scoped>\n",
       "    .dataframe tbody tr th:only-of-type {\n",
       "        vertical-align: middle;\n",
       "    }\n",
       "\n",
       "    .dataframe tbody tr th {\n",
       "        vertical-align: top;\n",
       "    }\n",
       "\n",
       "    .dataframe thead th {\n",
       "        text-align: right;\n",
       "    }\n",
       "</style>\n",
       "<table border=\"1\" class=\"dataframe\">\n",
       "  <thead>\n",
       "    <tr style=\"text-align: right;\">\n",
       "      <th></th>\n",
       "      <th>subject</th>\n",
       "      <th>repeatCount</th>\n",
       "      <th>priority</th>\n",
       "      <th>healTime</th>\n",
       "      <th>alertClass</th>\n",
       "      <th>alertSubClass</th>\n",
       "      <th>alertCategory</th>\n",
       "      <th>alertSubCategory</th>\n",
       "    </tr>\n",
       "  </thead>\n",
       "  <tbody>\n",
       "    <tr>\n",
       "      <th>0</th>\n",
       "      <td>836</td>\n",
       "      <td>2</td>\n",
       "      <td>3</td>\n",
       "      <td>60</td>\n",
       "      <td>6</td>\n",
       "      <td>20</td>\n",
       "      <td>5</td>\n",
       "      <td>2</td>\n",
       "    </tr>\n",
       "    <tr>\n",
       "      <th>1</th>\n",
       "      <td>376</td>\n",
       "      <td>2</td>\n",
       "      <td>0</td>\n",
       "      <td>60</td>\n",
       "      <td>6</td>\n",
       "      <td>4</td>\n",
       "      <td>5</td>\n",
       "      <td>18</td>\n",
       "    </tr>\n",
       "    <tr>\n",
       "      <th>2</th>\n",
       "      <td>376</td>\n",
       "      <td>2</td>\n",
       "      <td>0</td>\n",
       "      <td>180</td>\n",
       "      <td>3</td>\n",
       "      <td>17</td>\n",
       "      <td>5</td>\n",
       "      <td>18</td>\n",
       "    </tr>\n",
       "    <tr>\n",
       "      <th>3</th>\n",
       "      <td>1987</td>\n",
       "      <td>2</td>\n",
       "      <td>1</td>\n",
       "      <td>240</td>\n",
       "      <td>6</td>\n",
       "      <td>15</td>\n",
       "      <td>2</td>\n",
       "      <td>38</td>\n",
       "    </tr>\n",
       "    <tr>\n",
       "      <th>4</th>\n",
       "      <td>376</td>\n",
       "      <td>2</td>\n",
       "      <td>0</td>\n",
       "      <td>59</td>\n",
       "      <td>3</td>\n",
       "      <td>9</td>\n",
       "      <td>5</td>\n",
       "      <td>18</td>\n",
       "    </tr>\n",
       "  </tbody>\n",
       "</table>\n",
       "</div>"
      ],
      "text/plain": [
       "   subject  repeatCount  priority  healTime  alertClass  alertSubClass  \\\n",
       "0      836            2         3        60           6             20   \n",
       "1      376            2         0        60           6              4   \n",
       "2      376            2         0       180           3             17   \n",
       "3     1987            2         1       240           6             15   \n",
       "4      376            2         0        59           3              9   \n",
       "\n",
       "   alertCategory  alertSubCategory  \n",
       "0              5                 2  \n",
       "1              5                18  \n",
       "2              5                18  \n",
       "3              2                38  \n",
       "4              5                18  "
      ]
     },
     "execution_count": 19,
     "metadata": {},
     "output_type": "execute_result"
    }
   ],
   "source": [
    "cols = ['subject', 'priority', 'alertClass', 'alertSubClass', 'alertCategory','alertSubCategory']\n",
    "\n",
    "df[cols] = df[cols].apply(LabelEncoder().fit_transform)\n",
    "\n",
    "df.head()"
   ]
  },
  {
   "cell_type": "markdown",
   "id": "04a29036",
   "metadata": {},
   "source": [
    "# Variation Inflation Factor"
   ]
  },
  {
   "cell_type": "code",
   "execution_count": 20,
   "id": "15792938",
   "metadata": {
    "ExecuteTime": {
     "end_time": "2023-04-05T06:20:10.676460Z",
     "start_time": "2023-04-05T06:20:10.609665Z"
    }
   },
   "outputs": [],
   "source": [
    "from statsmodels.stats.outliers_influence import variance_inflation_factor"
   ]
  },
  {
   "cell_type": "code",
   "execution_count": 21,
   "id": "25d79d20",
   "metadata": {
    "ExecuteTime": {
     "end_time": "2023-04-05T06:20:10.681629Z",
     "start_time": "2023-04-05T06:20:10.678476Z"
    }
   },
   "outputs": [],
   "source": [
    "def calc_vif(dataset):\n",
    "    vif = pd.DataFrame()\n",
    "    vif[\"features\"] = dataset.columns\n",
    "    vif[\"VIF_Value\"] = [variance_inflation_factor(dataset.values,i) for i in range(dataset.shape[1])]\n",
    "    return vif"
   ]
  },
  {
   "cell_type": "code",
   "execution_count": 22,
   "id": "02b57ca9",
   "metadata": {
    "ExecuteTime": {
     "end_time": "2023-04-05T06:20:10.698503Z",
     "start_time": "2023-04-05T06:20:10.683881Z"
    }
   },
   "outputs": [
    {
     "data": {
      "text/html": [
       "<div>\n",
       "<style scoped>\n",
       "    .dataframe tbody tr th:only-of-type {\n",
       "        vertical-align: middle;\n",
       "    }\n",
       "\n",
       "    .dataframe tbody tr th {\n",
       "        vertical-align: top;\n",
       "    }\n",
       "\n",
       "    .dataframe thead th {\n",
       "        text-align: right;\n",
       "    }\n",
       "</style>\n",
       "<table border=\"1\" class=\"dataframe\">\n",
       "  <thead>\n",
       "    <tr style=\"text-align: right;\">\n",
       "      <th></th>\n",
       "      <th>subject</th>\n",
       "      <th>repeatCount</th>\n",
       "      <th>priority</th>\n",
       "      <th>alertClass</th>\n",
       "      <th>alertSubClass</th>\n",
       "      <th>alertCategory</th>\n",
       "      <th>alertSubCategory</th>\n",
       "    </tr>\n",
       "  </thead>\n",
       "  <tbody>\n",
       "    <tr>\n",
       "      <th>0</th>\n",
       "      <td>836</td>\n",
       "      <td>2</td>\n",
       "      <td>3</td>\n",
       "      <td>6</td>\n",
       "      <td>20</td>\n",
       "      <td>5</td>\n",
       "      <td>2</td>\n",
       "    </tr>\n",
       "    <tr>\n",
       "      <th>1</th>\n",
       "      <td>376</td>\n",
       "      <td>2</td>\n",
       "      <td>0</td>\n",
       "      <td>6</td>\n",
       "      <td>4</td>\n",
       "      <td>5</td>\n",
       "      <td>18</td>\n",
       "    </tr>\n",
       "    <tr>\n",
       "      <th>2</th>\n",
       "      <td>376</td>\n",
       "      <td>2</td>\n",
       "      <td>0</td>\n",
       "      <td>3</td>\n",
       "      <td>17</td>\n",
       "      <td>5</td>\n",
       "      <td>18</td>\n",
       "    </tr>\n",
       "    <tr>\n",
       "      <th>3</th>\n",
       "      <td>1987</td>\n",
       "      <td>2</td>\n",
       "      <td>1</td>\n",
       "      <td>6</td>\n",
       "      <td>15</td>\n",
       "      <td>2</td>\n",
       "      <td>38</td>\n",
       "    </tr>\n",
       "    <tr>\n",
       "      <th>4</th>\n",
       "      <td>376</td>\n",
       "      <td>2</td>\n",
       "      <td>0</td>\n",
       "      <td>3</td>\n",
       "      <td>9</td>\n",
       "      <td>5</td>\n",
       "      <td>18</td>\n",
       "    </tr>\n",
       "    <tr>\n",
       "      <th>...</th>\n",
       "      <td>...</td>\n",
       "      <td>...</td>\n",
       "      <td>...</td>\n",
       "      <td>...</td>\n",
       "      <td>...</td>\n",
       "      <td>...</td>\n",
       "      <td>...</td>\n",
       "    </tr>\n",
       "    <tr>\n",
       "      <th>9989</th>\n",
       "      <td>1311</td>\n",
       "      <td>2</td>\n",
       "      <td>0</td>\n",
       "      <td>6</td>\n",
       "      <td>4</td>\n",
       "      <td>5</td>\n",
       "      <td>18</td>\n",
       "    </tr>\n",
       "    <tr>\n",
       "      <th>9991</th>\n",
       "      <td>1315</td>\n",
       "      <td>2</td>\n",
       "      <td>0</td>\n",
       "      <td>6</td>\n",
       "      <td>20</td>\n",
       "      <td>5</td>\n",
       "      <td>2</td>\n",
       "    </tr>\n",
       "    <tr>\n",
       "      <th>9992</th>\n",
       "      <td>1314</td>\n",
       "      <td>2</td>\n",
       "      <td>0</td>\n",
       "      <td>6</td>\n",
       "      <td>20</td>\n",
       "      <td>5</td>\n",
       "      <td>2</td>\n",
       "    </tr>\n",
       "    <tr>\n",
       "      <th>9998</th>\n",
       "      <td>3116</td>\n",
       "      <td>2</td>\n",
       "      <td>0</td>\n",
       "      <td>7</td>\n",
       "      <td>10</td>\n",
       "      <td>7</td>\n",
       "      <td>42</td>\n",
       "    </tr>\n",
       "    <tr>\n",
       "      <th>9999</th>\n",
       "      <td>3069</td>\n",
       "      <td>2</td>\n",
       "      <td>0</td>\n",
       "      <td>7</td>\n",
       "      <td>10</td>\n",
       "      <td>7</td>\n",
       "      <td>42</td>\n",
       "    </tr>\n",
       "  </tbody>\n",
       "</table>\n",
       "<p>5238 rows × 7 columns</p>\n",
       "</div>"
      ],
      "text/plain": [
       "      subject  repeatCount  priority  alertClass  alertSubClass  \\\n",
       "0         836            2         3           6             20   \n",
       "1         376            2         0           6              4   \n",
       "2         376            2         0           3             17   \n",
       "3        1987            2         1           6             15   \n",
       "4         376            2         0           3              9   \n",
       "...       ...          ...       ...         ...            ...   \n",
       "9989     1311            2         0           6              4   \n",
       "9991     1315            2         0           6             20   \n",
       "9992     1314            2         0           6             20   \n",
       "9998     3116            2         0           7             10   \n",
       "9999     3069            2         0           7             10   \n",
       "\n",
       "      alertCategory  alertSubCategory  \n",
       "0                 5                 2  \n",
       "1                 5                18  \n",
       "2                 5                18  \n",
       "3                 2                38  \n",
       "4                 5                18  \n",
       "...             ...               ...  \n",
       "9989              5                18  \n",
       "9991              5                 2  \n",
       "9992              5                 2  \n",
       "9998              7                42  \n",
       "9999              7                42  \n",
       "\n",
       "[5238 rows x 7 columns]"
      ]
     },
     "execution_count": 22,
     "metadata": {},
     "output_type": "execute_result"
    }
   ],
   "source": [
    "df1 = df.drop(columns=['healTime'])\n",
    "df1"
   ]
  },
  {
   "cell_type": "code",
   "execution_count": 23,
   "id": "b02bcc70",
   "metadata": {
    "ExecuteTime": {
     "end_time": "2023-04-05T06:20:10.760366Z",
     "start_time": "2023-04-05T06:20:10.700604Z"
    }
   },
   "outputs": [
    {
     "data": {
      "text/html": [
       "<div>\n",
       "<style scoped>\n",
       "    .dataframe tbody tr th:only-of-type {\n",
       "        vertical-align: middle;\n",
       "    }\n",
       "\n",
       "    .dataframe tbody tr th {\n",
       "        vertical-align: top;\n",
       "    }\n",
       "\n",
       "    .dataframe thead th {\n",
       "        text-align: right;\n",
       "    }\n",
       "</style>\n",
       "<table border=\"1\" class=\"dataframe\">\n",
       "  <thead>\n",
       "    <tr style=\"text-align: right;\">\n",
       "      <th></th>\n",
       "      <th>features</th>\n",
       "      <th>VIF_Value</th>\n",
       "    </tr>\n",
       "  </thead>\n",
       "  <tbody>\n",
       "    <tr>\n",
       "      <th>0</th>\n",
       "      <td>subject</td>\n",
       "      <td>4.334270</td>\n",
       "    </tr>\n",
       "    <tr>\n",
       "      <th>1</th>\n",
       "      <td>repeatCount</td>\n",
       "      <td>7.669377</td>\n",
       "    </tr>\n",
       "    <tr>\n",
       "      <th>2</th>\n",
       "      <td>priority</td>\n",
       "      <td>3.680489</td>\n",
       "    </tr>\n",
       "    <tr>\n",
       "      <th>3</th>\n",
       "      <td>alertClass</td>\n",
       "      <td>14.356413</td>\n",
       "    </tr>\n",
       "    <tr>\n",
       "      <th>4</th>\n",
       "      <td>alertSubClass</td>\n",
       "      <td>6.081442</td>\n",
       "    </tr>\n",
       "    <tr>\n",
       "      <th>5</th>\n",
       "      <td>alertCategory</td>\n",
       "      <td>12.644061</td>\n",
       "    </tr>\n",
       "    <tr>\n",
       "      <th>6</th>\n",
       "      <td>alertSubCategory</td>\n",
       "      <td>5.040433</td>\n",
       "    </tr>\n",
       "  </tbody>\n",
       "</table>\n",
       "</div>"
      ],
      "text/plain": [
       "           features  VIF_Value\n",
       "0           subject   4.334270\n",
       "1       repeatCount   7.669377\n",
       "2          priority   3.680489\n",
       "3        alertClass  14.356413\n",
       "4     alertSubClass   6.081442\n",
       "5     alertCategory  12.644061\n",
       "6  alertSubCategory   5.040433"
      ]
     },
     "execution_count": 23,
     "metadata": {},
     "output_type": "execute_result"
    }
   ],
   "source": [
    "features = df1.iloc[:,:]\n",
    "calc_vif(features)"
   ]
  },
  {
   "cell_type": "code",
   "execution_count": 24,
   "id": "a19f77b7",
   "metadata": {
    "ExecuteTime": {
     "end_time": "2023-04-05T06:20:10.853636Z",
     "start_time": "2023-04-05T06:20:10.764524Z"
    }
   },
   "outputs": [
    {
     "data": {
      "text/html": [
       "<div>\n",
       "<style scoped>\n",
       "    .dataframe tbody tr th:only-of-type {\n",
       "        vertical-align: middle;\n",
       "    }\n",
       "\n",
       "    .dataframe tbody tr th {\n",
       "        vertical-align: top;\n",
       "    }\n",
       "\n",
       "    .dataframe thead th {\n",
       "        text-align: right;\n",
       "    }\n",
       "</style>\n",
       "<table border=\"1\" class=\"dataframe\">\n",
       "  <thead>\n",
       "    <tr style=\"text-align: right;\">\n",
       "      <th></th>\n",
       "      <th>subject</th>\n",
       "      <th>repeatCount</th>\n",
       "      <th>priority</th>\n",
       "      <th>healTime</th>\n",
       "      <th>alertClass</th>\n",
       "      <th>alertSubClass</th>\n",
       "      <th>alertCategory</th>\n",
       "      <th>alertSubCategory</th>\n",
       "    </tr>\n",
       "  </thead>\n",
       "  <tbody>\n",
       "    <tr>\n",
       "      <th>subject</th>\n",
       "      <td>1.000000</td>\n",
       "      <td>-0.024889</td>\n",
       "      <td>0.215198</td>\n",
       "      <td>0.080601</td>\n",
       "      <td>0.150352</td>\n",
       "      <td>-0.068759</td>\n",
       "      <td>0.188842</td>\n",
       "      <td>0.264542</td>\n",
       "    </tr>\n",
       "    <tr>\n",
       "      <th>repeatCount</th>\n",
       "      <td>-0.024889</td>\n",
       "      <td>1.000000</td>\n",
       "      <td>0.025398</td>\n",
       "      <td>0.146589</td>\n",
       "      <td>-0.011740</td>\n",
       "      <td>0.017770</td>\n",
       "      <td>0.008705</td>\n",
       "      <td>-0.159839</td>\n",
       "    </tr>\n",
       "    <tr>\n",
       "      <th>priority</th>\n",
       "      <td>0.215198</td>\n",
       "      <td>0.025398</td>\n",
       "      <td>1.000000</td>\n",
       "      <td>0.040600</td>\n",
       "      <td>0.188354</td>\n",
       "      <td>0.038036</td>\n",
       "      <td>0.226867</td>\n",
       "      <td>0.077953</td>\n",
       "    </tr>\n",
       "    <tr>\n",
       "      <th>healTime</th>\n",
       "      <td>0.080601</td>\n",
       "      <td>0.146589</td>\n",
       "      <td>0.040600</td>\n",
       "      <td>1.000000</td>\n",
       "      <td>0.034660</td>\n",
       "      <td>-0.060855</td>\n",
       "      <td>0.044029</td>\n",
       "      <td>0.022078</td>\n",
       "    </tr>\n",
       "    <tr>\n",
       "      <th>alertClass</th>\n",
       "      <td>0.150352</td>\n",
       "      <td>-0.011740</td>\n",
       "      <td>0.188354</td>\n",
       "      <td>0.034660</td>\n",
       "      <td>1.000000</td>\n",
       "      <td>-0.294753</td>\n",
       "      <td>0.817019</td>\n",
       "      <td>-0.247675</td>\n",
       "    </tr>\n",
       "    <tr>\n",
       "      <th>alertSubClass</th>\n",
       "      <td>-0.068759</td>\n",
       "      <td>0.017770</td>\n",
       "      <td>0.038036</td>\n",
       "      <td>-0.060855</td>\n",
       "      <td>-0.294753</td>\n",
       "      <td>1.000000</td>\n",
       "      <td>-0.239688</td>\n",
       "      <td>0.000307</td>\n",
       "    </tr>\n",
       "    <tr>\n",
       "      <th>alertCategory</th>\n",
       "      <td>0.188842</td>\n",
       "      <td>0.008705</td>\n",
       "      <td>0.226867</td>\n",
       "      <td>0.044029</td>\n",
       "      <td>0.817019</td>\n",
       "      <td>-0.239688</td>\n",
       "      <td>1.000000</td>\n",
       "      <td>-0.233838</td>\n",
       "    </tr>\n",
       "    <tr>\n",
       "      <th>alertSubCategory</th>\n",
       "      <td>0.264542</td>\n",
       "      <td>-0.159839</td>\n",
       "      <td>0.077953</td>\n",
       "      <td>0.022078</td>\n",
       "      <td>-0.247675</td>\n",
       "      <td>0.000307</td>\n",
       "      <td>-0.233838</td>\n",
       "      <td>1.000000</td>\n",
       "    </tr>\n",
       "  </tbody>\n",
       "</table>\n",
       "</div>"
      ],
      "text/plain": [
       "                   subject  repeatCount  priority  healTime  alertClass  \\\n",
       "subject           1.000000    -0.024889  0.215198  0.080601    0.150352   \n",
       "repeatCount      -0.024889     1.000000  0.025398  0.146589   -0.011740   \n",
       "priority          0.215198     0.025398  1.000000  0.040600    0.188354   \n",
       "healTime          0.080601     0.146589  0.040600  1.000000    0.034660   \n",
       "alertClass        0.150352    -0.011740  0.188354  0.034660    1.000000   \n",
       "alertSubClass    -0.068759     0.017770  0.038036 -0.060855   -0.294753   \n",
       "alertCategory     0.188842     0.008705  0.226867  0.044029    0.817019   \n",
       "alertSubCategory  0.264542    -0.159839  0.077953  0.022078   -0.247675   \n",
       "\n",
       "                  alertSubClass  alertCategory  alertSubCategory  \n",
       "subject               -0.068759       0.188842          0.264542  \n",
       "repeatCount            0.017770       0.008705         -0.159839  \n",
       "priority               0.038036       0.226867          0.077953  \n",
       "healTime              -0.060855       0.044029          0.022078  \n",
       "alertClass            -0.294753       0.817019         -0.247675  \n",
       "alertSubClass          1.000000      -0.239688          0.000307  \n",
       "alertCategory         -0.239688       1.000000         -0.233838  \n",
       "alertSubCategory       0.000307      -0.233838          1.000000  "
      ]
     },
     "execution_count": 24,
     "metadata": {},
     "output_type": "execute_result"
    }
   ],
   "source": [
    "df.corr()"
   ]
  },
  {
   "cell_type": "code",
   "execution_count": 25,
   "id": "89491f04",
   "metadata": {
    "ExecuteTime": {
     "end_time": "2023-04-05T06:20:11.470077Z",
     "start_time": "2023-04-05T06:20:10.857834Z"
    }
   },
   "outputs": [
    {
     "data": {
      "text/plain": [
       "<AxesSubplot: >"
      ]
     },
     "execution_count": 25,
     "metadata": {},
     "output_type": "execute_result"
    },
    {
     "data": {
      "image/png": "[encoded data removed]",
      "text/plain": [
       "<Figure size 432x288 with 2 Axes>"
      ]
     },
     "metadata": {
      "needs_background": "light"
     },
     "output_type": "display_data"
    }
   ],
   "source": [
    "import seaborn as sns\n",
    "sns.heatmap(df.corr(), annot=True)"
   ]
  },
  {
   "cell_type": "code",
   "execution_count": 26,
   "id": "59486b91",
   "metadata": {
    "ExecuteTime": {
     "end_time": "2023-04-05T06:20:11.486164Z",
     "start_time": "2023-04-05T06:20:11.473216Z"
    }
   },
   "outputs": [
    {
     "data": {
      "text/html": [
       "<div>\n",
       "<style scoped>\n",
       "    .dataframe tbody tr th:only-of-type {\n",
       "        vertical-align: middle;\n",
       "    }\n",
       "\n",
       "    .dataframe tbody tr th {\n",
       "        vertical-align: top;\n",
       "    }\n",
       "\n",
       "    .dataframe thead th {\n",
       "        text-align: right;\n",
       "    }\n",
       "</style>\n",
       "<table border=\"1\" class=\"dataframe\">\n",
       "  <thead>\n",
       "    <tr style=\"text-align: right;\">\n",
       "      <th></th>\n",
       "      <th>subject</th>\n",
       "      <th>repeatCount</th>\n",
       "      <th>priority</th>\n",
       "      <th>healTime</th>\n",
       "      <th>alertSubClass</th>\n",
       "      <th>alertCategory</th>\n",
       "      <th>alertSubCategory</th>\n",
       "    </tr>\n",
       "  </thead>\n",
       "  <tbody>\n",
       "    <tr>\n",
       "      <th>0</th>\n",
       "      <td>836</td>\n",
       "      <td>2</td>\n",
       "      <td>3</td>\n",
       "      <td>60</td>\n",
       "      <td>20</td>\n",
       "      <td>5</td>\n",
       "      <td>2</td>\n",
       "    </tr>\n",
       "    <tr>\n",
       "      <th>1</th>\n",
       "      <td>376</td>\n",
       "      <td>2</td>\n",
       "      <td>0</td>\n",
       "      <td>60</td>\n",
       "      <td>4</td>\n",
       "      <td>5</td>\n",
       "      <td>18</td>\n",
       "    </tr>\n",
       "    <tr>\n",
       "      <th>2</th>\n",
       "      <td>376</td>\n",
       "      <td>2</td>\n",
       "      <td>0</td>\n",
       "      <td>180</td>\n",
       "      <td>17</td>\n",
       "      <td>5</td>\n",
       "      <td>18</td>\n",
       "    </tr>\n",
       "    <tr>\n",
       "      <th>3</th>\n",
       "      <td>1987</td>\n",
       "      <td>2</td>\n",
       "      <td>1</td>\n",
       "      <td>240</td>\n",
       "      <td>15</td>\n",
       "      <td>2</td>\n",
       "      <td>38</td>\n",
       "    </tr>\n",
       "    <tr>\n",
       "      <th>4</th>\n",
       "      <td>376</td>\n",
       "      <td>2</td>\n",
       "      <td>0</td>\n",
       "      <td>59</td>\n",
       "      <td>9</td>\n",
       "      <td>5</td>\n",
       "      <td>18</td>\n",
       "    </tr>\n",
       "  </tbody>\n",
       "</table>\n",
       "</div>"
      ],
      "text/plain": [
       "   subject  repeatCount  priority  healTime  alertSubClass  alertCategory  \\\n",
       "0      836            2         3        60             20              5   \n",
       "1      376            2         0        60              4              5   \n",
       "2      376            2         0       180             17              5   \n",
       "3     1987            2         1       240             15              2   \n",
       "4      376            2         0        59              9              5   \n",
       "\n",
       "   alertSubCategory  \n",
       "0                 2  \n",
       "1                18  \n",
       "2                18  \n",
       "3                38  \n",
       "4                18  "
      ]
     },
     "execution_count": 26,
     "metadata": {},
     "output_type": "execute_result"
    }
   ],
   "source": [
    "df = df.drop(columns = ['alertClass'])\n",
    "df.head()"
   ]
  },
  {
   "cell_type": "code",
   "execution_count": 27,
   "id": "99fb09a9",
   "metadata": {
    "ExecuteTime": {
     "end_time": "2023-04-05T06:20:11.509119Z",
     "start_time": "2023-04-05T06:20:11.489873Z"
    }
   },
   "outputs": [
    {
     "data": {
      "text/html": [
       "<div>\n",
       "<style scoped>\n",
       "    .dataframe tbody tr th:only-of-type {\n",
       "        vertical-align: middle;\n",
       "    }\n",
       "\n",
       "    .dataframe tbody tr th {\n",
       "        vertical-align: top;\n",
       "    }\n",
       "\n",
       "    .dataframe thead th {\n",
       "        text-align: right;\n",
       "    }\n",
       "</style>\n",
       "<table border=\"1\" class=\"dataframe\">\n",
       "  <thead>\n",
       "    <tr style=\"text-align: right;\">\n",
       "      <th></th>\n",
       "      <th>subject</th>\n",
       "      <th>repeatCount</th>\n",
       "      <th>priority</th>\n",
       "      <th>alertSubClass</th>\n",
       "      <th>alertCategory</th>\n",
       "      <th>alertSubCategory</th>\n",
       "    </tr>\n",
       "  </thead>\n",
       "  <tbody>\n",
       "    <tr>\n",
       "      <th>0</th>\n",
       "      <td>836</td>\n",
       "      <td>2</td>\n",
       "      <td>3</td>\n",
       "      <td>20</td>\n",
       "      <td>5</td>\n",
       "      <td>2</td>\n",
       "    </tr>\n",
       "    <tr>\n",
       "      <th>1</th>\n",
       "      <td>376</td>\n",
       "      <td>2</td>\n",
       "      <td>0</td>\n",
       "      <td>4</td>\n",
       "      <td>5</td>\n",
       "      <td>18</td>\n",
       "    </tr>\n",
       "    <tr>\n",
       "      <th>2</th>\n",
       "      <td>376</td>\n",
       "      <td>2</td>\n",
       "      <td>0</td>\n",
       "      <td>17</td>\n",
       "      <td>5</td>\n",
       "      <td>18</td>\n",
       "    </tr>\n",
       "    <tr>\n",
       "      <th>3</th>\n",
       "      <td>1987</td>\n",
       "      <td>2</td>\n",
       "      <td>1</td>\n",
       "      <td>15</td>\n",
       "      <td>2</td>\n",
       "      <td>38</td>\n",
       "    </tr>\n",
       "    <tr>\n",
       "      <th>4</th>\n",
       "      <td>376</td>\n",
       "      <td>2</td>\n",
       "      <td>0</td>\n",
       "      <td>9</td>\n",
       "      <td>5</td>\n",
       "      <td>18</td>\n",
       "    </tr>\n",
       "    <tr>\n",
       "      <th>...</th>\n",
       "      <td>...</td>\n",
       "      <td>...</td>\n",
       "      <td>...</td>\n",
       "      <td>...</td>\n",
       "      <td>...</td>\n",
       "      <td>...</td>\n",
       "    </tr>\n",
       "    <tr>\n",
       "      <th>9989</th>\n",
       "      <td>1311</td>\n",
       "      <td>2</td>\n",
       "      <td>0</td>\n",
       "      <td>4</td>\n",
       "      <td>5</td>\n",
       "      <td>18</td>\n",
       "    </tr>\n",
       "    <tr>\n",
       "      <th>9991</th>\n",
       "      <td>1315</td>\n",
       "      <td>2</td>\n",
       "      <td>0</td>\n",
       "      <td>20</td>\n",
       "      <td>5</td>\n",
       "      <td>2</td>\n",
       "    </tr>\n",
       "    <tr>\n",
       "      <th>9992</th>\n",
       "      <td>1314</td>\n",
       "      <td>2</td>\n",
       "      <td>0</td>\n",
       "      <td>20</td>\n",
       "      <td>5</td>\n",
       "      <td>2</td>\n",
       "    </tr>\n",
       "    <tr>\n",
       "      <th>9998</th>\n",
       "      <td>3116</td>\n",
       "      <td>2</td>\n",
       "      <td>0</td>\n",
       "      <td>10</td>\n",
       "      <td>7</td>\n",
       "      <td>42</td>\n",
       "    </tr>\n",
       "    <tr>\n",
       "      <th>9999</th>\n",
       "      <td>3069</td>\n",
       "      <td>2</td>\n",
       "      <td>0</td>\n",
       "      <td>10</td>\n",
       "      <td>7</td>\n",
       "      <td>42</td>\n",
       "    </tr>\n",
       "  </tbody>\n",
       "</table>\n",
       "<p>5238 rows × 6 columns</p>\n",
       "</div>"
      ],
      "text/plain": [
       "      subject  repeatCount  priority  alertSubClass  alertCategory  \\\n",
       "0         836            2         3             20              5   \n",
       "1         376            2         0              4              5   \n",
       "2         376            2         0             17              5   \n",
       "3        1987            2         1             15              2   \n",
       "4         376            2         0              9              5   \n",
       "...       ...          ...       ...            ...            ...   \n",
       "9989     1311            2         0              4              5   \n",
       "9991     1315            2         0             20              5   \n",
       "9992     1314            2         0             20              5   \n",
       "9998     3116            2         0             10              7   \n",
       "9999     3069            2         0             10              7   \n",
       "\n",
       "      alertSubCategory  \n",
       "0                    2  \n",
       "1                   18  \n",
       "2                   18  \n",
       "3                   38  \n",
       "4                   18  \n",
       "...                ...  \n",
       "9989                18  \n",
       "9991                 2  \n",
       "9992                 2  \n",
       "9998                42  \n",
       "9999                42  \n",
       "\n",
       "[5238 rows x 6 columns]"
      ]
     },
     "execution_count": 27,
     "metadata": {},
     "output_type": "execute_result"
    }
   ],
   "source": [
    "df2 = df.drop(columns=['healTime'])\n",
    "df2"
   ]
  },
  {
   "cell_type": "code",
   "execution_count": 28,
   "id": "68f0aa45",
   "metadata": {
    "ExecuteTime": {
     "end_time": "2023-04-05T06:20:11.566911Z",
     "start_time": "2023-04-05T06:20:11.518567Z"
    }
   },
   "outputs": [
    {
     "data": {
      "text/html": [
       "<div>\n",
       "<style scoped>\n",
       "    .dataframe tbody tr th:only-of-type {\n",
       "        vertical-align: middle;\n",
       "    }\n",
       "\n",
       "    .dataframe tbody tr th {\n",
       "        vertical-align: top;\n",
       "    }\n",
       "\n",
       "    .dataframe thead th {\n",
       "        text-align: right;\n",
       "    }\n",
       "</style>\n",
       "<table border=\"1\" class=\"dataframe\">\n",
       "  <thead>\n",
       "    <tr style=\"text-align: right;\">\n",
       "      <th></th>\n",
       "      <th>features</th>\n",
       "      <th>VIF_Value</th>\n",
       "    </tr>\n",
       "  </thead>\n",
       "  <tbody>\n",
       "    <tr>\n",
       "      <th>0</th>\n",
       "      <td>subject</td>\n",
       "      <td>4.326011</td>\n",
       "    </tr>\n",
       "    <tr>\n",
       "      <th>1</th>\n",
       "      <td>repeatCount</td>\n",
       "      <td>7.383542</td>\n",
       "    </tr>\n",
       "    <tr>\n",
       "      <th>2</th>\n",
       "      <td>priority</td>\n",
       "      <td>3.671683</td>\n",
       "    </tr>\n",
       "    <tr>\n",
       "      <th>3</th>\n",
       "      <td>alertSubClass</td>\n",
       "      <td>6.081263</td>\n",
       "    </tr>\n",
       "    <tr>\n",
       "      <th>4</th>\n",
       "      <td>alertCategory</td>\n",
       "      <td>4.025881</td>\n",
       "    </tr>\n",
       "    <tr>\n",
       "      <th>5</th>\n",
       "      <td>alertSubCategory</td>\n",
       "      <td>5.024027</td>\n",
       "    </tr>\n",
       "  </tbody>\n",
       "</table>\n",
       "</div>"
      ],
      "text/plain": [
       "           features  VIF_Value\n",
       "0           subject   4.326011\n",
       "1       repeatCount   7.383542\n",
       "2          priority   3.671683\n",
       "3     alertSubClass   6.081263\n",
       "4     alertCategory   4.025881\n",
       "5  alertSubCategory   5.024027"
      ]
     },
     "execution_count": 28,
     "metadata": {},
     "output_type": "execute_result"
    }
   ],
   "source": [
    "features = df2.iloc[:,:]\n",
    "calc_vif(features)"
   ]
  },
  {
   "cell_type": "code",
   "execution_count": 29,
   "id": "e548d1d7",
   "metadata": {
    "ExecuteTime": {
     "end_time": "2023-04-05T06:20:11.593810Z",
     "start_time": "2023-04-05T06:20:11.574405Z"
    }
   },
   "outputs": [
    {
     "data": {
      "text/html": [
       "<div>\n",
       "<style scoped>\n",
       "    .dataframe tbody tr th:only-of-type {\n",
       "        vertical-align: middle;\n",
       "    }\n",
       "\n",
       "    .dataframe tbody tr th {\n",
       "        vertical-align: top;\n",
       "    }\n",
       "\n",
       "    .dataframe thead th {\n",
       "        text-align: right;\n",
       "    }\n",
       "</style>\n",
       "<table border=\"1\" class=\"dataframe\">\n",
       "  <thead>\n",
       "    <tr style=\"text-align: right;\">\n",
       "      <th></th>\n",
       "      <th>subject</th>\n",
       "      <th>repeatCount</th>\n",
       "      <th>priority</th>\n",
       "      <th>healTime</th>\n",
       "      <th>alertSubClass</th>\n",
       "      <th>alertCategory</th>\n",
       "      <th>alertSubCategory</th>\n",
       "    </tr>\n",
       "  </thead>\n",
       "  <tbody>\n",
       "    <tr>\n",
       "      <th>0</th>\n",
       "      <td>836</td>\n",
       "      <td>2</td>\n",
       "      <td>3</td>\n",
       "      <td>60</td>\n",
       "      <td>20</td>\n",
       "      <td>5</td>\n",
       "      <td>2</td>\n",
       "    </tr>\n",
       "    <tr>\n",
       "      <th>1</th>\n",
       "      <td>376</td>\n",
       "      <td>2</td>\n",
       "      <td>0</td>\n",
       "      <td>60</td>\n",
       "      <td>4</td>\n",
       "      <td>5</td>\n",
       "      <td>18</td>\n",
       "    </tr>\n",
       "    <tr>\n",
       "      <th>2</th>\n",
       "      <td>376</td>\n",
       "      <td>2</td>\n",
       "      <td>0</td>\n",
       "      <td>180</td>\n",
       "      <td>17</td>\n",
       "      <td>5</td>\n",
       "      <td>18</td>\n",
       "    </tr>\n",
       "    <tr>\n",
       "      <th>3</th>\n",
       "      <td>1987</td>\n",
       "      <td>2</td>\n",
       "      <td>1</td>\n",
       "      <td>240</td>\n",
       "      <td>15</td>\n",
       "      <td>2</td>\n",
       "      <td>38</td>\n",
       "    </tr>\n",
       "    <tr>\n",
       "      <th>4</th>\n",
       "      <td>376</td>\n",
       "      <td>2</td>\n",
       "      <td>0</td>\n",
       "      <td>59</td>\n",
       "      <td>9</td>\n",
       "      <td>5</td>\n",
       "      <td>18</td>\n",
       "    </tr>\n",
       "  </tbody>\n",
       "</table>\n",
       "</div>"
      ],
      "text/plain": [
       "   subject  repeatCount  priority  healTime  alertSubClass  alertCategory  \\\n",
       "0      836            2         3        60             20              5   \n",
       "1      376            2         0        60              4              5   \n",
       "2      376            2         0       180             17              5   \n",
       "3     1987            2         1       240             15              2   \n",
       "4      376            2         0        59              9              5   \n",
       "\n",
       "   alertSubCategory  \n",
       "0                 2  \n",
       "1                18  \n",
       "2                18  \n",
       "3                38  \n",
       "4                18  "
      ]
     },
     "execution_count": 29,
     "metadata": {},
     "output_type": "execute_result"
    }
   ],
   "source": [
    "df.head()"
   ]
  },
  {
   "cell_type": "code",
   "execution_count": 30,
   "id": "c4b129b3",
   "metadata": {
    "ExecuteTime": {
     "end_time": "2023-04-05T06:20:11.621903Z",
     "start_time": "2023-04-05T06:20:11.598590Z"
    }
   },
   "outputs": [],
   "source": [
    "# assigning the independent features to X and the target variable to y\n",
    "X = df.drop(columns='healTime')\n",
    "y = df['healTime']"
   ]
  },
  {
   "cell_type": "code",
   "execution_count": 31,
   "id": "ac0a3ba1",
   "metadata": {
    "ExecuteTime": {
     "end_time": "2023-04-05T06:20:11.650359Z",
     "start_time": "2023-04-05T06:20:11.628213Z"
    }
   },
   "outputs": [
    {
     "data": {
      "text/html": [
       "<div>\n",
       "<style scoped>\n",
       "    .dataframe tbody tr th:only-of-type {\n",
       "        vertical-align: middle;\n",
       "    }\n",
       "\n",
       "    .dataframe tbody tr th {\n",
       "        vertical-align: top;\n",
       "    }\n",
       "\n",
       "    .dataframe thead th {\n",
       "        text-align: right;\n",
       "    }\n",
       "</style>\n",
       "<table border=\"1\" class=\"dataframe\">\n",
       "  <thead>\n",
       "    <tr style=\"text-align: right;\">\n",
       "      <th></th>\n",
       "      <th>subject</th>\n",
       "      <th>repeatCount</th>\n",
       "      <th>priority</th>\n",
       "      <th>alertSubClass</th>\n",
       "      <th>alertCategory</th>\n",
       "      <th>alertSubCategory</th>\n",
       "    </tr>\n",
       "  </thead>\n",
       "  <tbody>\n",
       "    <tr>\n",
       "      <th>0</th>\n",
       "      <td>836</td>\n",
       "      <td>2</td>\n",
       "      <td>3</td>\n",
       "      <td>20</td>\n",
       "      <td>5</td>\n",
       "      <td>2</td>\n",
       "    </tr>\n",
       "    <tr>\n",
       "      <th>1</th>\n",
       "      <td>376</td>\n",
       "      <td>2</td>\n",
       "      <td>0</td>\n",
       "      <td>4</td>\n",
       "      <td>5</td>\n",
       "      <td>18</td>\n",
       "    </tr>\n",
       "    <tr>\n",
       "      <th>2</th>\n",
       "      <td>376</td>\n",
       "      <td>2</td>\n",
       "      <td>0</td>\n",
       "      <td>17</td>\n",
       "      <td>5</td>\n",
       "      <td>18</td>\n",
       "    </tr>\n",
       "    <tr>\n",
       "      <th>3</th>\n",
       "      <td>1987</td>\n",
       "      <td>2</td>\n",
       "      <td>1</td>\n",
       "      <td>15</td>\n",
       "      <td>2</td>\n",
       "      <td>38</td>\n",
       "    </tr>\n",
       "    <tr>\n",
       "      <th>4</th>\n",
       "      <td>376</td>\n",
       "      <td>2</td>\n",
       "      <td>0</td>\n",
       "      <td>9</td>\n",
       "      <td>5</td>\n",
       "      <td>18</td>\n",
       "    </tr>\n",
       "  </tbody>\n",
       "</table>\n",
       "</div>"
      ],
      "text/plain": [
       "   subject  repeatCount  priority  alertSubClass  alertCategory  \\\n",
       "0      836            2         3             20              5   \n",
       "1      376            2         0              4              5   \n",
       "2      376            2         0             17              5   \n",
       "3     1987            2         1             15              2   \n",
       "4      376            2         0              9              5   \n",
       "\n",
       "   alertSubCategory  \n",
       "0                 2  \n",
       "1                18  \n",
       "2                18  \n",
       "3                38  \n",
       "4                18  "
      ]
     },
     "execution_count": 31,
     "metadata": {},
     "output_type": "execute_result"
    }
   ],
   "source": [
    "X.head()"
   ]
  },
  {
   "cell_type": "code",
   "execution_count": 32,
   "id": "c945cb65",
   "metadata": {
    "ExecuteTime": {
     "end_time": "2023-04-05T06:20:11.669899Z",
     "start_time": "2023-04-05T06:20:11.657792Z"
    }
   },
   "outputs": [
    {
     "data": {
      "text/plain": [
       "0     60\n",
       "1     60\n",
       "2    180\n",
       "3    240\n",
       "4     59\n",
       "Name: healTime, dtype: int64"
      ]
     },
     "execution_count": 32,
     "metadata": {},
     "output_type": "execute_result"
    }
   ],
   "source": [
    "y.head()"
   ]
  },
  {
   "cell_type": "markdown",
   "id": "1c09bb20",
   "metadata": {},
   "source": [
    "# Ordinary Least Square Method"
   ]
  },
  {
   "cell_type": "code",
   "execution_count": 33,
   "id": "d9d0c7e4",
   "metadata": {
    "ExecuteTime": {
     "end_time": "2023-04-05T06:20:11.743484Z",
     "start_time": "2023-04-05T06:20:11.676463Z"
    }
   },
   "outputs": [],
   "source": [
    "import statsmodels.formula.api as smf"
   ]
  },
  {
   "cell_type": "code",
   "execution_count": 34,
   "id": "d903525e",
   "metadata": {
    "ExecuteTime": {
     "end_time": "2023-04-05T06:20:11.763136Z",
     "start_time": "2023-04-05T06:20:11.746547Z"
    }
   },
   "outputs": [
    {
     "data": {
      "text/plain": [
       "Intercept   -1707.279549\n",
       "X[0]            0.484037\n",
       "X[1]         1693.147542\n",
       "X[2]          160.662497\n",
       "X[3]          -91.604310\n",
       "X[4]           65.666328\n",
       "X[5]           15.124846\n",
       "dtype: float64"
      ]
     },
     "execution_count": 34,
     "metadata": {},
     "output_type": "execute_result"
    }
   ],
   "source": [
    "import statsmodels.formula.api as smf\n",
    "model = smf.ols(\"y~X\", data = df).fit()\n",
    "model.params"
   ]
  },
  {
   "cell_type": "code",
   "execution_count": 35,
   "id": "c22e0bfa",
   "metadata": {
    "ExecuteTime": {
     "end_time": "2023-04-05T06:20:11.804989Z",
     "start_time": "2023-04-05T06:20:11.766438Z"
    }
   },
   "outputs": [
    {
     "data": {
      "text/html": [
       "<table class=\"simpletable\">\n",
       "<caption>OLS Regression Results</caption>\n",
       "<tr>\n",
       "  <th>Dep. Variable:</th>            <td>y</td>        <th>  R-squared:         </th> <td>   0.033</td> \n",
       "</tr>\n",
       "<tr>\n",
       "  <th>Model:</th>                   <td>OLS</td>       <th>  Adj. R-squared:    </th> <td>   0.032</td> \n",
       "</tr>\n",
       "<tr>\n",
       "  <th>Method:</th>             <td>Least Squares</td>  <th>  F-statistic:       </th> <td>   30.16</td> \n",
       "</tr>\n",
       "<tr>\n",
       "  <th>Date:</th>             <td>Wed, 05 Apr 2023</td> <th>  Prob (F-statistic):</th> <td>9.22e-36</td> \n",
       "</tr>\n",
       "<tr>\n",
       "  <th>Time:</th>                 <td>11:50:11</td>     <th>  Log-Likelihood:    </th> <td> -54110.</td> \n",
       "</tr>\n",
       "<tr>\n",
       "  <th>No. Observations:</th>      <td>  5238</td>      <th>  AIC:               </th> <td>1.082e+05</td>\n",
       "</tr>\n",
       "<tr>\n",
       "  <th>Df Residuals:</th>          <td>  5231</td>      <th>  BIC:               </th> <td>1.083e+05</td>\n",
       "</tr>\n",
       "<tr>\n",
       "  <th>Df Model:</th>              <td>     6</td>      <th>                     </th>     <td> </td>    \n",
       "</tr>\n",
       "<tr>\n",
       "  <th>Covariance Type:</th>      <td>nonrobust</td>    <th>                     </th>     <td> </td>    \n",
       "</tr>\n",
       "</table>\n",
       "<table class=\"simpletable\">\n",
       "<tr>\n",
       "      <td></td>         <th>coef</th>     <th>std err</th>      <th>t</th>      <th>P>|t|</th>  <th>[0.025</th>    <th>0.975]</th>  \n",
       "</tr>\n",
       "<tr>\n",
       "  <th>Intercept</th> <td>-1707.2795</td> <td>  609.163</td> <td>   -2.803</td> <td> 0.005</td> <td>-2901.493</td> <td> -513.066</td>\n",
       "</tr>\n",
       "<tr>\n",
       "  <th>X[0]</th>      <td>    0.4840</td> <td>    0.112</td> <td>    4.330</td> <td> 0.000</td> <td>    0.265</td> <td>    0.703</td>\n",
       "</tr>\n",
       "<tr>\n",
       "  <th>X[1]</th>      <td> 1693.1475</td> <td>  151.814</td> <td>   11.153</td> <td> 0.000</td> <td> 1395.529</td> <td> 1990.766</td>\n",
       "</tr>\n",
       "<tr>\n",
       "  <th>X[2]</th>      <td>  160.6625</td> <td>  131.174</td> <td>    1.225</td> <td> 0.221</td> <td>  -96.494</td> <td>  417.819</td>\n",
       "</tr>\n",
       "<tr>\n",
       "  <th>X[3]</th>      <td>  -91.6043</td> <td>   23.604</td> <td>   -3.881</td> <td> 0.000</td> <td> -137.877</td> <td>  -45.331</td>\n",
       "</tr>\n",
       "<tr>\n",
       "  <th>X[4]</th>      <td>   65.6663</td> <td>   47.383</td> <td>    1.386</td> <td> 0.166</td> <td>  -27.223</td> <td>  158.556</td>\n",
       "</tr>\n",
       "<tr>\n",
       "  <th>X[5]</th>      <td>   15.1248</td> <td>    6.832</td> <td>    2.214</td> <td> 0.027</td> <td>    1.732</td> <td>   28.518</td>\n",
       "</tr>\n",
       "</table>\n",
       "<table class=\"simpletable\">\n",
       "<tr>\n",
       "  <th>Omnibus:</th>       <td>5418.998</td> <th>  Durbin-Watson:     </th>  <td>   1.115</td> \n",
       "</tr>\n",
       "<tr>\n",
       "  <th>Prob(Omnibus):</th>  <td> 0.000</td>  <th>  Jarque-Bera (JB):  </th> <td>249557.348</td>\n",
       "</tr>\n",
       "<tr>\n",
       "  <th>Skew:</th>           <td> 5.336</td>  <th>  Prob(JB):          </th>  <td>    0.00</td> \n",
       "</tr>\n",
       "<tr>\n",
       "  <th>Kurtosis:</th>       <td>35.087</td>  <th>  Cond. No.          </th>  <td>1.15e+04</td> \n",
       "</tr>\n",
       "</table><br/><br/>Notes:<br/>[1] Standard Errors assume that the covariance matrix of the errors is correctly specified.<br/>[2] The condition number is large, 1.15e+04. This might indicate that there are<br/>strong multicollinearity or other numerical problems."
      ],
      "text/plain": [
       "<class 'statsmodels.iolib.summary.Summary'>\n",
       "\"\"\"\n",
       "                            OLS Regression Results                            \n",
       "==============================================================================\n",
       "Dep. Variable:                      y   R-squared:                       0.033\n",
       "Model:                            OLS   Adj. R-squared:                  0.032\n",
       "Method:                 Least Squares   F-statistic:                     30.16\n",
       "Date:                Wed, 05 Apr 2023   Prob (F-statistic):           9.22e-36\n",
       "Time:                        11:50:11   Log-Likelihood:                -54110.\n",
       "No. Observations:                5238   AIC:                         1.082e+05\n",
       "Df Residuals:                    5231   BIC:                         1.083e+05\n",
       "Df Model:                           6                                         \n",
       "Covariance Type:            nonrobust                                         \n",
       "==============================================================================\n",
       "                 coef    std err          t      P>|t|      [0.025      0.975]\n",
       "------------------------------------------------------------------------------\n",
       "Intercept  -1707.2795    609.163     -2.803      0.005   -2901.493    -513.066\n",
       "X[0]           0.4840      0.112      4.330      0.000       0.265       0.703\n",
       "X[1]        1693.1475    151.814     11.153      0.000    1395.529    1990.766\n",
       "X[2]         160.6625    131.174      1.225      0.221     -96.494     417.819\n",
       "X[3]         -91.6043     23.604     -3.881      0.000    -137.877     -45.331\n",
       "X[4]          65.6663     47.383      1.386      0.166     -27.223     158.556\n",
       "X[5]          15.1248      6.832      2.214      0.027       1.732      28.518\n",
       "==============================================================================\n",
       "Omnibus:                     5418.998   Durbin-Watson:                   1.115\n",
       "Prob(Omnibus):                  0.000   Jarque-Bera (JB):           249557.348\n",
       "Skew:                           5.336   Prob(JB):                         0.00\n",
       "Kurtosis:                      35.087   Cond. No.                     1.15e+04\n",
       "==============================================================================\n",
       "\n",
       "Notes:\n",
       "[1] Standard Errors assume that the covariance matrix of the errors is correctly specified.\n",
       "[2] The condition number is large, 1.15e+04. This might indicate that there are\n",
       "strong multicollinearity or other numerical problems.\n",
       "\"\"\""
      ]
     },
     "execution_count": 35,
     "metadata": {},
     "output_type": "execute_result"
    }
   ],
   "source": [
    "model.summary()"
   ]
  },
  {
   "cell_type": "markdown",
   "id": "fee63df0",
   "metadata": {},
   "source": [
    "# Split the dataset into Training and Testing datasets"
   ]
  },
  {
   "cell_type": "code",
   "execution_count": 36,
   "id": "4216f06e",
   "metadata": {
    "ExecuteTime": {
     "end_time": "2023-04-05T06:20:11.854618Z",
     "start_time": "2023-04-05T06:20:11.808118Z"
    }
   },
   "outputs": [],
   "source": [
    "from sklearn.model_selection import train_test_split"
   ]
  },
  {
   "cell_type": "code",
   "execution_count": 37,
   "id": "c8f031e5",
   "metadata": {
    "ExecuteTime": {
     "end_time": "2023-04-05T06:20:11.876135Z",
     "start_time": "2023-04-05T06:20:11.860221Z"
    }
   },
   "outputs": [
    {
     "name": "stdout",
     "output_type": "stream",
     "text": [
      "Shape of training data: (3666, 6)\n",
      "Shape of testing data: (1572, 6)\n"
     ]
    }
   ],
   "source": [
    "#spliting the data into training 77% and test 33%\n",
    "X_train,X_test,y_train,y_test= train_test_split(X,y,test_size=0.3,random_state=42)\n",
    "\n",
    "print('Shape of training data:',(X_train.shape))\n",
    "print('Shape of testing data:',(X_test.shape))"
   ]
  },
  {
   "cell_type": "code",
   "execution_count": 38,
   "id": "5e4d6902",
   "metadata": {
    "ExecuteTime": {
     "end_time": "2023-04-05T06:20:11.908513Z",
     "start_time": "2023-04-05T06:20:11.880440Z"
    }
   },
   "outputs": [
    {
     "data": {
      "text/html": [
       "<div>\n",
       "<style scoped>\n",
       "    .dataframe tbody tr th:only-of-type {\n",
       "        vertical-align: middle;\n",
       "    }\n",
       "\n",
       "    .dataframe tbody tr th {\n",
       "        vertical-align: top;\n",
       "    }\n",
       "\n",
       "    .dataframe thead th {\n",
       "        text-align: right;\n",
       "    }\n",
       "</style>\n",
       "<table border=\"1\" class=\"dataframe\">\n",
       "  <thead>\n",
       "    <tr style=\"text-align: right;\">\n",
       "      <th></th>\n",
       "      <th>subject</th>\n",
       "      <th>repeatCount</th>\n",
       "      <th>priority</th>\n",
       "      <th>alertSubClass</th>\n",
       "      <th>alertCategory</th>\n",
       "      <th>alertSubCategory</th>\n",
       "    </tr>\n",
       "  </thead>\n",
       "  <tbody>\n",
       "    <tr>\n",
       "      <th>9497</th>\n",
       "      <td>3394</td>\n",
       "      <td>2</td>\n",
       "      <td>2</td>\n",
       "      <td>19</td>\n",
       "      <td>0</td>\n",
       "      <td>32</td>\n",
       "    </tr>\n",
       "    <tr>\n",
       "      <th>8339</th>\n",
       "      <td>1200</td>\n",
       "      <td>2</td>\n",
       "      <td>2</td>\n",
       "      <td>8</td>\n",
       "      <td>5</td>\n",
       "      <td>41</td>\n",
       "    </tr>\n",
       "    <tr>\n",
       "      <th>7045</th>\n",
       "      <td>1219</td>\n",
       "      <td>2</td>\n",
       "      <td>1</td>\n",
       "      <td>4</td>\n",
       "      <td>2</td>\n",
       "      <td>48</td>\n",
       "    </tr>\n",
       "    <tr>\n",
       "      <th>5302</th>\n",
       "      <td>1778</td>\n",
       "      <td>2</td>\n",
       "      <td>1</td>\n",
       "      <td>19</td>\n",
       "      <td>1</td>\n",
       "      <td>67</td>\n",
       "    </tr>\n",
       "    <tr>\n",
       "      <th>7095</th>\n",
       "      <td>124</td>\n",
       "      <td>2</td>\n",
       "      <td>1</td>\n",
       "      <td>19</td>\n",
       "      <td>1</td>\n",
       "      <td>67</td>\n",
       "    </tr>\n",
       "    <tr>\n",
       "      <th>...</th>\n",
       "      <td>...</td>\n",
       "      <td>...</td>\n",
       "      <td>...</td>\n",
       "      <td>...</td>\n",
       "      <td>...</td>\n",
       "      <td>...</td>\n",
       "    </tr>\n",
       "    <tr>\n",
       "      <th>5744</th>\n",
       "      <td>1764</td>\n",
       "      <td>2</td>\n",
       "      <td>1</td>\n",
       "      <td>19</td>\n",
       "      <td>1</td>\n",
       "      <td>67</td>\n",
       "    </tr>\n",
       "    <tr>\n",
       "      <th>7058</th>\n",
       "      <td>3076</td>\n",
       "      <td>2</td>\n",
       "      <td>2</td>\n",
       "      <td>10</td>\n",
       "      <td>7</td>\n",
       "      <td>42</td>\n",
       "    </tr>\n",
       "    <tr>\n",
       "      <th>9924</th>\n",
       "      <td>1026</td>\n",
       "      <td>4</td>\n",
       "      <td>0</td>\n",
       "      <td>20</td>\n",
       "      <td>5</td>\n",
       "      <td>2</td>\n",
       "    </tr>\n",
       "    <tr>\n",
       "      <th>9981</th>\n",
       "      <td>1065</td>\n",
       "      <td>2</td>\n",
       "      <td>1</td>\n",
       "      <td>4</td>\n",
       "      <td>2</td>\n",
       "      <td>38</td>\n",
       "    </tr>\n",
       "    <tr>\n",
       "      <th>1383</th>\n",
       "      <td>1539</td>\n",
       "      <td>2</td>\n",
       "      <td>2</td>\n",
       "      <td>17</td>\n",
       "      <td>3</td>\n",
       "      <td>22</td>\n",
       "    </tr>\n",
       "  </tbody>\n",
       "</table>\n",
       "<p>3666 rows × 6 columns</p>\n",
       "</div>"
      ],
      "text/plain": [
       "      subject  repeatCount  priority  alertSubClass  alertCategory  \\\n",
       "9497     3394            2         2             19              0   \n",
       "8339     1200            2         2              8              5   \n",
       "7045     1219            2         1              4              2   \n",
       "5302     1778            2         1             19              1   \n",
       "7095      124            2         1             19              1   \n",
       "...       ...          ...       ...            ...            ...   \n",
       "5744     1764            2         1             19              1   \n",
       "7058     3076            2         2             10              7   \n",
       "9924     1026            4         0             20              5   \n",
       "9981     1065            2         1              4              2   \n",
       "1383     1539            2         2             17              3   \n",
       "\n",
       "      alertSubCategory  \n",
       "9497                32  \n",
       "8339                41  \n",
       "7045                48  \n",
       "5302                67  \n",
       "7095                67  \n",
       "...                ...  \n",
       "5744                67  \n",
       "7058                42  \n",
       "9924                 2  \n",
       "9981                38  \n",
       "1383                22  \n",
       "\n",
       "[3666 rows x 6 columns]"
      ]
     },
     "execution_count": 38,
     "metadata": {},
     "output_type": "execute_result"
    }
   ],
   "source": [
    "X_train"
   ]
  },
  {
   "cell_type": "markdown",
   "id": "99b4df61",
   "metadata": {},
   "source": [
    "# Model Building"
   ]
  },
  {
   "cell_type": "code",
   "execution_count": 39,
   "id": "67726c80",
   "metadata": {
    "ExecuteTime": {
     "end_time": "2023-04-05T06:20:11.935083Z",
     "start_time": "2023-04-05T06:20:11.910659Z"
    }
   },
   "outputs": [],
   "source": [
    "from sklearn.linear_model import LinearRegression\n",
    "from sklearn.metrics import r2_score,mean_absolute_error, mean_squared_error"
   ]
  },
  {
   "cell_type": "code",
   "execution_count": 40,
   "id": "e805b614",
   "metadata": {
    "ExecuteTime": {
     "end_time": "2023-04-05T06:20:11.985341Z",
     "start_time": "2023-04-05T06:20:11.937191Z"
    }
   },
   "outputs": [],
   "source": [
    "from sklearn.linear_model import LinearRegression,Ridge,Lasso\n",
    "from sklearn.neighbors import KNeighborsRegressor\n",
    "from sklearn.tree import DecisionTreeRegressor\n",
    "from sklearn.ensemble import RandomForestRegressor,AdaBoostRegressor\n",
    "from sklearn.svm import SVR"
   ]
  },
  {
   "cell_type": "markdown",
   "id": "b9f0f32a",
   "metadata": {},
   "source": [
    "## Linear Regression"
   ]
  },
  {
   "cell_type": "code",
   "execution_count": 41,
   "id": "e913a107",
   "metadata": {
    "ExecuteTime": {
     "end_time": "2023-04-05T06:20:12.024411Z",
     "start_time": "2023-04-05T06:20:11.987827Z"
    }
   },
   "outputs": [
    {
     "name": "stdout",
     "output_type": "stream",
     "text": [
      "R2 score:  0.030224554750683974\n"
     ]
    }
   ],
   "source": [
    "clf = LinearRegression()\n",
    "clf.fit(X,y)\n",
    "y_pred = clf.predict(X_test)\n",
    "\n",
    "print('R2 score: ',r2_score(y_test,y_pred))\n"
   ]
  },
  {
   "cell_type": "markdown",
   "id": "0c5bd227",
   "metadata": {},
   "source": [
    "## Lasso Regression"
   ]
  },
  {
   "cell_type": "code",
   "execution_count": 42,
   "id": "c62346da",
   "metadata": {
    "ExecuteTime": {
     "end_time": "2023-04-05T06:20:12.058978Z",
     "start_time": "2023-04-05T06:20:12.030832Z"
    }
   },
   "outputs": [
    {
     "name": "stdout",
     "output_type": "stream",
     "text": [
      "R2 score:  0.030224557452085854\n"
     ]
    }
   ],
   "source": [
    "clf1 = Lasso(alpha=0.001)\n",
    "clf1.fit(X,y)\n",
    "y_pred = clf1.predict(X_test)\n",
    "\n",
    "print('R2 score: ',r2_score(y_test,y_pred))\n"
   ]
  },
  {
   "cell_type": "markdown",
   "id": "deaa53f8",
   "metadata": {},
   "source": [
    "## Ridge Regression"
   ]
  },
  {
   "cell_type": "code",
   "execution_count": 43,
   "id": "f53141b7",
   "metadata": {
    "ExecuteTime": {
     "end_time": "2023-04-05T06:20:12.097807Z",
     "start_time": "2023-04-05T06:20:12.064456Z"
    }
   },
   "outputs": [
    {
     "name": "stdout",
     "output_type": "stream",
     "text": [
      "R2 score:  0.030213442855470563\n"
     ]
    }
   ],
   "source": [
    "clf2 = Ridge(alpha=10)\n",
    "clf2.fit(X,y)\n",
    "y_pred = clf2.predict(X_test)\n",
    "\n",
    "print('R2 score: ',r2_score(y_test,y_pred))\n"
   ]
  },
  {
   "cell_type": "markdown",
   "id": "a81ccb08",
   "metadata": {},
   "source": [
    "## KNN"
   ]
  },
  {
   "cell_type": "code",
   "execution_count": 44,
   "id": "754c613c",
   "metadata": {
    "ExecuteTime": {
     "end_time": "2023-04-05T06:20:12.174414Z",
     "start_time": "2023-04-05T06:20:12.107336Z"
    }
   },
   "outputs": [
    {
     "name": "stdout",
     "output_type": "stream",
     "text": [
      "R2 score:  0.7113144251029296\n"
     ]
    }
   ],
   "source": [
    "clf3 = KNeighborsRegressor(n_neighbors=3)\n",
    "clf3.fit(X,y)\n",
    "y_pred = clf3.predict(X_test)\n",
    "\n",
    "print('R2 score: ',r2_score(y_test,y_pred))\n"
   ]
  },
  {
   "cell_type": "markdown",
   "id": "247becd3",
   "metadata": {},
   "source": [
    "## AdaBoost Regressor"
   ]
  },
  {
   "cell_type": "code",
   "execution_count": 45,
   "id": "e84276ab",
   "metadata": {
    "ExecuteTime": {
     "end_time": "2023-04-05T06:20:12.263820Z",
     "start_time": "2023-04-05T06:20:12.184158Z"
    }
   },
   "outputs": [
    {
     "name": "stdout",
     "output_type": "stream",
     "text": [
      "R2 score:  0.5188772445183617\n"
     ]
    }
   ],
   "source": [
    "clf4 = AdaBoostRegressor(n_estimators=15,learning_rate=1.0)\n",
    "clf4.fit(X,y)\n",
    "y_pred = clf4.predict(X_test)\n",
    "\n",
    "print('R2 score: ',r2_score(y_test,y_pred))\n"
   ]
  },
  {
   "cell_type": "markdown",
   "id": "e057c3de",
   "metadata": {},
   "source": [
    "## Random Forest"
   ]
  },
  {
   "cell_type": "code",
   "execution_count": 46,
   "id": "3c18b424",
   "metadata": {
    "ExecuteTime": {
     "end_time": "2023-04-05T06:20:12.647192Z",
     "start_time": "2023-04-05T06:20:12.266741Z"
    }
   },
   "outputs": [
    {
     "name": "stdout",
     "output_type": "stream",
     "text": [
      "R2 score:  0.8169148592440115\n"
     ]
    }
   ],
   "source": [
    "clf5 = RandomForestRegressor(n_estimators=100,\n",
    "                              random_state=3,\n",
    "                              max_samples=0.5,\n",
    "                              max_features=0.75,\n",
    "                              max_depth=15)\n",
    "clf5.fit(X,y)\n",
    "y_pred = clf5.predict(X_test)\n",
    "\n",
    "print('R2 score: ',r2_score(y_test,y_pred))\n"
   ]
  },
  {
   "cell_type": "markdown",
   "id": "c0daafec",
   "metadata": {},
   "source": [
    "## Decision Tree"
   ]
  },
  {
   "cell_type": "code",
   "execution_count": 47,
   "id": "7133bc40",
   "metadata": {
    "ExecuteTime": {
     "end_time": "2023-04-05T06:20:12.664342Z",
     "start_time": "2023-04-05T06:20:12.649455Z"
    }
   },
   "outputs": [
    {
     "name": "stdout",
     "output_type": "stream",
     "text": [
      "R2 score:  0.7606656963697102\n"
     ]
    }
   ],
   "source": [
    "clf6 = DecisionTreeRegressor(max_depth=8)\n",
    "clf6.fit(X,y)\n",
    "y_pred = clf6.predict(X_test)\n",
    "\n",
    "print('R2 score: ',r2_score(y_test,y_pred))\n"
   ]
  },
  {
   "cell_type": "markdown",
   "id": "2ed94b69",
   "metadata": {},
   "source": [
    "## Support Vector Regressor"
   ]
  },
  {
   "cell_type": "code",
   "execution_count": 48,
   "id": "77636790",
   "metadata": {
    "ExecuteTime": {
     "end_time": "2023-04-05T06:20:14.396574Z",
     "start_time": "2023-04-05T06:20:12.667336Z"
    }
   },
   "outputs": [
    {
     "name": "stdout",
     "output_type": "stream",
     "text": [
      "R2 score:  -0.07547436398726948\n"
     ]
    }
   ],
   "source": [
    "from sklearn.svm import SVR\n",
    "clf7 = SVR(kernel='rbf',C=10000,epsilon=0.1)\n",
    "clf7.fit(X,y)\n",
    "y_pred = clf7.predict(X_test)\n",
    "\n",
    "print('R2 score: ',r2_score(y_test,y_pred))\n"
   ]
  }
 ],
 "metadata": {
  "kernelspec": {
   "display_name": "Python 3 (ipykernel)",
   "language": "python",
   "name": "python3"
  },
  "language_info": {
   "codemirror_mode": {
    "name": "ipython",
    "version": 3
   },
   "file_extension": ".py",
   "mimetype": "text/x-python",
   "name": "python",
   "nbconvert_exporter": "python",
   "pygments_lexer": "ipython3",
   "version": "3.10.6"
  },
  "varInspector": {
   "cols": {
    "lenName": 16,
    "lenType": 16,
    "lenVar": 40
   },
   "kernels_config": {
    "python": {
     "delete_cmd_postfix": "",
     "delete_cmd_prefix": "del ",
     "library": "var_list.py",
     "varRefreshCmd": "print(var_dic_list())"
    },
    "r": {
     "delete_cmd_postfix": ") ",
     "delete_cmd_prefix": "rm(",
     "library": "var_list.r",
     "varRefreshCmd": "cat(var_dic_list()) "
    }
   },
   "types_to_exclude": [
    "module",
    "function",
    "builtin_function_or_method",
    "instance",
    "_Feature"
   ],
   "window_display": false
  }
 },
 "nbformat": 4,
 "nbformat_minor": 5
}
